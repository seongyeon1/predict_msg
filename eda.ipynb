{
 "cells": [
  {
   "cell_type": "code",
   "execution_count": 2,
   "metadata": {},
   "outputs": [],
   "source": [
    "import numpy as np\n",
    "\n",
    "# 라이브러리 import\n",
    "import requests \n",
    "import pprint"
   ]
  },
  {
   "cell_type": "code",
   "execution_count": 3,
   "metadata": {},
   "outputs": [],
   "source": [
    "### xml을 DataFrame으로 변환하기\n",
    "from os import name\n",
    "import xml.etree.ElementTree as ex\n",
    "import pandas as pd\n",
    "import bs4\n",
    "from lxml import html\n",
    "from urllib.parse import urlencode, quote_plus, unquote"
   ]
  },
  {
   "cell_type": "code",
   "execution_count": 4,
   "metadata": {},
   "outputs": [],
   "source": [
    "# # 인증키 입력\n",
    "# encoding = 'uZ0UBPnnpAPbTmHq0Y%2FYhhZzwSvxZt9TMF%2For7fIkq%2F4zASVOf2%2FZmncJVbf2Qbesfe3sjiKJG1mbYP6WPc13A%3D%3D'\n",
    "# decoding = 'uZ0UBPnnpAPbTmHq0Y/YhhZzwSvxZt9TMF/or7fIkq/4zASVOf2/ZmncJVbf2Qbesfe3sjiKJG1mbYP6WPc13A=='"
   ]
  },
  {
   "cell_type": "code",
   "execution_count": 5,
   "metadata": {},
   "outputs": [],
   "source": [
    "# url = f'http://apis.data.go.kr/1741000/DisasterMsg3/getDisasterMsg1List?ServiceKey={encoding}&type=xml&pageNo=1&numOfRows=1000'\n",
    "# # params={'ServiceKey' : encoding,\n",
    "# #         'pageNo' : '1',\n",
    "# #         'numOfRows' : '10'}\n",
    "\n",
    "# response = requests.get(url)\n",
    "\n",
    "# # xml 내용\n",
    "# content = response.text\n",
    "\n",
    "# ## 깔끔한 출력을 위한 코드\n",
    "# pp = pprint.PrettyPrinter(indent=4)\n",
    "# print(pp.pprint(content))"
   ]
  },
  {
   "cell_type": "code",
   "execution_count": 6,
   "metadata": {},
   "outputs": [],
   "source": [
    "# xml_obj = bs4.BeautifulSoup(content,'lxml-xml')\n",
    "# rows = xml_obj.findAll('row')"
   ]
  },
  {
   "cell_type": "code",
   "execution_count": 7,
   "metadata": {},
   "outputs": [],
   "source": [
    "from tqdm import tqdm, trange"
   ]
  },
  {
   "cell_type": "code",
   "execution_count": 8,
   "metadata": {},
   "outputs": [],
   "source": [
    "# df_cols=['create_date', 'location_id', 'location_name', 'md101_sn', 'msg', 'send_platform']\n",
    "\n",
    "# row = []\n",
    "# for i in trange(1000):\n",
    "#    url = f'http://apis.data.go.kr/1741000/DisasterMsg3/getDisasterMsg1List?ServiceKey={encoding}&type=xml&pageNo={i+1}&numOfRows=1000'\n",
    "#    response = requests.get(url)\n",
    "\n",
    "#    # xml 내용\n",
    "#    content = response.text\n",
    "#    xml_obj = bs4.BeautifulSoup(content,'lxml-xml')\n",
    "#    rows = xml_obj.findAll('row')\n",
    "\n",
    "#    for node in rows:\n",
    "#       t = {}\n",
    "#       for col in df_cols:\n",
    "#          t[col] = node.find(col).text\n",
    "#          row.append(t)\n",
    "\n"
   ]
  },
  {
   "cell_type": "code",
   "execution_count": 10,
   "metadata": {},
   "outputs": [],
   "source": [
    "# df = pd.DataFrame(row, columns=df_cols) \n",
    "# df = df.drop_duplicates(ignore_index=True)"
   ]
  },
  {
   "cell_type": "code",
   "execution_count": 12,
   "metadata": {},
   "outputs": [],
   "source": [
    "# df.head()"
   ]
  },
  {
   "cell_type": "code",
   "execution_count": 9,
   "metadata": {},
   "outputs": [
    {
     "data": {
      "text/plain": [
       "array(['2023/11/26 17:15:18', '2023/11/26 16:49:36',\n",
       "       '2023/11/26 16:07:58', ..., '2011/11/18 11:38:36',\n",
       "       '2011/11/18 08:20:05', '2011/11/18 07:43:44'], dtype=object)"
      ]
     },
     "execution_count": 9,
     "metadata": {},
     "output_type": "execute_result"
    }
   ],
   "source": [
    "# df.create_date.unique()"
   ]
  },
  {
   "cell_type": "code",
   "execution_count": 9,
   "metadata": {},
   "outputs": [],
   "source": [
    "# df.to_csv('msg.csv', index=False)"
   ]
  },
  {
   "cell_type": "code",
   "execution_count": 11,
   "metadata": {},
   "outputs": [
    {
     "data": {
      "text/plain": [
       "0         [서울경찰청] 서초구에서 배회중인 이갑세씨(남,81세)를 찾습니다 -171cm,남색...\n",
       "1         [경기북부경찰청] 포천시에서 실종된 한말녀씨(여,76세)를 찾습니다 -140cm,4...\n",
       "2         [이천시] 오늘 15:30경 모가면 소사리 폐차장에서 화재 사고 발생. 검은 연기가...\n",
       "3         [서울경찰청] 강남구에서 실종된 이갑세씨(남,81세)를 찾습니다 -163cm,남색패...\n",
       "4         [인천경찰청] 부평구에서 실종된 조태용씨(남,79세)를 찾습니다 -160cm,50k...\n",
       "                                ...                        \n",
       "185349    [국민안전처]20일 12시 동해중부먼바다 풍랑경보, 어선은 출항을 금지하고 출어선은...\n",
       "185350    [국민안전처] 18일21시10분 전남 해남지역 호우경보, 상습침수및위험지역 대피,외...\n",
       "185351    [국민안전처] 18일11시30분 제주동부지역 호우경보, 상습침수및위험지역 대피,외출...\n",
       "185352    [국민안전처] 18일8시20분 제주산간,북부지역 호우경보, 상습침수및위험지역 대피,...\n",
       "185353    [국민안전처] 18일07:30 제주서부지역 호우경보, 상습침수및위험지역 대피,외출자...\n",
       "Name: msg, Length: 185354, dtype: object"
      ]
     },
     "execution_count": 11,
     "metadata": {},
     "output_type": "execute_result"
    }
   ],
   "source": [
    "df.msg"
   ]
  },
  {
   "cell_type": "markdown",
   "metadata": {},
   "source": [
    "## Load"
   ]
  },
  {
   "cell_type": "code",
   "execution_count": 10,
   "metadata": {},
   "outputs": [],
   "source": [
    "df = pd.read_csv('msg.csv')"
   ]
  },
  {
   "cell_type": "code",
   "execution_count": 49,
   "metadata": {},
   "outputs": [],
   "source": [
    "from collections import Counter"
   ]
  },
  {
   "cell_type": "code",
   "execution_count": 51,
   "metadata": {},
   "outputs": [
    {
     "data": {
      "text/plain": [
       "[('98', 4299),\n",
       " ('119', 3560),\n",
       " ('217', 2531),\n",
       " ('104', 2524),\n",
       " ('179', 2504),\n",
       " ('162', 2502),\n",
       " ('74', 2443),\n",
       " ('113', 2305),\n",
       " ('6474', 2168),\n",
       " ('68', 2070)]"
      ]
     },
     "execution_count": 51,
     "metadata": {},
     "output_type": "execute_result"
    }
   ],
   "source": [
    "Counter([ i for idxes in df.location_id.str.split(',').tolist() for i in idxes]).most_common(10)"
   ]
  },
  {
   "cell_type": "code",
   "execution_count": 13,
   "metadata": {},
   "outputs": [
    {
     "data": {
      "text/plain": [
       "0         [서울경찰청] 서초구에서 배회중인 이갑세씨(남,81세)를 찾습니다 -171cm,남색...\n",
       "1         [경기북부경찰청] 포천시에서 실종된 한말녀씨(여,76세)를 찾습니다 -140cm,4...\n",
       "2         [이천시] 오늘 15:30경 모가면 소사리 폐차장에서 화재 사고 발생. 검은 연기가...\n",
       "3         [서울경찰청] 강남구에서 실종된 이갑세씨(남,81세)를 찾습니다 -163cm,남색패...\n",
       "4         [인천경찰청] 부평구에서 실종된 조태용씨(남,79세)를 찾습니다 -160cm,50k...\n",
       "                                ...                        \n",
       "185349    [국민안전처]20일 12시 동해중부먼바다 풍랑경보, 어선은 출항을 금지하고 출어선은...\n",
       "185350    [국민안전처] 18일21시10분 전남 해남지역 호우경보, 상습침수및위험지역 대피,외...\n",
       "185351    [국민안전처] 18일11시30분 제주동부지역 호우경보, 상습침수및위험지역 대피,외출...\n",
       "185352    [국민안전처] 18일8시20분 제주산간,북부지역 호우경보, 상습침수및위험지역 대피,...\n",
       "185353    [국민안전처] 18일07:30 제주서부지역 호우경보, 상습침수및위험지역 대피,외출자...\n",
       "Name: msg, Length: 185354, dtype: object"
      ]
     },
     "execution_count": 13,
     "metadata": {},
     "output_type": "execute_result"
    }
   ],
   "source": [
    "df.msg"
   ]
  },
  {
   "cell_type": "code",
   "execution_count": 14,
   "metadata": {},
   "outputs": [],
   "source": [
    "df.dropna(inplace=True)"
   ]
  },
  {
   "cell_type": "code",
   "execution_count": 13,
   "metadata": {},
   "outputs": [],
   "source": [
    "import re"
   ]
  },
  {
   "cell_type": "code",
   "execution_count": 14,
   "metadata": {},
   "outputs": [],
   "source": [
    "p = re.compile('\\[([^]]+)')\n",
    "\n",
    "df['cast'] = df.msg.dropna().apply(lambda x: p.findall(x)).str[0]"
   ]
  },
  {
   "cell_type": "code",
   "execution_count": 15,
   "metadata": {},
   "outputs": [],
   "source": [
    "p = re.compile('\\(([^)]+)')\n",
    "\n",
    "df['missing'] = df.msg.dropna().apply(lambda x: p.findall(x)).str[0]"
   ]
  },
  {
   "cell_type": "code",
   "execution_count": 16,
   "metadata": {},
   "outputs": [],
   "source": [
    "df.msg =df.msg.dropna().apply(lambda x: re.sub('\\[([^]]+)','',x)).str.strip('] ')"
   ]
  },
  {
   "cell_type": "code",
   "execution_count": 33,
   "metadata": {},
   "outputs": [],
   "source": [
    "df.to_csv('msg2.csv', index=False)"
   ]
  },
  {
   "cell_type": "code",
   "execution_count": 36,
   "metadata": {},
   "outputs": [
    {
     "data": {
      "text/plain": [
       "1292"
      ]
     },
     "execution_count": 36,
     "metadata": {},
     "output_type": "execute_result"
    }
   ],
   "source": [
    "df.cast.nunique()"
   ]
  },
  {
   "cell_type": "code",
   "execution_count": 43,
   "metadata": {},
   "outputs": [],
   "source": [
    "i = df.cast.value_counts().index.tolist()[0]"
   ]
  },
  {
   "cell_type": "code",
   "execution_count": 44,
   "metadata": {},
   "outputs": [
    {
     "data": {
      "text/html": [
       "<div>\n",
       "<style scoped>\n",
       "    .dataframe tbody tr th:only-of-type {\n",
       "        vertical-align: middle;\n",
       "    }\n",
       "\n",
       "    .dataframe tbody tr th {\n",
       "        vertical-align: top;\n",
       "    }\n",
       "\n",
       "    .dataframe thead th {\n",
       "        text-align: right;\n",
       "    }\n",
       "</style>\n",
       "<table border=\"1\" class=\"dataframe\">\n",
       "  <thead>\n",
       "    <tr style=\"text-align: right;\">\n",
       "      <th></th>\n",
       "      <th>create_date</th>\n",
       "      <th>location_id</th>\n",
       "      <th>location_name</th>\n",
       "      <th>md101_sn</th>\n",
       "      <th>msg</th>\n",
       "      <th>send_platform</th>\n",
       "      <th>cast</th>\n",
       "      <th>missing</th>\n",
       "      <th>age</th>\n",
       "    </tr>\n",
       "  </thead>\n",
       "  <tbody>\n",
       "    <tr>\n",
       "      <th>200</th>\n",
       "      <td>2023/11/18 05:13:35</td>\n",
       "      <td>98</td>\n",
       "      <td>광주광역시 전체</td>\n",
       "      <td>206812</td>\n",
       "      <td>4시 40분 대설주의보 발효. 약 5cm 적설 될 것으로 예상되고 강한 바람이 예상...</td>\n",
       "      <td>cbs</td>\n",
       "      <td>광주광역시</td>\n",
       "      <td>NaN</td>\n",
       "      <td>NaN</td>\n",
       "    </tr>\n",
       "    <tr>\n",
       "      <th>1814</th>\n",
       "      <td>2023/09/16 13:53:09</td>\n",
       "      <td>98</td>\n",
       "      <td>광주광역시 전체</td>\n",
       "      <td>205198</td>\n",
       "      <td>광주지역 호우주의보 발효 낙뢰를 동반한 50~150mm의 강한 비가 예상 되므로 하...</td>\n",
       "      <td>cbs</td>\n",
       "      <td>광주광역시</td>\n",
       "      <td>NaN</td>\n",
       "      <td>NaN</td>\n",
       "    </tr>\n",
       "    <tr>\n",
       "      <th>2150</th>\n",
       "      <td>2023/09/04 10:44:53</td>\n",
       "      <td>98</td>\n",
       "      <td>광주광역시 전체</td>\n",
       "      <td>204862</td>\n",
       "      <td>10시 폭염주의보 발효. 현재 체감온도 31℃. 부모님께 안부전화해 주시고, 야외활...</td>\n",
       "      <td>cbs</td>\n",
       "      <td>광주광역시</td>\n",
       "      <td>NaN</td>\n",
       "      <td>NaN</td>\n",
       "    </tr>\n",
       "    <tr>\n",
       "      <th>2442</th>\n",
       "      <td>2023/08/29 17:50:09</td>\n",
       "      <td>98</td>\n",
       "      <td>광주광역시 전체</td>\n",
       "      <td>204570</td>\n",
       "      <td>모레까지 50~120mm의 많은 비가 예상되므로 저지대, 하천변 산책로, 경사지 접...</td>\n",
       "      <td>cbs</td>\n",
       "      <td>광주광역시</td>\n",
       "      <td>NaN</td>\n",
       "      <td>NaN</td>\n",
       "    </tr>\n",
       "    <tr>\n",
       "      <th>2764</th>\n",
       "      <td>2023/08/23 16:53:12</td>\n",
       "      <td>98</td>\n",
       "      <td>광주광역시 전체</td>\n",
       "      <td>204248</td>\n",
       "      <td>현재 100mm이상 예상되는 강한 비가 내리고 있으니, 하천변 산책로, 야영장, 산...</td>\n",
       "      <td>cbs</td>\n",
       "      <td>광주광역시</td>\n",
       "      <td>NaN</td>\n",
       "      <td>NaN</td>\n",
       "    </tr>\n",
       "    <tr>\n",
       "      <th>...</th>\n",
       "      <td>...</td>\n",
       "      <td>...</td>\n",
       "      <td>...</td>\n",
       "      <td>...</td>\n",
       "      <td>...</td>\n",
       "      <td>...</td>\n",
       "      <td>...</td>\n",
       "      <td>...</td>\n",
       "      <td>...</td>\n",
       "    </tr>\n",
       "    <tr>\n",
       "      <th>180835</th>\n",
       "      <td>2020/01/24 15:00:02</td>\n",
       "      <td>98</td>\n",
       "      <td>광주광역시 전체</td>\n",
       "      <td>25024</td>\n",
       "      <td>신종 코로나바이러스감염증 예방을 위해 손씻기, 기침예절, 마스크 착용 등 수칙 준수...</td>\n",
       "      <td>cbs</td>\n",
       "      <td>광주광역시</td>\n",
       "      <td>NaN</td>\n",
       "      <td>NaN</td>\n",
       "    </tr>\n",
       "    <tr>\n",
       "      <th>181215</th>\n",
       "      <td>2019/09/07 07:37:21</td>\n",
       "      <td>98</td>\n",
       "      <td>광주광역시 전체</td>\n",
       "      <td>24642</td>\n",
       "      <td>태풍(링링)이 오늘 7:30 광주와 가장 근접 지역을 지나가고 있음. 열린 창문이 ...</td>\n",
       "      <td>cbs</td>\n",
       "      <td>광주광역시</td>\n",
       "      <td>링링</td>\n",
       "      <td>NaN</td>\n",
       "    </tr>\n",
       "    <tr>\n",
       "      <th>182915</th>\n",
       "      <td>2017/08/21 02:03:59</td>\n",
       "      <td>98</td>\n",
       "      <td>광주광역시 전체</td>\n",
       "      <td>2912</td>\n",
       "      <td>현재 광주지역 호우주의보 발효 중, 산사태, 상습침수 등 위험지역 대피, 외출자제 ...</td>\n",
       "      <td>cbs</td>\n",
       "      <td>광주광역시</td>\n",
       "      <td>NaN</td>\n",
       "      <td>NaN</td>\n",
       "    </tr>\n",
       "    <tr>\n",
       "      <th>182916</th>\n",
       "      <td>2017/08/20 20:22:34</td>\n",
       "      <td>98</td>\n",
       "      <td>광주광역시 전체</td>\n",
       "      <td>2911</td>\n",
       "      <td>구입한 계란의 껍질에 \"13SCK\", \"13정화\"로 표시된 것은 구입처에 반품하시기...</td>\n",
       "      <td>cbs</td>\n",
       "      <td>광주광역시</td>\n",
       "      <td>062-613-3983</td>\n",
       "      <td>NaN</td>\n",
       "    </tr>\n",
       "    <tr>\n",
       "      <th>183190</th>\n",
       "      <td>2017/07/08 08:36:29</td>\n",
       "      <td>98</td>\n",
       "      <td>광주광역시 전체</td>\n",
       "      <td>2623</td>\n",
       "      <td>천둥번개 동반한 국지성 호우가 있으므로 야외활동 자제, 산간계곡 야영객 대피 등 안...</td>\n",
       "      <td>cbs</td>\n",
       "      <td>광주광역시</td>\n",
       "      <td>NaN</td>\n",
       "      <td>NaN</td>\n",
       "    </tr>\n",
       "  </tbody>\n",
       "</table>\n",
       "<p>3297 rows × 9 columns</p>\n",
       "</div>"
      ],
      "text/plain": [
       "                create_date location_id location_name  md101_sn  \\\n",
       "200     2023/11/18 05:13:35          98      광주광역시 전체    206812   \n",
       "1814    2023/09/16 13:53:09          98      광주광역시 전체    205198   \n",
       "2150    2023/09/04 10:44:53          98      광주광역시 전체    204862   \n",
       "2442    2023/08/29 17:50:09          98      광주광역시 전체    204570   \n",
       "2764    2023/08/23 16:53:12          98      광주광역시 전체    204248   \n",
       "...                     ...         ...           ...       ...   \n",
       "180835  2020/01/24 15:00:02          98      광주광역시 전체     25024   \n",
       "181215  2019/09/07 07:37:21          98      광주광역시 전체     24642   \n",
       "182915  2017/08/21 02:03:59          98      광주광역시 전체      2912   \n",
       "182916  2017/08/20 20:22:34          98      광주광역시 전체      2911   \n",
       "183190  2017/07/08 08:36:29          98      광주광역시 전체      2623   \n",
       "\n",
       "                                                      msg send_platform  \\\n",
       "200     4시 40분 대설주의보 발효. 약 5cm 적설 될 것으로 예상되고 강한 바람이 예상...           cbs   \n",
       "1814    광주지역 호우주의보 발효 낙뢰를 동반한 50~150mm의 강한 비가 예상 되므로 하...           cbs   \n",
       "2150    10시 폭염주의보 발효. 현재 체감온도 31℃. 부모님께 안부전화해 주시고, 야외활...           cbs   \n",
       "2442    모레까지 50~120mm의 많은 비가 예상되므로 저지대, 하천변 산책로, 경사지 접...           cbs   \n",
       "2764    현재 100mm이상 예상되는 강한 비가 내리고 있으니, 하천변 산책로, 야영장, 산...           cbs   \n",
       "...                                                   ...           ...   \n",
       "180835  신종 코로나바이러스감염증 예방을 위해 손씻기, 기침예절, 마스크 착용 등 수칙 준수...           cbs   \n",
       "181215  태풍(링링)이 오늘 7:30 광주와 가장 근접 지역을 지나가고 있음. 열린 창문이 ...           cbs   \n",
       "182915  현재 광주지역 호우주의보 발효 중, 산사태, 상습침수 등 위험지역 대피, 외출자제 ...           cbs   \n",
       "182916  구입한 계란의 껍질에 \"13SCK\", \"13정화\"로 표시된 것은 구입처에 반품하시기...           cbs   \n",
       "183190  천둥번개 동반한 국지성 호우가 있으므로 야외활동 자제, 산간계곡 야영객 대피 등 안...           cbs   \n",
       "\n",
       "         cast       missing  age  \n",
       "200     광주광역시           NaN  NaN  \n",
       "1814    광주광역시           NaN  NaN  \n",
       "2150    광주광역시           NaN  NaN  \n",
       "2442    광주광역시           NaN  NaN  \n",
       "2764    광주광역시           NaN  NaN  \n",
       "...       ...           ...  ...  \n",
       "180835  광주광역시           NaN  NaN  \n",
       "181215  광주광역시            링링  NaN  \n",
       "182915  광주광역시           NaN  NaN  \n",
       "182916  광주광역시  062-613-3983  NaN  \n",
       "183190  광주광역시           NaN  NaN  \n",
       "\n",
       "[3297 rows x 9 columns]"
      ]
     },
     "execution_count": 44,
     "metadata": {},
     "output_type": "execute_result"
    }
   ],
   "source": [
    "df[df.cast == i]"
   ]
  },
  {
   "cell_type": "code",
   "execution_count": null,
   "metadata": {},
   "outputs": [],
   "source": [
    "kw_model = KeyBERT()"
   ]
  },
  {
   "cell_type": "code",
   "execution_count": 45,
   "metadata": {},
   "outputs": [
    {
     "name": "stderr",
     "output_type": "stream",
     "text": [
      "  0%|          | 0/3297 [00:00<?, ?it/s]"
     ]
    },
    {
     "name": "stderr",
     "output_type": "stream",
     "text": [
      "100%|██████████| 3297/3297 [18:30<00:00,  2.97it/s]\n",
      "/var/folders/1b/dx8_94fs0q740wx3lfknk6y40000gn/T/ipykernel_42031/3950971282.py:3: SettingWithCopyWarning: \n",
      "A value is trying to be set on a copy of a slice from a DataFrame.\n",
      "Try using .loc[row_indexer,col_indexer] = value instead\n",
      "\n",
      "See the caveats in the documentation: https://pandas.pydata.org/pandas-docs/stable/user_guide/indexing.html#returning-a-view-versus-a-copy\n",
      "  tmp['keyword'] = tmp.msg.progress_apply(lambda x: kw_model.extract_keywords(x, keyphrase_ngram_range=(2,4), use_maxsum = True, top_n = 1))\n"
     ]
    },
    {
     "name": "stdout",
     "output_type": "stream",
     "text": [
      "{i} complete\n"
     ]
    },
    {
     "name": "stderr",
     "output_type": "stream",
     "text": [
      "100%|██████████| 2866/2866 [15:02<00:00,  3.18it/s]\n",
      "/var/folders/1b/dx8_94fs0q740wx3lfknk6y40000gn/T/ipykernel_42031/3950971282.py:3: SettingWithCopyWarning: \n",
      "A value is trying to be set on a copy of a slice from a DataFrame.\n",
      "Try using .loc[row_indexer,col_indexer] = value instead\n",
      "\n",
      "See the caveats in the documentation: https://pandas.pydata.org/pandas-docs/stable/user_guide/indexing.html#returning-a-view-versus-a-copy\n",
      "  tmp['keyword'] = tmp.msg.progress_apply(lambda x: kw_model.extract_keywords(x, keyphrase_ngram_range=(2,4), use_maxsum = True, top_n = 1))\n"
     ]
    },
    {
     "name": "stdout",
     "output_type": "stream",
     "text": [
      "{i} complete\n"
     ]
    },
    {
     "name": "stderr",
     "output_type": "stream",
     "text": [
      "100%|██████████| 2512/2512 [14:12<00:00,  2.94it/s]\n",
      "/var/folders/1b/dx8_94fs0q740wx3lfknk6y40000gn/T/ipykernel_42031/3950971282.py:3: SettingWithCopyWarning: \n",
      "A value is trying to be set on a copy of a slice from a DataFrame.\n",
      "Try using .loc[row_indexer,col_indexer] = value instead\n",
      "\n",
      "See the caveats in the documentation: https://pandas.pydata.org/pandas-docs/stable/user_guide/indexing.html#returning-a-view-versus-a-copy\n",
      "  tmp['keyword'] = tmp.msg.progress_apply(lambda x: kw_model.extract_keywords(x, keyphrase_ngram_range=(2,4), use_maxsum = True, top_n = 1))\n"
     ]
    },
    {
     "name": "stdout",
     "output_type": "stream",
     "text": [
      "{i} complete\n"
     ]
    },
    {
     "name": "stderr",
     "output_type": "stream",
     "text": [
      "100%|██████████| 1878/1878 [39:50<00:00,  1.27s/it]    \n",
      "/var/folders/1b/dx8_94fs0q740wx3lfknk6y40000gn/T/ipykernel_42031/3950971282.py:3: SettingWithCopyWarning: \n",
      "A value is trying to be set on a copy of a slice from a DataFrame.\n",
      "Try using .loc[row_indexer,col_indexer] = value instead\n",
      "\n",
      "See the caveats in the documentation: https://pandas.pydata.org/pandas-docs/stable/user_guide/indexing.html#returning-a-view-versus-a-copy\n",
      "  tmp['keyword'] = tmp.msg.progress_apply(lambda x: kw_model.extract_keywords(x, keyphrase_ngram_range=(2,4), use_maxsum = True, top_n = 1))\n"
     ]
    },
    {
     "name": "stdout",
     "output_type": "stream",
     "text": [
      "{i} complete\n"
     ]
    },
    {
     "name": "stderr",
     "output_type": "stream",
     "text": [
      "100%|██████████| 1859/1859 [1:46:22<00:00,  3.43s/it]    \n",
      "/var/folders/1b/dx8_94fs0q740wx3lfknk6y40000gn/T/ipykernel_42031/3950971282.py:3: SettingWithCopyWarning: \n",
      "A value is trying to be set on a copy of a slice from a DataFrame.\n",
      "Try using .loc[row_indexer,col_indexer] = value instead\n",
      "\n",
      "See the caveats in the documentation: https://pandas.pydata.org/pandas-docs/stable/user_guide/indexing.html#returning-a-view-versus-a-copy\n",
      "  tmp['keyword'] = tmp.msg.progress_apply(lambda x: kw_model.extract_keywords(x, keyphrase_ngram_range=(2,4), use_maxsum = True, top_n = 1))\n"
     ]
    },
    {
     "name": "stdout",
     "output_type": "stream",
     "text": [
      "{i} complete\n"
     ]
    },
    {
     "name": "stderr",
     "output_type": "stream",
     "text": [
      "100%|██████████| 1729/1729 [12:59<00:00,  2.22it/s]\n",
      "/var/folders/1b/dx8_94fs0q740wx3lfknk6y40000gn/T/ipykernel_42031/3950971282.py:3: SettingWithCopyWarning: \n",
      "A value is trying to be set on a copy of a slice from a DataFrame.\n",
      "Try using .loc[row_indexer,col_indexer] = value instead\n",
      "\n",
      "See the caveats in the documentation: https://pandas.pydata.org/pandas-docs/stable/user_guide/indexing.html#returning-a-view-versus-a-copy\n",
      "  tmp['keyword'] = tmp.msg.progress_apply(lambda x: kw_model.extract_keywords(x, keyphrase_ngram_range=(2,4), use_maxsum = True, top_n = 1))\n"
     ]
    },
    {
     "name": "stdout",
     "output_type": "stream",
     "text": [
      "{i} complete\n"
     ]
    },
    {
     "name": "stderr",
     "output_type": "stream",
     "text": [
      "100%|██████████| 1713/1713 [4:20:06<00:00,  9.11s/it]    \n",
      "/var/folders/1b/dx8_94fs0q740wx3lfknk6y40000gn/T/ipykernel_42031/3950971282.py:3: SettingWithCopyWarning: \n",
      "A value is trying to be set on a copy of a slice from a DataFrame.\n",
      "Try using .loc[row_indexer,col_indexer] = value instead\n",
      "\n",
      "See the caveats in the documentation: https://pandas.pydata.org/pandas-docs/stable/user_guide/indexing.html#returning-a-view-versus-a-copy\n",
      "  tmp['keyword'] = tmp.msg.progress_apply(lambda x: kw_model.extract_keywords(x, keyphrase_ngram_range=(2,4), use_maxsum = True, top_n = 1))\n"
     ]
    },
    {
     "name": "stdout",
     "output_type": "stream",
     "text": [
      "{i} complete\n"
     ]
    },
    {
     "name": "stderr",
     "output_type": "stream",
     "text": [
      "100%|██████████| 1659/1659 [1:32:32<00:00,  3.35s/it]   \n",
      "/var/folders/1b/dx8_94fs0q740wx3lfknk6y40000gn/T/ipykernel_42031/3950971282.py:3: SettingWithCopyWarning: \n",
      "A value is trying to be set on a copy of a slice from a DataFrame.\n",
      "Try using .loc[row_indexer,col_indexer] = value instead\n",
      "\n",
      "See the caveats in the documentation: https://pandas.pydata.org/pandas-docs/stable/user_guide/indexing.html#returning-a-view-versus-a-copy\n",
      "  tmp['keyword'] = tmp.msg.progress_apply(lambda x: kw_model.extract_keywords(x, keyphrase_ngram_range=(2,4), use_maxsum = True, top_n = 1))\n"
     ]
    },
    {
     "name": "stdout",
     "output_type": "stream",
     "text": [
      "{i} complete\n"
     ]
    },
    {
     "name": "stderr",
     "output_type": "stream",
     "text": [
      "100%|██████████| 1653/1653 [07:51<00:00,  3.51it/s]\n",
      "/var/folders/1b/dx8_94fs0q740wx3lfknk6y40000gn/T/ipykernel_42031/3950971282.py:3: SettingWithCopyWarning: \n",
      "A value is trying to be set on a copy of a slice from a DataFrame.\n",
      "Try using .loc[row_indexer,col_indexer] = value instead\n",
      "\n",
      "See the caveats in the documentation: https://pandas.pydata.org/pandas-docs/stable/user_guide/indexing.html#returning-a-view-versus-a-copy\n",
      "  tmp['keyword'] = tmp.msg.progress_apply(lambda x: kw_model.extract_keywords(x, keyphrase_ngram_range=(2,4), use_maxsum = True, top_n = 1))\n"
     ]
    },
    {
     "name": "stdout",
     "output_type": "stream",
     "text": [
      "{i} complete\n"
     ]
    },
    {
     "name": "stderr",
     "output_type": "stream",
     "text": [
      "100%|██████████| 1550/1550 [08:11<00:00,  3.15it/s]\n",
      "/var/folders/1b/dx8_94fs0q740wx3lfknk6y40000gn/T/ipykernel_42031/3950971282.py:3: SettingWithCopyWarning: \n",
      "A value is trying to be set on a copy of a slice from a DataFrame.\n",
      "Try using .loc[row_indexer,col_indexer] = value instead\n",
      "\n",
      "See the caveats in the documentation: https://pandas.pydata.org/pandas-docs/stable/user_guide/indexing.html#returning-a-view-versus-a-copy\n",
      "  tmp['keyword'] = tmp.msg.progress_apply(lambda x: kw_model.extract_keywords(x, keyphrase_ngram_range=(2,4), use_maxsum = True, top_n = 1))\n"
     ]
    },
    {
     "name": "stdout",
     "output_type": "stream",
     "text": [
      "{i} complete\n"
     ]
    },
    {
     "name": "stderr",
     "output_type": "stream",
     "text": [
      "100%|██████████| 1535/1535 [08:28<00:00,  3.02it/s]\n",
      "/var/folders/1b/dx8_94fs0q740wx3lfknk6y40000gn/T/ipykernel_42031/3950971282.py:3: SettingWithCopyWarning: \n",
      "A value is trying to be set on a copy of a slice from a DataFrame.\n",
      "Try using .loc[row_indexer,col_indexer] = value instead\n",
      "\n",
      "See the caveats in the documentation: https://pandas.pydata.org/pandas-docs/stable/user_guide/indexing.html#returning-a-view-versus-a-copy\n",
      "  tmp['keyword'] = tmp.msg.progress_apply(lambda x: kw_model.extract_keywords(x, keyphrase_ngram_range=(2,4), use_maxsum = True, top_n = 1))\n"
     ]
    },
    {
     "name": "stdout",
     "output_type": "stream",
     "text": [
      "{i} complete\n"
     ]
    },
    {
     "name": "stderr",
     "output_type": "stream",
     "text": [
      "100%|██████████| 1526/1526 [08:23<00:00,  3.03it/s]\n",
      "/var/folders/1b/dx8_94fs0q740wx3lfknk6y40000gn/T/ipykernel_42031/3950971282.py:3: SettingWithCopyWarning: \n",
      "A value is trying to be set on a copy of a slice from a DataFrame.\n",
      "Try using .loc[row_indexer,col_indexer] = value instead\n",
      "\n",
      "See the caveats in the documentation: https://pandas.pydata.org/pandas-docs/stable/user_guide/indexing.html#returning-a-view-versus-a-copy\n",
      "  tmp['keyword'] = tmp.msg.progress_apply(lambda x: kw_model.extract_keywords(x, keyphrase_ngram_range=(2,4), use_maxsum = True, top_n = 1))\n"
     ]
    },
    {
     "name": "stdout",
     "output_type": "stream",
     "text": [
      "{i} complete\n"
     ]
    },
    {
     "name": "stderr",
     "output_type": "stream",
     "text": [
      "100%|██████████| 1456/1456 [08:11<00:00,  2.96it/s]\n",
      "/var/folders/1b/dx8_94fs0q740wx3lfknk6y40000gn/T/ipykernel_42031/3950971282.py:3: SettingWithCopyWarning: \n",
      "A value is trying to be set on a copy of a slice from a DataFrame.\n",
      "Try using .loc[row_indexer,col_indexer] = value instead\n",
      "\n",
      "See the caveats in the documentation: https://pandas.pydata.org/pandas-docs/stable/user_guide/indexing.html#returning-a-view-versus-a-copy\n",
      "  tmp['keyword'] = tmp.msg.progress_apply(lambda x: kw_model.extract_keywords(x, keyphrase_ngram_range=(2,4), use_maxsum = True, top_n = 1))\n"
     ]
    },
    {
     "name": "stdout",
     "output_type": "stream",
     "text": [
      "{i} complete\n"
     ]
    },
    {
     "name": "stderr",
     "output_type": "stream",
     "text": [
      "100%|██████████| 1447/1447 [07:37<00:00,  3.16it/s]\n",
      "/var/folders/1b/dx8_94fs0q740wx3lfknk6y40000gn/T/ipykernel_42031/3950971282.py:3: SettingWithCopyWarning: \n",
      "A value is trying to be set on a copy of a slice from a DataFrame.\n",
      "Try using .loc[row_indexer,col_indexer] = value instead\n",
      "\n",
      "See the caveats in the documentation: https://pandas.pydata.org/pandas-docs/stable/user_guide/indexing.html#returning-a-view-versus-a-copy\n",
      "  tmp['keyword'] = tmp.msg.progress_apply(lambda x: kw_model.extract_keywords(x, keyphrase_ngram_range=(2,4), use_maxsum = True, top_n = 1))\n"
     ]
    },
    {
     "name": "stdout",
     "output_type": "stream",
     "text": [
      "{i} complete\n"
     ]
    },
    {
     "name": "stderr",
     "output_type": "stream",
     "text": [
      "100%|██████████| 1399/1399 [07:31<00:00,  3.10it/s]\n",
      "/var/folders/1b/dx8_94fs0q740wx3lfknk6y40000gn/T/ipykernel_42031/3950971282.py:3: SettingWithCopyWarning: \n",
      "A value is trying to be set on a copy of a slice from a DataFrame.\n",
      "Try using .loc[row_indexer,col_indexer] = value instead\n",
      "\n",
      "See the caveats in the documentation: https://pandas.pydata.org/pandas-docs/stable/user_guide/indexing.html#returning-a-view-versus-a-copy\n",
      "  tmp['keyword'] = tmp.msg.progress_apply(lambda x: kw_model.extract_keywords(x, keyphrase_ngram_range=(2,4), use_maxsum = True, top_n = 1))\n"
     ]
    },
    {
     "name": "stdout",
     "output_type": "stream",
     "text": [
      "{i} complete\n"
     ]
    },
    {
     "name": "stderr",
     "output_type": "stream",
     "text": [
      "100%|██████████| 1357/1357 [07:02<00:00,  3.21it/s]\n",
      "/var/folders/1b/dx8_94fs0q740wx3lfknk6y40000gn/T/ipykernel_42031/3950971282.py:3: SettingWithCopyWarning: \n",
      "A value is trying to be set on a copy of a slice from a DataFrame.\n",
      "Try using .loc[row_indexer,col_indexer] = value instead\n",
      "\n",
      "See the caveats in the documentation: https://pandas.pydata.org/pandas-docs/stable/user_guide/indexing.html#returning-a-view-versus-a-copy\n",
      "  tmp['keyword'] = tmp.msg.progress_apply(lambda x: kw_model.extract_keywords(x, keyphrase_ngram_range=(2,4), use_maxsum = True, top_n = 1))\n"
     ]
    },
    {
     "name": "stdout",
     "output_type": "stream",
     "text": [
      "{i} complete\n"
     ]
    },
    {
     "name": "stderr",
     "output_type": "stream",
     "text": [
      "100%|██████████| 1351/1351 [06:01<00:00,  3.74it/s]\n",
      "/var/folders/1b/dx8_94fs0q740wx3lfknk6y40000gn/T/ipykernel_42031/3950971282.py:3: SettingWithCopyWarning: \n",
      "A value is trying to be set on a copy of a slice from a DataFrame.\n",
      "Try using .loc[row_indexer,col_indexer] = value instead\n",
      "\n",
      "See the caveats in the documentation: https://pandas.pydata.org/pandas-docs/stable/user_guide/indexing.html#returning-a-view-versus-a-copy\n",
      "  tmp['keyword'] = tmp.msg.progress_apply(lambda x: kw_model.extract_keywords(x, keyphrase_ngram_range=(2,4), use_maxsum = True, top_n = 1))\n"
     ]
    },
    {
     "name": "stdout",
     "output_type": "stream",
     "text": [
      "{i} complete\n"
     ]
    },
    {
     "name": "stderr",
     "output_type": "stream",
     "text": [
      "100%|██████████| 1303/1303 [05:11<00:00,  4.18it/s]\n",
      "/var/folders/1b/dx8_94fs0q740wx3lfknk6y40000gn/T/ipykernel_42031/3950971282.py:3: SettingWithCopyWarning: \n",
      "A value is trying to be set on a copy of a slice from a DataFrame.\n",
      "Try using .loc[row_indexer,col_indexer] = value instead\n",
      "\n",
      "See the caveats in the documentation: https://pandas.pydata.org/pandas-docs/stable/user_guide/indexing.html#returning-a-view-versus-a-copy\n",
      "  tmp['keyword'] = tmp.msg.progress_apply(lambda x: kw_model.extract_keywords(x, keyphrase_ngram_range=(2,4), use_maxsum = True, top_n = 1))\n"
     ]
    },
    {
     "name": "stdout",
     "output_type": "stream",
     "text": [
      "{i} complete\n"
     ]
    },
    {
     "name": "stderr",
     "output_type": "stream",
     "text": [
      "100%|██████████| 1284/1284 [05:19<00:00,  4.02it/s]\n",
      "/var/folders/1b/dx8_94fs0q740wx3lfknk6y40000gn/T/ipykernel_42031/3950971282.py:3: SettingWithCopyWarning: \n",
      "A value is trying to be set on a copy of a slice from a DataFrame.\n",
      "Try using .loc[row_indexer,col_indexer] = value instead\n",
      "\n",
      "See the caveats in the documentation: https://pandas.pydata.org/pandas-docs/stable/user_guide/indexing.html#returning-a-view-versus-a-copy\n",
      "  tmp['keyword'] = tmp.msg.progress_apply(lambda x: kw_model.extract_keywords(x, keyphrase_ngram_range=(2,4), use_maxsum = True, top_n = 1))\n"
     ]
    },
    {
     "name": "stdout",
     "output_type": "stream",
     "text": [
      "{i} complete\n"
     ]
    },
    {
     "name": "stderr",
     "output_type": "stream",
     "text": [
      "100%|██████████| 1265/1265 [04:50<00:00,  4.36it/s]\n",
      "/var/folders/1b/dx8_94fs0q740wx3lfknk6y40000gn/T/ipykernel_42031/3950971282.py:3: SettingWithCopyWarning: \n",
      "A value is trying to be set on a copy of a slice from a DataFrame.\n",
      "Try using .loc[row_indexer,col_indexer] = value instead\n",
      "\n",
      "See the caveats in the documentation: https://pandas.pydata.org/pandas-docs/stable/user_guide/indexing.html#returning-a-view-versus-a-copy\n",
      "  tmp['keyword'] = tmp.msg.progress_apply(lambda x: kw_model.extract_keywords(x, keyphrase_ngram_range=(2,4), use_maxsum = True, top_n = 1))\n"
     ]
    },
    {
     "name": "stdout",
     "output_type": "stream",
     "text": [
      "{i} complete\n"
     ]
    },
    {
     "name": "stderr",
     "output_type": "stream",
     "text": [
      "100%|██████████| 1256/1256 [05:32<00:00,  3.78it/s]\n",
      "/var/folders/1b/dx8_94fs0q740wx3lfknk6y40000gn/T/ipykernel_42031/3950971282.py:3: SettingWithCopyWarning: \n",
      "A value is trying to be set on a copy of a slice from a DataFrame.\n",
      "Try using .loc[row_indexer,col_indexer] = value instead\n",
      "\n",
      "See the caveats in the documentation: https://pandas.pydata.org/pandas-docs/stable/user_guide/indexing.html#returning-a-view-versus-a-copy\n",
      "  tmp['keyword'] = tmp.msg.progress_apply(lambda x: kw_model.extract_keywords(x, keyphrase_ngram_range=(2,4), use_maxsum = True, top_n = 1))\n"
     ]
    },
    {
     "name": "stdout",
     "output_type": "stream",
     "text": [
      "{i} complete\n"
     ]
    },
    {
     "name": "stderr",
     "output_type": "stream",
     "text": [
      "100%|██████████| 1249/1249 [04:54<00:00,  4.24it/s]\n",
      "/var/folders/1b/dx8_94fs0q740wx3lfknk6y40000gn/T/ipykernel_42031/3950971282.py:3: SettingWithCopyWarning: \n",
      "A value is trying to be set on a copy of a slice from a DataFrame.\n",
      "Try using .loc[row_indexer,col_indexer] = value instead\n",
      "\n",
      "See the caveats in the documentation: https://pandas.pydata.org/pandas-docs/stable/user_guide/indexing.html#returning-a-view-versus-a-copy\n",
      "  tmp['keyword'] = tmp.msg.progress_apply(lambda x: kw_model.extract_keywords(x, keyphrase_ngram_range=(2,4), use_maxsum = True, top_n = 1))\n"
     ]
    },
    {
     "name": "stdout",
     "output_type": "stream",
     "text": [
      "{i} complete\n"
     ]
    },
    {
     "name": "stderr",
     "output_type": "stream",
     "text": [
      "100%|██████████| 1229/1229 [06:50<00:00,  2.99it/s]\n",
      "/var/folders/1b/dx8_94fs0q740wx3lfknk6y40000gn/T/ipykernel_42031/3950971282.py:3: SettingWithCopyWarning: \n",
      "A value is trying to be set on a copy of a slice from a DataFrame.\n",
      "Try using .loc[row_indexer,col_indexer] = value instead\n",
      "\n",
      "See the caveats in the documentation: https://pandas.pydata.org/pandas-docs/stable/user_guide/indexing.html#returning-a-view-versus-a-copy\n",
      "  tmp['keyword'] = tmp.msg.progress_apply(lambda x: kw_model.extract_keywords(x, keyphrase_ngram_range=(2,4), use_maxsum = True, top_n = 1))\n"
     ]
    },
    {
     "name": "stdout",
     "output_type": "stream",
     "text": [
      "{i} complete\n"
     ]
    },
    {
     "name": "stderr",
     "output_type": "stream",
     "text": [
      "100%|██████████| 1221/1221 [06:44<00:00,  3.02it/s]\n",
      "/var/folders/1b/dx8_94fs0q740wx3lfknk6y40000gn/T/ipykernel_42031/3950971282.py:3: SettingWithCopyWarning: \n",
      "A value is trying to be set on a copy of a slice from a DataFrame.\n",
      "Try using .loc[row_indexer,col_indexer] = value instead\n",
      "\n",
      "See the caveats in the documentation: https://pandas.pydata.org/pandas-docs/stable/user_guide/indexing.html#returning-a-view-versus-a-copy\n",
      "  tmp['keyword'] = tmp.msg.progress_apply(lambda x: kw_model.extract_keywords(x, keyphrase_ngram_range=(2,4), use_maxsum = True, top_n = 1))\n"
     ]
    },
    {
     "name": "stdout",
     "output_type": "stream",
     "text": [
      "{i} complete\n"
     ]
    },
    {
     "name": "stderr",
     "output_type": "stream",
     "text": [
      "100%|██████████| 1220/1220 [07:16<00:00,  2.79it/s]\n",
      "/var/folders/1b/dx8_94fs0q740wx3lfknk6y40000gn/T/ipykernel_42031/3950971282.py:3: SettingWithCopyWarning: \n",
      "A value is trying to be set on a copy of a slice from a DataFrame.\n",
      "Try using .loc[row_indexer,col_indexer] = value instead\n",
      "\n",
      "See the caveats in the documentation: https://pandas.pydata.org/pandas-docs/stable/user_guide/indexing.html#returning-a-view-versus-a-copy\n",
      "  tmp['keyword'] = tmp.msg.progress_apply(lambda x: kw_model.extract_keywords(x, keyphrase_ngram_range=(2,4), use_maxsum = True, top_n = 1))\n"
     ]
    },
    {
     "name": "stdout",
     "output_type": "stream",
     "text": [
      "{i} complete\n"
     ]
    },
    {
     "name": "stderr",
     "output_type": "stream",
     "text": [
      "100%|██████████| 1216/1216 [21:44<00:00,  1.07s/it]  \n",
      "/var/folders/1b/dx8_94fs0q740wx3lfknk6y40000gn/T/ipykernel_42031/3950971282.py:3: SettingWithCopyWarning: \n",
      "A value is trying to be set on a copy of a slice from a DataFrame.\n",
      "Try using .loc[row_indexer,col_indexer] = value instead\n",
      "\n",
      "See the caveats in the documentation: https://pandas.pydata.org/pandas-docs/stable/user_guide/indexing.html#returning-a-view-versus-a-copy\n",
      "  tmp['keyword'] = tmp.msg.progress_apply(lambda x: kw_model.extract_keywords(x, keyphrase_ngram_range=(2,4), use_maxsum = True, top_n = 1))\n"
     ]
    },
    {
     "name": "stdout",
     "output_type": "stream",
     "text": [
      "{i} complete\n"
     ]
    },
    {
     "name": "stderr",
     "output_type": "stream",
     "text": [
      "100%|██████████| 1212/1212 [10:50<00:00,  1.86it/s]  \n",
      "/var/folders/1b/dx8_94fs0q740wx3lfknk6y40000gn/T/ipykernel_42031/3950971282.py:3: SettingWithCopyWarning: \n",
      "A value is trying to be set on a copy of a slice from a DataFrame.\n",
      "Try using .loc[row_indexer,col_indexer] = value instead\n",
      "\n",
      "See the caveats in the documentation: https://pandas.pydata.org/pandas-docs/stable/user_guide/indexing.html#returning-a-view-versus-a-copy\n",
      "  tmp['keyword'] = tmp.msg.progress_apply(lambda x: kw_model.extract_keywords(x, keyphrase_ngram_range=(2,4), use_maxsum = True, top_n = 1))\n"
     ]
    },
    {
     "name": "stdout",
     "output_type": "stream",
     "text": [
      "{i} complete\n"
     ]
    },
    {
     "name": "stderr",
     "output_type": "stream",
     "text": [
      "100%|██████████| 1205/1205 [07:02<00:00,  2.85it/s]\n",
      "/var/folders/1b/dx8_94fs0q740wx3lfknk6y40000gn/T/ipykernel_42031/3950971282.py:3: SettingWithCopyWarning: \n",
      "A value is trying to be set on a copy of a slice from a DataFrame.\n",
      "Try using .loc[row_indexer,col_indexer] = value instead\n",
      "\n",
      "See the caveats in the documentation: https://pandas.pydata.org/pandas-docs/stable/user_guide/indexing.html#returning-a-view-versus-a-copy\n",
      "  tmp['keyword'] = tmp.msg.progress_apply(lambda x: kw_model.extract_keywords(x, keyphrase_ngram_range=(2,4), use_maxsum = True, top_n = 1))\n"
     ]
    },
    {
     "name": "stdout",
     "output_type": "stream",
     "text": [
      "{i} complete\n"
     ]
    },
    {
     "name": "stderr",
     "output_type": "stream",
     "text": [
      "100%|██████████| 1186/1186 [06:51<00:00,  2.88it/s]\n",
      "/var/folders/1b/dx8_94fs0q740wx3lfknk6y40000gn/T/ipykernel_42031/3950971282.py:3: SettingWithCopyWarning: \n",
      "A value is trying to be set on a copy of a slice from a DataFrame.\n",
      "Try using .loc[row_indexer,col_indexer] = value instead\n",
      "\n",
      "See the caveats in the documentation: https://pandas.pydata.org/pandas-docs/stable/user_guide/indexing.html#returning-a-view-versus-a-copy\n",
      "  tmp['keyword'] = tmp.msg.progress_apply(lambda x: kw_model.extract_keywords(x, keyphrase_ngram_range=(2,4), use_maxsum = True, top_n = 1))\n"
     ]
    },
    {
     "name": "stdout",
     "output_type": "stream",
     "text": [
      "{i} complete\n"
     ]
    },
    {
     "name": "stderr",
     "output_type": "stream",
     "text": [
      "100%|██████████| 1186/1186 [07:01<00:00,  2.81it/s]\n",
      "/var/folders/1b/dx8_94fs0q740wx3lfknk6y40000gn/T/ipykernel_42031/3950971282.py:3: SettingWithCopyWarning: \n",
      "A value is trying to be set on a copy of a slice from a DataFrame.\n",
      "Try using .loc[row_indexer,col_indexer] = value instead\n",
      "\n",
      "See the caveats in the documentation: https://pandas.pydata.org/pandas-docs/stable/user_guide/indexing.html#returning-a-view-versus-a-copy\n",
      "  tmp['keyword'] = tmp.msg.progress_apply(lambda x: kw_model.extract_keywords(x, keyphrase_ngram_range=(2,4), use_maxsum = True, top_n = 1))\n"
     ]
    },
    {
     "name": "stdout",
     "output_type": "stream",
     "text": [
      "{i} complete\n"
     ]
    },
    {
     "name": "stderr",
     "output_type": "stream",
     "text": [
      "100%|██████████| 1184/1184 [06:55<00:00,  2.85it/s]\n",
      "/var/folders/1b/dx8_94fs0q740wx3lfknk6y40000gn/T/ipykernel_42031/3950971282.py:3: SettingWithCopyWarning: \n",
      "A value is trying to be set on a copy of a slice from a DataFrame.\n",
      "Try using .loc[row_indexer,col_indexer] = value instead\n",
      "\n",
      "See the caveats in the documentation: https://pandas.pydata.org/pandas-docs/stable/user_guide/indexing.html#returning-a-view-versus-a-copy\n",
      "  tmp['keyword'] = tmp.msg.progress_apply(lambda x: kw_model.extract_keywords(x, keyphrase_ngram_range=(2,4), use_maxsum = True, top_n = 1))\n"
     ]
    },
    {
     "name": "stdout",
     "output_type": "stream",
     "text": [
      "{i} complete\n"
     ]
    },
    {
     "name": "stderr",
     "output_type": "stream",
     "text": [
      "100%|██████████| 1179/1179 [06:34<00:00,  2.99it/s]\n",
      "/var/folders/1b/dx8_94fs0q740wx3lfknk6y40000gn/T/ipykernel_42031/3950971282.py:3: SettingWithCopyWarning: \n",
      "A value is trying to be set on a copy of a slice from a DataFrame.\n",
      "Try using .loc[row_indexer,col_indexer] = value instead\n",
      "\n",
      "See the caveats in the documentation: https://pandas.pydata.org/pandas-docs/stable/user_guide/indexing.html#returning-a-view-versus-a-copy\n",
      "  tmp['keyword'] = tmp.msg.progress_apply(lambda x: kw_model.extract_keywords(x, keyphrase_ngram_range=(2,4), use_maxsum = True, top_n = 1))\n"
     ]
    },
    {
     "name": "stdout",
     "output_type": "stream",
     "text": [
      "{i} complete\n"
     ]
    },
    {
     "name": "stderr",
     "output_type": "stream",
     "text": [
      "100%|██████████| 1146/1146 [05:52<00:00,  3.25it/s]\n",
      "/var/folders/1b/dx8_94fs0q740wx3lfknk6y40000gn/T/ipykernel_42031/3950971282.py:3: SettingWithCopyWarning: \n",
      "A value is trying to be set on a copy of a slice from a DataFrame.\n",
      "Try using .loc[row_indexer,col_indexer] = value instead\n",
      "\n",
      "See the caveats in the documentation: https://pandas.pydata.org/pandas-docs/stable/user_guide/indexing.html#returning-a-view-versus-a-copy\n",
      "  tmp['keyword'] = tmp.msg.progress_apply(lambda x: kw_model.extract_keywords(x, keyphrase_ngram_range=(2,4), use_maxsum = True, top_n = 1))\n"
     ]
    },
    {
     "name": "stdout",
     "output_type": "stream",
     "text": [
      "{i} complete\n"
     ]
    },
    {
     "name": "stderr",
     "output_type": "stream",
     "text": [
      "100%|██████████| 1143/1143 [05:31<00:00,  3.44it/s]\n",
      "/var/folders/1b/dx8_94fs0q740wx3lfknk6y40000gn/T/ipykernel_42031/3950971282.py:3: SettingWithCopyWarning: \n",
      "A value is trying to be set on a copy of a slice from a DataFrame.\n",
      "Try using .loc[row_indexer,col_indexer] = value instead\n",
      "\n",
      "See the caveats in the documentation: https://pandas.pydata.org/pandas-docs/stable/user_guide/indexing.html#returning-a-view-versus-a-copy\n",
      "  tmp['keyword'] = tmp.msg.progress_apply(lambda x: kw_model.extract_keywords(x, keyphrase_ngram_range=(2,4), use_maxsum = True, top_n = 1))\n"
     ]
    },
    {
     "name": "stdout",
     "output_type": "stream",
     "text": [
      "{i} complete\n"
     ]
    },
    {
     "name": "stderr",
     "output_type": "stream",
     "text": [
      "100%|██████████| 1132/1132 [06:11<00:00,  3.05it/s]\n",
      "/var/folders/1b/dx8_94fs0q740wx3lfknk6y40000gn/T/ipykernel_42031/3950971282.py:3: SettingWithCopyWarning: \n",
      "A value is trying to be set on a copy of a slice from a DataFrame.\n",
      "Try using .loc[row_indexer,col_indexer] = value instead\n",
      "\n",
      "See the caveats in the documentation: https://pandas.pydata.org/pandas-docs/stable/user_guide/indexing.html#returning-a-view-versus-a-copy\n",
      "  tmp['keyword'] = tmp.msg.progress_apply(lambda x: kw_model.extract_keywords(x, keyphrase_ngram_range=(2,4), use_maxsum = True, top_n = 1))\n"
     ]
    },
    {
     "name": "stdout",
     "output_type": "stream",
     "text": [
      "{i} complete\n"
     ]
    },
    {
     "name": "stderr",
     "output_type": "stream",
     "text": [
      "100%|██████████| 1128/1128 [06:08<00:00,  3.06it/s]\n",
      "/var/folders/1b/dx8_94fs0q740wx3lfknk6y40000gn/T/ipykernel_42031/3950971282.py:3: SettingWithCopyWarning: \n",
      "A value is trying to be set on a copy of a slice from a DataFrame.\n",
      "Try using .loc[row_indexer,col_indexer] = value instead\n",
      "\n",
      "See the caveats in the documentation: https://pandas.pydata.org/pandas-docs/stable/user_guide/indexing.html#returning-a-view-versus-a-copy\n",
      "  tmp['keyword'] = tmp.msg.progress_apply(lambda x: kw_model.extract_keywords(x, keyphrase_ngram_range=(2,4), use_maxsum = True, top_n = 1))\n"
     ]
    },
    {
     "name": "stdout",
     "output_type": "stream",
     "text": [
      "{i} complete\n"
     ]
    },
    {
     "name": "stderr",
     "output_type": "stream",
     "text": [
      "100%|██████████| 1117/1117 [06:23<00:00,  2.91it/s]\n",
      "/var/folders/1b/dx8_94fs0q740wx3lfknk6y40000gn/T/ipykernel_42031/3950971282.py:3: SettingWithCopyWarning: \n",
      "A value is trying to be set on a copy of a slice from a DataFrame.\n",
      "Try using .loc[row_indexer,col_indexer] = value instead\n",
      "\n",
      "See the caveats in the documentation: https://pandas.pydata.org/pandas-docs/stable/user_guide/indexing.html#returning-a-view-versus-a-copy\n",
      "  tmp['keyword'] = tmp.msg.progress_apply(lambda x: kw_model.extract_keywords(x, keyphrase_ngram_range=(2,4), use_maxsum = True, top_n = 1))\n"
     ]
    },
    {
     "name": "stdout",
     "output_type": "stream",
     "text": [
      "{i} complete\n"
     ]
    },
    {
     "name": "stderr",
     "output_type": "stream",
     "text": [
      "100%|██████████| 1105/1105 [06:11<00:00,  2.97it/s]\n",
      "/var/folders/1b/dx8_94fs0q740wx3lfknk6y40000gn/T/ipykernel_42031/3950971282.py:3: SettingWithCopyWarning: \n",
      "A value is trying to be set on a copy of a slice from a DataFrame.\n",
      "Try using .loc[row_indexer,col_indexer] = value instead\n",
      "\n",
      "See the caveats in the documentation: https://pandas.pydata.org/pandas-docs/stable/user_guide/indexing.html#returning-a-view-versus-a-copy\n",
      "  tmp['keyword'] = tmp.msg.progress_apply(lambda x: kw_model.extract_keywords(x, keyphrase_ngram_range=(2,4), use_maxsum = True, top_n = 1))\n"
     ]
    },
    {
     "name": "stdout",
     "output_type": "stream",
     "text": [
      "{i} complete\n"
     ]
    },
    {
     "name": "stderr",
     "output_type": "stream",
     "text": [
      "100%|██████████| 1094/1094 [06:18<00:00,  2.89it/s]\n",
      "/var/folders/1b/dx8_94fs0q740wx3lfknk6y40000gn/T/ipykernel_42031/3950971282.py:3: SettingWithCopyWarning: \n",
      "A value is trying to be set on a copy of a slice from a DataFrame.\n",
      "Try using .loc[row_indexer,col_indexer] = value instead\n",
      "\n",
      "See the caveats in the documentation: https://pandas.pydata.org/pandas-docs/stable/user_guide/indexing.html#returning-a-view-versus-a-copy\n",
      "  tmp['keyword'] = tmp.msg.progress_apply(lambda x: kw_model.extract_keywords(x, keyphrase_ngram_range=(2,4), use_maxsum = True, top_n = 1))\n"
     ]
    },
    {
     "name": "stdout",
     "output_type": "stream",
     "text": [
      "{i} complete\n"
     ]
    },
    {
     "name": "stderr",
     "output_type": "stream",
     "text": [
      "100%|██████████| 1088/1088 [06:01<00:00,  3.01it/s]\n",
      "/var/folders/1b/dx8_94fs0q740wx3lfknk6y40000gn/T/ipykernel_42031/3950971282.py:3: SettingWithCopyWarning: \n",
      "A value is trying to be set on a copy of a slice from a DataFrame.\n",
      "Try using .loc[row_indexer,col_indexer] = value instead\n",
      "\n",
      "See the caveats in the documentation: https://pandas.pydata.org/pandas-docs/stable/user_guide/indexing.html#returning-a-view-versus-a-copy\n",
      "  tmp['keyword'] = tmp.msg.progress_apply(lambda x: kw_model.extract_keywords(x, keyphrase_ngram_range=(2,4), use_maxsum = True, top_n = 1))\n"
     ]
    },
    {
     "name": "stdout",
     "output_type": "stream",
     "text": [
      "{i} complete\n"
     ]
    },
    {
     "name": "stderr",
     "output_type": "stream",
     "text": [
      "100%|██████████| 1088/1088 [21:16<00:00,  1.17s/it]   \n",
      "/var/folders/1b/dx8_94fs0q740wx3lfknk6y40000gn/T/ipykernel_42031/3950971282.py:3: SettingWithCopyWarning: \n",
      "A value is trying to be set on a copy of a slice from a DataFrame.\n",
      "Try using .loc[row_indexer,col_indexer] = value instead\n",
      "\n",
      "See the caveats in the documentation: https://pandas.pydata.org/pandas-docs/stable/user_guide/indexing.html#returning-a-view-versus-a-copy\n",
      "  tmp['keyword'] = tmp.msg.progress_apply(lambda x: kw_model.extract_keywords(x, keyphrase_ngram_range=(2,4), use_maxsum = True, top_n = 1))\n"
     ]
    },
    {
     "name": "stdout",
     "output_type": "stream",
     "text": [
      "{i} complete\n"
     ]
    },
    {
     "name": "stderr",
     "output_type": "stream",
     "text": [
      "100%|██████████| 1079/1079 [46:22<00:00,  2.58s/it]   \n",
      "/var/folders/1b/dx8_94fs0q740wx3lfknk6y40000gn/T/ipykernel_42031/3950971282.py:3: SettingWithCopyWarning: \n",
      "A value is trying to be set on a copy of a slice from a DataFrame.\n",
      "Try using .loc[row_indexer,col_indexer] = value instead\n",
      "\n",
      "See the caveats in the documentation: https://pandas.pydata.org/pandas-docs/stable/user_guide/indexing.html#returning-a-view-versus-a-copy\n",
      "  tmp['keyword'] = tmp.msg.progress_apply(lambda x: kw_model.extract_keywords(x, keyphrase_ngram_range=(2,4), use_maxsum = True, top_n = 1))\n"
     ]
    },
    {
     "name": "stdout",
     "output_type": "stream",
     "text": [
      "{i} complete\n"
     ]
    },
    {
     "name": "stderr",
     "output_type": "stream",
     "text": [
      "100%|██████████| 1064/1064 [1:08:13<00:00,  3.85s/it]  \n",
      "/var/folders/1b/dx8_94fs0q740wx3lfknk6y40000gn/T/ipykernel_42031/3950971282.py:3: SettingWithCopyWarning: \n",
      "A value is trying to be set on a copy of a slice from a DataFrame.\n",
      "Try using .loc[row_indexer,col_indexer] = value instead\n",
      "\n",
      "See the caveats in the documentation: https://pandas.pydata.org/pandas-docs/stable/user_guide/indexing.html#returning-a-view-versus-a-copy\n",
      "  tmp['keyword'] = tmp.msg.progress_apply(lambda x: kw_model.extract_keywords(x, keyphrase_ngram_range=(2,4), use_maxsum = True, top_n = 1))\n"
     ]
    },
    {
     "name": "stdout",
     "output_type": "stream",
     "text": [
      "{i} complete\n"
     ]
    },
    {
     "name": "stderr",
     "output_type": "stream",
     "text": [
      "100%|██████████| 1064/1064 [38:03<00:00,  2.15s/it]   \n",
      "/var/folders/1b/dx8_94fs0q740wx3lfknk6y40000gn/T/ipykernel_42031/3950971282.py:3: SettingWithCopyWarning: \n",
      "A value is trying to be set on a copy of a slice from a DataFrame.\n",
      "Try using .loc[row_indexer,col_indexer] = value instead\n",
      "\n",
      "See the caveats in the documentation: https://pandas.pydata.org/pandas-docs/stable/user_guide/indexing.html#returning-a-view-versus-a-copy\n",
      "  tmp['keyword'] = tmp.msg.progress_apply(lambda x: kw_model.extract_keywords(x, keyphrase_ngram_range=(2,4), use_maxsum = True, top_n = 1))\n"
     ]
    },
    {
     "name": "stdout",
     "output_type": "stream",
     "text": [
      "{i} complete\n"
     ]
    },
    {
     "name": "stderr",
     "output_type": "stream",
     "text": [
      "100%|██████████| 1052/1052 [1:13:29<00:00,  4.19s/it]   \n",
      "/var/folders/1b/dx8_94fs0q740wx3lfknk6y40000gn/T/ipykernel_42031/3950971282.py:3: SettingWithCopyWarning: \n",
      "A value is trying to be set on a copy of a slice from a DataFrame.\n",
      "Try using .loc[row_indexer,col_indexer] = value instead\n",
      "\n",
      "See the caveats in the documentation: https://pandas.pydata.org/pandas-docs/stable/user_guide/indexing.html#returning-a-view-versus-a-copy\n",
      "  tmp['keyword'] = tmp.msg.progress_apply(lambda x: kw_model.extract_keywords(x, keyphrase_ngram_range=(2,4), use_maxsum = True, top_n = 1))\n"
     ]
    },
    {
     "name": "stdout",
     "output_type": "stream",
     "text": [
      "{i} complete\n"
     ]
    },
    {
     "name": "stderr",
     "output_type": "stream",
     "text": [
      "100%|██████████| 1036/1036 [54:21<00:00,  3.15s/it]   \n",
      "/var/folders/1b/dx8_94fs0q740wx3lfknk6y40000gn/T/ipykernel_42031/3950971282.py:3: SettingWithCopyWarning: \n",
      "A value is trying to be set on a copy of a slice from a DataFrame.\n",
      "Try using .loc[row_indexer,col_indexer] = value instead\n",
      "\n",
      "See the caveats in the documentation: https://pandas.pydata.org/pandas-docs/stable/user_guide/indexing.html#returning-a-view-versus-a-copy\n",
      "  tmp['keyword'] = tmp.msg.progress_apply(lambda x: kw_model.extract_keywords(x, keyphrase_ngram_range=(2,4), use_maxsum = True, top_n = 1))\n"
     ]
    },
    {
     "name": "stdout",
     "output_type": "stream",
     "text": [
      "{i} complete\n"
     ]
    },
    {
     "name": "stderr",
     "output_type": "stream",
     "text": [
      "100%|██████████| 1035/1035 [52:55<00:00,  3.07s/it]   \n",
      "/var/folders/1b/dx8_94fs0q740wx3lfknk6y40000gn/T/ipykernel_42031/3950971282.py:3: SettingWithCopyWarning: \n",
      "A value is trying to be set on a copy of a slice from a DataFrame.\n",
      "Try using .loc[row_indexer,col_indexer] = value instead\n",
      "\n",
      "See the caveats in the documentation: https://pandas.pydata.org/pandas-docs/stable/user_guide/indexing.html#returning-a-view-versus-a-copy\n",
      "  tmp['keyword'] = tmp.msg.progress_apply(lambda x: kw_model.extract_keywords(x, keyphrase_ngram_range=(2,4), use_maxsum = True, top_n = 1))\n"
     ]
    },
    {
     "name": "stdout",
     "output_type": "stream",
     "text": [
      "{i} complete\n"
     ]
    },
    {
     "name": "stderr",
     "output_type": "stream",
     "text": [
      "100%|██████████| 1021/1021 [49:26<00:00,  2.91s/it]   \n",
      "/var/folders/1b/dx8_94fs0q740wx3lfknk6y40000gn/T/ipykernel_42031/3950971282.py:3: SettingWithCopyWarning: \n",
      "A value is trying to be set on a copy of a slice from a DataFrame.\n",
      "Try using .loc[row_indexer,col_indexer] = value instead\n",
      "\n",
      "See the caveats in the documentation: https://pandas.pydata.org/pandas-docs/stable/user_guide/indexing.html#returning-a-view-versus-a-copy\n",
      "  tmp['keyword'] = tmp.msg.progress_apply(lambda x: kw_model.extract_keywords(x, keyphrase_ngram_range=(2,4), use_maxsum = True, top_n = 1))\n"
     ]
    },
    {
     "name": "stdout",
     "output_type": "stream",
     "text": [
      "{i} complete\n"
     ]
    },
    {
     "name": "stderr",
     "output_type": "stream",
     "text": [
      "100%|██████████| 1011/1011 [1:01:06<00:00,  3.63s/it]  \n",
      "/var/folders/1b/dx8_94fs0q740wx3lfknk6y40000gn/T/ipykernel_42031/3950971282.py:3: SettingWithCopyWarning: \n",
      "A value is trying to be set on a copy of a slice from a DataFrame.\n",
      "Try using .loc[row_indexer,col_indexer] = value instead\n",
      "\n",
      "See the caveats in the documentation: https://pandas.pydata.org/pandas-docs/stable/user_guide/indexing.html#returning-a-view-versus-a-copy\n",
      "  tmp['keyword'] = tmp.msg.progress_apply(lambda x: kw_model.extract_keywords(x, keyphrase_ngram_range=(2,4), use_maxsum = True, top_n = 1))\n"
     ]
    },
    {
     "name": "stdout",
     "output_type": "stream",
     "text": [
      "{i} complete\n"
     ]
    },
    {
     "name": "stderr",
     "output_type": "stream",
     "text": [
      "100%|██████████| 999/999 [37:32<00:00,  2.25s/it]    \n",
      "/var/folders/1b/dx8_94fs0q740wx3lfknk6y40000gn/T/ipykernel_42031/3950971282.py:3: SettingWithCopyWarning: \n",
      "A value is trying to be set on a copy of a slice from a DataFrame.\n",
      "Try using .loc[row_indexer,col_indexer] = value instead\n",
      "\n",
      "See the caveats in the documentation: https://pandas.pydata.org/pandas-docs/stable/user_guide/indexing.html#returning-a-view-versus-a-copy\n",
      "  tmp['keyword'] = tmp.msg.progress_apply(lambda x: kw_model.extract_keywords(x, keyphrase_ngram_range=(2,4), use_maxsum = True, top_n = 1))\n"
     ]
    },
    {
     "name": "stdout",
     "output_type": "stream",
     "text": [
      "{i} complete\n"
     ]
    },
    {
     "name": "stderr",
     "output_type": "stream",
     "text": [
      "100%|██████████| 980/980 [05:39<00:00,  2.88it/s]\n",
      "/var/folders/1b/dx8_94fs0q740wx3lfknk6y40000gn/T/ipykernel_42031/3950971282.py:3: SettingWithCopyWarning: \n",
      "A value is trying to be set on a copy of a slice from a DataFrame.\n",
      "Try using .loc[row_indexer,col_indexer] = value instead\n",
      "\n",
      "See the caveats in the documentation: https://pandas.pydata.org/pandas-docs/stable/user_guide/indexing.html#returning-a-view-versus-a-copy\n",
      "  tmp['keyword'] = tmp.msg.progress_apply(lambda x: kw_model.extract_keywords(x, keyphrase_ngram_range=(2,4), use_maxsum = True, top_n = 1))\n"
     ]
    },
    {
     "name": "stdout",
     "output_type": "stream",
     "text": [
      "{i} complete\n"
     ]
    },
    {
     "name": "stderr",
     "output_type": "stream",
     "text": [
      "100%|██████████| 979/979 [05:09<00:00,  3.16it/s]\n",
      "/var/folders/1b/dx8_94fs0q740wx3lfknk6y40000gn/T/ipykernel_42031/3950971282.py:3: SettingWithCopyWarning: \n",
      "A value is trying to be set on a copy of a slice from a DataFrame.\n",
      "Try using .loc[row_indexer,col_indexer] = value instead\n",
      "\n",
      "See the caveats in the documentation: https://pandas.pydata.org/pandas-docs/stable/user_guide/indexing.html#returning-a-view-versus-a-copy\n",
      "  tmp['keyword'] = tmp.msg.progress_apply(lambda x: kw_model.extract_keywords(x, keyphrase_ngram_range=(2,4), use_maxsum = True, top_n = 1))\n"
     ]
    },
    {
     "name": "stdout",
     "output_type": "stream",
     "text": [
      "{i} complete\n"
     ]
    },
    {
     "name": "stderr",
     "output_type": "stream",
     "text": [
      "100%|██████████| 978/978 [05:49<00:00,  2.80it/s]\n",
      "/var/folders/1b/dx8_94fs0q740wx3lfknk6y40000gn/T/ipykernel_42031/3950971282.py:3: SettingWithCopyWarning: \n",
      "A value is trying to be set on a copy of a slice from a DataFrame.\n",
      "Try using .loc[row_indexer,col_indexer] = value instead\n",
      "\n",
      "See the caveats in the documentation: https://pandas.pydata.org/pandas-docs/stable/user_guide/indexing.html#returning-a-view-versus-a-copy\n",
      "  tmp['keyword'] = tmp.msg.progress_apply(lambda x: kw_model.extract_keywords(x, keyphrase_ngram_range=(2,4), use_maxsum = True, top_n = 1))\n"
     ]
    },
    {
     "name": "stdout",
     "output_type": "stream",
     "text": [
      "{i} complete\n"
     ]
    },
    {
     "name": "stderr",
     "output_type": "stream",
     "text": [
      "100%|██████████| 966/966 [05:24<00:00,  2.98it/s]\n",
      "/var/folders/1b/dx8_94fs0q740wx3lfknk6y40000gn/T/ipykernel_42031/3950971282.py:3: SettingWithCopyWarning: \n",
      "A value is trying to be set on a copy of a slice from a DataFrame.\n",
      "Try using .loc[row_indexer,col_indexer] = value instead\n",
      "\n",
      "See the caveats in the documentation: https://pandas.pydata.org/pandas-docs/stable/user_guide/indexing.html#returning-a-view-versus-a-copy\n",
      "  tmp['keyword'] = tmp.msg.progress_apply(lambda x: kw_model.extract_keywords(x, keyphrase_ngram_range=(2,4), use_maxsum = True, top_n = 1))\n"
     ]
    },
    {
     "name": "stdout",
     "output_type": "stream",
     "text": [
      "{i} complete\n"
     ]
    },
    {
     "name": "stderr",
     "output_type": "stream",
     "text": [
      "100%|██████████| 960/960 [05:33<00:00,  2.88it/s]\n",
      "/var/folders/1b/dx8_94fs0q740wx3lfknk6y40000gn/T/ipykernel_42031/3950971282.py:3: SettingWithCopyWarning: \n",
      "A value is trying to be set on a copy of a slice from a DataFrame.\n",
      "Try using .loc[row_indexer,col_indexer] = value instead\n",
      "\n",
      "See the caveats in the documentation: https://pandas.pydata.org/pandas-docs/stable/user_guide/indexing.html#returning-a-view-versus-a-copy\n",
      "  tmp['keyword'] = tmp.msg.progress_apply(lambda x: kw_model.extract_keywords(x, keyphrase_ngram_range=(2,4), use_maxsum = True, top_n = 1))\n"
     ]
    },
    {
     "name": "stdout",
     "output_type": "stream",
     "text": [
      "{i} complete\n"
     ]
    },
    {
     "name": "stderr",
     "output_type": "stream",
     "text": [
      "100%|██████████| 960/960 [15:58<00:00,  1.00it/s]   \n",
      "/var/folders/1b/dx8_94fs0q740wx3lfknk6y40000gn/T/ipykernel_42031/3950971282.py:3: SettingWithCopyWarning: \n",
      "A value is trying to be set on a copy of a slice from a DataFrame.\n",
      "Try using .loc[row_indexer,col_indexer] = value instead\n",
      "\n",
      "See the caveats in the documentation: https://pandas.pydata.org/pandas-docs/stable/user_guide/indexing.html#returning-a-view-versus-a-copy\n",
      "  tmp['keyword'] = tmp.msg.progress_apply(lambda x: kw_model.extract_keywords(x, keyphrase_ngram_range=(2,4), use_maxsum = True, top_n = 1))\n"
     ]
    },
    {
     "name": "stdout",
     "output_type": "stream",
     "text": [
      "{i} complete\n"
     ]
    },
    {
     "name": "stderr",
     "output_type": "stream",
     "text": [
      "100%|██████████| 938/938 [09:27<00:00,  1.65it/s]  \n",
      "/var/folders/1b/dx8_94fs0q740wx3lfknk6y40000gn/T/ipykernel_42031/3950971282.py:3: SettingWithCopyWarning: \n",
      "A value is trying to be set on a copy of a slice from a DataFrame.\n",
      "Try using .loc[row_indexer,col_indexer] = value instead\n",
      "\n",
      "See the caveats in the documentation: https://pandas.pydata.org/pandas-docs/stable/user_guide/indexing.html#returning-a-view-versus-a-copy\n",
      "  tmp['keyword'] = tmp.msg.progress_apply(lambda x: kw_model.extract_keywords(x, keyphrase_ngram_range=(2,4), use_maxsum = True, top_n = 1))\n"
     ]
    },
    {
     "name": "stdout",
     "output_type": "stream",
     "text": [
      "{i} complete\n"
     ]
    },
    {
     "name": "stderr",
     "output_type": "stream",
     "text": [
      "100%|██████████| 930/930 [05:31<00:00,  2.80it/s]\n",
      "/var/folders/1b/dx8_94fs0q740wx3lfknk6y40000gn/T/ipykernel_42031/3950971282.py:3: SettingWithCopyWarning: \n",
      "A value is trying to be set on a copy of a slice from a DataFrame.\n",
      "Try using .loc[row_indexer,col_indexer] = value instead\n",
      "\n",
      "See the caveats in the documentation: https://pandas.pydata.org/pandas-docs/stable/user_guide/indexing.html#returning-a-view-versus-a-copy\n",
      "  tmp['keyword'] = tmp.msg.progress_apply(lambda x: kw_model.extract_keywords(x, keyphrase_ngram_range=(2,4), use_maxsum = True, top_n = 1))\n"
     ]
    },
    {
     "name": "stdout",
     "output_type": "stream",
     "text": [
      "{i} complete\n"
     ]
    },
    {
     "name": "stderr",
     "output_type": "stream",
     "text": [
      "100%|██████████| 926/926 [05:20<00:00,  2.89it/s]\n",
      "/var/folders/1b/dx8_94fs0q740wx3lfknk6y40000gn/T/ipykernel_42031/3950971282.py:3: SettingWithCopyWarning: \n",
      "A value is trying to be set on a copy of a slice from a DataFrame.\n",
      "Try using .loc[row_indexer,col_indexer] = value instead\n",
      "\n",
      "See the caveats in the documentation: https://pandas.pydata.org/pandas-docs/stable/user_guide/indexing.html#returning-a-view-versus-a-copy\n",
      "  tmp['keyword'] = tmp.msg.progress_apply(lambda x: kw_model.extract_keywords(x, keyphrase_ngram_range=(2,4), use_maxsum = True, top_n = 1))\n"
     ]
    },
    {
     "name": "stdout",
     "output_type": "stream",
     "text": [
      "{i} complete\n"
     ]
    },
    {
     "name": "stderr",
     "output_type": "stream",
     "text": [
      "100%|██████████| 925/925 [05:15<00:00,  2.93it/s]\n",
      "/var/folders/1b/dx8_94fs0q740wx3lfknk6y40000gn/T/ipykernel_42031/3950971282.py:3: SettingWithCopyWarning: \n",
      "A value is trying to be set on a copy of a slice from a DataFrame.\n",
      "Try using .loc[row_indexer,col_indexer] = value instead\n",
      "\n",
      "See the caveats in the documentation: https://pandas.pydata.org/pandas-docs/stable/user_guide/indexing.html#returning-a-view-versus-a-copy\n",
      "  tmp['keyword'] = tmp.msg.progress_apply(lambda x: kw_model.extract_keywords(x, keyphrase_ngram_range=(2,4), use_maxsum = True, top_n = 1))\n"
     ]
    },
    {
     "name": "stdout",
     "output_type": "stream",
     "text": [
      "{i} complete\n"
     ]
    },
    {
     "name": "stderr",
     "output_type": "stream",
     "text": [
      "100%|██████████| 917/917 [05:14<00:00,  2.92it/s]\n",
      "/var/folders/1b/dx8_94fs0q740wx3lfknk6y40000gn/T/ipykernel_42031/3950971282.py:3: SettingWithCopyWarning: \n",
      "A value is trying to be set on a copy of a slice from a DataFrame.\n",
      "Try using .loc[row_indexer,col_indexer] = value instead\n",
      "\n",
      "See the caveats in the documentation: https://pandas.pydata.org/pandas-docs/stable/user_guide/indexing.html#returning-a-view-versus-a-copy\n",
      "  tmp['keyword'] = tmp.msg.progress_apply(lambda x: kw_model.extract_keywords(x, keyphrase_ngram_range=(2,4), use_maxsum = True, top_n = 1))\n"
     ]
    },
    {
     "name": "stdout",
     "output_type": "stream",
     "text": [
      "{i} complete\n"
     ]
    },
    {
     "name": "stderr",
     "output_type": "stream",
     "text": [
      "100%|██████████| 913/913 [05:18<00:00,  2.87it/s]\n",
      "/var/folders/1b/dx8_94fs0q740wx3lfknk6y40000gn/T/ipykernel_42031/3950971282.py:3: SettingWithCopyWarning: \n",
      "A value is trying to be set on a copy of a slice from a DataFrame.\n",
      "Try using .loc[row_indexer,col_indexer] = value instead\n",
      "\n",
      "See the caveats in the documentation: https://pandas.pydata.org/pandas-docs/stable/user_guide/indexing.html#returning-a-view-versus-a-copy\n",
      "  tmp['keyword'] = tmp.msg.progress_apply(lambda x: kw_model.extract_keywords(x, keyphrase_ngram_range=(2,4), use_maxsum = True, top_n = 1))\n"
     ]
    },
    {
     "name": "stdout",
     "output_type": "stream",
     "text": [
      "{i} complete\n"
     ]
    },
    {
     "name": "stderr",
     "output_type": "stream",
     "text": [
      "100%|██████████| 890/890 [04:53<00:00,  3.03it/s]\n",
      "/var/folders/1b/dx8_94fs0q740wx3lfknk6y40000gn/T/ipykernel_42031/3950971282.py:3: SettingWithCopyWarning: \n",
      "A value is trying to be set on a copy of a slice from a DataFrame.\n",
      "Try using .loc[row_indexer,col_indexer] = value instead\n",
      "\n",
      "See the caveats in the documentation: https://pandas.pydata.org/pandas-docs/stable/user_guide/indexing.html#returning-a-view-versus-a-copy\n",
      "  tmp['keyword'] = tmp.msg.progress_apply(lambda x: kw_model.extract_keywords(x, keyphrase_ngram_range=(2,4), use_maxsum = True, top_n = 1))\n"
     ]
    },
    {
     "name": "stdout",
     "output_type": "stream",
     "text": [
      "{i} complete\n"
     ]
    },
    {
     "name": "stderr",
     "output_type": "stream",
     "text": [
      "100%|██████████| 880/880 [04:40<00:00,  3.14it/s]\n",
      "/var/folders/1b/dx8_94fs0q740wx3lfknk6y40000gn/T/ipykernel_42031/3950971282.py:3: SettingWithCopyWarning: \n",
      "A value is trying to be set on a copy of a slice from a DataFrame.\n",
      "Try using .loc[row_indexer,col_indexer] = value instead\n",
      "\n",
      "See the caveats in the documentation: https://pandas.pydata.org/pandas-docs/stable/user_guide/indexing.html#returning-a-view-versus-a-copy\n",
      "  tmp['keyword'] = tmp.msg.progress_apply(lambda x: kw_model.extract_keywords(x, keyphrase_ngram_range=(2,4), use_maxsum = True, top_n = 1))\n"
     ]
    },
    {
     "name": "stdout",
     "output_type": "stream",
     "text": [
      "{i} complete\n"
     ]
    },
    {
     "name": "stderr",
     "output_type": "stream",
     "text": [
      "100%|██████████| 880/880 [05:00<00:00,  2.92it/s]\n",
      "/var/folders/1b/dx8_94fs0q740wx3lfknk6y40000gn/T/ipykernel_42031/3950971282.py:3: SettingWithCopyWarning: \n",
      "A value is trying to be set on a copy of a slice from a DataFrame.\n",
      "Try using .loc[row_indexer,col_indexer] = value instead\n",
      "\n",
      "See the caveats in the documentation: https://pandas.pydata.org/pandas-docs/stable/user_guide/indexing.html#returning-a-view-versus-a-copy\n",
      "  tmp['keyword'] = tmp.msg.progress_apply(lambda x: kw_model.extract_keywords(x, keyphrase_ngram_range=(2,4), use_maxsum = True, top_n = 1))\n"
     ]
    },
    {
     "name": "stdout",
     "output_type": "stream",
     "text": [
      "{i} complete\n"
     ]
    },
    {
     "name": "stderr",
     "output_type": "stream",
     "text": [
      "100%|██████████| 873/873 [05:04<00:00,  2.86it/s]\n",
      "/var/folders/1b/dx8_94fs0q740wx3lfknk6y40000gn/T/ipykernel_42031/3950971282.py:3: SettingWithCopyWarning: \n",
      "A value is trying to be set on a copy of a slice from a DataFrame.\n",
      "Try using .loc[row_indexer,col_indexer] = value instead\n",
      "\n",
      "See the caveats in the documentation: https://pandas.pydata.org/pandas-docs/stable/user_guide/indexing.html#returning-a-view-versus-a-copy\n",
      "  tmp['keyword'] = tmp.msg.progress_apply(lambda x: kw_model.extract_keywords(x, keyphrase_ngram_range=(2,4), use_maxsum = True, top_n = 1))\n"
     ]
    },
    {
     "name": "stdout",
     "output_type": "stream",
     "text": [
      "{i} complete\n"
     ]
    },
    {
     "name": "stderr",
     "output_type": "stream",
     "text": [
      "100%|██████████| 865/865 [05:06<00:00,  2.82it/s]\n",
      "/var/folders/1b/dx8_94fs0q740wx3lfknk6y40000gn/T/ipykernel_42031/3950971282.py:3: SettingWithCopyWarning: \n",
      "A value is trying to be set on a copy of a slice from a DataFrame.\n",
      "Try using .loc[row_indexer,col_indexer] = value instead\n",
      "\n",
      "See the caveats in the documentation: https://pandas.pydata.org/pandas-docs/stable/user_guide/indexing.html#returning-a-view-versus-a-copy\n",
      "  tmp['keyword'] = tmp.msg.progress_apply(lambda x: kw_model.extract_keywords(x, keyphrase_ngram_range=(2,4), use_maxsum = True, top_n = 1))\n"
     ]
    },
    {
     "name": "stdout",
     "output_type": "stream",
     "text": [
      "{i} complete\n"
     ]
    },
    {
     "name": "stderr",
     "output_type": "stream",
     "text": [
      "100%|██████████| 864/864 [04:42<00:00,  3.05it/s]\n",
      "/var/folders/1b/dx8_94fs0q740wx3lfknk6y40000gn/T/ipykernel_42031/3950971282.py:3: SettingWithCopyWarning: \n",
      "A value is trying to be set on a copy of a slice from a DataFrame.\n",
      "Try using .loc[row_indexer,col_indexer] = value instead\n",
      "\n",
      "See the caveats in the documentation: https://pandas.pydata.org/pandas-docs/stable/user_guide/indexing.html#returning-a-view-versus-a-copy\n",
      "  tmp['keyword'] = tmp.msg.progress_apply(lambda x: kw_model.extract_keywords(x, keyphrase_ngram_range=(2,4), use_maxsum = True, top_n = 1))\n"
     ]
    },
    {
     "name": "stdout",
     "output_type": "stream",
     "text": [
      "{i} complete\n"
     ]
    },
    {
     "name": "stderr",
     "output_type": "stream",
     "text": [
      "100%|██████████| 844/844 [04:50<00:00,  2.90it/s]\n",
      "/var/folders/1b/dx8_94fs0q740wx3lfknk6y40000gn/T/ipykernel_42031/3950971282.py:3: SettingWithCopyWarning: \n",
      "A value is trying to be set on a copy of a slice from a DataFrame.\n",
      "Try using .loc[row_indexer,col_indexer] = value instead\n",
      "\n",
      "See the caveats in the documentation: https://pandas.pydata.org/pandas-docs/stable/user_guide/indexing.html#returning-a-view-versus-a-copy\n",
      "  tmp['keyword'] = tmp.msg.progress_apply(lambda x: kw_model.extract_keywords(x, keyphrase_ngram_range=(2,4), use_maxsum = True, top_n = 1))\n"
     ]
    },
    {
     "name": "stdout",
     "output_type": "stream",
     "text": [
      "{i} complete\n"
     ]
    },
    {
     "name": "stderr",
     "output_type": "stream",
     "text": [
      "100%|██████████| 832/832 [04:40<00:00,  2.97it/s]\n",
      "/var/folders/1b/dx8_94fs0q740wx3lfknk6y40000gn/T/ipykernel_42031/3950971282.py:3: SettingWithCopyWarning: \n",
      "A value is trying to be set on a copy of a slice from a DataFrame.\n",
      "Try using .loc[row_indexer,col_indexer] = value instead\n",
      "\n",
      "See the caveats in the documentation: https://pandas.pydata.org/pandas-docs/stable/user_guide/indexing.html#returning-a-view-versus-a-copy\n",
      "  tmp['keyword'] = tmp.msg.progress_apply(lambda x: kw_model.extract_keywords(x, keyphrase_ngram_range=(2,4), use_maxsum = True, top_n = 1))\n"
     ]
    },
    {
     "name": "stdout",
     "output_type": "stream",
     "text": [
      "{i} complete\n"
     ]
    },
    {
     "name": "stderr",
     "output_type": "stream",
     "text": [
      "100%|██████████| 830/830 [04:58<00:00,  2.78it/s]\n",
      "/var/folders/1b/dx8_94fs0q740wx3lfknk6y40000gn/T/ipykernel_42031/3950971282.py:3: SettingWithCopyWarning: \n",
      "A value is trying to be set on a copy of a slice from a DataFrame.\n",
      "Try using .loc[row_indexer,col_indexer] = value instead\n",
      "\n",
      "See the caveats in the documentation: https://pandas.pydata.org/pandas-docs/stable/user_guide/indexing.html#returning-a-view-versus-a-copy\n",
      "  tmp['keyword'] = tmp.msg.progress_apply(lambda x: kw_model.extract_keywords(x, keyphrase_ngram_range=(2,4), use_maxsum = True, top_n = 1))\n"
     ]
    },
    {
     "name": "stdout",
     "output_type": "stream",
     "text": [
      "{i} complete\n"
     ]
    },
    {
     "name": "stderr",
     "output_type": "stream",
     "text": [
      "100%|██████████| 829/829 [1:17:08<00:00,  5.58s/it]    \n",
      "/var/folders/1b/dx8_94fs0q740wx3lfknk6y40000gn/T/ipykernel_42031/3950971282.py:3: SettingWithCopyWarning: \n",
      "A value is trying to be set on a copy of a slice from a DataFrame.\n",
      "Try using .loc[row_indexer,col_indexer] = value instead\n",
      "\n",
      "See the caveats in the documentation: https://pandas.pydata.org/pandas-docs/stable/user_guide/indexing.html#returning-a-view-versus-a-copy\n",
      "  tmp['keyword'] = tmp.msg.progress_apply(lambda x: kw_model.extract_keywords(x, keyphrase_ngram_range=(2,4), use_maxsum = True, top_n = 1))\n"
     ]
    },
    {
     "name": "stdout",
     "output_type": "stream",
     "text": [
      "{i} complete\n"
     ]
    },
    {
     "name": "stderr",
     "output_type": "stream",
     "text": [
      "100%|██████████| 828/828 [04:56<00:00,  2.79it/s]\n",
      "/var/folders/1b/dx8_94fs0q740wx3lfknk6y40000gn/T/ipykernel_42031/3950971282.py:3: SettingWithCopyWarning: \n",
      "A value is trying to be set on a copy of a slice from a DataFrame.\n",
      "Try using .loc[row_indexer,col_indexer] = value instead\n",
      "\n",
      "See the caveats in the documentation: https://pandas.pydata.org/pandas-docs/stable/user_guide/indexing.html#returning-a-view-versus-a-copy\n",
      "  tmp['keyword'] = tmp.msg.progress_apply(lambda x: kw_model.extract_keywords(x, keyphrase_ngram_range=(2,4), use_maxsum = True, top_n = 1))\n"
     ]
    },
    {
     "name": "stdout",
     "output_type": "stream",
     "text": [
      "{i} complete\n"
     ]
    },
    {
     "name": "stderr",
     "output_type": "stream",
     "text": [
      "100%|██████████| 828/828 [04:50<00:00,  2.85it/s]\n",
      "/var/folders/1b/dx8_94fs0q740wx3lfknk6y40000gn/T/ipykernel_42031/3950971282.py:3: SettingWithCopyWarning: \n",
      "A value is trying to be set on a copy of a slice from a DataFrame.\n",
      "Try using .loc[row_indexer,col_indexer] = value instead\n",
      "\n",
      "See the caveats in the documentation: https://pandas.pydata.org/pandas-docs/stable/user_guide/indexing.html#returning-a-view-versus-a-copy\n",
      "  tmp['keyword'] = tmp.msg.progress_apply(lambda x: kw_model.extract_keywords(x, keyphrase_ngram_range=(2,4), use_maxsum = True, top_n = 1))\n"
     ]
    },
    {
     "name": "stdout",
     "output_type": "stream",
     "text": [
      "{i} complete\n"
     ]
    },
    {
     "name": "stderr",
     "output_type": "stream",
     "text": [
      "100%|██████████| 828/828 [04:57<00:00,  2.78it/s]\n",
      "/var/folders/1b/dx8_94fs0q740wx3lfknk6y40000gn/T/ipykernel_42031/3950971282.py:3: SettingWithCopyWarning: \n",
      "A value is trying to be set on a copy of a slice from a DataFrame.\n",
      "Try using .loc[row_indexer,col_indexer] = value instead\n",
      "\n",
      "See the caveats in the documentation: https://pandas.pydata.org/pandas-docs/stable/user_guide/indexing.html#returning-a-view-versus-a-copy\n",
      "  tmp['keyword'] = tmp.msg.progress_apply(lambda x: kw_model.extract_keywords(x, keyphrase_ngram_range=(2,4), use_maxsum = True, top_n = 1))\n"
     ]
    },
    {
     "name": "stdout",
     "output_type": "stream",
     "text": [
      "{i} complete\n"
     ]
    },
    {
     "name": "stderr",
     "output_type": "stream",
     "text": [
      "100%|██████████| 827/827 [51:28<00:00,  3.73s/it]    \n",
      "/var/folders/1b/dx8_94fs0q740wx3lfknk6y40000gn/T/ipykernel_42031/3950971282.py:3: SettingWithCopyWarning: \n",
      "A value is trying to be set on a copy of a slice from a DataFrame.\n",
      "Try using .loc[row_indexer,col_indexer] = value instead\n",
      "\n",
      "See the caveats in the documentation: https://pandas.pydata.org/pandas-docs/stable/user_guide/indexing.html#returning-a-view-versus-a-copy\n",
      "  tmp['keyword'] = tmp.msg.progress_apply(lambda x: kw_model.extract_keywords(x, keyphrase_ngram_range=(2,4), use_maxsum = True, top_n = 1))\n"
     ]
    },
    {
     "name": "stdout",
     "output_type": "stream",
     "text": [
      "{i} complete\n"
     ]
    },
    {
     "name": "stderr",
     "output_type": "stream",
     "text": [
      "100%|██████████| 821/821 [1:41:27<00:00,  7.42s/it]    \n",
      "/var/folders/1b/dx8_94fs0q740wx3lfknk6y40000gn/T/ipykernel_42031/3950971282.py:3: SettingWithCopyWarning: \n",
      "A value is trying to be set on a copy of a slice from a DataFrame.\n",
      "Try using .loc[row_indexer,col_indexer] = value instead\n",
      "\n",
      "See the caveats in the documentation: https://pandas.pydata.org/pandas-docs/stable/user_guide/indexing.html#returning-a-view-versus-a-copy\n",
      "  tmp['keyword'] = tmp.msg.progress_apply(lambda x: kw_model.extract_keywords(x, keyphrase_ngram_range=(2,4), use_maxsum = True, top_n = 1))\n"
     ]
    },
    {
     "name": "stdout",
     "output_type": "stream",
     "text": [
      "{i} complete\n"
     ]
    },
    {
     "name": "stderr",
     "output_type": "stream",
     "text": [
      "100%|██████████| 816/816 [38:15<00:00,  2.81s/it]    \n",
      "/var/folders/1b/dx8_94fs0q740wx3lfknk6y40000gn/T/ipykernel_42031/3950971282.py:3: SettingWithCopyWarning: \n",
      "A value is trying to be set on a copy of a slice from a DataFrame.\n",
      "Try using .loc[row_indexer,col_indexer] = value instead\n",
      "\n",
      "See the caveats in the documentation: https://pandas.pydata.org/pandas-docs/stable/user_guide/indexing.html#returning-a-view-versus-a-copy\n",
      "  tmp['keyword'] = tmp.msg.progress_apply(lambda x: kw_model.extract_keywords(x, keyphrase_ngram_range=(2,4), use_maxsum = True, top_n = 1))\n"
     ]
    },
    {
     "name": "stdout",
     "output_type": "stream",
     "text": [
      "{i} complete\n"
     ]
    },
    {
     "name": "stderr",
     "output_type": "stream",
     "text": [
      "100%|██████████| 816/816 [04:44<00:00,  2.87it/s]\n",
      "/var/folders/1b/dx8_94fs0q740wx3lfknk6y40000gn/T/ipykernel_42031/3950971282.py:3: SettingWithCopyWarning: \n",
      "A value is trying to be set on a copy of a slice from a DataFrame.\n",
      "Try using .loc[row_indexer,col_indexer] = value instead\n",
      "\n",
      "See the caveats in the documentation: https://pandas.pydata.org/pandas-docs/stable/user_guide/indexing.html#returning-a-view-versus-a-copy\n",
      "  tmp['keyword'] = tmp.msg.progress_apply(lambda x: kw_model.extract_keywords(x, keyphrase_ngram_range=(2,4), use_maxsum = True, top_n = 1))\n"
     ]
    },
    {
     "name": "stdout",
     "output_type": "stream",
     "text": [
      "{i} complete\n"
     ]
    },
    {
     "name": "stderr",
     "output_type": "stream",
     "text": [
      "100%|██████████| 813/813 [04:31<00:00,  2.99it/s]\n",
      "/var/folders/1b/dx8_94fs0q740wx3lfknk6y40000gn/T/ipykernel_42031/3950971282.py:3: SettingWithCopyWarning: \n",
      "A value is trying to be set on a copy of a slice from a DataFrame.\n",
      "Try using .loc[row_indexer,col_indexer] = value instead\n",
      "\n",
      "See the caveats in the documentation: https://pandas.pydata.org/pandas-docs/stable/user_guide/indexing.html#returning-a-view-versus-a-copy\n",
      "  tmp['keyword'] = tmp.msg.progress_apply(lambda x: kw_model.extract_keywords(x, keyphrase_ngram_range=(2,4), use_maxsum = True, top_n = 1))\n"
     ]
    },
    {
     "name": "stdout",
     "output_type": "stream",
     "text": [
      "{i} complete\n"
     ]
    },
    {
     "name": "stderr",
     "output_type": "stream",
     "text": [
      "100%|██████████| 812/812 [04:38<00:00,  2.91it/s]\n",
      "/var/folders/1b/dx8_94fs0q740wx3lfknk6y40000gn/T/ipykernel_42031/3950971282.py:3: SettingWithCopyWarning: \n",
      "A value is trying to be set on a copy of a slice from a DataFrame.\n",
      "Try using .loc[row_indexer,col_indexer] = value instead\n",
      "\n",
      "See the caveats in the documentation: https://pandas.pydata.org/pandas-docs/stable/user_guide/indexing.html#returning-a-view-versus-a-copy\n",
      "  tmp['keyword'] = tmp.msg.progress_apply(lambda x: kw_model.extract_keywords(x, keyphrase_ngram_range=(2,4), use_maxsum = True, top_n = 1))\n"
     ]
    },
    {
     "name": "stdout",
     "output_type": "stream",
     "text": [
      "{i} complete\n"
     ]
    },
    {
     "name": "stderr",
     "output_type": "stream",
     "text": [
      "100%|██████████| 809/809 [04:49<00:00,  2.80it/s]\n",
      "/var/folders/1b/dx8_94fs0q740wx3lfknk6y40000gn/T/ipykernel_42031/3950971282.py:3: SettingWithCopyWarning: \n",
      "A value is trying to be set on a copy of a slice from a DataFrame.\n",
      "Try using .loc[row_indexer,col_indexer] = value instead\n",
      "\n",
      "See the caveats in the documentation: https://pandas.pydata.org/pandas-docs/stable/user_guide/indexing.html#returning-a-view-versus-a-copy\n",
      "  tmp['keyword'] = tmp.msg.progress_apply(lambda x: kw_model.extract_keywords(x, keyphrase_ngram_range=(2,4), use_maxsum = True, top_n = 1))\n"
     ]
    },
    {
     "name": "stdout",
     "output_type": "stream",
     "text": [
      "{i} complete\n"
     ]
    },
    {
     "name": "stderr",
     "output_type": "stream",
     "text": [
      "100%|██████████| 807/807 [04:41<00:00,  2.86it/s]\n",
      "/var/folders/1b/dx8_94fs0q740wx3lfknk6y40000gn/T/ipykernel_42031/3950971282.py:3: SettingWithCopyWarning: \n",
      "A value is trying to be set on a copy of a slice from a DataFrame.\n",
      "Try using .loc[row_indexer,col_indexer] = value instead\n",
      "\n",
      "See the caveats in the documentation: https://pandas.pydata.org/pandas-docs/stable/user_guide/indexing.html#returning-a-view-versus-a-copy\n",
      "  tmp['keyword'] = tmp.msg.progress_apply(lambda x: kw_model.extract_keywords(x, keyphrase_ngram_range=(2,4), use_maxsum = True, top_n = 1))\n"
     ]
    },
    {
     "name": "stdout",
     "output_type": "stream",
     "text": [
      "{i} complete\n"
     ]
    },
    {
     "name": "stderr",
     "output_type": "stream",
     "text": [
      "100%|██████████| 807/807 [04:17<00:00,  3.14it/s]\n",
      "/var/folders/1b/dx8_94fs0q740wx3lfknk6y40000gn/T/ipykernel_42031/3950971282.py:3: SettingWithCopyWarning: \n",
      "A value is trying to be set on a copy of a slice from a DataFrame.\n",
      "Try using .loc[row_indexer,col_indexer] = value instead\n",
      "\n",
      "See the caveats in the documentation: https://pandas.pydata.org/pandas-docs/stable/user_guide/indexing.html#returning-a-view-versus-a-copy\n",
      "  tmp['keyword'] = tmp.msg.progress_apply(lambda x: kw_model.extract_keywords(x, keyphrase_ngram_range=(2,4), use_maxsum = True, top_n = 1))\n"
     ]
    },
    {
     "name": "stdout",
     "output_type": "stream",
     "text": [
      "{i} complete\n"
     ]
    },
    {
     "name": "stderr",
     "output_type": "stream",
     "text": [
      "100%|██████████| 789/789 [04:32<00:00,  2.90it/s]\n",
      "/var/folders/1b/dx8_94fs0q740wx3lfknk6y40000gn/T/ipykernel_42031/3950971282.py:3: SettingWithCopyWarning: \n",
      "A value is trying to be set on a copy of a slice from a DataFrame.\n",
      "Try using .loc[row_indexer,col_indexer] = value instead\n",
      "\n",
      "See the caveats in the documentation: https://pandas.pydata.org/pandas-docs/stable/user_guide/indexing.html#returning-a-view-versus-a-copy\n",
      "  tmp['keyword'] = tmp.msg.progress_apply(lambda x: kw_model.extract_keywords(x, keyphrase_ngram_range=(2,4), use_maxsum = True, top_n = 1))\n"
     ]
    },
    {
     "name": "stdout",
     "output_type": "stream",
     "text": [
      "{i} complete\n"
     ]
    },
    {
     "name": "stderr",
     "output_type": "stream",
     "text": [
      "100%|██████████| 789/789 [04:21<00:00,  3.01it/s]\n",
      "/var/folders/1b/dx8_94fs0q740wx3lfknk6y40000gn/T/ipykernel_42031/3950971282.py:3: SettingWithCopyWarning: \n",
      "A value is trying to be set on a copy of a slice from a DataFrame.\n",
      "Try using .loc[row_indexer,col_indexer] = value instead\n",
      "\n",
      "See the caveats in the documentation: https://pandas.pydata.org/pandas-docs/stable/user_guide/indexing.html#returning-a-view-versus-a-copy\n",
      "  tmp['keyword'] = tmp.msg.progress_apply(lambda x: kw_model.extract_keywords(x, keyphrase_ngram_range=(2,4), use_maxsum = True, top_n = 1))\n"
     ]
    },
    {
     "name": "stdout",
     "output_type": "stream",
     "text": [
      "{i} complete\n"
     ]
    },
    {
     "name": "stderr",
     "output_type": "stream",
     "text": [
      "100%|██████████| 776/776 [04:22<00:00,  2.95it/s]\n",
      "/var/folders/1b/dx8_94fs0q740wx3lfknk6y40000gn/T/ipykernel_42031/3950971282.py:3: SettingWithCopyWarning: \n",
      "A value is trying to be set on a copy of a slice from a DataFrame.\n",
      "Try using .loc[row_indexer,col_indexer] = value instead\n",
      "\n",
      "See the caveats in the documentation: https://pandas.pydata.org/pandas-docs/stable/user_guide/indexing.html#returning-a-view-versus-a-copy\n",
      "  tmp['keyword'] = tmp.msg.progress_apply(lambda x: kw_model.extract_keywords(x, keyphrase_ngram_range=(2,4), use_maxsum = True, top_n = 1))\n"
     ]
    },
    {
     "name": "stdout",
     "output_type": "stream",
     "text": [
      "{i} complete\n"
     ]
    },
    {
     "name": "stderr",
     "output_type": "stream",
     "text": [
      "100%|██████████| 776/776 [04:35<00:00,  2.82it/s]\n",
      "/var/folders/1b/dx8_94fs0q740wx3lfknk6y40000gn/T/ipykernel_42031/3950971282.py:3: SettingWithCopyWarning: \n",
      "A value is trying to be set on a copy of a slice from a DataFrame.\n",
      "Try using .loc[row_indexer,col_indexer] = value instead\n",
      "\n",
      "See the caveats in the documentation: https://pandas.pydata.org/pandas-docs/stable/user_guide/indexing.html#returning-a-view-versus-a-copy\n",
      "  tmp['keyword'] = tmp.msg.progress_apply(lambda x: kw_model.extract_keywords(x, keyphrase_ngram_range=(2,4), use_maxsum = True, top_n = 1))\n"
     ]
    },
    {
     "name": "stdout",
     "output_type": "stream",
     "text": [
      "{i} complete\n"
     ]
    },
    {
     "name": "stderr",
     "output_type": "stream",
     "text": [
      "100%|██████████| 767/767 [04:24<00:00,  2.90it/s]\n",
      "/var/folders/1b/dx8_94fs0q740wx3lfknk6y40000gn/T/ipykernel_42031/3950971282.py:3: SettingWithCopyWarning: \n",
      "A value is trying to be set on a copy of a slice from a DataFrame.\n",
      "Try using .loc[row_indexer,col_indexer] = value instead\n",
      "\n",
      "See the caveats in the documentation: https://pandas.pydata.org/pandas-docs/stable/user_guide/indexing.html#returning-a-view-versus-a-copy\n",
      "  tmp['keyword'] = tmp.msg.progress_apply(lambda x: kw_model.extract_keywords(x, keyphrase_ngram_range=(2,4), use_maxsum = True, top_n = 1))\n"
     ]
    },
    {
     "name": "stdout",
     "output_type": "stream",
     "text": [
      "{i} complete\n"
     ]
    },
    {
     "name": "stderr",
     "output_type": "stream",
     "text": [
      "100%|██████████| 764/764 [04:07<00:00,  3.09it/s]\n",
      "/var/folders/1b/dx8_94fs0q740wx3lfknk6y40000gn/T/ipykernel_42031/3950971282.py:3: SettingWithCopyWarning: \n",
      "A value is trying to be set on a copy of a slice from a DataFrame.\n",
      "Try using .loc[row_indexer,col_indexer] = value instead\n",
      "\n",
      "See the caveats in the documentation: https://pandas.pydata.org/pandas-docs/stable/user_guide/indexing.html#returning-a-view-versus-a-copy\n",
      "  tmp['keyword'] = tmp.msg.progress_apply(lambda x: kw_model.extract_keywords(x, keyphrase_ngram_range=(2,4), use_maxsum = True, top_n = 1))\n"
     ]
    },
    {
     "name": "stdout",
     "output_type": "stream",
     "text": [
      "{i} complete\n"
     ]
    },
    {
     "name": "stderr",
     "output_type": "stream",
     "text": [
      "100%|██████████| 758/758 [04:30<00:00,  2.81it/s]\n",
      "/var/folders/1b/dx8_94fs0q740wx3lfknk6y40000gn/T/ipykernel_42031/3950971282.py:3: SettingWithCopyWarning: \n",
      "A value is trying to be set on a copy of a slice from a DataFrame.\n",
      "Try using .loc[row_indexer,col_indexer] = value instead\n",
      "\n",
      "See the caveats in the documentation: https://pandas.pydata.org/pandas-docs/stable/user_guide/indexing.html#returning-a-view-versus-a-copy\n",
      "  tmp['keyword'] = tmp.msg.progress_apply(lambda x: kw_model.extract_keywords(x, keyphrase_ngram_range=(2,4), use_maxsum = True, top_n = 1))\n"
     ]
    },
    {
     "name": "stdout",
     "output_type": "stream",
     "text": [
      "{i} complete\n"
     ]
    },
    {
     "name": "stderr",
     "output_type": "stream",
     "text": [
      "100%|██████████| 758/758 [04:33<00:00,  2.77it/s]\n",
      "/var/folders/1b/dx8_94fs0q740wx3lfknk6y40000gn/T/ipykernel_42031/3950971282.py:3: SettingWithCopyWarning: \n",
      "A value is trying to be set on a copy of a slice from a DataFrame.\n",
      "Try using .loc[row_indexer,col_indexer] = value instead\n",
      "\n",
      "See the caveats in the documentation: https://pandas.pydata.org/pandas-docs/stable/user_guide/indexing.html#returning-a-view-versus-a-copy\n",
      "  tmp['keyword'] = tmp.msg.progress_apply(lambda x: kw_model.extract_keywords(x, keyphrase_ngram_range=(2,4), use_maxsum = True, top_n = 1))\n"
     ]
    },
    {
     "name": "stdout",
     "output_type": "stream",
     "text": [
      "{i} complete\n"
     ]
    },
    {
     "name": "stderr",
     "output_type": "stream",
     "text": [
      "100%|██████████| 757/757 [04:23<00:00,  2.87it/s]\n",
      "/var/folders/1b/dx8_94fs0q740wx3lfknk6y40000gn/T/ipykernel_42031/3950971282.py:3: SettingWithCopyWarning: \n",
      "A value is trying to be set on a copy of a slice from a DataFrame.\n",
      "Try using .loc[row_indexer,col_indexer] = value instead\n",
      "\n",
      "See the caveats in the documentation: https://pandas.pydata.org/pandas-docs/stable/user_guide/indexing.html#returning-a-view-versus-a-copy\n",
      "  tmp['keyword'] = tmp.msg.progress_apply(lambda x: kw_model.extract_keywords(x, keyphrase_ngram_range=(2,4), use_maxsum = True, top_n = 1))\n"
     ]
    },
    {
     "name": "stdout",
     "output_type": "stream",
     "text": [
      "{i} complete\n"
     ]
    },
    {
     "name": "stderr",
     "output_type": "stream",
     "text": [
      "100%|██████████| 754/754 [04:19<00:00,  2.91it/s]\n",
      "/var/folders/1b/dx8_94fs0q740wx3lfknk6y40000gn/T/ipykernel_42031/3950971282.py:3: SettingWithCopyWarning: \n",
      "A value is trying to be set on a copy of a slice from a DataFrame.\n",
      "Try using .loc[row_indexer,col_indexer] = value instead\n",
      "\n",
      "See the caveats in the documentation: https://pandas.pydata.org/pandas-docs/stable/user_guide/indexing.html#returning-a-view-versus-a-copy\n",
      "  tmp['keyword'] = tmp.msg.progress_apply(lambda x: kw_model.extract_keywords(x, keyphrase_ngram_range=(2,4), use_maxsum = True, top_n = 1))\n"
     ]
    },
    {
     "name": "stdout",
     "output_type": "stream",
     "text": [
      "{i} complete\n"
     ]
    },
    {
     "name": "stderr",
     "output_type": "stream",
     "text": [
      "100%|██████████| 750/750 [04:11<00:00,  2.98it/s]\n",
      "/var/folders/1b/dx8_94fs0q740wx3lfknk6y40000gn/T/ipykernel_42031/3950971282.py:3: SettingWithCopyWarning: \n",
      "A value is trying to be set on a copy of a slice from a DataFrame.\n",
      "Try using .loc[row_indexer,col_indexer] = value instead\n",
      "\n",
      "See the caveats in the documentation: https://pandas.pydata.org/pandas-docs/stable/user_guide/indexing.html#returning-a-view-versus-a-copy\n",
      "  tmp['keyword'] = tmp.msg.progress_apply(lambda x: kw_model.extract_keywords(x, keyphrase_ngram_range=(2,4), use_maxsum = True, top_n = 1))\n"
     ]
    },
    {
     "name": "stdout",
     "output_type": "stream",
     "text": [
      "{i} complete\n"
     ]
    },
    {
     "name": "stderr",
     "output_type": "stream",
     "text": [
      "100%|██████████| 748/748 [04:26<00:00,  2.80it/s]\n",
      "/var/folders/1b/dx8_94fs0q740wx3lfknk6y40000gn/T/ipykernel_42031/3950971282.py:3: SettingWithCopyWarning: \n",
      "A value is trying to be set on a copy of a slice from a DataFrame.\n",
      "Try using .loc[row_indexer,col_indexer] = value instead\n",
      "\n",
      "See the caveats in the documentation: https://pandas.pydata.org/pandas-docs/stable/user_guide/indexing.html#returning-a-view-versus-a-copy\n",
      "  tmp['keyword'] = tmp.msg.progress_apply(lambda x: kw_model.extract_keywords(x, keyphrase_ngram_range=(2,4), use_maxsum = True, top_n = 1))\n"
     ]
    },
    {
     "name": "stdout",
     "output_type": "stream",
     "text": [
      "{i} complete\n"
     ]
    },
    {
     "name": "stderr",
     "output_type": "stream",
     "text": [
      "100%|██████████| 740/740 [04:02<00:00,  3.05it/s]\n",
      "/var/folders/1b/dx8_94fs0q740wx3lfknk6y40000gn/T/ipykernel_42031/3950971282.py:3: SettingWithCopyWarning: \n",
      "A value is trying to be set on a copy of a slice from a DataFrame.\n",
      "Try using .loc[row_indexer,col_indexer] = value instead\n",
      "\n",
      "See the caveats in the documentation: https://pandas.pydata.org/pandas-docs/stable/user_guide/indexing.html#returning-a-view-versus-a-copy\n",
      "  tmp['keyword'] = tmp.msg.progress_apply(lambda x: kw_model.extract_keywords(x, keyphrase_ngram_range=(2,4), use_maxsum = True, top_n = 1))\n"
     ]
    },
    {
     "name": "stdout",
     "output_type": "stream",
     "text": [
      "{i} complete\n"
     ]
    },
    {
     "name": "stderr",
     "output_type": "stream",
     "text": [
      "100%|██████████| 730/730 [04:12<00:00,  2.89it/s]\n",
      "/var/folders/1b/dx8_94fs0q740wx3lfknk6y40000gn/T/ipykernel_42031/3950971282.py:3: SettingWithCopyWarning: \n",
      "A value is trying to be set on a copy of a slice from a DataFrame.\n",
      "Try using .loc[row_indexer,col_indexer] = value instead\n",
      "\n",
      "See the caveats in the documentation: https://pandas.pydata.org/pandas-docs/stable/user_guide/indexing.html#returning-a-view-versus-a-copy\n",
      "  tmp['keyword'] = tmp.msg.progress_apply(lambda x: kw_model.extract_keywords(x, keyphrase_ngram_range=(2,4), use_maxsum = True, top_n = 1))\n"
     ]
    },
    {
     "name": "stdout",
     "output_type": "stream",
     "text": [
      "{i} complete\n"
     ]
    },
    {
     "name": "stderr",
     "output_type": "stream",
     "text": [
      "100%|██████████| 724/724 [04:12<00:00,  2.87it/s]\n",
      "/var/folders/1b/dx8_94fs0q740wx3lfknk6y40000gn/T/ipykernel_42031/3950971282.py:3: SettingWithCopyWarning: \n",
      "A value is trying to be set on a copy of a slice from a DataFrame.\n",
      "Try using .loc[row_indexer,col_indexer] = value instead\n",
      "\n",
      "See the caveats in the documentation: https://pandas.pydata.org/pandas-docs/stable/user_guide/indexing.html#returning-a-view-versus-a-copy\n",
      "  tmp['keyword'] = tmp.msg.progress_apply(lambda x: kw_model.extract_keywords(x, keyphrase_ngram_range=(2,4), use_maxsum = True, top_n = 1))\n"
     ]
    },
    {
     "name": "stdout",
     "output_type": "stream",
     "text": [
      "{i} complete\n"
     ]
    },
    {
     "name": "stderr",
     "output_type": "stream",
     "text": [
      "100%|██████████| 723/723 [04:08<00:00,  2.91it/s]\n",
      "/var/folders/1b/dx8_94fs0q740wx3lfknk6y40000gn/T/ipykernel_42031/3950971282.py:3: SettingWithCopyWarning: \n",
      "A value is trying to be set on a copy of a slice from a DataFrame.\n",
      "Try using .loc[row_indexer,col_indexer] = value instead\n",
      "\n",
      "See the caveats in the documentation: https://pandas.pydata.org/pandas-docs/stable/user_guide/indexing.html#returning-a-view-versus-a-copy\n",
      "  tmp['keyword'] = tmp.msg.progress_apply(lambda x: kw_model.extract_keywords(x, keyphrase_ngram_range=(2,4), use_maxsum = True, top_n = 1))\n"
     ]
    },
    {
     "name": "stdout",
     "output_type": "stream",
     "text": [
      "{i} complete\n"
     ]
    },
    {
     "name": "stderr",
     "output_type": "stream",
     "text": [
      "100%|██████████| 722/722 [04:05<00:00,  2.94it/s]\n",
      "/var/folders/1b/dx8_94fs0q740wx3lfknk6y40000gn/T/ipykernel_42031/3950971282.py:3: SettingWithCopyWarning: \n",
      "A value is trying to be set on a copy of a slice from a DataFrame.\n",
      "Try using .loc[row_indexer,col_indexer] = value instead\n",
      "\n",
      "See the caveats in the documentation: https://pandas.pydata.org/pandas-docs/stable/user_guide/indexing.html#returning-a-view-versus-a-copy\n",
      "  tmp['keyword'] = tmp.msg.progress_apply(lambda x: kw_model.extract_keywords(x, keyphrase_ngram_range=(2,4), use_maxsum = True, top_n = 1))\n"
     ]
    },
    {
     "name": "stdout",
     "output_type": "stream",
     "text": [
      "{i} complete\n"
     ]
    },
    {
     "name": "stderr",
     "output_type": "stream",
     "text": [
      "100%|██████████| 719/719 [04:01<00:00,  2.98it/s]\n",
      "/var/folders/1b/dx8_94fs0q740wx3lfknk6y40000gn/T/ipykernel_42031/3950971282.py:3: SettingWithCopyWarning: \n",
      "A value is trying to be set on a copy of a slice from a DataFrame.\n",
      "Try using .loc[row_indexer,col_indexer] = value instead\n",
      "\n",
      "See the caveats in the documentation: https://pandas.pydata.org/pandas-docs/stable/user_guide/indexing.html#returning-a-view-versus-a-copy\n",
      "  tmp['keyword'] = tmp.msg.progress_apply(lambda x: kw_model.extract_keywords(x, keyphrase_ngram_range=(2,4), use_maxsum = True, top_n = 1))\n"
     ]
    },
    {
     "name": "stdout",
     "output_type": "stream",
     "text": [
      "{i} complete\n"
     ]
    },
    {
     "name": "stderr",
     "output_type": "stream",
     "text": [
      "100%|██████████| 719/719 [10:54<00:00,  1.10it/s]  \n",
      "/var/folders/1b/dx8_94fs0q740wx3lfknk6y40000gn/T/ipykernel_42031/3950971282.py:3: SettingWithCopyWarning: \n",
      "A value is trying to be set on a copy of a slice from a DataFrame.\n",
      "Try using .loc[row_indexer,col_indexer] = value instead\n",
      "\n",
      "See the caveats in the documentation: https://pandas.pydata.org/pandas-docs/stable/user_guide/indexing.html#returning-a-view-versus-a-copy\n",
      "  tmp['keyword'] = tmp.msg.progress_apply(lambda x: kw_model.extract_keywords(x, keyphrase_ngram_range=(2,4), use_maxsum = True, top_n = 1))\n"
     ]
    },
    {
     "name": "stdout",
     "output_type": "stream",
     "text": [
      "{i} complete\n"
     ]
    },
    {
     "name": "stderr",
     "output_type": "stream",
     "text": [
      "100%|██████████| 718/718 [38:38<00:00,  3.23s/it]    \n",
      "/var/folders/1b/dx8_94fs0q740wx3lfknk6y40000gn/T/ipykernel_42031/3950971282.py:3: SettingWithCopyWarning: \n",
      "A value is trying to be set on a copy of a slice from a DataFrame.\n",
      "Try using .loc[row_indexer,col_indexer] = value instead\n",
      "\n",
      "See the caveats in the documentation: https://pandas.pydata.org/pandas-docs/stable/user_guide/indexing.html#returning-a-view-versus-a-copy\n",
      "  tmp['keyword'] = tmp.msg.progress_apply(lambda x: kw_model.extract_keywords(x, keyphrase_ngram_range=(2,4), use_maxsum = True, top_n = 1))\n"
     ]
    },
    {
     "name": "stdout",
     "output_type": "stream",
     "text": [
      "{i} complete\n"
     ]
    },
    {
     "name": "stderr",
     "output_type": "stream",
     "text": [
      "100%|██████████| 717/717 [51:34<00:00,  4.32s/it]    \n",
      "/var/folders/1b/dx8_94fs0q740wx3lfknk6y40000gn/T/ipykernel_42031/3950971282.py:3: SettingWithCopyWarning: \n",
      "A value is trying to be set on a copy of a slice from a DataFrame.\n",
      "Try using .loc[row_indexer,col_indexer] = value instead\n",
      "\n",
      "See the caveats in the documentation: https://pandas.pydata.org/pandas-docs/stable/user_guide/indexing.html#returning-a-view-versus-a-copy\n",
      "  tmp['keyword'] = tmp.msg.progress_apply(lambda x: kw_model.extract_keywords(x, keyphrase_ngram_range=(2,4), use_maxsum = True, top_n = 1))\n"
     ]
    },
    {
     "name": "stdout",
     "output_type": "stream",
     "text": [
      "{i} complete\n"
     ]
    },
    {
     "name": "stderr",
     "output_type": "stream",
     "text": [
      "100%|██████████| 712/712 [26:16<00:00,  2.21s/it]    \n",
      "/var/folders/1b/dx8_94fs0q740wx3lfknk6y40000gn/T/ipykernel_42031/3950971282.py:3: SettingWithCopyWarning: \n",
      "A value is trying to be set on a copy of a slice from a DataFrame.\n",
      "Try using .loc[row_indexer,col_indexer] = value instead\n",
      "\n",
      "See the caveats in the documentation: https://pandas.pydata.org/pandas-docs/stable/user_guide/indexing.html#returning-a-view-versus-a-copy\n",
      "  tmp['keyword'] = tmp.msg.progress_apply(lambda x: kw_model.extract_keywords(x, keyphrase_ngram_range=(2,4), use_maxsum = True, top_n = 1))\n"
     ]
    },
    {
     "name": "stdout",
     "output_type": "stream",
     "text": [
      "{i} complete\n"
     ]
    },
    {
     "name": "stderr",
     "output_type": "stream",
     "text": [
      "100%|██████████| 709/709 [22:43<00:00,  1.92s/it]   \n",
      "/var/folders/1b/dx8_94fs0q740wx3lfknk6y40000gn/T/ipykernel_42031/3950971282.py:3: SettingWithCopyWarning: \n",
      "A value is trying to be set on a copy of a slice from a DataFrame.\n",
      "Try using .loc[row_indexer,col_indexer] = value instead\n",
      "\n",
      "See the caveats in the documentation: https://pandas.pydata.org/pandas-docs/stable/user_guide/indexing.html#returning-a-view-versus-a-copy\n",
      "  tmp['keyword'] = tmp.msg.progress_apply(lambda x: kw_model.extract_keywords(x, keyphrase_ngram_range=(2,4), use_maxsum = True, top_n = 1))\n"
     ]
    },
    {
     "name": "stdout",
     "output_type": "stream",
     "text": [
      "{i} complete\n"
     ]
    },
    {
     "name": "stderr",
     "output_type": "stream",
     "text": [
      "100%|██████████| 707/707 [12:40<00:00,  1.08s/it]  \n",
      "/var/folders/1b/dx8_94fs0q740wx3lfknk6y40000gn/T/ipykernel_42031/3950971282.py:3: SettingWithCopyWarning: \n",
      "A value is trying to be set on a copy of a slice from a DataFrame.\n",
      "Try using .loc[row_indexer,col_indexer] = value instead\n",
      "\n",
      "See the caveats in the documentation: https://pandas.pydata.org/pandas-docs/stable/user_guide/indexing.html#returning-a-view-versus-a-copy\n",
      "  tmp['keyword'] = tmp.msg.progress_apply(lambda x: kw_model.extract_keywords(x, keyphrase_ngram_range=(2,4), use_maxsum = True, top_n = 1))\n"
     ]
    },
    {
     "name": "stdout",
     "output_type": "stream",
     "text": [
      "{i} complete\n"
     ]
    },
    {
     "name": "stderr",
     "output_type": "stream",
     "text": [
      "100%|██████████| 705/705 [02:52<00:00,  4.08it/s]\n",
      "/var/folders/1b/dx8_94fs0q740wx3lfknk6y40000gn/T/ipykernel_42031/3950971282.py:3: SettingWithCopyWarning: \n",
      "A value is trying to be set on a copy of a slice from a DataFrame.\n",
      "Try using .loc[row_indexer,col_indexer] = value instead\n",
      "\n",
      "See the caveats in the documentation: https://pandas.pydata.org/pandas-docs/stable/user_guide/indexing.html#returning-a-view-versus-a-copy\n",
      "  tmp['keyword'] = tmp.msg.progress_apply(lambda x: kw_model.extract_keywords(x, keyphrase_ngram_range=(2,4), use_maxsum = True, top_n = 1))\n"
     ]
    },
    {
     "name": "stdout",
     "output_type": "stream",
     "text": [
      "{i} complete\n"
     ]
    },
    {
     "name": "stderr",
     "output_type": "stream",
     "text": [
      "100%|██████████| 701/701 [04:05<00:00,  2.86it/s]\n",
      "/var/folders/1b/dx8_94fs0q740wx3lfknk6y40000gn/T/ipykernel_42031/3950971282.py:3: SettingWithCopyWarning: \n",
      "A value is trying to be set on a copy of a slice from a DataFrame.\n",
      "Try using .loc[row_indexer,col_indexer] = value instead\n",
      "\n",
      "See the caveats in the documentation: https://pandas.pydata.org/pandas-docs/stable/user_guide/indexing.html#returning-a-view-versus-a-copy\n",
      "  tmp['keyword'] = tmp.msg.progress_apply(lambda x: kw_model.extract_keywords(x, keyphrase_ngram_range=(2,4), use_maxsum = True, top_n = 1))\n"
     ]
    },
    {
     "name": "stdout",
     "output_type": "stream",
     "text": [
      "{i} complete\n"
     ]
    },
    {
     "name": "stderr",
     "output_type": "stream",
     "text": [
      "100%|██████████| 694/694 [03:53<00:00,  2.98it/s]\n",
      "/var/folders/1b/dx8_94fs0q740wx3lfknk6y40000gn/T/ipykernel_42031/3950971282.py:3: SettingWithCopyWarning: \n",
      "A value is trying to be set on a copy of a slice from a DataFrame.\n",
      "Try using .loc[row_indexer,col_indexer] = value instead\n",
      "\n",
      "See the caveats in the documentation: https://pandas.pydata.org/pandas-docs/stable/user_guide/indexing.html#returning-a-view-versus-a-copy\n",
      "  tmp['keyword'] = tmp.msg.progress_apply(lambda x: kw_model.extract_keywords(x, keyphrase_ngram_range=(2,4), use_maxsum = True, top_n = 1))\n"
     ]
    },
    {
     "name": "stdout",
     "output_type": "stream",
     "text": [
      "{i} complete\n"
     ]
    },
    {
     "name": "stderr",
     "output_type": "stream",
     "text": [
      "100%|██████████| 687/687 [03:55<00:00,  2.91it/s]\n",
      "/var/folders/1b/dx8_94fs0q740wx3lfknk6y40000gn/T/ipykernel_42031/3950971282.py:3: SettingWithCopyWarning: \n",
      "A value is trying to be set on a copy of a slice from a DataFrame.\n",
      "Try using .loc[row_indexer,col_indexer] = value instead\n",
      "\n",
      "See the caveats in the documentation: https://pandas.pydata.org/pandas-docs/stable/user_guide/indexing.html#returning-a-view-versus-a-copy\n",
      "  tmp['keyword'] = tmp.msg.progress_apply(lambda x: kw_model.extract_keywords(x, keyphrase_ngram_range=(2,4), use_maxsum = True, top_n = 1))\n"
     ]
    },
    {
     "name": "stdout",
     "output_type": "stream",
     "text": [
      "{i} complete\n"
     ]
    },
    {
     "name": "stderr",
     "output_type": "stream",
     "text": [
      "100%|██████████| 685/685 [03:56<00:00,  2.90it/s]\n",
      "/var/folders/1b/dx8_94fs0q740wx3lfknk6y40000gn/T/ipykernel_42031/3950971282.py:3: SettingWithCopyWarning: \n",
      "A value is trying to be set on a copy of a slice from a DataFrame.\n",
      "Try using .loc[row_indexer,col_indexer] = value instead\n",
      "\n",
      "See the caveats in the documentation: https://pandas.pydata.org/pandas-docs/stable/user_guide/indexing.html#returning-a-view-versus-a-copy\n",
      "  tmp['keyword'] = tmp.msg.progress_apply(lambda x: kw_model.extract_keywords(x, keyphrase_ngram_range=(2,4), use_maxsum = True, top_n = 1))\n"
     ]
    },
    {
     "name": "stdout",
     "output_type": "stream",
     "text": [
      "{i} complete\n"
     ]
    },
    {
     "name": "stderr",
     "output_type": "stream",
     "text": [
      "100%|██████████| 684/684 [03:51<00:00,  2.95it/s]\n",
      "/var/folders/1b/dx8_94fs0q740wx3lfknk6y40000gn/T/ipykernel_42031/3950971282.py:3: SettingWithCopyWarning: \n",
      "A value is trying to be set on a copy of a slice from a DataFrame.\n",
      "Try using .loc[row_indexer,col_indexer] = value instead\n",
      "\n",
      "See the caveats in the documentation: https://pandas.pydata.org/pandas-docs/stable/user_guide/indexing.html#returning-a-view-versus-a-copy\n",
      "  tmp['keyword'] = tmp.msg.progress_apply(lambda x: kw_model.extract_keywords(x, keyphrase_ngram_range=(2,4), use_maxsum = True, top_n = 1))\n"
     ]
    },
    {
     "name": "stdout",
     "output_type": "stream",
     "text": [
      "{i} complete\n"
     ]
    },
    {
     "name": "stderr",
     "output_type": "stream",
     "text": [
      "100%|██████████| 675/675 [03:39<00:00,  3.07it/s]\n",
      "/var/folders/1b/dx8_94fs0q740wx3lfknk6y40000gn/T/ipykernel_42031/3950971282.py:3: SettingWithCopyWarning: \n",
      "A value is trying to be set on a copy of a slice from a DataFrame.\n",
      "Try using .loc[row_indexer,col_indexer] = value instead\n",
      "\n",
      "See the caveats in the documentation: https://pandas.pydata.org/pandas-docs/stable/user_guide/indexing.html#returning-a-view-versus-a-copy\n",
      "  tmp['keyword'] = tmp.msg.progress_apply(lambda x: kw_model.extract_keywords(x, keyphrase_ngram_range=(2,4), use_maxsum = True, top_n = 1))\n"
     ]
    },
    {
     "name": "stdout",
     "output_type": "stream",
     "text": [
      "{i} complete\n"
     ]
    },
    {
     "name": "stderr",
     "output_type": "stream",
     "text": [
      "100%|██████████| 675/675 [03:46<00:00,  2.99it/s]\n",
      "/var/folders/1b/dx8_94fs0q740wx3lfknk6y40000gn/T/ipykernel_42031/3950971282.py:3: SettingWithCopyWarning: \n",
      "A value is trying to be set on a copy of a slice from a DataFrame.\n",
      "Try using .loc[row_indexer,col_indexer] = value instead\n",
      "\n",
      "See the caveats in the documentation: https://pandas.pydata.org/pandas-docs/stable/user_guide/indexing.html#returning-a-view-versus-a-copy\n",
      "  tmp['keyword'] = tmp.msg.progress_apply(lambda x: kw_model.extract_keywords(x, keyphrase_ngram_range=(2,4), use_maxsum = True, top_n = 1))\n"
     ]
    },
    {
     "name": "stdout",
     "output_type": "stream",
     "text": [
      "{i} complete\n"
     ]
    },
    {
     "name": "stderr",
     "output_type": "stream",
     "text": [
      "100%|██████████| 669/669 [03:38<00:00,  3.07it/s]\n",
      "/var/folders/1b/dx8_94fs0q740wx3lfknk6y40000gn/T/ipykernel_42031/3950971282.py:3: SettingWithCopyWarning: \n",
      "A value is trying to be set on a copy of a slice from a DataFrame.\n",
      "Try using .loc[row_indexer,col_indexer] = value instead\n",
      "\n",
      "See the caveats in the documentation: https://pandas.pydata.org/pandas-docs/stable/user_guide/indexing.html#returning-a-view-versus-a-copy\n",
      "  tmp['keyword'] = tmp.msg.progress_apply(lambda x: kw_model.extract_keywords(x, keyphrase_ngram_range=(2,4), use_maxsum = True, top_n = 1))\n"
     ]
    },
    {
     "name": "stdout",
     "output_type": "stream",
     "text": [
      "{i} complete\n"
     ]
    },
    {
     "name": "stderr",
     "output_type": "stream",
     "text": [
      "100%|██████████| 664/664 [03:47<00:00,  2.92it/s]\n",
      "/var/folders/1b/dx8_94fs0q740wx3lfknk6y40000gn/T/ipykernel_42031/3950971282.py:3: SettingWithCopyWarning: \n",
      "A value is trying to be set on a copy of a slice from a DataFrame.\n",
      "Try using .loc[row_indexer,col_indexer] = value instead\n",
      "\n",
      "See the caveats in the documentation: https://pandas.pydata.org/pandas-docs/stable/user_guide/indexing.html#returning-a-view-versus-a-copy\n",
      "  tmp['keyword'] = tmp.msg.progress_apply(lambda x: kw_model.extract_keywords(x, keyphrase_ngram_range=(2,4), use_maxsum = True, top_n = 1))\n"
     ]
    },
    {
     "name": "stdout",
     "output_type": "stream",
     "text": [
      "{i} complete\n"
     ]
    },
    {
     "name": "stderr",
     "output_type": "stream",
     "text": [
      "100%|██████████| 659/659 [03:32<00:00,  3.11it/s]\n",
      "/var/folders/1b/dx8_94fs0q740wx3lfknk6y40000gn/T/ipykernel_42031/3950971282.py:3: SettingWithCopyWarning: \n",
      "A value is trying to be set on a copy of a slice from a DataFrame.\n",
      "Try using .loc[row_indexer,col_indexer] = value instead\n",
      "\n",
      "See the caveats in the documentation: https://pandas.pydata.org/pandas-docs/stable/user_guide/indexing.html#returning-a-view-versus-a-copy\n",
      "  tmp['keyword'] = tmp.msg.progress_apply(lambda x: kw_model.extract_keywords(x, keyphrase_ngram_range=(2,4), use_maxsum = True, top_n = 1))\n"
     ]
    },
    {
     "name": "stdout",
     "output_type": "stream",
     "text": [
      "{i} complete\n"
     ]
    },
    {
     "name": "stderr",
     "output_type": "stream",
     "text": [
      "100%|██████████| 659/659 [03:30<00:00,  3.13it/s]\n",
      "/var/folders/1b/dx8_94fs0q740wx3lfknk6y40000gn/T/ipykernel_42031/3950971282.py:3: SettingWithCopyWarning: \n",
      "A value is trying to be set on a copy of a slice from a DataFrame.\n",
      "Try using .loc[row_indexer,col_indexer] = value instead\n",
      "\n",
      "See the caveats in the documentation: https://pandas.pydata.org/pandas-docs/stable/user_guide/indexing.html#returning-a-view-versus-a-copy\n",
      "  tmp['keyword'] = tmp.msg.progress_apply(lambda x: kw_model.extract_keywords(x, keyphrase_ngram_range=(2,4), use_maxsum = True, top_n = 1))\n"
     ]
    },
    {
     "name": "stdout",
     "output_type": "stream",
     "text": [
      "{i} complete\n"
     ]
    },
    {
     "name": "stderr",
     "output_type": "stream",
     "text": [
      "100%|██████████| 659/659 [03:36<00:00,  3.05it/s]\n",
      "/var/folders/1b/dx8_94fs0q740wx3lfknk6y40000gn/T/ipykernel_42031/3950971282.py:3: SettingWithCopyWarning: \n",
      "A value is trying to be set on a copy of a slice from a DataFrame.\n",
      "Try using .loc[row_indexer,col_indexer] = value instead\n",
      "\n",
      "See the caveats in the documentation: https://pandas.pydata.org/pandas-docs/stable/user_guide/indexing.html#returning-a-view-versus-a-copy\n",
      "  tmp['keyword'] = tmp.msg.progress_apply(lambda x: kw_model.extract_keywords(x, keyphrase_ngram_range=(2,4), use_maxsum = True, top_n = 1))\n"
     ]
    },
    {
     "name": "stdout",
     "output_type": "stream",
     "text": [
      "{i} complete\n"
     ]
    },
    {
     "name": "stderr",
     "output_type": "stream",
     "text": [
      "100%|██████████| 658/658 [03:29<00:00,  3.14it/s]\n",
      "/var/folders/1b/dx8_94fs0q740wx3lfknk6y40000gn/T/ipykernel_42031/3950971282.py:3: SettingWithCopyWarning: \n",
      "A value is trying to be set on a copy of a slice from a DataFrame.\n",
      "Try using .loc[row_indexer,col_indexer] = value instead\n",
      "\n",
      "See the caveats in the documentation: https://pandas.pydata.org/pandas-docs/stable/user_guide/indexing.html#returning-a-view-versus-a-copy\n",
      "  tmp['keyword'] = tmp.msg.progress_apply(lambda x: kw_model.extract_keywords(x, keyphrase_ngram_range=(2,4), use_maxsum = True, top_n = 1))\n"
     ]
    },
    {
     "name": "stdout",
     "output_type": "stream",
     "text": [
      "{i} complete\n"
     ]
    },
    {
     "name": "stderr",
     "output_type": "stream",
     "text": [
      "100%|██████████| 647/647 [03:37<00:00,  2.97it/s]\n",
      "/var/folders/1b/dx8_94fs0q740wx3lfknk6y40000gn/T/ipykernel_42031/3950971282.py:3: SettingWithCopyWarning: \n",
      "A value is trying to be set on a copy of a slice from a DataFrame.\n",
      "Try using .loc[row_indexer,col_indexer] = value instead\n",
      "\n",
      "See the caveats in the documentation: https://pandas.pydata.org/pandas-docs/stable/user_guide/indexing.html#returning-a-view-versus-a-copy\n",
      "  tmp['keyword'] = tmp.msg.progress_apply(lambda x: kw_model.extract_keywords(x, keyphrase_ngram_range=(2,4), use_maxsum = True, top_n = 1))\n"
     ]
    },
    {
     "name": "stdout",
     "output_type": "stream",
     "text": [
      "{i} complete\n"
     ]
    },
    {
     "name": "stderr",
     "output_type": "stream",
     "text": [
      "100%|██████████| 642/642 [03:42<00:00,  2.89it/s]\n",
      "/var/folders/1b/dx8_94fs0q740wx3lfknk6y40000gn/T/ipykernel_42031/3950971282.py:3: SettingWithCopyWarning: \n",
      "A value is trying to be set on a copy of a slice from a DataFrame.\n",
      "Try using .loc[row_indexer,col_indexer] = value instead\n",
      "\n",
      "See the caveats in the documentation: https://pandas.pydata.org/pandas-docs/stable/user_guide/indexing.html#returning-a-view-versus-a-copy\n",
      "  tmp['keyword'] = tmp.msg.progress_apply(lambda x: kw_model.extract_keywords(x, keyphrase_ngram_range=(2,4), use_maxsum = True, top_n = 1))\n"
     ]
    },
    {
     "name": "stdout",
     "output_type": "stream",
     "text": [
      "{i} complete\n"
     ]
    },
    {
     "name": "stderr",
     "output_type": "stream",
     "text": [
      "100%|██████████| 640/640 [03:34<00:00,  2.98it/s]\n",
      "/var/folders/1b/dx8_94fs0q740wx3lfknk6y40000gn/T/ipykernel_42031/3950971282.py:3: SettingWithCopyWarning: \n",
      "A value is trying to be set on a copy of a slice from a DataFrame.\n",
      "Try using .loc[row_indexer,col_indexer] = value instead\n",
      "\n",
      "See the caveats in the documentation: https://pandas.pydata.org/pandas-docs/stable/user_guide/indexing.html#returning-a-view-versus-a-copy\n",
      "  tmp['keyword'] = tmp.msg.progress_apply(lambda x: kw_model.extract_keywords(x, keyphrase_ngram_range=(2,4), use_maxsum = True, top_n = 1))\n"
     ]
    },
    {
     "name": "stdout",
     "output_type": "stream",
     "text": [
      "{i} complete\n"
     ]
    },
    {
     "name": "stderr",
     "output_type": "stream",
     "text": [
      "100%|██████████| 638/638 [03:24<00:00,  3.12it/s]\n",
      "/var/folders/1b/dx8_94fs0q740wx3lfknk6y40000gn/T/ipykernel_42031/3950971282.py:3: SettingWithCopyWarning: \n",
      "A value is trying to be set on a copy of a slice from a DataFrame.\n",
      "Try using .loc[row_indexer,col_indexer] = value instead\n",
      "\n",
      "See the caveats in the documentation: https://pandas.pydata.org/pandas-docs/stable/user_guide/indexing.html#returning-a-view-versus-a-copy\n",
      "  tmp['keyword'] = tmp.msg.progress_apply(lambda x: kw_model.extract_keywords(x, keyphrase_ngram_range=(2,4), use_maxsum = True, top_n = 1))\n"
     ]
    },
    {
     "name": "stdout",
     "output_type": "stream",
     "text": [
      "{i} complete\n"
     ]
    },
    {
     "name": "stderr",
     "output_type": "stream",
     "text": [
      "100%|██████████| 631/631 [03:36<00:00,  2.92it/s]\n",
      "/var/folders/1b/dx8_94fs0q740wx3lfknk6y40000gn/T/ipykernel_42031/3950971282.py:3: SettingWithCopyWarning: \n",
      "A value is trying to be set on a copy of a slice from a DataFrame.\n",
      "Try using .loc[row_indexer,col_indexer] = value instead\n",
      "\n",
      "See the caveats in the documentation: https://pandas.pydata.org/pandas-docs/stable/user_guide/indexing.html#returning-a-view-versus-a-copy\n",
      "  tmp['keyword'] = tmp.msg.progress_apply(lambda x: kw_model.extract_keywords(x, keyphrase_ngram_range=(2,4), use_maxsum = True, top_n = 1))\n"
     ]
    },
    {
     "name": "stdout",
     "output_type": "stream",
     "text": [
      "{i} complete\n"
     ]
    },
    {
     "name": "stderr",
     "output_type": "stream",
     "text": [
      "100%|██████████| 625/625 [03:14<00:00,  3.21it/s]\n",
      "/var/folders/1b/dx8_94fs0q740wx3lfknk6y40000gn/T/ipykernel_42031/3950971282.py:3: SettingWithCopyWarning: \n",
      "A value is trying to be set on a copy of a slice from a DataFrame.\n",
      "Try using .loc[row_indexer,col_indexer] = value instead\n",
      "\n",
      "See the caveats in the documentation: https://pandas.pydata.org/pandas-docs/stable/user_guide/indexing.html#returning-a-view-versus-a-copy\n",
      "  tmp['keyword'] = tmp.msg.progress_apply(lambda x: kw_model.extract_keywords(x, keyphrase_ngram_range=(2,4), use_maxsum = True, top_n = 1))\n"
     ]
    },
    {
     "name": "stdout",
     "output_type": "stream",
     "text": [
      "{i} complete\n"
     ]
    },
    {
     "name": "stderr",
     "output_type": "stream",
     "text": [
      "100%|██████████| 624/624 [03:24<00:00,  3.06it/s]\n",
      "/var/folders/1b/dx8_94fs0q740wx3lfknk6y40000gn/T/ipykernel_42031/3950971282.py:3: SettingWithCopyWarning: \n",
      "A value is trying to be set on a copy of a slice from a DataFrame.\n",
      "Try using .loc[row_indexer,col_indexer] = value instead\n",
      "\n",
      "See the caveats in the documentation: https://pandas.pydata.org/pandas-docs/stable/user_guide/indexing.html#returning-a-view-versus-a-copy\n",
      "  tmp['keyword'] = tmp.msg.progress_apply(lambda x: kw_model.extract_keywords(x, keyphrase_ngram_range=(2,4), use_maxsum = True, top_n = 1))\n"
     ]
    },
    {
     "name": "stdout",
     "output_type": "stream",
     "text": [
      "{i} complete\n"
     ]
    },
    {
     "name": "stderr",
     "output_type": "stream",
     "text": [
      "100%|██████████| 620/620 [03:30<00:00,  2.94it/s]\n",
      "/var/folders/1b/dx8_94fs0q740wx3lfknk6y40000gn/T/ipykernel_42031/3950971282.py:3: SettingWithCopyWarning: \n",
      "A value is trying to be set on a copy of a slice from a DataFrame.\n",
      "Try using .loc[row_indexer,col_indexer] = value instead\n",
      "\n",
      "See the caveats in the documentation: https://pandas.pydata.org/pandas-docs/stable/user_guide/indexing.html#returning-a-view-versus-a-copy\n",
      "  tmp['keyword'] = tmp.msg.progress_apply(lambda x: kw_model.extract_keywords(x, keyphrase_ngram_range=(2,4), use_maxsum = True, top_n = 1))\n"
     ]
    },
    {
     "name": "stdout",
     "output_type": "stream",
     "text": [
      "{i} complete\n"
     ]
    },
    {
     "name": "stderr",
     "output_type": "stream",
     "text": [
      "100%|██████████| 611/611 [03:33<00:00,  2.86it/s]\n",
      "/var/folders/1b/dx8_94fs0q740wx3lfknk6y40000gn/T/ipykernel_42031/3950971282.py:3: SettingWithCopyWarning: \n",
      "A value is trying to be set on a copy of a slice from a DataFrame.\n",
      "Try using .loc[row_indexer,col_indexer] = value instead\n",
      "\n",
      "See the caveats in the documentation: https://pandas.pydata.org/pandas-docs/stable/user_guide/indexing.html#returning-a-view-versus-a-copy\n",
      "  tmp['keyword'] = tmp.msg.progress_apply(lambda x: kw_model.extract_keywords(x, keyphrase_ngram_range=(2,4), use_maxsum = True, top_n = 1))\n"
     ]
    },
    {
     "name": "stdout",
     "output_type": "stream",
     "text": [
      "{i} complete\n"
     ]
    },
    {
     "name": "stderr",
     "output_type": "stream",
     "text": [
      "100%|██████████| 611/611 [03:07<00:00,  3.27it/s]\n",
      "/var/folders/1b/dx8_94fs0q740wx3lfknk6y40000gn/T/ipykernel_42031/3950971282.py:3: SettingWithCopyWarning: \n",
      "A value is trying to be set on a copy of a slice from a DataFrame.\n",
      "Try using .loc[row_indexer,col_indexer] = value instead\n",
      "\n",
      "See the caveats in the documentation: https://pandas.pydata.org/pandas-docs/stable/user_guide/indexing.html#returning-a-view-versus-a-copy\n",
      "  tmp['keyword'] = tmp.msg.progress_apply(lambda x: kw_model.extract_keywords(x, keyphrase_ngram_range=(2,4), use_maxsum = True, top_n = 1))\n"
     ]
    },
    {
     "name": "stdout",
     "output_type": "stream",
     "text": [
      "{i} complete\n"
     ]
    },
    {
     "name": "stderr",
     "output_type": "stream",
     "text": [
      "100%|██████████| 610/610 [03:28<00:00,  2.93it/s]\n",
      "/var/folders/1b/dx8_94fs0q740wx3lfknk6y40000gn/T/ipykernel_42031/3950971282.py:3: SettingWithCopyWarning: \n",
      "A value is trying to be set on a copy of a slice from a DataFrame.\n",
      "Try using .loc[row_indexer,col_indexer] = value instead\n",
      "\n",
      "See the caveats in the documentation: https://pandas.pydata.org/pandas-docs/stable/user_guide/indexing.html#returning-a-view-versus-a-copy\n",
      "  tmp['keyword'] = tmp.msg.progress_apply(lambda x: kw_model.extract_keywords(x, keyphrase_ngram_range=(2,4), use_maxsum = True, top_n = 1))\n"
     ]
    },
    {
     "name": "stdout",
     "output_type": "stream",
     "text": [
      "{i} complete\n"
     ]
    },
    {
     "name": "stderr",
     "output_type": "stream",
     "text": [
      "100%|██████████| 601/601 [03:25<00:00,  2.92it/s]\n",
      "/var/folders/1b/dx8_94fs0q740wx3lfknk6y40000gn/T/ipykernel_42031/3950971282.py:3: SettingWithCopyWarning: \n",
      "A value is trying to be set on a copy of a slice from a DataFrame.\n",
      "Try using .loc[row_indexer,col_indexer] = value instead\n",
      "\n",
      "See the caveats in the documentation: https://pandas.pydata.org/pandas-docs/stable/user_guide/indexing.html#returning-a-view-versus-a-copy\n",
      "  tmp['keyword'] = tmp.msg.progress_apply(lambda x: kw_model.extract_keywords(x, keyphrase_ngram_range=(2,4), use_maxsum = True, top_n = 1))\n"
     ]
    },
    {
     "name": "stdout",
     "output_type": "stream",
     "text": [
      "{i} complete\n"
     ]
    },
    {
     "name": "stderr",
     "output_type": "stream",
     "text": [
      "100%|██████████| 595/595 [03:07<00:00,  3.18it/s]\n",
      "/var/folders/1b/dx8_94fs0q740wx3lfknk6y40000gn/T/ipykernel_42031/3950971282.py:3: SettingWithCopyWarning: \n",
      "A value is trying to be set on a copy of a slice from a DataFrame.\n",
      "Try using .loc[row_indexer,col_indexer] = value instead\n",
      "\n",
      "See the caveats in the documentation: https://pandas.pydata.org/pandas-docs/stable/user_guide/indexing.html#returning-a-view-versus-a-copy\n",
      "  tmp['keyword'] = tmp.msg.progress_apply(lambda x: kw_model.extract_keywords(x, keyphrase_ngram_range=(2,4), use_maxsum = True, top_n = 1))\n"
     ]
    },
    {
     "name": "stdout",
     "output_type": "stream",
     "text": [
      "{i} complete\n"
     ]
    },
    {
     "name": "stderr",
     "output_type": "stream",
     "text": [
      "100%|██████████| 593/593 [03:15<00:00,  3.03it/s]\n",
      "/var/folders/1b/dx8_94fs0q740wx3lfknk6y40000gn/T/ipykernel_42031/3950971282.py:3: SettingWithCopyWarning: \n",
      "A value is trying to be set on a copy of a slice from a DataFrame.\n",
      "Try using .loc[row_indexer,col_indexer] = value instead\n",
      "\n",
      "See the caveats in the documentation: https://pandas.pydata.org/pandas-docs/stable/user_guide/indexing.html#returning-a-view-versus-a-copy\n",
      "  tmp['keyword'] = tmp.msg.progress_apply(lambda x: kw_model.extract_keywords(x, keyphrase_ngram_range=(2,4), use_maxsum = True, top_n = 1))\n"
     ]
    },
    {
     "name": "stdout",
     "output_type": "stream",
     "text": [
      "{i} complete\n"
     ]
    },
    {
     "name": "stderr",
     "output_type": "stream",
     "text": [
      "100%|██████████| 592/592 [03:22<00:00,  2.92it/s]\n",
      "/var/folders/1b/dx8_94fs0q740wx3lfknk6y40000gn/T/ipykernel_42031/3950971282.py:3: SettingWithCopyWarning: \n",
      "A value is trying to be set on a copy of a slice from a DataFrame.\n",
      "Try using .loc[row_indexer,col_indexer] = value instead\n",
      "\n",
      "See the caveats in the documentation: https://pandas.pydata.org/pandas-docs/stable/user_guide/indexing.html#returning-a-view-versus-a-copy\n",
      "  tmp['keyword'] = tmp.msg.progress_apply(lambda x: kw_model.extract_keywords(x, keyphrase_ngram_range=(2,4), use_maxsum = True, top_n = 1))\n"
     ]
    },
    {
     "name": "stdout",
     "output_type": "stream",
     "text": [
      "{i} complete\n"
     ]
    },
    {
     "name": "stderr",
     "output_type": "stream",
     "text": [
      "100%|██████████| 591/591 [03:26<00:00,  2.86it/s]\n",
      "/var/folders/1b/dx8_94fs0q740wx3lfknk6y40000gn/T/ipykernel_42031/3950971282.py:3: SettingWithCopyWarning: \n",
      "A value is trying to be set on a copy of a slice from a DataFrame.\n",
      "Try using .loc[row_indexer,col_indexer] = value instead\n",
      "\n",
      "See the caveats in the documentation: https://pandas.pydata.org/pandas-docs/stable/user_guide/indexing.html#returning-a-view-versus-a-copy\n",
      "  tmp['keyword'] = tmp.msg.progress_apply(lambda x: kw_model.extract_keywords(x, keyphrase_ngram_range=(2,4), use_maxsum = True, top_n = 1))\n"
     ]
    },
    {
     "name": "stdout",
     "output_type": "stream",
     "text": [
      "{i} complete\n"
     ]
    },
    {
     "name": "stderr",
     "output_type": "stream",
     "text": [
      "100%|██████████| 587/587 [03:22<00:00,  2.90it/s]\n",
      "/var/folders/1b/dx8_94fs0q740wx3lfknk6y40000gn/T/ipykernel_42031/3950971282.py:3: SettingWithCopyWarning: \n",
      "A value is trying to be set on a copy of a slice from a DataFrame.\n",
      "Try using .loc[row_indexer,col_indexer] = value instead\n",
      "\n",
      "See the caveats in the documentation: https://pandas.pydata.org/pandas-docs/stable/user_guide/indexing.html#returning-a-view-versus-a-copy\n",
      "  tmp['keyword'] = tmp.msg.progress_apply(lambda x: kw_model.extract_keywords(x, keyphrase_ngram_range=(2,4), use_maxsum = True, top_n = 1))\n"
     ]
    },
    {
     "name": "stdout",
     "output_type": "stream",
     "text": [
      "{i} complete\n"
     ]
    },
    {
     "name": "stderr",
     "output_type": "stream",
     "text": [
      "100%|██████████| 584/584 [03:18<00:00,  2.94it/s]\n",
      "/var/folders/1b/dx8_94fs0q740wx3lfknk6y40000gn/T/ipykernel_42031/3950971282.py:3: SettingWithCopyWarning: \n",
      "A value is trying to be set on a copy of a slice from a DataFrame.\n",
      "Try using .loc[row_indexer,col_indexer] = value instead\n",
      "\n",
      "See the caveats in the documentation: https://pandas.pydata.org/pandas-docs/stable/user_guide/indexing.html#returning-a-view-versus-a-copy\n",
      "  tmp['keyword'] = tmp.msg.progress_apply(lambda x: kw_model.extract_keywords(x, keyphrase_ngram_range=(2,4), use_maxsum = True, top_n = 1))\n"
     ]
    },
    {
     "name": "stdout",
     "output_type": "stream",
     "text": [
      "{i} complete\n"
     ]
    },
    {
     "name": "stderr",
     "output_type": "stream",
     "text": [
      "100%|██████████| 581/581 [03:18<00:00,  2.93it/s]\n",
      "/var/folders/1b/dx8_94fs0q740wx3lfknk6y40000gn/T/ipykernel_42031/3950971282.py:3: SettingWithCopyWarning: \n",
      "A value is trying to be set on a copy of a slice from a DataFrame.\n",
      "Try using .loc[row_indexer,col_indexer] = value instead\n",
      "\n",
      "See the caveats in the documentation: https://pandas.pydata.org/pandas-docs/stable/user_guide/indexing.html#returning-a-view-versus-a-copy\n",
      "  tmp['keyword'] = tmp.msg.progress_apply(lambda x: kw_model.extract_keywords(x, keyphrase_ngram_range=(2,4), use_maxsum = True, top_n = 1))\n"
     ]
    },
    {
     "name": "stdout",
     "output_type": "stream",
     "text": [
      "{i} complete\n"
     ]
    },
    {
     "name": "stderr",
     "output_type": "stream",
     "text": [
      "100%|██████████| 579/579 [03:12<00:00,  3.01it/s]\n",
      "/var/folders/1b/dx8_94fs0q740wx3lfknk6y40000gn/T/ipykernel_42031/3950971282.py:3: SettingWithCopyWarning: \n",
      "A value is trying to be set on a copy of a slice from a DataFrame.\n",
      "Try using .loc[row_indexer,col_indexer] = value instead\n",
      "\n",
      "See the caveats in the documentation: https://pandas.pydata.org/pandas-docs/stable/user_guide/indexing.html#returning-a-view-versus-a-copy\n",
      "  tmp['keyword'] = tmp.msg.progress_apply(lambda x: kw_model.extract_keywords(x, keyphrase_ngram_range=(2,4), use_maxsum = True, top_n = 1))\n"
     ]
    },
    {
     "name": "stdout",
     "output_type": "stream",
     "text": [
      "{i} complete\n"
     ]
    },
    {
     "name": "stderr",
     "output_type": "stream",
     "text": [
      "100%|██████████| 576/576 [03:22<00:00,  2.84it/s]\n",
      "/var/folders/1b/dx8_94fs0q740wx3lfknk6y40000gn/T/ipykernel_42031/3950971282.py:3: SettingWithCopyWarning: \n",
      "A value is trying to be set on a copy of a slice from a DataFrame.\n",
      "Try using .loc[row_indexer,col_indexer] = value instead\n",
      "\n",
      "See the caveats in the documentation: https://pandas.pydata.org/pandas-docs/stable/user_guide/indexing.html#returning-a-view-versus-a-copy\n",
      "  tmp['keyword'] = tmp.msg.progress_apply(lambda x: kw_model.extract_keywords(x, keyphrase_ngram_range=(2,4), use_maxsum = True, top_n = 1))\n"
     ]
    },
    {
     "name": "stdout",
     "output_type": "stream",
     "text": [
      "{i} complete\n"
     ]
    },
    {
     "name": "stderr",
     "output_type": "stream",
     "text": [
      "100%|██████████| 574/574 [03:26<00:00,  2.78it/s]\n",
      "/var/folders/1b/dx8_94fs0q740wx3lfknk6y40000gn/T/ipykernel_42031/3950971282.py:3: SettingWithCopyWarning: \n",
      "A value is trying to be set on a copy of a slice from a DataFrame.\n",
      "Try using .loc[row_indexer,col_indexer] = value instead\n",
      "\n",
      "See the caveats in the documentation: https://pandas.pydata.org/pandas-docs/stable/user_guide/indexing.html#returning-a-view-versus-a-copy\n",
      "  tmp['keyword'] = tmp.msg.progress_apply(lambda x: kw_model.extract_keywords(x, keyphrase_ngram_range=(2,4), use_maxsum = True, top_n = 1))\n"
     ]
    },
    {
     "name": "stdout",
     "output_type": "stream",
     "text": [
      "{i} complete\n"
     ]
    },
    {
     "name": "stderr",
     "output_type": "stream",
     "text": [
      "100%|██████████| 573/573 [03:21<00:00,  2.84it/s]\n",
      "/var/folders/1b/dx8_94fs0q740wx3lfknk6y40000gn/T/ipykernel_42031/3950971282.py:3: SettingWithCopyWarning: \n",
      "A value is trying to be set on a copy of a slice from a DataFrame.\n",
      "Try using .loc[row_indexer,col_indexer] = value instead\n",
      "\n",
      "See the caveats in the documentation: https://pandas.pydata.org/pandas-docs/stable/user_guide/indexing.html#returning-a-view-versus-a-copy\n",
      "  tmp['keyword'] = tmp.msg.progress_apply(lambda x: kw_model.extract_keywords(x, keyphrase_ngram_range=(2,4), use_maxsum = True, top_n = 1))\n"
     ]
    },
    {
     "name": "stdout",
     "output_type": "stream",
     "text": [
      "{i} complete\n"
     ]
    },
    {
     "name": "stderr",
     "output_type": "stream",
     "text": [
      "100%|██████████| 573/573 [03:22<00:00,  2.82it/s]\n",
      "/var/folders/1b/dx8_94fs0q740wx3lfknk6y40000gn/T/ipykernel_42031/3950971282.py:3: SettingWithCopyWarning: \n",
      "A value is trying to be set on a copy of a slice from a DataFrame.\n",
      "Try using .loc[row_indexer,col_indexer] = value instead\n",
      "\n",
      "See the caveats in the documentation: https://pandas.pydata.org/pandas-docs/stable/user_guide/indexing.html#returning-a-view-versus-a-copy\n",
      "  tmp['keyword'] = tmp.msg.progress_apply(lambda x: kw_model.extract_keywords(x, keyphrase_ngram_range=(2,4), use_maxsum = True, top_n = 1))\n"
     ]
    },
    {
     "name": "stdout",
     "output_type": "stream",
     "text": [
      "{i} complete\n"
     ]
    },
    {
     "name": "stderr",
     "output_type": "stream",
     "text": [
      "100%|██████████| 566/566 [03:10<00:00,  2.97it/s]\n",
      "/var/folders/1b/dx8_94fs0q740wx3lfknk6y40000gn/T/ipykernel_42031/3950971282.py:3: SettingWithCopyWarning: \n",
      "A value is trying to be set on a copy of a slice from a DataFrame.\n",
      "Try using .loc[row_indexer,col_indexer] = value instead\n",
      "\n",
      "See the caveats in the documentation: https://pandas.pydata.org/pandas-docs/stable/user_guide/indexing.html#returning-a-view-versus-a-copy\n",
      "  tmp['keyword'] = tmp.msg.progress_apply(lambda x: kw_model.extract_keywords(x, keyphrase_ngram_range=(2,4), use_maxsum = True, top_n = 1))\n"
     ]
    },
    {
     "name": "stdout",
     "output_type": "stream",
     "text": [
      "{i} complete\n"
     ]
    },
    {
     "name": "stderr",
     "output_type": "stream",
     "text": [
      "100%|██████████| 564/564 [03:11<00:00,  2.94it/s]\n",
      "/var/folders/1b/dx8_94fs0q740wx3lfknk6y40000gn/T/ipykernel_42031/3950971282.py:3: SettingWithCopyWarning: \n",
      "A value is trying to be set on a copy of a slice from a DataFrame.\n",
      "Try using .loc[row_indexer,col_indexer] = value instead\n",
      "\n",
      "See the caveats in the documentation: https://pandas.pydata.org/pandas-docs/stable/user_guide/indexing.html#returning-a-view-versus-a-copy\n",
      "  tmp['keyword'] = tmp.msg.progress_apply(lambda x: kw_model.extract_keywords(x, keyphrase_ngram_range=(2,4), use_maxsum = True, top_n = 1))\n"
     ]
    },
    {
     "name": "stdout",
     "output_type": "stream",
     "text": [
      "{i} complete\n"
     ]
    },
    {
     "name": "stderr",
     "output_type": "stream",
     "text": [
      "100%|██████████| 557/557 [03:15<00:00,  2.85it/s]\n",
      "/var/folders/1b/dx8_94fs0q740wx3lfknk6y40000gn/T/ipykernel_42031/3950971282.py:3: SettingWithCopyWarning: \n",
      "A value is trying to be set on a copy of a slice from a DataFrame.\n",
      "Try using .loc[row_indexer,col_indexer] = value instead\n",
      "\n",
      "See the caveats in the documentation: https://pandas.pydata.org/pandas-docs/stable/user_guide/indexing.html#returning-a-view-versus-a-copy\n",
      "  tmp['keyword'] = tmp.msg.progress_apply(lambda x: kw_model.extract_keywords(x, keyphrase_ngram_range=(2,4), use_maxsum = True, top_n = 1))\n"
     ]
    },
    {
     "name": "stdout",
     "output_type": "stream",
     "text": [
      "{i} complete\n"
     ]
    },
    {
     "name": "stderr",
     "output_type": "stream",
     "text": [
      "100%|██████████| 545/545 [02:58<00:00,  3.06it/s]\n",
      "/var/folders/1b/dx8_94fs0q740wx3lfknk6y40000gn/T/ipykernel_42031/3950971282.py:3: SettingWithCopyWarning: \n",
      "A value is trying to be set on a copy of a slice from a DataFrame.\n",
      "Try using .loc[row_indexer,col_indexer] = value instead\n",
      "\n",
      "See the caveats in the documentation: https://pandas.pydata.org/pandas-docs/stable/user_guide/indexing.html#returning-a-view-versus-a-copy\n",
      "  tmp['keyword'] = tmp.msg.progress_apply(lambda x: kw_model.extract_keywords(x, keyphrase_ngram_range=(2,4), use_maxsum = True, top_n = 1))\n"
     ]
    },
    {
     "name": "stdout",
     "output_type": "stream",
     "text": [
      "{i} complete\n"
     ]
    },
    {
     "name": "stderr",
     "output_type": "stream",
     "text": [
      "100%|██████████| 545/545 [03:11<00:00,  2.84it/s]\n",
      "/var/folders/1b/dx8_94fs0q740wx3lfknk6y40000gn/T/ipykernel_42031/3950971282.py:3: SettingWithCopyWarning: \n",
      "A value is trying to be set on a copy of a slice from a DataFrame.\n",
      "Try using .loc[row_indexer,col_indexer] = value instead\n",
      "\n",
      "See the caveats in the documentation: https://pandas.pydata.org/pandas-docs/stable/user_guide/indexing.html#returning-a-view-versus-a-copy\n",
      "  tmp['keyword'] = tmp.msg.progress_apply(lambda x: kw_model.extract_keywords(x, keyphrase_ngram_range=(2,4), use_maxsum = True, top_n = 1))\n"
     ]
    },
    {
     "name": "stdout",
     "output_type": "stream",
     "text": [
      "{i} complete\n"
     ]
    },
    {
     "name": "stderr",
     "output_type": "stream",
     "text": [
      "100%|██████████| 541/541 [03:12<00:00,  2.81it/s]\n",
      "/var/folders/1b/dx8_94fs0q740wx3lfknk6y40000gn/T/ipykernel_42031/3950971282.py:3: SettingWithCopyWarning: \n",
      "A value is trying to be set on a copy of a slice from a DataFrame.\n",
      "Try using .loc[row_indexer,col_indexer] = value instead\n",
      "\n",
      "See the caveats in the documentation: https://pandas.pydata.org/pandas-docs/stable/user_guide/indexing.html#returning-a-view-versus-a-copy\n",
      "  tmp['keyword'] = tmp.msg.progress_apply(lambda x: kw_model.extract_keywords(x, keyphrase_ngram_range=(2,4), use_maxsum = True, top_n = 1))\n"
     ]
    },
    {
     "name": "stdout",
     "output_type": "stream",
     "text": [
      "{i} complete\n"
     ]
    },
    {
     "name": "stderr",
     "output_type": "stream",
     "text": [
      "100%|██████████| 539/539 [03:12<00:00,  2.79it/s]\n",
      "/var/folders/1b/dx8_94fs0q740wx3lfknk6y40000gn/T/ipykernel_42031/3950971282.py:3: SettingWithCopyWarning: \n",
      "A value is trying to be set on a copy of a slice from a DataFrame.\n",
      "Try using .loc[row_indexer,col_indexer] = value instead\n",
      "\n",
      "See the caveats in the documentation: https://pandas.pydata.org/pandas-docs/stable/user_guide/indexing.html#returning-a-view-versus-a-copy\n",
      "  tmp['keyword'] = tmp.msg.progress_apply(lambda x: kw_model.extract_keywords(x, keyphrase_ngram_range=(2,4), use_maxsum = True, top_n = 1))\n"
     ]
    },
    {
     "name": "stdout",
     "output_type": "stream",
     "text": [
      "{i} complete\n"
     ]
    },
    {
     "name": "stderr",
     "output_type": "stream",
     "text": [
      "100%|██████████| 533/533 [03:10<00:00,  2.79it/s]\n",
      "/var/folders/1b/dx8_94fs0q740wx3lfknk6y40000gn/T/ipykernel_42031/3950971282.py:3: SettingWithCopyWarning: \n",
      "A value is trying to be set on a copy of a slice from a DataFrame.\n",
      "Try using .loc[row_indexer,col_indexer] = value instead\n",
      "\n",
      "See the caveats in the documentation: https://pandas.pydata.org/pandas-docs/stable/user_guide/indexing.html#returning-a-view-versus-a-copy\n",
      "  tmp['keyword'] = tmp.msg.progress_apply(lambda x: kw_model.extract_keywords(x, keyphrase_ngram_range=(2,4), use_maxsum = True, top_n = 1))\n"
     ]
    },
    {
     "name": "stdout",
     "output_type": "stream",
     "text": [
      "{i} complete\n"
     ]
    },
    {
     "name": "stderr",
     "output_type": "stream",
     "text": [
      "100%|██████████| 519/519 [03:02<00:00,  2.84it/s]\n",
      "/var/folders/1b/dx8_94fs0q740wx3lfknk6y40000gn/T/ipykernel_42031/3950971282.py:3: SettingWithCopyWarning: \n",
      "A value is trying to be set on a copy of a slice from a DataFrame.\n",
      "Try using .loc[row_indexer,col_indexer] = value instead\n",
      "\n",
      "See the caveats in the documentation: https://pandas.pydata.org/pandas-docs/stable/user_guide/indexing.html#returning-a-view-versus-a-copy\n",
      "  tmp['keyword'] = tmp.msg.progress_apply(lambda x: kw_model.extract_keywords(x, keyphrase_ngram_range=(2,4), use_maxsum = True, top_n = 1))\n"
     ]
    },
    {
     "name": "stdout",
     "output_type": "stream",
     "text": [
      "{i} complete\n"
     ]
    },
    {
     "name": "stderr",
     "output_type": "stream",
     "text": [
      "100%|██████████| 515/515 [03:04<00:00,  2.79it/s]\n",
      "/var/folders/1b/dx8_94fs0q740wx3lfknk6y40000gn/T/ipykernel_42031/3950971282.py:3: SettingWithCopyWarning: \n",
      "A value is trying to be set on a copy of a slice from a DataFrame.\n",
      "Try using .loc[row_indexer,col_indexer] = value instead\n",
      "\n",
      "See the caveats in the documentation: https://pandas.pydata.org/pandas-docs/stable/user_guide/indexing.html#returning-a-view-versus-a-copy\n",
      "  tmp['keyword'] = tmp.msg.progress_apply(lambda x: kw_model.extract_keywords(x, keyphrase_ngram_range=(2,4), use_maxsum = True, top_n = 1))\n"
     ]
    },
    {
     "name": "stdout",
     "output_type": "stream",
     "text": [
      "{i} complete\n"
     ]
    },
    {
     "name": "stderr",
     "output_type": "stream",
     "text": [
      "100%|██████████| 492/492 [02:50<00:00,  2.88it/s]\n",
      "/var/folders/1b/dx8_94fs0q740wx3lfknk6y40000gn/T/ipykernel_42031/3950971282.py:3: SettingWithCopyWarning: \n",
      "A value is trying to be set on a copy of a slice from a DataFrame.\n",
      "Try using .loc[row_indexer,col_indexer] = value instead\n",
      "\n",
      "See the caveats in the documentation: https://pandas.pydata.org/pandas-docs/stable/user_guide/indexing.html#returning-a-view-versus-a-copy\n",
      "  tmp['keyword'] = tmp.msg.progress_apply(lambda x: kw_model.extract_keywords(x, keyphrase_ngram_range=(2,4), use_maxsum = True, top_n = 1))\n"
     ]
    },
    {
     "name": "stdout",
     "output_type": "stream",
     "text": [
      "{i} complete\n"
     ]
    },
    {
     "name": "stderr",
     "output_type": "stream",
     "text": [
      "100%|██████████| 490/490 [02:54<00:00,  2.81it/s]\n",
      "/var/folders/1b/dx8_94fs0q740wx3lfknk6y40000gn/T/ipykernel_42031/3950971282.py:3: SettingWithCopyWarning: \n",
      "A value is trying to be set on a copy of a slice from a DataFrame.\n",
      "Try using .loc[row_indexer,col_indexer] = value instead\n",
      "\n",
      "See the caveats in the documentation: https://pandas.pydata.org/pandas-docs/stable/user_guide/indexing.html#returning-a-view-versus-a-copy\n",
      "  tmp['keyword'] = tmp.msg.progress_apply(lambda x: kw_model.extract_keywords(x, keyphrase_ngram_range=(2,4), use_maxsum = True, top_n = 1))\n"
     ]
    },
    {
     "name": "stdout",
     "output_type": "stream",
     "text": [
      "{i} complete\n"
     ]
    },
    {
     "name": "stderr",
     "output_type": "stream",
     "text": [
      "100%|██████████| 490/490 [02:39<00:00,  3.08it/s]\n",
      "/var/folders/1b/dx8_94fs0q740wx3lfknk6y40000gn/T/ipykernel_42031/3950971282.py:3: SettingWithCopyWarning: \n",
      "A value is trying to be set on a copy of a slice from a DataFrame.\n",
      "Try using .loc[row_indexer,col_indexer] = value instead\n",
      "\n",
      "See the caveats in the documentation: https://pandas.pydata.org/pandas-docs/stable/user_guide/indexing.html#returning-a-view-versus-a-copy\n",
      "  tmp['keyword'] = tmp.msg.progress_apply(lambda x: kw_model.extract_keywords(x, keyphrase_ngram_range=(2,4), use_maxsum = True, top_n = 1))\n"
     ]
    },
    {
     "name": "stdout",
     "output_type": "stream",
     "text": [
      "{i} complete\n"
     ]
    },
    {
     "name": "stderr",
     "output_type": "stream",
     "text": [
      "100%|██████████| 489/489 [02:39<00:00,  3.07it/s]\n",
      "/var/folders/1b/dx8_94fs0q740wx3lfknk6y40000gn/T/ipykernel_42031/3950971282.py:3: SettingWithCopyWarning: \n",
      "A value is trying to be set on a copy of a slice from a DataFrame.\n",
      "Try using .loc[row_indexer,col_indexer] = value instead\n",
      "\n",
      "See the caveats in the documentation: https://pandas.pydata.org/pandas-docs/stable/user_guide/indexing.html#returning-a-view-versus-a-copy\n",
      "  tmp['keyword'] = tmp.msg.progress_apply(lambda x: kw_model.extract_keywords(x, keyphrase_ngram_range=(2,4), use_maxsum = True, top_n = 1))\n"
     ]
    },
    {
     "name": "stdout",
     "output_type": "stream",
     "text": [
      "{i} complete\n"
     ]
    },
    {
     "name": "stderr",
     "output_type": "stream",
     "text": [
      "100%|██████████| 488/488 [02:44<00:00,  2.97it/s]\n",
      "/var/folders/1b/dx8_94fs0q740wx3lfknk6y40000gn/T/ipykernel_42031/3950971282.py:3: SettingWithCopyWarning: \n",
      "A value is trying to be set on a copy of a slice from a DataFrame.\n",
      "Try using .loc[row_indexer,col_indexer] = value instead\n",
      "\n",
      "See the caveats in the documentation: https://pandas.pydata.org/pandas-docs/stable/user_guide/indexing.html#returning-a-view-versus-a-copy\n",
      "  tmp['keyword'] = tmp.msg.progress_apply(lambda x: kw_model.extract_keywords(x, keyphrase_ngram_range=(2,4), use_maxsum = True, top_n = 1))\n"
     ]
    },
    {
     "name": "stdout",
     "output_type": "stream",
     "text": [
      "{i} complete\n"
     ]
    },
    {
     "name": "stderr",
     "output_type": "stream",
     "text": [
      "100%|██████████| 487/487 [02:38<00:00,  3.08it/s]\n",
      "/var/folders/1b/dx8_94fs0q740wx3lfknk6y40000gn/T/ipykernel_42031/3950971282.py:3: SettingWithCopyWarning: \n",
      "A value is trying to be set on a copy of a slice from a DataFrame.\n",
      "Try using .loc[row_indexer,col_indexer] = value instead\n",
      "\n",
      "See the caveats in the documentation: https://pandas.pydata.org/pandas-docs/stable/user_guide/indexing.html#returning-a-view-versus-a-copy\n",
      "  tmp['keyword'] = tmp.msg.progress_apply(lambda x: kw_model.extract_keywords(x, keyphrase_ngram_range=(2,4), use_maxsum = True, top_n = 1))\n"
     ]
    },
    {
     "name": "stdout",
     "output_type": "stream",
     "text": [
      "{i} complete\n"
     ]
    },
    {
     "name": "stderr",
     "output_type": "stream",
     "text": [
      "100%|██████████| 467/467 [02:26<00:00,  3.20it/s]\n",
      "/var/folders/1b/dx8_94fs0q740wx3lfknk6y40000gn/T/ipykernel_42031/3950971282.py:3: SettingWithCopyWarning: \n",
      "A value is trying to be set on a copy of a slice from a DataFrame.\n",
      "Try using .loc[row_indexer,col_indexer] = value instead\n",
      "\n",
      "See the caveats in the documentation: https://pandas.pydata.org/pandas-docs/stable/user_guide/indexing.html#returning-a-view-versus-a-copy\n",
      "  tmp['keyword'] = tmp.msg.progress_apply(lambda x: kw_model.extract_keywords(x, keyphrase_ngram_range=(2,4), use_maxsum = True, top_n = 1))\n"
     ]
    },
    {
     "name": "stdout",
     "output_type": "stream",
     "text": [
      "{i} complete\n"
     ]
    },
    {
     "name": "stderr",
     "output_type": "stream",
     "text": [
      "100%|██████████| 460/460 [02:36<00:00,  2.95it/s]\n",
      "/var/folders/1b/dx8_94fs0q740wx3lfknk6y40000gn/T/ipykernel_42031/3950971282.py:3: SettingWithCopyWarning: \n",
      "A value is trying to be set on a copy of a slice from a DataFrame.\n",
      "Try using .loc[row_indexer,col_indexer] = value instead\n",
      "\n",
      "See the caveats in the documentation: https://pandas.pydata.org/pandas-docs/stable/user_guide/indexing.html#returning-a-view-versus-a-copy\n",
      "  tmp['keyword'] = tmp.msg.progress_apply(lambda x: kw_model.extract_keywords(x, keyphrase_ngram_range=(2,4), use_maxsum = True, top_n = 1))\n"
     ]
    },
    {
     "name": "stdout",
     "output_type": "stream",
     "text": [
      "{i} complete\n"
     ]
    },
    {
     "name": "stderr",
     "output_type": "stream",
     "text": [
      "100%|██████████| 457/457 [02:38<00:00,  2.88it/s]\n",
      "/var/folders/1b/dx8_94fs0q740wx3lfknk6y40000gn/T/ipykernel_42031/3950971282.py:3: SettingWithCopyWarning: \n",
      "A value is trying to be set on a copy of a slice from a DataFrame.\n",
      "Try using .loc[row_indexer,col_indexer] = value instead\n",
      "\n",
      "See the caveats in the documentation: https://pandas.pydata.org/pandas-docs/stable/user_guide/indexing.html#returning-a-view-versus-a-copy\n",
      "  tmp['keyword'] = tmp.msg.progress_apply(lambda x: kw_model.extract_keywords(x, keyphrase_ngram_range=(2,4), use_maxsum = True, top_n = 1))\n"
     ]
    },
    {
     "name": "stdout",
     "output_type": "stream",
     "text": [
      "{i} complete\n"
     ]
    },
    {
     "name": "stderr",
     "output_type": "stream",
     "text": [
      "100%|██████████| 452/452 [02:23<00:00,  3.15it/s]\n",
      "/var/folders/1b/dx8_94fs0q740wx3lfknk6y40000gn/T/ipykernel_42031/3950971282.py:3: SettingWithCopyWarning: \n",
      "A value is trying to be set on a copy of a slice from a DataFrame.\n",
      "Try using .loc[row_indexer,col_indexer] = value instead\n",
      "\n",
      "See the caveats in the documentation: https://pandas.pydata.org/pandas-docs/stable/user_guide/indexing.html#returning-a-view-versus-a-copy\n",
      "  tmp['keyword'] = tmp.msg.progress_apply(lambda x: kw_model.extract_keywords(x, keyphrase_ngram_range=(2,4), use_maxsum = True, top_n = 1))\n"
     ]
    },
    {
     "name": "stdout",
     "output_type": "stream",
     "text": [
      "{i} complete\n"
     ]
    },
    {
     "name": "stderr",
     "output_type": "stream",
     "text": [
      "100%|██████████| 447/447 [02:40<00:00,  2.79it/s]\n",
      "/var/folders/1b/dx8_94fs0q740wx3lfknk6y40000gn/T/ipykernel_42031/3950971282.py:3: SettingWithCopyWarning: \n",
      "A value is trying to be set on a copy of a slice from a DataFrame.\n",
      "Try using .loc[row_indexer,col_indexer] = value instead\n",
      "\n",
      "See the caveats in the documentation: https://pandas.pydata.org/pandas-docs/stable/user_guide/indexing.html#returning-a-view-versus-a-copy\n",
      "  tmp['keyword'] = tmp.msg.progress_apply(lambda x: kw_model.extract_keywords(x, keyphrase_ngram_range=(2,4), use_maxsum = True, top_n = 1))\n"
     ]
    },
    {
     "name": "stdout",
     "output_type": "stream",
     "text": [
      "{i} complete\n"
     ]
    },
    {
     "name": "stderr",
     "output_type": "stream",
     "text": [
      "100%|██████████| 442/442 [02:30<00:00,  2.93it/s]\n",
      "/var/folders/1b/dx8_94fs0q740wx3lfknk6y40000gn/T/ipykernel_42031/3950971282.py:3: SettingWithCopyWarning: \n",
      "A value is trying to be set on a copy of a slice from a DataFrame.\n",
      "Try using .loc[row_indexer,col_indexer] = value instead\n",
      "\n",
      "See the caveats in the documentation: https://pandas.pydata.org/pandas-docs/stable/user_guide/indexing.html#returning-a-view-versus-a-copy\n",
      "  tmp['keyword'] = tmp.msg.progress_apply(lambda x: kw_model.extract_keywords(x, keyphrase_ngram_range=(2,4), use_maxsum = True, top_n = 1))\n"
     ]
    },
    {
     "name": "stdout",
     "output_type": "stream",
     "text": [
      "{i} complete\n"
     ]
    },
    {
     "name": "stderr",
     "output_type": "stream",
     "text": [
      "100%|██████████| 434/434 [21:01<00:00,  2.91s/it]  \n",
      "/var/folders/1b/dx8_94fs0q740wx3lfknk6y40000gn/T/ipykernel_42031/3950971282.py:3: SettingWithCopyWarning: \n",
      "A value is trying to be set on a copy of a slice from a DataFrame.\n",
      "Try using .loc[row_indexer,col_indexer] = value instead\n",
      "\n",
      "See the caveats in the documentation: https://pandas.pydata.org/pandas-docs/stable/user_guide/indexing.html#returning-a-view-versus-a-copy\n",
      "  tmp['keyword'] = tmp.msg.progress_apply(lambda x: kw_model.extract_keywords(x, keyphrase_ngram_range=(2,4), use_maxsum = True, top_n = 1))\n"
     ]
    },
    {
     "name": "stdout",
     "output_type": "stream",
     "text": [
      "{i} complete\n"
     ]
    },
    {
     "name": "stderr",
     "output_type": "stream",
     "text": [
      "100%|██████████| 432/432 [04:28<00:00,  1.61it/s]  \n",
      "/var/folders/1b/dx8_94fs0q740wx3lfknk6y40000gn/T/ipykernel_42031/3950971282.py:3: SettingWithCopyWarning: \n",
      "A value is trying to be set on a copy of a slice from a DataFrame.\n",
      "Try using .loc[row_indexer,col_indexer] = value instead\n",
      "\n",
      "See the caveats in the documentation: https://pandas.pydata.org/pandas-docs/stable/user_guide/indexing.html#returning-a-view-versus-a-copy\n",
      "  tmp['keyword'] = tmp.msg.progress_apply(lambda x: kw_model.extract_keywords(x, keyphrase_ngram_range=(2,4), use_maxsum = True, top_n = 1))\n"
     ]
    },
    {
     "name": "stdout",
     "output_type": "stream",
     "text": [
      "{i} complete\n"
     ]
    },
    {
     "name": "stderr",
     "output_type": "stream",
     "text": [
      "100%|██████████| 419/419 [15:58<00:00,  2.29s/it]   \n",
      "/var/folders/1b/dx8_94fs0q740wx3lfknk6y40000gn/T/ipykernel_42031/3950971282.py:3: SettingWithCopyWarning: \n",
      "A value is trying to be set on a copy of a slice from a DataFrame.\n",
      "Try using .loc[row_indexer,col_indexer] = value instead\n",
      "\n",
      "See the caveats in the documentation: https://pandas.pydata.org/pandas-docs/stable/user_guide/indexing.html#returning-a-view-versus-a-copy\n",
      "  tmp['keyword'] = tmp.msg.progress_apply(lambda x: kw_model.extract_keywords(x, keyphrase_ngram_range=(2,4), use_maxsum = True, top_n = 1))\n"
     ]
    },
    {
     "name": "stdout",
     "output_type": "stream",
     "text": [
      "{i} complete\n"
     ]
    },
    {
     "name": "stderr",
     "output_type": "stream",
     "text": [
      "100%|██████████| 417/417 [02:24<00:00,  2.88it/s]\n",
      "/var/folders/1b/dx8_94fs0q740wx3lfknk6y40000gn/T/ipykernel_42031/3950971282.py:3: SettingWithCopyWarning: \n",
      "A value is trying to be set on a copy of a slice from a DataFrame.\n",
      "Try using .loc[row_indexer,col_indexer] = value instead\n",
      "\n",
      "See the caveats in the documentation: https://pandas.pydata.org/pandas-docs/stable/user_guide/indexing.html#returning-a-view-versus-a-copy\n",
      "  tmp['keyword'] = tmp.msg.progress_apply(lambda x: kw_model.extract_keywords(x, keyphrase_ngram_range=(2,4), use_maxsum = True, top_n = 1))\n"
     ]
    },
    {
     "name": "stdout",
     "output_type": "stream",
     "text": [
      "{i} complete\n"
     ]
    },
    {
     "name": "stderr",
     "output_type": "stream",
     "text": [
      "100%|██████████| 416/416 [02:17<00:00,  3.03it/s]\n",
      "/var/folders/1b/dx8_94fs0q740wx3lfknk6y40000gn/T/ipykernel_42031/3950971282.py:3: SettingWithCopyWarning: \n",
      "A value is trying to be set on a copy of a slice from a DataFrame.\n",
      "Try using .loc[row_indexer,col_indexer] = value instead\n",
      "\n",
      "See the caveats in the documentation: https://pandas.pydata.org/pandas-docs/stable/user_guide/indexing.html#returning-a-view-versus-a-copy\n",
      "  tmp['keyword'] = tmp.msg.progress_apply(lambda x: kw_model.extract_keywords(x, keyphrase_ngram_range=(2,4), use_maxsum = True, top_n = 1))\n"
     ]
    },
    {
     "name": "stdout",
     "output_type": "stream",
     "text": [
      "{i} complete\n"
     ]
    },
    {
     "name": "stderr",
     "output_type": "stream",
     "text": [
      "100%|██████████| 415/415 [02:27<00:00,  2.82it/s]\n",
      "/var/folders/1b/dx8_94fs0q740wx3lfknk6y40000gn/T/ipykernel_42031/3950971282.py:3: SettingWithCopyWarning: \n",
      "A value is trying to be set on a copy of a slice from a DataFrame.\n",
      "Try using .loc[row_indexer,col_indexer] = value instead\n",
      "\n",
      "See the caveats in the documentation: https://pandas.pydata.org/pandas-docs/stable/user_guide/indexing.html#returning-a-view-versus-a-copy\n",
      "  tmp['keyword'] = tmp.msg.progress_apply(lambda x: kw_model.extract_keywords(x, keyphrase_ngram_range=(2,4), use_maxsum = True, top_n = 1))\n"
     ]
    },
    {
     "name": "stdout",
     "output_type": "stream",
     "text": [
      "{i} complete\n"
     ]
    },
    {
     "name": "stderr",
     "output_type": "stream",
     "text": [
      "100%|██████████| 413/413 [02:16<00:00,  3.02it/s]\n",
      "/var/folders/1b/dx8_94fs0q740wx3lfknk6y40000gn/T/ipykernel_42031/3950971282.py:3: SettingWithCopyWarning: \n",
      "A value is trying to be set on a copy of a slice from a DataFrame.\n",
      "Try using .loc[row_indexer,col_indexer] = value instead\n",
      "\n",
      "See the caveats in the documentation: https://pandas.pydata.org/pandas-docs/stable/user_guide/indexing.html#returning-a-view-versus-a-copy\n",
      "  tmp['keyword'] = tmp.msg.progress_apply(lambda x: kw_model.extract_keywords(x, keyphrase_ngram_range=(2,4), use_maxsum = True, top_n = 1))\n"
     ]
    },
    {
     "name": "stdout",
     "output_type": "stream",
     "text": [
      "{i} complete\n"
     ]
    },
    {
     "name": "stderr",
     "output_type": "stream",
     "text": [
      "100%|██████████| 406/406 [02:21<00:00,  2.87it/s]\n",
      "/var/folders/1b/dx8_94fs0q740wx3lfknk6y40000gn/T/ipykernel_42031/3950971282.py:3: SettingWithCopyWarning: \n",
      "A value is trying to be set on a copy of a slice from a DataFrame.\n",
      "Try using .loc[row_indexer,col_indexer] = value instead\n",
      "\n",
      "See the caveats in the documentation: https://pandas.pydata.org/pandas-docs/stable/user_guide/indexing.html#returning-a-view-versus-a-copy\n",
      "  tmp['keyword'] = tmp.msg.progress_apply(lambda x: kw_model.extract_keywords(x, keyphrase_ngram_range=(2,4), use_maxsum = True, top_n = 1))\n"
     ]
    },
    {
     "name": "stdout",
     "output_type": "stream",
     "text": [
      "{i} complete\n"
     ]
    },
    {
     "name": "stderr",
     "output_type": "stream",
     "text": [
      "100%|██████████| 403/403 [02:11<00:00,  3.05it/s]\n",
      "/var/folders/1b/dx8_94fs0q740wx3lfknk6y40000gn/T/ipykernel_42031/3950971282.py:3: SettingWithCopyWarning: \n",
      "A value is trying to be set on a copy of a slice from a DataFrame.\n",
      "Try using .loc[row_indexer,col_indexer] = value instead\n",
      "\n",
      "See the caveats in the documentation: https://pandas.pydata.org/pandas-docs/stable/user_guide/indexing.html#returning-a-view-versus-a-copy\n",
      "  tmp['keyword'] = tmp.msg.progress_apply(lambda x: kw_model.extract_keywords(x, keyphrase_ngram_range=(2,4), use_maxsum = True, top_n = 1))\n"
     ]
    },
    {
     "name": "stdout",
     "output_type": "stream",
     "text": [
      "{i} complete\n"
     ]
    },
    {
     "name": "stderr",
     "output_type": "stream",
     "text": [
      "100%|██████████| 379/379 [02:07<00:00,  2.97it/s]\n",
      "/var/folders/1b/dx8_94fs0q740wx3lfknk6y40000gn/T/ipykernel_42031/3950971282.py:3: SettingWithCopyWarning: \n",
      "A value is trying to be set on a copy of a slice from a DataFrame.\n",
      "Try using .loc[row_indexer,col_indexer] = value instead\n",
      "\n",
      "See the caveats in the documentation: https://pandas.pydata.org/pandas-docs/stable/user_guide/indexing.html#returning-a-view-versus-a-copy\n",
      "  tmp['keyword'] = tmp.msg.progress_apply(lambda x: kw_model.extract_keywords(x, keyphrase_ngram_range=(2,4), use_maxsum = True, top_n = 1))\n"
     ]
    },
    {
     "name": "stdout",
     "output_type": "stream",
     "text": [
      "{i} complete\n"
     ]
    },
    {
     "name": "stderr",
     "output_type": "stream",
     "text": [
      "100%|██████████| 377/377 [02:08<00:00,  2.94it/s]\n",
      "/var/folders/1b/dx8_94fs0q740wx3lfknk6y40000gn/T/ipykernel_42031/3950971282.py:3: SettingWithCopyWarning: \n",
      "A value is trying to be set on a copy of a slice from a DataFrame.\n",
      "Try using .loc[row_indexer,col_indexer] = value instead\n",
      "\n",
      "See the caveats in the documentation: https://pandas.pydata.org/pandas-docs/stable/user_guide/indexing.html#returning-a-view-versus-a-copy\n",
      "  tmp['keyword'] = tmp.msg.progress_apply(lambda x: kw_model.extract_keywords(x, keyphrase_ngram_range=(2,4), use_maxsum = True, top_n = 1))\n"
     ]
    },
    {
     "name": "stdout",
     "output_type": "stream",
     "text": [
      "{i} complete\n"
     ]
    },
    {
     "name": "stderr",
     "output_type": "stream",
     "text": [
      "100%|██████████| 374/374 [02:12<00:00,  2.81it/s]\n",
      "/var/folders/1b/dx8_94fs0q740wx3lfknk6y40000gn/T/ipykernel_42031/3950971282.py:3: SettingWithCopyWarning: \n",
      "A value is trying to be set on a copy of a slice from a DataFrame.\n",
      "Try using .loc[row_indexer,col_indexer] = value instead\n",
      "\n",
      "See the caveats in the documentation: https://pandas.pydata.org/pandas-docs/stable/user_guide/indexing.html#returning-a-view-versus-a-copy\n",
      "  tmp['keyword'] = tmp.msg.progress_apply(lambda x: kw_model.extract_keywords(x, keyphrase_ngram_range=(2,4), use_maxsum = True, top_n = 1))\n"
     ]
    },
    {
     "name": "stdout",
     "output_type": "stream",
     "text": [
      "{i} complete\n"
     ]
    },
    {
     "name": "stderr",
     "output_type": "stream",
     "text": [
      "100%|██████████| 364/364 [02:02<00:00,  2.96it/s]\n",
      "/var/folders/1b/dx8_94fs0q740wx3lfknk6y40000gn/T/ipykernel_42031/3950971282.py:3: SettingWithCopyWarning: \n",
      "A value is trying to be set on a copy of a slice from a DataFrame.\n",
      "Try using .loc[row_indexer,col_indexer] = value instead\n",
      "\n",
      "See the caveats in the documentation: https://pandas.pydata.org/pandas-docs/stable/user_guide/indexing.html#returning-a-view-versus-a-copy\n",
      "  tmp['keyword'] = tmp.msg.progress_apply(lambda x: kw_model.extract_keywords(x, keyphrase_ngram_range=(2,4), use_maxsum = True, top_n = 1))\n"
     ]
    },
    {
     "name": "stdout",
     "output_type": "stream",
     "text": [
      "{i} complete\n"
     ]
    },
    {
     "name": "stderr",
     "output_type": "stream",
     "text": [
      "100%|██████████| 363/363 [02:08<00:00,  2.83it/s]\n",
      "/var/folders/1b/dx8_94fs0q740wx3lfknk6y40000gn/T/ipykernel_42031/3950971282.py:3: SettingWithCopyWarning: \n",
      "A value is trying to be set on a copy of a slice from a DataFrame.\n",
      "Try using .loc[row_indexer,col_indexer] = value instead\n",
      "\n",
      "See the caveats in the documentation: https://pandas.pydata.org/pandas-docs/stable/user_guide/indexing.html#returning-a-view-versus-a-copy\n",
      "  tmp['keyword'] = tmp.msg.progress_apply(lambda x: kw_model.extract_keywords(x, keyphrase_ngram_range=(2,4), use_maxsum = True, top_n = 1))\n"
     ]
    },
    {
     "name": "stdout",
     "output_type": "stream",
     "text": [
      "{i} complete\n"
     ]
    },
    {
     "name": "stderr",
     "output_type": "stream",
     "text": [
      "100%|██████████| 354/354 [02:01<00:00,  2.91it/s]\n",
      "/var/folders/1b/dx8_94fs0q740wx3lfknk6y40000gn/T/ipykernel_42031/3950971282.py:3: SettingWithCopyWarning: \n",
      "A value is trying to be set on a copy of a slice from a DataFrame.\n",
      "Try using .loc[row_indexer,col_indexer] = value instead\n",
      "\n",
      "See the caveats in the documentation: https://pandas.pydata.org/pandas-docs/stable/user_guide/indexing.html#returning-a-view-versus-a-copy\n",
      "  tmp['keyword'] = tmp.msg.progress_apply(lambda x: kw_model.extract_keywords(x, keyphrase_ngram_range=(2,4), use_maxsum = True, top_n = 1))\n"
     ]
    },
    {
     "name": "stdout",
     "output_type": "stream",
     "text": [
      "{i} complete\n"
     ]
    },
    {
     "name": "stderr",
     "output_type": "stream",
     "text": [
      "100%|██████████| 349/349 [01:54<00:00,  3.05it/s]\n",
      "/var/folders/1b/dx8_94fs0q740wx3lfknk6y40000gn/T/ipykernel_42031/3950971282.py:3: SettingWithCopyWarning: \n",
      "A value is trying to be set on a copy of a slice from a DataFrame.\n",
      "Try using .loc[row_indexer,col_indexer] = value instead\n",
      "\n",
      "See the caveats in the documentation: https://pandas.pydata.org/pandas-docs/stable/user_guide/indexing.html#returning-a-view-versus-a-copy\n",
      "  tmp['keyword'] = tmp.msg.progress_apply(lambda x: kw_model.extract_keywords(x, keyphrase_ngram_range=(2,4), use_maxsum = True, top_n = 1))\n"
     ]
    },
    {
     "name": "stdout",
     "output_type": "stream",
     "text": [
      "{i} complete\n"
     ]
    },
    {
     "name": "stderr",
     "output_type": "stream",
     "text": [
      "100%|██████████| 349/349 [01:58<00:00,  2.93it/s]\n",
      "/var/folders/1b/dx8_94fs0q740wx3lfknk6y40000gn/T/ipykernel_42031/3950971282.py:3: SettingWithCopyWarning: \n",
      "A value is trying to be set on a copy of a slice from a DataFrame.\n",
      "Try using .loc[row_indexer,col_indexer] = value instead\n",
      "\n",
      "See the caveats in the documentation: https://pandas.pydata.org/pandas-docs/stable/user_guide/indexing.html#returning-a-view-versus-a-copy\n",
      "  tmp['keyword'] = tmp.msg.progress_apply(lambda x: kw_model.extract_keywords(x, keyphrase_ngram_range=(2,4), use_maxsum = True, top_n = 1))\n"
     ]
    },
    {
     "name": "stdout",
     "output_type": "stream",
     "text": [
      "{i} complete\n"
     ]
    },
    {
     "name": "stderr",
     "output_type": "stream",
     "text": [
      "100%|██████████| 344/344 [01:59<00:00,  2.87it/s]\n",
      "/var/folders/1b/dx8_94fs0q740wx3lfknk6y40000gn/T/ipykernel_42031/3950971282.py:3: SettingWithCopyWarning: \n",
      "A value is trying to be set on a copy of a slice from a DataFrame.\n",
      "Try using .loc[row_indexer,col_indexer] = value instead\n",
      "\n",
      "See the caveats in the documentation: https://pandas.pydata.org/pandas-docs/stable/user_guide/indexing.html#returning-a-view-versus-a-copy\n",
      "  tmp['keyword'] = tmp.msg.progress_apply(lambda x: kw_model.extract_keywords(x, keyphrase_ngram_range=(2,4), use_maxsum = True, top_n = 1))\n"
     ]
    },
    {
     "name": "stdout",
     "output_type": "stream",
     "text": [
      "{i} complete\n"
     ]
    },
    {
     "name": "stderr",
     "output_type": "stream",
     "text": [
      "100%|██████████| 342/342 [01:57<00:00,  2.92it/s]\n",
      "/var/folders/1b/dx8_94fs0q740wx3lfknk6y40000gn/T/ipykernel_42031/3950971282.py:3: SettingWithCopyWarning: \n",
      "A value is trying to be set on a copy of a slice from a DataFrame.\n",
      "Try using .loc[row_indexer,col_indexer] = value instead\n",
      "\n",
      "See the caveats in the documentation: https://pandas.pydata.org/pandas-docs/stable/user_guide/indexing.html#returning-a-view-versus-a-copy\n",
      "  tmp['keyword'] = tmp.msg.progress_apply(lambda x: kw_model.extract_keywords(x, keyphrase_ngram_range=(2,4), use_maxsum = True, top_n = 1))\n"
     ]
    },
    {
     "name": "stdout",
     "output_type": "stream",
     "text": [
      "{i} complete\n"
     ]
    },
    {
     "name": "stderr",
     "output_type": "stream",
     "text": [
      "100%|██████████| 334/334 [01:56<00:00,  2.87it/s]\n",
      "/var/folders/1b/dx8_94fs0q740wx3lfknk6y40000gn/T/ipykernel_42031/3950971282.py:3: SettingWithCopyWarning: \n",
      "A value is trying to be set on a copy of a slice from a DataFrame.\n",
      "Try using .loc[row_indexer,col_indexer] = value instead\n",
      "\n",
      "See the caveats in the documentation: https://pandas.pydata.org/pandas-docs/stable/user_guide/indexing.html#returning-a-view-versus-a-copy\n",
      "  tmp['keyword'] = tmp.msg.progress_apply(lambda x: kw_model.extract_keywords(x, keyphrase_ngram_range=(2,4), use_maxsum = True, top_n = 1))\n"
     ]
    },
    {
     "name": "stdout",
     "output_type": "stream",
     "text": [
      "{i} complete\n"
     ]
    },
    {
     "name": "stderr",
     "output_type": "stream",
     "text": [
      "100%|██████████| 330/330 [01:46<00:00,  3.11it/s]\n",
      "/var/folders/1b/dx8_94fs0q740wx3lfknk6y40000gn/T/ipykernel_42031/3950971282.py:3: SettingWithCopyWarning: \n",
      "A value is trying to be set on a copy of a slice from a DataFrame.\n",
      "Try using .loc[row_indexer,col_indexer] = value instead\n",
      "\n",
      "See the caveats in the documentation: https://pandas.pydata.org/pandas-docs/stable/user_guide/indexing.html#returning-a-view-versus-a-copy\n",
      "  tmp['keyword'] = tmp.msg.progress_apply(lambda x: kw_model.extract_keywords(x, keyphrase_ngram_range=(2,4), use_maxsum = True, top_n = 1))\n"
     ]
    },
    {
     "name": "stdout",
     "output_type": "stream",
     "text": [
      "{i} complete\n"
     ]
    },
    {
     "name": "stderr",
     "output_type": "stream",
     "text": [
      "100%|██████████| 325/325 [01:53<00:00,  2.87it/s]\n",
      "/var/folders/1b/dx8_94fs0q740wx3lfknk6y40000gn/T/ipykernel_42031/3950971282.py:3: SettingWithCopyWarning: \n",
      "A value is trying to be set on a copy of a slice from a DataFrame.\n",
      "Try using .loc[row_indexer,col_indexer] = value instead\n",
      "\n",
      "See the caveats in the documentation: https://pandas.pydata.org/pandas-docs/stable/user_guide/indexing.html#returning-a-view-versus-a-copy\n",
      "  tmp['keyword'] = tmp.msg.progress_apply(lambda x: kw_model.extract_keywords(x, keyphrase_ngram_range=(2,4), use_maxsum = True, top_n = 1))\n"
     ]
    },
    {
     "name": "stdout",
     "output_type": "stream",
     "text": [
      "{i} complete\n"
     ]
    },
    {
     "name": "stderr",
     "output_type": "stream",
     "text": [
      "100%|██████████| 324/324 [01:50<00:00,  2.94it/s]\n",
      "/var/folders/1b/dx8_94fs0q740wx3lfknk6y40000gn/T/ipykernel_42031/3950971282.py:3: SettingWithCopyWarning: \n",
      "A value is trying to be set on a copy of a slice from a DataFrame.\n",
      "Try using .loc[row_indexer,col_indexer] = value instead\n",
      "\n",
      "See the caveats in the documentation: https://pandas.pydata.org/pandas-docs/stable/user_guide/indexing.html#returning-a-view-versus-a-copy\n",
      "  tmp['keyword'] = tmp.msg.progress_apply(lambda x: kw_model.extract_keywords(x, keyphrase_ngram_range=(2,4), use_maxsum = True, top_n = 1))\n"
     ]
    },
    {
     "name": "stdout",
     "output_type": "stream",
     "text": [
      "{i} complete\n"
     ]
    },
    {
     "name": "stderr",
     "output_type": "stream",
     "text": [
      "100%|██████████| 321/321 [01:50<00:00,  2.92it/s]\n",
      "/var/folders/1b/dx8_94fs0q740wx3lfknk6y40000gn/T/ipykernel_42031/3950971282.py:3: SettingWithCopyWarning: \n",
      "A value is trying to be set on a copy of a slice from a DataFrame.\n",
      "Try using .loc[row_indexer,col_indexer] = value instead\n",
      "\n",
      "See the caveats in the documentation: https://pandas.pydata.org/pandas-docs/stable/user_guide/indexing.html#returning-a-view-versus-a-copy\n",
      "  tmp['keyword'] = tmp.msg.progress_apply(lambda x: kw_model.extract_keywords(x, keyphrase_ngram_range=(2,4), use_maxsum = True, top_n = 1))\n"
     ]
    },
    {
     "name": "stdout",
     "output_type": "stream",
     "text": [
      "{i} complete\n"
     ]
    },
    {
     "name": "stderr",
     "output_type": "stream",
     "text": [
      "100%|██████████| 320/320 [01:38<00:00,  3.24it/s]\n",
      "/var/folders/1b/dx8_94fs0q740wx3lfknk6y40000gn/T/ipykernel_42031/3950971282.py:3: SettingWithCopyWarning: \n",
      "A value is trying to be set on a copy of a slice from a DataFrame.\n",
      "Try using .loc[row_indexer,col_indexer] = value instead\n",
      "\n",
      "See the caveats in the documentation: https://pandas.pydata.org/pandas-docs/stable/user_guide/indexing.html#returning-a-view-versus-a-copy\n",
      "  tmp['keyword'] = tmp.msg.progress_apply(lambda x: kw_model.extract_keywords(x, keyphrase_ngram_range=(2,4), use_maxsum = True, top_n = 1))\n"
     ]
    },
    {
     "name": "stdout",
     "output_type": "stream",
     "text": [
      "{i} complete\n"
     ]
    },
    {
     "name": "stderr",
     "output_type": "stream",
     "text": [
      "100%|██████████| 313/313 [01:49<00:00,  2.86it/s]\n",
      "/var/folders/1b/dx8_94fs0q740wx3lfknk6y40000gn/T/ipykernel_42031/3950971282.py:3: SettingWithCopyWarning: \n",
      "A value is trying to be set on a copy of a slice from a DataFrame.\n",
      "Try using .loc[row_indexer,col_indexer] = value instead\n",
      "\n",
      "See the caveats in the documentation: https://pandas.pydata.org/pandas-docs/stable/user_guide/indexing.html#returning-a-view-versus-a-copy\n",
      "  tmp['keyword'] = tmp.msg.progress_apply(lambda x: kw_model.extract_keywords(x, keyphrase_ngram_range=(2,4), use_maxsum = True, top_n = 1))\n"
     ]
    },
    {
     "name": "stdout",
     "output_type": "stream",
     "text": [
      "{i} complete\n"
     ]
    },
    {
     "name": "stderr",
     "output_type": "stream",
     "text": [
      "100%|██████████| 312/312 [01:49<00:00,  2.86it/s]\n",
      "/var/folders/1b/dx8_94fs0q740wx3lfknk6y40000gn/T/ipykernel_42031/3950971282.py:3: SettingWithCopyWarning: \n",
      "A value is trying to be set on a copy of a slice from a DataFrame.\n",
      "Try using .loc[row_indexer,col_indexer] = value instead\n",
      "\n",
      "See the caveats in the documentation: https://pandas.pydata.org/pandas-docs/stable/user_guide/indexing.html#returning-a-view-versus-a-copy\n",
      "  tmp['keyword'] = tmp.msg.progress_apply(lambda x: kw_model.extract_keywords(x, keyphrase_ngram_range=(2,4), use_maxsum = True, top_n = 1))\n"
     ]
    },
    {
     "name": "stdout",
     "output_type": "stream",
     "text": [
      "{i} complete\n"
     ]
    },
    {
     "name": "stderr",
     "output_type": "stream",
     "text": [
      "100%|██████████| 308/308 [01:34<00:00,  3.27it/s]\n",
      "/var/folders/1b/dx8_94fs0q740wx3lfknk6y40000gn/T/ipykernel_42031/3950971282.py:3: SettingWithCopyWarning: \n",
      "A value is trying to be set on a copy of a slice from a DataFrame.\n",
      "Try using .loc[row_indexer,col_indexer] = value instead\n",
      "\n",
      "See the caveats in the documentation: https://pandas.pydata.org/pandas-docs/stable/user_guide/indexing.html#returning-a-view-versus-a-copy\n",
      "  tmp['keyword'] = tmp.msg.progress_apply(lambda x: kw_model.extract_keywords(x, keyphrase_ngram_range=(2,4), use_maxsum = True, top_n = 1))\n"
     ]
    },
    {
     "name": "stdout",
     "output_type": "stream",
     "text": [
      "{i} complete\n"
     ]
    },
    {
     "name": "stderr",
     "output_type": "stream",
     "text": [
      "100%|██████████| 307/307 [01:40<00:00,  3.04it/s]\n",
      "/var/folders/1b/dx8_94fs0q740wx3lfknk6y40000gn/T/ipykernel_42031/3950971282.py:3: SettingWithCopyWarning: \n",
      "A value is trying to be set on a copy of a slice from a DataFrame.\n",
      "Try using .loc[row_indexer,col_indexer] = value instead\n",
      "\n",
      "See the caveats in the documentation: https://pandas.pydata.org/pandas-docs/stable/user_guide/indexing.html#returning-a-view-versus-a-copy\n",
      "  tmp['keyword'] = tmp.msg.progress_apply(lambda x: kw_model.extract_keywords(x, keyphrase_ngram_range=(2,4), use_maxsum = True, top_n = 1))\n"
     ]
    },
    {
     "name": "stdout",
     "output_type": "stream",
     "text": [
      "{i} complete\n"
     ]
    },
    {
     "name": "stderr",
     "output_type": "stream",
     "text": [
      "100%|██████████| 306/306 [01:45<00:00,  2.89it/s]\n",
      "/var/folders/1b/dx8_94fs0q740wx3lfknk6y40000gn/T/ipykernel_42031/3950971282.py:3: SettingWithCopyWarning: \n",
      "A value is trying to be set on a copy of a slice from a DataFrame.\n",
      "Try using .loc[row_indexer,col_indexer] = value instead\n",
      "\n",
      "See the caveats in the documentation: https://pandas.pydata.org/pandas-docs/stable/user_guide/indexing.html#returning-a-view-versus-a-copy\n",
      "  tmp['keyword'] = tmp.msg.progress_apply(lambda x: kw_model.extract_keywords(x, keyphrase_ngram_range=(2,4), use_maxsum = True, top_n = 1))\n"
     ]
    },
    {
     "name": "stdout",
     "output_type": "stream",
     "text": [
      "{i} complete\n"
     ]
    },
    {
     "name": "stderr",
     "output_type": "stream",
     "text": [
      "100%|██████████| 300/300 [01:45<00:00,  2.84it/s]\n",
      "/var/folders/1b/dx8_94fs0q740wx3lfknk6y40000gn/T/ipykernel_42031/3950971282.py:3: SettingWithCopyWarning: \n",
      "A value is trying to be set on a copy of a slice from a DataFrame.\n",
      "Try using .loc[row_indexer,col_indexer] = value instead\n",
      "\n",
      "See the caveats in the documentation: https://pandas.pydata.org/pandas-docs/stable/user_guide/indexing.html#returning-a-view-versus-a-copy\n",
      "  tmp['keyword'] = tmp.msg.progress_apply(lambda x: kw_model.extract_keywords(x, keyphrase_ngram_range=(2,4), use_maxsum = True, top_n = 1))\n"
     ]
    },
    {
     "name": "stdout",
     "output_type": "stream",
     "text": [
      "{i} complete\n"
     ]
    },
    {
     "name": "stderr",
     "output_type": "stream",
     "text": [
      "100%|██████████| 298/298 [06:22<00:00,  1.28s/it]  \n",
      "/var/folders/1b/dx8_94fs0q740wx3lfknk6y40000gn/T/ipykernel_42031/3950971282.py:3: SettingWithCopyWarning: \n",
      "A value is trying to be set on a copy of a slice from a DataFrame.\n",
      "Try using .loc[row_indexer,col_indexer] = value instead\n",
      "\n",
      "See the caveats in the documentation: https://pandas.pydata.org/pandas-docs/stable/user_guide/indexing.html#returning-a-view-versus-a-copy\n",
      "  tmp['keyword'] = tmp.msg.progress_apply(lambda x: kw_model.extract_keywords(x, keyphrase_ngram_range=(2,4), use_maxsum = True, top_n = 1))\n"
     ]
    },
    {
     "name": "stdout",
     "output_type": "stream",
     "text": [
      "{i} complete\n"
     ]
    },
    {
     "name": "stderr",
     "output_type": "stream",
     "text": [
      "100%|██████████| 298/298 [01:42<00:00,  2.92it/s]\n",
      "/var/folders/1b/dx8_94fs0q740wx3lfknk6y40000gn/T/ipykernel_42031/3950971282.py:3: SettingWithCopyWarning: \n",
      "A value is trying to be set on a copy of a slice from a DataFrame.\n",
      "Try using .loc[row_indexer,col_indexer] = value instead\n",
      "\n",
      "See the caveats in the documentation: https://pandas.pydata.org/pandas-docs/stable/user_guide/indexing.html#returning-a-view-versus-a-copy\n",
      "  tmp['keyword'] = tmp.msg.progress_apply(lambda x: kw_model.extract_keywords(x, keyphrase_ngram_range=(2,4), use_maxsum = True, top_n = 1))\n"
     ]
    },
    {
     "name": "stdout",
     "output_type": "stream",
     "text": [
      "{i} complete\n"
     ]
    },
    {
     "name": "stderr",
     "output_type": "stream",
     "text": [
      "100%|██████████| 297/297 [01:46<00:00,  2.78it/s]\n",
      "/var/folders/1b/dx8_94fs0q740wx3lfknk6y40000gn/T/ipykernel_42031/3950971282.py:3: SettingWithCopyWarning: \n",
      "A value is trying to be set on a copy of a slice from a DataFrame.\n",
      "Try using .loc[row_indexer,col_indexer] = value instead\n",
      "\n",
      "See the caveats in the documentation: https://pandas.pydata.org/pandas-docs/stable/user_guide/indexing.html#returning-a-view-versus-a-copy\n",
      "  tmp['keyword'] = tmp.msg.progress_apply(lambda x: kw_model.extract_keywords(x, keyphrase_ngram_range=(2,4), use_maxsum = True, top_n = 1))\n"
     ]
    },
    {
     "name": "stdout",
     "output_type": "stream",
     "text": [
      "{i} complete\n"
     ]
    },
    {
     "name": "stderr",
     "output_type": "stream",
     "text": [
      "100%|██████████| 296/296 [01:44<00:00,  2.84it/s]\n",
      "/var/folders/1b/dx8_94fs0q740wx3lfknk6y40000gn/T/ipykernel_42031/3950971282.py:3: SettingWithCopyWarning: \n",
      "A value is trying to be set on a copy of a slice from a DataFrame.\n",
      "Try using .loc[row_indexer,col_indexer] = value instead\n",
      "\n",
      "See the caveats in the documentation: https://pandas.pydata.org/pandas-docs/stable/user_guide/indexing.html#returning-a-view-versus-a-copy\n",
      "  tmp['keyword'] = tmp.msg.progress_apply(lambda x: kw_model.extract_keywords(x, keyphrase_ngram_range=(2,4), use_maxsum = True, top_n = 1))\n"
     ]
    },
    {
     "name": "stdout",
     "output_type": "stream",
     "text": [
      "{i} complete\n"
     ]
    },
    {
     "name": "stderr",
     "output_type": "stream",
     "text": [
      "100%|██████████| 293/293 [01:35<00:00,  3.06it/s]\n",
      "/var/folders/1b/dx8_94fs0q740wx3lfknk6y40000gn/T/ipykernel_42031/3950971282.py:3: SettingWithCopyWarning: \n",
      "A value is trying to be set on a copy of a slice from a DataFrame.\n",
      "Try using .loc[row_indexer,col_indexer] = value instead\n",
      "\n",
      "See the caveats in the documentation: https://pandas.pydata.org/pandas-docs/stable/user_guide/indexing.html#returning-a-view-versus-a-copy\n",
      "  tmp['keyword'] = tmp.msg.progress_apply(lambda x: kw_model.extract_keywords(x, keyphrase_ngram_range=(2,4), use_maxsum = True, top_n = 1))\n"
     ]
    },
    {
     "name": "stdout",
     "output_type": "stream",
     "text": [
      "{i} complete\n"
     ]
    },
    {
     "name": "stderr",
     "output_type": "stream",
     "text": [
      "100%|██████████| 283/283 [01:38<00:00,  2.88it/s]\n",
      "/var/folders/1b/dx8_94fs0q740wx3lfknk6y40000gn/T/ipykernel_42031/3950971282.py:3: SettingWithCopyWarning: \n",
      "A value is trying to be set on a copy of a slice from a DataFrame.\n",
      "Try using .loc[row_indexer,col_indexer] = value instead\n",
      "\n",
      "See the caveats in the documentation: https://pandas.pydata.org/pandas-docs/stable/user_guide/indexing.html#returning-a-view-versus-a-copy\n",
      "  tmp['keyword'] = tmp.msg.progress_apply(lambda x: kw_model.extract_keywords(x, keyphrase_ngram_range=(2,4), use_maxsum = True, top_n = 1))\n"
     ]
    },
    {
     "name": "stdout",
     "output_type": "stream",
     "text": [
      "{i} complete\n"
     ]
    },
    {
     "name": "stderr",
     "output_type": "stream",
     "text": [
      "100%|██████████| 278/278 [01:30<00:00,  3.08it/s]\n",
      "/var/folders/1b/dx8_94fs0q740wx3lfknk6y40000gn/T/ipykernel_42031/3950971282.py:3: SettingWithCopyWarning: \n",
      "A value is trying to be set on a copy of a slice from a DataFrame.\n",
      "Try using .loc[row_indexer,col_indexer] = value instead\n",
      "\n",
      "See the caveats in the documentation: https://pandas.pydata.org/pandas-docs/stable/user_guide/indexing.html#returning-a-view-versus-a-copy\n",
      "  tmp['keyword'] = tmp.msg.progress_apply(lambda x: kw_model.extract_keywords(x, keyphrase_ngram_range=(2,4), use_maxsum = True, top_n = 1))\n"
     ]
    },
    {
     "name": "stdout",
     "output_type": "stream",
     "text": [
      "{i} complete\n"
     ]
    },
    {
     "name": "stderr",
     "output_type": "stream",
     "text": [
      "100%|██████████| 276/276 [01:30<00:00,  3.04it/s]\n",
      "/var/folders/1b/dx8_94fs0q740wx3lfknk6y40000gn/T/ipykernel_42031/3950971282.py:3: SettingWithCopyWarning: \n",
      "A value is trying to be set on a copy of a slice from a DataFrame.\n",
      "Try using .loc[row_indexer,col_indexer] = value instead\n",
      "\n",
      "See the caveats in the documentation: https://pandas.pydata.org/pandas-docs/stable/user_guide/indexing.html#returning-a-view-versus-a-copy\n",
      "  tmp['keyword'] = tmp.msg.progress_apply(lambda x: kw_model.extract_keywords(x, keyphrase_ngram_range=(2,4), use_maxsum = True, top_n = 1))\n"
     ]
    },
    {
     "name": "stdout",
     "output_type": "stream",
     "text": [
      "{i} complete\n"
     ]
    },
    {
     "name": "stderr",
     "output_type": "stream",
     "text": [
      "100%|██████████| 276/276 [01:37<00:00,  2.84it/s]\n",
      "/var/folders/1b/dx8_94fs0q740wx3lfknk6y40000gn/T/ipykernel_42031/3950971282.py:3: SettingWithCopyWarning: \n",
      "A value is trying to be set on a copy of a slice from a DataFrame.\n",
      "Try using .loc[row_indexer,col_indexer] = value instead\n",
      "\n",
      "See the caveats in the documentation: https://pandas.pydata.org/pandas-docs/stable/user_guide/indexing.html#returning-a-view-versus-a-copy\n",
      "  tmp['keyword'] = tmp.msg.progress_apply(lambda x: kw_model.extract_keywords(x, keyphrase_ngram_range=(2,4), use_maxsum = True, top_n = 1))\n"
     ]
    },
    {
     "name": "stdout",
     "output_type": "stream",
     "text": [
      "{i} complete\n"
     ]
    },
    {
     "name": "stderr",
     "output_type": "stream",
     "text": [
      "100%|██████████| 273/273 [01:35<00:00,  2.85it/s]\n",
      "/var/folders/1b/dx8_94fs0q740wx3lfknk6y40000gn/T/ipykernel_42031/3950971282.py:3: SettingWithCopyWarning: \n",
      "A value is trying to be set on a copy of a slice from a DataFrame.\n",
      "Try using .loc[row_indexer,col_indexer] = value instead\n",
      "\n",
      "See the caveats in the documentation: https://pandas.pydata.org/pandas-docs/stable/user_guide/indexing.html#returning-a-view-versus-a-copy\n",
      "  tmp['keyword'] = tmp.msg.progress_apply(lambda x: kw_model.extract_keywords(x, keyphrase_ngram_range=(2,4), use_maxsum = True, top_n = 1))\n"
     ]
    },
    {
     "name": "stdout",
     "output_type": "stream",
     "text": [
      "{i} complete\n"
     ]
    },
    {
     "name": "stderr",
     "output_type": "stream",
     "text": [
      "100%|██████████| 265/265 [01:27<00:00,  3.02it/s]\n",
      "/var/folders/1b/dx8_94fs0q740wx3lfknk6y40000gn/T/ipykernel_42031/3950971282.py:3: SettingWithCopyWarning: \n",
      "A value is trying to be set on a copy of a slice from a DataFrame.\n",
      "Try using .loc[row_indexer,col_indexer] = value instead\n",
      "\n",
      "See the caveats in the documentation: https://pandas.pydata.org/pandas-docs/stable/user_guide/indexing.html#returning-a-view-versus-a-copy\n",
      "  tmp['keyword'] = tmp.msg.progress_apply(lambda x: kw_model.extract_keywords(x, keyphrase_ngram_range=(2,4), use_maxsum = True, top_n = 1))\n"
     ]
    },
    {
     "name": "stdout",
     "output_type": "stream",
     "text": [
      "{i} complete\n"
     ]
    },
    {
     "name": "stderr",
     "output_type": "stream",
     "text": [
      "100%|██████████| 264/264 [01:33<00:00,  2.82it/s]\n",
      "/var/folders/1b/dx8_94fs0q740wx3lfknk6y40000gn/T/ipykernel_42031/3950971282.py:3: SettingWithCopyWarning: \n",
      "A value is trying to be set on a copy of a slice from a DataFrame.\n",
      "Try using .loc[row_indexer,col_indexer] = value instead\n",
      "\n",
      "See the caveats in the documentation: https://pandas.pydata.org/pandas-docs/stable/user_guide/indexing.html#returning-a-view-versus-a-copy\n",
      "  tmp['keyword'] = tmp.msg.progress_apply(lambda x: kw_model.extract_keywords(x, keyphrase_ngram_range=(2,4), use_maxsum = True, top_n = 1))\n"
     ]
    },
    {
     "name": "stdout",
     "output_type": "stream",
     "text": [
      "{i} complete\n"
     ]
    },
    {
     "name": "stderr",
     "output_type": "stream",
     "text": [
      "100%|██████████| 258/258 [01:25<00:00,  3.03it/s]\n",
      "/var/folders/1b/dx8_94fs0q740wx3lfknk6y40000gn/T/ipykernel_42031/3950971282.py:3: SettingWithCopyWarning: \n",
      "A value is trying to be set on a copy of a slice from a DataFrame.\n",
      "Try using .loc[row_indexer,col_indexer] = value instead\n",
      "\n",
      "See the caveats in the documentation: https://pandas.pydata.org/pandas-docs/stable/user_guide/indexing.html#returning-a-view-versus-a-copy\n",
      "  tmp['keyword'] = tmp.msg.progress_apply(lambda x: kw_model.extract_keywords(x, keyphrase_ngram_range=(2,4), use_maxsum = True, top_n = 1))\n"
     ]
    },
    {
     "name": "stdout",
     "output_type": "stream",
     "text": [
      "{i} complete\n"
     ]
    },
    {
     "name": "stderr",
     "output_type": "stream",
     "text": [
      "100%|██████████| 247/247 [01:25<00:00,  2.89it/s]\n",
      "/var/folders/1b/dx8_94fs0q740wx3lfknk6y40000gn/T/ipykernel_42031/3950971282.py:3: SettingWithCopyWarning: \n",
      "A value is trying to be set on a copy of a slice from a DataFrame.\n",
      "Try using .loc[row_indexer,col_indexer] = value instead\n",
      "\n",
      "See the caveats in the documentation: https://pandas.pydata.org/pandas-docs/stable/user_guide/indexing.html#returning-a-view-versus-a-copy\n",
      "  tmp['keyword'] = tmp.msg.progress_apply(lambda x: kw_model.extract_keywords(x, keyphrase_ngram_range=(2,4), use_maxsum = True, top_n = 1))\n"
     ]
    },
    {
     "name": "stdout",
     "output_type": "stream",
     "text": [
      "{i} complete\n"
     ]
    },
    {
     "name": "stderr",
     "output_type": "stream",
     "text": [
      "100%|██████████| 240/240 [01:18<00:00,  3.05it/s]\n",
      "/var/folders/1b/dx8_94fs0q740wx3lfknk6y40000gn/T/ipykernel_42031/3950971282.py:3: SettingWithCopyWarning: \n",
      "A value is trying to be set on a copy of a slice from a DataFrame.\n",
      "Try using .loc[row_indexer,col_indexer] = value instead\n",
      "\n",
      "See the caveats in the documentation: https://pandas.pydata.org/pandas-docs/stable/user_guide/indexing.html#returning-a-view-versus-a-copy\n",
      "  tmp['keyword'] = tmp.msg.progress_apply(lambda x: kw_model.extract_keywords(x, keyphrase_ngram_range=(2,4), use_maxsum = True, top_n = 1))\n"
     ]
    },
    {
     "name": "stdout",
     "output_type": "stream",
     "text": [
      "{i} complete\n"
     ]
    },
    {
     "name": "stderr",
     "output_type": "stream",
     "text": [
      "100%|██████████| 239/239 [01:21<00:00,  2.93it/s]\n",
      "/var/folders/1b/dx8_94fs0q740wx3lfknk6y40000gn/T/ipykernel_42031/3950971282.py:3: SettingWithCopyWarning: \n",
      "A value is trying to be set on a copy of a slice from a DataFrame.\n",
      "Try using .loc[row_indexer,col_indexer] = value instead\n",
      "\n",
      "See the caveats in the documentation: https://pandas.pydata.org/pandas-docs/stable/user_guide/indexing.html#returning-a-view-versus-a-copy\n",
      "  tmp['keyword'] = tmp.msg.progress_apply(lambda x: kw_model.extract_keywords(x, keyphrase_ngram_range=(2,4), use_maxsum = True, top_n = 1))\n"
     ]
    },
    {
     "name": "stdout",
     "output_type": "stream",
     "text": [
      "{i} complete\n"
     ]
    },
    {
     "name": "stderr",
     "output_type": "stream",
     "text": [
      "100%|██████████| 235/235 [01:21<00:00,  2.89it/s]\n",
      "/var/folders/1b/dx8_94fs0q740wx3lfknk6y40000gn/T/ipykernel_42031/3950971282.py:3: SettingWithCopyWarning: \n",
      "A value is trying to be set on a copy of a slice from a DataFrame.\n",
      "Try using .loc[row_indexer,col_indexer] = value instead\n",
      "\n",
      "See the caveats in the documentation: https://pandas.pydata.org/pandas-docs/stable/user_guide/indexing.html#returning-a-view-versus-a-copy\n",
      "  tmp['keyword'] = tmp.msg.progress_apply(lambda x: kw_model.extract_keywords(x, keyphrase_ngram_range=(2,4), use_maxsum = True, top_n = 1))\n"
     ]
    },
    {
     "name": "stdout",
     "output_type": "stream",
     "text": [
      "{i} complete\n"
     ]
    },
    {
     "name": "stderr",
     "output_type": "stream",
     "text": [
      "100%|██████████| 231/231 [01:13<00:00,  3.14it/s]\n",
      "/var/folders/1b/dx8_94fs0q740wx3lfknk6y40000gn/T/ipykernel_42031/3950971282.py:3: SettingWithCopyWarning: \n",
      "A value is trying to be set on a copy of a slice from a DataFrame.\n",
      "Try using .loc[row_indexer,col_indexer] = value instead\n",
      "\n",
      "See the caveats in the documentation: https://pandas.pydata.org/pandas-docs/stable/user_guide/indexing.html#returning-a-view-versus-a-copy\n",
      "  tmp['keyword'] = tmp.msg.progress_apply(lambda x: kw_model.extract_keywords(x, keyphrase_ngram_range=(2,4), use_maxsum = True, top_n = 1))\n"
     ]
    },
    {
     "name": "stdout",
     "output_type": "stream",
     "text": [
      "{i} complete\n"
     ]
    },
    {
     "name": "stderr",
     "output_type": "stream",
     "text": [
      "100%|██████████| 226/226 [01:13<00:00,  3.07it/s]\n",
      "/var/folders/1b/dx8_94fs0q740wx3lfknk6y40000gn/T/ipykernel_42031/3950971282.py:3: SettingWithCopyWarning: \n",
      "A value is trying to be set on a copy of a slice from a DataFrame.\n",
      "Try using .loc[row_indexer,col_indexer] = value instead\n",
      "\n",
      "See the caveats in the documentation: https://pandas.pydata.org/pandas-docs/stable/user_guide/indexing.html#returning-a-view-versus-a-copy\n",
      "  tmp['keyword'] = tmp.msg.progress_apply(lambda x: kw_model.extract_keywords(x, keyphrase_ngram_range=(2,4), use_maxsum = True, top_n = 1))\n"
     ]
    },
    {
     "name": "stdout",
     "output_type": "stream",
     "text": [
      "{i} complete\n"
     ]
    },
    {
     "name": "stderr",
     "output_type": "stream",
     "text": [
      "100%|██████████| 220/220 [01:17<00:00,  2.83it/s]\n",
      "/var/folders/1b/dx8_94fs0q740wx3lfknk6y40000gn/T/ipykernel_42031/3950971282.py:3: SettingWithCopyWarning: \n",
      "A value is trying to be set on a copy of a slice from a DataFrame.\n",
      "Try using .loc[row_indexer,col_indexer] = value instead\n",
      "\n",
      "See the caveats in the documentation: https://pandas.pydata.org/pandas-docs/stable/user_guide/indexing.html#returning-a-view-versus-a-copy\n",
      "  tmp['keyword'] = tmp.msg.progress_apply(lambda x: kw_model.extract_keywords(x, keyphrase_ngram_range=(2,4), use_maxsum = True, top_n = 1))\n"
     ]
    },
    {
     "name": "stdout",
     "output_type": "stream",
     "text": [
      "{i} complete\n"
     ]
    },
    {
     "name": "stderr",
     "output_type": "stream",
     "text": [
      "100%|██████████| 220/220 [01:14<00:00,  2.94it/s]\n",
      "/var/folders/1b/dx8_94fs0q740wx3lfknk6y40000gn/T/ipykernel_42031/3950971282.py:3: SettingWithCopyWarning: \n",
      "A value is trying to be set on a copy of a slice from a DataFrame.\n",
      "Try using .loc[row_indexer,col_indexer] = value instead\n",
      "\n",
      "See the caveats in the documentation: https://pandas.pydata.org/pandas-docs/stable/user_guide/indexing.html#returning-a-view-versus-a-copy\n",
      "  tmp['keyword'] = tmp.msg.progress_apply(lambda x: kw_model.extract_keywords(x, keyphrase_ngram_range=(2,4), use_maxsum = True, top_n = 1))\n"
     ]
    },
    {
     "name": "stdout",
     "output_type": "stream",
     "text": [
      "{i} complete\n"
     ]
    },
    {
     "name": "stderr",
     "output_type": "stream",
     "text": [
      "100%|██████████| 216/216 [01:13<00:00,  2.93it/s]\n",
      "/var/folders/1b/dx8_94fs0q740wx3lfknk6y40000gn/T/ipykernel_42031/3950971282.py:3: SettingWithCopyWarning: \n",
      "A value is trying to be set on a copy of a slice from a DataFrame.\n",
      "Try using .loc[row_indexer,col_indexer] = value instead\n",
      "\n",
      "See the caveats in the documentation: https://pandas.pydata.org/pandas-docs/stable/user_guide/indexing.html#returning-a-view-versus-a-copy\n",
      "  tmp['keyword'] = tmp.msg.progress_apply(lambda x: kw_model.extract_keywords(x, keyphrase_ngram_range=(2,4), use_maxsum = True, top_n = 1))\n"
     ]
    },
    {
     "name": "stdout",
     "output_type": "stream",
     "text": [
      "{i} complete\n"
     ]
    },
    {
     "name": "stderr",
     "output_type": "stream",
     "text": [
      "100%|██████████| 209/209 [01:11<00:00,  2.93it/s]\n",
      "/var/folders/1b/dx8_94fs0q740wx3lfknk6y40000gn/T/ipykernel_42031/3950971282.py:3: SettingWithCopyWarning: \n",
      "A value is trying to be set on a copy of a slice from a DataFrame.\n",
      "Try using .loc[row_indexer,col_indexer] = value instead\n",
      "\n",
      "See the caveats in the documentation: https://pandas.pydata.org/pandas-docs/stable/user_guide/indexing.html#returning-a-view-versus-a-copy\n",
      "  tmp['keyword'] = tmp.msg.progress_apply(lambda x: kw_model.extract_keywords(x, keyphrase_ngram_range=(2,4), use_maxsum = True, top_n = 1))\n"
     ]
    },
    {
     "name": "stdout",
     "output_type": "stream",
     "text": [
      "{i} complete\n"
     ]
    },
    {
     "name": "stderr",
     "output_type": "stream",
     "text": [
      "100%|██████████| 206/206 [01:11<00:00,  2.86it/s]\n",
      "/var/folders/1b/dx8_94fs0q740wx3lfknk6y40000gn/T/ipykernel_42031/3950971282.py:3: SettingWithCopyWarning: \n",
      "A value is trying to be set on a copy of a slice from a DataFrame.\n",
      "Try using .loc[row_indexer,col_indexer] = value instead\n",
      "\n",
      "See the caveats in the documentation: https://pandas.pydata.org/pandas-docs/stable/user_guide/indexing.html#returning-a-view-versus-a-copy\n",
      "  tmp['keyword'] = tmp.msg.progress_apply(lambda x: kw_model.extract_keywords(x, keyphrase_ngram_range=(2,4), use_maxsum = True, top_n = 1))\n"
     ]
    },
    {
     "name": "stdout",
     "output_type": "stream",
     "text": [
      "{i} complete\n"
     ]
    },
    {
     "name": "stderr",
     "output_type": "stream",
     "text": [
      "100%|██████████| 192/192 [01:03<00:00,  3.02it/s]\n",
      "/var/folders/1b/dx8_94fs0q740wx3lfknk6y40000gn/T/ipykernel_42031/3950971282.py:3: SettingWithCopyWarning: \n",
      "A value is trying to be set on a copy of a slice from a DataFrame.\n",
      "Try using .loc[row_indexer,col_indexer] = value instead\n",
      "\n",
      "See the caveats in the documentation: https://pandas.pydata.org/pandas-docs/stable/user_guide/indexing.html#returning-a-view-versus-a-copy\n",
      "  tmp['keyword'] = tmp.msg.progress_apply(lambda x: kw_model.extract_keywords(x, keyphrase_ngram_range=(2,4), use_maxsum = True, top_n = 1))\n"
     ]
    },
    {
     "name": "stdout",
     "output_type": "stream",
     "text": [
      "{i} complete\n"
     ]
    },
    {
     "name": "stderr",
     "output_type": "stream",
     "text": [
      "100%|██████████| 183/183 [01:02<00:00,  2.93it/s]\n",
      "/var/folders/1b/dx8_94fs0q740wx3lfknk6y40000gn/T/ipykernel_42031/3950971282.py:3: SettingWithCopyWarning: \n",
      "A value is trying to be set on a copy of a slice from a DataFrame.\n",
      "Try using .loc[row_indexer,col_indexer] = value instead\n",
      "\n",
      "See the caveats in the documentation: https://pandas.pydata.org/pandas-docs/stable/user_guide/indexing.html#returning-a-view-versus-a-copy\n",
      "  tmp['keyword'] = tmp.msg.progress_apply(lambda x: kw_model.extract_keywords(x, keyphrase_ngram_range=(2,4), use_maxsum = True, top_n = 1))\n"
     ]
    },
    {
     "name": "stdout",
     "output_type": "stream",
     "text": [
      "{i} complete\n"
     ]
    },
    {
     "name": "stderr",
     "output_type": "stream",
     "text": [
      "100%|██████████| 180/180 [00:57<00:00,  3.12it/s]\n",
      "/var/folders/1b/dx8_94fs0q740wx3lfknk6y40000gn/T/ipykernel_42031/3950971282.py:3: SettingWithCopyWarning: \n",
      "A value is trying to be set on a copy of a slice from a DataFrame.\n",
      "Try using .loc[row_indexer,col_indexer] = value instead\n",
      "\n",
      "See the caveats in the documentation: https://pandas.pydata.org/pandas-docs/stable/user_guide/indexing.html#returning-a-view-versus-a-copy\n",
      "  tmp['keyword'] = tmp.msg.progress_apply(lambda x: kw_model.extract_keywords(x, keyphrase_ngram_range=(2,4), use_maxsum = True, top_n = 1))\n"
     ]
    },
    {
     "name": "stdout",
     "output_type": "stream",
     "text": [
      "{i} complete\n"
     ]
    },
    {
     "name": "stderr",
     "output_type": "stream",
     "text": [
      "100%|██████████| 178/178 [01:05<00:00,  2.71it/s]\n",
      "/var/folders/1b/dx8_94fs0q740wx3lfknk6y40000gn/T/ipykernel_42031/3950971282.py:3: SettingWithCopyWarning: \n",
      "A value is trying to be set on a copy of a slice from a DataFrame.\n",
      "Try using .loc[row_indexer,col_indexer] = value instead\n",
      "\n",
      "See the caveats in the documentation: https://pandas.pydata.org/pandas-docs/stable/user_guide/indexing.html#returning-a-view-versus-a-copy\n",
      "  tmp['keyword'] = tmp.msg.progress_apply(lambda x: kw_model.extract_keywords(x, keyphrase_ngram_range=(2,4), use_maxsum = True, top_n = 1))\n"
     ]
    },
    {
     "name": "stdout",
     "output_type": "stream",
     "text": [
      "{i} complete\n"
     ]
    },
    {
     "name": "stderr",
     "output_type": "stream",
     "text": [
      "100%|██████████| 175/175 [12:10<00:00,  4.17s/it]  \n",
      "/var/folders/1b/dx8_94fs0q740wx3lfknk6y40000gn/T/ipykernel_42031/3950971282.py:3: SettingWithCopyWarning: \n",
      "A value is trying to be set on a copy of a slice from a DataFrame.\n",
      "Try using .loc[row_indexer,col_indexer] = value instead\n",
      "\n",
      "See the caveats in the documentation: https://pandas.pydata.org/pandas-docs/stable/user_guide/indexing.html#returning-a-view-versus-a-copy\n",
      "  tmp['keyword'] = tmp.msg.progress_apply(lambda x: kw_model.extract_keywords(x, keyphrase_ngram_range=(2,4), use_maxsum = True, top_n = 1))\n"
     ]
    },
    {
     "name": "stdout",
     "output_type": "stream",
     "text": [
      "{i} complete\n"
     ]
    },
    {
     "name": "stderr",
     "output_type": "stream",
     "text": [
      "100%|██████████| 166/166 [00:57<00:00,  2.90it/s]\n",
      "/var/folders/1b/dx8_94fs0q740wx3lfknk6y40000gn/T/ipykernel_42031/3950971282.py:3: SettingWithCopyWarning: \n",
      "A value is trying to be set on a copy of a slice from a DataFrame.\n",
      "Try using .loc[row_indexer,col_indexer] = value instead\n",
      "\n",
      "See the caveats in the documentation: https://pandas.pydata.org/pandas-docs/stable/user_guide/indexing.html#returning-a-view-versus-a-copy\n",
      "  tmp['keyword'] = tmp.msg.progress_apply(lambda x: kw_model.extract_keywords(x, keyphrase_ngram_range=(2,4), use_maxsum = True, top_n = 1))\n"
     ]
    },
    {
     "name": "stdout",
     "output_type": "stream",
     "text": [
      "{i} complete\n"
     ]
    },
    {
     "name": "stderr",
     "output_type": "stream",
     "text": [
      "100%|██████████| 166/166 [00:58<00:00,  2.86it/s]\n",
      "/var/folders/1b/dx8_94fs0q740wx3lfknk6y40000gn/T/ipykernel_42031/3950971282.py:3: SettingWithCopyWarning: \n",
      "A value is trying to be set on a copy of a slice from a DataFrame.\n",
      "Try using .loc[row_indexer,col_indexer] = value instead\n",
      "\n",
      "See the caveats in the documentation: https://pandas.pydata.org/pandas-docs/stable/user_guide/indexing.html#returning-a-view-versus-a-copy\n",
      "  tmp['keyword'] = tmp.msg.progress_apply(lambda x: kw_model.extract_keywords(x, keyphrase_ngram_range=(2,4), use_maxsum = True, top_n = 1))\n"
     ]
    },
    {
     "name": "stdout",
     "output_type": "stream",
     "text": [
      "{i} complete\n"
     ]
    },
    {
     "name": "stderr",
     "output_type": "stream",
     "text": [
      "100%|██████████| 163/163 [00:57<00:00,  2.85it/s]\n",
      "/var/folders/1b/dx8_94fs0q740wx3lfknk6y40000gn/T/ipykernel_42031/3950971282.py:3: SettingWithCopyWarning: \n",
      "A value is trying to be set on a copy of a slice from a DataFrame.\n",
      "Try using .loc[row_indexer,col_indexer] = value instead\n",
      "\n",
      "See the caveats in the documentation: https://pandas.pydata.org/pandas-docs/stable/user_guide/indexing.html#returning-a-view-versus-a-copy\n",
      "  tmp['keyword'] = tmp.msg.progress_apply(lambda x: kw_model.extract_keywords(x, keyphrase_ngram_range=(2,4), use_maxsum = True, top_n = 1))\n"
     ]
    },
    {
     "name": "stdout",
     "output_type": "stream",
     "text": [
      "{i} complete\n"
     ]
    },
    {
     "name": "stderr",
     "output_type": "stream",
     "text": [
      "100%|██████████| 161/161 [00:53<00:00,  3.04it/s]\n",
      "/var/folders/1b/dx8_94fs0q740wx3lfknk6y40000gn/T/ipykernel_42031/3950971282.py:3: SettingWithCopyWarning: \n",
      "A value is trying to be set on a copy of a slice from a DataFrame.\n",
      "Try using .loc[row_indexer,col_indexer] = value instead\n",
      "\n",
      "See the caveats in the documentation: https://pandas.pydata.org/pandas-docs/stable/user_guide/indexing.html#returning-a-view-versus-a-copy\n",
      "  tmp['keyword'] = tmp.msg.progress_apply(lambda x: kw_model.extract_keywords(x, keyphrase_ngram_range=(2,4), use_maxsum = True, top_n = 1))\n"
     ]
    },
    {
     "name": "stdout",
     "output_type": "stream",
     "text": [
      "{i} complete\n"
     ]
    },
    {
     "name": "stderr",
     "output_type": "stream",
     "text": [
      "100%|██████████| 159/159 [00:50<00:00,  3.15it/s]\n",
      "/var/folders/1b/dx8_94fs0q740wx3lfknk6y40000gn/T/ipykernel_42031/3950971282.py:3: SettingWithCopyWarning: \n",
      "A value is trying to be set on a copy of a slice from a DataFrame.\n",
      "Try using .loc[row_indexer,col_indexer] = value instead\n",
      "\n",
      "See the caveats in the documentation: https://pandas.pydata.org/pandas-docs/stable/user_guide/indexing.html#returning-a-view-versus-a-copy\n",
      "  tmp['keyword'] = tmp.msg.progress_apply(lambda x: kw_model.extract_keywords(x, keyphrase_ngram_range=(2,4), use_maxsum = True, top_n = 1))\n"
     ]
    },
    {
     "name": "stdout",
     "output_type": "stream",
     "text": [
      "{i} complete\n"
     ]
    },
    {
     "name": "stderr",
     "output_type": "stream",
     "text": [
      "100%|██████████| 155/155 [00:51<00:00,  3.03it/s]\n",
      "/var/folders/1b/dx8_94fs0q740wx3lfknk6y40000gn/T/ipykernel_42031/3950971282.py:3: SettingWithCopyWarning: \n",
      "A value is trying to be set on a copy of a slice from a DataFrame.\n",
      "Try using .loc[row_indexer,col_indexer] = value instead\n",
      "\n",
      "See the caveats in the documentation: https://pandas.pydata.org/pandas-docs/stable/user_guide/indexing.html#returning-a-view-versus-a-copy\n",
      "  tmp['keyword'] = tmp.msg.progress_apply(lambda x: kw_model.extract_keywords(x, keyphrase_ngram_range=(2,4), use_maxsum = True, top_n = 1))\n"
     ]
    },
    {
     "name": "stdout",
     "output_type": "stream",
     "text": [
      "{i} complete\n"
     ]
    },
    {
     "name": "stderr",
     "output_type": "stream",
     "text": [
      "100%|██████████| 155/155 [00:54<00:00,  2.83it/s]\n",
      "/var/folders/1b/dx8_94fs0q740wx3lfknk6y40000gn/T/ipykernel_42031/3950971282.py:3: SettingWithCopyWarning: \n",
      "A value is trying to be set on a copy of a slice from a DataFrame.\n",
      "Try using .loc[row_indexer,col_indexer] = value instead\n",
      "\n",
      "See the caveats in the documentation: https://pandas.pydata.org/pandas-docs/stable/user_guide/indexing.html#returning-a-view-versus-a-copy\n",
      "  tmp['keyword'] = tmp.msg.progress_apply(lambda x: kw_model.extract_keywords(x, keyphrase_ngram_range=(2,4), use_maxsum = True, top_n = 1))\n"
     ]
    },
    {
     "name": "stdout",
     "output_type": "stream",
     "text": [
      "{i} complete\n"
     ]
    },
    {
     "name": "stderr",
     "output_type": "stream",
     "text": [
      "100%|██████████| 154/154 [00:53<00:00,  2.88it/s]\n",
      "/var/folders/1b/dx8_94fs0q740wx3lfknk6y40000gn/T/ipykernel_42031/3950971282.py:3: SettingWithCopyWarning: \n",
      "A value is trying to be set on a copy of a slice from a DataFrame.\n",
      "Try using .loc[row_indexer,col_indexer] = value instead\n",
      "\n",
      "See the caveats in the documentation: https://pandas.pydata.org/pandas-docs/stable/user_guide/indexing.html#returning-a-view-versus-a-copy\n",
      "  tmp['keyword'] = tmp.msg.progress_apply(lambda x: kw_model.extract_keywords(x, keyphrase_ngram_range=(2,4), use_maxsum = True, top_n = 1))\n"
     ]
    },
    {
     "name": "stdout",
     "output_type": "stream",
     "text": [
      "{i} complete\n"
     ]
    },
    {
     "name": "stderr",
     "output_type": "stream",
     "text": [
      "100%|██████████| 143/143 [00:48<00:00,  2.92it/s]\n",
      "/var/folders/1b/dx8_94fs0q740wx3lfknk6y40000gn/T/ipykernel_42031/3950971282.py:3: SettingWithCopyWarning: \n",
      "A value is trying to be set on a copy of a slice from a DataFrame.\n",
      "Try using .loc[row_indexer,col_indexer] = value instead\n",
      "\n",
      "See the caveats in the documentation: https://pandas.pydata.org/pandas-docs/stable/user_guide/indexing.html#returning-a-view-versus-a-copy\n",
      "  tmp['keyword'] = tmp.msg.progress_apply(lambda x: kw_model.extract_keywords(x, keyphrase_ngram_range=(2,4), use_maxsum = True, top_n = 1))\n"
     ]
    },
    {
     "name": "stdout",
     "output_type": "stream",
     "text": [
      "{i} complete\n"
     ]
    },
    {
     "name": "stderr",
     "output_type": "stream",
     "text": [
      "100%|██████████| 137/137 [00:47<00:00,  2.91it/s]\n",
      "/var/folders/1b/dx8_94fs0q740wx3lfknk6y40000gn/T/ipykernel_42031/3950971282.py:3: SettingWithCopyWarning: \n",
      "A value is trying to be set on a copy of a slice from a DataFrame.\n",
      "Try using .loc[row_indexer,col_indexer] = value instead\n",
      "\n",
      "See the caveats in the documentation: https://pandas.pydata.org/pandas-docs/stable/user_guide/indexing.html#returning-a-view-versus-a-copy\n",
      "  tmp['keyword'] = tmp.msg.progress_apply(lambda x: kw_model.extract_keywords(x, keyphrase_ngram_range=(2,4), use_maxsum = True, top_n = 1))\n"
     ]
    },
    {
     "name": "stdout",
     "output_type": "stream",
     "text": [
      "{i} complete\n"
     ]
    },
    {
     "name": "stderr",
     "output_type": "stream",
     "text": [
      "100%|██████████| 133/133 [00:44<00:00,  3.01it/s]\n",
      "/var/folders/1b/dx8_94fs0q740wx3lfknk6y40000gn/T/ipykernel_42031/3950971282.py:3: SettingWithCopyWarning: \n",
      "A value is trying to be set on a copy of a slice from a DataFrame.\n",
      "Try using .loc[row_indexer,col_indexer] = value instead\n",
      "\n",
      "See the caveats in the documentation: https://pandas.pydata.org/pandas-docs/stable/user_guide/indexing.html#returning-a-view-versus-a-copy\n",
      "  tmp['keyword'] = tmp.msg.progress_apply(lambda x: kw_model.extract_keywords(x, keyphrase_ngram_range=(2,4), use_maxsum = True, top_n = 1))\n"
     ]
    },
    {
     "name": "stdout",
     "output_type": "stream",
     "text": [
      "{i} complete\n"
     ]
    },
    {
     "name": "stderr",
     "output_type": "stream",
     "text": [
      "100%|██████████| 131/131 [00:59<00:00,  2.19it/s]\n",
      "/var/folders/1b/dx8_94fs0q740wx3lfknk6y40000gn/T/ipykernel_42031/3950971282.py:3: SettingWithCopyWarning: \n",
      "A value is trying to be set on a copy of a slice from a DataFrame.\n",
      "Try using .loc[row_indexer,col_indexer] = value instead\n",
      "\n",
      "See the caveats in the documentation: https://pandas.pydata.org/pandas-docs/stable/user_guide/indexing.html#returning-a-view-versus-a-copy\n",
      "  tmp['keyword'] = tmp.msg.progress_apply(lambda x: kw_model.extract_keywords(x, keyphrase_ngram_range=(2,4), use_maxsum = True, top_n = 1))\n"
     ]
    },
    {
     "name": "stdout",
     "output_type": "stream",
     "text": [
      "{i} complete\n"
     ]
    },
    {
     "name": "stderr",
     "output_type": "stream",
     "text": [
      "100%|██████████| 129/129 [00:42<00:00,  3.04it/s]\n",
      "/var/folders/1b/dx8_94fs0q740wx3lfknk6y40000gn/T/ipykernel_42031/3950971282.py:3: SettingWithCopyWarning: \n",
      "A value is trying to be set on a copy of a slice from a DataFrame.\n",
      "Try using .loc[row_indexer,col_indexer] = value instead\n",
      "\n",
      "See the caveats in the documentation: https://pandas.pydata.org/pandas-docs/stable/user_guide/indexing.html#returning-a-view-versus-a-copy\n",
      "  tmp['keyword'] = tmp.msg.progress_apply(lambda x: kw_model.extract_keywords(x, keyphrase_ngram_range=(2,4), use_maxsum = True, top_n = 1))\n"
     ]
    },
    {
     "name": "stdout",
     "output_type": "stream",
     "text": [
      "{i} complete\n"
     ]
    },
    {
     "name": "stderr",
     "output_type": "stream",
     "text": [
      "100%|██████████| 129/129 [00:41<00:00,  3.13it/s]\n",
      "/var/folders/1b/dx8_94fs0q740wx3lfknk6y40000gn/T/ipykernel_42031/3950971282.py:3: SettingWithCopyWarning: \n",
      "A value is trying to be set on a copy of a slice from a DataFrame.\n",
      "Try using .loc[row_indexer,col_indexer] = value instead\n",
      "\n",
      "See the caveats in the documentation: https://pandas.pydata.org/pandas-docs/stable/user_guide/indexing.html#returning-a-view-versus-a-copy\n",
      "  tmp['keyword'] = tmp.msg.progress_apply(lambda x: kw_model.extract_keywords(x, keyphrase_ngram_range=(2,4), use_maxsum = True, top_n = 1))\n"
     ]
    },
    {
     "name": "stdout",
     "output_type": "stream",
     "text": [
      "{i} complete\n"
     ]
    },
    {
     "name": "stderr",
     "output_type": "stream",
     "text": [
      "100%|██████████| 126/126 [00:41<00:00,  3.05it/s]\n",
      "/var/folders/1b/dx8_94fs0q740wx3lfknk6y40000gn/T/ipykernel_42031/3950971282.py:3: SettingWithCopyWarning: \n",
      "A value is trying to be set on a copy of a slice from a DataFrame.\n",
      "Try using .loc[row_indexer,col_indexer] = value instead\n",
      "\n",
      "See the caveats in the documentation: https://pandas.pydata.org/pandas-docs/stable/user_guide/indexing.html#returning-a-view-versus-a-copy\n",
      "  tmp['keyword'] = tmp.msg.progress_apply(lambda x: kw_model.extract_keywords(x, keyphrase_ngram_range=(2,4), use_maxsum = True, top_n = 1))\n"
     ]
    },
    {
     "name": "stdout",
     "output_type": "stream",
     "text": [
      "{i} complete\n"
     ]
    },
    {
     "name": "stderr",
     "output_type": "stream",
     "text": [
      "100%|██████████| 124/124 [00:38<00:00,  3.26it/s]\n",
      "/var/folders/1b/dx8_94fs0q740wx3lfknk6y40000gn/T/ipykernel_42031/3950971282.py:3: SettingWithCopyWarning: \n",
      "A value is trying to be set on a copy of a slice from a DataFrame.\n",
      "Try using .loc[row_indexer,col_indexer] = value instead\n",
      "\n",
      "See the caveats in the documentation: https://pandas.pydata.org/pandas-docs/stable/user_guide/indexing.html#returning-a-view-versus-a-copy\n",
      "  tmp['keyword'] = tmp.msg.progress_apply(lambda x: kw_model.extract_keywords(x, keyphrase_ngram_range=(2,4), use_maxsum = True, top_n = 1))\n"
     ]
    },
    {
     "name": "stdout",
     "output_type": "stream",
     "text": [
      "{i} complete\n"
     ]
    },
    {
     "name": "stderr",
     "output_type": "stream",
     "text": [
      "100%|██████████| 124/124 [00:39<00:00,  3.18it/s]\n",
      "/var/folders/1b/dx8_94fs0q740wx3lfknk6y40000gn/T/ipykernel_42031/3950971282.py:3: SettingWithCopyWarning: \n",
      "A value is trying to be set on a copy of a slice from a DataFrame.\n",
      "Try using .loc[row_indexer,col_indexer] = value instead\n",
      "\n",
      "See the caveats in the documentation: https://pandas.pydata.org/pandas-docs/stable/user_guide/indexing.html#returning-a-view-versus-a-copy\n",
      "  tmp['keyword'] = tmp.msg.progress_apply(lambda x: kw_model.extract_keywords(x, keyphrase_ngram_range=(2,4), use_maxsum = True, top_n = 1))\n"
     ]
    },
    {
     "name": "stdout",
     "output_type": "stream",
     "text": [
      "{i} complete\n"
     ]
    },
    {
     "name": "stderr",
     "output_type": "stream",
     "text": [
      "100%|██████████| 124/124 [00:39<00:00,  3.11it/s]\n",
      "/var/folders/1b/dx8_94fs0q740wx3lfknk6y40000gn/T/ipykernel_42031/3950971282.py:3: SettingWithCopyWarning: \n",
      "A value is trying to be set on a copy of a slice from a DataFrame.\n",
      "Try using .loc[row_indexer,col_indexer] = value instead\n",
      "\n",
      "See the caveats in the documentation: https://pandas.pydata.org/pandas-docs/stable/user_guide/indexing.html#returning-a-view-versus-a-copy\n",
      "  tmp['keyword'] = tmp.msg.progress_apply(lambda x: kw_model.extract_keywords(x, keyphrase_ngram_range=(2,4), use_maxsum = True, top_n = 1))\n"
     ]
    },
    {
     "name": "stdout",
     "output_type": "stream",
     "text": [
      "{i} complete\n"
     ]
    },
    {
     "name": "stderr",
     "output_type": "stream",
     "text": [
      "100%|██████████| 123/123 [00:41<00:00,  2.96it/s]\n",
      "/var/folders/1b/dx8_94fs0q740wx3lfknk6y40000gn/T/ipykernel_42031/3950971282.py:3: SettingWithCopyWarning: \n",
      "A value is trying to be set on a copy of a slice from a DataFrame.\n",
      "Try using .loc[row_indexer,col_indexer] = value instead\n",
      "\n",
      "See the caveats in the documentation: https://pandas.pydata.org/pandas-docs/stable/user_guide/indexing.html#returning-a-view-versus-a-copy\n",
      "  tmp['keyword'] = tmp.msg.progress_apply(lambda x: kw_model.extract_keywords(x, keyphrase_ngram_range=(2,4), use_maxsum = True, top_n = 1))\n"
     ]
    },
    {
     "name": "stdout",
     "output_type": "stream",
     "text": [
      "{i} complete\n"
     ]
    },
    {
     "name": "stderr",
     "output_type": "stream",
     "text": [
      "100%|██████████| 122/122 [00:39<00:00,  3.11it/s]\n",
      "/var/folders/1b/dx8_94fs0q740wx3lfknk6y40000gn/T/ipykernel_42031/3950971282.py:3: SettingWithCopyWarning: \n",
      "A value is trying to be set on a copy of a slice from a DataFrame.\n",
      "Try using .loc[row_indexer,col_indexer] = value instead\n",
      "\n",
      "See the caveats in the documentation: https://pandas.pydata.org/pandas-docs/stable/user_guide/indexing.html#returning-a-view-versus-a-copy\n",
      "  tmp['keyword'] = tmp.msg.progress_apply(lambda x: kw_model.extract_keywords(x, keyphrase_ngram_range=(2,4), use_maxsum = True, top_n = 1))\n"
     ]
    },
    {
     "name": "stdout",
     "output_type": "stream",
     "text": [
      "{i} complete\n"
     ]
    },
    {
     "name": "stderr",
     "output_type": "stream",
     "text": [
      "100%|██████████| 121/121 [00:41<00:00,  2.91it/s]\n",
      "/var/folders/1b/dx8_94fs0q740wx3lfknk6y40000gn/T/ipykernel_42031/3950971282.py:3: SettingWithCopyWarning: \n",
      "A value is trying to be set on a copy of a slice from a DataFrame.\n",
      "Try using .loc[row_indexer,col_indexer] = value instead\n",
      "\n",
      "See the caveats in the documentation: https://pandas.pydata.org/pandas-docs/stable/user_guide/indexing.html#returning-a-view-versus-a-copy\n",
      "  tmp['keyword'] = tmp.msg.progress_apply(lambda x: kw_model.extract_keywords(x, keyphrase_ngram_range=(2,4), use_maxsum = True, top_n = 1))\n"
     ]
    },
    {
     "name": "stdout",
     "output_type": "stream",
     "text": [
      "{i} complete\n"
     ]
    },
    {
     "name": "stderr",
     "output_type": "stream",
     "text": [
      "100%|██████████| 115/115 [00:39<00:00,  2.93it/s]\n",
      "/var/folders/1b/dx8_94fs0q740wx3lfknk6y40000gn/T/ipykernel_42031/3950971282.py:3: SettingWithCopyWarning: \n",
      "A value is trying to be set on a copy of a slice from a DataFrame.\n",
      "Try using .loc[row_indexer,col_indexer] = value instead\n",
      "\n",
      "See the caveats in the documentation: https://pandas.pydata.org/pandas-docs/stable/user_guide/indexing.html#returning-a-view-versus-a-copy\n",
      "  tmp['keyword'] = tmp.msg.progress_apply(lambda x: kw_model.extract_keywords(x, keyphrase_ngram_range=(2,4), use_maxsum = True, top_n = 1))\n"
     ]
    },
    {
     "name": "stdout",
     "output_type": "stream",
     "text": [
      "{i} complete\n"
     ]
    },
    {
     "name": "stderr",
     "output_type": "stream",
     "text": [
      "100%|██████████| 113/113 [00:38<00:00,  2.94it/s]\n",
      "/var/folders/1b/dx8_94fs0q740wx3lfknk6y40000gn/T/ipykernel_42031/3950971282.py:3: SettingWithCopyWarning: \n",
      "A value is trying to be set on a copy of a slice from a DataFrame.\n",
      "Try using .loc[row_indexer,col_indexer] = value instead\n",
      "\n",
      "See the caveats in the documentation: https://pandas.pydata.org/pandas-docs/stable/user_guide/indexing.html#returning-a-view-versus-a-copy\n",
      "  tmp['keyword'] = tmp.msg.progress_apply(lambda x: kw_model.extract_keywords(x, keyphrase_ngram_range=(2,4), use_maxsum = True, top_n = 1))\n"
     ]
    },
    {
     "name": "stdout",
     "output_type": "stream",
     "text": [
      "{i} complete\n"
     ]
    },
    {
     "name": "stderr",
     "output_type": "stream",
     "text": [
      "100%|██████████| 112/112 [00:38<00:00,  2.89it/s]\n",
      "/var/folders/1b/dx8_94fs0q740wx3lfknk6y40000gn/T/ipykernel_42031/3950971282.py:3: SettingWithCopyWarning: \n",
      "A value is trying to be set on a copy of a slice from a DataFrame.\n",
      "Try using .loc[row_indexer,col_indexer] = value instead\n",
      "\n",
      "See the caveats in the documentation: https://pandas.pydata.org/pandas-docs/stable/user_guide/indexing.html#returning-a-view-versus-a-copy\n",
      "  tmp['keyword'] = tmp.msg.progress_apply(lambda x: kw_model.extract_keywords(x, keyphrase_ngram_range=(2,4), use_maxsum = True, top_n = 1))\n"
     ]
    },
    {
     "name": "stdout",
     "output_type": "stream",
     "text": [
      "{i} complete\n"
     ]
    },
    {
     "name": "stderr",
     "output_type": "stream",
     "text": [
      "100%|██████████| 112/112 [01:13<00:00,  1.53it/s]\n",
      "/var/folders/1b/dx8_94fs0q740wx3lfknk6y40000gn/T/ipykernel_42031/3950971282.py:3: SettingWithCopyWarning: \n",
      "A value is trying to be set on a copy of a slice from a DataFrame.\n",
      "Try using .loc[row_indexer,col_indexer] = value instead\n",
      "\n",
      "See the caveats in the documentation: https://pandas.pydata.org/pandas-docs/stable/user_guide/indexing.html#returning-a-view-versus-a-copy\n",
      "  tmp['keyword'] = tmp.msg.progress_apply(lambda x: kw_model.extract_keywords(x, keyphrase_ngram_range=(2,4), use_maxsum = True, top_n = 1))\n"
     ]
    },
    {
     "name": "stdout",
     "output_type": "stream",
     "text": [
      "{i} complete\n"
     ]
    },
    {
     "name": "stderr",
     "output_type": "stream",
     "text": [
      "100%|██████████| 112/112 [04:28<00:00,  2.40s/it]\n",
      "/var/folders/1b/dx8_94fs0q740wx3lfknk6y40000gn/T/ipykernel_42031/3950971282.py:3: SettingWithCopyWarning: \n",
      "A value is trying to be set on a copy of a slice from a DataFrame.\n",
      "Try using .loc[row_indexer,col_indexer] = value instead\n",
      "\n",
      "See the caveats in the documentation: https://pandas.pydata.org/pandas-docs/stable/user_guide/indexing.html#returning-a-view-versus-a-copy\n",
      "  tmp['keyword'] = tmp.msg.progress_apply(lambda x: kw_model.extract_keywords(x, keyphrase_ngram_range=(2,4), use_maxsum = True, top_n = 1))\n"
     ]
    },
    {
     "name": "stdout",
     "output_type": "stream",
     "text": [
      "{i} complete\n"
     ]
    },
    {
     "name": "stderr",
     "output_type": "stream",
     "text": [
      "100%|██████████| 110/110 [00:37<00:00,  2.93it/s]\n",
      "/var/folders/1b/dx8_94fs0q740wx3lfknk6y40000gn/T/ipykernel_42031/3950971282.py:3: SettingWithCopyWarning: \n",
      "A value is trying to be set on a copy of a slice from a DataFrame.\n",
      "Try using .loc[row_indexer,col_indexer] = value instead\n",
      "\n",
      "See the caveats in the documentation: https://pandas.pydata.org/pandas-docs/stable/user_guide/indexing.html#returning-a-view-versus-a-copy\n",
      "  tmp['keyword'] = tmp.msg.progress_apply(lambda x: kw_model.extract_keywords(x, keyphrase_ngram_range=(2,4), use_maxsum = True, top_n = 1))\n"
     ]
    },
    {
     "name": "stdout",
     "output_type": "stream",
     "text": [
      "{i} complete\n"
     ]
    },
    {
     "name": "stderr",
     "output_type": "stream",
     "text": [
      "100%|██████████| 106/106 [00:36<00:00,  2.89it/s]\n",
      "/var/folders/1b/dx8_94fs0q740wx3lfknk6y40000gn/T/ipykernel_42031/3950971282.py:3: SettingWithCopyWarning: \n",
      "A value is trying to be set on a copy of a slice from a DataFrame.\n",
      "Try using .loc[row_indexer,col_indexer] = value instead\n",
      "\n",
      "See the caveats in the documentation: https://pandas.pydata.org/pandas-docs/stable/user_guide/indexing.html#returning-a-view-versus-a-copy\n",
      "  tmp['keyword'] = tmp.msg.progress_apply(lambda x: kw_model.extract_keywords(x, keyphrase_ngram_range=(2,4), use_maxsum = True, top_n = 1))\n"
     ]
    },
    {
     "name": "stdout",
     "output_type": "stream",
     "text": [
      "{i} complete\n"
     ]
    },
    {
     "name": "stderr",
     "output_type": "stream",
     "text": [
      "100%|██████████| 106/106 [00:37<00:00,  2.82it/s]\n",
      "/var/folders/1b/dx8_94fs0q740wx3lfknk6y40000gn/T/ipykernel_42031/3950971282.py:3: SettingWithCopyWarning: \n",
      "A value is trying to be set on a copy of a slice from a DataFrame.\n",
      "Try using .loc[row_indexer,col_indexer] = value instead\n",
      "\n",
      "See the caveats in the documentation: https://pandas.pydata.org/pandas-docs/stable/user_guide/indexing.html#returning-a-view-versus-a-copy\n",
      "  tmp['keyword'] = tmp.msg.progress_apply(lambda x: kw_model.extract_keywords(x, keyphrase_ngram_range=(2,4), use_maxsum = True, top_n = 1))\n"
     ]
    },
    {
     "name": "stdout",
     "output_type": "stream",
     "text": [
      "{i} complete\n"
     ]
    },
    {
     "name": "stderr",
     "output_type": "stream",
     "text": [
      "100%|██████████| 105/105 [00:36<00:00,  2.84it/s]\n",
      "/var/folders/1b/dx8_94fs0q740wx3lfknk6y40000gn/T/ipykernel_42031/3950971282.py:3: SettingWithCopyWarning: \n",
      "A value is trying to be set on a copy of a slice from a DataFrame.\n",
      "Try using .loc[row_indexer,col_indexer] = value instead\n",
      "\n",
      "See the caveats in the documentation: https://pandas.pydata.org/pandas-docs/stable/user_guide/indexing.html#returning-a-view-versus-a-copy\n",
      "  tmp['keyword'] = tmp.msg.progress_apply(lambda x: kw_model.extract_keywords(x, keyphrase_ngram_range=(2,4), use_maxsum = True, top_n = 1))\n"
     ]
    },
    {
     "name": "stdout",
     "output_type": "stream",
     "text": [
      "{i} complete\n"
     ]
    },
    {
     "name": "stderr",
     "output_type": "stream",
     "text": [
      "100%|██████████| 104/104 [07:42<00:00,  4.45s/it]  \n",
      "/var/folders/1b/dx8_94fs0q740wx3lfknk6y40000gn/T/ipykernel_42031/3950971282.py:3: SettingWithCopyWarning: \n",
      "A value is trying to be set on a copy of a slice from a DataFrame.\n",
      "Try using .loc[row_indexer,col_indexer] = value instead\n",
      "\n",
      "See the caveats in the documentation: https://pandas.pydata.org/pandas-docs/stable/user_guide/indexing.html#returning-a-view-versus-a-copy\n",
      "  tmp['keyword'] = tmp.msg.progress_apply(lambda x: kw_model.extract_keywords(x, keyphrase_ngram_range=(2,4), use_maxsum = True, top_n = 1))\n"
     ]
    },
    {
     "name": "stdout",
     "output_type": "stream",
     "text": [
      "{i} complete\n"
     ]
    },
    {
     "name": "stderr",
     "output_type": "stream",
     "text": [
      "100%|██████████| 103/103 [00:31<00:00,  3.27it/s]\n",
      "/var/folders/1b/dx8_94fs0q740wx3lfknk6y40000gn/T/ipykernel_42031/3950971282.py:3: SettingWithCopyWarning: \n",
      "A value is trying to be set on a copy of a slice from a DataFrame.\n",
      "Try using .loc[row_indexer,col_indexer] = value instead\n",
      "\n",
      "See the caveats in the documentation: https://pandas.pydata.org/pandas-docs/stable/user_guide/indexing.html#returning-a-view-versus-a-copy\n",
      "  tmp['keyword'] = tmp.msg.progress_apply(lambda x: kw_model.extract_keywords(x, keyphrase_ngram_range=(2,4), use_maxsum = True, top_n = 1))\n"
     ]
    },
    {
     "name": "stdout",
     "output_type": "stream",
     "text": [
      "{i} complete\n"
     ]
    },
    {
     "name": "stderr",
     "output_type": "stream",
     "text": [
      "100%|██████████| 102/102 [00:17<00:00,  5.72it/s]\n",
      "/var/folders/1b/dx8_94fs0q740wx3lfknk6y40000gn/T/ipykernel_42031/3950971282.py:3: SettingWithCopyWarning: \n",
      "A value is trying to be set on a copy of a slice from a DataFrame.\n",
      "Try using .loc[row_indexer,col_indexer] = value instead\n",
      "\n",
      "See the caveats in the documentation: https://pandas.pydata.org/pandas-docs/stable/user_guide/indexing.html#returning-a-view-versus-a-copy\n",
      "  tmp['keyword'] = tmp.msg.progress_apply(lambda x: kw_model.extract_keywords(x, keyphrase_ngram_range=(2,4), use_maxsum = True, top_n = 1))\n"
     ]
    },
    {
     "name": "stdout",
     "output_type": "stream",
     "text": [
      "{i} complete\n"
     ]
    },
    {
     "name": "stderr",
     "output_type": "stream",
     "text": [
      "100%|██████████| 102/102 [00:02<00:00, 42.30it/s]\n",
      "/var/folders/1b/dx8_94fs0q740wx3lfknk6y40000gn/T/ipykernel_42031/3950971282.py:3: SettingWithCopyWarning: \n",
      "A value is trying to be set on a copy of a slice from a DataFrame.\n",
      "Try using .loc[row_indexer,col_indexer] = value instead\n",
      "\n",
      "See the caveats in the documentation: https://pandas.pydata.org/pandas-docs/stable/user_guide/indexing.html#returning-a-view-versus-a-copy\n",
      "  tmp['keyword'] = tmp.msg.progress_apply(lambda x: kw_model.extract_keywords(x, keyphrase_ngram_range=(2,4), use_maxsum = True, top_n = 1))\n"
     ]
    },
    {
     "name": "stdout",
     "output_type": "stream",
     "text": [
      "{i} complete\n"
     ]
    },
    {
     "name": "stderr",
     "output_type": "stream",
     "text": [
      "100%|██████████| 101/101 [00:33<00:00,  3.03it/s]\n",
      "/var/folders/1b/dx8_94fs0q740wx3lfknk6y40000gn/T/ipykernel_42031/3950971282.py:3: SettingWithCopyWarning: \n",
      "A value is trying to be set on a copy of a slice from a DataFrame.\n",
      "Try using .loc[row_indexer,col_indexer] = value instead\n",
      "\n",
      "See the caveats in the documentation: https://pandas.pydata.org/pandas-docs/stable/user_guide/indexing.html#returning-a-view-versus-a-copy\n",
      "  tmp['keyword'] = tmp.msg.progress_apply(lambda x: kw_model.extract_keywords(x, keyphrase_ngram_range=(2,4), use_maxsum = True, top_n = 1))\n"
     ]
    },
    {
     "name": "stdout",
     "output_type": "stream",
     "text": [
      "{i} complete\n"
     ]
    },
    {
     "name": "stderr",
     "output_type": "stream",
     "text": [
      "100%|██████████| 99/99 [00:35<00:00,  2.77it/s]\n",
      "/var/folders/1b/dx8_94fs0q740wx3lfknk6y40000gn/T/ipykernel_42031/3950971282.py:3: SettingWithCopyWarning: \n",
      "A value is trying to be set on a copy of a slice from a DataFrame.\n",
      "Try using .loc[row_indexer,col_indexer] = value instead\n",
      "\n",
      "See the caveats in the documentation: https://pandas.pydata.org/pandas-docs/stable/user_guide/indexing.html#returning-a-view-versus-a-copy\n",
      "  tmp['keyword'] = tmp.msg.progress_apply(lambda x: kw_model.extract_keywords(x, keyphrase_ngram_range=(2,4), use_maxsum = True, top_n = 1))\n"
     ]
    },
    {
     "name": "stdout",
     "output_type": "stream",
     "text": [
      "{i} complete\n"
     ]
    },
    {
     "name": "stderr",
     "output_type": "stream",
     "text": [
      "100%|██████████| 98/98 [00:34<00:00,  2.84it/s]\n",
      "/var/folders/1b/dx8_94fs0q740wx3lfknk6y40000gn/T/ipykernel_42031/3950971282.py:3: SettingWithCopyWarning: \n",
      "A value is trying to be set on a copy of a slice from a DataFrame.\n",
      "Try using .loc[row_indexer,col_indexer] = value instead\n",
      "\n",
      "See the caveats in the documentation: https://pandas.pydata.org/pandas-docs/stable/user_guide/indexing.html#returning-a-view-versus-a-copy\n",
      "  tmp['keyword'] = tmp.msg.progress_apply(lambda x: kw_model.extract_keywords(x, keyphrase_ngram_range=(2,4), use_maxsum = True, top_n = 1))\n"
     ]
    },
    {
     "name": "stdout",
     "output_type": "stream",
     "text": [
      "{i} complete\n"
     ]
    },
    {
     "name": "stderr",
     "output_type": "stream",
     "text": [
      "100%|██████████| 96/96 [16:54<00:00, 10.57s/it]   \n",
      "/var/folders/1b/dx8_94fs0q740wx3lfknk6y40000gn/T/ipykernel_42031/3950971282.py:3: SettingWithCopyWarning: \n",
      "A value is trying to be set on a copy of a slice from a DataFrame.\n",
      "Try using .loc[row_indexer,col_indexer] = value instead\n",
      "\n",
      "See the caveats in the documentation: https://pandas.pydata.org/pandas-docs/stable/user_guide/indexing.html#returning-a-view-versus-a-copy\n",
      "  tmp['keyword'] = tmp.msg.progress_apply(lambda x: kw_model.extract_keywords(x, keyphrase_ngram_range=(2,4), use_maxsum = True, top_n = 1))\n"
     ]
    },
    {
     "name": "stdout",
     "output_type": "stream",
     "text": [
      "{i} complete\n"
     ]
    },
    {
     "name": "stderr",
     "output_type": "stream",
     "text": [
      "100%|██████████| 96/96 [00:33<00:00,  2.86it/s]\n",
      "/var/folders/1b/dx8_94fs0q740wx3lfknk6y40000gn/T/ipykernel_42031/3950971282.py:3: SettingWithCopyWarning: \n",
      "A value is trying to be set on a copy of a slice from a DataFrame.\n",
      "Try using .loc[row_indexer,col_indexer] = value instead\n",
      "\n",
      "See the caveats in the documentation: https://pandas.pydata.org/pandas-docs/stable/user_guide/indexing.html#returning-a-view-versus-a-copy\n",
      "  tmp['keyword'] = tmp.msg.progress_apply(lambda x: kw_model.extract_keywords(x, keyphrase_ngram_range=(2,4), use_maxsum = True, top_n = 1))\n"
     ]
    },
    {
     "name": "stdout",
     "output_type": "stream",
     "text": [
      "{i} complete\n"
     ]
    },
    {
     "name": "stderr",
     "output_type": "stream",
     "text": [
      "100%|██████████| 95/95 [00:33<00:00,  2.84it/s]\n",
      "/var/folders/1b/dx8_94fs0q740wx3lfknk6y40000gn/T/ipykernel_42031/3950971282.py:3: SettingWithCopyWarning: \n",
      "A value is trying to be set on a copy of a slice from a DataFrame.\n",
      "Try using .loc[row_indexer,col_indexer] = value instead\n",
      "\n",
      "See the caveats in the documentation: https://pandas.pydata.org/pandas-docs/stable/user_guide/indexing.html#returning-a-view-versus-a-copy\n",
      "  tmp['keyword'] = tmp.msg.progress_apply(lambda x: kw_model.extract_keywords(x, keyphrase_ngram_range=(2,4), use_maxsum = True, top_n = 1))\n"
     ]
    },
    {
     "name": "stdout",
     "output_type": "stream",
     "text": [
      "{i} complete\n"
     ]
    },
    {
     "name": "stderr",
     "output_type": "stream",
     "text": [
      "100%|██████████| 93/93 [00:31<00:00,  2.94it/s]\n",
      "/var/folders/1b/dx8_94fs0q740wx3lfknk6y40000gn/T/ipykernel_42031/3950971282.py:3: SettingWithCopyWarning: \n",
      "A value is trying to be set on a copy of a slice from a DataFrame.\n",
      "Try using .loc[row_indexer,col_indexer] = value instead\n",
      "\n",
      "See the caveats in the documentation: https://pandas.pydata.org/pandas-docs/stable/user_guide/indexing.html#returning-a-view-versus-a-copy\n",
      "  tmp['keyword'] = tmp.msg.progress_apply(lambda x: kw_model.extract_keywords(x, keyphrase_ngram_range=(2,4), use_maxsum = True, top_n = 1))\n"
     ]
    },
    {
     "name": "stdout",
     "output_type": "stream",
     "text": [
      "{i} complete\n"
     ]
    },
    {
     "name": "stderr",
     "output_type": "stream",
     "text": [
      "100%|██████████| 92/92 [00:32<00:00,  2.84it/s]\n",
      "/var/folders/1b/dx8_94fs0q740wx3lfknk6y40000gn/T/ipykernel_42031/3950971282.py:3: SettingWithCopyWarning: \n",
      "A value is trying to be set on a copy of a slice from a DataFrame.\n",
      "Try using .loc[row_indexer,col_indexer] = value instead\n",
      "\n",
      "See the caveats in the documentation: https://pandas.pydata.org/pandas-docs/stable/user_guide/indexing.html#returning-a-view-versus-a-copy\n",
      "  tmp['keyword'] = tmp.msg.progress_apply(lambda x: kw_model.extract_keywords(x, keyphrase_ngram_range=(2,4), use_maxsum = True, top_n = 1))\n"
     ]
    },
    {
     "name": "stdout",
     "output_type": "stream",
     "text": [
      "{i} complete\n"
     ]
    },
    {
     "name": "stderr",
     "output_type": "stream",
     "text": [
      "100%|██████████| 92/92 [00:32<00:00,  2.83it/s]\n",
      "/var/folders/1b/dx8_94fs0q740wx3lfknk6y40000gn/T/ipykernel_42031/3950971282.py:3: SettingWithCopyWarning: \n",
      "A value is trying to be set on a copy of a slice from a DataFrame.\n",
      "Try using .loc[row_indexer,col_indexer] = value instead\n",
      "\n",
      "See the caveats in the documentation: https://pandas.pydata.org/pandas-docs/stable/user_guide/indexing.html#returning-a-view-versus-a-copy\n",
      "  tmp['keyword'] = tmp.msg.progress_apply(lambda x: kw_model.extract_keywords(x, keyphrase_ngram_range=(2,4), use_maxsum = True, top_n = 1))\n"
     ]
    },
    {
     "name": "stdout",
     "output_type": "stream",
     "text": [
      "{i} complete\n"
     ]
    },
    {
     "name": "stderr",
     "output_type": "stream",
     "text": [
      "100%|██████████| 92/92 [00:33<00:00,  2.76it/s]\n",
      "/var/folders/1b/dx8_94fs0q740wx3lfknk6y40000gn/T/ipykernel_42031/3950971282.py:3: SettingWithCopyWarning: \n",
      "A value is trying to be set on a copy of a slice from a DataFrame.\n",
      "Try using .loc[row_indexer,col_indexer] = value instead\n",
      "\n",
      "See the caveats in the documentation: https://pandas.pydata.org/pandas-docs/stable/user_guide/indexing.html#returning-a-view-versus-a-copy\n",
      "  tmp['keyword'] = tmp.msg.progress_apply(lambda x: kw_model.extract_keywords(x, keyphrase_ngram_range=(2,4), use_maxsum = True, top_n = 1))\n"
     ]
    },
    {
     "name": "stdout",
     "output_type": "stream",
     "text": [
      "{i} complete\n"
     ]
    },
    {
     "name": "stderr",
     "output_type": "stream",
     "text": [
      "100%|██████████| 91/91 [00:21<00:00,  4.16it/s]\n",
      "/var/folders/1b/dx8_94fs0q740wx3lfknk6y40000gn/T/ipykernel_42031/3950971282.py:3: SettingWithCopyWarning: \n",
      "A value is trying to be set on a copy of a slice from a DataFrame.\n",
      "Try using .loc[row_indexer,col_indexer] = value instead\n",
      "\n",
      "See the caveats in the documentation: https://pandas.pydata.org/pandas-docs/stable/user_guide/indexing.html#returning-a-view-versus-a-copy\n",
      "  tmp['keyword'] = tmp.msg.progress_apply(lambda x: kw_model.extract_keywords(x, keyphrase_ngram_range=(2,4), use_maxsum = True, top_n = 1))\n"
     ]
    },
    {
     "name": "stdout",
     "output_type": "stream",
     "text": [
      "{i} complete\n"
     ]
    },
    {
     "name": "stderr",
     "output_type": "stream",
     "text": [
      "100%|██████████| 90/90 [00:30<00:00,  2.96it/s]\n",
      "/var/folders/1b/dx8_94fs0q740wx3lfknk6y40000gn/T/ipykernel_42031/3950971282.py:3: SettingWithCopyWarning: \n",
      "A value is trying to be set on a copy of a slice from a DataFrame.\n",
      "Try using .loc[row_indexer,col_indexer] = value instead\n",
      "\n",
      "See the caveats in the documentation: https://pandas.pydata.org/pandas-docs/stable/user_guide/indexing.html#returning-a-view-versus-a-copy\n",
      "  tmp['keyword'] = tmp.msg.progress_apply(lambda x: kw_model.extract_keywords(x, keyphrase_ngram_range=(2,4), use_maxsum = True, top_n = 1))\n"
     ]
    },
    {
     "name": "stdout",
     "output_type": "stream",
     "text": [
      "{i} complete\n"
     ]
    },
    {
     "name": "stderr",
     "output_type": "stream",
     "text": [
      "100%|██████████| 89/89 [00:31<00:00,  2.85it/s]\n",
      "/var/folders/1b/dx8_94fs0q740wx3lfknk6y40000gn/T/ipykernel_42031/3950971282.py:3: SettingWithCopyWarning: \n",
      "A value is trying to be set on a copy of a slice from a DataFrame.\n",
      "Try using .loc[row_indexer,col_indexer] = value instead\n",
      "\n",
      "See the caveats in the documentation: https://pandas.pydata.org/pandas-docs/stable/user_guide/indexing.html#returning-a-view-versus-a-copy\n",
      "  tmp['keyword'] = tmp.msg.progress_apply(lambda x: kw_model.extract_keywords(x, keyphrase_ngram_range=(2,4), use_maxsum = True, top_n = 1))\n"
     ]
    },
    {
     "name": "stdout",
     "output_type": "stream",
     "text": [
      "{i} complete\n"
     ]
    },
    {
     "name": "stderr",
     "output_type": "stream",
     "text": [
      "100%|██████████| 88/88 [00:29<00:00,  3.03it/s]\n",
      "/var/folders/1b/dx8_94fs0q740wx3lfknk6y40000gn/T/ipykernel_42031/3950971282.py:3: SettingWithCopyWarning: \n",
      "A value is trying to be set on a copy of a slice from a DataFrame.\n",
      "Try using .loc[row_indexer,col_indexer] = value instead\n",
      "\n",
      "See the caveats in the documentation: https://pandas.pydata.org/pandas-docs/stable/user_guide/indexing.html#returning-a-view-versus-a-copy\n",
      "  tmp['keyword'] = tmp.msg.progress_apply(lambda x: kw_model.extract_keywords(x, keyphrase_ngram_range=(2,4), use_maxsum = True, top_n = 1))\n"
     ]
    },
    {
     "name": "stdout",
     "output_type": "stream",
     "text": [
      "{i} complete\n"
     ]
    },
    {
     "name": "stderr",
     "output_type": "stream",
     "text": [
      "100%|██████████| 88/88 [00:30<00:00,  2.93it/s]\n",
      "/var/folders/1b/dx8_94fs0q740wx3lfknk6y40000gn/T/ipykernel_42031/3950971282.py:3: SettingWithCopyWarning: \n",
      "A value is trying to be set on a copy of a slice from a DataFrame.\n",
      "Try using .loc[row_indexer,col_indexer] = value instead\n",
      "\n",
      "See the caveats in the documentation: https://pandas.pydata.org/pandas-docs/stable/user_guide/indexing.html#returning-a-view-versus-a-copy\n",
      "  tmp['keyword'] = tmp.msg.progress_apply(lambda x: kw_model.extract_keywords(x, keyphrase_ngram_range=(2,4), use_maxsum = True, top_n = 1))\n"
     ]
    },
    {
     "name": "stdout",
     "output_type": "stream",
     "text": [
      "{i} complete\n"
     ]
    },
    {
     "name": "stderr",
     "output_type": "stream",
     "text": [
      "100%|██████████| 83/83 [00:28<00:00,  2.87it/s]\n",
      "/var/folders/1b/dx8_94fs0q740wx3lfknk6y40000gn/T/ipykernel_42031/3950971282.py:3: SettingWithCopyWarning: \n",
      "A value is trying to be set on a copy of a slice from a DataFrame.\n",
      "Try using .loc[row_indexer,col_indexer] = value instead\n",
      "\n",
      "See the caveats in the documentation: https://pandas.pydata.org/pandas-docs/stable/user_guide/indexing.html#returning-a-view-versus-a-copy\n",
      "  tmp['keyword'] = tmp.msg.progress_apply(lambda x: kw_model.extract_keywords(x, keyphrase_ngram_range=(2,4), use_maxsum = True, top_n = 1))\n"
     ]
    },
    {
     "name": "stdout",
     "output_type": "stream",
     "text": [
      "{i} complete\n"
     ]
    },
    {
     "name": "stderr",
     "output_type": "stream",
     "text": [
      "100%|██████████| 83/83 [00:27<00:00,  3.06it/s]\n",
      "/var/folders/1b/dx8_94fs0q740wx3lfknk6y40000gn/T/ipykernel_42031/3950971282.py:3: SettingWithCopyWarning: \n",
      "A value is trying to be set on a copy of a slice from a DataFrame.\n",
      "Try using .loc[row_indexer,col_indexer] = value instead\n",
      "\n",
      "See the caveats in the documentation: https://pandas.pydata.org/pandas-docs/stable/user_guide/indexing.html#returning-a-view-versus-a-copy\n",
      "  tmp['keyword'] = tmp.msg.progress_apply(lambda x: kw_model.extract_keywords(x, keyphrase_ngram_range=(2,4), use_maxsum = True, top_n = 1))\n"
     ]
    },
    {
     "name": "stdout",
     "output_type": "stream",
     "text": [
      "{i} complete\n"
     ]
    },
    {
     "name": "stderr",
     "output_type": "stream",
     "text": [
      "100%|██████████| 82/82 [00:28<00:00,  2.87it/s]\n",
      "/var/folders/1b/dx8_94fs0q740wx3lfknk6y40000gn/T/ipykernel_42031/3950971282.py:3: SettingWithCopyWarning: \n",
      "A value is trying to be set on a copy of a slice from a DataFrame.\n",
      "Try using .loc[row_indexer,col_indexer] = value instead\n",
      "\n",
      "See the caveats in the documentation: https://pandas.pydata.org/pandas-docs/stable/user_guide/indexing.html#returning-a-view-versus-a-copy\n",
      "  tmp['keyword'] = tmp.msg.progress_apply(lambda x: kw_model.extract_keywords(x, keyphrase_ngram_range=(2,4), use_maxsum = True, top_n = 1))\n"
     ]
    },
    {
     "name": "stdout",
     "output_type": "stream",
     "text": [
      "{i} complete\n"
     ]
    },
    {
     "name": "stderr",
     "output_type": "stream",
     "text": [
      "100%|██████████| 82/82 [00:27<00:00,  2.93it/s]\n",
      "/var/folders/1b/dx8_94fs0q740wx3lfknk6y40000gn/T/ipykernel_42031/3950971282.py:3: SettingWithCopyWarning: \n",
      "A value is trying to be set on a copy of a slice from a DataFrame.\n",
      "Try using .loc[row_indexer,col_indexer] = value instead\n",
      "\n",
      "See the caveats in the documentation: https://pandas.pydata.org/pandas-docs/stable/user_guide/indexing.html#returning-a-view-versus-a-copy\n",
      "  tmp['keyword'] = tmp.msg.progress_apply(lambda x: kw_model.extract_keywords(x, keyphrase_ngram_range=(2,4), use_maxsum = True, top_n = 1))\n"
     ]
    },
    {
     "name": "stdout",
     "output_type": "stream",
     "text": [
      "{i} complete\n"
     ]
    },
    {
     "name": "stderr",
     "output_type": "stream",
     "text": [
      "100%|██████████| 79/79 [00:28<00:00,  2.75it/s]\n",
      "/var/folders/1b/dx8_94fs0q740wx3lfknk6y40000gn/T/ipykernel_42031/3950971282.py:3: SettingWithCopyWarning: \n",
      "A value is trying to be set on a copy of a slice from a DataFrame.\n",
      "Try using .loc[row_indexer,col_indexer] = value instead\n",
      "\n",
      "See the caveats in the documentation: https://pandas.pydata.org/pandas-docs/stable/user_guide/indexing.html#returning-a-view-versus-a-copy\n",
      "  tmp['keyword'] = tmp.msg.progress_apply(lambda x: kw_model.extract_keywords(x, keyphrase_ngram_range=(2,4), use_maxsum = True, top_n = 1))\n"
     ]
    },
    {
     "name": "stdout",
     "output_type": "stream",
     "text": [
      "{i} complete\n"
     ]
    },
    {
     "name": "stderr",
     "output_type": "stream",
     "text": [
      "100%|██████████| 79/79 [00:27<00:00,  2.84it/s]\n",
      "/var/folders/1b/dx8_94fs0q740wx3lfknk6y40000gn/T/ipykernel_42031/3950971282.py:3: SettingWithCopyWarning: \n",
      "A value is trying to be set on a copy of a slice from a DataFrame.\n",
      "Try using .loc[row_indexer,col_indexer] = value instead\n",
      "\n",
      "See the caveats in the documentation: https://pandas.pydata.org/pandas-docs/stable/user_guide/indexing.html#returning-a-view-versus-a-copy\n",
      "  tmp['keyword'] = tmp.msg.progress_apply(lambda x: kw_model.extract_keywords(x, keyphrase_ngram_range=(2,4), use_maxsum = True, top_n = 1))\n"
     ]
    },
    {
     "name": "stdout",
     "output_type": "stream",
     "text": [
      "{i} complete\n"
     ]
    },
    {
     "name": "stderr",
     "output_type": "stream",
     "text": [
      "100%|██████████| 77/77 [00:28<00:00,  2.73it/s]\n",
      "/var/folders/1b/dx8_94fs0q740wx3lfknk6y40000gn/T/ipykernel_42031/3950971282.py:3: SettingWithCopyWarning: \n",
      "A value is trying to be set on a copy of a slice from a DataFrame.\n",
      "Try using .loc[row_indexer,col_indexer] = value instead\n",
      "\n",
      "See the caveats in the documentation: https://pandas.pydata.org/pandas-docs/stable/user_guide/indexing.html#returning-a-view-versus-a-copy\n",
      "  tmp['keyword'] = tmp.msg.progress_apply(lambda x: kw_model.extract_keywords(x, keyphrase_ngram_range=(2,4), use_maxsum = True, top_n = 1))\n"
     ]
    },
    {
     "name": "stdout",
     "output_type": "stream",
     "text": [
      "{i} complete\n"
     ]
    },
    {
     "name": "stderr",
     "output_type": "stream",
     "text": [
      "100%|██████████| 77/77 [00:25<00:00,  2.99it/s]\n",
      "/var/folders/1b/dx8_94fs0q740wx3lfknk6y40000gn/T/ipykernel_42031/3950971282.py:3: SettingWithCopyWarning: \n",
      "A value is trying to be set on a copy of a slice from a DataFrame.\n",
      "Try using .loc[row_indexer,col_indexer] = value instead\n",
      "\n",
      "See the caveats in the documentation: https://pandas.pydata.org/pandas-docs/stable/user_guide/indexing.html#returning-a-view-versus-a-copy\n",
      "  tmp['keyword'] = tmp.msg.progress_apply(lambda x: kw_model.extract_keywords(x, keyphrase_ngram_range=(2,4), use_maxsum = True, top_n = 1))\n"
     ]
    },
    {
     "name": "stdout",
     "output_type": "stream",
     "text": [
      "{i} complete\n"
     ]
    },
    {
     "name": "stderr",
     "output_type": "stream",
     "text": [
      "100%|██████████| 75/75 [00:26<00:00,  2.82it/s]\n",
      "/var/folders/1b/dx8_94fs0q740wx3lfknk6y40000gn/T/ipykernel_42031/3950971282.py:3: SettingWithCopyWarning: \n",
      "A value is trying to be set on a copy of a slice from a DataFrame.\n",
      "Try using .loc[row_indexer,col_indexer] = value instead\n",
      "\n",
      "See the caveats in the documentation: https://pandas.pydata.org/pandas-docs/stable/user_guide/indexing.html#returning-a-view-versus-a-copy\n",
      "  tmp['keyword'] = tmp.msg.progress_apply(lambda x: kw_model.extract_keywords(x, keyphrase_ngram_range=(2,4), use_maxsum = True, top_n = 1))\n"
     ]
    },
    {
     "name": "stdout",
     "output_type": "stream",
     "text": [
      "{i} complete\n"
     ]
    },
    {
     "name": "stderr",
     "output_type": "stream",
     "text": [
      "100%|██████████| 75/75 [00:25<00:00,  2.96it/s]\n",
      "/var/folders/1b/dx8_94fs0q740wx3lfknk6y40000gn/T/ipykernel_42031/3950971282.py:3: SettingWithCopyWarning: \n",
      "A value is trying to be set on a copy of a slice from a DataFrame.\n",
      "Try using .loc[row_indexer,col_indexer] = value instead\n",
      "\n",
      "See the caveats in the documentation: https://pandas.pydata.org/pandas-docs/stable/user_guide/indexing.html#returning-a-view-versus-a-copy\n",
      "  tmp['keyword'] = tmp.msg.progress_apply(lambda x: kw_model.extract_keywords(x, keyphrase_ngram_range=(2,4), use_maxsum = True, top_n = 1))\n"
     ]
    },
    {
     "name": "stdout",
     "output_type": "stream",
     "text": [
      "{i} complete\n"
     ]
    },
    {
     "name": "stderr",
     "output_type": "stream",
     "text": [
      "100%|██████████| 74/74 [00:26<00:00,  2.78it/s]\n",
      "/var/folders/1b/dx8_94fs0q740wx3lfknk6y40000gn/T/ipykernel_42031/3950971282.py:3: SettingWithCopyWarning: \n",
      "A value is trying to be set on a copy of a slice from a DataFrame.\n",
      "Try using .loc[row_indexer,col_indexer] = value instead\n",
      "\n",
      "See the caveats in the documentation: https://pandas.pydata.org/pandas-docs/stable/user_guide/indexing.html#returning-a-view-versus-a-copy\n",
      "  tmp['keyword'] = tmp.msg.progress_apply(lambda x: kw_model.extract_keywords(x, keyphrase_ngram_range=(2,4), use_maxsum = True, top_n = 1))\n"
     ]
    },
    {
     "name": "stdout",
     "output_type": "stream",
     "text": [
      "{i} complete\n"
     ]
    },
    {
     "name": "stderr",
     "output_type": "stream",
     "text": [
      "100%|██████████| 73/73 [00:26<00:00,  2.77it/s]\n",
      "/var/folders/1b/dx8_94fs0q740wx3lfknk6y40000gn/T/ipykernel_42031/3950971282.py:3: SettingWithCopyWarning: \n",
      "A value is trying to be set on a copy of a slice from a DataFrame.\n",
      "Try using .loc[row_indexer,col_indexer] = value instead\n",
      "\n",
      "See the caveats in the documentation: https://pandas.pydata.org/pandas-docs/stable/user_guide/indexing.html#returning-a-view-versus-a-copy\n",
      "  tmp['keyword'] = tmp.msg.progress_apply(lambda x: kw_model.extract_keywords(x, keyphrase_ngram_range=(2,4), use_maxsum = True, top_n = 1))\n"
     ]
    },
    {
     "name": "stdout",
     "output_type": "stream",
     "text": [
      "{i} complete\n"
     ]
    },
    {
     "name": "stderr",
     "output_type": "stream",
     "text": [
      "100%|██████████| 73/73 [00:27<00:00,  2.66it/s]\n",
      "/var/folders/1b/dx8_94fs0q740wx3lfknk6y40000gn/T/ipykernel_42031/3950971282.py:3: SettingWithCopyWarning: \n",
      "A value is trying to be set on a copy of a slice from a DataFrame.\n",
      "Try using .loc[row_indexer,col_indexer] = value instead\n",
      "\n",
      "See the caveats in the documentation: https://pandas.pydata.org/pandas-docs/stable/user_guide/indexing.html#returning-a-view-versus-a-copy\n",
      "  tmp['keyword'] = tmp.msg.progress_apply(lambda x: kw_model.extract_keywords(x, keyphrase_ngram_range=(2,4), use_maxsum = True, top_n = 1))\n"
     ]
    },
    {
     "name": "stdout",
     "output_type": "stream",
     "text": [
      "{i} complete\n"
     ]
    },
    {
     "name": "stderr",
     "output_type": "stream",
     "text": [
      "100%|██████████| 72/72 [00:25<00:00,  2.77it/s]\n",
      "/var/folders/1b/dx8_94fs0q740wx3lfknk6y40000gn/T/ipykernel_42031/3950971282.py:3: SettingWithCopyWarning: \n",
      "A value is trying to be set on a copy of a slice from a DataFrame.\n",
      "Try using .loc[row_indexer,col_indexer] = value instead\n",
      "\n",
      "See the caveats in the documentation: https://pandas.pydata.org/pandas-docs/stable/user_guide/indexing.html#returning-a-view-versus-a-copy\n",
      "  tmp['keyword'] = tmp.msg.progress_apply(lambda x: kw_model.extract_keywords(x, keyphrase_ngram_range=(2,4), use_maxsum = True, top_n = 1))\n"
     ]
    },
    {
     "name": "stdout",
     "output_type": "stream",
     "text": [
      "{i} complete\n"
     ]
    },
    {
     "name": "stderr",
     "output_type": "stream",
     "text": [
      "100%|██████████| 72/72 [00:26<00:00,  2.70it/s]\n",
      "/var/folders/1b/dx8_94fs0q740wx3lfknk6y40000gn/T/ipykernel_42031/3950971282.py:3: SettingWithCopyWarning: \n",
      "A value is trying to be set on a copy of a slice from a DataFrame.\n",
      "Try using .loc[row_indexer,col_indexer] = value instead\n",
      "\n",
      "See the caveats in the documentation: https://pandas.pydata.org/pandas-docs/stable/user_guide/indexing.html#returning-a-view-versus-a-copy\n",
      "  tmp['keyword'] = tmp.msg.progress_apply(lambda x: kw_model.extract_keywords(x, keyphrase_ngram_range=(2,4), use_maxsum = True, top_n = 1))\n"
     ]
    },
    {
     "name": "stdout",
     "output_type": "stream",
     "text": [
      "{i} complete\n"
     ]
    },
    {
     "name": "stderr",
     "output_type": "stream",
     "text": [
      "100%|██████████| 72/72 [00:25<00:00,  2.79it/s]\n",
      "/var/folders/1b/dx8_94fs0q740wx3lfknk6y40000gn/T/ipykernel_42031/3950971282.py:3: SettingWithCopyWarning: \n",
      "A value is trying to be set on a copy of a slice from a DataFrame.\n",
      "Try using .loc[row_indexer,col_indexer] = value instead\n",
      "\n",
      "See the caveats in the documentation: https://pandas.pydata.org/pandas-docs/stable/user_guide/indexing.html#returning-a-view-versus-a-copy\n",
      "  tmp['keyword'] = tmp.msg.progress_apply(lambda x: kw_model.extract_keywords(x, keyphrase_ngram_range=(2,4), use_maxsum = True, top_n = 1))\n"
     ]
    },
    {
     "name": "stdout",
     "output_type": "stream",
     "text": [
      "{i} complete\n"
     ]
    },
    {
     "name": "stderr",
     "output_type": "stream",
     "text": [
      "100%|██████████| 72/72 [00:25<00:00,  2.81it/s]\n",
      "/var/folders/1b/dx8_94fs0q740wx3lfknk6y40000gn/T/ipykernel_42031/3950971282.py:3: SettingWithCopyWarning: \n",
      "A value is trying to be set on a copy of a slice from a DataFrame.\n",
      "Try using .loc[row_indexer,col_indexer] = value instead\n",
      "\n",
      "See the caveats in the documentation: https://pandas.pydata.org/pandas-docs/stable/user_guide/indexing.html#returning-a-view-versus-a-copy\n",
      "  tmp['keyword'] = tmp.msg.progress_apply(lambda x: kw_model.extract_keywords(x, keyphrase_ngram_range=(2,4), use_maxsum = True, top_n = 1))\n"
     ]
    },
    {
     "name": "stdout",
     "output_type": "stream",
     "text": [
      "{i} complete\n"
     ]
    },
    {
     "name": "stderr",
     "output_type": "stream",
     "text": [
      "100%|██████████| 71/71 [00:24<00:00,  2.84it/s]\n",
      "/var/folders/1b/dx8_94fs0q740wx3lfknk6y40000gn/T/ipykernel_42031/3950971282.py:3: SettingWithCopyWarning: \n",
      "A value is trying to be set on a copy of a slice from a DataFrame.\n",
      "Try using .loc[row_indexer,col_indexer] = value instead\n",
      "\n",
      "See the caveats in the documentation: https://pandas.pydata.org/pandas-docs/stable/user_guide/indexing.html#returning-a-view-versus-a-copy\n",
      "  tmp['keyword'] = tmp.msg.progress_apply(lambda x: kw_model.extract_keywords(x, keyphrase_ngram_range=(2,4), use_maxsum = True, top_n = 1))\n"
     ]
    },
    {
     "name": "stdout",
     "output_type": "stream",
     "text": [
      "{i} complete\n"
     ]
    },
    {
     "name": "stderr",
     "output_type": "stream",
     "text": [
      "100%|██████████| 69/69 [00:25<00:00,  2.66it/s]\n",
      "/var/folders/1b/dx8_94fs0q740wx3lfknk6y40000gn/T/ipykernel_42031/3950971282.py:3: SettingWithCopyWarning: \n",
      "A value is trying to be set on a copy of a slice from a DataFrame.\n",
      "Try using .loc[row_indexer,col_indexer] = value instead\n",
      "\n",
      "See the caveats in the documentation: https://pandas.pydata.org/pandas-docs/stable/user_guide/indexing.html#returning-a-view-versus-a-copy\n",
      "  tmp['keyword'] = tmp.msg.progress_apply(lambda x: kw_model.extract_keywords(x, keyphrase_ngram_range=(2,4), use_maxsum = True, top_n = 1))\n"
     ]
    },
    {
     "name": "stdout",
     "output_type": "stream",
     "text": [
      "{i} complete\n"
     ]
    },
    {
     "name": "stderr",
     "output_type": "stream",
     "text": [
      "100%|██████████| 69/69 [00:25<00:00,  2.74it/s]\n",
      "/var/folders/1b/dx8_94fs0q740wx3lfknk6y40000gn/T/ipykernel_42031/3950971282.py:3: SettingWithCopyWarning: \n",
      "A value is trying to be set on a copy of a slice from a DataFrame.\n",
      "Try using .loc[row_indexer,col_indexer] = value instead\n",
      "\n",
      "See the caveats in the documentation: https://pandas.pydata.org/pandas-docs/stable/user_guide/indexing.html#returning-a-view-versus-a-copy\n",
      "  tmp['keyword'] = tmp.msg.progress_apply(lambda x: kw_model.extract_keywords(x, keyphrase_ngram_range=(2,4), use_maxsum = True, top_n = 1))\n"
     ]
    },
    {
     "name": "stdout",
     "output_type": "stream",
     "text": [
      "{i} complete\n"
     ]
    },
    {
     "name": "stderr",
     "output_type": "stream",
     "text": [
      "100%|██████████| 68/68 [00:24<00:00,  2.75it/s]\n",
      "/var/folders/1b/dx8_94fs0q740wx3lfknk6y40000gn/T/ipykernel_42031/3950971282.py:3: SettingWithCopyWarning: \n",
      "A value is trying to be set on a copy of a slice from a DataFrame.\n",
      "Try using .loc[row_indexer,col_indexer] = value instead\n",
      "\n",
      "See the caveats in the documentation: https://pandas.pydata.org/pandas-docs/stable/user_guide/indexing.html#returning-a-view-versus-a-copy\n",
      "  tmp['keyword'] = tmp.msg.progress_apply(lambda x: kw_model.extract_keywords(x, keyphrase_ngram_range=(2,4), use_maxsum = True, top_n = 1))\n"
     ]
    },
    {
     "name": "stdout",
     "output_type": "stream",
     "text": [
      "{i} complete\n"
     ]
    },
    {
     "name": "stderr",
     "output_type": "stream",
     "text": [
      "100%|██████████| 67/67 [00:22<00:00,  2.94it/s]\n",
      "/var/folders/1b/dx8_94fs0q740wx3lfknk6y40000gn/T/ipykernel_42031/3950971282.py:3: SettingWithCopyWarning: \n",
      "A value is trying to be set on a copy of a slice from a DataFrame.\n",
      "Try using .loc[row_indexer,col_indexer] = value instead\n",
      "\n",
      "See the caveats in the documentation: https://pandas.pydata.org/pandas-docs/stable/user_guide/indexing.html#returning-a-view-versus-a-copy\n",
      "  tmp['keyword'] = tmp.msg.progress_apply(lambda x: kw_model.extract_keywords(x, keyphrase_ngram_range=(2,4), use_maxsum = True, top_n = 1))\n"
     ]
    },
    {
     "name": "stdout",
     "output_type": "stream",
     "text": [
      "{i} complete\n"
     ]
    },
    {
     "name": "stderr",
     "output_type": "stream",
     "text": [
      "100%|██████████| 67/67 [00:23<00:00,  2.81it/s]\n",
      "/var/folders/1b/dx8_94fs0q740wx3lfknk6y40000gn/T/ipykernel_42031/3950971282.py:3: SettingWithCopyWarning: \n",
      "A value is trying to be set on a copy of a slice from a DataFrame.\n",
      "Try using .loc[row_indexer,col_indexer] = value instead\n",
      "\n",
      "See the caveats in the documentation: https://pandas.pydata.org/pandas-docs/stable/user_guide/indexing.html#returning-a-view-versus-a-copy\n",
      "  tmp['keyword'] = tmp.msg.progress_apply(lambda x: kw_model.extract_keywords(x, keyphrase_ngram_range=(2,4), use_maxsum = True, top_n = 1))\n"
     ]
    },
    {
     "name": "stdout",
     "output_type": "stream",
     "text": [
      "{i} complete\n"
     ]
    },
    {
     "name": "stderr",
     "output_type": "stream",
     "text": [
      "100%|██████████| 66/66 [00:23<00:00,  2.78it/s]\n",
      "/var/folders/1b/dx8_94fs0q740wx3lfknk6y40000gn/T/ipykernel_42031/3950971282.py:3: SettingWithCopyWarning: \n",
      "A value is trying to be set on a copy of a slice from a DataFrame.\n",
      "Try using .loc[row_indexer,col_indexer] = value instead\n",
      "\n",
      "See the caveats in the documentation: https://pandas.pydata.org/pandas-docs/stable/user_guide/indexing.html#returning-a-view-versus-a-copy\n",
      "  tmp['keyword'] = tmp.msg.progress_apply(lambda x: kw_model.extract_keywords(x, keyphrase_ngram_range=(2,4), use_maxsum = True, top_n = 1))\n"
     ]
    },
    {
     "name": "stdout",
     "output_type": "stream",
     "text": [
      "{i} complete\n"
     ]
    },
    {
     "name": "stderr",
     "output_type": "stream",
     "text": [
      "100%|██████████| 65/65 [00:21<00:00,  2.99it/s]\n",
      "/var/folders/1b/dx8_94fs0q740wx3lfknk6y40000gn/T/ipykernel_42031/3950971282.py:3: SettingWithCopyWarning: \n",
      "A value is trying to be set on a copy of a slice from a DataFrame.\n",
      "Try using .loc[row_indexer,col_indexer] = value instead\n",
      "\n",
      "See the caveats in the documentation: https://pandas.pydata.org/pandas-docs/stable/user_guide/indexing.html#returning-a-view-versus-a-copy\n",
      "  tmp['keyword'] = tmp.msg.progress_apply(lambda x: kw_model.extract_keywords(x, keyphrase_ngram_range=(2,4), use_maxsum = True, top_n = 1))\n"
     ]
    },
    {
     "name": "stdout",
     "output_type": "stream",
     "text": [
      "{i} complete\n"
     ]
    },
    {
     "name": "stderr",
     "output_type": "stream",
     "text": [
      "100%|██████████| 65/65 [00:23<00:00,  2.72it/s]\n",
      "/var/folders/1b/dx8_94fs0q740wx3lfknk6y40000gn/T/ipykernel_42031/3950971282.py:3: SettingWithCopyWarning: \n",
      "A value is trying to be set on a copy of a slice from a DataFrame.\n",
      "Try using .loc[row_indexer,col_indexer] = value instead\n",
      "\n",
      "See the caveats in the documentation: https://pandas.pydata.org/pandas-docs/stable/user_guide/indexing.html#returning-a-view-versus-a-copy\n",
      "  tmp['keyword'] = tmp.msg.progress_apply(lambda x: kw_model.extract_keywords(x, keyphrase_ngram_range=(2,4), use_maxsum = True, top_n = 1))\n"
     ]
    },
    {
     "name": "stdout",
     "output_type": "stream",
     "text": [
      "{i} complete\n"
     ]
    },
    {
     "name": "stderr",
     "output_type": "stream",
     "text": [
      "100%|██████████| 64/64 [00:23<00:00,  2.73it/s]\n",
      "/var/folders/1b/dx8_94fs0q740wx3lfknk6y40000gn/T/ipykernel_42031/3950971282.py:3: SettingWithCopyWarning: \n",
      "A value is trying to be set on a copy of a slice from a DataFrame.\n",
      "Try using .loc[row_indexer,col_indexer] = value instead\n",
      "\n",
      "See the caveats in the documentation: https://pandas.pydata.org/pandas-docs/stable/user_guide/indexing.html#returning-a-view-versus-a-copy\n",
      "  tmp['keyword'] = tmp.msg.progress_apply(lambda x: kw_model.extract_keywords(x, keyphrase_ngram_range=(2,4), use_maxsum = True, top_n = 1))\n"
     ]
    },
    {
     "name": "stdout",
     "output_type": "stream",
     "text": [
      "{i} complete\n"
     ]
    },
    {
     "name": "stderr",
     "output_type": "stream",
     "text": [
      "100%|██████████| 64/64 [00:21<00:00,  3.01it/s]\n",
      "/var/folders/1b/dx8_94fs0q740wx3lfknk6y40000gn/T/ipykernel_42031/3950971282.py:3: SettingWithCopyWarning: \n",
      "A value is trying to be set on a copy of a slice from a DataFrame.\n",
      "Try using .loc[row_indexer,col_indexer] = value instead\n",
      "\n",
      "See the caveats in the documentation: https://pandas.pydata.org/pandas-docs/stable/user_guide/indexing.html#returning-a-view-versus-a-copy\n",
      "  tmp['keyword'] = tmp.msg.progress_apply(lambda x: kw_model.extract_keywords(x, keyphrase_ngram_range=(2,4), use_maxsum = True, top_n = 1))\n"
     ]
    },
    {
     "name": "stdout",
     "output_type": "stream",
     "text": [
      "{i} complete\n"
     ]
    },
    {
     "name": "stderr",
     "output_type": "stream",
     "text": [
      "100%|██████████| 64/64 [00:23<00:00,  2.69it/s]\n",
      "/var/folders/1b/dx8_94fs0q740wx3lfknk6y40000gn/T/ipykernel_42031/3950971282.py:3: SettingWithCopyWarning: \n",
      "A value is trying to be set on a copy of a slice from a DataFrame.\n",
      "Try using .loc[row_indexer,col_indexer] = value instead\n",
      "\n",
      "See the caveats in the documentation: https://pandas.pydata.org/pandas-docs/stable/user_guide/indexing.html#returning-a-view-versus-a-copy\n",
      "  tmp['keyword'] = tmp.msg.progress_apply(lambda x: kw_model.extract_keywords(x, keyphrase_ngram_range=(2,4), use_maxsum = True, top_n = 1))\n"
     ]
    },
    {
     "name": "stdout",
     "output_type": "stream",
     "text": [
      "{i} complete\n"
     ]
    },
    {
     "name": "stderr",
     "output_type": "stream",
     "text": [
      "100%|██████████| 64/64 [00:22<00:00,  2.79it/s]\n",
      "/var/folders/1b/dx8_94fs0q740wx3lfknk6y40000gn/T/ipykernel_42031/3950971282.py:3: SettingWithCopyWarning: \n",
      "A value is trying to be set on a copy of a slice from a DataFrame.\n",
      "Try using .loc[row_indexer,col_indexer] = value instead\n",
      "\n",
      "See the caveats in the documentation: https://pandas.pydata.org/pandas-docs/stable/user_guide/indexing.html#returning-a-view-versus-a-copy\n",
      "  tmp['keyword'] = tmp.msg.progress_apply(lambda x: kw_model.extract_keywords(x, keyphrase_ngram_range=(2,4), use_maxsum = True, top_n = 1))\n"
     ]
    },
    {
     "name": "stdout",
     "output_type": "stream",
     "text": [
      "{i} complete\n"
     ]
    },
    {
     "name": "stderr",
     "output_type": "stream",
     "text": [
      "100%|██████████| 63/63 [00:22<00:00,  2.75it/s]\n",
      "/var/folders/1b/dx8_94fs0q740wx3lfknk6y40000gn/T/ipykernel_42031/3950971282.py:3: SettingWithCopyWarning: \n",
      "A value is trying to be set on a copy of a slice from a DataFrame.\n",
      "Try using .loc[row_indexer,col_indexer] = value instead\n",
      "\n",
      "See the caveats in the documentation: https://pandas.pydata.org/pandas-docs/stable/user_guide/indexing.html#returning-a-view-versus-a-copy\n",
      "  tmp['keyword'] = tmp.msg.progress_apply(lambda x: kw_model.extract_keywords(x, keyphrase_ngram_range=(2,4), use_maxsum = True, top_n = 1))\n"
     ]
    },
    {
     "name": "stdout",
     "output_type": "stream",
     "text": [
      "{i} complete\n"
     ]
    },
    {
     "name": "stderr",
     "output_type": "stream",
     "text": [
      "100%|██████████| 63/63 [00:21<00:00,  2.96it/s]\n",
      "/var/folders/1b/dx8_94fs0q740wx3lfknk6y40000gn/T/ipykernel_42031/3950971282.py:3: SettingWithCopyWarning: \n",
      "A value is trying to be set on a copy of a slice from a DataFrame.\n",
      "Try using .loc[row_indexer,col_indexer] = value instead\n",
      "\n",
      "See the caveats in the documentation: https://pandas.pydata.org/pandas-docs/stable/user_guide/indexing.html#returning-a-view-versus-a-copy\n",
      "  tmp['keyword'] = tmp.msg.progress_apply(lambda x: kw_model.extract_keywords(x, keyphrase_ngram_range=(2,4), use_maxsum = True, top_n = 1))\n"
     ]
    },
    {
     "name": "stdout",
     "output_type": "stream",
     "text": [
      "{i} complete\n"
     ]
    },
    {
     "name": "stderr",
     "output_type": "stream",
     "text": [
      "100%|██████████| 62/62 [00:22<00:00,  2.76it/s]\n",
      "/var/folders/1b/dx8_94fs0q740wx3lfknk6y40000gn/T/ipykernel_42031/3950971282.py:3: SettingWithCopyWarning: \n",
      "A value is trying to be set on a copy of a slice from a DataFrame.\n",
      "Try using .loc[row_indexer,col_indexer] = value instead\n",
      "\n",
      "See the caveats in the documentation: https://pandas.pydata.org/pandas-docs/stable/user_guide/indexing.html#returning-a-view-versus-a-copy\n",
      "  tmp['keyword'] = tmp.msg.progress_apply(lambda x: kw_model.extract_keywords(x, keyphrase_ngram_range=(2,4), use_maxsum = True, top_n = 1))\n"
     ]
    },
    {
     "name": "stdout",
     "output_type": "stream",
     "text": [
      "{i} complete\n"
     ]
    },
    {
     "name": "stderr",
     "output_type": "stream",
     "text": [
      "100%|██████████| 61/61 [00:22<00:00,  2.72it/s]\n",
      "/var/folders/1b/dx8_94fs0q740wx3lfknk6y40000gn/T/ipykernel_42031/3950971282.py:3: SettingWithCopyWarning: \n",
      "A value is trying to be set on a copy of a slice from a DataFrame.\n",
      "Try using .loc[row_indexer,col_indexer] = value instead\n",
      "\n",
      "See the caveats in the documentation: https://pandas.pydata.org/pandas-docs/stable/user_guide/indexing.html#returning-a-view-versus-a-copy\n",
      "  tmp['keyword'] = tmp.msg.progress_apply(lambda x: kw_model.extract_keywords(x, keyphrase_ngram_range=(2,4), use_maxsum = True, top_n = 1))\n"
     ]
    },
    {
     "name": "stdout",
     "output_type": "stream",
     "text": [
      "{i} complete\n"
     ]
    },
    {
     "name": "stderr",
     "output_type": "stream",
     "text": [
      "100%|██████████| 61/61 [00:20<00:00,  2.91it/s]\n",
      "/var/folders/1b/dx8_94fs0q740wx3lfknk6y40000gn/T/ipykernel_42031/3950971282.py:3: SettingWithCopyWarning: \n",
      "A value is trying to be set on a copy of a slice from a DataFrame.\n",
      "Try using .loc[row_indexer,col_indexer] = value instead\n",
      "\n",
      "See the caveats in the documentation: https://pandas.pydata.org/pandas-docs/stable/user_guide/indexing.html#returning-a-view-versus-a-copy\n",
      "  tmp['keyword'] = tmp.msg.progress_apply(lambda x: kw_model.extract_keywords(x, keyphrase_ngram_range=(2,4), use_maxsum = True, top_n = 1))\n"
     ]
    },
    {
     "name": "stdout",
     "output_type": "stream",
     "text": [
      "{i} complete\n"
     ]
    },
    {
     "name": "stderr",
     "output_type": "stream",
     "text": [
      "100%|██████████| 60/60 [00:21<00:00,  2.77it/s]\n",
      "/var/folders/1b/dx8_94fs0q740wx3lfknk6y40000gn/T/ipykernel_42031/3950971282.py:3: SettingWithCopyWarning: \n",
      "A value is trying to be set on a copy of a slice from a DataFrame.\n",
      "Try using .loc[row_indexer,col_indexer] = value instead\n",
      "\n",
      "See the caveats in the documentation: https://pandas.pydata.org/pandas-docs/stable/user_guide/indexing.html#returning-a-view-versus-a-copy\n",
      "  tmp['keyword'] = tmp.msg.progress_apply(lambda x: kw_model.extract_keywords(x, keyphrase_ngram_range=(2,4), use_maxsum = True, top_n = 1))\n"
     ]
    },
    {
     "name": "stdout",
     "output_type": "stream",
     "text": [
      "{i} complete\n"
     ]
    },
    {
     "name": "stderr",
     "output_type": "stream",
     "text": [
      "100%|██████████| 60/60 [00:22<00:00,  2.67it/s]\n",
      "/var/folders/1b/dx8_94fs0q740wx3lfknk6y40000gn/T/ipykernel_42031/3950971282.py:3: SettingWithCopyWarning: \n",
      "A value is trying to be set on a copy of a slice from a DataFrame.\n",
      "Try using .loc[row_indexer,col_indexer] = value instead\n",
      "\n",
      "See the caveats in the documentation: https://pandas.pydata.org/pandas-docs/stable/user_guide/indexing.html#returning-a-view-versus-a-copy\n",
      "  tmp['keyword'] = tmp.msg.progress_apply(lambda x: kw_model.extract_keywords(x, keyphrase_ngram_range=(2,4), use_maxsum = True, top_n = 1))\n"
     ]
    },
    {
     "name": "stdout",
     "output_type": "stream",
     "text": [
      "{i} complete\n"
     ]
    },
    {
     "name": "stderr",
     "output_type": "stream",
     "text": [
      "100%|██████████| 60/60 [00:21<00:00,  2.84it/s]\n",
      "/var/folders/1b/dx8_94fs0q740wx3lfknk6y40000gn/T/ipykernel_42031/3950971282.py:3: SettingWithCopyWarning: \n",
      "A value is trying to be set on a copy of a slice from a DataFrame.\n",
      "Try using .loc[row_indexer,col_indexer] = value instead\n",
      "\n",
      "See the caveats in the documentation: https://pandas.pydata.org/pandas-docs/stable/user_guide/indexing.html#returning-a-view-versus-a-copy\n",
      "  tmp['keyword'] = tmp.msg.progress_apply(lambda x: kw_model.extract_keywords(x, keyphrase_ngram_range=(2,4), use_maxsum = True, top_n = 1))\n"
     ]
    },
    {
     "name": "stdout",
     "output_type": "stream",
     "text": [
      "{i} complete\n"
     ]
    },
    {
     "name": "stderr",
     "output_type": "stream",
     "text": [
      "100%|██████████| 59/59 [00:20<00:00,  2.91it/s]\n",
      "/var/folders/1b/dx8_94fs0q740wx3lfknk6y40000gn/T/ipykernel_42031/3950971282.py:3: SettingWithCopyWarning: \n",
      "A value is trying to be set on a copy of a slice from a DataFrame.\n",
      "Try using .loc[row_indexer,col_indexer] = value instead\n",
      "\n",
      "See the caveats in the documentation: https://pandas.pydata.org/pandas-docs/stable/user_guide/indexing.html#returning-a-view-versus-a-copy\n",
      "  tmp['keyword'] = tmp.msg.progress_apply(lambda x: kw_model.extract_keywords(x, keyphrase_ngram_range=(2,4), use_maxsum = True, top_n = 1))\n"
     ]
    },
    {
     "name": "stdout",
     "output_type": "stream",
     "text": [
      "{i} complete\n"
     ]
    },
    {
     "name": "stderr",
     "output_type": "stream",
     "text": [
      "100%|██████████| 58/58 [00:18<00:00,  3.08it/s]\n",
      "/var/folders/1b/dx8_94fs0q740wx3lfknk6y40000gn/T/ipykernel_42031/3950971282.py:3: SettingWithCopyWarning: \n",
      "A value is trying to be set on a copy of a slice from a DataFrame.\n",
      "Try using .loc[row_indexer,col_indexer] = value instead\n",
      "\n",
      "See the caveats in the documentation: https://pandas.pydata.org/pandas-docs/stable/user_guide/indexing.html#returning-a-view-versus-a-copy\n",
      "  tmp['keyword'] = tmp.msg.progress_apply(lambda x: kw_model.extract_keywords(x, keyphrase_ngram_range=(2,4), use_maxsum = True, top_n = 1))\n"
     ]
    },
    {
     "name": "stdout",
     "output_type": "stream",
     "text": [
      "{i} complete\n"
     ]
    },
    {
     "name": "stderr",
     "output_type": "stream",
     "text": [
      "100%|██████████| 58/58 [00:19<00:00,  2.99it/s]\n",
      "/var/folders/1b/dx8_94fs0q740wx3lfknk6y40000gn/T/ipykernel_42031/3950971282.py:3: SettingWithCopyWarning: \n",
      "A value is trying to be set on a copy of a slice from a DataFrame.\n",
      "Try using .loc[row_indexer,col_indexer] = value instead\n",
      "\n",
      "See the caveats in the documentation: https://pandas.pydata.org/pandas-docs/stable/user_guide/indexing.html#returning-a-view-versus-a-copy\n",
      "  tmp['keyword'] = tmp.msg.progress_apply(lambda x: kw_model.extract_keywords(x, keyphrase_ngram_range=(2,4), use_maxsum = True, top_n = 1))\n"
     ]
    },
    {
     "name": "stdout",
     "output_type": "stream",
     "text": [
      "{i} complete\n"
     ]
    },
    {
     "name": "stderr",
     "output_type": "stream",
     "text": [
      "100%|██████████| 57/57 [00:20<00:00,  2.74it/s]\n",
      "/var/folders/1b/dx8_94fs0q740wx3lfknk6y40000gn/T/ipykernel_42031/3950971282.py:3: SettingWithCopyWarning: \n",
      "A value is trying to be set on a copy of a slice from a DataFrame.\n",
      "Try using .loc[row_indexer,col_indexer] = value instead\n",
      "\n",
      "See the caveats in the documentation: https://pandas.pydata.org/pandas-docs/stable/user_guide/indexing.html#returning-a-view-versus-a-copy\n",
      "  tmp['keyword'] = tmp.msg.progress_apply(lambda x: kw_model.extract_keywords(x, keyphrase_ngram_range=(2,4), use_maxsum = True, top_n = 1))\n"
     ]
    },
    {
     "name": "stdout",
     "output_type": "stream",
     "text": [
      "{i} complete\n"
     ]
    },
    {
     "name": "stderr",
     "output_type": "stream",
     "text": [
      "100%|██████████| 57/57 [00:19<00:00,  2.87it/s]\n",
      "/var/folders/1b/dx8_94fs0q740wx3lfknk6y40000gn/T/ipykernel_42031/3950971282.py:3: SettingWithCopyWarning: \n",
      "A value is trying to be set on a copy of a slice from a DataFrame.\n",
      "Try using .loc[row_indexer,col_indexer] = value instead\n",
      "\n",
      "See the caveats in the documentation: https://pandas.pydata.org/pandas-docs/stable/user_guide/indexing.html#returning-a-view-versus-a-copy\n",
      "  tmp['keyword'] = tmp.msg.progress_apply(lambda x: kw_model.extract_keywords(x, keyphrase_ngram_range=(2,4), use_maxsum = True, top_n = 1))\n"
     ]
    },
    {
     "name": "stdout",
     "output_type": "stream",
     "text": [
      "{i} complete\n"
     ]
    },
    {
     "name": "stderr",
     "output_type": "stream",
     "text": [
      "100%|██████████| 57/57 [00:21<00:00,  2.64it/s]\n",
      "/var/folders/1b/dx8_94fs0q740wx3lfknk6y40000gn/T/ipykernel_42031/3950971282.py:3: SettingWithCopyWarning: \n",
      "A value is trying to be set on a copy of a slice from a DataFrame.\n",
      "Try using .loc[row_indexer,col_indexer] = value instead\n",
      "\n",
      "See the caveats in the documentation: https://pandas.pydata.org/pandas-docs/stable/user_guide/indexing.html#returning-a-view-versus-a-copy\n",
      "  tmp['keyword'] = tmp.msg.progress_apply(lambda x: kw_model.extract_keywords(x, keyphrase_ngram_range=(2,4), use_maxsum = True, top_n = 1))\n"
     ]
    },
    {
     "name": "stdout",
     "output_type": "stream",
     "text": [
      "{i} complete\n"
     ]
    },
    {
     "name": "stderr",
     "output_type": "stream",
     "text": [
      "100%|██████████| 57/57 [00:21<00:00,  2.67it/s]\n",
      "/var/folders/1b/dx8_94fs0q740wx3lfknk6y40000gn/T/ipykernel_42031/3950971282.py:3: SettingWithCopyWarning: \n",
      "A value is trying to be set on a copy of a slice from a DataFrame.\n",
      "Try using .loc[row_indexer,col_indexer] = value instead\n",
      "\n",
      "See the caveats in the documentation: https://pandas.pydata.org/pandas-docs/stable/user_guide/indexing.html#returning-a-view-versus-a-copy\n",
      "  tmp['keyword'] = tmp.msg.progress_apply(lambda x: kw_model.extract_keywords(x, keyphrase_ngram_range=(2,4), use_maxsum = True, top_n = 1))\n"
     ]
    },
    {
     "name": "stdout",
     "output_type": "stream",
     "text": [
      "{i} complete\n"
     ]
    },
    {
     "name": "stderr",
     "output_type": "stream",
     "text": [
      "100%|██████████| 56/56 [00:20<00:00,  2.71it/s]\n",
      "/var/folders/1b/dx8_94fs0q740wx3lfknk6y40000gn/T/ipykernel_42031/3950971282.py:3: SettingWithCopyWarning: \n",
      "A value is trying to be set on a copy of a slice from a DataFrame.\n",
      "Try using .loc[row_indexer,col_indexer] = value instead\n",
      "\n",
      "See the caveats in the documentation: https://pandas.pydata.org/pandas-docs/stable/user_guide/indexing.html#returning-a-view-versus-a-copy\n",
      "  tmp['keyword'] = tmp.msg.progress_apply(lambda x: kw_model.extract_keywords(x, keyphrase_ngram_range=(2,4), use_maxsum = True, top_n = 1))\n"
     ]
    },
    {
     "name": "stdout",
     "output_type": "stream",
     "text": [
      "{i} complete\n"
     ]
    },
    {
     "name": "stderr",
     "output_type": "stream",
     "text": [
      "100%|██████████| 56/56 [00:20<00:00,  2.80it/s]\n",
      "/var/folders/1b/dx8_94fs0q740wx3lfknk6y40000gn/T/ipykernel_42031/3950971282.py:3: SettingWithCopyWarning: \n",
      "A value is trying to be set on a copy of a slice from a DataFrame.\n",
      "Try using .loc[row_indexer,col_indexer] = value instead\n",
      "\n",
      "See the caveats in the documentation: https://pandas.pydata.org/pandas-docs/stable/user_guide/indexing.html#returning-a-view-versus-a-copy\n",
      "  tmp['keyword'] = tmp.msg.progress_apply(lambda x: kw_model.extract_keywords(x, keyphrase_ngram_range=(2,4), use_maxsum = True, top_n = 1))\n"
     ]
    },
    {
     "name": "stdout",
     "output_type": "stream",
     "text": [
      "{i} complete\n"
     ]
    },
    {
     "name": "stderr",
     "output_type": "stream",
     "text": [
      "100%|██████████| 55/55 [00:19<00:00,  2.75it/s]\n",
      "/var/folders/1b/dx8_94fs0q740wx3lfknk6y40000gn/T/ipykernel_42031/3950971282.py:3: SettingWithCopyWarning: \n",
      "A value is trying to be set on a copy of a slice from a DataFrame.\n",
      "Try using .loc[row_indexer,col_indexer] = value instead\n",
      "\n",
      "See the caveats in the documentation: https://pandas.pydata.org/pandas-docs/stable/user_guide/indexing.html#returning-a-view-versus-a-copy\n",
      "  tmp['keyword'] = tmp.msg.progress_apply(lambda x: kw_model.extract_keywords(x, keyphrase_ngram_range=(2,4), use_maxsum = True, top_n = 1))\n"
     ]
    },
    {
     "name": "stdout",
     "output_type": "stream",
     "text": [
      "{i} complete\n"
     ]
    },
    {
     "name": "stderr",
     "output_type": "stream",
     "text": [
      "100%|██████████| 54/54 [00:18<00:00,  2.85it/s]\n",
      "/var/folders/1b/dx8_94fs0q740wx3lfknk6y40000gn/T/ipykernel_42031/3950971282.py:3: SettingWithCopyWarning: \n",
      "A value is trying to be set on a copy of a slice from a DataFrame.\n",
      "Try using .loc[row_indexer,col_indexer] = value instead\n",
      "\n",
      "See the caveats in the documentation: https://pandas.pydata.org/pandas-docs/stable/user_guide/indexing.html#returning-a-view-versus-a-copy\n",
      "  tmp['keyword'] = tmp.msg.progress_apply(lambda x: kw_model.extract_keywords(x, keyphrase_ngram_range=(2,4), use_maxsum = True, top_n = 1))\n"
     ]
    },
    {
     "name": "stdout",
     "output_type": "stream",
     "text": [
      "{i} complete\n"
     ]
    },
    {
     "name": "stderr",
     "output_type": "stream",
     "text": [
      "100%|██████████| 54/54 [00:18<00:00,  3.00it/s]\n",
      "/var/folders/1b/dx8_94fs0q740wx3lfknk6y40000gn/T/ipykernel_42031/3950971282.py:3: SettingWithCopyWarning: \n",
      "A value is trying to be set on a copy of a slice from a DataFrame.\n",
      "Try using .loc[row_indexer,col_indexer] = value instead\n",
      "\n",
      "See the caveats in the documentation: https://pandas.pydata.org/pandas-docs/stable/user_guide/indexing.html#returning-a-view-versus-a-copy\n",
      "  tmp['keyword'] = tmp.msg.progress_apply(lambda x: kw_model.extract_keywords(x, keyphrase_ngram_range=(2,4), use_maxsum = True, top_n = 1))\n"
     ]
    },
    {
     "name": "stdout",
     "output_type": "stream",
     "text": [
      "{i} complete\n"
     ]
    },
    {
     "name": "stderr",
     "output_type": "stream",
     "text": [
      "100%|██████████| 53/53 [00:18<00:00,  2.89it/s]\n",
      "/var/folders/1b/dx8_94fs0q740wx3lfknk6y40000gn/T/ipykernel_42031/3950971282.py:3: SettingWithCopyWarning: \n",
      "A value is trying to be set on a copy of a slice from a DataFrame.\n",
      "Try using .loc[row_indexer,col_indexer] = value instead\n",
      "\n",
      "See the caveats in the documentation: https://pandas.pydata.org/pandas-docs/stable/user_guide/indexing.html#returning-a-view-versus-a-copy\n",
      "  tmp['keyword'] = tmp.msg.progress_apply(lambda x: kw_model.extract_keywords(x, keyphrase_ngram_range=(2,4), use_maxsum = True, top_n = 1))\n"
     ]
    },
    {
     "name": "stdout",
     "output_type": "stream",
     "text": [
      "{i} complete\n"
     ]
    },
    {
     "name": "stderr",
     "output_type": "stream",
     "text": [
      "100%|██████████| 53/53 [00:19<00:00,  2.70it/s]\n",
      "/var/folders/1b/dx8_94fs0q740wx3lfknk6y40000gn/T/ipykernel_42031/3950971282.py:3: SettingWithCopyWarning: \n",
      "A value is trying to be set on a copy of a slice from a DataFrame.\n",
      "Try using .loc[row_indexer,col_indexer] = value instead\n",
      "\n",
      "See the caveats in the documentation: https://pandas.pydata.org/pandas-docs/stable/user_guide/indexing.html#returning-a-view-versus-a-copy\n",
      "  tmp['keyword'] = tmp.msg.progress_apply(lambda x: kw_model.extract_keywords(x, keyphrase_ngram_range=(2,4), use_maxsum = True, top_n = 1))\n"
     ]
    },
    {
     "name": "stdout",
     "output_type": "stream",
     "text": [
      "{i} complete\n"
     ]
    },
    {
     "name": "stderr",
     "output_type": "stream",
     "text": [
      "100%|██████████| 52/52 [00:18<00:00,  2.77it/s]\n",
      "/var/folders/1b/dx8_94fs0q740wx3lfknk6y40000gn/T/ipykernel_42031/3950971282.py:3: SettingWithCopyWarning: \n",
      "A value is trying to be set on a copy of a slice from a DataFrame.\n",
      "Try using .loc[row_indexer,col_indexer] = value instead\n",
      "\n",
      "See the caveats in the documentation: https://pandas.pydata.org/pandas-docs/stable/user_guide/indexing.html#returning-a-view-versus-a-copy\n",
      "  tmp['keyword'] = tmp.msg.progress_apply(lambda x: kw_model.extract_keywords(x, keyphrase_ngram_range=(2,4), use_maxsum = True, top_n = 1))\n"
     ]
    },
    {
     "name": "stdout",
     "output_type": "stream",
     "text": [
      "{i} complete\n"
     ]
    },
    {
     "name": "stderr",
     "output_type": "stream",
     "text": [
      "100%|██████████| 52/52 [00:19<00:00,  2.68it/s]\n",
      "/var/folders/1b/dx8_94fs0q740wx3lfknk6y40000gn/T/ipykernel_42031/3950971282.py:3: SettingWithCopyWarning: \n",
      "A value is trying to be set on a copy of a slice from a DataFrame.\n",
      "Try using .loc[row_indexer,col_indexer] = value instead\n",
      "\n",
      "See the caveats in the documentation: https://pandas.pydata.org/pandas-docs/stable/user_guide/indexing.html#returning-a-view-versus-a-copy\n",
      "  tmp['keyword'] = tmp.msg.progress_apply(lambda x: kw_model.extract_keywords(x, keyphrase_ngram_range=(2,4), use_maxsum = True, top_n = 1))\n"
     ]
    },
    {
     "name": "stdout",
     "output_type": "stream",
     "text": [
      "{i} complete\n"
     ]
    },
    {
     "name": "stderr",
     "output_type": "stream",
     "text": [
      "100%|██████████| 50/50 [00:17<00:00,  2.82it/s]\n",
      "/var/folders/1b/dx8_94fs0q740wx3lfknk6y40000gn/T/ipykernel_42031/3950971282.py:3: SettingWithCopyWarning: \n",
      "A value is trying to be set on a copy of a slice from a DataFrame.\n",
      "Try using .loc[row_indexer,col_indexer] = value instead\n",
      "\n",
      "See the caveats in the documentation: https://pandas.pydata.org/pandas-docs/stable/user_guide/indexing.html#returning-a-view-versus-a-copy\n",
      "  tmp['keyword'] = tmp.msg.progress_apply(lambda x: kw_model.extract_keywords(x, keyphrase_ngram_range=(2,4), use_maxsum = True, top_n = 1))\n"
     ]
    },
    {
     "name": "stdout",
     "output_type": "stream",
     "text": [
      "{i} complete\n"
     ]
    },
    {
     "name": "stderr",
     "output_type": "stream",
     "text": [
      "100%|██████████| 50/50 [00:17<00:00,  2.78it/s]\n",
      "/var/folders/1b/dx8_94fs0q740wx3lfknk6y40000gn/T/ipykernel_42031/3950971282.py:3: SettingWithCopyWarning: \n",
      "A value is trying to be set on a copy of a slice from a DataFrame.\n",
      "Try using .loc[row_indexer,col_indexer] = value instead\n",
      "\n",
      "See the caveats in the documentation: https://pandas.pydata.org/pandas-docs/stable/user_guide/indexing.html#returning-a-view-versus-a-copy\n",
      "  tmp['keyword'] = tmp.msg.progress_apply(lambda x: kw_model.extract_keywords(x, keyphrase_ngram_range=(2,4), use_maxsum = True, top_n = 1))\n"
     ]
    },
    {
     "name": "stdout",
     "output_type": "stream",
     "text": [
      "{i} complete\n"
     ]
    },
    {
     "name": "stderr",
     "output_type": "stream",
     "text": [
      "100%|██████████| 50/50 [00:15<00:00,  3.29it/s]\n",
      "/var/folders/1b/dx8_94fs0q740wx3lfknk6y40000gn/T/ipykernel_42031/3950971282.py:3: SettingWithCopyWarning: \n",
      "A value is trying to be set on a copy of a slice from a DataFrame.\n",
      "Try using .loc[row_indexer,col_indexer] = value instead\n",
      "\n",
      "See the caveats in the documentation: https://pandas.pydata.org/pandas-docs/stable/user_guide/indexing.html#returning-a-view-versus-a-copy\n",
      "  tmp['keyword'] = tmp.msg.progress_apply(lambda x: kw_model.extract_keywords(x, keyphrase_ngram_range=(2,4), use_maxsum = True, top_n = 1))\n"
     ]
    },
    {
     "name": "stdout",
     "output_type": "stream",
     "text": [
      "{i} complete\n"
     ]
    },
    {
     "name": "stderr",
     "output_type": "stream",
     "text": [
      "100%|██████████| 50/50 [00:17<00:00,  2.80it/s]\n",
      "/var/folders/1b/dx8_94fs0q740wx3lfknk6y40000gn/T/ipykernel_42031/3950971282.py:3: SettingWithCopyWarning: \n",
      "A value is trying to be set on a copy of a slice from a DataFrame.\n",
      "Try using .loc[row_indexer,col_indexer] = value instead\n",
      "\n",
      "See the caveats in the documentation: https://pandas.pydata.org/pandas-docs/stable/user_guide/indexing.html#returning-a-view-versus-a-copy\n",
      "  tmp['keyword'] = tmp.msg.progress_apply(lambda x: kw_model.extract_keywords(x, keyphrase_ngram_range=(2,4), use_maxsum = True, top_n = 1))\n"
     ]
    },
    {
     "name": "stdout",
     "output_type": "stream",
     "text": [
      "{i} complete\n"
     ]
    },
    {
     "name": "stderr",
     "output_type": "stream",
     "text": [
      "100%|██████████| 50/50 [00:18<00:00,  2.66it/s]\n",
      "/var/folders/1b/dx8_94fs0q740wx3lfknk6y40000gn/T/ipykernel_42031/3950971282.py:3: SettingWithCopyWarning: \n",
      "A value is trying to be set on a copy of a slice from a DataFrame.\n",
      "Try using .loc[row_indexer,col_indexer] = value instead\n",
      "\n",
      "See the caveats in the documentation: https://pandas.pydata.org/pandas-docs/stable/user_guide/indexing.html#returning-a-view-versus-a-copy\n",
      "  tmp['keyword'] = tmp.msg.progress_apply(lambda x: kw_model.extract_keywords(x, keyphrase_ngram_range=(2,4), use_maxsum = True, top_n = 1))\n"
     ]
    },
    {
     "name": "stdout",
     "output_type": "stream",
     "text": [
      "{i} complete\n"
     ]
    },
    {
     "name": "stderr",
     "output_type": "stream",
     "text": [
      "100%|██████████| 49/49 [00:17<00:00,  2.79it/s]\n",
      "/var/folders/1b/dx8_94fs0q740wx3lfknk6y40000gn/T/ipykernel_42031/3950971282.py:3: SettingWithCopyWarning: \n",
      "A value is trying to be set on a copy of a slice from a DataFrame.\n",
      "Try using .loc[row_indexer,col_indexer] = value instead\n",
      "\n",
      "See the caveats in the documentation: https://pandas.pydata.org/pandas-docs/stable/user_guide/indexing.html#returning-a-view-versus-a-copy\n",
      "  tmp['keyword'] = tmp.msg.progress_apply(lambda x: kw_model.extract_keywords(x, keyphrase_ngram_range=(2,4), use_maxsum = True, top_n = 1))\n"
     ]
    },
    {
     "name": "stdout",
     "output_type": "stream",
     "text": [
      "{i} complete\n"
     ]
    },
    {
     "name": "stderr",
     "output_type": "stream",
     "text": [
      "100%|██████████| 48/48 [00:16<00:00,  2.85it/s]\n",
      "/var/folders/1b/dx8_94fs0q740wx3lfknk6y40000gn/T/ipykernel_42031/3950971282.py:3: SettingWithCopyWarning: \n",
      "A value is trying to be set on a copy of a slice from a DataFrame.\n",
      "Try using .loc[row_indexer,col_indexer] = value instead\n",
      "\n",
      "See the caveats in the documentation: https://pandas.pydata.org/pandas-docs/stable/user_guide/indexing.html#returning-a-view-versus-a-copy\n",
      "  tmp['keyword'] = tmp.msg.progress_apply(lambda x: kw_model.extract_keywords(x, keyphrase_ngram_range=(2,4), use_maxsum = True, top_n = 1))\n"
     ]
    },
    {
     "name": "stdout",
     "output_type": "stream",
     "text": [
      "{i} complete\n"
     ]
    },
    {
     "name": "stderr",
     "output_type": "stream",
     "text": [
      "100%|██████████| 48/48 [00:17<00:00,  2.74it/s]\n",
      "/var/folders/1b/dx8_94fs0q740wx3lfknk6y40000gn/T/ipykernel_42031/3950971282.py:3: SettingWithCopyWarning: \n",
      "A value is trying to be set on a copy of a slice from a DataFrame.\n",
      "Try using .loc[row_indexer,col_indexer] = value instead\n",
      "\n",
      "See the caveats in the documentation: https://pandas.pydata.org/pandas-docs/stable/user_guide/indexing.html#returning-a-view-versus-a-copy\n",
      "  tmp['keyword'] = tmp.msg.progress_apply(lambda x: kw_model.extract_keywords(x, keyphrase_ngram_range=(2,4), use_maxsum = True, top_n = 1))\n"
     ]
    },
    {
     "name": "stdout",
     "output_type": "stream",
     "text": [
      "{i} complete\n"
     ]
    },
    {
     "name": "stderr",
     "output_type": "stream",
     "text": [
      "100%|██████████| 48/48 [00:17<00:00,  2.82it/s]\n",
      "/var/folders/1b/dx8_94fs0q740wx3lfknk6y40000gn/T/ipykernel_42031/3950971282.py:3: SettingWithCopyWarning: \n",
      "A value is trying to be set on a copy of a slice from a DataFrame.\n",
      "Try using .loc[row_indexer,col_indexer] = value instead\n",
      "\n",
      "See the caveats in the documentation: https://pandas.pydata.org/pandas-docs/stable/user_guide/indexing.html#returning-a-view-versus-a-copy\n",
      "  tmp['keyword'] = tmp.msg.progress_apply(lambda x: kw_model.extract_keywords(x, keyphrase_ngram_range=(2,4), use_maxsum = True, top_n = 1))\n"
     ]
    },
    {
     "name": "stdout",
     "output_type": "stream",
     "text": [
      "{i} complete\n"
     ]
    },
    {
     "name": "stderr",
     "output_type": "stream",
     "text": [
      "100%|██████████| 47/47 [00:17<00:00,  2.73it/s]\n",
      "/var/folders/1b/dx8_94fs0q740wx3lfknk6y40000gn/T/ipykernel_42031/3950971282.py:3: SettingWithCopyWarning: \n",
      "A value is trying to be set on a copy of a slice from a DataFrame.\n",
      "Try using .loc[row_indexer,col_indexer] = value instead\n",
      "\n",
      "See the caveats in the documentation: https://pandas.pydata.org/pandas-docs/stable/user_guide/indexing.html#returning-a-view-versus-a-copy\n",
      "  tmp['keyword'] = tmp.msg.progress_apply(lambda x: kw_model.extract_keywords(x, keyphrase_ngram_range=(2,4), use_maxsum = True, top_n = 1))\n"
     ]
    },
    {
     "name": "stdout",
     "output_type": "stream",
     "text": [
      "{i} complete\n"
     ]
    },
    {
     "name": "stderr",
     "output_type": "stream",
     "text": [
      "100%|██████████| 46/46 [00:17<00:00,  2.69it/s]\n",
      "/var/folders/1b/dx8_94fs0q740wx3lfknk6y40000gn/T/ipykernel_42031/3950971282.py:3: SettingWithCopyWarning: \n",
      "A value is trying to be set on a copy of a slice from a DataFrame.\n",
      "Try using .loc[row_indexer,col_indexer] = value instead\n",
      "\n",
      "See the caveats in the documentation: https://pandas.pydata.org/pandas-docs/stable/user_guide/indexing.html#returning-a-view-versus-a-copy\n",
      "  tmp['keyword'] = tmp.msg.progress_apply(lambda x: kw_model.extract_keywords(x, keyphrase_ngram_range=(2,4), use_maxsum = True, top_n = 1))\n"
     ]
    },
    {
     "name": "stdout",
     "output_type": "stream",
     "text": [
      "{i} complete\n"
     ]
    },
    {
     "name": "stderr",
     "output_type": "stream",
     "text": [
      "100%|██████████| 46/46 [00:15<00:00,  2.88it/s]\n",
      "/var/folders/1b/dx8_94fs0q740wx3lfknk6y40000gn/T/ipykernel_42031/3950971282.py:3: SettingWithCopyWarning: \n",
      "A value is trying to be set on a copy of a slice from a DataFrame.\n",
      "Try using .loc[row_indexer,col_indexer] = value instead\n",
      "\n",
      "See the caveats in the documentation: https://pandas.pydata.org/pandas-docs/stable/user_guide/indexing.html#returning-a-view-versus-a-copy\n",
      "  tmp['keyword'] = tmp.msg.progress_apply(lambda x: kw_model.extract_keywords(x, keyphrase_ngram_range=(2,4), use_maxsum = True, top_n = 1))\n"
     ]
    },
    {
     "name": "stdout",
     "output_type": "stream",
     "text": [
      "{i} complete\n"
     ]
    },
    {
     "name": "stderr",
     "output_type": "stream",
     "text": [
      "100%|██████████| 45/45 [00:16<00:00,  2.74it/s]\n",
      "/var/folders/1b/dx8_94fs0q740wx3lfknk6y40000gn/T/ipykernel_42031/3950971282.py:3: SettingWithCopyWarning: \n",
      "A value is trying to be set on a copy of a slice from a DataFrame.\n",
      "Try using .loc[row_indexer,col_indexer] = value instead\n",
      "\n",
      "See the caveats in the documentation: https://pandas.pydata.org/pandas-docs/stable/user_guide/indexing.html#returning-a-view-versus-a-copy\n",
      "  tmp['keyword'] = tmp.msg.progress_apply(lambda x: kw_model.extract_keywords(x, keyphrase_ngram_range=(2,4), use_maxsum = True, top_n = 1))\n"
     ]
    },
    {
     "name": "stdout",
     "output_type": "stream",
     "text": [
      "{i} complete\n"
     ]
    },
    {
     "name": "stderr",
     "output_type": "stream",
     "text": [
      "100%|██████████| 45/45 [00:16<00:00,  2.77it/s]\n",
      "/var/folders/1b/dx8_94fs0q740wx3lfknk6y40000gn/T/ipykernel_42031/3950971282.py:3: SettingWithCopyWarning: \n",
      "A value is trying to be set on a copy of a slice from a DataFrame.\n",
      "Try using .loc[row_indexer,col_indexer] = value instead\n",
      "\n",
      "See the caveats in the documentation: https://pandas.pydata.org/pandas-docs/stable/user_guide/indexing.html#returning-a-view-versus-a-copy\n",
      "  tmp['keyword'] = tmp.msg.progress_apply(lambda x: kw_model.extract_keywords(x, keyphrase_ngram_range=(2,4), use_maxsum = True, top_n = 1))\n"
     ]
    },
    {
     "name": "stdout",
     "output_type": "stream",
     "text": [
      "{i} complete\n"
     ]
    },
    {
     "name": "stderr",
     "output_type": "stream",
     "text": [
      "100%|██████████| 45/45 [00:15<00:00,  2.81it/s]\n",
      "/var/folders/1b/dx8_94fs0q740wx3lfknk6y40000gn/T/ipykernel_42031/3950971282.py:3: SettingWithCopyWarning: \n",
      "A value is trying to be set on a copy of a slice from a DataFrame.\n",
      "Try using .loc[row_indexer,col_indexer] = value instead\n",
      "\n",
      "See the caveats in the documentation: https://pandas.pydata.org/pandas-docs/stable/user_guide/indexing.html#returning-a-view-versus-a-copy\n",
      "  tmp['keyword'] = tmp.msg.progress_apply(lambda x: kw_model.extract_keywords(x, keyphrase_ngram_range=(2,4), use_maxsum = True, top_n = 1))\n"
     ]
    },
    {
     "name": "stdout",
     "output_type": "stream",
     "text": [
      "{i} complete\n"
     ]
    },
    {
     "name": "stderr",
     "output_type": "stream",
     "text": [
      "100%|██████████| 45/45 [00:17<00:00,  2.63it/s]\n",
      "/var/folders/1b/dx8_94fs0q740wx3lfknk6y40000gn/T/ipykernel_42031/3950971282.py:3: SettingWithCopyWarning: \n",
      "A value is trying to be set on a copy of a slice from a DataFrame.\n",
      "Try using .loc[row_indexer,col_indexer] = value instead\n",
      "\n",
      "See the caveats in the documentation: https://pandas.pydata.org/pandas-docs/stable/user_guide/indexing.html#returning-a-view-versus-a-copy\n",
      "  tmp['keyword'] = tmp.msg.progress_apply(lambda x: kw_model.extract_keywords(x, keyphrase_ngram_range=(2,4), use_maxsum = True, top_n = 1))\n"
     ]
    },
    {
     "name": "stdout",
     "output_type": "stream",
     "text": [
      "{i} complete\n"
     ]
    },
    {
     "name": "stderr",
     "output_type": "stream",
     "text": [
      "100%|██████████| 44/44 [10:12<00:00, 13.93s/it]\n",
      "/var/folders/1b/dx8_94fs0q740wx3lfknk6y40000gn/T/ipykernel_42031/3950971282.py:3: SettingWithCopyWarning: \n",
      "A value is trying to be set on a copy of a slice from a DataFrame.\n",
      "Try using .loc[row_indexer,col_indexer] = value instead\n",
      "\n",
      "See the caveats in the documentation: https://pandas.pydata.org/pandas-docs/stable/user_guide/indexing.html#returning-a-view-versus-a-copy\n",
      "  tmp['keyword'] = tmp.msg.progress_apply(lambda x: kw_model.extract_keywords(x, keyphrase_ngram_range=(2,4), use_maxsum = True, top_n = 1))\n"
     ]
    },
    {
     "name": "stdout",
     "output_type": "stream",
     "text": [
      "{i} complete\n"
     ]
    },
    {
     "name": "stderr",
     "output_type": "stream",
     "text": [
      "100%|██████████| 44/44 [00:12<00:00,  3.52it/s]\n",
      "/var/folders/1b/dx8_94fs0q740wx3lfknk6y40000gn/T/ipykernel_42031/3950971282.py:3: SettingWithCopyWarning: \n",
      "A value is trying to be set on a copy of a slice from a DataFrame.\n",
      "Try using .loc[row_indexer,col_indexer] = value instead\n",
      "\n",
      "See the caveats in the documentation: https://pandas.pydata.org/pandas-docs/stable/user_guide/indexing.html#returning-a-view-versus-a-copy\n",
      "  tmp['keyword'] = tmp.msg.progress_apply(lambda x: kw_model.extract_keywords(x, keyphrase_ngram_range=(2,4), use_maxsum = True, top_n = 1))\n"
     ]
    },
    {
     "name": "stdout",
     "output_type": "stream",
     "text": [
      "{i} complete\n"
     ]
    },
    {
     "name": "stderr",
     "output_type": "stream",
     "text": [
      "100%|██████████| 43/43 [00:02<00:00, 14.92it/s]\n",
      "/var/folders/1b/dx8_94fs0q740wx3lfknk6y40000gn/T/ipykernel_42031/3950971282.py:3: SettingWithCopyWarning: \n",
      "A value is trying to be set on a copy of a slice from a DataFrame.\n",
      "Try using .loc[row_indexer,col_indexer] = value instead\n",
      "\n",
      "See the caveats in the documentation: https://pandas.pydata.org/pandas-docs/stable/user_guide/indexing.html#returning-a-view-versus-a-copy\n",
      "  tmp['keyword'] = tmp.msg.progress_apply(lambda x: kw_model.extract_keywords(x, keyphrase_ngram_range=(2,4), use_maxsum = True, top_n = 1))\n"
     ]
    },
    {
     "name": "stdout",
     "output_type": "stream",
     "text": [
      "{i} complete\n"
     ]
    },
    {
     "name": "stderr",
     "output_type": "stream",
     "text": [
      "100%|██████████| 43/43 [00:14<00:00,  3.02it/s]\n",
      "/var/folders/1b/dx8_94fs0q740wx3lfknk6y40000gn/T/ipykernel_42031/3950971282.py:3: SettingWithCopyWarning: \n",
      "A value is trying to be set on a copy of a slice from a DataFrame.\n",
      "Try using .loc[row_indexer,col_indexer] = value instead\n",
      "\n",
      "See the caveats in the documentation: https://pandas.pydata.org/pandas-docs/stable/user_guide/indexing.html#returning-a-view-versus-a-copy\n",
      "  tmp['keyword'] = tmp.msg.progress_apply(lambda x: kw_model.extract_keywords(x, keyphrase_ngram_range=(2,4), use_maxsum = True, top_n = 1))\n"
     ]
    },
    {
     "name": "stdout",
     "output_type": "stream",
     "text": [
      "{i} complete\n"
     ]
    },
    {
     "name": "stderr",
     "output_type": "stream",
     "text": [
      "100%|██████████| 43/43 [00:13<00:00,  3.27it/s]\n",
      "/var/folders/1b/dx8_94fs0q740wx3lfknk6y40000gn/T/ipykernel_42031/3950971282.py:3: SettingWithCopyWarning: \n",
      "A value is trying to be set on a copy of a slice from a DataFrame.\n",
      "Try using .loc[row_indexer,col_indexer] = value instead\n",
      "\n",
      "See the caveats in the documentation: https://pandas.pydata.org/pandas-docs/stable/user_guide/indexing.html#returning-a-view-versus-a-copy\n",
      "  tmp['keyword'] = tmp.msg.progress_apply(lambda x: kw_model.extract_keywords(x, keyphrase_ngram_range=(2,4), use_maxsum = True, top_n = 1))\n"
     ]
    },
    {
     "name": "stdout",
     "output_type": "stream",
     "text": [
      "{i} complete\n"
     ]
    },
    {
     "name": "stderr",
     "output_type": "stream",
     "text": [
      "100%|██████████| 43/43 [16:01<00:00, 22.35s/it]   \n",
      "/var/folders/1b/dx8_94fs0q740wx3lfknk6y40000gn/T/ipykernel_42031/3950971282.py:3: SettingWithCopyWarning: \n",
      "A value is trying to be set on a copy of a slice from a DataFrame.\n",
      "Try using .loc[row_indexer,col_indexer] = value instead\n",
      "\n",
      "See the caveats in the documentation: https://pandas.pydata.org/pandas-docs/stable/user_guide/indexing.html#returning-a-view-versus-a-copy\n",
      "  tmp['keyword'] = tmp.msg.progress_apply(lambda x: kw_model.extract_keywords(x, keyphrase_ngram_range=(2,4), use_maxsum = True, top_n = 1))\n"
     ]
    },
    {
     "name": "stdout",
     "output_type": "stream",
     "text": [
      "{i} complete\n"
     ]
    },
    {
     "name": "stderr",
     "output_type": "stream",
     "text": [
      "100%|██████████| 43/43 [00:15<00:00,  2.75it/s]\n",
      "/var/folders/1b/dx8_94fs0q740wx3lfknk6y40000gn/T/ipykernel_42031/3950971282.py:3: SettingWithCopyWarning: \n",
      "A value is trying to be set on a copy of a slice from a DataFrame.\n",
      "Try using .loc[row_indexer,col_indexer] = value instead\n",
      "\n",
      "See the caveats in the documentation: https://pandas.pydata.org/pandas-docs/stable/user_guide/indexing.html#returning-a-view-versus-a-copy\n",
      "  tmp['keyword'] = tmp.msg.progress_apply(lambda x: kw_model.extract_keywords(x, keyphrase_ngram_range=(2,4), use_maxsum = True, top_n = 1))\n"
     ]
    },
    {
     "name": "stdout",
     "output_type": "stream",
     "text": [
      "{i} complete\n"
     ]
    },
    {
     "name": "stderr",
     "output_type": "stream",
     "text": [
      "100%|██████████| 43/43 [00:13<00:00,  3.07it/s]\n",
      "/var/folders/1b/dx8_94fs0q740wx3lfknk6y40000gn/T/ipykernel_42031/3950971282.py:3: SettingWithCopyWarning: \n",
      "A value is trying to be set on a copy of a slice from a DataFrame.\n",
      "Try using .loc[row_indexer,col_indexer] = value instead\n",
      "\n",
      "See the caveats in the documentation: https://pandas.pydata.org/pandas-docs/stable/user_guide/indexing.html#returning-a-view-versus-a-copy\n",
      "  tmp['keyword'] = tmp.msg.progress_apply(lambda x: kw_model.extract_keywords(x, keyphrase_ngram_range=(2,4), use_maxsum = True, top_n = 1))\n"
     ]
    },
    {
     "name": "stdout",
     "output_type": "stream",
     "text": [
      "{i} complete\n"
     ]
    },
    {
     "name": "stderr",
     "output_type": "stream",
     "text": [
      "100%|██████████| 43/43 [00:14<00:00,  2.91it/s]\n",
      "/var/folders/1b/dx8_94fs0q740wx3lfknk6y40000gn/T/ipykernel_42031/3950971282.py:3: SettingWithCopyWarning: \n",
      "A value is trying to be set on a copy of a slice from a DataFrame.\n",
      "Try using .loc[row_indexer,col_indexer] = value instead\n",
      "\n",
      "See the caveats in the documentation: https://pandas.pydata.org/pandas-docs/stable/user_guide/indexing.html#returning-a-view-versus-a-copy\n",
      "  tmp['keyword'] = tmp.msg.progress_apply(lambda x: kw_model.extract_keywords(x, keyphrase_ngram_range=(2,4), use_maxsum = True, top_n = 1))\n"
     ]
    },
    {
     "name": "stdout",
     "output_type": "stream",
     "text": [
      "{i} complete\n"
     ]
    },
    {
     "name": "stderr",
     "output_type": "stream",
     "text": [
      "100%|██████████| 42/42 [00:15<00:00,  2.77it/s]\n",
      "/var/folders/1b/dx8_94fs0q740wx3lfknk6y40000gn/T/ipykernel_42031/3950971282.py:3: SettingWithCopyWarning: \n",
      "A value is trying to be set on a copy of a slice from a DataFrame.\n",
      "Try using .loc[row_indexer,col_indexer] = value instead\n",
      "\n",
      "See the caveats in the documentation: https://pandas.pydata.org/pandas-docs/stable/user_guide/indexing.html#returning-a-view-versus-a-copy\n",
      "  tmp['keyword'] = tmp.msg.progress_apply(lambda x: kw_model.extract_keywords(x, keyphrase_ngram_range=(2,4), use_maxsum = True, top_n = 1))\n"
     ]
    },
    {
     "name": "stdout",
     "output_type": "stream",
     "text": [
      "{i} complete\n"
     ]
    },
    {
     "name": "stderr",
     "output_type": "stream",
     "text": [
      "100%|██████████| 42/42 [00:14<00:00,  2.85it/s]\n",
      "/var/folders/1b/dx8_94fs0q740wx3lfknk6y40000gn/T/ipykernel_42031/3950971282.py:3: SettingWithCopyWarning: \n",
      "A value is trying to be set on a copy of a slice from a DataFrame.\n",
      "Try using .loc[row_indexer,col_indexer] = value instead\n",
      "\n",
      "See the caveats in the documentation: https://pandas.pydata.org/pandas-docs/stable/user_guide/indexing.html#returning-a-view-versus-a-copy\n",
      "  tmp['keyword'] = tmp.msg.progress_apply(lambda x: kw_model.extract_keywords(x, keyphrase_ngram_range=(2,4), use_maxsum = True, top_n = 1))\n"
     ]
    },
    {
     "name": "stdout",
     "output_type": "stream",
     "text": [
      "{i} complete\n"
     ]
    },
    {
     "name": "stderr",
     "output_type": "stream",
     "text": [
      "100%|██████████| 42/42 [00:24<00:00,  1.68it/s]\n",
      "/var/folders/1b/dx8_94fs0q740wx3lfknk6y40000gn/T/ipykernel_42031/3950971282.py:3: SettingWithCopyWarning: \n",
      "A value is trying to be set on a copy of a slice from a DataFrame.\n",
      "Try using .loc[row_indexer,col_indexer] = value instead\n",
      "\n",
      "See the caveats in the documentation: https://pandas.pydata.org/pandas-docs/stable/user_guide/indexing.html#returning-a-view-versus-a-copy\n",
      "  tmp['keyword'] = tmp.msg.progress_apply(lambda x: kw_model.extract_keywords(x, keyphrase_ngram_range=(2,4), use_maxsum = True, top_n = 1))\n"
     ]
    },
    {
     "name": "stdout",
     "output_type": "stream",
     "text": [
      "{i} complete\n"
     ]
    },
    {
     "name": "stderr",
     "output_type": "stream",
     "text": [
      "100%|██████████| 42/42 [00:14<00:00,  2.81it/s]\n",
      "/var/folders/1b/dx8_94fs0q740wx3lfknk6y40000gn/T/ipykernel_42031/3950971282.py:3: SettingWithCopyWarning: \n",
      "A value is trying to be set on a copy of a slice from a DataFrame.\n",
      "Try using .loc[row_indexer,col_indexer] = value instead\n",
      "\n",
      "See the caveats in the documentation: https://pandas.pydata.org/pandas-docs/stable/user_guide/indexing.html#returning-a-view-versus-a-copy\n",
      "  tmp['keyword'] = tmp.msg.progress_apply(lambda x: kw_model.extract_keywords(x, keyphrase_ngram_range=(2,4), use_maxsum = True, top_n = 1))\n"
     ]
    },
    {
     "name": "stdout",
     "output_type": "stream",
     "text": [
      "{i} complete\n"
     ]
    },
    {
     "name": "stderr",
     "output_type": "stream",
     "text": [
      "100%|██████████| 41/41 [00:13<00:00,  3.05it/s]\n",
      "/var/folders/1b/dx8_94fs0q740wx3lfknk6y40000gn/T/ipykernel_42031/3950971282.py:3: SettingWithCopyWarning: \n",
      "A value is trying to be set on a copy of a slice from a DataFrame.\n",
      "Try using .loc[row_indexer,col_indexer] = value instead\n",
      "\n",
      "See the caveats in the documentation: https://pandas.pydata.org/pandas-docs/stable/user_guide/indexing.html#returning-a-view-versus-a-copy\n",
      "  tmp['keyword'] = tmp.msg.progress_apply(lambda x: kw_model.extract_keywords(x, keyphrase_ngram_range=(2,4), use_maxsum = True, top_n = 1))\n"
     ]
    },
    {
     "name": "stdout",
     "output_type": "stream",
     "text": [
      "{i} complete\n"
     ]
    },
    {
     "name": "stderr",
     "output_type": "stream",
     "text": [
      "100%|██████████| 41/41 [00:14<00:00,  2.85it/s]\n",
      "/var/folders/1b/dx8_94fs0q740wx3lfknk6y40000gn/T/ipykernel_42031/3950971282.py:3: SettingWithCopyWarning: \n",
      "A value is trying to be set on a copy of a slice from a DataFrame.\n",
      "Try using .loc[row_indexer,col_indexer] = value instead\n",
      "\n",
      "See the caveats in the documentation: https://pandas.pydata.org/pandas-docs/stable/user_guide/indexing.html#returning-a-view-versus-a-copy\n",
      "  tmp['keyword'] = tmp.msg.progress_apply(lambda x: kw_model.extract_keywords(x, keyphrase_ngram_range=(2,4), use_maxsum = True, top_n = 1))\n"
     ]
    },
    {
     "name": "stdout",
     "output_type": "stream",
     "text": [
      "{i} complete\n"
     ]
    },
    {
     "name": "stderr",
     "output_type": "stream",
     "text": [
      "100%|██████████| 41/41 [00:14<00:00,  2.83it/s]\n",
      "/var/folders/1b/dx8_94fs0q740wx3lfknk6y40000gn/T/ipykernel_42031/3950971282.py:3: SettingWithCopyWarning: \n",
      "A value is trying to be set on a copy of a slice from a DataFrame.\n",
      "Try using .loc[row_indexer,col_indexer] = value instead\n",
      "\n",
      "See the caveats in the documentation: https://pandas.pydata.org/pandas-docs/stable/user_guide/indexing.html#returning-a-view-versus-a-copy\n",
      "  tmp['keyword'] = tmp.msg.progress_apply(lambda x: kw_model.extract_keywords(x, keyphrase_ngram_range=(2,4), use_maxsum = True, top_n = 1))\n"
     ]
    },
    {
     "name": "stdout",
     "output_type": "stream",
     "text": [
      "{i} complete\n"
     ]
    },
    {
     "name": "stderr",
     "output_type": "stream",
     "text": [
      "100%|██████████| 41/41 [07:21<00:00, 10.77s/it] \n",
      "/var/folders/1b/dx8_94fs0q740wx3lfknk6y40000gn/T/ipykernel_42031/3950971282.py:3: SettingWithCopyWarning: \n",
      "A value is trying to be set on a copy of a slice from a DataFrame.\n",
      "Try using .loc[row_indexer,col_indexer] = value instead\n",
      "\n",
      "See the caveats in the documentation: https://pandas.pydata.org/pandas-docs/stable/user_guide/indexing.html#returning-a-view-versus-a-copy\n",
      "  tmp['keyword'] = tmp.msg.progress_apply(lambda x: kw_model.extract_keywords(x, keyphrase_ngram_range=(2,4), use_maxsum = True, top_n = 1))\n"
     ]
    },
    {
     "name": "stdout",
     "output_type": "stream",
     "text": [
      "{i} complete\n"
     ]
    },
    {
     "name": "stderr",
     "output_type": "stream",
     "text": [
      "100%|██████████| 41/41 [00:13<00:00,  2.94it/s]\n",
      "/var/folders/1b/dx8_94fs0q740wx3lfknk6y40000gn/T/ipykernel_42031/3950971282.py:3: SettingWithCopyWarning: \n",
      "A value is trying to be set on a copy of a slice from a DataFrame.\n",
      "Try using .loc[row_indexer,col_indexer] = value instead\n",
      "\n",
      "See the caveats in the documentation: https://pandas.pydata.org/pandas-docs/stable/user_guide/indexing.html#returning-a-view-versus-a-copy\n",
      "  tmp['keyword'] = tmp.msg.progress_apply(lambda x: kw_model.extract_keywords(x, keyphrase_ngram_range=(2,4), use_maxsum = True, top_n = 1))\n"
     ]
    },
    {
     "name": "stdout",
     "output_type": "stream",
     "text": [
      "{i} complete\n"
     ]
    },
    {
     "name": "stderr",
     "output_type": "stream",
     "text": [
      "100%|██████████| 40/40 [00:13<00:00,  2.97it/s]\n",
      "/var/folders/1b/dx8_94fs0q740wx3lfknk6y40000gn/T/ipykernel_42031/3950971282.py:3: SettingWithCopyWarning: \n",
      "A value is trying to be set on a copy of a slice from a DataFrame.\n",
      "Try using .loc[row_indexer,col_indexer] = value instead\n",
      "\n",
      "See the caveats in the documentation: https://pandas.pydata.org/pandas-docs/stable/user_guide/indexing.html#returning-a-view-versus-a-copy\n",
      "  tmp['keyword'] = tmp.msg.progress_apply(lambda x: kw_model.extract_keywords(x, keyphrase_ngram_range=(2,4), use_maxsum = True, top_n = 1))\n"
     ]
    },
    {
     "name": "stdout",
     "output_type": "stream",
     "text": [
      "{i} complete\n"
     ]
    },
    {
     "name": "stderr",
     "output_type": "stream",
     "text": [
      "100%|██████████| 40/40 [00:13<00:00,  2.91it/s]\n",
      "/var/folders/1b/dx8_94fs0q740wx3lfknk6y40000gn/T/ipykernel_42031/3950971282.py:3: SettingWithCopyWarning: \n",
      "A value is trying to be set on a copy of a slice from a DataFrame.\n",
      "Try using .loc[row_indexer,col_indexer] = value instead\n",
      "\n",
      "See the caveats in the documentation: https://pandas.pydata.org/pandas-docs/stable/user_guide/indexing.html#returning-a-view-versus-a-copy\n",
      "  tmp['keyword'] = tmp.msg.progress_apply(lambda x: kw_model.extract_keywords(x, keyphrase_ngram_range=(2,4), use_maxsum = True, top_n = 1))\n"
     ]
    },
    {
     "name": "stdout",
     "output_type": "stream",
     "text": [
      "{i} complete\n"
     ]
    },
    {
     "name": "stderr",
     "output_type": "stream",
     "text": [
      "100%|██████████| 39/39 [00:12<00:00,  3.14it/s]\n",
      "/var/folders/1b/dx8_94fs0q740wx3lfknk6y40000gn/T/ipykernel_42031/3950971282.py:3: SettingWithCopyWarning: \n",
      "A value is trying to be set on a copy of a slice from a DataFrame.\n",
      "Try using .loc[row_indexer,col_indexer] = value instead\n",
      "\n",
      "See the caveats in the documentation: https://pandas.pydata.org/pandas-docs/stable/user_guide/indexing.html#returning-a-view-versus-a-copy\n",
      "  tmp['keyword'] = tmp.msg.progress_apply(lambda x: kw_model.extract_keywords(x, keyphrase_ngram_range=(2,4), use_maxsum = True, top_n = 1))\n"
     ]
    },
    {
     "name": "stdout",
     "output_type": "stream",
     "text": [
      "{i} complete\n"
     ]
    },
    {
     "name": "stderr",
     "output_type": "stream",
     "text": [
      "100%|██████████| 38/38 [17:29<00:00, 27.62s/it] \n",
      "/var/folders/1b/dx8_94fs0q740wx3lfknk6y40000gn/T/ipykernel_42031/3950971282.py:3: SettingWithCopyWarning: \n",
      "A value is trying to be set on a copy of a slice from a DataFrame.\n",
      "Try using .loc[row_indexer,col_indexer] = value instead\n",
      "\n",
      "See the caveats in the documentation: https://pandas.pydata.org/pandas-docs/stable/user_guide/indexing.html#returning-a-view-versus-a-copy\n",
      "  tmp['keyword'] = tmp.msg.progress_apply(lambda x: kw_model.extract_keywords(x, keyphrase_ngram_range=(2,4), use_maxsum = True, top_n = 1))\n"
     ]
    },
    {
     "name": "stdout",
     "output_type": "stream",
     "text": [
      "{i} complete\n"
     ]
    },
    {
     "name": "stderr",
     "output_type": "stream",
     "text": [
      "100%|██████████| 38/38 [00:12<00:00,  3.00it/s]\n",
      "/var/folders/1b/dx8_94fs0q740wx3lfknk6y40000gn/T/ipykernel_42031/3950971282.py:3: SettingWithCopyWarning: \n",
      "A value is trying to be set on a copy of a slice from a DataFrame.\n",
      "Try using .loc[row_indexer,col_indexer] = value instead\n",
      "\n",
      "See the caveats in the documentation: https://pandas.pydata.org/pandas-docs/stable/user_guide/indexing.html#returning-a-view-versus-a-copy\n",
      "  tmp['keyword'] = tmp.msg.progress_apply(lambda x: kw_model.extract_keywords(x, keyphrase_ngram_range=(2,4), use_maxsum = True, top_n = 1))\n"
     ]
    },
    {
     "name": "stdout",
     "output_type": "stream",
     "text": [
      "{i} complete\n"
     ]
    },
    {
     "name": "stderr",
     "output_type": "stream",
     "text": [
      "100%|██████████| 37/37 [00:12<00:00,  3.05it/s]\n",
      "/var/folders/1b/dx8_94fs0q740wx3lfknk6y40000gn/T/ipykernel_42031/3950971282.py:3: SettingWithCopyWarning: \n",
      "A value is trying to be set on a copy of a slice from a DataFrame.\n",
      "Try using .loc[row_indexer,col_indexer] = value instead\n",
      "\n",
      "See the caveats in the documentation: https://pandas.pydata.org/pandas-docs/stable/user_guide/indexing.html#returning-a-view-versus-a-copy\n",
      "  tmp['keyword'] = tmp.msg.progress_apply(lambda x: kw_model.extract_keywords(x, keyphrase_ngram_range=(2,4), use_maxsum = True, top_n = 1))\n"
     ]
    },
    {
     "name": "stdout",
     "output_type": "stream",
     "text": [
      "{i} complete\n"
     ]
    },
    {
     "name": "stderr",
     "output_type": "stream",
     "text": [
      "100%|██████████| 37/37 [00:12<00:00,  2.97it/s]\n",
      "/var/folders/1b/dx8_94fs0q740wx3lfknk6y40000gn/T/ipykernel_42031/3950971282.py:3: SettingWithCopyWarning: \n",
      "A value is trying to be set on a copy of a slice from a DataFrame.\n",
      "Try using .loc[row_indexer,col_indexer] = value instead\n",
      "\n",
      "See the caveats in the documentation: https://pandas.pydata.org/pandas-docs/stable/user_guide/indexing.html#returning-a-view-versus-a-copy\n",
      "  tmp['keyword'] = tmp.msg.progress_apply(lambda x: kw_model.extract_keywords(x, keyphrase_ngram_range=(2,4), use_maxsum = True, top_n = 1))\n"
     ]
    },
    {
     "name": "stdout",
     "output_type": "stream",
     "text": [
      "{i} complete\n"
     ]
    },
    {
     "name": "stderr",
     "output_type": "stream",
     "text": [
      "100%|██████████| 37/37 [01:26<00:00,  2.35s/it]\n",
      "/var/folders/1b/dx8_94fs0q740wx3lfknk6y40000gn/T/ipykernel_42031/3950971282.py:3: SettingWithCopyWarning: \n",
      "A value is trying to be set on a copy of a slice from a DataFrame.\n",
      "Try using .loc[row_indexer,col_indexer] = value instead\n",
      "\n",
      "See the caveats in the documentation: https://pandas.pydata.org/pandas-docs/stable/user_guide/indexing.html#returning-a-view-versus-a-copy\n",
      "  tmp['keyword'] = tmp.msg.progress_apply(lambda x: kw_model.extract_keywords(x, keyphrase_ngram_range=(2,4), use_maxsum = True, top_n = 1))\n"
     ]
    },
    {
     "name": "stdout",
     "output_type": "stream",
     "text": [
      "{i} complete\n"
     ]
    },
    {
     "name": "stderr",
     "output_type": "stream",
     "text": [
      "100%|██████████| 37/37 [00:12<00:00,  3.03it/s]\n",
      "/var/folders/1b/dx8_94fs0q740wx3lfknk6y40000gn/T/ipykernel_42031/3950971282.py:3: SettingWithCopyWarning: \n",
      "A value is trying to be set on a copy of a slice from a DataFrame.\n",
      "Try using .loc[row_indexer,col_indexer] = value instead\n",
      "\n",
      "See the caveats in the documentation: https://pandas.pydata.org/pandas-docs/stable/user_guide/indexing.html#returning-a-view-versus-a-copy\n",
      "  tmp['keyword'] = tmp.msg.progress_apply(lambda x: kw_model.extract_keywords(x, keyphrase_ngram_range=(2,4), use_maxsum = True, top_n = 1))\n"
     ]
    },
    {
     "name": "stdout",
     "output_type": "stream",
     "text": [
      "{i} complete\n"
     ]
    },
    {
     "name": "stderr",
     "output_type": "stream",
     "text": [
      "100%|██████████| 36/36 [00:11<00:00,  3.16it/s]\n",
      "/var/folders/1b/dx8_94fs0q740wx3lfknk6y40000gn/T/ipykernel_42031/3950971282.py:3: SettingWithCopyWarning: \n",
      "A value is trying to be set on a copy of a slice from a DataFrame.\n",
      "Try using .loc[row_indexer,col_indexer] = value instead\n",
      "\n",
      "See the caveats in the documentation: https://pandas.pydata.org/pandas-docs/stable/user_guide/indexing.html#returning-a-view-versus-a-copy\n",
      "  tmp['keyword'] = tmp.msg.progress_apply(lambda x: kw_model.extract_keywords(x, keyphrase_ngram_range=(2,4), use_maxsum = True, top_n = 1))\n"
     ]
    },
    {
     "name": "stdout",
     "output_type": "stream",
     "text": [
      "{i} complete\n"
     ]
    },
    {
     "name": "stderr",
     "output_type": "stream",
     "text": [
      "100%|██████████| 36/36 [00:11<00:00,  3.23it/s]\n",
      "/var/folders/1b/dx8_94fs0q740wx3lfknk6y40000gn/T/ipykernel_42031/3950971282.py:3: SettingWithCopyWarning: \n",
      "A value is trying to be set on a copy of a slice from a DataFrame.\n",
      "Try using .loc[row_indexer,col_indexer] = value instead\n",
      "\n",
      "See the caveats in the documentation: https://pandas.pydata.org/pandas-docs/stable/user_guide/indexing.html#returning-a-view-versus-a-copy\n",
      "  tmp['keyword'] = tmp.msg.progress_apply(lambda x: kw_model.extract_keywords(x, keyphrase_ngram_range=(2,4), use_maxsum = True, top_n = 1))\n"
     ]
    },
    {
     "name": "stdout",
     "output_type": "stream",
     "text": [
      "{i} complete\n"
     ]
    },
    {
     "name": "stderr",
     "output_type": "stream",
     "text": [
      "100%|██████████| 35/35 [00:12<00:00,  2.86it/s]\n",
      "/var/folders/1b/dx8_94fs0q740wx3lfknk6y40000gn/T/ipykernel_42031/3950971282.py:3: SettingWithCopyWarning: \n",
      "A value is trying to be set on a copy of a slice from a DataFrame.\n",
      "Try using .loc[row_indexer,col_indexer] = value instead\n",
      "\n",
      "See the caveats in the documentation: https://pandas.pydata.org/pandas-docs/stable/user_guide/indexing.html#returning-a-view-versus-a-copy\n",
      "  tmp['keyword'] = tmp.msg.progress_apply(lambda x: kw_model.extract_keywords(x, keyphrase_ngram_range=(2,4), use_maxsum = True, top_n = 1))\n"
     ]
    },
    {
     "name": "stdout",
     "output_type": "stream",
     "text": [
      "{i} complete\n"
     ]
    },
    {
     "name": "stderr",
     "output_type": "stream",
     "text": [
      "100%|██████████| 35/35 [00:12<00:00,  2.80it/s]\n",
      "/var/folders/1b/dx8_94fs0q740wx3lfknk6y40000gn/T/ipykernel_42031/3950971282.py:3: SettingWithCopyWarning: \n",
      "A value is trying to be set on a copy of a slice from a DataFrame.\n",
      "Try using .loc[row_indexer,col_indexer] = value instead\n",
      "\n",
      "See the caveats in the documentation: https://pandas.pydata.org/pandas-docs/stable/user_guide/indexing.html#returning-a-view-versus-a-copy\n",
      "  tmp['keyword'] = tmp.msg.progress_apply(lambda x: kw_model.extract_keywords(x, keyphrase_ngram_range=(2,4), use_maxsum = True, top_n = 1))\n"
     ]
    },
    {
     "name": "stdout",
     "output_type": "stream",
     "text": [
      "{i} complete\n"
     ]
    },
    {
     "name": "stderr",
     "output_type": "stream",
     "text": [
      "100%|██████████| 35/35 [00:10<00:00,  3.28it/s]\n",
      "/var/folders/1b/dx8_94fs0q740wx3lfknk6y40000gn/T/ipykernel_42031/3950971282.py:3: SettingWithCopyWarning: \n",
      "A value is trying to be set on a copy of a slice from a DataFrame.\n",
      "Try using .loc[row_indexer,col_indexer] = value instead\n",
      "\n",
      "See the caveats in the documentation: https://pandas.pydata.org/pandas-docs/stable/user_guide/indexing.html#returning-a-view-versus-a-copy\n",
      "  tmp['keyword'] = tmp.msg.progress_apply(lambda x: kw_model.extract_keywords(x, keyphrase_ngram_range=(2,4), use_maxsum = True, top_n = 1))\n"
     ]
    },
    {
     "name": "stdout",
     "output_type": "stream",
     "text": [
      "{i} complete\n"
     ]
    },
    {
     "name": "stderr",
     "output_type": "stream",
     "text": [
      "100%|██████████| 35/35 [00:10<00:00,  3.24it/s]\n",
      "/var/folders/1b/dx8_94fs0q740wx3lfknk6y40000gn/T/ipykernel_42031/3950971282.py:3: SettingWithCopyWarning: \n",
      "A value is trying to be set on a copy of a slice from a DataFrame.\n",
      "Try using .loc[row_indexer,col_indexer] = value instead\n",
      "\n",
      "See the caveats in the documentation: https://pandas.pydata.org/pandas-docs/stable/user_guide/indexing.html#returning-a-view-versus-a-copy\n",
      "  tmp['keyword'] = tmp.msg.progress_apply(lambda x: kw_model.extract_keywords(x, keyphrase_ngram_range=(2,4), use_maxsum = True, top_n = 1))\n"
     ]
    },
    {
     "name": "stdout",
     "output_type": "stream",
     "text": [
      "{i} complete\n"
     ]
    },
    {
     "name": "stderr",
     "output_type": "stream",
     "text": [
      "100%|██████████| 35/35 [00:12<00:00,  2.87it/s]\n",
      "/var/folders/1b/dx8_94fs0q740wx3lfknk6y40000gn/T/ipykernel_42031/3950971282.py:3: SettingWithCopyWarning: \n",
      "A value is trying to be set on a copy of a slice from a DataFrame.\n",
      "Try using .loc[row_indexer,col_indexer] = value instead\n",
      "\n",
      "See the caveats in the documentation: https://pandas.pydata.org/pandas-docs/stable/user_guide/indexing.html#returning-a-view-versus-a-copy\n",
      "  tmp['keyword'] = tmp.msg.progress_apply(lambda x: kw_model.extract_keywords(x, keyphrase_ngram_range=(2,4), use_maxsum = True, top_n = 1))\n"
     ]
    },
    {
     "name": "stdout",
     "output_type": "stream",
     "text": [
      "{i} complete\n"
     ]
    },
    {
     "name": "stderr",
     "output_type": "stream",
     "text": [
      "100%|██████████| 34/34 [00:11<00:00,  2.87it/s]\n",
      "/var/folders/1b/dx8_94fs0q740wx3lfknk6y40000gn/T/ipykernel_42031/3950971282.py:3: SettingWithCopyWarning: \n",
      "A value is trying to be set on a copy of a slice from a DataFrame.\n",
      "Try using .loc[row_indexer,col_indexer] = value instead\n",
      "\n",
      "See the caveats in the documentation: https://pandas.pydata.org/pandas-docs/stable/user_guide/indexing.html#returning-a-view-versus-a-copy\n",
      "  tmp['keyword'] = tmp.msg.progress_apply(lambda x: kw_model.extract_keywords(x, keyphrase_ngram_range=(2,4), use_maxsum = True, top_n = 1))\n"
     ]
    },
    {
     "name": "stdout",
     "output_type": "stream",
     "text": [
      "{i} complete\n"
     ]
    },
    {
     "name": "stderr",
     "output_type": "stream",
     "text": [
      "100%|██████████| 34/34 [00:11<00:00,  3.00it/s]\n",
      "/var/folders/1b/dx8_94fs0q740wx3lfknk6y40000gn/T/ipykernel_42031/3950971282.py:3: SettingWithCopyWarning: \n",
      "A value is trying to be set on a copy of a slice from a DataFrame.\n",
      "Try using .loc[row_indexer,col_indexer] = value instead\n",
      "\n",
      "See the caveats in the documentation: https://pandas.pydata.org/pandas-docs/stable/user_guide/indexing.html#returning-a-view-versus-a-copy\n",
      "  tmp['keyword'] = tmp.msg.progress_apply(lambda x: kw_model.extract_keywords(x, keyphrase_ngram_range=(2,4), use_maxsum = True, top_n = 1))\n"
     ]
    },
    {
     "name": "stdout",
     "output_type": "stream",
     "text": [
      "{i} complete\n"
     ]
    },
    {
     "name": "stderr",
     "output_type": "stream",
     "text": [
      "100%|██████████| 33/33 [00:10<00:00,  3.08it/s]\n",
      "/var/folders/1b/dx8_94fs0q740wx3lfknk6y40000gn/T/ipykernel_42031/3950971282.py:3: SettingWithCopyWarning: \n",
      "A value is trying to be set on a copy of a slice from a DataFrame.\n",
      "Try using .loc[row_indexer,col_indexer] = value instead\n",
      "\n",
      "See the caveats in the documentation: https://pandas.pydata.org/pandas-docs/stable/user_guide/indexing.html#returning-a-view-versus-a-copy\n",
      "  tmp['keyword'] = tmp.msg.progress_apply(lambda x: kw_model.extract_keywords(x, keyphrase_ngram_range=(2,4), use_maxsum = True, top_n = 1))\n"
     ]
    },
    {
     "name": "stdout",
     "output_type": "stream",
     "text": [
      "{i} complete\n"
     ]
    },
    {
     "name": "stderr",
     "output_type": "stream",
     "text": [
      "100%|██████████| 33/33 [00:11<00:00,  2.99it/s]\n",
      "/var/folders/1b/dx8_94fs0q740wx3lfknk6y40000gn/T/ipykernel_42031/3950971282.py:3: SettingWithCopyWarning: \n",
      "A value is trying to be set on a copy of a slice from a DataFrame.\n",
      "Try using .loc[row_indexer,col_indexer] = value instead\n",
      "\n",
      "See the caveats in the documentation: https://pandas.pydata.org/pandas-docs/stable/user_guide/indexing.html#returning-a-view-versus-a-copy\n",
      "  tmp['keyword'] = tmp.msg.progress_apply(lambda x: kw_model.extract_keywords(x, keyphrase_ngram_range=(2,4), use_maxsum = True, top_n = 1))\n"
     ]
    },
    {
     "name": "stdout",
     "output_type": "stream",
     "text": [
      "{i} complete\n"
     ]
    },
    {
     "name": "stderr",
     "output_type": "stream",
     "text": [
      "100%|██████████| 33/33 [00:11<00:00,  2.91it/s]\n",
      "/var/folders/1b/dx8_94fs0q740wx3lfknk6y40000gn/T/ipykernel_42031/3950971282.py:3: SettingWithCopyWarning: \n",
      "A value is trying to be set on a copy of a slice from a DataFrame.\n",
      "Try using .loc[row_indexer,col_indexer] = value instead\n",
      "\n",
      "See the caveats in the documentation: https://pandas.pydata.org/pandas-docs/stable/user_guide/indexing.html#returning-a-view-versus-a-copy\n",
      "  tmp['keyword'] = tmp.msg.progress_apply(lambda x: kw_model.extract_keywords(x, keyphrase_ngram_range=(2,4), use_maxsum = True, top_n = 1))\n"
     ]
    },
    {
     "name": "stdout",
     "output_type": "stream",
     "text": [
      "{i} complete\n"
     ]
    },
    {
     "name": "stderr",
     "output_type": "stream",
     "text": [
      "100%|██████████| 32/32 [00:09<00:00,  3.20it/s]\n",
      "/var/folders/1b/dx8_94fs0q740wx3lfknk6y40000gn/T/ipykernel_42031/3950971282.py:3: SettingWithCopyWarning: \n",
      "A value is trying to be set on a copy of a slice from a DataFrame.\n",
      "Try using .loc[row_indexer,col_indexer] = value instead\n",
      "\n",
      "See the caveats in the documentation: https://pandas.pydata.org/pandas-docs/stable/user_guide/indexing.html#returning-a-view-versus-a-copy\n",
      "  tmp['keyword'] = tmp.msg.progress_apply(lambda x: kw_model.extract_keywords(x, keyphrase_ngram_range=(2,4), use_maxsum = True, top_n = 1))\n"
     ]
    },
    {
     "name": "stdout",
     "output_type": "stream",
     "text": [
      "{i} complete\n"
     ]
    },
    {
     "name": "stderr",
     "output_type": "stream",
     "text": [
      "100%|██████████| 31/31 [00:10<00:00,  2.87it/s]\n",
      "/var/folders/1b/dx8_94fs0q740wx3lfknk6y40000gn/T/ipykernel_42031/3950971282.py:3: SettingWithCopyWarning: \n",
      "A value is trying to be set on a copy of a slice from a DataFrame.\n",
      "Try using .loc[row_indexer,col_indexer] = value instead\n",
      "\n",
      "See the caveats in the documentation: https://pandas.pydata.org/pandas-docs/stable/user_guide/indexing.html#returning-a-view-versus-a-copy\n",
      "  tmp['keyword'] = tmp.msg.progress_apply(lambda x: kw_model.extract_keywords(x, keyphrase_ngram_range=(2,4), use_maxsum = True, top_n = 1))\n"
     ]
    },
    {
     "name": "stdout",
     "output_type": "stream",
     "text": [
      "{i} complete\n"
     ]
    },
    {
     "name": "stderr",
     "output_type": "stream",
     "text": [
      "100%|██████████| 31/31 [00:02<00:00, 13.33it/s]\n",
      "/var/folders/1b/dx8_94fs0q740wx3lfknk6y40000gn/T/ipykernel_42031/3950971282.py:3: SettingWithCopyWarning: \n",
      "A value is trying to be set on a copy of a slice from a DataFrame.\n",
      "Try using .loc[row_indexer,col_indexer] = value instead\n",
      "\n",
      "See the caveats in the documentation: https://pandas.pydata.org/pandas-docs/stable/user_guide/indexing.html#returning-a-view-versus-a-copy\n",
      "  tmp['keyword'] = tmp.msg.progress_apply(lambda x: kw_model.extract_keywords(x, keyphrase_ngram_range=(2,4), use_maxsum = True, top_n = 1))\n"
     ]
    },
    {
     "name": "stdout",
     "output_type": "stream",
     "text": [
      "{i} complete\n"
     ]
    },
    {
     "name": "stderr",
     "output_type": "stream",
     "text": [
      "100%|██████████| 31/31 [00:10<00:00,  2.94it/s]\n",
      "/var/folders/1b/dx8_94fs0q740wx3lfknk6y40000gn/T/ipykernel_42031/3950971282.py:3: SettingWithCopyWarning: \n",
      "A value is trying to be set on a copy of a slice from a DataFrame.\n",
      "Try using .loc[row_indexer,col_indexer] = value instead\n",
      "\n",
      "See the caveats in the documentation: https://pandas.pydata.org/pandas-docs/stable/user_guide/indexing.html#returning-a-view-versus-a-copy\n",
      "  tmp['keyword'] = tmp.msg.progress_apply(lambda x: kw_model.extract_keywords(x, keyphrase_ngram_range=(2,4), use_maxsum = True, top_n = 1))\n"
     ]
    },
    {
     "name": "stdout",
     "output_type": "stream",
     "text": [
      "{i} complete\n"
     ]
    },
    {
     "name": "stderr",
     "output_type": "stream",
     "text": [
      "100%|██████████| 30/30 [00:10<00:00,  2.88it/s]\n",
      "/var/folders/1b/dx8_94fs0q740wx3lfknk6y40000gn/T/ipykernel_42031/3950971282.py:3: SettingWithCopyWarning: \n",
      "A value is trying to be set on a copy of a slice from a DataFrame.\n",
      "Try using .loc[row_indexer,col_indexer] = value instead\n",
      "\n",
      "See the caveats in the documentation: https://pandas.pydata.org/pandas-docs/stable/user_guide/indexing.html#returning-a-view-versus-a-copy\n",
      "  tmp['keyword'] = tmp.msg.progress_apply(lambda x: kw_model.extract_keywords(x, keyphrase_ngram_range=(2,4), use_maxsum = True, top_n = 1))\n"
     ]
    },
    {
     "name": "stdout",
     "output_type": "stream",
     "text": [
      "{i} complete\n"
     ]
    },
    {
     "name": "stderr",
     "output_type": "stream",
     "text": [
      "100%|██████████| 30/30 [00:07<00:00,  4.18it/s]\n",
      "/var/folders/1b/dx8_94fs0q740wx3lfknk6y40000gn/T/ipykernel_42031/3950971282.py:3: SettingWithCopyWarning: \n",
      "A value is trying to be set on a copy of a slice from a DataFrame.\n",
      "Try using .loc[row_indexer,col_indexer] = value instead\n",
      "\n",
      "See the caveats in the documentation: https://pandas.pydata.org/pandas-docs/stable/user_guide/indexing.html#returning-a-view-versus-a-copy\n",
      "  tmp['keyword'] = tmp.msg.progress_apply(lambda x: kw_model.extract_keywords(x, keyphrase_ngram_range=(2,4), use_maxsum = True, top_n = 1))\n"
     ]
    },
    {
     "name": "stdout",
     "output_type": "stream",
     "text": [
      "{i} complete\n"
     ]
    },
    {
     "name": "stderr",
     "output_type": "stream",
     "text": [
      "100%|██████████| 30/30 [00:10<00:00,  2.99it/s]\n",
      "/var/folders/1b/dx8_94fs0q740wx3lfknk6y40000gn/T/ipykernel_42031/3950971282.py:3: SettingWithCopyWarning: \n",
      "A value is trying to be set on a copy of a slice from a DataFrame.\n",
      "Try using .loc[row_indexer,col_indexer] = value instead\n",
      "\n",
      "See the caveats in the documentation: https://pandas.pydata.org/pandas-docs/stable/user_guide/indexing.html#returning-a-view-versus-a-copy\n",
      "  tmp['keyword'] = tmp.msg.progress_apply(lambda x: kw_model.extract_keywords(x, keyphrase_ngram_range=(2,4), use_maxsum = True, top_n = 1))\n"
     ]
    },
    {
     "name": "stdout",
     "output_type": "stream",
     "text": [
      "{i} complete\n"
     ]
    },
    {
     "name": "stderr",
     "output_type": "stream",
     "text": [
      "100%|██████████| 30/30 [00:17<00:00,  1.72it/s]\n",
      "/var/folders/1b/dx8_94fs0q740wx3lfknk6y40000gn/T/ipykernel_42031/3950971282.py:3: SettingWithCopyWarning: \n",
      "A value is trying to be set on a copy of a slice from a DataFrame.\n",
      "Try using .loc[row_indexer,col_indexer] = value instead\n",
      "\n",
      "See the caveats in the documentation: https://pandas.pydata.org/pandas-docs/stable/user_guide/indexing.html#returning-a-view-versus-a-copy\n",
      "  tmp['keyword'] = tmp.msg.progress_apply(lambda x: kw_model.extract_keywords(x, keyphrase_ngram_range=(2,4), use_maxsum = True, top_n = 1))\n"
     ]
    },
    {
     "name": "stdout",
     "output_type": "stream",
     "text": [
      "{i} complete\n"
     ]
    },
    {
     "name": "stderr",
     "output_type": "stream",
     "text": [
      "100%|██████████| 29/29 [00:10<00:00,  2.78it/s]\n",
      "/var/folders/1b/dx8_94fs0q740wx3lfknk6y40000gn/T/ipykernel_42031/3950971282.py:3: SettingWithCopyWarning: \n",
      "A value is trying to be set on a copy of a slice from a DataFrame.\n",
      "Try using .loc[row_indexer,col_indexer] = value instead\n",
      "\n",
      "See the caveats in the documentation: https://pandas.pydata.org/pandas-docs/stable/user_guide/indexing.html#returning-a-view-versus-a-copy\n",
      "  tmp['keyword'] = tmp.msg.progress_apply(lambda x: kw_model.extract_keywords(x, keyphrase_ngram_range=(2,4), use_maxsum = True, top_n = 1))\n"
     ]
    },
    {
     "name": "stdout",
     "output_type": "stream",
     "text": [
      "{i} complete\n"
     ]
    },
    {
     "name": "stderr",
     "output_type": "stream",
     "text": [
      "100%|██████████| 29/29 [00:08<00:00,  3.33it/s]\n",
      "/var/folders/1b/dx8_94fs0q740wx3lfknk6y40000gn/T/ipykernel_42031/3950971282.py:3: SettingWithCopyWarning: \n",
      "A value is trying to be set on a copy of a slice from a DataFrame.\n",
      "Try using .loc[row_indexer,col_indexer] = value instead\n",
      "\n",
      "See the caveats in the documentation: https://pandas.pydata.org/pandas-docs/stable/user_guide/indexing.html#returning-a-view-versus-a-copy\n",
      "  tmp['keyword'] = tmp.msg.progress_apply(lambda x: kw_model.extract_keywords(x, keyphrase_ngram_range=(2,4), use_maxsum = True, top_n = 1))\n"
     ]
    },
    {
     "name": "stdout",
     "output_type": "stream",
     "text": [
      "{i} complete\n"
     ]
    },
    {
     "name": "stderr",
     "output_type": "stream",
     "text": [
      "100%|██████████| 29/29 [00:09<00:00,  3.13it/s]\n",
      "/var/folders/1b/dx8_94fs0q740wx3lfknk6y40000gn/T/ipykernel_42031/3950971282.py:3: SettingWithCopyWarning: \n",
      "A value is trying to be set on a copy of a slice from a DataFrame.\n",
      "Try using .loc[row_indexer,col_indexer] = value instead\n",
      "\n",
      "See the caveats in the documentation: https://pandas.pydata.org/pandas-docs/stable/user_guide/indexing.html#returning-a-view-versus-a-copy\n",
      "  tmp['keyword'] = tmp.msg.progress_apply(lambda x: kw_model.extract_keywords(x, keyphrase_ngram_range=(2,4), use_maxsum = True, top_n = 1))\n"
     ]
    },
    {
     "name": "stdout",
     "output_type": "stream",
     "text": [
      "{i} complete\n"
     ]
    },
    {
     "name": "stderr",
     "output_type": "stream",
     "text": [
      "100%|██████████| 29/29 [07:13<00:00, 14.96s/it]\n",
      "/var/folders/1b/dx8_94fs0q740wx3lfknk6y40000gn/T/ipykernel_42031/3950971282.py:3: SettingWithCopyWarning: \n",
      "A value is trying to be set on a copy of a slice from a DataFrame.\n",
      "Try using .loc[row_indexer,col_indexer] = value instead\n",
      "\n",
      "See the caveats in the documentation: https://pandas.pydata.org/pandas-docs/stable/user_guide/indexing.html#returning-a-view-versus-a-copy\n",
      "  tmp['keyword'] = tmp.msg.progress_apply(lambda x: kw_model.extract_keywords(x, keyphrase_ngram_range=(2,4), use_maxsum = True, top_n = 1))\n"
     ]
    },
    {
     "name": "stdout",
     "output_type": "stream",
     "text": [
      "{i} complete\n"
     ]
    },
    {
     "name": "stderr",
     "output_type": "stream",
     "text": [
      "100%|██████████| 28/28 [00:06<00:00,  4.23it/s]\n",
      "/var/folders/1b/dx8_94fs0q740wx3lfknk6y40000gn/T/ipykernel_42031/3950971282.py:3: SettingWithCopyWarning: \n",
      "A value is trying to be set on a copy of a slice from a DataFrame.\n",
      "Try using .loc[row_indexer,col_indexer] = value instead\n",
      "\n",
      "See the caveats in the documentation: https://pandas.pydata.org/pandas-docs/stable/user_guide/indexing.html#returning-a-view-versus-a-copy\n",
      "  tmp['keyword'] = tmp.msg.progress_apply(lambda x: kw_model.extract_keywords(x, keyphrase_ngram_range=(2,4), use_maxsum = True, top_n = 1))\n"
     ]
    },
    {
     "name": "stdout",
     "output_type": "stream",
     "text": [
      "{i} complete\n"
     ]
    },
    {
     "name": "stderr",
     "output_type": "stream",
     "text": [
      "100%|██████████| 28/28 [00:08<00:00,  3.27it/s]\n",
      "/var/folders/1b/dx8_94fs0q740wx3lfknk6y40000gn/T/ipykernel_42031/3950971282.py:3: SettingWithCopyWarning: \n",
      "A value is trying to be set on a copy of a slice from a DataFrame.\n",
      "Try using .loc[row_indexer,col_indexer] = value instead\n",
      "\n",
      "See the caveats in the documentation: https://pandas.pydata.org/pandas-docs/stable/user_guide/indexing.html#returning-a-view-versus-a-copy\n",
      "  tmp['keyword'] = tmp.msg.progress_apply(lambda x: kw_model.extract_keywords(x, keyphrase_ngram_range=(2,4), use_maxsum = True, top_n = 1))\n"
     ]
    },
    {
     "name": "stdout",
     "output_type": "stream",
     "text": [
      "{i} complete\n"
     ]
    },
    {
     "name": "stderr",
     "output_type": "stream",
     "text": [
      "100%|██████████| 28/28 [00:08<00:00,  3.25it/s]\n",
      "/var/folders/1b/dx8_94fs0q740wx3lfknk6y40000gn/T/ipykernel_42031/3950971282.py:3: SettingWithCopyWarning: \n",
      "A value is trying to be set on a copy of a slice from a DataFrame.\n",
      "Try using .loc[row_indexer,col_indexer] = value instead\n",
      "\n",
      "See the caveats in the documentation: https://pandas.pydata.org/pandas-docs/stable/user_guide/indexing.html#returning-a-view-versus-a-copy\n",
      "  tmp['keyword'] = tmp.msg.progress_apply(lambda x: kw_model.extract_keywords(x, keyphrase_ngram_range=(2,4), use_maxsum = True, top_n = 1))\n"
     ]
    },
    {
     "name": "stdout",
     "output_type": "stream",
     "text": [
      "{i} complete\n"
     ]
    },
    {
     "name": "stderr",
     "output_type": "stream",
     "text": [
      "100%|██████████| 28/28 [00:08<00:00,  3.44it/s]\n",
      "/var/folders/1b/dx8_94fs0q740wx3lfknk6y40000gn/T/ipykernel_42031/3950971282.py:3: SettingWithCopyWarning: \n",
      "A value is trying to be set on a copy of a slice from a DataFrame.\n",
      "Try using .loc[row_indexer,col_indexer] = value instead\n",
      "\n",
      "See the caveats in the documentation: https://pandas.pydata.org/pandas-docs/stable/user_guide/indexing.html#returning-a-view-versus-a-copy\n",
      "  tmp['keyword'] = tmp.msg.progress_apply(lambda x: kw_model.extract_keywords(x, keyphrase_ngram_range=(2,4), use_maxsum = True, top_n = 1))\n"
     ]
    },
    {
     "name": "stdout",
     "output_type": "stream",
     "text": [
      "{i} complete\n"
     ]
    },
    {
     "name": "stderr",
     "output_type": "stream",
     "text": [
      "100%|██████████| 28/28 [00:09<00:00,  2.97it/s]\n",
      "/var/folders/1b/dx8_94fs0q740wx3lfknk6y40000gn/T/ipykernel_42031/3950971282.py:3: SettingWithCopyWarning: \n",
      "A value is trying to be set on a copy of a slice from a DataFrame.\n",
      "Try using .loc[row_indexer,col_indexer] = value instead\n",
      "\n",
      "See the caveats in the documentation: https://pandas.pydata.org/pandas-docs/stable/user_guide/indexing.html#returning-a-view-versus-a-copy\n",
      "  tmp['keyword'] = tmp.msg.progress_apply(lambda x: kw_model.extract_keywords(x, keyphrase_ngram_range=(2,4), use_maxsum = True, top_n = 1))\n"
     ]
    },
    {
     "name": "stdout",
     "output_type": "stream",
     "text": [
      "{i} complete\n"
     ]
    },
    {
     "name": "stderr",
     "output_type": "stream",
     "text": [
      "100%|██████████| 27/27 [00:08<00:00,  3.08it/s]\n",
      "/var/folders/1b/dx8_94fs0q740wx3lfknk6y40000gn/T/ipykernel_42031/3950971282.py:3: SettingWithCopyWarning: \n",
      "A value is trying to be set on a copy of a slice from a DataFrame.\n",
      "Try using .loc[row_indexer,col_indexer] = value instead\n",
      "\n",
      "See the caveats in the documentation: https://pandas.pydata.org/pandas-docs/stable/user_guide/indexing.html#returning-a-view-versus-a-copy\n",
      "  tmp['keyword'] = tmp.msg.progress_apply(lambda x: kw_model.extract_keywords(x, keyphrase_ngram_range=(2,4), use_maxsum = True, top_n = 1))\n"
     ]
    },
    {
     "name": "stdout",
     "output_type": "stream",
     "text": [
      "{i} complete\n"
     ]
    },
    {
     "name": "stderr",
     "output_type": "stream",
     "text": [
      "100%|██████████| 27/27 [01:33<00:00,  3.45s/it]\n",
      "/var/folders/1b/dx8_94fs0q740wx3lfknk6y40000gn/T/ipykernel_42031/3950971282.py:3: SettingWithCopyWarning: \n",
      "A value is trying to be set on a copy of a slice from a DataFrame.\n",
      "Try using .loc[row_indexer,col_indexer] = value instead\n",
      "\n",
      "See the caveats in the documentation: https://pandas.pydata.org/pandas-docs/stable/user_guide/indexing.html#returning-a-view-versus-a-copy\n",
      "  tmp['keyword'] = tmp.msg.progress_apply(lambda x: kw_model.extract_keywords(x, keyphrase_ngram_range=(2,4), use_maxsum = True, top_n = 1))\n"
     ]
    },
    {
     "name": "stdout",
     "output_type": "stream",
     "text": [
      "{i} complete\n"
     ]
    },
    {
     "name": "stderr",
     "output_type": "stream",
     "text": [
      "100%|██████████| 26/26 [00:09<00:00,  2.77it/s]\n",
      "/var/folders/1b/dx8_94fs0q740wx3lfknk6y40000gn/T/ipykernel_42031/3950971282.py:3: SettingWithCopyWarning: \n",
      "A value is trying to be set on a copy of a slice from a DataFrame.\n",
      "Try using .loc[row_indexer,col_indexer] = value instead\n",
      "\n",
      "See the caveats in the documentation: https://pandas.pydata.org/pandas-docs/stable/user_guide/indexing.html#returning-a-view-versus-a-copy\n",
      "  tmp['keyword'] = tmp.msg.progress_apply(lambda x: kw_model.extract_keywords(x, keyphrase_ngram_range=(2,4), use_maxsum = True, top_n = 1))\n"
     ]
    },
    {
     "name": "stdout",
     "output_type": "stream",
     "text": [
      "{i} complete\n"
     ]
    },
    {
     "name": "stderr",
     "output_type": "stream",
     "text": [
      "100%|██████████| 26/26 [00:09<00:00,  2.79it/s]\n",
      "/var/folders/1b/dx8_94fs0q740wx3lfknk6y40000gn/T/ipykernel_42031/3950971282.py:3: SettingWithCopyWarning: \n",
      "A value is trying to be set on a copy of a slice from a DataFrame.\n",
      "Try using .loc[row_indexer,col_indexer] = value instead\n",
      "\n",
      "See the caveats in the documentation: https://pandas.pydata.org/pandas-docs/stable/user_guide/indexing.html#returning-a-view-versus-a-copy\n",
      "  tmp['keyword'] = tmp.msg.progress_apply(lambda x: kw_model.extract_keywords(x, keyphrase_ngram_range=(2,4), use_maxsum = True, top_n = 1))\n"
     ]
    },
    {
     "name": "stdout",
     "output_type": "stream",
     "text": [
      "{i} complete\n"
     ]
    },
    {
     "name": "stderr",
     "output_type": "stream",
     "text": [
      "100%|██████████| 26/26 [00:08<00:00,  2.89it/s]\n",
      "/var/folders/1b/dx8_94fs0q740wx3lfknk6y40000gn/T/ipykernel_42031/3950971282.py:3: SettingWithCopyWarning: \n",
      "A value is trying to be set on a copy of a slice from a DataFrame.\n",
      "Try using .loc[row_indexer,col_indexer] = value instead\n",
      "\n",
      "See the caveats in the documentation: https://pandas.pydata.org/pandas-docs/stable/user_guide/indexing.html#returning-a-view-versus-a-copy\n",
      "  tmp['keyword'] = tmp.msg.progress_apply(lambda x: kw_model.extract_keywords(x, keyphrase_ngram_range=(2,4), use_maxsum = True, top_n = 1))\n"
     ]
    },
    {
     "name": "stdout",
     "output_type": "stream",
     "text": [
      "{i} complete\n"
     ]
    },
    {
     "name": "stderr",
     "output_type": "stream",
     "text": [
      "100%|██████████| 26/26 [00:09<00:00,  2.76it/s]\n",
      "/var/folders/1b/dx8_94fs0q740wx3lfknk6y40000gn/T/ipykernel_42031/3950971282.py:3: SettingWithCopyWarning: \n",
      "A value is trying to be set on a copy of a slice from a DataFrame.\n",
      "Try using .loc[row_indexer,col_indexer] = value instead\n",
      "\n",
      "See the caveats in the documentation: https://pandas.pydata.org/pandas-docs/stable/user_guide/indexing.html#returning-a-view-versus-a-copy\n",
      "  tmp['keyword'] = tmp.msg.progress_apply(lambda x: kw_model.extract_keywords(x, keyphrase_ngram_range=(2,4), use_maxsum = True, top_n = 1))\n"
     ]
    },
    {
     "name": "stdout",
     "output_type": "stream",
     "text": [
      "{i} complete\n"
     ]
    },
    {
     "name": "stderr",
     "output_type": "stream",
     "text": [
      "100%|██████████| 25/25 [15:37<00:00, 37.51s/it]  \n",
      "/var/folders/1b/dx8_94fs0q740wx3lfknk6y40000gn/T/ipykernel_42031/3950971282.py:3: SettingWithCopyWarning: \n",
      "A value is trying to be set on a copy of a slice from a DataFrame.\n",
      "Try using .loc[row_indexer,col_indexer] = value instead\n",
      "\n",
      "See the caveats in the documentation: https://pandas.pydata.org/pandas-docs/stable/user_guide/indexing.html#returning-a-view-versus-a-copy\n",
      "  tmp['keyword'] = tmp.msg.progress_apply(lambda x: kw_model.extract_keywords(x, keyphrase_ngram_range=(2,4), use_maxsum = True, top_n = 1))\n"
     ]
    },
    {
     "name": "stdout",
     "output_type": "stream",
     "text": [
      "{i} complete\n"
     ]
    },
    {
     "name": "stderr",
     "output_type": "stream",
     "text": [
      "100%|██████████| 25/25 [00:08<00:00,  3.01it/s]\n",
      "/var/folders/1b/dx8_94fs0q740wx3lfknk6y40000gn/T/ipykernel_42031/3950971282.py:3: SettingWithCopyWarning: \n",
      "A value is trying to be set on a copy of a slice from a DataFrame.\n",
      "Try using .loc[row_indexer,col_indexer] = value instead\n",
      "\n",
      "See the caveats in the documentation: https://pandas.pydata.org/pandas-docs/stable/user_guide/indexing.html#returning-a-view-versus-a-copy\n",
      "  tmp['keyword'] = tmp.msg.progress_apply(lambda x: kw_model.extract_keywords(x, keyphrase_ngram_range=(2,4), use_maxsum = True, top_n = 1))\n"
     ]
    },
    {
     "name": "stdout",
     "output_type": "stream",
     "text": [
      "{i} complete\n"
     ]
    },
    {
     "name": "stderr",
     "output_type": "stream",
     "text": [
      "100%|██████████| 25/25 [00:08<00:00,  2.99it/s]\n",
      "/var/folders/1b/dx8_94fs0q740wx3lfknk6y40000gn/T/ipykernel_42031/3950971282.py:3: SettingWithCopyWarning: \n",
      "A value is trying to be set on a copy of a slice from a DataFrame.\n",
      "Try using .loc[row_indexer,col_indexer] = value instead\n",
      "\n",
      "See the caveats in the documentation: https://pandas.pydata.org/pandas-docs/stable/user_guide/indexing.html#returning-a-view-versus-a-copy\n",
      "  tmp['keyword'] = tmp.msg.progress_apply(lambda x: kw_model.extract_keywords(x, keyphrase_ngram_range=(2,4), use_maxsum = True, top_n = 1))\n"
     ]
    },
    {
     "name": "stdout",
     "output_type": "stream",
     "text": [
      "{i} complete\n"
     ]
    },
    {
     "name": "stderr",
     "output_type": "stream",
     "text": [
      "100%|██████████| 25/25 [00:08<00:00,  3.04it/s]\n",
      "/var/folders/1b/dx8_94fs0q740wx3lfknk6y40000gn/T/ipykernel_42031/3950971282.py:3: SettingWithCopyWarning: \n",
      "A value is trying to be set on a copy of a slice from a DataFrame.\n",
      "Try using .loc[row_indexer,col_indexer] = value instead\n",
      "\n",
      "See the caveats in the documentation: https://pandas.pydata.org/pandas-docs/stable/user_guide/indexing.html#returning-a-view-versus-a-copy\n",
      "  tmp['keyword'] = tmp.msg.progress_apply(lambda x: kw_model.extract_keywords(x, keyphrase_ngram_range=(2,4), use_maxsum = True, top_n = 1))\n"
     ]
    },
    {
     "name": "stdout",
     "output_type": "stream",
     "text": [
      "{i} complete\n"
     ]
    },
    {
     "name": "stderr",
     "output_type": "stream",
     "text": [
      "100%|██████████| 25/25 [00:07<00:00,  3.20it/s]\n",
      "/var/folders/1b/dx8_94fs0q740wx3lfknk6y40000gn/T/ipykernel_42031/3950971282.py:3: SettingWithCopyWarning: \n",
      "A value is trying to be set on a copy of a slice from a DataFrame.\n",
      "Try using .loc[row_indexer,col_indexer] = value instead\n",
      "\n",
      "See the caveats in the documentation: https://pandas.pydata.org/pandas-docs/stable/user_guide/indexing.html#returning-a-view-versus-a-copy\n",
      "  tmp['keyword'] = tmp.msg.progress_apply(lambda x: kw_model.extract_keywords(x, keyphrase_ngram_range=(2,4), use_maxsum = True, top_n = 1))\n"
     ]
    },
    {
     "name": "stdout",
     "output_type": "stream",
     "text": [
      "{i} complete\n"
     ]
    },
    {
     "name": "stderr",
     "output_type": "stream",
     "text": [
      "100%|██████████| 25/25 [00:09<00:00,  2.76it/s]\n",
      "/var/folders/1b/dx8_94fs0q740wx3lfknk6y40000gn/T/ipykernel_42031/3950971282.py:3: SettingWithCopyWarning: \n",
      "A value is trying to be set on a copy of a slice from a DataFrame.\n",
      "Try using .loc[row_indexer,col_indexer] = value instead\n",
      "\n",
      "See the caveats in the documentation: https://pandas.pydata.org/pandas-docs/stable/user_guide/indexing.html#returning-a-view-versus-a-copy\n",
      "  tmp['keyword'] = tmp.msg.progress_apply(lambda x: kw_model.extract_keywords(x, keyphrase_ngram_range=(2,4), use_maxsum = True, top_n = 1))\n"
     ]
    },
    {
     "name": "stdout",
     "output_type": "stream",
     "text": [
      "{i} complete\n"
     ]
    },
    {
     "name": "stderr",
     "output_type": "stream",
     "text": [
      "100%|██████████| 25/25 [16:06<00:00, 38.68s/it]  \n",
      "/var/folders/1b/dx8_94fs0q740wx3lfknk6y40000gn/T/ipykernel_42031/3950971282.py:3: SettingWithCopyWarning: \n",
      "A value is trying to be set on a copy of a slice from a DataFrame.\n",
      "Try using .loc[row_indexer,col_indexer] = value instead\n",
      "\n",
      "See the caveats in the documentation: https://pandas.pydata.org/pandas-docs/stable/user_guide/indexing.html#returning-a-view-versus-a-copy\n",
      "  tmp['keyword'] = tmp.msg.progress_apply(lambda x: kw_model.extract_keywords(x, keyphrase_ngram_range=(2,4), use_maxsum = True, top_n = 1))\n"
     ]
    },
    {
     "name": "stdout",
     "output_type": "stream",
     "text": [
      "{i} complete\n"
     ]
    },
    {
     "name": "stderr",
     "output_type": "stream",
     "text": [
      "100%|██████████| 25/25 [00:07<00:00,  3.41it/s]\n",
      "/var/folders/1b/dx8_94fs0q740wx3lfknk6y40000gn/T/ipykernel_42031/3950971282.py:3: SettingWithCopyWarning: \n",
      "A value is trying to be set on a copy of a slice from a DataFrame.\n",
      "Try using .loc[row_indexer,col_indexer] = value instead\n",
      "\n",
      "See the caveats in the documentation: https://pandas.pydata.org/pandas-docs/stable/user_guide/indexing.html#returning-a-view-versus-a-copy\n",
      "  tmp['keyword'] = tmp.msg.progress_apply(lambda x: kw_model.extract_keywords(x, keyphrase_ngram_range=(2,4), use_maxsum = True, top_n = 1))\n"
     ]
    },
    {
     "name": "stdout",
     "output_type": "stream",
     "text": [
      "{i} complete\n"
     ]
    },
    {
     "name": "stderr",
     "output_type": "stream",
     "text": [
      "100%|██████████| 25/25 [00:08<00:00,  2.85it/s]\n",
      "/var/folders/1b/dx8_94fs0q740wx3lfknk6y40000gn/T/ipykernel_42031/3950971282.py:3: SettingWithCopyWarning: \n",
      "A value is trying to be set on a copy of a slice from a DataFrame.\n",
      "Try using .loc[row_indexer,col_indexer] = value instead\n",
      "\n",
      "See the caveats in the documentation: https://pandas.pydata.org/pandas-docs/stable/user_guide/indexing.html#returning-a-view-versus-a-copy\n",
      "  tmp['keyword'] = tmp.msg.progress_apply(lambda x: kw_model.extract_keywords(x, keyphrase_ngram_range=(2,4), use_maxsum = True, top_n = 1))\n"
     ]
    },
    {
     "name": "stdout",
     "output_type": "stream",
     "text": [
      "{i} complete\n"
     ]
    },
    {
     "name": "stderr",
     "output_type": "stream",
     "text": [
      "100%|██████████| 24/24 [00:08<00:00,  2.85it/s]\n",
      "/var/folders/1b/dx8_94fs0q740wx3lfknk6y40000gn/T/ipykernel_42031/3950971282.py:3: SettingWithCopyWarning: \n",
      "A value is trying to be set on a copy of a slice from a DataFrame.\n",
      "Try using .loc[row_indexer,col_indexer] = value instead\n",
      "\n",
      "See the caveats in the documentation: https://pandas.pydata.org/pandas-docs/stable/user_guide/indexing.html#returning-a-view-versus-a-copy\n",
      "  tmp['keyword'] = tmp.msg.progress_apply(lambda x: kw_model.extract_keywords(x, keyphrase_ngram_range=(2,4), use_maxsum = True, top_n = 1))\n"
     ]
    },
    {
     "name": "stdout",
     "output_type": "stream",
     "text": [
      "{i} complete\n"
     ]
    },
    {
     "name": "stderr",
     "output_type": "stream",
     "text": [
      "100%|██████████| 24/24 [00:09<00:00,  2.66it/s]\n",
      "/var/folders/1b/dx8_94fs0q740wx3lfknk6y40000gn/T/ipykernel_42031/3950971282.py:3: SettingWithCopyWarning: \n",
      "A value is trying to be set on a copy of a slice from a DataFrame.\n",
      "Try using .loc[row_indexer,col_indexer] = value instead\n",
      "\n",
      "See the caveats in the documentation: https://pandas.pydata.org/pandas-docs/stable/user_guide/indexing.html#returning-a-view-versus-a-copy\n",
      "  tmp['keyword'] = tmp.msg.progress_apply(lambda x: kw_model.extract_keywords(x, keyphrase_ngram_range=(2,4), use_maxsum = True, top_n = 1))\n"
     ]
    },
    {
     "name": "stdout",
     "output_type": "stream",
     "text": [
      "{i} complete\n"
     ]
    },
    {
     "name": "stderr",
     "output_type": "stream",
     "text": [
      "100%|██████████| 24/24 [00:08<00:00,  2.91it/s]\n",
      "/var/folders/1b/dx8_94fs0q740wx3lfknk6y40000gn/T/ipykernel_42031/3950971282.py:3: SettingWithCopyWarning: \n",
      "A value is trying to be set on a copy of a slice from a DataFrame.\n",
      "Try using .loc[row_indexer,col_indexer] = value instead\n",
      "\n",
      "See the caveats in the documentation: https://pandas.pydata.org/pandas-docs/stable/user_guide/indexing.html#returning-a-view-versus-a-copy\n",
      "  tmp['keyword'] = tmp.msg.progress_apply(lambda x: kw_model.extract_keywords(x, keyphrase_ngram_range=(2,4), use_maxsum = True, top_n = 1))\n"
     ]
    },
    {
     "name": "stdout",
     "output_type": "stream",
     "text": [
      "{i} complete\n"
     ]
    },
    {
     "name": "stderr",
     "output_type": "stream",
     "text": [
      "100%|██████████| 24/24 [16:47<00:00, 41.97s/it]  \n",
      "/var/folders/1b/dx8_94fs0q740wx3lfknk6y40000gn/T/ipykernel_42031/3950971282.py:3: SettingWithCopyWarning: \n",
      "A value is trying to be set on a copy of a slice from a DataFrame.\n",
      "Try using .loc[row_indexer,col_indexer] = value instead\n",
      "\n",
      "See the caveats in the documentation: https://pandas.pydata.org/pandas-docs/stable/user_guide/indexing.html#returning-a-view-versus-a-copy\n",
      "  tmp['keyword'] = tmp.msg.progress_apply(lambda x: kw_model.extract_keywords(x, keyphrase_ngram_range=(2,4), use_maxsum = True, top_n = 1))\n"
     ]
    },
    {
     "name": "stdout",
     "output_type": "stream",
     "text": [
      "{i} complete\n"
     ]
    },
    {
     "name": "stderr",
     "output_type": "stream",
     "text": [
      "100%|██████████| 24/24 [00:07<00:00,  3.12it/s]\n",
      "/var/folders/1b/dx8_94fs0q740wx3lfknk6y40000gn/T/ipykernel_42031/3950971282.py:3: SettingWithCopyWarning: \n",
      "A value is trying to be set on a copy of a slice from a DataFrame.\n",
      "Try using .loc[row_indexer,col_indexer] = value instead\n",
      "\n",
      "See the caveats in the documentation: https://pandas.pydata.org/pandas-docs/stable/user_guide/indexing.html#returning-a-view-versus-a-copy\n",
      "  tmp['keyword'] = tmp.msg.progress_apply(lambda x: kw_model.extract_keywords(x, keyphrase_ngram_range=(2,4), use_maxsum = True, top_n = 1))\n"
     ]
    },
    {
     "name": "stdout",
     "output_type": "stream",
     "text": [
      "{i} complete\n"
     ]
    },
    {
     "name": "stderr",
     "output_type": "stream",
     "text": [
      "100%|██████████| 23/23 [00:07<00:00,  3.27it/s]\n",
      "/var/folders/1b/dx8_94fs0q740wx3lfknk6y40000gn/T/ipykernel_42031/3950971282.py:3: SettingWithCopyWarning: \n",
      "A value is trying to be set on a copy of a slice from a DataFrame.\n",
      "Try using .loc[row_indexer,col_indexer] = value instead\n",
      "\n",
      "See the caveats in the documentation: https://pandas.pydata.org/pandas-docs/stable/user_guide/indexing.html#returning-a-view-versus-a-copy\n",
      "  tmp['keyword'] = tmp.msg.progress_apply(lambda x: kw_model.extract_keywords(x, keyphrase_ngram_range=(2,4), use_maxsum = True, top_n = 1))\n"
     ]
    },
    {
     "name": "stdout",
     "output_type": "stream",
     "text": [
      "{i} complete\n"
     ]
    },
    {
     "name": "stderr",
     "output_type": "stream",
     "text": [
      "100%|██████████| 23/23 [00:07<00:00,  2.97it/s]\n",
      "/var/folders/1b/dx8_94fs0q740wx3lfknk6y40000gn/T/ipykernel_42031/3950971282.py:3: SettingWithCopyWarning: \n",
      "A value is trying to be set on a copy of a slice from a DataFrame.\n",
      "Try using .loc[row_indexer,col_indexer] = value instead\n",
      "\n",
      "See the caveats in the documentation: https://pandas.pydata.org/pandas-docs/stable/user_guide/indexing.html#returning-a-view-versus-a-copy\n",
      "  tmp['keyword'] = tmp.msg.progress_apply(lambda x: kw_model.extract_keywords(x, keyphrase_ngram_range=(2,4), use_maxsum = True, top_n = 1))\n"
     ]
    },
    {
     "name": "stdout",
     "output_type": "stream",
     "text": [
      "{i} complete\n"
     ]
    },
    {
     "name": "stderr",
     "output_type": "stream",
     "text": [
      "100%|██████████| 23/23 [00:08<00:00,  2.79it/s]\n",
      "/var/folders/1b/dx8_94fs0q740wx3lfknk6y40000gn/T/ipykernel_42031/3950971282.py:3: SettingWithCopyWarning: \n",
      "A value is trying to be set on a copy of a slice from a DataFrame.\n",
      "Try using .loc[row_indexer,col_indexer] = value instead\n",
      "\n",
      "See the caveats in the documentation: https://pandas.pydata.org/pandas-docs/stable/user_guide/indexing.html#returning-a-view-versus-a-copy\n",
      "  tmp['keyword'] = tmp.msg.progress_apply(lambda x: kw_model.extract_keywords(x, keyphrase_ngram_range=(2,4), use_maxsum = True, top_n = 1))\n"
     ]
    },
    {
     "name": "stdout",
     "output_type": "stream",
     "text": [
      "{i} complete\n"
     ]
    },
    {
     "name": "stderr",
     "output_type": "stream",
     "text": [
      "100%|██████████| 23/23 [00:08<00:00,  2.84it/s]\n",
      "/var/folders/1b/dx8_94fs0q740wx3lfknk6y40000gn/T/ipykernel_42031/3950971282.py:3: SettingWithCopyWarning: \n",
      "A value is trying to be set on a copy of a slice from a DataFrame.\n",
      "Try using .loc[row_indexer,col_indexer] = value instead\n",
      "\n",
      "See the caveats in the documentation: https://pandas.pydata.org/pandas-docs/stable/user_guide/indexing.html#returning-a-view-versus-a-copy\n",
      "  tmp['keyword'] = tmp.msg.progress_apply(lambda x: kw_model.extract_keywords(x, keyphrase_ngram_range=(2,4), use_maxsum = True, top_n = 1))\n"
     ]
    },
    {
     "name": "stdout",
     "output_type": "stream",
     "text": [
      "{i} complete\n"
     ]
    },
    {
     "name": "stderr",
     "output_type": "stream",
     "text": [
      "100%|██████████| 22/22 [00:06<00:00,  3.50it/s]\n",
      "/var/folders/1b/dx8_94fs0q740wx3lfknk6y40000gn/T/ipykernel_42031/3950971282.py:3: SettingWithCopyWarning: \n",
      "A value is trying to be set on a copy of a slice from a DataFrame.\n",
      "Try using .loc[row_indexer,col_indexer] = value instead\n",
      "\n",
      "See the caveats in the documentation: https://pandas.pydata.org/pandas-docs/stable/user_guide/indexing.html#returning-a-view-versus-a-copy\n",
      "  tmp['keyword'] = tmp.msg.progress_apply(lambda x: kw_model.extract_keywords(x, keyphrase_ngram_range=(2,4), use_maxsum = True, top_n = 1))\n"
     ]
    },
    {
     "name": "stdout",
     "output_type": "stream",
     "text": [
      "{i} complete\n"
     ]
    },
    {
     "name": "stderr",
     "output_type": "stream",
     "text": [
      "100%|██████████| 22/22 [00:07<00:00,  2.95it/s]\n",
      "/var/folders/1b/dx8_94fs0q740wx3lfknk6y40000gn/T/ipykernel_42031/3950971282.py:3: SettingWithCopyWarning: \n",
      "A value is trying to be set on a copy of a slice from a DataFrame.\n",
      "Try using .loc[row_indexer,col_indexer] = value instead\n",
      "\n",
      "See the caveats in the documentation: https://pandas.pydata.org/pandas-docs/stable/user_guide/indexing.html#returning-a-view-versus-a-copy\n",
      "  tmp['keyword'] = tmp.msg.progress_apply(lambda x: kw_model.extract_keywords(x, keyphrase_ngram_range=(2,4), use_maxsum = True, top_n = 1))\n"
     ]
    },
    {
     "name": "stdout",
     "output_type": "stream",
     "text": [
      "{i} complete\n"
     ]
    },
    {
     "name": "stderr",
     "output_type": "stream",
     "text": [
      "100%|██████████| 22/22 [05:58<00:00, 16.30s/it]\n",
      "/var/folders/1b/dx8_94fs0q740wx3lfknk6y40000gn/T/ipykernel_42031/3950971282.py:3: SettingWithCopyWarning: \n",
      "A value is trying to be set on a copy of a slice from a DataFrame.\n",
      "Try using .loc[row_indexer,col_indexer] = value instead\n",
      "\n",
      "See the caveats in the documentation: https://pandas.pydata.org/pandas-docs/stable/user_guide/indexing.html#returning-a-view-versus-a-copy\n",
      "  tmp['keyword'] = tmp.msg.progress_apply(lambda x: kw_model.extract_keywords(x, keyphrase_ngram_range=(2,4), use_maxsum = True, top_n = 1))\n"
     ]
    },
    {
     "name": "stdout",
     "output_type": "stream",
     "text": [
      "{i} complete\n"
     ]
    },
    {
     "name": "stderr",
     "output_type": "stream",
     "text": [
      "100%|██████████| 22/22 [00:07<00:00,  2.96it/s]\n",
      "/var/folders/1b/dx8_94fs0q740wx3lfknk6y40000gn/T/ipykernel_42031/3950971282.py:3: SettingWithCopyWarning: \n",
      "A value is trying to be set on a copy of a slice from a DataFrame.\n",
      "Try using .loc[row_indexer,col_indexer] = value instead\n",
      "\n",
      "See the caveats in the documentation: https://pandas.pydata.org/pandas-docs/stable/user_guide/indexing.html#returning-a-view-versus-a-copy\n",
      "  tmp['keyword'] = tmp.msg.progress_apply(lambda x: kw_model.extract_keywords(x, keyphrase_ngram_range=(2,4), use_maxsum = True, top_n = 1))\n"
     ]
    },
    {
     "name": "stdout",
     "output_type": "stream",
     "text": [
      "{i} complete\n"
     ]
    },
    {
     "name": "stderr",
     "output_type": "stream",
     "text": [
      "100%|██████████| 21/21 [00:07<00:00,  2.81it/s]\n",
      "/var/folders/1b/dx8_94fs0q740wx3lfknk6y40000gn/T/ipykernel_42031/3950971282.py:3: SettingWithCopyWarning: \n",
      "A value is trying to be set on a copy of a slice from a DataFrame.\n",
      "Try using .loc[row_indexer,col_indexer] = value instead\n",
      "\n",
      "See the caveats in the documentation: https://pandas.pydata.org/pandas-docs/stable/user_guide/indexing.html#returning-a-view-versus-a-copy\n",
      "  tmp['keyword'] = tmp.msg.progress_apply(lambda x: kw_model.extract_keywords(x, keyphrase_ngram_range=(2,4), use_maxsum = True, top_n = 1))\n"
     ]
    },
    {
     "name": "stdout",
     "output_type": "stream",
     "text": [
      "{i} complete\n"
     ]
    },
    {
     "name": "stderr",
     "output_type": "stream",
     "text": [
      "100%|██████████| 21/21 [00:06<00:00,  3.04it/s]\n",
      "/var/folders/1b/dx8_94fs0q740wx3lfknk6y40000gn/T/ipykernel_42031/3950971282.py:3: SettingWithCopyWarning: \n",
      "A value is trying to be set on a copy of a slice from a DataFrame.\n",
      "Try using .loc[row_indexer,col_indexer] = value instead\n",
      "\n",
      "See the caveats in the documentation: https://pandas.pydata.org/pandas-docs/stable/user_guide/indexing.html#returning-a-view-versus-a-copy\n",
      "  tmp['keyword'] = tmp.msg.progress_apply(lambda x: kw_model.extract_keywords(x, keyphrase_ngram_range=(2,4), use_maxsum = True, top_n = 1))\n"
     ]
    },
    {
     "name": "stdout",
     "output_type": "stream",
     "text": [
      "{i} complete\n"
     ]
    },
    {
     "name": "stderr",
     "output_type": "stream",
     "text": [
      "100%|██████████| 20/20 [00:07<00:00,  2.73it/s]\n",
      "/var/folders/1b/dx8_94fs0q740wx3lfknk6y40000gn/T/ipykernel_42031/3950971282.py:3: SettingWithCopyWarning: \n",
      "A value is trying to be set on a copy of a slice from a DataFrame.\n",
      "Try using .loc[row_indexer,col_indexer] = value instead\n",
      "\n",
      "See the caveats in the documentation: https://pandas.pydata.org/pandas-docs/stable/user_guide/indexing.html#returning-a-view-versus-a-copy\n",
      "  tmp['keyword'] = tmp.msg.progress_apply(lambda x: kw_model.extract_keywords(x, keyphrase_ngram_range=(2,4), use_maxsum = True, top_n = 1))\n"
     ]
    },
    {
     "name": "stdout",
     "output_type": "stream",
     "text": [
      "{i} complete\n"
     ]
    },
    {
     "name": "stderr",
     "output_type": "stream",
     "text": [
      "100%|██████████| 20/20 [00:07<00:00,  2.75it/s]\n",
      "/var/folders/1b/dx8_94fs0q740wx3lfknk6y40000gn/T/ipykernel_42031/3950971282.py:3: SettingWithCopyWarning: \n",
      "A value is trying to be set on a copy of a slice from a DataFrame.\n",
      "Try using .loc[row_indexer,col_indexer] = value instead\n",
      "\n",
      "See the caveats in the documentation: https://pandas.pydata.org/pandas-docs/stable/user_guide/indexing.html#returning-a-view-versus-a-copy\n",
      "  tmp['keyword'] = tmp.msg.progress_apply(lambda x: kw_model.extract_keywords(x, keyphrase_ngram_range=(2,4), use_maxsum = True, top_n = 1))\n"
     ]
    },
    {
     "name": "stdout",
     "output_type": "stream",
     "text": [
      "{i} complete\n"
     ]
    },
    {
     "name": "stderr",
     "output_type": "stream",
     "text": [
      "100%|██████████| 20/20 [00:06<00:00,  2.93it/s]\n",
      "/var/folders/1b/dx8_94fs0q740wx3lfknk6y40000gn/T/ipykernel_42031/3950971282.py:3: SettingWithCopyWarning: \n",
      "A value is trying to be set on a copy of a slice from a DataFrame.\n",
      "Try using .loc[row_indexer,col_indexer] = value instead\n",
      "\n",
      "See the caveats in the documentation: https://pandas.pydata.org/pandas-docs/stable/user_guide/indexing.html#returning-a-view-versus-a-copy\n",
      "  tmp['keyword'] = tmp.msg.progress_apply(lambda x: kw_model.extract_keywords(x, keyphrase_ngram_range=(2,4), use_maxsum = True, top_n = 1))\n"
     ]
    },
    {
     "name": "stdout",
     "output_type": "stream",
     "text": [
      "{i} complete\n"
     ]
    },
    {
     "name": "stderr",
     "output_type": "stream",
     "text": [
      "100%|██████████| 20/20 [00:06<00:00,  3.01it/s]\n",
      "/var/folders/1b/dx8_94fs0q740wx3lfknk6y40000gn/T/ipykernel_42031/3950971282.py:3: SettingWithCopyWarning: \n",
      "A value is trying to be set on a copy of a slice from a DataFrame.\n",
      "Try using .loc[row_indexer,col_indexer] = value instead\n",
      "\n",
      "See the caveats in the documentation: https://pandas.pydata.org/pandas-docs/stable/user_guide/indexing.html#returning-a-view-versus-a-copy\n",
      "  tmp['keyword'] = tmp.msg.progress_apply(lambda x: kw_model.extract_keywords(x, keyphrase_ngram_range=(2,4), use_maxsum = True, top_n = 1))\n"
     ]
    },
    {
     "name": "stdout",
     "output_type": "stream",
     "text": [
      "{i} complete\n"
     ]
    },
    {
     "name": "stderr",
     "output_type": "stream",
     "text": [
      "100%|██████████| 19/19 [00:06<00:00,  2.84it/s]\n",
      "/var/folders/1b/dx8_94fs0q740wx3lfknk6y40000gn/T/ipykernel_42031/3950971282.py:3: SettingWithCopyWarning: \n",
      "A value is trying to be set on a copy of a slice from a DataFrame.\n",
      "Try using .loc[row_indexer,col_indexer] = value instead\n",
      "\n",
      "See the caveats in the documentation: https://pandas.pydata.org/pandas-docs/stable/user_guide/indexing.html#returning-a-view-versus-a-copy\n",
      "  tmp['keyword'] = tmp.msg.progress_apply(lambda x: kw_model.extract_keywords(x, keyphrase_ngram_range=(2,4), use_maxsum = True, top_n = 1))\n"
     ]
    },
    {
     "name": "stdout",
     "output_type": "stream",
     "text": [
      "{i} complete\n"
     ]
    },
    {
     "name": "stderr",
     "output_type": "stream",
     "text": [
      "100%|██████████| 19/19 [00:05<00:00,  3.25it/s]\n",
      "/var/folders/1b/dx8_94fs0q740wx3lfknk6y40000gn/T/ipykernel_42031/3950971282.py:3: SettingWithCopyWarning: \n",
      "A value is trying to be set on a copy of a slice from a DataFrame.\n",
      "Try using .loc[row_indexer,col_indexer] = value instead\n",
      "\n",
      "See the caveats in the documentation: https://pandas.pydata.org/pandas-docs/stable/user_guide/indexing.html#returning-a-view-versus-a-copy\n",
      "  tmp['keyword'] = tmp.msg.progress_apply(lambda x: kw_model.extract_keywords(x, keyphrase_ngram_range=(2,4), use_maxsum = True, top_n = 1))\n"
     ]
    },
    {
     "name": "stdout",
     "output_type": "stream",
     "text": [
      "{i} complete\n"
     ]
    },
    {
     "name": "stderr",
     "output_type": "stream",
     "text": [
      "100%|██████████| 19/19 [00:06<00:00,  2.90it/s]\n",
      "/var/folders/1b/dx8_94fs0q740wx3lfknk6y40000gn/T/ipykernel_42031/3950971282.py:3: SettingWithCopyWarning: \n",
      "A value is trying to be set on a copy of a slice from a DataFrame.\n",
      "Try using .loc[row_indexer,col_indexer] = value instead\n",
      "\n",
      "See the caveats in the documentation: https://pandas.pydata.org/pandas-docs/stable/user_guide/indexing.html#returning-a-view-versus-a-copy\n",
      "  tmp['keyword'] = tmp.msg.progress_apply(lambda x: kw_model.extract_keywords(x, keyphrase_ngram_range=(2,4), use_maxsum = True, top_n = 1))\n"
     ]
    },
    {
     "name": "stdout",
     "output_type": "stream",
     "text": [
      "{i} complete\n"
     ]
    },
    {
     "name": "stderr",
     "output_type": "stream",
     "text": [
      "100%|██████████| 18/18 [00:06<00:00,  2.93it/s]\n",
      "/var/folders/1b/dx8_94fs0q740wx3lfknk6y40000gn/T/ipykernel_42031/3950971282.py:3: SettingWithCopyWarning: \n",
      "A value is trying to be set on a copy of a slice from a DataFrame.\n",
      "Try using .loc[row_indexer,col_indexer] = value instead\n",
      "\n",
      "See the caveats in the documentation: https://pandas.pydata.org/pandas-docs/stable/user_guide/indexing.html#returning-a-view-versus-a-copy\n",
      "  tmp['keyword'] = tmp.msg.progress_apply(lambda x: kw_model.extract_keywords(x, keyphrase_ngram_range=(2,4), use_maxsum = True, top_n = 1))\n"
     ]
    },
    {
     "name": "stdout",
     "output_type": "stream",
     "text": [
      "{i} complete\n"
     ]
    },
    {
     "name": "stderr",
     "output_type": "stream",
     "text": [
      "100%|██████████| 18/18 [00:06<00:00,  2.99it/s]\n",
      "/var/folders/1b/dx8_94fs0q740wx3lfknk6y40000gn/T/ipykernel_42031/3950971282.py:3: SettingWithCopyWarning: \n",
      "A value is trying to be set on a copy of a slice from a DataFrame.\n",
      "Try using .loc[row_indexer,col_indexer] = value instead\n",
      "\n",
      "See the caveats in the documentation: https://pandas.pydata.org/pandas-docs/stable/user_guide/indexing.html#returning-a-view-versus-a-copy\n",
      "  tmp['keyword'] = tmp.msg.progress_apply(lambda x: kw_model.extract_keywords(x, keyphrase_ngram_range=(2,4), use_maxsum = True, top_n = 1))\n"
     ]
    },
    {
     "name": "stdout",
     "output_type": "stream",
     "text": [
      "{i} complete\n"
     ]
    },
    {
     "name": "stderr",
     "output_type": "stream",
     "text": [
      "100%|██████████| 18/18 [00:06<00:00,  2.77it/s]\n",
      "/var/folders/1b/dx8_94fs0q740wx3lfknk6y40000gn/T/ipykernel_42031/3950971282.py:3: SettingWithCopyWarning: \n",
      "A value is trying to be set on a copy of a slice from a DataFrame.\n",
      "Try using .loc[row_indexer,col_indexer] = value instead\n",
      "\n",
      "See the caveats in the documentation: https://pandas.pydata.org/pandas-docs/stable/user_guide/indexing.html#returning-a-view-versus-a-copy\n",
      "  tmp['keyword'] = tmp.msg.progress_apply(lambda x: kw_model.extract_keywords(x, keyphrase_ngram_range=(2,4), use_maxsum = True, top_n = 1))\n"
     ]
    },
    {
     "name": "stdout",
     "output_type": "stream",
     "text": [
      "{i} complete\n"
     ]
    },
    {
     "name": "stderr",
     "output_type": "stream",
     "text": [
      "100%|██████████| 18/18 [00:05<00:00,  3.03it/s]\n",
      "/var/folders/1b/dx8_94fs0q740wx3lfknk6y40000gn/T/ipykernel_42031/3950971282.py:3: SettingWithCopyWarning: \n",
      "A value is trying to be set on a copy of a slice from a DataFrame.\n",
      "Try using .loc[row_indexer,col_indexer] = value instead\n",
      "\n",
      "See the caveats in the documentation: https://pandas.pydata.org/pandas-docs/stable/user_guide/indexing.html#returning-a-view-versus-a-copy\n",
      "  tmp['keyword'] = tmp.msg.progress_apply(lambda x: kw_model.extract_keywords(x, keyphrase_ngram_range=(2,4), use_maxsum = True, top_n = 1))\n"
     ]
    },
    {
     "name": "stdout",
     "output_type": "stream",
     "text": [
      "{i} complete\n"
     ]
    },
    {
     "name": "stderr",
     "output_type": "stream",
     "text": [
      "100%|██████████| 18/18 [00:06<00:00,  2.84it/s]\n",
      "/var/folders/1b/dx8_94fs0q740wx3lfknk6y40000gn/T/ipykernel_42031/3950971282.py:3: SettingWithCopyWarning: \n",
      "A value is trying to be set on a copy of a slice from a DataFrame.\n",
      "Try using .loc[row_indexer,col_indexer] = value instead\n",
      "\n",
      "See the caveats in the documentation: https://pandas.pydata.org/pandas-docs/stable/user_guide/indexing.html#returning-a-view-versus-a-copy\n",
      "  tmp['keyword'] = tmp.msg.progress_apply(lambda x: kw_model.extract_keywords(x, keyphrase_ngram_range=(2,4), use_maxsum = True, top_n = 1))\n"
     ]
    },
    {
     "name": "stdout",
     "output_type": "stream",
     "text": [
      "{i} complete\n"
     ]
    },
    {
     "name": "stderr",
     "output_type": "stream",
     "text": [
      "100%|██████████| 18/18 [00:06<00:00,  2.71it/s]\n",
      "/var/folders/1b/dx8_94fs0q740wx3lfknk6y40000gn/T/ipykernel_42031/3950971282.py:3: SettingWithCopyWarning: \n",
      "A value is trying to be set on a copy of a slice from a DataFrame.\n",
      "Try using .loc[row_indexer,col_indexer] = value instead\n",
      "\n",
      "See the caveats in the documentation: https://pandas.pydata.org/pandas-docs/stable/user_guide/indexing.html#returning-a-view-versus-a-copy\n",
      "  tmp['keyword'] = tmp.msg.progress_apply(lambda x: kw_model.extract_keywords(x, keyphrase_ngram_range=(2,4), use_maxsum = True, top_n = 1))\n"
     ]
    },
    {
     "name": "stdout",
     "output_type": "stream",
     "text": [
      "{i} complete\n"
     ]
    },
    {
     "name": "stderr",
     "output_type": "stream",
     "text": [
      "100%|██████████| 18/18 [00:05<00:00,  3.08it/s]\n",
      "/var/folders/1b/dx8_94fs0q740wx3lfknk6y40000gn/T/ipykernel_42031/3950971282.py:3: SettingWithCopyWarning: \n",
      "A value is trying to be set on a copy of a slice from a DataFrame.\n",
      "Try using .loc[row_indexer,col_indexer] = value instead\n",
      "\n",
      "See the caveats in the documentation: https://pandas.pydata.org/pandas-docs/stable/user_guide/indexing.html#returning-a-view-versus-a-copy\n",
      "  tmp['keyword'] = tmp.msg.progress_apply(lambda x: kw_model.extract_keywords(x, keyphrase_ngram_range=(2,4), use_maxsum = True, top_n = 1))\n"
     ]
    },
    {
     "name": "stdout",
     "output_type": "stream",
     "text": [
      "{i} complete\n"
     ]
    },
    {
     "name": "stderr",
     "output_type": "stream",
     "text": [
      "100%|██████████| 18/18 [00:05<00:00,  3.13it/s]\n",
      "/var/folders/1b/dx8_94fs0q740wx3lfknk6y40000gn/T/ipykernel_42031/3950971282.py:3: SettingWithCopyWarning: \n",
      "A value is trying to be set on a copy of a slice from a DataFrame.\n",
      "Try using .loc[row_indexer,col_indexer] = value instead\n",
      "\n",
      "See the caveats in the documentation: https://pandas.pydata.org/pandas-docs/stable/user_guide/indexing.html#returning-a-view-versus-a-copy\n",
      "  tmp['keyword'] = tmp.msg.progress_apply(lambda x: kw_model.extract_keywords(x, keyphrase_ngram_range=(2,4), use_maxsum = True, top_n = 1))\n"
     ]
    },
    {
     "name": "stdout",
     "output_type": "stream",
     "text": [
      "{i} complete\n"
     ]
    },
    {
     "name": "stderr",
     "output_type": "stream",
     "text": [
      "100%|██████████| 18/18 [00:06<00:00,  2.90it/s]\n",
      "/var/folders/1b/dx8_94fs0q740wx3lfknk6y40000gn/T/ipykernel_42031/3950971282.py:3: SettingWithCopyWarning: \n",
      "A value is trying to be set on a copy of a slice from a DataFrame.\n",
      "Try using .loc[row_indexer,col_indexer] = value instead\n",
      "\n",
      "See the caveats in the documentation: https://pandas.pydata.org/pandas-docs/stable/user_guide/indexing.html#returning-a-view-versus-a-copy\n",
      "  tmp['keyword'] = tmp.msg.progress_apply(lambda x: kw_model.extract_keywords(x, keyphrase_ngram_range=(2,4), use_maxsum = True, top_n = 1))\n"
     ]
    },
    {
     "name": "stdout",
     "output_type": "stream",
     "text": [
      "{i} complete\n"
     ]
    },
    {
     "name": "stderr",
     "output_type": "stream",
     "text": [
      "100%|██████████| 18/18 [00:04<00:00,  4.01it/s]\n",
      "/var/folders/1b/dx8_94fs0q740wx3lfknk6y40000gn/T/ipykernel_42031/3950971282.py:3: SettingWithCopyWarning: \n",
      "A value is trying to be set on a copy of a slice from a DataFrame.\n",
      "Try using .loc[row_indexer,col_indexer] = value instead\n",
      "\n",
      "See the caveats in the documentation: https://pandas.pydata.org/pandas-docs/stable/user_guide/indexing.html#returning-a-view-versus-a-copy\n",
      "  tmp['keyword'] = tmp.msg.progress_apply(lambda x: kw_model.extract_keywords(x, keyphrase_ngram_range=(2,4), use_maxsum = True, top_n = 1))\n"
     ]
    },
    {
     "name": "stdout",
     "output_type": "stream",
     "text": [
      "{i} complete\n"
     ]
    },
    {
     "name": "stderr",
     "output_type": "stream",
     "text": [
      "100%|██████████| 18/18 [00:05<00:00,  3.03it/s]\n",
      "/var/folders/1b/dx8_94fs0q740wx3lfknk6y40000gn/T/ipykernel_42031/3950971282.py:3: SettingWithCopyWarning: \n",
      "A value is trying to be set on a copy of a slice from a DataFrame.\n",
      "Try using .loc[row_indexer,col_indexer] = value instead\n",
      "\n",
      "See the caveats in the documentation: https://pandas.pydata.org/pandas-docs/stable/user_guide/indexing.html#returning-a-view-versus-a-copy\n",
      "  tmp['keyword'] = tmp.msg.progress_apply(lambda x: kw_model.extract_keywords(x, keyphrase_ngram_range=(2,4), use_maxsum = True, top_n = 1))\n"
     ]
    },
    {
     "name": "stdout",
     "output_type": "stream",
     "text": [
      "{i} complete\n"
     ]
    },
    {
     "name": "stderr",
     "output_type": "stream",
     "text": [
      "100%|██████████| 18/18 [00:06<00:00,  2.77it/s]\n",
      "/var/folders/1b/dx8_94fs0q740wx3lfknk6y40000gn/T/ipykernel_42031/3950971282.py:3: SettingWithCopyWarning: \n",
      "A value is trying to be set on a copy of a slice from a DataFrame.\n",
      "Try using .loc[row_indexer,col_indexer] = value instead\n",
      "\n",
      "See the caveats in the documentation: https://pandas.pydata.org/pandas-docs/stable/user_guide/indexing.html#returning-a-view-versus-a-copy\n",
      "  tmp['keyword'] = tmp.msg.progress_apply(lambda x: kw_model.extract_keywords(x, keyphrase_ngram_range=(2,4), use_maxsum = True, top_n = 1))\n"
     ]
    },
    {
     "name": "stdout",
     "output_type": "stream",
     "text": [
      "{i} complete\n"
     ]
    },
    {
     "name": "stderr",
     "output_type": "stream",
     "text": [
      "100%|██████████| 18/18 [00:05<00:00,  3.12it/s]\n",
      "/var/folders/1b/dx8_94fs0q740wx3lfknk6y40000gn/T/ipykernel_42031/3950971282.py:3: SettingWithCopyWarning: \n",
      "A value is trying to be set on a copy of a slice from a DataFrame.\n",
      "Try using .loc[row_indexer,col_indexer] = value instead\n",
      "\n",
      "See the caveats in the documentation: https://pandas.pydata.org/pandas-docs/stable/user_guide/indexing.html#returning-a-view-versus-a-copy\n",
      "  tmp['keyword'] = tmp.msg.progress_apply(lambda x: kw_model.extract_keywords(x, keyphrase_ngram_range=(2,4), use_maxsum = True, top_n = 1))\n"
     ]
    },
    {
     "name": "stdout",
     "output_type": "stream",
     "text": [
      "{i} complete\n"
     ]
    },
    {
     "name": "stderr",
     "output_type": "stream",
     "text": [
      "100%|██████████| 17/17 [00:04<00:00,  3.56it/s]\n",
      "/var/folders/1b/dx8_94fs0q740wx3lfknk6y40000gn/T/ipykernel_42031/3950971282.py:3: SettingWithCopyWarning: \n",
      "A value is trying to be set on a copy of a slice from a DataFrame.\n",
      "Try using .loc[row_indexer,col_indexer] = value instead\n",
      "\n",
      "See the caveats in the documentation: https://pandas.pydata.org/pandas-docs/stable/user_guide/indexing.html#returning-a-view-versus-a-copy\n",
      "  tmp['keyword'] = tmp.msg.progress_apply(lambda x: kw_model.extract_keywords(x, keyphrase_ngram_range=(2,4), use_maxsum = True, top_n = 1))\n"
     ]
    },
    {
     "name": "stdout",
     "output_type": "stream",
     "text": [
      "{i} complete\n"
     ]
    },
    {
     "name": "stderr",
     "output_type": "stream",
     "text": [
      "100%|██████████| 17/17 [00:05<00:00,  3.08it/s]\n",
      "/var/folders/1b/dx8_94fs0q740wx3lfknk6y40000gn/T/ipykernel_42031/3950971282.py:3: SettingWithCopyWarning: \n",
      "A value is trying to be set on a copy of a slice from a DataFrame.\n",
      "Try using .loc[row_indexer,col_indexer] = value instead\n",
      "\n",
      "See the caveats in the documentation: https://pandas.pydata.org/pandas-docs/stable/user_guide/indexing.html#returning-a-view-versus-a-copy\n",
      "  tmp['keyword'] = tmp.msg.progress_apply(lambda x: kw_model.extract_keywords(x, keyphrase_ngram_range=(2,4), use_maxsum = True, top_n = 1))\n"
     ]
    },
    {
     "name": "stdout",
     "output_type": "stream",
     "text": [
      "{i} complete\n"
     ]
    },
    {
     "name": "stderr",
     "output_type": "stream",
     "text": [
      "100%|██████████| 17/17 [00:06<00:00,  2.76it/s]\n",
      "/var/folders/1b/dx8_94fs0q740wx3lfknk6y40000gn/T/ipykernel_42031/3950971282.py:3: SettingWithCopyWarning: \n",
      "A value is trying to be set on a copy of a slice from a DataFrame.\n",
      "Try using .loc[row_indexer,col_indexer] = value instead\n",
      "\n",
      "See the caveats in the documentation: https://pandas.pydata.org/pandas-docs/stable/user_guide/indexing.html#returning-a-view-versus-a-copy\n",
      "  tmp['keyword'] = tmp.msg.progress_apply(lambda x: kw_model.extract_keywords(x, keyphrase_ngram_range=(2,4), use_maxsum = True, top_n = 1))\n"
     ]
    },
    {
     "name": "stdout",
     "output_type": "stream",
     "text": [
      "{i} complete\n"
     ]
    },
    {
     "name": "stderr",
     "output_type": "stream",
     "text": [
      "100%|██████████| 17/17 [00:05<00:00,  3.00it/s]\n",
      "/var/folders/1b/dx8_94fs0q740wx3lfknk6y40000gn/T/ipykernel_42031/3950971282.py:3: SettingWithCopyWarning: \n",
      "A value is trying to be set on a copy of a slice from a DataFrame.\n",
      "Try using .loc[row_indexer,col_indexer] = value instead\n",
      "\n",
      "See the caveats in the documentation: https://pandas.pydata.org/pandas-docs/stable/user_guide/indexing.html#returning-a-view-versus-a-copy\n",
      "  tmp['keyword'] = tmp.msg.progress_apply(lambda x: kw_model.extract_keywords(x, keyphrase_ngram_range=(2,4), use_maxsum = True, top_n = 1))\n"
     ]
    },
    {
     "name": "stdout",
     "output_type": "stream",
     "text": [
      "{i} complete\n"
     ]
    },
    {
     "name": "stderr",
     "output_type": "stream",
     "text": [
      "100%|██████████| 17/17 [00:05<00:00,  2.86it/s]\n",
      "/var/folders/1b/dx8_94fs0q740wx3lfknk6y40000gn/T/ipykernel_42031/3950971282.py:3: SettingWithCopyWarning: \n",
      "A value is trying to be set on a copy of a slice from a DataFrame.\n",
      "Try using .loc[row_indexer,col_indexer] = value instead\n",
      "\n",
      "See the caveats in the documentation: https://pandas.pydata.org/pandas-docs/stable/user_guide/indexing.html#returning-a-view-versus-a-copy\n",
      "  tmp['keyword'] = tmp.msg.progress_apply(lambda x: kw_model.extract_keywords(x, keyphrase_ngram_range=(2,4), use_maxsum = True, top_n = 1))\n"
     ]
    },
    {
     "name": "stdout",
     "output_type": "stream",
     "text": [
      "{i} complete\n"
     ]
    },
    {
     "name": "stderr",
     "output_type": "stream",
     "text": [
      "100%|██████████| 17/17 [00:06<00:00,  2.78it/s]\n",
      "/var/folders/1b/dx8_94fs0q740wx3lfknk6y40000gn/T/ipykernel_42031/3950971282.py:3: SettingWithCopyWarning: \n",
      "A value is trying to be set on a copy of a slice from a DataFrame.\n",
      "Try using .loc[row_indexer,col_indexer] = value instead\n",
      "\n",
      "See the caveats in the documentation: https://pandas.pydata.org/pandas-docs/stable/user_guide/indexing.html#returning-a-view-versus-a-copy\n",
      "  tmp['keyword'] = tmp.msg.progress_apply(lambda x: kw_model.extract_keywords(x, keyphrase_ngram_range=(2,4), use_maxsum = True, top_n = 1))\n"
     ]
    },
    {
     "name": "stdout",
     "output_type": "stream",
     "text": [
      "{i} complete\n"
     ]
    },
    {
     "name": "stderr",
     "output_type": "stream",
     "text": [
      "100%|██████████| 16/16 [00:05<00:00,  3.06it/s]\n",
      "/var/folders/1b/dx8_94fs0q740wx3lfknk6y40000gn/T/ipykernel_42031/3950971282.py:3: SettingWithCopyWarning: \n",
      "A value is trying to be set on a copy of a slice from a DataFrame.\n",
      "Try using .loc[row_indexer,col_indexer] = value instead\n",
      "\n",
      "See the caveats in the documentation: https://pandas.pydata.org/pandas-docs/stable/user_guide/indexing.html#returning-a-view-versus-a-copy\n",
      "  tmp['keyword'] = tmp.msg.progress_apply(lambda x: kw_model.extract_keywords(x, keyphrase_ngram_range=(2,4), use_maxsum = True, top_n = 1))\n"
     ]
    },
    {
     "name": "stdout",
     "output_type": "stream",
     "text": [
      "{i} complete\n"
     ]
    },
    {
     "name": "stderr",
     "output_type": "stream",
     "text": [
      "100%|██████████| 16/16 [00:05<00:00,  2.86it/s]\n",
      "/var/folders/1b/dx8_94fs0q740wx3lfknk6y40000gn/T/ipykernel_42031/3950971282.py:3: SettingWithCopyWarning: \n",
      "A value is trying to be set on a copy of a slice from a DataFrame.\n",
      "Try using .loc[row_indexer,col_indexer] = value instead\n",
      "\n",
      "See the caveats in the documentation: https://pandas.pydata.org/pandas-docs/stable/user_guide/indexing.html#returning-a-view-versus-a-copy\n",
      "  tmp['keyword'] = tmp.msg.progress_apply(lambda x: kw_model.extract_keywords(x, keyphrase_ngram_range=(2,4), use_maxsum = True, top_n = 1))\n"
     ]
    },
    {
     "name": "stdout",
     "output_type": "stream",
     "text": [
      "{i} complete\n"
     ]
    },
    {
     "name": "stderr",
     "output_type": "stream",
     "text": [
      "100%|██████████| 16/16 [00:04<00:00,  3.35it/s]\n",
      "/var/folders/1b/dx8_94fs0q740wx3lfknk6y40000gn/T/ipykernel_42031/3950971282.py:3: SettingWithCopyWarning: \n",
      "A value is trying to be set on a copy of a slice from a DataFrame.\n",
      "Try using .loc[row_indexer,col_indexer] = value instead\n",
      "\n",
      "See the caveats in the documentation: https://pandas.pydata.org/pandas-docs/stable/user_guide/indexing.html#returning-a-view-versus-a-copy\n",
      "  tmp['keyword'] = tmp.msg.progress_apply(lambda x: kw_model.extract_keywords(x, keyphrase_ngram_range=(2,4), use_maxsum = True, top_n = 1))\n"
     ]
    },
    {
     "name": "stdout",
     "output_type": "stream",
     "text": [
      "{i} complete\n"
     ]
    },
    {
     "name": "stderr",
     "output_type": "stream",
     "text": [
      "100%|██████████| 16/16 [00:05<00:00,  2.96it/s]\n",
      "/var/folders/1b/dx8_94fs0q740wx3lfknk6y40000gn/T/ipykernel_42031/3950971282.py:3: SettingWithCopyWarning: \n",
      "A value is trying to be set on a copy of a slice from a DataFrame.\n",
      "Try using .loc[row_indexer,col_indexer] = value instead\n",
      "\n",
      "See the caveats in the documentation: https://pandas.pydata.org/pandas-docs/stable/user_guide/indexing.html#returning-a-view-versus-a-copy\n",
      "  tmp['keyword'] = tmp.msg.progress_apply(lambda x: kw_model.extract_keywords(x, keyphrase_ngram_range=(2,4), use_maxsum = True, top_n = 1))\n"
     ]
    },
    {
     "name": "stdout",
     "output_type": "stream",
     "text": [
      "{i} complete\n"
     ]
    },
    {
     "name": "stderr",
     "output_type": "stream",
     "text": [
      "100%|██████████| 15/15 [00:04<00:00,  3.10it/s]\n",
      "/var/folders/1b/dx8_94fs0q740wx3lfknk6y40000gn/T/ipykernel_42031/3950971282.py:3: SettingWithCopyWarning: \n",
      "A value is trying to be set on a copy of a slice from a DataFrame.\n",
      "Try using .loc[row_indexer,col_indexer] = value instead\n",
      "\n",
      "See the caveats in the documentation: https://pandas.pydata.org/pandas-docs/stable/user_guide/indexing.html#returning-a-view-versus-a-copy\n",
      "  tmp['keyword'] = tmp.msg.progress_apply(lambda x: kw_model.extract_keywords(x, keyphrase_ngram_range=(2,4), use_maxsum = True, top_n = 1))\n"
     ]
    },
    {
     "name": "stdout",
     "output_type": "stream",
     "text": [
      "{i} complete\n"
     ]
    },
    {
     "name": "stderr",
     "output_type": "stream",
     "text": [
      "100%|██████████| 15/15 [00:04<00:00,  3.11it/s]\n",
      "/var/folders/1b/dx8_94fs0q740wx3lfknk6y40000gn/T/ipykernel_42031/3950971282.py:3: SettingWithCopyWarning: \n",
      "A value is trying to be set on a copy of a slice from a DataFrame.\n",
      "Try using .loc[row_indexer,col_indexer] = value instead\n",
      "\n",
      "See the caveats in the documentation: https://pandas.pydata.org/pandas-docs/stable/user_guide/indexing.html#returning-a-view-versus-a-copy\n",
      "  tmp['keyword'] = tmp.msg.progress_apply(lambda x: kw_model.extract_keywords(x, keyphrase_ngram_range=(2,4), use_maxsum = True, top_n = 1))\n"
     ]
    },
    {
     "name": "stdout",
     "output_type": "stream",
     "text": [
      "{i} complete\n"
     ]
    },
    {
     "name": "stderr",
     "output_type": "stream",
     "text": [
      "100%|██████████| 15/15 [00:00<00:00, 15.20it/s]\n",
      "/var/folders/1b/dx8_94fs0q740wx3lfknk6y40000gn/T/ipykernel_42031/3950971282.py:3: SettingWithCopyWarning: \n",
      "A value is trying to be set on a copy of a slice from a DataFrame.\n",
      "Try using .loc[row_indexer,col_indexer] = value instead\n",
      "\n",
      "See the caveats in the documentation: https://pandas.pydata.org/pandas-docs/stable/user_guide/indexing.html#returning-a-view-versus-a-copy\n",
      "  tmp['keyword'] = tmp.msg.progress_apply(lambda x: kw_model.extract_keywords(x, keyphrase_ngram_range=(2,4), use_maxsum = True, top_n = 1))\n"
     ]
    },
    {
     "name": "stdout",
     "output_type": "stream",
     "text": [
      "{i} complete\n"
     ]
    },
    {
     "name": "stderr",
     "output_type": "stream",
     "text": [
      "100%|██████████| 15/15 [00:02<00:00,  6.56it/s]\n",
      "/var/folders/1b/dx8_94fs0q740wx3lfknk6y40000gn/T/ipykernel_42031/3950971282.py:3: SettingWithCopyWarning: \n",
      "A value is trying to be set on a copy of a slice from a DataFrame.\n",
      "Try using .loc[row_indexer,col_indexer] = value instead\n",
      "\n",
      "See the caveats in the documentation: https://pandas.pydata.org/pandas-docs/stable/user_guide/indexing.html#returning-a-view-versus-a-copy\n",
      "  tmp['keyword'] = tmp.msg.progress_apply(lambda x: kw_model.extract_keywords(x, keyphrase_ngram_range=(2,4), use_maxsum = True, top_n = 1))\n"
     ]
    },
    {
     "name": "stdout",
     "output_type": "stream",
     "text": [
      "{i} complete\n"
     ]
    },
    {
     "name": "stderr",
     "output_type": "stream",
     "text": [
      "100%|██████████| 15/15 [00:05<00:00,  2.71it/s]\n",
      "/var/folders/1b/dx8_94fs0q740wx3lfknk6y40000gn/T/ipykernel_42031/3950971282.py:3: SettingWithCopyWarning: \n",
      "A value is trying to be set on a copy of a slice from a DataFrame.\n",
      "Try using .loc[row_indexer,col_indexer] = value instead\n",
      "\n",
      "See the caveats in the documentation: https://pandas.pydata.org/pandas-docs/stable/user_guide/indexing.html#returning-a-view-versus-a-copy\n",
      "  tmp['keyword'] = tmp.msg.progress_apply(lambda x: kw_model.extract_keywords(x, keyphrase_ngram_range=(2,4), use_maxsum = True, top_n = 1))\n"
     ]
    },
    {
     "name": "stdout",
     "output_type": "stream",
     "text": [
      "{i} complete\n"
     ]
    },
    {
     "name": "stderr",
     "output_type": "stream",
     "text": [
      "100%|██████████| 14/14 [00:00<00:00, 28.46it/s]\n",
      "/var/folders/1b/dx8_94fs0q740wx3lfknk6y40000gn/T/ipykernel_42031/3950971282.py:3: SettingWithCopyWarning: \n",
      "A value is trying to be set on a copy of a slice from a DataFrame.\n",
      "Try using .loc[row_indexer,col_indexer] = value instead\n",
      "\n",
      "See the caveats in the documentation: https://pandas.pydata.org/pandas-docs/stable/user_guide/indexing.html#returning-a-view-versus-a-copy\n",
      "  tmp['keyword'] = tmp.msg.progress_apply(lambda x: kw_model.extract_keywords(x, keyphrase_ngram_range=(2,4), use_maxsum = True, top_n = 1))\n"
     ]
    },
    {
     "name": "stdout",
     "output_type": "stream",
     "text": [
      "{i} complete\n"
     ]
    },
    {
     "name": "stderr",
     "output_type": "stream",
     "text": [
      "100%|██████████| 14/14 [00:04<00:00,  3.14it/s]\n",
      "/var/folders/1b/dx8_94fs0q740wx3lfknk6y40000gn/T/ipykernel_42031/3950971282.py:3: SettingWithCopyWarning: \n",
      "A value is trying to be set on a copy of a slice from a DataFrame.\n",
      "Try using .loc[row_indexer,col_indexer] = value instead\n",
      "\n",
      "See the caveats in the documentation: https://pandas.pydata.org/pandas-docs/stable/user_guide/indexing.html#returning-a-view-versus-a-copy\n",
      "  tmp['keyword'] = tmp.msg.progress_apply(lambda x: kw_model.extract_keywords(x, keyphrase_ngram_range=(2,4), use_maxsum = True, top_n = 1))\n"
     ]
    },
    {
     "name": "stdout",
     "output_type": "stream",
     "text": [
      "{i} complete\n"
     ]
    },
    {
     "name": "stderr",
     "output_type": "stream",
     "text": [
      "100%|██████████| 14/14 [00:04<00:00,  3.16it/s]\n",
      "/var/folders/1b/dx8_94fs0q740wx3lfknk6y40000gn/T/ipykernel_42031/3950971282.py:3: SettingWithCopyWarning: \n",
      "A value is trying to be set on a copy of a slice from a DataFrame.\n",
      "Try using .loc[row_indexer,col_indexer] = value instead\n",
      "\n",
      "See the caveats in the documentation: https://pandas.pydata.org/pandas-docs/stable/user_guide/indexing.html#returning-a-view-versus-a-copy\n",
      "  tmp['keyword'] = tmp.msg.progress_apply(lambda x: kw_model.extract_keywords(x, keyphrase_ngram_range=(2,4), use_maxsum = True, top_n = 1))\n"
     ]
    },
    {
     "name": "stdout",
     "output_type": "stream",
     "text": [
      "{i} complete\n"
     ]
    },
    {
     "name": "stderr",
     "output_type": "stream",
     "text": [
      "100%|██████████| 14/14 [00:04<00:00,  2.85it/s]\n",
      "/var/folders/1b/dx8_94fs0q740wx3lfknk6y40000gn/T/ipykernel_42031/3950971282.py:3: SettingWithCopyWarning: \n",
      "A value is trying to be set on a copy of a slice from a DataFrame.\n",
      "Try using .loc[row_indexer,col_indexer] = value instead\n",
      "\n",
      "See the caveats in the documentation: https://pandas.pydata.org/pandas-docs/stable/user_guide/indexing.html#returning-a-view-versus-a-copy\n",
      "  tmp['keyword'] = tmp.msg.progress_apply(lambda x: kw_model.extract_keywords(x, keyphrase_ngram_range=(2,4), use_maxsum = True, top_n = 1))\n"
     ]
    },
    {
     "name": "stdout",
     "output_type": "stream",
     "text": [
      "{i} complete\n"
     ]
    },
    {
     "name": "stderr",
     "output_type": "stream",
     "text": [
      "100%|██████████| 14/14 [00:04<00:00,  2.87it/s]\n",
      "/var/folders/1b/dx8_94fs0q740wx3lfknk6y40000gn/T/ipykernel_42031/3950971282.py:3: SettingWithCopyWarning: \n",
      "A value is trying to be set on a copy of a slice from a DataFrame.\n",
      "Try using .loc[row_indexer,col_indexer] = value instead\n",
      "\n",
      "See the caveats in the documentation: https://pandas.pydata.org/pandas-docs/stable/user_guide/indexing.html#returning-a-view-versus-a-copy\n",
      "  tmp['keyword'] = tmp.msg.progress_apply(lambda x: kw_model.extract_keywords(x, keyphrase_ngram_range=(2,4), use_maxsum = True, top_n = 1))\n"
     ]
    },
    {
     "name": "stdout",
     "output_type": "stream",
     "text": [
      "{i} complete\n"
     ]
    },
    {
     "name": "stderr",
     "output_type": "stream",
     "text": [
      "100%|██████████| 13/13 [00:04<00:00,  2.97it/s]\n",
      "/var/folders/1b/dx8_94fs0q740wx3lfknk6y40000gn/T/ipykernel_42031/3950971282.py:3: SettingWithCopyWarning: \n",
      "A value is trying to be set on a copy of a slice from a DataFrame.\n",
      "Try using .loc[row_indexer,col_indexer] = value instead\n",
      "\n",
      "See the caveats in the documentation: https://pandas.pydata.org/pandas-docs/stable/user_guide/indexing.html#returning-a-view-versus-a-copy\n",
      "  tmp['keyword'] = tmp.msg.progress_apply(lambda x: kw_model.extract_keywords(x, keyphrase_ngram_range=(2,4), use_maxsum = True, top_n = 1))\n"
     ]
    },
    {
     "name": "stdout",
     "output_type": "stream",
     "text": [
      "{i} complete\n"
     ]
    },
    {
     "name": "stderr",
     "output_type": "stream",
     "text": [
      "100%|██████████| 13/13 [00:04<00:00,  2.75it/s]\n",
      "/var/folders/1b/dx8_94fs0q740wx3lfknk6y40000gn/T/ipykernel_42031/3950971282.py:3: SettingWithCopyWarning: \n",
      "A value is trying to be set on a copy of a slice from a DataFrame.\n",
      "Try using .loc[row_indexer,col_indexer] = value instead\n",
      "\n",
      "See the caveats in the documentation: https://pandas.pydata.org/pandas-docs/stable/user_guide/indexing.html#returning-a-view-versus-a-copy\n",
      "  tmp['keyword'] = tmp.msg.progress_apply(lambda x: kw_model.extract_keywords(x, keyphrase_ngram_range=(2,4), use_maxsum = True, top_n = 1))\n"
     ]
    },
    {
     "name": "stdout",
     "output_type": "stream",
     "text": [
      "{i} complete\n"
     ]
    },
    {
     "name": "stderr",
     "output_type": "stream",
     "text": [
      "100%|██████████| 13/13 [00:04<00:00,  3.08it/s]\n",
      "/var/folders/1b/dx8_94fs0q740wx3lfknk6y40000gn/T/ipykernel_42031/3950971282.py:3: SettingWithCopyWarning: \n",
      "A value is trying to be set on a copy of a slice from a DataFrame.\n",
      "Try using .loc[row_indexer,col_indexer] = value instead\n",
      "\n",
      "See the caveats in the documentation: https://pandas.pydata.org/pandas-docs/stable/user_guide/indexing.html#returning-a-view-versus-a-copy\n",
      "  tmp['keyword'] = tmp.msg.progress_apply(lambda x: kw_model.extract_keywords(x, keyphrase_ngram_range=(2,4), use_maxsum = True, top_n = 1))\n"
     ]
    },
    {
     "name": "stdout",
     "output_type": "stream",
     "text": [
      "{i} complete\n"
     ]
    },
    {
     "name": "stderr",
     "output_type": "stream",
     "text": [
      "100%|██████████| 13/13 [00:04<00:00,  2.90it/s]\n",
      "/var/folders/1b/dx8_94fs0q740wx3lfknk6y40000gn/T/ipykernel_42031/3950971282.py:3: SettingWithCopyWarning: \n",
      "A value is trying to be set on a copy of a slice from a DataFrame.\n",
      "Try using .loc[row_indexer,col_indexer] = value instead\n",
      "\n",
      "See the caveats in the documentation: https://pandas.pydata.org/pandas-docs/stable/user_guide/indexing.html#returning-a-view-versus-a-copy\n",
      "  tmp['keyword'] = tmp.msg.progress_apply(lambda x: kw_model.extract_keywords(x, keyphrase_ngram_range=(2,4), use_maxsum = True, top_n = 1))\n"
     ]
    },
    {
     "name": "stdout",
     "output_type": "stream",
     "text": [
      "{i} complete\n"
     ]
    },
    {
     "name": "stderr",
     "output_type": "stream",
     "text": [
      "100%|██████████| 13/13 [00:04<00:00,  2.95it/s]\n",
      "/var/folders/1b/dx8_94fs0q740wx3lfknk6y40000gn/T/ipykernel_42031/3950971282.py:3: SettingWithCopyWarning: \n",
      "A value is trying to be set on a copy of a slice from a DataFrame.\n",
      "Try using .loc[row_indexer,col_indexer] = value instead\n",
      "\n",
      "See the caveats in the documentation: https://pandas.pydata.org/pandas-docs/stable/user_guide/indexing.html#returning-a-view-versus-a-copy\n",
      "  tmp['keyword'] = tmp.msg.progress_apply(lambda x: kw_model.extract_keywords(x, keyphrase_ngram_range=(2,4), use_maxsum = True, top_n = 1))\n"
     ]
    },
    {
     "name": "stdout",
     "output_type": "stream",
     "text": [
      "{i} complete\n"
     ]
    },
    {
     "name": "stderr",
     "output_type": "stream",
     "text": [
      "100%|██████████| 13/13 [00:04<00:00,  3.03it/s]\n",
      "/var/folders/1b/dx8_94fs0q740wx3lfknk6y40000gn/T/ipykernel_42031/3950971282.py:3: SettingWithCopyWarning: \n",
      "A value is trying to be set on a copy of a slice from a DataFrame.\n",
      "Try using .loc[row_indexer,col_indexer] = value instead\n",
      "\n",
      "See the caveats in the documentation: https://pandas.pydata.org/pandas-docs/stable/user_guide/indexing.html#returning-a-view-versus-a-copy\n",
      "  tmp['keyword'] = tmp.msg.progress_apply(lambda x: kw_model.extract_keywords(x, keyphrase_ngram_range=(2,4), use_maxsum = True, top_n = 1))\n"
     ]
    },
    {
     "name": "stdout",
     "output_type": "stream",
     "text": [
      "{i} complete\n"
     ]
    },
    {
     "name": "stderr",
     "output_type": "stream",
     "text": [
      "100%|██████████| 13/13 [00:04<00:00,  2.97it/s]\n",
      "/var/folders/1b/dx8_94fs0q740wx3lfknk6y40000gn/T/ipykernel_42031/3950971282.py:3: SettingWithCopyWarning: \n",
      "A value is trying to be set on a copy of a slice from a DataFrame.\n",
      "Try using .loc[row_indexer,col_indexer] = value instead\n",
      "\n",
      "See the caveats in the documentation: https://pandas.pydata.org/pandas-docs/stable/user_guide/indexing.html#returning-a-view-versus-a-copy\n",
      "  tmp['keyword'] = tmp.msg.progress_apply(lambda x: kw_model.extract_keywords(x, keyphrase_ngram_range=(2,4), use_maxsum = True, top_n = 1))\n"
     ]
    },
    {
     "name": "stdout",
     "output_type": "stream",
     "text": [
      "{i} complete\n"
     ]
    },
    {
     "name": "stderr",
     "output_type": "stream",
     "text": [
      "100%|██████████| 13/13 [00:04<00:00,  2.93it/s]\n",
      "/var/folders/1b/dx8_94fs0q740wx3lfknk6y40000gn/T/ipykernel_42031/3950971282.py:3: SettingWithCopyWarning: \n",
      "A value is trying to be set on a copy of a slice from a DataFrame.\n",
      "Try using .loc[row_indexer,col_indexer] = value instead\n",
      "\n",
      "See the caveats in the documentation: https://pandas.pydata.org/pandas-docs/stable/user_guide/indexing.html#returning-a-view-versus-a-copy\n",
      "  tmp['keyword'] = tmp.msg.progress_apply(lambda x: kw_model.extract_keywords(x, keyphrase_ngram_range=(2,4), use_maxsum = True, top_n = 1))\n"
     ]
    },
    {
     "name": "stdout",
     "output_type": "stream",
     "text": [
      "{i} complete\n"
     ]
    },
    {
     "name": "stderr",
     "output_type": "stream",
     "text": [
      "100%|██████████| 13/13 [00:04<00:00,  2.82it/s]\n",
      "/var/folders/1b/dx8_94fs0q740wx3lfknk6y40000gn/T/ipykernel_42031/3950971282.py:3: SettingWithCopyWarning: \n",
      "A value is trying to be set on a copy of a slice from a DataFrame.\n",
      "Try using .loc[row_indexer,col_indexer] = value instead\n",
      "\n",
      "See the caveats in the documentation: https://pandas.pydata.org/pandas-docs/stable/user_guide/indexing.html#returning-a-view-versus-a-copy\n",
      "  tmp['keyword'] = tmp.msg.progress_apply(lambda x: kw_model.extract_keywords(x, keyphrase_ngram_range=(2,4), use_maxsum = True, top_n = 1))\n"
     ]
    },
    {
     "name": "stdout",
     "output_type": "stream",
     "text": [
      "{i} complete\n"
     ]
    },
    {
     "name": "stderr",
     "output_type": "stream",
     "text": [
      "100%|██████████| 13/13 [00:04<00:00,  2.93it/s]\n",
      "/var/folders/1b/dx8_94fs0q740wx3lfknk6y40000gn/T/ipykernel_42031/3950971282.py:3: SettingWithCopyWarning: \n",
      "A value is trying to be set on a copy of a slice from a DataFrame.\n",
      "Try using .loc[row_indexer,col_indexer] = value instead\n",
      "\n",
      "See the caveats in the documentation: https://pandas.pydata.org/pandas-docs/stable/user_guide/indexing.html#returning-a-view-versus-a-copy\n",
      "  tmp['keyword'] = tmp.msg.progress_apply(lambda x: kw_model.extract_keywords(x, keyphrase_ngram_range=(2,4), use_maxsum = True, top_n = 1))\n"
     ]
    },
    {
     "name": "stdout",
     "output_type": "stream",
     "text": [
      "{i} complete\n"
     ]
    },
    {
     "name": "stderr",
     "output_type": "stream",
     "text": [
      "100%|██████████| 12/12 [00:04<00:00,  2.70it/s]\n",
      "/var/folders/1b/dx8_94fs0q740wx3lfknk6y40000gn/T/ipykernel_42031/3950971282.py:3: SettingWithCopyWarning: \n",
      "A value is trying to be set on a copy of a slice from a DataFrame.\n",
      "Try using .loc[row_indexer,col_indexer] = value instead\n",
      "\n",
      "See the caveats in the documentation: https://pandas.pydata.org/pandas-docs/stable/user_guide/indexing.html#returning-a-view-versus-a-copy\n",
      "  tmp['keyword'] = tmp.msg.progress_apply(lambda x: kw_model.extract_keywords(x, keyphrase_ngram_range=(2,4), use_maxsum = True, top_n = 1))\n"
     ]
    },
    {
     "name": "stdout",
     "output_type": "stream",
     "text": [
      "{i} complete\n"
     ]
    },
    {
     "name": "stderr",
     "output_type": "stream",
     "text": [
      "100%|██████████| 12/12 [00:02<00:00,  4.08it/s]\n",
      "/var/folders/1b/dx8_94fs0q740wx3lfknk6y40000gn/T/ipykernel_42031/3950971282.py:3: SettingWithCopyWarning: \n",
      "A value is trying to be set on a copy of a slice from a DataFrame.\n",
      "Try using .loc[row_indexer,col_indexer] = value instead\n",
      "\n",
      "See the caveats in the documentation: https://pandas.pydata.org/pandas-docs/stable/user_guide/indexing.html#returning-a-view-versus-a-copy\n",
      "  tmp['keyword'] = tmp.msg.progress_apply(lambda x: kw_model.extract_keywords(x, keyphrase_ngram_range=(2,4), use_maxsum = True, top_n = 1))\n"
     ]
    },
    {
     "name": "stdout",
     "output_type": "stream",
     "text": [
      "{i} complete\n"
     ]
    },
    {
     "name": "stderr",
     "output_type": "stream",
     "text": [
      "100%|██████████| 12/12 [00:03<00:00,  3.02it/s]\n",
      "/var/folders/1b/dx8_94fs0q740wx3lfknk6y40000gn/T/ipykernel_42031/3950971282.py:3: SettingWithCopyWarning: \n",
      "A value is trying to be set on a copy of a slice from a DataFrame.\n",
      "Try using .loc[row_indexer,col_indexer] = value instead\n",
      "\n",
      "See the caveats in the documentation: https://pandas.pydata.org/pandas-docs/stable/user_guide/indexing.html#returning-a-view-versus-a-copy\n",
      "  tmp['keyword'] = tmp.msg.progress_apply(lambda x: kw_model.extract_keywords(x, keyphrase_ngram_range=(2,4), use_maxsum = True, top_n = 1))\n"
     ]
    },
    {
     "name": "stdout",
     "output_type": "stream",
     "text": [
      "{i} complete\n"
     ]
    },
    {
     "name": "stderr",
     "output_type": "stream",
     "text": [
      "100%|██████████| 12/12 [00:04<00:00,  2.88it/s]\n",
      "/var/folders/1b/dx8_94fs0q740wx3lfknk6y40000gn/T/ipykernel_42031/3950971282.py:3: SettingWithCopyWarning: \n",
      "A value is trying to be set on a copy of a slice from a DataFrame.\n",
      "Try using .loc[row_indexer,col_indexer] = value instead\n",
      "\n",
      "See the caveats in the documentation: https://pandas.pydata.org/pandas-docs/stable/user_guide/indexing.html#returning-a-view-versus-a-copy\n",
      "  tmp['keyword'] = tmp.msg.progress_apply(lambda x: kw_model.extract_keywords(x, keyphrase_ngram_range=(2,4), use_maxsum = True, top_n = 1))\n"
     ]
    },
    {
     "name": "stdout",
     "output_type": "stream",
     "text": [
      "{i} complete\n"
     ]
    },
    {
     "name": "stderr",
     "output_type": "stream",
     "text": [
      "100%|██████████| 12/12 [00:04<00:00,  2.86it/s]\n",
      "/var/folders/1b/dx8_94fs0q740wx3lfknk6y40000gn/T/ipykernel_42031/3950971282.py:3: SettingWithCopyWarning: \n",
      "A value is trying to be set on a copy of a slice from a DataFrame.\n",
      "Try using .loc[row_indexer,col_indexer] = value instead\n",
      "\n",
      "See the caveats in the documentation: https://pandas.pydata.org/pandas-docs/stable/user_guide/indexing.html#returning-a-view-versus-a-copy\n",
      "  tmp['keyword'] = tmp.msg.progress_apply(lambda x: kw_model.extract_keywords(x, keyphrase_ngram_range=(2,4), use_maxsum = True, top_n = 1))\n"
     ]
    },
    {
     "name": "stdout",
     "output_type": "stream",
     "text": [
      "{i} complete\n"
     ]
    },
    {
     "name": "stderr",
     "output_type": "stream",
     "text": [
      "100%|██████████| 12/12 [00:04<00:00,  2.81it/s]\n",
      "/var/folders/1b/dx8_94fs0q740wx3lfknk6y40000gn/T/ipykernel_42031/3950971282.py:3: SettingWithCopyWarning: \n",
      "A value is trying to be set on a copy of a slice from a DataFrame.\n",
      "Try using .loc[row_indexer,col_indexer] = value instead\n",
      "\n",
      "See the caveats in the documentation: https://pandas.pydata.org/pandas-docs/stable/user_guide/indexing.html#returning-a-view-versus-a-copy\n",
      "  tmp['keyword'] = tmp.msg.progress_apply(lambda x: kw_model.extract_keywords(x, keyphrase_ngram_range=(2,4), use_maxsum = True, top_n = 1))\n"
     ]
    },
    {
     "name": "stdout",
     "output_type": "stream",
     "text": [
      "{i} complete\n"
     ]
    },
    {
     "name": "stderr",
     "output_type": "stream",
     "text": [
      "100%|██████████| 11/11 [00:03<00:00,  2.89it/s]\n",
      "/var/folders/1b/dx8_94fs0q740wx3lfknk6y40000gn/T/ipykernel_42031/3950971282.py:3: SettingWithCopyWarning: \n",
      "A value is trying to be set on a copy of a slice from a DataFrame.\n",
      "Try using .loc[row_indexer,col_indexer] = value instead\n",
      "\n",
      "See the caveats in the documentation: https://pandas.pydata.org/pandas-docs/stable/user_guide/indexing.html#returning-a-view-versus-a-copy\n",
      "  tmp['keyword'] = tmp.msg.progress_apply(lambda x: kw_model.extract_keywords(x, keyphrase_ngram_range=(2,4), use_maxsum = True, top_n = 1))\n"
     ]
    },
    {
     "name": "stdout",
     "output_type": "stream",
     "text": [
      "{i} complete\n"
     ]
    },
    {
     "name": "stderr",
     "output_type": "stream",
     "text": [
      "100%|██████████| 11/11 [00:03<00:00,  2.82it/s]\n",
      "/var/folders/1b/dx8_94fs0q740wx3lfknk6y40000gn/T/ipykernel_42031/3950971282.py:3: SettingWithCopyWarning: \n",
      "A value is trying to be set on a copy of a slice from a DataFrame.\n",
      "Try using .loc[row_indexer,col_indexer] = value instead\n",
      "\n",
      "See the caveats in the documentation: https://pandas.pydata.org/pandas-docs/stable/user_guide/indexing.html#returning-a-view-versus-a-copy\n",
      "  tmp['keyword'] = tmp.msg.progress_apply(lambda x: kw_model.extract_keywords(x, keyphrase_ngram_range=(2,4), use_maxsum = True, top_n = 1))\n"
     ]
    },
    {
     "name": "stdout",
     "output_type": "stream",
     "text": [
      "{i} complete\n"
     ]
    },
    {
     "name": "stderr",
     "output_type": "stream",
     "text": [
      "100%|██████████| 11/11 [00:03<00:00,  3.13it/s]\n",
      "/var/folders/1b/dx8_94fs0q740wx3lfknk6y40000gn/T/ipykernel_42031/3950971282.py:3: SettingWithCopyWarning: \n",
      "A value is trying to be set on a copy of a slice from a DataFrame.\n",
      "Try using .loc[row_indexer,col_indexer] = value instead\n",
      "\n",
      "See the caveats in the documentation: https://pandas.pydata.org/pandas-docs/stable/user_guide/indexing.html#returning-a-view-versus-a-copy\n",
      "  tmp['keyword'] = tmp.msg.progress_apply(lambda x: kw_model.extract_keywords(x, keyphrase_ngram_range=(2,4), use_maxsum = True, top_n = 1))\n"
     ]
    },
    {
     "name": "stdout",
     "output_type": "stream",
     "text": [
      "{i} complete\n"
     ]
    },
    {
     "name": "stderr",
     "output_type": "stream",
     "text": [
      "100%|██████████| 11/11 [00:03<00:00,  2.78it/s]\n",
      "/var/folders/1b/dx8_94fs0q740wx3lfknk6y40000gn/T/ipykernel_42031/3950971282.py:3: SettingWithCopyWarning: \n",
      "A value is trying to be set on a copy of a slice from a DataFrame.\n",
      "Try using .loc[row_indexer,col_indexer] = value instead\n",
      "\n",
      "See the caveats in the documentation: https://pandas.pydata.org/pandas-docs/stable/user_guide/indexing.html#returning-a-view-versus-a-copy\n",
      "  tmp['keyword'] = tmp.msg.progress_apply(lambda x: kw_model.extract_keywords(x, keyphrase_ngram_range=(2,4), use_maxsum = True, top_n = 1))\n"
     ]
    },
    {
     "name": "stdout",
     "output_type": "stream",
     "text": [
      "{i} complete\n"
     ]
    },
    {
     "name": "stderr",
     "output_type": "stream",
     "text": [
      "100%|██████████| 11/11 [00:03<00:00,  3.57it/s]\n",
      "/var/folders/1b/dx8_94fs0q740wx3lfknk6y40000gn/T/ipykernel_42031/3950971282.py:3: SettingWithCopyWarning: \n",
      "A value is trying to be set on a copy of a slice from a DataFrame.\n",
      "Try using .loc[row_indexer,col_indexer] = value instead\n",
      "\n",
      "See the caveats in the documentation: https://pandas.pydata.org/pandas-docs/stable/user_guide/indexing.html#returning-a-view-versus-a-copy\n",
      "  tmp['keyword'] = tmp.msg.progress_apply(lambda x: kw_model.extract_keywords(x, keyphrase_ngram_range=(2,4), use_maxsum = True, top_n = 1))\n"
     ]
    },
    {
     "name": "stdout",
     "output_type": "stream",
     "text": [
      "{i} complete\n"
     ]
    },
    {
     "name": "stderr",
     "output_type": "stream",
     "text": [
      "100%|██████████| 11/11 [00:03<00:00,  3.14it/s]\n",
      "/var/folders/1b/dx8_94fs0q740wx3lfknk6y40000gn/T/ipykernel_42031/3950971282.py:3: SettingWithCopyWarning: \n",
      "A value is trying to be set on a copy of a slice from a DataFrame.\n",
      "Try using .loc[row_indexer,col_indexer] = value instead\n",
      "\n",
      "See the caveats in the documentation: https://pandas.pydata.org/pandas-docs/stable/user_guide/indexing.html#returning-a-view-versus-a-copy\n",
      "  tmp['keyword'] = tmp.msg.progress_apply(lambda x: kw_model.extract_keywords(x, keyphrase_ngram_range=(2,4), use_maxsum = True, top_n = 1))\n"
     ]
    },
    {
     "name": "stdout",
     "output_type": "stream",
     "text": [
      "{i} complete\n"
     ]
    },
    {
     "name": "stderr",
     "output_type": "stream",
     "text": [
      "100%|██████████| 11/11 [00:03<00:00,  2.87it/s]\n",
      "/var/folders/1b/dx8_94fs0q740wx3lfknk6y40000gn/T/ipykernel_42031/3950971282.py:3: SettingWithCopyWarning: \n",
      "A value is trying to be set on a copy of a slice from a DataFrame.\n",
      "Try using .loc[row_indexer,col_indexer] = value instead\n",
      "\n",
      "See the caveats in the documentation: https://pandas.pydata.org/pandas-docs/stable/user_guide/indexing.html#returning-a-view-versus-a-copy\n",
      "  tmp['keyword'] = tmp.msg.progress_apply(lambda x: kw_model.extract_keywords(x, keyphrase_ngram_range=(2,4), use_maxsum = True, top_n = 1))\n"
     ]
    },
    {
     "name": "stdout",
     "output_type": "stream",
     "text": [
      "{i} complete\n"
     ]
    },
    {
     "name": "stderr",
     "output_type": "stream",
     "text": [
      "100%|██████████| 11/11 [00:03<00:00,  2.78it/s]\n",
      "/var/folders/1b/dx8_94fs0q740wx3lfknk6y40000gn/T/ipykernel_42031/3950971282.py:3: SettingWithCopyWarning: \n",
      "A value is trying to be set on a copy of a slice from a DataFrame.\n",
      "Try using .loc[row_indexer,col_indexer] = value instead\n",
      "\n",
      "See the caveats in the documentation: https://pandas.pydata.org/pandas-docs/stable/user_guide/indexing.html#returning-a-view-versus-a-copy\n",
      "  tmp['keyword'] = tmp.msg.progress_apply(lambda x: kw_model.extract_keywords(x, keyphrase_ngram_range=(2,4), use_maxsum = True, top_n = 1))\n"
     ]
    },
    {
     "name": "stdout",
     "output_type": "stream",
     "text": [
      "{i} complete\n"
     ]
    },
    {
     "name": "stderr",
     "output_type": "stream",
     "text": [
      "100%|██████████| 10/10 [00:03<00:00,  2.88it/s]\n",
      "/var/folders/1b/dx8_94fs0q740wx3lfknk6y40000gn/T/ipykernel_42031/3950971282.py:3: SettingWithCopyWarning: \n",
      "A value is trying to be set on a copy of a slice from a DataFrame.\n",
      "Try using .loc[row_indexer,col_indexer] = value instead\n",
      "\n",
      "See the caveats in the documentation: https://pandas.pydata.org/pandas-docs/stable/user_guide/indexing.html#returning-a-view-versus-a-copy\n",
      "  tmp['keyword'] = tmp.msg.progress_apply(lambda x: kw_model.extract_keywords(x, keyphrase_ngram_range=(2,4), use_maxsum = True, top_n = 1))\n"
     ]
    },
    {
     "name": "stdout",
     "output_type": "stream",
     "text": [
      "{i} complete\n"
     ]
    },
    {
     "name": "stderr",
     "output_type": "stream",
     "text": [
      "100%|██████████| 10/10 [00:00<00:00, 24.58it/s]\n",
      "/var/folders/1b/dx8_94fs0q740wx3lfknk6y40000gn/T/ipykernel_42031/3950971282.py:3: SettingWithCopyWarning: \n",
      "A value is trying to be set on a copy of a slice from a DataFrame.\n",
      "Try using .loc[row_indexer,col_indexer] = value instead\n",
      "\n",
      "See the caveats in the documentation: https://pandas.pydata.org/pandas-docs/stable/user_guide/indexing.html#returning-a-view-versus-a-copy\n",
      "  tmp['keyword'] = tmp.msg.progress_apply(lambda x: kw_model.extract_keywords(x, keyphrase_ngram_range=(2,4), use_maxsum = True, top_n = 1))\n"
     ]
    },
    {
     "name": "stdout",
     "output_type": "stream",
     "text": [
      "{i} complete\n"
     ]
    },
    {
     "name": "stderr",
     "output_type": "stream",
     "text": [
      "100%|██████████| 10/10 [00:03<00:00,  3.12it/s]\n",
      "/var/folders/1b/dx8_94fs0q740wx3lfknk6y40000gn/T/ipykernel_42031/3950971282.py:3: SettingWithCopyWarning: \n",
      "A value is trying to be set on a copy of a slice from a DataFrame.\n",
      "Try using .loc[row_indexer,col_indexer] = value instead\n",
      "\n",
      "See the caveats in the documentation: https://pandas.pydata.org/pandas-docs/stable/user_guide/indexing.html#returning-a-view-versus-a-copy\n",
      "  tmp['keyword'] = tmp.msg.progress_apply(lambda x: kw_model.extract_keywords(x, keyphrase_ngram_range=(2,4), use_maxsum = True, top_n = 1))\n"
     ]
    },
    {
     "name": "stdout",
     "output_type": "stream",
     "text": [
      "{i} complete\n"
     ]
    },
    {
     "name": "stderr",
     "output_type": "stream",
     "text": [
      "100%|██████████| 10/10 [00:03<00:00,  3.00it/s]\n",
      "/var/folders/1b/dx8_94fs0q740wx3lfknk6y40000gn/T/ipykernel_42031/3950971282.py:3: SettingWithCopyWarning: \n",
      "A value is trying to be set on a copy of a slice from a DataFrame.\n",
      "Try using .loc[row_indexer,col_indexer] = value instead\n",
      "\n",
      "See the caveats in the documentation: https://pandas.pydata.org/pandas-docs/stable/user_guide/indexing.html#returning-a-view-versus-a-copy\n",
      "  tmp['keyword'] = tmp.msg.progress_apply(lambda x: kw_model.extract_keywords(x, keyphrase_ngram_range=(2,4), use_maxsum = True, top_n = 1))\n"
     ]
    },
    {
     "name": "stdout",
     "output_type": "stream",
     "text": [
      "{i} complete\n"
     ]
    },
    {
     "name": "stderr",
     "output_type": "stream",
     "text": [
      "100%|██████████| 10/10 [00:03<00:00,  3.24it/s]\n",
      "/var/folders/1b/dx8_94fs0q740wx3lfknk6y40000gn/T/ipykernel_42031/3950971282.py:3: SettingWithCopyWarning: \n",
      "A value is trying to be set on a copy of a slice from a DataFrame.\n",
      "Try using .loc[row_indexer,col_indexer] = value instead\n",
      "\n",
      "See the caveats in the documentation: https://pandas.pydata.org/pandas-docs/stable/user_guide/indexing.html#returning-a-view-versus-a-copy\n",
      "  tmp['keyword'] = tmp.msg.progress_apply(lambda x: kw_model.extract_keywords(x, keyphrase_ngram_range=(2,4), use_maxsum = True, top_n = 1))\n"
     ]
    },
    {
     "name": "stdout",
     "output_type": "stream",
     "text": [
      "{i} complete\n"
     ]
    },
    {
     "name": "stderr",
     "output_type": "stream",
     "text": [
      "100%|██████████| 10/10 [00:03<00:00,  2.72it/s]\n",
      "/var/folders/1b/dx8_94fs0q740wx3lfknk6y40000gn/T/ipykernel_42031/3950971282.py:3: SettingWithCopyWarning: \n",
      "A value is trying to be set on a copy of a slice from a DataFrame.\n",
      "Try using .loc[row_indexer,col_indexer] = value instead\n",
      "\n",
      "See the caveats in the documentation: https://pandas.pydata.org/pandas-docs/stable/user_guide/indexing.html#returning-a-view-versus-a-copy\n",
      "  tmp['keyword'] = tmp.msg.progress_apply(lambda x: kw_model.extract_keywords(x, keyphrase_ngram_range=(2,4), use_maxsum = True, top_n = 1))\n"
     ]
    },
    {
     "name": "stdout",
     "output_type": "stream",
     "text": [
      "{i} complete\n"
     ]
    },
    {
     "name": "stderr",
     "output_type": "stream",
     "text": [
      "100%|██████████| 10/10 [00:03<00:00,  2.78it/s]\n",
      "/var/folders/1b/dx8_94fs0q740wx3lfknk6y40000gn/T/ipykernel_42031/3950971282.py:3: SettingWithCopyWarning: \n",
      "A value is trying to be set on a copy of a slice from a DataFrame.\n",
      "Try using .loc[row_indexer,col_indexer] = value instead\n",
      "\n",
      "See the caveats in the documentation: https://pandas.pydata.org/pandas-docs/stable/user_guide/indexing.html#returning-a-view-versus-a-copy\n",
      "  tmp['keyword'] = tmp.msg.progress_apply(lambda x: kw_model.extract_keywords(x, keyphrase_ngram_range=(2,4), use_maxsum = True, top_n = 1))\n"
     ]
    },
    {
     "name": "stdout",
     "output_type": "stream",
     "text": [
      "{i} complete\n"
     ]
    },
    {
     "name": "stderr",
     "output_type": "stream",
     "text": [
      "100%|██████████| 10/10 [00:03<00:00,  2.73it/s]\n",
      "/var/folders/1b/dx8_94fs0q740wx3lfknk6y40000gn/T/ipykernel_42031/3950971282.py:3: SettingWithCopyWarning: \n",
      "A value is trying to be set on a copy of a slice from a DataFrame.\n",
      "Try using .loc[row_indexer,col_indexer] = value instead\n",
      "\n",
      "See the caveats in the documentation: https://pandas.pydata.org/pandas-docs/stable/user_guide/indexing.html#returning-a-view-versus-a-copy\n",
      "  tmp['keyword'] = tmp.msg.progress_apply(lambda x: kw_model.extract_keywords(x, keyphrase_ngram_range=(2,4), use_maxsum = True, top_n = 1))\n"
     ]
    },
    {
     "name": "stdout",
     "output_type": "stream",
     "text": [
      "{i} complete\n"
     ]
    },
    {
     "name": "stderr",
     "output_type": "stream",
     "text": [
      "100%|██████████| 10/10 [00:03<00:00,  3.13it/s]\n",
      "/var/folders/1b/dx8_94fs0q740wx3lfknk6y40000gn/T/ipykernel_42031/3950971282.py:3: SettingWithCopyWarning: \n",
      "A value is trying to be set on a copy of a slice from a DataFrame.\n",
      "Try using .loc[row_indexer,col_indexer] = value instead\n",
      "\n",
      "See the caveats in the documentation: https://pandas.pydata.org/pandas-docs/stable/user_guide/indexing.html#returning-a-view-versus-a-copy\n",
      "  tmp['keyword'] = tmp.msg.progress_apply(lambda x: kw_model.extract_keywords(x, keyphrase_ngram_range=(2,4), use_maxsum = True, top_n = 1))\n"
     ]
    },
    {
     "name": "stdout",
     "output_type": "stream",
     "text": [
      "{i} complete\n"
     ]
    },
    {
     "name": "stderr",
     "output_type": "stream",
     "text": [
      "100%|██████████| 10/10 [00:03<00:00,  3.03it/s]\n",
      "/var/folders/1b/dx8_94fs0q740wx3lfknk6y40000gn/T/ipykernel_42031/3950971282.py:3: SettingWithCopyWarning: \n",
      "A value is trying to be set on a copy of a slice from a DataFrame.\n",
      "Try using .loc[row_indexer,col_indexer] = value instead\n",
      "\n",
      "See the caveats in the documentation: https://pandas.pydata.org/pandas-docs/stable/user_guide/indexing.html#returning-a-view-versus-a-copy\n",
      "  tmp['keyword'] = tmp.msg.progress_apply(lambda x: kw_model.extract_keywords(x, keyphrase_ngram_range=(2,4), use_maxsum = True, top_n = 1))\n"
     ]
    },
    {
     "name": "stdout",
     "output_type": "stream",
     "text": [
      "{i} complete\n"
     ]
    },
    {
     "name": "stderr",
     "output_type": "stream",
     "text": [
      "100%|██████████| 10/10 [00:03<00:00,  2.84it/s]\n",
      "/var/folders/1b/dx8_94fs0q740wx3lfknk6y40000gn/T/ipykernel_42031/3950971282.py:3: SettingWithCopyWarning: \n",
      "A value is trying to be set on a copy of a slice from a DataFrame.\n",
      "Try using .loc[row_indexer,col_indexer] = value instead\n",
      "\n",
      "See the caveats in the documentation: https://pandas.pydata.org/pandas-docs/stable/user_guide/indexing.html#returning-a-view-versus-a-copy\n",
      "  tmp['keyword'] = tmp.msg.progress_apply(lambda x: kw_model.extract_keywords(x, keyphrase_ngram_range=(2,4), use_maxsum = True, top_n = 1))\n"
     ]
    },
    {
     "name": "stdout",
     "output_type": "stream",
     "text": [
      "{i} complete\n"
     ]
    },
    {
     "name": "stderr",
     "output_type": "stream",
     "text": [
      "100%|██████████| 10/10 [00:02<00:00,  3.61it/s]\n",
      "/var/folders/1b/dx8_94fs0q740wx3lfknk6y40000gn/T/ipykernel_42031/3950971282.py:3: SettingWithCopyWarning: \n",
      "A value is trying to be set on a copy of a slice from a DataFrame.\n",
      "Try using .loc[row_indexer,col_indexer] = value instead\n",
      "\n",
      "See the caveats in the documentation: https://pandas.pydata.org/pandas-docs/stable/user_guide/indexing.html#returning-a-view-versus-a-copy\n",
      "  tmp['keyword'] = tmp.msg.progress_apply(lambda x: kw_model.extract_keywords(x, keyphrase_ngram_range=(2,4), use_maxsum = True, top_n = 1))\n"
     ]
    },
    {
     "name": "stdout",
     "output_type": "stream",
     "text": [
      "{i} complete\n"
     ]
    },
    {
     "name": "stderr",
     "output_type": "stream",
     "text": [
      "100%|██████████| 9/9 [00:02<00:00,  3.06it/s]\n",
      "/var/folders/1b/dx8_94fs0q740wx3lfknk6y40000gn/T/ipykernel_42031/3950971282.py:3: SettingWithCopyWarning: \n",
      "A value is trying to be set on a copy of a slice from a DataFrame.\n",
      "Try using .loc[row_indexer,col_indexer] = value instead\n",
      "\n",
      "See the caveats in the documentation: https://pandas.pydata.org/pandas-docs/stable/user_guide/indexing.html#returning-a-view-versus-a-copy\n",
      "  tmp['keyword'] = tmp.msg.progress_apply(lambda x: kw_model.extract_keywords(x, keyphrase_ngram_range=(2,4), use_maxsum = True, top_n = 1))\n"
     ]
    },
    {
     "name": "stdout",
     "output_type": "stream",
     "text": [
      "{i} complete\n"
     ]
    },
    {
     "name": "stderr",
     "output_type": "stream",
     "text": [
      "100%|██████████| 9/9 [00:03<00:00,  2.84it/s]\n",
      "/var/folders/1b/dx8_94fs0q740wx3lfknk6y40000gn/T/ipykernel_42031/3950971282.py:3: SettingWithCopyWarning: \n",
      "A value is trying to be set on a copy of a slice from a DataFrame.\n",
      "Try using .loc[row_indexer,col_indexer] = value instead\n",
      "\n",
      "See the caveats in the documentation: https://pandas.pydata.org/pandas-docs/stable/user_guide/indexing.html#returning-a-view-versus-a-copy\n",
      "  tmp['keyword'] = tmp.msg.progress_apply(lambda x: kw_model.extract_keywords(x, keyphrase_ngram_range=(2,4), use_maxsum = True, top_n = 1))\n"
     ]
    },
    {
     "name": "stdout",
     "output_type": "stream",
     "text": [
      "{i} complete\n"
     ]
    },
    {
     "name": "stderr",
     "output_type": "stream",
     "text": [
      "100%|██████████| 9/9 [00:03<00:00,  2.76it/s]\n",
      "/var/folders/1b/dx8_94fs0q740wx3lfknk6y40000gn/T/ipykernel_42031/3950971282.py:3: SettingWithCopyWarning: \n",
      "A value is trying to be set on a copy of a slice from a DataFrame.\n",
      "Try using .loc[row_indexer,col_indexer] = value instead\n",
      "\n",
      "See the caveats in the documentation: https://pandas.pydata.org/pandas-docs/stable/user_guide/indexing.html#returning-a-view-versus-a-copy\n",
      "  tmp['keyword'] = tmp.msg.progress_apply(lambda x: kw_model.extract_keywords(x, keyphrase_ngram_range=(2,4), use_maxsum = True, top_n = 1))\n"
     ]
    },
    {
     "name": "stdout",
     "output_type": "stream",
     "text": [
      "{i} complete\n"
     ]
    },
    {
     "name": "stderr",
     "output_type": "stream",
     "text": [
      "100%|██████████| 9/9 [00:02<00:00,  3.07it/s]\n",
      "/var/folders/1b/dx8_94fs0q740wx3lfknk6y40000gn/T/ipykernel_42031/3950971282.py:3: SettingWithCopyWarning: \n",
      "A value is trying to be set on a copy of a slice from a DataFrame.\n",
      "Try using .loc[row_indexer,col_indexer] = value instead\n",
      "\n",
      "See the caveats in the documentation: https://pandas.pydata.org/pandas-docs/stable/user_guide/indexing.html#returning-a-view-versus-a-copy\n",
      "  tmp['keyword'] = tmp.msg.progress_apply(lambda x: kw_model.extract_keywords(x, keyphrase_ngram_range=(2,4), use_maxsum = True, top_n = 1))\n"
     ]
    },
    {
     "name": "stdout",
     "output_type": "stream",
     "text": [
      "{i} complete\n"
     ]
    },
    {
     "name": "stderr",
     "output_type": "stream",
     "text": [
      "100%|██████████| 9/9 [00:02<00:00,  3.04it/s]\n",
      "/var/folders/1b/dx8_94fs0q740wx3lfknk6y40000gn/T/ipykernel_42031/3950971282.py:3: SettingWithCopyWarning: \n",
      "A value is trying to be set on a copy of a slice from a DataFrame.\n",
      "Try using .loc[row_indexer,col_indexer] = value instead\n",
      "\n",
      "See the caveats in the documentation: https://pandas.pydata.org/pandas-docs/stable/user_guide/indexing.html#returning-a-view-versus-a-copy\n",
      "  tmp['keyword'] = tmp.msg.progress_apply(lambda x: kw_model.extract_keywords(x, keyphrase_ngram_range=(2,4), use_maxsum = True, top_n = 1))\n"
     ]
    },
    {
     "name": "stdout",
     "output_type": "stream",
     "text": [
      "{i} complete\n"
     ]
    },
    {
     "name": "stderr",
     "output_type": "stream",
     "text": [
      "100%|██████████| 9/9 [00:03<00:00,  2.89it/s]\n",
      "/var/folders/1b/dx8_94fs0q740wx3lfknk6y40000gn/T/ipykernel_42031/3950971282.py:3: SettingWithCopyWarning: \n",
      "A value is trying to be set on a copy of a slice from a DataFrame.\n",
      "Try using .loc[row_indexer,col_indexer] = value instead\n",
      "\n",
      "See the caveats in the documentation: https://pandas.pydata.org/pandas-docs/stable/user_guide/indexing.html#returning-a-view-versus-a-copy\n",
      "  tmp['keyword'] = tmp.msg.progress_apply(lambda x: kw_model.extract_keywords(x, keyphrase_ngram_range=(2,4), use_maxsum = True, top_n = 1))\n"
     ]
    },
    {
     "name": "stdout",
     "output_type": "stream",
     "text": [
      "{i} complete\n"
     ]
    },
    {
     "name": "stderr",
     "output_type": "stream",
     "text": [
      "100%|██████████| 9/9 [00:03<00:00,  2.91it/s]\n",
      "/var/folders/1b/dx8_94fs0q740wx3lfknk6y40000gn/T/ipykernel_42031/3950971282.py:3: SettingWithCopyWarning: \n",
      "A value is trying to be set on a copy of a slice from a DataFrame.\n",
      "Try using .loc[row_indexer,col_indexer] = value instead\n",
      "\n",
      "See the caveats in the documentation: https://pandas.pydata.org/pandas-docs/stable/user_guide/indexing.html#returning-a-view-versus-a-copy\n",
      "  tmp['keyword'] = tmp.msg.progress_apply(lambda x: kw_model.extract_keywords(x, keyphrase_ngram_range=(2,4), use_maxsum = True, top_n = 1))\n"
     ]
    },
    {
     "name": "stdout",
     "output_type": "stream",
     "text": [
      "{i} complete\n"
     ]
    },
    {
     "name": "stderr",
     "output_type": "stream",
     "text": [
      "100%|██████████| 9/9 [00:03<00:00,  2.99it/s]\n",
      "/var/folders/1b/dx8_94fs0q740wx3lfknk6y40000gn/T/ipykernel_42031/3950971282.py:3: SettingWithCopyWarning: \n",
      "A value is trying to be set on a copy of a slice from a DataFrame.\n",
      "Try using .loc[row_indexer,col_indexer] = value instead\n",
      "\n",
      "See the caveats in the documentation: https://pandas.pydata.org/pandas-docs/stable/user_guide/indexing.html#returning-a-view-versus-a-copy\n",
      "  tmp['keyword'] = tmp.msg.progress_apply(lambda x: kw_model.extract_keywords(x, keyphrase_ngram_range=(2,4), use_maxsum = True, top_n = 1))\n"
     ]
    },
    {
     "name": "stdout",
     "output_type": "stream",
     "text": [
      "{i} complete\n"
     ]
    },
    {
     "name": "stderr",
     "output_type": "stream",
     "text": [
      "100%|██████████| 9/9 [00:01<00:00,  4.84it/s]\n",
      "/var/folders/1b/dx8_94fs0q740wx3lfknk6y40000gn/T/ipykernel_42031/3950971282.py:3: SettingWithCopyWarning: \n",
      "A value is trying to be set on a copy of a slice from a DataFrame.\n",
      "Try using .loc[row_indexer,col_indexer] = value instead\n",
      "\n",
      "See the caveats in the documentation: https://pandas.pydata.org/pandas-docs/stable/user_guide/indexing.html#returning-a-view-versus-a-copy\n",
      "  tmp['keyword'] = tmp.msg.progress_apply(lambda x: kw_model.extract_keywords(x, keyphrase_ngram_range=(2,4), use_maxsum = True, top_n = 1))\n"
     ]
    },
    {
     "name": "stdout",
     "output_type": "stream",
     "text": [
      "{i} complete\n"
     ]
    },
    {
     "name": "stderr",
     "output_type": "stream",
     "text": [
      "100%|██████████| 9/9 [00:03<00:00,  2.38it/s]\n",
      "/var/folders/1b/dx8_94fs0q740wx3lfknk6y40000gn/T/ipykernel_42031/3950971282.py:3: SettingWithCopyWarning: \n",
      "A value is trying to be set on a copy of a slice from a DataFrame.\n",
      "Try using .loc[row_indexer,col_indexer] = value instead\n",
      "\n",
      "See the caveats in the documentation: https://pandas.pydata.org/pandas-docs/stable/user_guide/indexing.html#returning-a-view-versus-a-copy\n",
      "  tmp['keyword'] = tmp.msg.progress_apply(lambda x: kw_model.extract_keywords(x, keyphrase_ngram_range=(2,4), use_maxsum = True, top_n = 1))\n"
     ]
    },
    {
     "name": "stdout",
     "output_type": "stream",
     "text": [
      "{i} complete\n"
     ]
    },
    {
     "name": "stderr",
     "output_type": "stream",
     "text": [
      "100%|██████████| 9/9 [00:02<00:00,  3.14it/s]\n",
      "/var/folders/1b/dx8_94fs0q740wx3lfknk6y40000gn/T/ipykernel_42031/3950971282.py:3: SettingWithCopyWarning: \n",
      "A value is trying to be set on a copy of a slice from a DataFrame.\n",
      "Try using .loc[row_indexer,col_indexer] = value instead\n",
      "\n",
      "See the caveats in the documentation: https://pandas.pydata.org/pandas-docs/stable/user_guide/indexing.html#returning-a-view-versus-a-copy\n",
      "  tmp['keyword'] = tmp.msg.progress_apply(lambda x: kw_model.extract_keywords(x, keyphrase_ngram_range=(2,4), use_maxsum = True, top_n = 1))\n"
     ]
    },
    {
     "name": "stdout",
     "output_type": "stream",
     "text": [
      "{i} complete\n"
     ]
    },
    {
     "name": "stderr",
     "output_type": "stream",
     "text": [
      "100%|██████████| 9/9 [00:02<00:00,  3.07it/s]\n",
      "/var/folders/1b/dx8_94fs0q740wx3lfknk6y40000gn/T/ipykernel_42031/3950971282.py:3: SettingWithCopyWarning: \n",
      "A value is trying to be set on a copy of a slice from a DataFrame.\n",
      "Try using .loc[row_indexer,col_indexer] = value instead\n",
      "\n",
      "See the caveats in the documentation: https://pandas.pydata.org/pandas-docs/stable/user_guide/indexing.html#returning-a-view-versus-a-copy\n",
      "  tmp['keyword'] = tmp.msg.progress_apply(lambda x: kw_model.extract_keywords(x, keyphrase_ngram_range=(2,4), use_maxsum = True, top_n = 1))\n"
     ]
    },
    {
     "name": "stdout",
     "output_type": "stream",
     "text": [
      "{i} complete\n"
     ]
    },
    {
     "name": "stderr",
     "output_type": "stream",
     "text": [
      "100%|██████████| 9/9 [00:02<00:00,  3.11it/s]\n",
      "/var/folders/1b/dx8_94fs0q740wx3lfknk6y40000gn/T/ipykernel_42031/3950971282.py:3: SettingWithCopyWarning: \n",
      "A value is trying to be set on a copy of a slice from a DataFrame.\n",
      "Try using .loc[row_indexer,col_indexer] = value instead\n",
      "\n",
      "See the caveats in the documentation: https://pandas.pydata.org/pandas-docs/stable/user_guide/indexing.html#returning-a-view-versus-a-copy\n",
      "  tmp['keyword'] = tmp.msg.progress_apply(lambda x: kw_model.extract_keywords(x, keyphrase_ngram_range=(2,4), use_maxsum = True, top_n = 1))\n"
     ]
    },
    {
     "name": "stdout",
     "output_type": "stream",
     "text": [
      "{i} complete\n"
     ]
    },
    {
     "name": "stderr",
     "output_type": "stream",
     "text": [
      "100%|██████████| 9/9 [00:00<00:00, 11.97it/s]\n",
      "/var/folders/1b/dx8_94fs0q740wx3lfknk6y40000gn/T/ipykernel_42031/3950971282.py:3: SettingWithCopyWarning: \n",
      "A value is trying to be set on a copy of a slice from a DataFrame.\n",
      "Try using .loc[row_indexer,col_indexer] = value instead\n",
      "\n",
      "See the caveats in the documentation: https://pandas.pydata.org/pandas-docs/stable/user_guide/indexing.html#returning-a-view-versus-a-copy\n",
      "  tmp['keyword'] = tmp.msg.progress_apply(lambda x: kw_model.extract_keywords(x, keyphrase_ngram_range=(2,4), use_maxsum = True, top_n = 1))\n"
     ]
    },
    {
     "name": "stdout",
     "output_type": "stream",
     "text": [
      "{i} complete\n"
     ]
    },
    {
     "name": "stderr",
     "output_type": "stream",
     "text": [
      "100%|██████████| 9/9 [00:02<00:00,  3.28it/s]\n",
      "/var/folders/1b/dx8_94fs0q740wx3lfknk6y40000gn/T/ipykernel_42031/3950971282.py:3: SettingWithCopyWarning: \n",
      "A value is trying to be set on a copy of a slice from a DataFrame.\n",
      "Try using .loc[row_indexer,col_indexer] = value instead\n",
      "\n",
      "See the caveats in the documentation: https://pandas.pydata.org/pandas-docs/stable/user_guide/indexing.html#returning-a-view-versus-a-copy\n",
      "  tmp['keyword'] = tmp.msg.progress_apply(lambda x: kw_model.extract_keywords(x, keyphrase_ngram_range=(2,4), use_maxsum = True, top_n = 1))\n"
     ]
    },
    {
     "name": "stdout",
     "output_type": "stream",
     "text": [
      "{i} complete\n"
     ]
    },
    {
     "name": "stderr",
     "output_type": "stream",
     "text": [
      "100%|██████████| 8/8 [00:02<00:00,  3.04it/s]\n",
      "/var/folders/1b/dx8_94fs0q740wx3lfknk6y40000gn/T/ipykernel_42031/3950971282.py:3: SettingWithCopyWarning: \n",
      "A value is trying to be set on a copy of a slice from a DataFrame.\n",
      "Try using .loc[row_indexer,col_indexer] = value instead\n",
      "\n",
      "See the caveats in the documentation: https://pandas.pydata.org/pandas-docs/stable/user_guide/indexing.html#returning-a-view-versus-a-copy\n",
      "  tmp['keyword'] = tmp.msg.progress_apply(lambda x: kw_model.extract_keywords(x, keyphrase_ngram_range=(2,4), use_maxsum = True, top_n = 1))\n"
     ]
    },
    {
     "name": "stdout",
     "output_type": "stream",
     "text": [
      "{i} complete\n"
     ]
    },
    {
     "name": "stderr",
     "output_type": "stream",
     "text": [
      "100%|██████████| 8/8 [00:01<00:00,  4.01it/s]\n",
      "/var/folders/1b/dx8_94fs0q740wx3lfknk6y40000gn/T/ipykernel_42031/3950971282.py:3: SettingWithCopyWarning: \n",
      "A value is trying to be set on a copy of a slice from a DataFrame.\n",
      "Try using .loc[row_indexer,col_indexer] = value instead\n",
      "\n",
      "See the caveats in the documentation: https://pandas.pydata.org/pandas-docs/stable/user_guide/indexing.html#returning-a-view-versus-a-copy\n",
      "  tmp['keyword'] = tmp.msg.progress_apply(lambda x: kw_model.extract_keywords(x, keyphrase_ngram_range=(2,4), use_maxsum = True, top_n = 1))\n"
     ]
    },
    {
     "name": "stdout",
     "output_type": "stream",
     "text": [
      "{i} complete\n"
     ]
    },
    {
     "name": "stderr",
     "output_type": "stream",
     "text": [
      "100%|██████████| 8/8 [00:02<00:00,  2.90it/s]\n",
      "/var/folders/1b/dx8_94fs0q740wx3lfknk6y40000gn/T/ipykernel_42031/3950971282.py:3: SettingWithCopyWarning: \n",
      "A value is trying to be set on a copy of a slice from a DataFrame.\n",
      "Try using .loc[row_indexer,col_indexer] = value instead\n",
      "\n",
      "See the caveats in the documentation: https://pandas.pydata.org/pandas-docs/stable/user_guide/indexing.html#returning-a-view-versus-a-copy\n",
      "  tmp['keyword'] = tmp.msg.progress_apply(lambda x: kw_model.extract_keywords(x, keyphrase_ngram_range=(2,4), use_maxsum = True, top_n = 1))\n"
     ]
    },
    {
     "name": "stdout",
     "output_type": "stream",
     "text": [
      "{i} complete\n"
     ]
    },
    {
     "name": "stderr",
     "output_type": "stream",
     "text": [
      "100%|██████████| 8/8 [00:02<00:00,  2.84it/s]\n",
      "/var/folders/1b/dx8_94fs0q740wx3lfknk6y40000gn/T/ipykernel_42031/3950971282.py:3: SettingWithCopyWarning: \n",
      "A value is trying to be set on a copy of a slice from a DataFrame.\n",
      "Try using .loc[row_indexer,col_indexer] = value instead\n",
      "\n",
      "See the caveats in the documentation: https://pandas.pydata.org/pandas-docs/stable/user_guide/indexing.html#returning-a-view-versus-a-copy\n",
      "  tmp['keyword'] = tmp.msg.progress_apply(lambda x: kw_model.extract_keywords(x, keyphrase_ngram_range=(2,4), use_maxsum = True, top_n = 1))\n"
     ]
    },
    {
     "name": "stdout",
     "output_type": "stream",
     "text": [
      "{i} complete\n"
     ]
    },
    {
     "name": "stderr",
     "output_type": "stream",
     "text": [
      "100%|██████████| 8/8 [00:02<00:00,  3.05it/s]\n",
      "/var/folders/1b/dx8_94fs0q740wx3lfknk6y40000gn/T/ipykernel_42031/3950971282.py:3: SettingWithCopyWarning: \n",
      "A value is trying to be set on a copy of a slice from a DataFrame.\n",
      "Try using .loc[row_indexer,col_indexer] = value instead\n",
      "\n",
      "See the caveats in the documentation: https://pandas.pydata.org/pandas-docs/stable/user_guide/indexing.html#returning-a-view-versus-a-copy\n",
      "  tmp['keyword'] = tmp.msg.progress_apply(lambda x: kw_model.extract_keywords(x, keyphrase_ngram_range=(2,4), use_maxsum = True, top_n = 1))\n"
     ]
    },
    {
     "name": "stdout",
     "output_type": "stream",
     "text": [
      "{i} complete\n"
     ]
    },
    {
     "name": "stderr",
     "output_type": "stream",
     "text": [
      "100%|██████████| 8/8 [00:02<00:00,  2.94it/s]\n",
      "/var/folders/1b/dx8_94fs0q740wx3lfknk6y40000gn/T/ipykernel_42031/3950971282.py:3: SettingWithCopyWarning: \n",
      "A value is trying to be set on a copy of a slice from a DataFrame.\n",
      "Try using .loc[row_indexer,col_indexer] = value instead\n",
      "\n",
      "See the caveats in the documentation: https://pandas.pydata.org/pandas-docs/stable/user_guide/indexing.html#returning-a-view-versus-a-copy\n",
      "  tmp['keyword'] = tmp.msg.progress_apply(lambda x: kw_model.extract_keywords(x, keyphrase_ngram_range=(2,4), use_maxsum = True, top_n = 1))\n"
     ]
    },
    {
     "name": "stdout",
     "output_type": "stream",
     "text": [
      "{i} complete\n"
     ]
    },
    {
     "name": "stderr",
     "output_type": "stream",
     "text": [
      "100%|██████████| 8/8 [00:02<00:00,  3.80it/s]\n",
      "/var/folders/1b/dx8_94fs0q740wx3lfknk6y40000gn/T/ipykernel_42031/3950971282.py:3: SettingWithCopyWarning: \n",
      "A value is trying to be set on a copy of a slice from a DataFrame.\n",
      "Try using .loc[row_indexer,col_indexer] = value instead\n",
      "\n",
      "See the caveats in the documentation: https://pandas.pydata.org/pandas-docs/stable/user_guide/indexing.html#returning-a-view-versus-a-copy\n",
      "  tmp['keyword'] = tmp.msg.progress_apply(lambda x: kw_model.extract_keywords(x, keyphrase_ngram_range=(2,4), use_maxsum = True, top_n = 1))\n"
     ]
    },
    {
     "name": "stdout",
     "output_type": "stream",
     "text": [
      "{i} complete\n"
     ]
    },
    {
     "name": "stderr",
     "output_type": "stream",
     "text": [
      "100%|██████████| 8/8 [00:02<00:00,  2.89it/s]\n",
      "/var/folders/1b/dx8_94fs0q740wx3lfknk6y40000gn/T/ipykernel_42031/3950971282.py:3: SettingWithCopyWarning: \n",
      "A value is trying to be set on a copy of a slice from a DataFrame.\n",
      "Try using .loc[row_indexer,col_indexer] = value instead\n",
      "\n",
      "See the caveats in the documentation: https://pandas.pydata.org/pandas-docs/stable/user_guide/indexing.html#returning-a-view-versus-a-copy\n",
      "  tmp['keyword'] = tmp.msg.progress_apply(lambda x: kw_model.extract_keywords(x, keyphrase_ngram_range=(2,4), use_maxsum = True, top_n = 1))\n"
     ]
    },
    {
     "name": "stdout",
     "output_type": "stream",
     "text": [
      "{i} complete\n"
     ]
    },
    {
     "name": "stderr",
     "output_type": "stream",
     "text": [
      "100%|██████████| 8/8 [00:02<00:00,  2.77it/s]\n",
      "/var/folders/1b/dx8_94fs0q740wx3lfknk6y40000gn/T/ipykernel_42031/3950971282.py:3: SettingWithCopyWarning: \n",
      "A value is trying to be set on a copy of a slice from a DataFrame.\n",
      "Try using .loc[row_indexer,col_indexer] = value instead\n",
      "\n",
      "See the caveats in the documentation: https://pandas.pydata.org/pandas-docs/stable/user_guide/indexing.html#returning-a-view-versus-a-copy\n",
      "  tmp['keyword'] = tmp.msg.progress_apply(lambda x: kw_model.extract_keywords(x, keyphrase_ngram_range=(2,4), use_maxsum = True, top_n = 1))\n"
     ]
    },
    {
     "name": "stdout",
     "output_type": "stream",
     "text": [
      "{i} complete\n"
     ]
    },
    {
     "name": "stderr",
     "output_type": "stream",
     "text": [
      "100%|██████████| 8/8 [00:02<00:00,  2.81it/s]\n",
      "/var/folders/1b/dx8_94fs0q740wx3lfknk6y40000gn/T/ipykernel_42031/3950971282.py:3: SettingWithCopyWarning: \n",
      "A value is trying to be set on a copy of a slice from a DataFrame.\n",
      "Try using .loc[row_indexer,col_indexer] = value instead\n",
      "\n",
      "See the caveats in the documentation: https://pandas.pydata.org/pandas-docs/stable/user_guide/indexing.html#returning-a-view-versus-a-copy\n",
      "  tmp['keyword'] = tmp.msg.progress_apply(lambda x: kw_model.extract_keywords(x, keyphrase_ngram_range=(2,4), use_maxsum = True, top_n = 1))\n"
     ]
    },
    {
     "name": "stdout",
     "output_type": "stream",
     "text": [
      "{i} complete\n"
     ]
    },
    {
     "name": "stderr",
     "output_type": "stream",
     "text": [
      "100%|██████████| 8/8 [00:02<00:00,  2.95it/s]\n",
      "/var/folders/1b/dx8_94fs0q740wx3lfknk6y40000gn/T/ipykernel_42031/3950971282.py:3: SettingWithCopyWarning: \n",
      "A value is trying to be set on a copy of a slice from a DataFrame.\n",
      "Try using .loc[row_indexer,col_indexer] = value instead\n",
      "\n",
      "See the caveats in the documentation: https://pandas.pydata.org/pandas-docs/stable/user_guide/indexing.html#returning-a-view-versus-a-copy\n",
      "  tmp['keyword'] = tmp.msg.progress_apply(lambda x: kw_model.extract_keywords(x, keyphrase_ngram_range=(2,4), use_maxsum = True, top_n = 1))\n"
     ]
    },
    {
     "name": "stdout",
     "output_type": "stream",
     "text": [
      "{i} complete\n"
     ]
    },
    {
     "name": "stderr",
     "output_type": "stream",
     "text": [
      "100%|██████████| 8/8 [00:02<00:00,  2.90it/s]\n",
      "/var/folders/1b/dx8_94fs0q740wx3lfknk6y40000gn/T/ipykernel_42031/3950971282.py:3: SettingWithCopyWarning: \n",
      "A value is trying to be set on a copy of a slice from a DataFrame.\n",
      "Try using .loc[row_indexer,col_indexer] = value instead\n",
      "\n",
      "See the caveats in the documentation: https://pandas.pydata.org/pandas-docs/stable/user_guide/indexing.html#returning-a-view-versus-a-copy\n",
      "  tmp['keyword'] = tmp.msg.progress_apply(lambda x: kw_model.extract_keywords(x, keyphrase_ngram_range=(2,4), use_maxsum = True, top_n = 1))\n"
     ]
    },
    {
     "name": "stdout",
     "output_type": "stream",
     "text": [
      "{i} complete\n"
     ]
    },
    {
     "name": "stderr",
     "output_type": "stream",
     "text": [
      "100%|██████████| 8/8 [00:02<00:00,  3.25it/s]\n",
      "/var/folders/1b/dx8_94fs0q740wx3lfknk6y40000gn/T/ipykernel_42031/3950971282.py:3: SettingWithCopyWarning: \n",
      "A value is trying to be set on a copy of a slice from a DataFrame.\n",
      "Try using .loc[row_indexer,col_indexer] = value instead\n",
      "\n",
      "See the caveats in the documentation: https://pandas.pydata.org/pandas-docs/stable/user_guide/indexing.html#returning-a-view-versus-a-copy\n",
      "  tmp['keyword'] = tmp.msg.progress_apply(lambda x: kw_model.extract_keywords(x, keyphrase_ngram_range=(2,4), use_maxsum = True, top_n = 1))\n"
     ]
    },
    {
     "name": "stdout",
     "output_type": "stream",
     "text": [
      "{i} complete\n"
     ]
    },
    {
     "name": "stderr",
     "output_type": "stream",
     "text": [
      "100%|██████████| 8/8 [00:02<00:00,  3.07it/s]\n",
      "/var/folders/1b/dx8_94fs0q740wx3lfknk6y40000gn/T/ipykernel_42031/3950971282.py:3: SettingWithCopyWarning: \n",
      "A value is trying to be set on a copy of a slice from a DataFrame.\n",
      "Try using .loc[row_indexer,col_indexer] = value instead\n",
      "\n",
      "See the caveats in the documentation: https://pandas.pydata.org/pandas-docs/stable/user_guide/indexing.html#returning-a-view-versus-a-copy\n",
      "  tmp['keyword'] = tmp.msg.progress_apply(lambda x: kw_model.extract_keywords(x, keyphrase_ngram_range=(2,4), use_maxsum = True, top_n = 1))\n"
     ]
    },
    {
     "name": "stdout",
     "output_type": "stream",
     "text": [
      "{i} complete\n"
     ]
    },
    {
     "name": "stderr",
     "output_type": "stream",
     "text": [
      "100%|██████████| 8/8 [00:02<00:00,  2.95it/s]\n",
      "/var/folders/1b/dx8_94fs0q740wx3lfknk6y40000gn/T/ipykernel_42031/3950971282.py:3: SettingWithCopyWarning: \n",
      "A value is trying to be set on a copy of a slice from a DataFrame.\n",
      "Try using .loc[row_indexer,col_indexer] = value instead\n",
      "\n",
      "See the caveats in the documentation: https://pandas.pydata.org/pandas-docs/stable/user_guide/indexing.html#returning-a-view-versus-a-copy\n",
      "  tmp['keyword'] = tmp.msg.progress_apply(lambda x: kw_model.extract_keywords(x, keyphrase_ngram_range=(2,4), use_maxsum = True, top_n = 1))\n"
     ]
    },
    {
     "name": "stdout",
     "output_type": "stream",
     "text": [
      "{i} complete\n"
     ]
    },
    {
     "name": "stderr",
     "output_type": "stream",
     "text": [
      "100%|██████████| 7/7 [00:02<00:00,  3.00it/s]\n",
      "/var/folders/1b/dx8_94fs0q740wx3lfknk6y40000gn/T/ipykernel_42031/3950971282.py:3: SettingWithCopyWarning: \n",
      "A value is trying to be set on a copy of a slice from a DataFrame.\n",
      "Try using .loc[row_indexer,col_indexer] = value instead\n",
      "\n",
      "See the caveats in the documentation: https://pandas.pydata.org/pandas-docs/stable/user_guide/indexing.html#returning-a-view-versus-a-copy\n",
      "  tmp['keyword'] = tmp.msg.progress_apply(lambda x: kw_model.extract_keywords(x, keyphrase_ngram_range=(2,4), use_maxsum = True, top_n = 1))\n"
     ]
    },
    {
     "name": "stdout",
     "output_type": "stream",
     "text": [
      "{i} complete\n"
     ]
    },
    {
     "name": "stderr",
     "output_type": "stream",
     "text": [
      "100%|██████████| 7/7 [00:02<00:00,  2.91it/s]\n",
      "/var/folders/1b/dx8_94fs0q740wx3lfknk6y40000gn/T/ipykernel_42031/3950971282.py:3: SettingWithCopyWarning: \n",
      "A value is trying to be set on a copy of a slice from a DataFrame.\n",
      "Try using .loc[row_indexer,col_indexer] = value instead\n",
      "\n",
      "See the caveats in the documentation: https://pandas.pydata.org/pandas-docs/stable/user_guide/indexing.html#returning-a-view-versus-a-copy\n",
      "  tmp['keyword'] = tmp.msg.progress_apply(lambda x: kw_model.extract_keywords(x, keyphrase_ngram_range=(2,4), use_maxsum = True, top_n = 1))\n"
     ]
    },
    {
     "name": "stdout",
     "output_type": "stream",
     "text": [
      "{i} complete\n"
     ]
    },
    {
     "name": "stderr",
     "output_type": "stream",
     "text": [
      "100%|██████████| 7/7 [00:02<00:00,  2.71it/s]\n",
      "/var/folders/1b/dx8_94fs0q740wx3lfknk6y40000gn/T/ipykernel_42031/3950971282.py:3: SettingWithCopyWarning: \n",
      "A value is trying to be set on a copy of a slice from a DataFrame.\n",
      "Try using .loc[row_indexer,col_indexer] = value instead\n",
      "\n",
      "See the caveats in the documentation: https://pandas.pydata.org/pandas-docs/stable/user_guide/indexing.html#returning-a-view-versus-a-copy\n",
      "  tmp['keyword'] = tmp.msg.progress_apply(lambda x: kw_model.extract_keywords(x, keyphrase_ngram_range=(2,4), use_maxsum = True, top_n = 1))\n"
     ]
    },
    {
     "name": "stdout",
     "output_type": "stream",
     "text": [
      "{i} complete\n"
     ]
    },
    {
     "name": "stderr",
     "output_type": "stream",
     "text": [
      "100%|██████████| 7/7 [00:02<00:00,  2.98it/s]\n",
      "/var/folders/1b/dx8_94fs0q740wx3lfknk6y40000gn/T/ipykernel_42031/3950971282.py:3: SettingWithCopyWarning: \n",
      "A value is trying to be set on a copy of a slice from a DataFrame.\n",
      "Try using .loc[row_indexer,col_indexer] = value instead\n",
      "\n",
      "See the caveats in the documentation: https://pandas.pydata.org/pandas-docs/stable/user_guide/indexing.html#returning-a-view-versus-a-copy\n",
      "  tmp['keyword'] = tmp.msg.progress_apply(lambda x: kw_model.extract_keywords(x, keyphrase_ngram_range=(2,4), use_maxsum = True, top_n = 1))\n"
     ]
    },
    {
     "name": "stdout",
     "output_type": "stream",
     "text": [
      "{i} complete\n"
     ]
    },
    {
     "name": "stderr",
     "output_type": "stream",
     "text": [
      "100%|██████████| 7/7 [00:02<00:00,  2.84it/s]\n",
      "/var/folders/1b/dx8_94fs0q740wx3lfknk6y40000gn/T/ipykernel_42031/3950971282.py:3: SettingWithCopyWarning: \n",
      "A value is trying to be set on a copy of a slice from a DataFrame.\n",
      "Try using .loc[row_indexer,col_indexer] = value instead\n",
      "\n",
      "See the caveats in the documentation: https://pandas.pydata.org/pandas-docs/stable/user_guide/indexing.html#returning-a-view-versus-a-copy\n",
      "  tmp['keyword'] = tmp.msg.progress_apply(lambda x: kw_model.extract_keywords(x, keyphrase_ngram_range=(2,4), use_maxsum = True, top_n = 1))\n"
     ]
    },
    {
     "name": "stdout",
     "output_type": "stream",
     "text": [
      "{i} complete\n"
     ]
    },
    {
     "name": "stderr",
     "output_type": "stream",
     "text": [
      "100%|██████████| 7/7 [00:02<00:00,  2.72it/s]\n",
      "/var/folders/1b/dx8_94fs0q740wx3lfknk6y40000gn/T/ipykernel_42031/3950971282.py:3: SettingWithCopyWarning: \n",
      "A value is trying to be set on a copy of a slice from a DataFrame.\n",
      "Try using .loc[row_indexer,col_indexer] = value instead\n",
      "\n",
      "See the caveats in the documentation: https://pandas.pydata.org/pandas-docs/stable/user_guide/indexing.html#returning-a-view-versus-a-copy\n",
      "  tmp['keyword'] = tmp.msg.progress_apply(lambda x: kw_model.extract_keywords(x, keyphrase_ngram_range=(2,4), use_maxsum = True, top_n = 1))\n"
     ]
    },
    {
     "name": "stdout",
     "output_type": "stream",
     "text": [
      "{i} complete\n"
     ]
    },
    {
     "name": "stderr",
     "output_type": "stream",
     "text": [
      "100%|██████████| 7/7 [00:02<00:00,  3.00it/s]\n",
      "/var/folders/1b/dx8_94fs0q740wx3lfknk6y40000gn/T/ipykernel_42031/3950971282.py:3: SettingWithCopyWarning: \n",
      "A value is trying to be set on a copy of a slice from a DataFrame.\n",
      "Try using .loc[row_indexer,col_indexer] = value instead\n",
      "\n",
      "See the caveats in the documentation: https://pandas.pydata.org/pandas-docs/stable/user_guide/indexing.html#returning-a-view-versus-a-copy\n",
      "  tmp['keyword'] = tmp.msg.progress_apply(lambda x: kw_model.extract_keywords(x, keyphrase_ngram_range=(2,4), use_maxsum = True, top_n = 1))\n"
     ]
    },
    {
     "name": "stdout",
     "output_type": "stream",
     "text": [
      "{i} complete\n"
     ]
    },
    {
     "name": "stderr",
     "output_type": "stream",
     "text": [
      "100%|██████████| 7/7 [00:02<00:00,  2.62it/s]\n",
      "/var/folders/1b/dx8_94fs0q740wx3lfknk6y40000gn/T/ipykernel_42031/3950971282.py:3: SettingWithCopyWarning: \n",
      "A value is trying to be set on a copy of a slice from a DataFrame.\n",
      "Try using .loc[row_indexer,col_indexer] = value instead\n",
      "\n",
      "See the caveats in the documentation: https://pandas.pydata.org/pandas-docs/stable/user_guide/indexing.html#returning-a-view-versus-a-copy\n",
      "  tmp['keyword'] = tmp.msg.progress_apply(lambda x: kw_model.extract_keywords(x, keyphrase_ngram_range=(2,4), use_maxsum = True, top_n = 1))\n"
     ]
    },
    {
     "name": "stdout",
     "output_type": "stream",
     "text": [
      "{i} complete\n"
     ]
    },
    {
     "name": "stderr",
     "output_type": "stream",
     "text": [
      "100%|██████████| 7/7 [00:02<00:00,  2.81it/s]\n",
      "/var/folders/1b/dx8_94fs0q740wx3lfknk6y40000gn/T/ipykernel_42031/3950971282.py:3: SettingWithCopyWarning: \n",
      "A value is trying to be set on a copy of a slice from a DataFrame.\n",
      "Try using .loc[row_indexer,col_indexer] = value instead\n",
      "\n",
      "See the caveats in the documentation: https://pandas.pydata.org/pandas-docs/stable/user_guide/indexing.html#returning-a-view-versus-a-copy\n",
      "  tmp['keyword'] = tmp.msg.progress_apply(lambda x: kw_model.extract_keywords(x, keyphrase_ngram_range=(2,4), use_maxsum = True, top_n = 1))\n"
     ]
    },
    {
     "name": "stdout",
     "output_type": "stream",
     "text": [
      "{i} complete\n"
     ]
    },
    {
     "name": "stderr",
     "output_type": "stream",
     "text": [
      "100%|██████████| 7/7 [00:01<00:00,  6.63it/s]\n",
      "/var/folders/1b/dx8_94fs0q740wx3lfknk6y40000gn/T/ipykernel_42031/3950971282.py:3: SettingWithCopyWarning: \n",
      "A value is trying to be set on a copy of a slice from a DataFrame.\n",
      "Try using .loc[row_indexer,col_indexer] = value instead\n",
      "\n",
      "See the caveats in the documentation: https://pandas.pydata.org/pandas-docs/stable/user_guide/indexing.html#returning-a-view-versus-a-copy\n",
      "  tmp['keyword'] = tmp.msg.progress_apply(lambda x: kw_model.extract_keywords(x, keyphrase_ngram_range=(2,4), use_maxsum = True, top_n = 1))\n"
     ]
    },
    {
     "name": "stdout",
     "output_type": "stream",
     "text": [
      "{i} complete\n"
     ]
    },
    {
     "name": "stderr",
     "output_type": "stream",
     "text": [
      "100%|██████████| 7/7 [00:02<00:00,  3.31it/s]\n",
      "/var/folders/1b/dx8_94fs0q740wx3lfknk6y40000gn/T/ipykernel_42031/3950971282.py:3: SettingWithCopyWarning: \n",
      "A value is trying to be set on a copy of a slice from a DataFrame.\n",
      "Try using .loc[row_indexer,col_indexer] = value instead\n",
      "\n",
      "See the caveats in the documentation: https://pandas.pydata.org/pandas-docs/stable/user_guide/indexing.html#returning-a-view-versus-a-copy\n",
      "  tmp['keyword'] = tmp.msg.progress_apply(lambda x: kw_model.extract_keywords(x, keyphrase_ngram_range=(2,4), use_maxsum = True, top_n = 1))\n"
     ]
    },
    {
     "name": "stdout",
     "output_type": "stream",
     "text": [
      "{i} complete\n"
     ]
    },
    {
     "name": "stderr",
     "output_type": "stream",
     "text": [
      "100%|██████████| 7/7 [00:02<00:00,  2.80it/s]\n",
      "/var/folders/1b/dx8_94fs0q740wx3lfknk6y40000gn/T/ipykernel_42031/3950971282.py:3: SettingWithCopyWarning: \n",
      "A value is trying to be set on a copy of a slice from a DataFrame.\n",
      "Try using .loc[row_indexer,col_indexer] = value instead\n",
      "\n",
      "See the caveats in the documentation: https://pandas.pydata.org/pandas-docs/stable/user_guide/indexing.html#returning-a-view-versus-a-copy\n",
      "  tmp['keyword'] = tmp.msg.progress_apply(lambda x: kw_model.extract_keywords(x, keyphrase_ngram_range=(2,4), use_maxsum = True, top_n = 1))\n"
     ]
    },
    {
     "name": "stdout",
     "output_type": "stream",
     "text": [
      "{i} complete\n"
     ]
    },
    {
     "name": "stderr",
     "output_type": "stream",
     "text": [
      "100%|██████████| 7/7 [00:02<00:00,  3.07it/s]\n",
      "/var/folders/1b/dx8_94fs0q740wx3lfknk6y40000gn/T/ipykernel_42031/3950971282.py:3: SettingWithCopyWarning: \n",
      "A value is trying to be set on a copy of a slice from a DataFrame.\n",
      "Try using .loc[row_indexer,col_indexer] = value instead\n",
      "\n",
      "See the caveats in the documentation: https://pandas.pydata.org/pandas-docs/stable/user_guide/indexing.html#returning-a-view-versus-a-copy\n",
      "  tmp['keyword'] = tmp.msg.progress_apply(lambda x: kw_model.extract_keywords(x, keyphrase_ngram_range=(2,4), use_maxsum = True, top_n = 1))\n"
     ]
    },
    {
     "name": "stdout",
     "output_type": "stream",
     "text": [
      "{i} complete\n"
     ]
    },
    {
     "name": "stderr",
     "output_type": "stream",
     "text": [
      "100%|██████████| 7/7 [00:02<00:00,  2.93it/s]\n",
      "/var/folders/1b/dx8_94fs0q740wx3lfknk6y40000gn/T/ipykernel_42031/3950971282.py:3: SettingWithCopyWarning: \n",
      "A value is trying to be set on a copy of a slice from a DataFrame.\n",
      "Try using .loc[row_indexer,col_indexer] = value instead\n",
      "\n",
      "See the caveats in the documentation: https://pandas.pydata.org/pandas-docs/stable/user_guide/indexing.html#returning-a-view-versus-a-copy\n",
      "  tmp['keyword'] = tmp.msg.progress_apply(lambda x: kw_model.extract_keywords(x, keyphrase_ngram_range=(2,4), use_maxsum = True, top_n = 1))\n"
     ]
    },
    {
     "name": "stdout",
     "output_type": "stream",
     "text": [
      "{i} complete\n"
     ]
    },
    {
     "name": "stderr",
     "output_type": "stream",
     "text": [
      "100%|██████████| 7/7 [00:02<00:00,  2.92it/s]\n",
      "/var/folders/1b/dx8_94fs0q740wx3lfknk6y40000gn/T/ipykernel_42031/3950971282.py:3: SettingWithCopyWarning: \n",
      "A value is trying to be set on a copy of a slice from a DataFrame.\n",
      "Try using .loc[row_indexer,col_indexer] = value instead\n",
      "\n",
      "See the caveats in the documentation: https://pandas.pydata.org/pandas-docs/stable/user_guide/indexing.html#returning-a-view-versus-a-copy\n",
      "  tmp['keyword'] = tmp.msg.progress_apply(lambda x: kw_model.extract_keywords(x, keyphrase_ngram_range=(2,4), use_maxsum = True, top_n = 1))\n"
     ]
    },
    {
     "name": "stdout",
     "output_type": "stream",
     "text": [
      "{i} complete\n"
     ]
    },
    {
     "name": "stderr",
     "output_type": "stream",
     "text": [
      "100%|██████████| 7/7 [00:02<00:00,  2.87it/s]\n",
      "/var/folders/1b/dx8_94fs0q740wx3lfknk6y40000gn/T/ipykernel_42031/3950971282.py:3: SettingWithCopyWarning: \n",
      "A value is trying to be set on a copy of a slice from a DataFrame.\n",
      "Try using .loc[row_indexer,col_indexer] = value instead\n",
      "\n",
      "See the caveats in the documentation: https://pandas.pydata.org/pandas-docs/stable/user_guide/indexing.html#returning-a-view-versus-a-copy\n",
      "  tmp['keyword'] = tmp.msg.progress_apply(lambda x: kw_model.extract_keywords(x, keyphrase_ngram_range=(2,4), use_maxsum = True, top_n = 1))\n"
     ]
    },
    {
     "name": "stdout",
     "output_type": "stream",
     "text": [
      "{i} complete\n"
     ]
    },
    {
     "name": "stderr",
     "output_type": "stream",
     "text": [
      "100%|██████████| 7/7 [00:02<00:00,  2.78it/s]\n",
      "/var/folders/1b/dx8_94fs0q740wx3lfknk6y40000gn/T/ipykernel_42031/3950971282.py:3: SettingWithCopyWarning: \n",
      "A value is trying to be set on a copy of a slice from a DataFrame.\n",
      "Try using .loc[row_indexer,col_indexer] = value instead\n",
      "\n",
      "See the caveats in the documentation: https://pandas.pydata.org/pandas-docs/stable/user_guide/indexing.html#returning-a-view-versus-a-copy\n",
      "  tmp['keyword'] = tmp.msg.progress_apply(lambda x: kw_model.extract_keywords(x, keyphrase_ngram_range=(2,4), use_maxsum = True, top_n = 1))\n"
     ]
    },
    {
     "name": "stdout",
     "output_type": "stream",
     "text": [
      "{i} complete\n"
     ]
    },
    {
     "name": "stderr",
     "output_type": "stream",
     "text": [
      "100%|██████████| 7/7 [00:01<00:00,  3.56it/s]\n",
      "/var/folders/1b/dx8_94fs0q740wx3lfknk6y40000gn/T/ipykernel_42031/3950971282.py:3: SettingWithCopyWarning: \n",
      "A value is trying to be set on a copy of a slice from a DataFrame.\n",
      "Try using .loc[row_indexer,col_indexer] = value instead\n",
      "\n",
      "See the caveats in the documentation: https://pandas.pydata.org/pandas-docs/stable/user_guide/indexing.html#returning-a-view-versus-a-copy\n",
      "  tmp['keyword'] = tmp.msg.progress_apply(lambda x: kw_model.extract_keywords(x, keyphrase_ngram_range=(2,4), use_maxsum = True, top_n = 1))\n"
     ]
    },
    {
     "name": "stdout",
     "output_type": "stream",
     "text": [
      "{i} complete\n"
     ]
    },
    {
     "name": "stderr",
     "output_type": "stream",
     "text": [
      "100%|██████████| 7/7 [00:02<00:00,  3.27it/s]\n",
      "/var/folders/1b/dx8_94fs0q740wx3lfknk6y40000gn/T/ipykernel_42031/3950971282.py:3: SettingWithCopyWarning: \n",
      "A value is trying to be set on a copy of a slice from a DataFrame.\n",
      "Try using .loc[row_indexer,col_indexer] = value instead\n",
      "\n",
      "See the caveats in the documentation: https://pandas.pydata.org/pandas-docs/stable/user_guide/indexing.html#returning-a-view-versus-a-copy\n",
      "  tmp['keyword'] = tmp.msg.progress_apply(lambda x: kw_model.extract_keywords(x, keyphrase_ngram_range=(2,4), use_maxsum = True, top_n = 1))\n"
     ]
    },
    {
     "name": "stdout",
     "output_type": "stream",
     "text": [
      "{i} complete\n"
     ]
    },
    {
     "name": "stderr",
     "output_type": "stream",
     "text": [
      "100%|██████████| 7/7 [00:02<00:00,  3.29it/s]\n",
      "/var/folders/1b/dx8_94fs0q740wx3lfknk6y40000gn/T/ipykernel_42031/3950971282.py:3: SettingWithCopyWarning: \n",
      "A value is trying to be set on a copy of a slice from a DataFrame.\n",
      "Try using .loc[row_indexer,col_indexer] = value instead\n",
      "\n",
      "See the caveats in the documentation: https://pandas.pydata.org/pandas-docs/stable/user_guide/indexing.html#returning-a-view-versus-a-copy\n",
      "  tmp['keyword'] = tmp.msg.progress_apply(lambda x: kw_model.extract_keywords(x, keyphrase_ngram_range=(2,4), use_maxsum = True, top_n = 1))\n"
     ]
    },
    {
     "name": "stdout",
     "output_type": "stream",
     "text": [
      "{i} complete\n"
     ]
    },
    {
     "name": "stderr",
     "output_type": "stream",
     "text": [
      "100%|██████████| 7/7 [00:02<00:00,  2.99it/s]\n",
      "/var/folders/1b/dx8_94fs0q740wx3lfknk6y40000gn/T/ipykernel_42031/3950971282.py:3: SettingWithCopyWarning: \n",
      "A value is trying to be set on a copy of a slice from a DataFrame.\n",
      "Try using .loc[row_indexer,col_indexer] = value instead\n",
      "\n",
      "See the caveats in the documentation: https://pandas.pydata.org/pandas-docs/stable/user_guide/indexing.html#returning-a-view-versus-a-copy\n",
      "  tmp['keyword'] = tmp.msg.progress_apply(lambda x: kw_model.extract_keywords(x, keyphrase_ngram_range=(2,4), use_maxsum = True, top_n = 1))\n"
     ]
    },
    {
     "name": "stdout",
     "output_type": "stream",
     "text": [
      "{i} complete\n"
     ]
    },
    {
     "name": "stderr",
     "output_type": "stream",
     "text": [
      "100%|██████████| 7/7 [00:02<00:00,  2.99it/s]\n",
      "/var/folders/1b/dx8_94fs0q740wx3lfknk6y40000gn/T/ipykernel_42031/3950971282.py:3: SettingWithCopyWarning: \n",
      "A value is trying to be set on a copy of a slice from a DataFrame.\n",
      "Try using .loc[row_indexer,col_indexer] = value instead\n",
      "\n",
      "See the caveats in the documentation: https://pandas.pydata.org/pandas-docs/stable/user_guide/indexing.html#returning-a-view-versus-a-copy\n",
      "  tmp['keyword'] = tmp.msg.progress_apply(lambda x: kw_model.extract_keywords(x, keyphrase_ngram_range=(2,4), use_maxsum = True, top_n = 1))\n"
     ]
    },
    {
     "name": "stdout",
     "output_type": "stream",
     "text": [
      "{i} complete\n"
     ]
    },
    {
     "name": "stderr",
     "output_type": "stream",
     "text": [
      "100%|██████████| 6/6 [00:02<00:00,  2.91it/s]\n",
      "/var/folders/1b/dx8_94fs0q740wx3lfknk6y40000gn/T/ipykernel_42031/3950971282.py:3: SettingWithCopyWarning: \n",
      "A value is trying to be set on a copy of a slice from a DataFrame.\n",
      "Try using .loc[row_indexer,col_indexer] = value instead\n",
      "\n",
      "See the caveats in the documentation: https://pandas.pydata.org/pandas-docs/stable/user_guide/indexing.html#returning-a-view-versus-a-copy\n",
      "  tmp['keyword'] = tmp.msg.progress_apply(lambda x: kw_model.extract_keywords(x, keyphrase_ngram_range=(2,4), use_maxsum = True, top_n = 1))\n"
     ]
    },
    {
     "name": "stdout",
     "output_type": "stream",
     "text": [
      "{i} complete\n"
     ]
    },
    {
     "name": "stderr",
     "output_type": "stream",
     "text": [
      "100%|██████████| 6/6 [00:02<00:00,  2.82it/s]\n",
      "/var/folders/1b/dx8_94fs0q740wx3lfknk6y40000gn/T/ipykernel_42031/3950971282.py:3: SettingWithCopyWarning: \n",
      "A value is trying to be set on a copy of a slice from a DataFrame.\n",
      "Try using .loc[row_indexer,col_indexer] = value instead\n",
      "\n",
      "See the caveats in the documentation: https://pandas.pydata.org/pandas-docs/stable/user_guide/indexing.html#returning-a-view-versus-a-copy\n",
      "  tmp['keyword'] = tmp.msg.progress_apply(lambda x: kw_model.extract_keywords(x, keyphrase_ngram_range=(2,4), use_maxsum = True, top_n = 1))\n"
     ]
    },
    {
     "name": "stdout",
     "output_type": "stream",
     "text": [
      "{i} complete\n"
     ]
    },
    {
     "name": "stderr",
     "output_type": "stream",
     "text": [
      "100%|██████████| 6/6 [00:01<00:00,  3.03it/s]\n",
      "/var/folders/1b/dx8_94fs0q740wx3lfknk6y40000gn/T/ipykernel_42031/3950971282.py:3: SettingWithCopyWarning: \n",
      "A value is trying to be set on a copy of a slice from a DataFrame.\n",
      "Try using .loc[row_indexer,col_indexer] = value instead\n",
      "\n",
      "See the caveats in the documentation: https://pandas.pydata.org/pandas-docs/stable/user_guide/indexing.html#returning-a-view-versus-a-copy\n",
      "  tmp['keyword'] = tmp.msg.progress_apply(lambda x: kw_model.extract_keywords(x, keyphrase_ngram_range=(2,4), use_maxsum = True, top_n = 1))\n"
     ]
    },
    {
     "name": "stdout",
     "output_type": "stream",
     "text": [
      "{i} complete\n"
     ]
    },
    {
     "name": "stderr",
     "output_type": "stream",
     "text": [
      "100%|██████████| 6/6 [00:00<00:00, 18.72it/s]\n",
      "/var/folders/1b/dx8_94fs0q740wx3lfknk6y40000gn/T/ipykernel_42031/3950971282.py:3: SettingWithCopyWarning: \n",
      "A value is trying to be set on a copy of a slice from a DataFrame.\n",
      "Try using .loc[row_indexer,col_indexer] = value instead\n",
      "\n",
      "See the caveats in the documentation: https://pandas.pydata.org/pandas-docs/stable/user_guide/indexing.html#returning-a-view-versus-a-copy\n",
      "  tmp['keyword'] = tmp.msg.progress_apply(lambda x: kw_model.extract_keywords(x, keyphrase_ngram_range=(2,4), use_maxsum = True, top_n = 1))\n"
     ]
    },
    {
     "name": "stdout",
     "output_type": "stream",
     "text": [
      "{i} complete\n"
     ]
    },
    {
     "name": "stderr",
     "output_type": "stream",
     "text": [
      "100%|██████████| 6/6 [00:01<00:00,  3.28it/s]\n",
      "/var/folders/1b/dx8_94fs0q740wx3lfknk6y40000gn/T/ipykernel_42031/3950971282.py:3: SettingWithCopyWarning: \n",
      "A value is trying to be set on a copy of a slice from a DataFrame.\n",
      "Try using .loc[row_indexer,col_indexer] = value instead\n",
      "\n",
      "See the caveats in the documentation: https://pandas.pydata.org/pandas-docs/stable/user_guide/indexing.html#returning-a-view-versus-a-copy\n",
      "  tmp['keyword'] = tmp.msg.progress_apply(lambda x: kw_model.extract_keywords(x, keyphrase_ngram_range=(2,4), use_maxsum = True, top_n = 1))\n"
     ]
    },
    {
     "name": "stdout",
     "output_type": "stream",
     "text": [
      "{i} complete\n"
     ]
    },
    {
     "name": "stderr",
     "output_type": "stream",
     "text": [
      "100%|██████████| 6/6 [00:01<00:00,  3.23it/s]\n",
      "/var/folders/1b/dx8_94fs0q740wx3lfknk6y40000gn/T/ipykernel_42031/3950971282.py:3: SettingWithCopyWarning: \n",
      "A value is trying to be set on a copy of a slice from a DataFrame.\n",
      "Try using .loc[row_indexer,col_indexer] = value instead\n",
      "\n",
      "See the caveats in the documentation: https://pandas.pydata.org/pandas-docs/stable/user_guide/indexing.html#returning-a-view-versus-a-copy\n",
      "  tmp['keyword'] = tmp.msg.progress_apply(lambda x: kw_model.extract_keywords(x, keyphrase_ngram_range=(2,4), use_maxsum = True, top_n = 1))\n"
     ]
    },
    {
     "name": "stdout",
     "output_type": "stream",
     "text": [
      "{i} complete\n"
     ]
    },
    {
     "name": "stderr",
     "output_type": "stream",
     "text": [
      "100%|██████████| 6/6 [00:01<00:00,  5.69it/s]\n",
      "/var/folders/1b/dx8_94fs0q740wx3lfknk6y40000gn/T/ipykernel_42031/3950971282.py:3: SettingWithCopyWarning: \n",
      "A value is trying to be set on a copy of a slice from a DataFrame.\n",
      "Try using .loc[row_indexer,col_indexer] = value instead\n",
      "\n",
      "See the caveats in the documentation: https://pandas.pydata.org/pandas-docs/stable/user_guide/indexing.html#returning-a-view-versus-a-copy\n",
      "  tmp['keyword'] = tmp.msg.progress_apply(lambda x: kw_model.extract_keywords(x, keyphrase_ngram_range=(2,4), use_maxsum = True, top_n = 1))\n"
     ]
    },
    {
     "name": "stdout",
     "output_type": "stream",
     "text": [
      "{i} complete\n"
     ]
    },
    {
     "name": "stderr",
     "output_type": "stream",
     "text": [
      "100%|██████████| 6/6 [00:01<00:00,  3.35it/s]\n",
      "/var/folders/1b/dx8_94fs0q740wx3lfknk6y40000gn/T/ipykernel_42031/3950971282.py:3: SettingWithCopyWarning: \n",
      "A value is trying to be set on a copy of a slice from a DataFrame.\n",
      "Try using .loc[row_indexer,col_indexer] = value instead\n",
      "\n",
      "See the caveats in the documentation: https://pandas.pydata.org/pandas-docs/stable/user_guide/indexing.html#returning-a-view-versus-a-copy\n",
      "  tmp['keyword'] = tmp.msg.progress_apply(lambda x: kw_model.extract_keywords(x, keyphrase_ngram_range=(2,4), use_maxsum = True, top_n = 1))\n"
     ]
    },
    {
     "name": "stdout",
     "output_type": "stream",
     "text": [
      "{i} complete\n"
     ]
    },
    {
     "name": "stderr",
     "output_type": "stream",
     "text": [
      "100%|██████████| 6/6 [00:01<00:00,  3.36it/s]\n",
      "/var/folders/1b/dx8_94fs0q740wx3lfknk6y40000gn/T/ipykernel_42031/3950971282.py:3: SettingWithCopyWarning: \n",
      "A value is trying to be set on a copy of a slice from a DataFrame.\n",
      "Try using .loc[row_indexer,col_indexer] = value instead\n",
      "\n",
      "See the caveats in the documentation: https://pandas.pydata.org/pandas-docs/stable/user_guide/indexing.html#returning-a-view-versus-a-copy\n",
      "  tmp['keyword'] = tmp.msg.progress_apply(lambda x: kw_model.extract_keywords(x, keyphrase_ngram_range=(2,4), use_maxsum = True, top_n = 1))\n"
     ]
    },
    {
     "name": "stdout",
     "output_type": "stream",
     "text": [
      "{i} complete\n"
     ]
    },
    {
     "name": "stderr",
     "output_type": "stream",
     "text": [
      "100%|██████████| 6/6 [00:02<00:00,  2.90it/s]\n",
      "/var/folders/1b/dx8_94fs0q740wx3lfknk6y40000gn/T/ipykernel_42031/3950971282.py:3: SettingWithCopyWarning: \n",
      "A value is trying to be set on a copy of a slice from a DataFrame.\n",
      "Try using .loc[row_indexer,col_indexer] = value instead\n",
      "\n",
      "See the caveats in the documentation: https://pandas.pydata.org/pandas-docs/stable/user_guide/indexing.html#returning-a-view-versus-a-copy\n",
      "  tmp['keyword'] = tmp.msg.progress_apply(lambda x: kw_model.extract_keywords(x, keyphrase_ngram_range=(2,4), use_maxsum = True, top_n = 1))\n"
     ]
    },
    {
     "name": "stdout",
     "output_type": "stream",
     "text": [
      "{i} complete\n"
     ]
    },
    {
     "name": "stderr",
     "output_type": "stream",
     "text": [
      "100%|██████████| 6/6 [00:02<00:00,  2.78it/s]\n",
      "/var/folders/1b/dx8_94fs0q740wx3lfknk6y40000gn/T/ipykernel_42031/3950971282.py:3: SettingWithCopyWarning: \n",
      "A value is trying to be set on a copy of a slice from a DataFrame.\n",
      "Try using .loc[row_indexer,col_indexer] = value instead\n",
      "\n",
      "See the caveats in the documentation: https://pandas.pydata.org/pandas-docs/stable/user_guide/indexing.html#returning-a-view-versus-a-copy\n",
      "  tmp['keyword'] = tmp.msg.progress_apply(lambda x: kw_model.extract_keywords(x, keyphrase_ngram_range=(2,4), use_maxsum = True, top_n = 1))\n"
     ]
    },
    {
     "name": "stdout",
     "output_type": "stream",
     "text": [
      "{i} complete\n"
     ]
    },
    {
     "name": "stderr",
     "output_type": "stream",
     "text": [
      "100%|██████████| 6/6 [00:01<00:00,  3.43it/s]\n",
      "/var/folders/1b/dx8_94fs0q740wx3lfknk6y40000gn/T/ipykernel_42031/3950971282.py:3: SettingWithCopyWarning: \n",
      "A value is trying to be set on a copy of a slice from a DataFrame.\n",
      "Try using .loc[row_indexer,col_indexer] = value instead\n",
      "\n",
      "See the caveats in the documentation: https://pandas.pydata.org/pandas-docs/stable/user_guide/indexing.html#returning-a-view-versus-a-copy\n",
      "  tmp['keyword'] = tmp.msg.progress_apply(lambda x: kw_model.extract_keywords(x, keyphrase_ngram_range=(2,4), use_maxsum = True, top_n = 1))\n"
     ]
    },
    {
     "name": "stdout",
     "output_type": "stream",
     "text": [
      "{i} complete\n"
     ]
    },
    {
     "name": "stderr",
     "output_type": "stream",
     "text": [
      "100%|██████████| 6/6 [00:01<00:00,  4.35it/s]\n",
      "/var/folders/1b/dx8_94fs0q740wx3lfknk6y40000gn/T/ipykernel_42031/3950971282.py:3: SettingWithCopyWarning: \n",
      "A value is trying to be set on a copy of a slice from a DataFrame.\n",
      "Try using .loc[row_indexer,col_indexer] = value instead\n",
      "\n",
      "See the caveats in the documentation: https://pandas.pydata.org/pandas-docs/stable/user_guide/indexing.html#returning-a-view-versus-a-copy\n",
      "  tmp['keyword'] = tmp.msg.progress_apply(lambda x: kw_model.extract_keywords(x, keyphrase_ngram_range=(2,4), use_maxsum = True, top_n = 1))\n"
     ]
    },
    {
     "name": "stdout",
     "output_type": "stream",
     "text": [
      "{i} complete\n"
     ]
    },
    {
     "name": "stderr",
     "output_type": "stream",
     "text": [
      "100%|██████████| 6/6 [00:01<00:00,  3.02it/s]\n",
      "/var/folders/1b/dx8_94fs0q740wx3lfknk6y40000gn/T/ipykernel_42031/3950971282.py:3: SettingWithCopyWarning: \n",
      "A value is trying to be set on a copy of a slice from a DataFrame.\n",
      "Try using .loc[row_indexer,col_indexer] = value instead\n",
      "\n",
      "See the caveats in the documentation: https://pandas.pydata.org/pandas-docs/stable/user_guide/indexing.html#returning-a-view-versus-a-copy\n",
      "  tmp['keyword'] = tmp.msg.progress_apply(lambda x: kw_model.extract_keywords(x, keyphrase_ngram_range=(2,4), use_maxsum = True, top_n = 1))\n"
     ]
    },
    {
     "name": "stdout",
     "output_type": "stream",
     "text": [
      "{i} complete\n"
     ]
    },
    {
     "name": "stderr",
     "output_type": "stream",
     "text": [
      "100%|██████████| 6/6 [00:02<00:00,  2.83it/s]\n",
      "/var/folders/1b/dx8_94fs0q740wx3lfknk6y40000gn/T/ipykernel_42031/3950971282.py:3: SettingWithCopyWarning: \n",
      "A value is trying to be set on a copy of a slice from a DataFrame.\n",
      "Try using .loc[row_indexer,col_indexer] = value instead\n",
      "\n",
      "See the caveats in the documentation: https://pandas.pydata.org/pandas-docs/stable/user_guide/indexing.html#returning-a-view-versus-a-copy\n",
      "  tmp['keyword'] = tmp.msg.progress_apply(lambda x: kw_model.extract_keywords(x, keyphrase_ngram_range=(2,4), use_maxsum = True, top_n = 1))\n"
     ]
    },
    {
     "name": "stdout",
     "output_type": "stream",
     "text": [
      "{i} complete\n"
     ]
    },
    {
     "name": "stderr",
     "output_type": "stream",
     "text": [
      "100%|██████████| 6/6 [00:02<00:00,  2.79it/s]\n",
      "/var/folders/1b/dx8_94fs0q740wx3lfknk6y40000gn/T/ipykernel_42031/3950971282.py:3: SettingWithCopyWarning: \n",
      "A value is trying to be set on a copy of a slice from a DataFrame.\n",
      "Try using .loc[row_indexer,col_indexer] = value instead\n",
      "\n",
      "See the caveats in the documentation: https://pandas.pydata.org/pandas-docs/stable/user_guide/indexing.html#returning-a-view-versus-a-copy\n",
      "  tmp['keyword'] = tmp.msg.progress_apply(lambda x: kw_model.extract_keywords(x, keyphrase_ngram_range=(2,4), use_maxsum = True, top_n = 1))\n"
     ]
    },
    {
     "name": "stdout",
     "output_type": "stream",
     "text": [
      "{i} complete\n"
     ]
    },
    {
     "name": "stderr",
     "output_type": "stream",
     "text": [
      "100%|██████████| 6/6 [00:02<00:00,  2.82it/s]\n",
      "/var/folders/1b/dx8_94fs0q740wx3lfknk6y40000gn/T/ipykernel_42031/3950971282.py:3: SettingWithCopyWarning: \n",
      "A value is trying to be set on a copy of a slice from a DataFrame.\n",
      "Try using .loc[row_indexer,col_indexer] = value instead\n",
      "\n",
      "See the caveats in the documentation: https://pandas.pydata.org/pandas-docs/stable/user_guide/indexing.html#returning-a-view-versus-a-copy\n",
      "  tmp['keyword'] = tmp.msg.progress_apply(lambda x: kw_model.extract_keywords(x, keyphrase_ngram_range=(2,4), use_maxsum = True, top_n = 1))\n"
     ]
    },
    {
     "name": "stdout",
     "output_type": "stream",
     "text": [
      "{i} complete\n"
     ]
    },
    {
     "name": "stderr",
     "output_type": "stream",
     "text": [
      "100%|██████████| 6/6 [00:02<00:00,  2.88it/s]\n",
      "/var/folders/1b/dx8_94fs0q740wx3lfknk6y40000gn/T/ipykernel_42031/3950971282.py:3: SettingWithCopyWarning: \n",
      "A value is trying to be set on a copy of a slice from a DataFrame.\n",
      "Try using .loc[row_indexer,col_indexer] = value instead\n",
      "\n",
      "See the caveats in the documentation: https://pandas.pydata.org/pandas-docs/stable/user_guide/indexing.html#returning-a-view-versus-a-copy\n",
      "  tmp['keyword'] = tmp.msg.progress_apply(lambda x: kw_model.extract_keywords(x, keyphrase_ngram_range=(2,4), use_maxsum = True, top_n = 1))\n"
     ]
    },
    {
     "name": "stdout",
     "output_type": "stream",
     "text": [
      "{i} complete\n"
     ]
    },
    {
     "name": "stderr",
     "output_type": "stream",
     "text": [
      "100%|██████████| 6/6 [00:01<00:00,  3.00it/s]\n",
      "/var/folders/1b/dx8_94fs0q740wx3lfknk6y40000gn/T/ipykernel_42031/3950971282.py:3: SettingWithCopyWarning: \n",
      "A value is trying to be set on a copy of a slice from a DataFrame.\n",
      "Try using .loc[row_indexer,col_indexer] = value instead\n",
      "\n",
      "See the caveats in the documentation: https://pandas.pydata.org/pandas-docs/stable/user_guide/indexing.html#returning-a-view-versus-a-copy\n",
      "  tmp['keyword'] = tmp.msg.progress_apply(lambda x: kw_model.extract_keywords(x, keyphrase_ngram_range=(2,4), use_maxsum = True, top_n = 1))\n"
     ]
    },
    {
     "name": "stdout",
     "output_type": "stream",
     "text": [
      "{i} complete\n"
     ]
    },
    {
     "name": "stderr",
     "output_type": "stream",
     "text": [
      "100%|██████████| 5/5 [00:01<00:00,  3.15it/s]\n",
      "/var/folders/1b/dx8_94fs0q740wx3lfknk6y40000gn/T/ipykernel_42031/3950971282.py:3: SettingWithCopyWarning: \n",
      "A value is trying to be set on a copy of a slice from a DataFrame.\n",
      "Try using .loc[row_indexer,col_indexer] = value instead\n",
      "\n",
      "See the caveats in the documentation: https://pandas.pydata.org/pandas-docs/stable/user_guide/indexing.html#returning-a-view-versus-a-copy\n",
      "  tmp['keyword'] = tmp.msg.progress_apply(lambda x: kw_model.extract_keywords(x, keyphrase_ngram_range=(2,4), use_maxsum = True, top_n = 1))\n"
     ]
    },
    {
     "name": "stdout",
     "output_type": "stream",
     "text": [
      "{i} complete\n"
     ]
    },
    {
     "name": "stderr",
     "output_type": "stream",
     "text": [
      "100%|██████████| 5/5 [00:01<00:00,  3.28it/s]\n",
      "/var/folders/1b/dx8_94fs0q740wx3lfknk6y40000gn/T/ipykernel_42031/3950971282.py:3: SettingWithCopyWarning: \n",
      "A value is trying to be set on a copy of a slice from a DataFrame.\n",
      "Try using .loc[row_indexer,col_indexer] = value instead\n",
      "\n",
      "See the caveats in the documentation: https://pandas.pydata.org/pandas-docs/stable/user_guide/indexing.html#returning-a-view-versus-a-copy\n",
      "  tmp['keyword'] = tmp.msg.progress_apply(lambda x: kw_model.extract_keywords(x, keyphrase_ngram_range=(2,4), use_maxsum = True, top_n = 1))\n"
     ]
    },
    {
     "name": "stdout",
     "output_type": "stream",
     "text": [
      "{i} complete\n"
     ]
    },
    {
     "name": "stderr",
     "output_type": "stream",
     "text": [
      "100%|██████████| 5/5 [00:01<00:00,  3.01it/s]\n",
      "/var/folders/1b/dx8_94fs0q740wx3lfknk6y40000gn/T/ipykernel_42031/3950971282.py:3: SettingWithCopyWarning: \n",
      "A value is trying to be set on a copy of a slice from a DataFrame.\n",
      "Try using .loc[row_indexer,col_indexer] = value instead\n",
      "\n",
      "See the caveats in the documentation: https://pandas.pydata.org/pandas-docs/stable/user_guide/indexing.html#returning-a-view-versus-a-copy\n",
      "  tmp['keyword'] = tmp.msg.progress_apply(lambda x: kw_model.extract_keywords(x, keyphrase_ngram_range=(2,4), use_maxsum = True, top_n = 1))\n"
     ]
    },
    {
     "name": "stdout",
     "output_type": "stream",
     "text": [
      "{i} complete\n"
     ]
    },
    {
     "name": "stderr",
     "output_type": "stream",
     "text": [
      "100%|██████████| 5/5 [00:00<00:00,  6.11it/s]\n",
      "/var/folders/1b/dx8_94fs0q740wx3lfknk6y40000gn/T/ipykernel_42031/3950971282.py:3: SettingWithCopyWarning: \n",
      "A value is trying to be set on a copy of a slice from a DataFrame.\n",
      "Try using .loc[row_indexer,col_indexer] = value instead\n",
      "\n",
      "See the caveats in the documentation: https://pandas.pydata.org/pandas-docs/stable/user_guide/indexing.html#returning-a-view-versus-a-copy\n",
      "  tmp['keyword'] = tmp.msg.progress_apply(lambda x: kw_model.extract_keywords(x, keyphrase_ngram_range=(2,4), use_maxsum = True, top_n = 1))\n"
     ]
    },
    {
     "name": "stdout",
     "output_type": "stream",
     "text": [
      "{i} complete\n"
     ]
    },
    {
     "name": "stderr",
     "output_type": "stream",
     "text": [
      "100%|██████████| 5/5 [00:01<00:00,  3.06it/s]\n",
      "/var/folders/1b/dx8_94fs0q740wx3lfknk6y40000gn/T/ipykernel_42031/3950971282.py:3: SettingWithCopyWarning: \n",
      "A value is trying to be set on a copy of a slice from a DataFrame.\n",
      "Try using .loc[row_indexer,col_indexer] = value instead\n",
      "\n",
      "See the caveats in the documentation: https://pandas.pydata.org/pandas-docs/stable/user_guide/indexing.html#returning-a-view-versus-a-copy\n",
      "  tmp['keyword'] = tmp.msg.progress_apply(lambda x: kw_model.extract_keywords(x, keyphrase_ngram_range=(2,4), use_maxsum = True, top_n = 1))\n"
     ]
    },
    {
     "name": "stdout",
     "output_type": "stream",
     "text": [
      "{i} complete\n"
     ]
    },
    {
     "name": "stderr",
     "output_type": "stream",
     "text": [
      "100%|██████████| 5/5 [00:01<00:00,  3.03it/s]\n",
      "/var/folders/1b/dx8_94fs0q740wx3lfknk6y40000gn/T/ipykernel_42031/3950971282.py:3: SettingWithCopyWarning: \n",
      "A value is trying to be set on a copy of a slice from a DataFrame.\n",
      "Try using .loc[row_indexer,col_indexer] = value instead\n",
      "\n",
      "See the caveats in the documentation: https://pandas.pydata.org/pandas-docs/stable/user_guide/indexing.html#returning-a-view-versus-a-copy\n",
      "  tmp['keyword'] = tmp.msg.progress_apply(lambda x: kw_model.extract_keywords(x, keyphrase_ngram_range=(2,4), use_maxsum = True, top_n = 1))\n"
     ]
    },
    {
     "name": "stdout",
     "output_type": "stream",
     "text": [
      "{i} complete\n"
     ]
    },
    {
     "name": "stderr",
     "output_type": "stream",
     "text": [
      "100%|██████████| 5/5 [00:01<00:00,  2.70it/s]\n",
      "/var/folders/1b/dx8_94fs0q740wx3lfknk6y40000gn/T/ipykernel_42031/3950971282.py:3: SettingWithCopyWarning: \n",
      "A value is trying to be set on a copy of a slice from a DataFrame.\n",
      "Try using .loc[row_indexer,col_indexer] = value instead\n",
      "\n",
      "See the caveats in the documentation: https://pandas.pydata.org/pandas-docs/stable/user_guide/indexing.html#returning-a-view-versus-a-copy\n",
      "  tmp['keyword'] = tmp.msg.progress_apply(lambda x: kw_model.extract_keywords(x, keyphrase_ngram_range=(2,4), use_maxsum = True, top_n = 1))\n"
     ]
    },
    {
     "name": "stdout",
     "output_type": "stream",
     "text": [
      "{i} complete\n"
     ]
    },
    {
     "name": "stderr",
     "output_type": "stream",
     "text": [
      "100%|██████████| 5/5 [00:01<00:00,  2.98it/s]\n",
      "/var/folders/1b/dx8_94fs0q740wx3lfknk6y40000gn/T/ipykernel_42031/3950971282.py:3: SettingWithCopyWarning: \n",
      "A value is trying to be set on a copy of a slice from a DataFrame.\n",
      "Try using .loc[row_indexer,col_indexer] = value instead\n",
      "\n",
      "See the caveats in the documentation: https://pandas.pydata.org/pandas-docs/stable/user_guide/indexing.html#returning-a-view-versus-a-copy\n",
      "  tmp['keyword'] = tmp.msg.progress_apply(lambda x: kw_model.extract_keywords(x, keyphrase_ngram_range=(2,4), use_maxsum = True, top_n = 1))\n"
     ]
    },
    {
     "name": "stdout",
     "output_type": "stream",
     "text": [
      "{i} complete\n"
     ]
    },
    {
     "name": "stderr",
     "output_type": "stream",
     "text": [
      "100%|██████████| 5/5 [00:01<00:00,  3.52it/s]\n",
      "/var/folders/1b/dx8_94fs0q740wx3lfknk6y40000gn/T/ipykernel_42031/3950971282.py:3: SettingWithCopyWarning: \n",
      "A value is trying to be set on a copy of a slice from a DataFrame.\n",
      "Try using .loc[row_indexer,col_indexer] = value instead\n",
      "\n",
      "See the caveats in the documentation: https://pandas.pydata.org/pandas-docs/stable/user_guide/indexing.html#returning-a-view-versus-a-copy\n",
      "  tmp['keyword'] = tmp.msg.progress_apply(lambda x: kw_model.extract_keywords(x, keyphrase_ngram_range=(2,4), use_maxsum = True, top_n = 1))\n"
     ]
    },
    {
     "name": "stdout",
     "output_type": "stream",
     "text": [
      "{i} complete\n"
     ]
    },
    {
     "name": "stderr",
     "output_type": "stream",
     "text": [
      "100%|██████████| 5/5 [00:01<00:00,  2.97it/s]\n",
      "/var/folders/1b/dx8_94fs0q740wx3lfknk6y40000gn/T/ipykernel_42031/3950971282.py:3: SettingWithCopyWarning: \n",
      "A value is trying to be set on a copy of a slice from a DataFrame.\n",
      "Try using .loc[row_indexer,col_indexer] = value instead\n",
      "\n",
      "See the caveats in the documentation: https://pandas.pydata.org/pandas-docs/stable/user_guide/indexing.html#returning-a-view-versus-a-copy\n",
      "  tmp['keyword'] = tmp.msg.progress_apply(lambda x: kw_model.extract_keywords(x, keyphrase_ngram_range=(2,4), use_maxsum = True, top_n = 1))\n"
     ]
    },
    {
     "name": "stdout",
     "output_type": "stream",
     "text": [
      "{i} complete\n"
     ]
    },
    {
     "name": "stderr",
     "output_type": "stream",
     "text": [
      "100%|██████████| 5/5 [00:01<00:00,  2.64it/s]\n",
      "/var/folders/1b/dx8_94fs0q740wx3lfknk6y40000gn/T/ipykernel_42031/3950971282.py:3: SettingWithCopyWarning: \n",
      "A value is trying to be set on a copy of a slice from a DataFrame.\n",
      "Try using .loc[row_indexer,col_indexer] = value instead\n",
      "\n",
      "See the caveats in the documentation: https://pandas.pydata.org/pandas-docs/stable/user_guide/indexing.html#returning-a-view-versus-a-copy\n",
      "  tmp['keyword'] = tmp.msg.progress_apply(lambda x: kw_model.extract_keywords(x, keyphrase_ngram_range=(2,4), use_maxsum = True, top_n = 1))\n"
     ]
    },
    {
     "name": "stdout",
     "output_type": "stream",
     "text": [
      "{i} complete\n"
     ]
    },
    {
     "name": "stderr",
     "output_type": "stream",
     "text": [
      "100%|██████████| 5/5 [00:00<00:00, 16.44it/s]\n",
      "/var/folders/1b/dx8_94fs0q740wx3lfknk6y40000gn/T/ipykernel_42031/3950971282.py:3: SettingWithCopyWarning: \n",
      "A value is trying to be set on a copy of a slice from a DataFrame.\n",
      "Try using .loc[row_indexer,col_indexer] = value instead\n",
      "\n",
      "See the caveats in the documentation: https://pandas.pydata.org/pandas-docs/stable/user_guide/indexing.html#returning-a-view-versus-a-copy\n",
      "  tmp['keyword'] = tmp.msg.progress_apply(lambda x: kw_model.extract_keywords(x, keyphrase_ngram_range=(2,4), use_maxsum = True, top_n = 1))\n"
     ]
    },
    {
     "name": "stdout",
     "output_type": "stream",
     "text": [
      "{i} complete\n"
     ]
    },
    {
     "name": "stderr",
     "output_type": "stream",
     "text": [
      "100%|██████████| 5/5 [00:01<00:00,  3.40it/s]\n",
      "/var/folders/1b/dx8_94fs0q740wx3lfknk6y40000gn/T/ipykernel_42031/3950971282.py:3: SettingWithCopyWarning: \n",
      "A value is trying to be set on a copy of a slice from a DataFrame.\n",
      "Try using .loc[row_indexer,col_indexer] = value instead\n",
      "\n",
      "See the caveats in the documentation: https://pandas.pydata.org/pandas-docs/stable/user_guide/indexing.html#returning-a-view-versus-a-copy\n",
      "  tmp['keyword'] = tmp.msg.progress_apply(lambda x: kw_model.extract_keywords(x, keyphrase_ngram_range=(2,4), use_maxsum = True, top_n = 1))\n"
     ]
    },
    {
     "name": "stdout",
     "output_type": "stream",
     "text": [
      "{i} complete\n"
     ]
    },
    {
     "name": "stderr",
     "output_type": "stream",
     "text": [
      "100%|██████████| 5/5 [00:01<00:00,  3.31it/s]\n",
      "/var/folders/1b/dx8_94fs0q740wx3lfknk6y40000gn/T/ipykernel_42031/3950971282.py:3: SettingWithCopyWarning: \n",
      "A value is trying to be set on a copy of a slice from a DataFrame.\n",
      "Try using .loc[row_indexer,col_indexer] = value instead\n",
      "\n",
      "See the caveats in the documentation: https://pandas.pydata.org/pandas-docs/stable/user_guide/indexing.html#returning-a-view-versus-a-copy\n",
      "  tmp['keyword'] = tmp.msg.progress_apply(lambda x: kw_model.extract_keywords(x, keyphrase_ngram_range=(2,4), use_maxsum = True, top_n = 1))\n"
     ]
    },
    {
     "name": "stdout",
     "output_type": "stream",
     "text": [
      "{i} complete\n"
     ]
    },
    {
     "name": "stderr",
     "output_type": "stream",
     "text": [
      "100%|██████████| 5/5 [00:01<00:00,  2.85it/s]\n",
      "/var/folders/1b/dx8_94fs0q740wx3lfknk6y40000gn/T/ipykernel_42031/3950971282.py:3: SettingWithCopyWarning: \n",
      "A value is trying to be set on a copy of a slice from a DataFrame.\n",
      "Try using .loc[row_indexer,col_indexer] = value instead\n",
      "\n",
      "See the caveats in the documentation: https://pandas.pydata.org/pandas-docs/stable/user_guide/indexing.html#returning-a-view-versus-a-copy\n",
      "  tmp['keyword'] = tmp.msg.progress_apply(lambda x: kw_model.extract_keywords(x, keyphrase_ngram_range=(2,4), use_maxsum = True, top_n = 1))\n"
     ]
    },
    {
     "name": "stdout",
     "output_type": "stream",
     "text": [
      "{i} complete\n"
     ]
    },
    {
     "name": "stderr",
     "output_type": "stream",
     "text": [
      "100%|██████████| 5/5 [00:01<00:00,  3.69it/s]\n",
      "/var/folders/1b/dx8_94fs0q740wx3lfknk6y40000gn/T/ipykernel_42031/3950971282.py:3: SettingWithCopyWarning: \n",
      "A value is trying to be set on a copy of a slice from a DataFrame.\n",
      "Try using .loc[row_indexer,col_indexer] = value instead\n",
      "\n",
      "See the caveats in the documentation: https://pandas.pydata.org/pandas-docs/stable/user_guide/indexing.html#returning-a-view-versus-a-copy\n",
      "  tmp['keyword'] = tmp.msg.progress_apply(lambda x: kw_model.extract_keywords(x, keyphrase_ngram_range=(2,4), use_maxsum = True, top_n = 1))\n"
     ]
    },
    {
     "name": "stdout",
     "output_type": "stream",
     "text": [
      "{i} complete\n"
     ]
    },
    {
     "name": "stderr",
     "output_type": "stream",
     "text": [
      "100%|██████████| 5/5 [00:01<00:00,  3.10it/s]\n",
      "/var/folders/1b/dx8_94fs0q740wx3lfknk6y40000gn/T/ipykernel_42031/3950971282.py:3: SettingWithCopyWarning: \n",
      "A value is trying to be set on a copy of a slice from a DataFrame.\n",
      "Try using .loc[row_indexer,col_indexer] = value instead\n",
      "\n",
      "See the caveats in the documentation: https://pandas.pydata.org/pandas-docs/stable/user_guide/indexing.html#returning-a-view-versus-a-copy\n",
      "  tmp['keyword'] = tmp.msg.progress_apply(lambda x: kw_model.extract_keywords(x, keyphrase_ngram_range=(2,4), use_maxsum = True, top_n = 1))\n"
     ]
    },
    {
     "name": "stdout",
     "output_type": "stream",
     "text": [
      "{i} complete\n"
     ]
    },
    {
     "name": "stderr",
     "output_type": "stream",
     "text": [
      "100%|██████████| 5/5 [00:01<00:00,  2.85it/s]\n",
      "/var/folders/1b/dx8_94fs0q740wx3lfknk6y40000gn/T/ipykernel_42031/3950971282.py:3: SettingWithCopyWarning: \n",
      "A value is trying to be set on a copy of a slice from a DataFrame.\n",
      "Try using .loc[row_indexer,col_indexer] = value instead\n",
      "\n",
      "See the caveats in the documentation: https://pandas.pydata.org/pandas-docs/stable/user_guide/indexing.html#returning-a-view-versus-a-copy\n",
      "  tmp['keyword'] = tmp.msg.progress_apply(lambda x: kw_model.extract_keywords(x, keyphrase_ngram_range=(2,4), use_maxsum = True, top_n = 1))\n"
     ]
    },
    {
     "name": "stdout",
     "output_type": "stream",
     "text": [
      "{i} complete\n"
     ]
    },
    {
     "name": "stderr",
     "output_type": "stream",
     "text": [
      "100%|██████████| 5/5 [00:01<00:00,  3.49it/s]\n",
      "/var/folders/1b/dx8_94fs0q740wx3lfknk6y40000gn/T/ipykernel_42031/3950971282.py:3: SettingWithCopyWarning: \n",
      "A value is trying to be set on a copy of a slice from a DataFrame.\n",
      "Try using .loc[row_indexer,col_indexer] = value instead\n",
      "\n",
      "See the caveats in the documentation: https://pandas.pydata.org/pandas-docs/stable/user_guide/indexing.html#returning-a-view-versus-a-copy\n",
      "  tmp['keyword'] = tmp.msg.progress_apply(lambda x: kw_model.extract_keywords(x, keyphrase_ngram_range=(2,4), use_maxsum = True, top_n = 1))\n"
     ]
    },
    {
     "name": "stdout",
     "output_type": "stream",
     "text": [
      "{i} complete\n"
     ]
    },
    {
     "name": "stderr",
     "output_type": "stream",
     "text": [
      "100%|██████████| 5/5 [00:01<00:00,  3.12it/s]\n",
      "/var/folders/1b/dx8_94fs0q740wx3lfknk6y40000gn/T/ipykernel_42031/3950971282.py:3: SettingWithCopyWarning: \n",
      "A value is trying to be set on a copy of a slice from a DataFrame.\n",
      "Try using .loc[row_indexer,col_indexer] = value instead\n",
      "\n",
      "See the caveats in the documentation: https://pandas.pydata.org/pandas-docs/stable/user_guide/indexing.html#returning-a-view-versus-a-copy\n",
      "  tmp['keyword'] = tmp.msg.progress_apply(lambda x: kw_model.extract_keywords(x, keyphrase_ngram_range=(2,4), use_maxsum = True, top_n = 1))\n"
     ]
    },
    {
     "name": "stdout",
     "output_type": "stream",
     "text": [
      "{i} complete\n"
     ]
    },
    {
     "name": "stderr",
     "output_type": "stream",
     "text": [
      "100%|██████████| 5/5 [00:01<00:00,  3.27it/s]\n",
      "/var/folders/1b/dx8_94fs0q740wx3lfknk6y40000gn/T/ipykernel_42031/3950971282.py:3: SettingWithCopyWarning: \n",
      "A value is trying to be set on a copy of a slice from a DataFrame.\n",
      "Try using .loc[row_indexer,col_indexer] = value instead\n",
      "\n",
      "See the caveats in the documentation: https://pandas.pydata.org/pandas-docs/stable/user_guide/indexing.html#returning-a-view-versus-a-copy\n",
      "  tmp['keyword'] = tmp.msg.progress_apply(lambda x: kw_model.extract_keywords(x, keyphrase_ngram_range=(2,4), use_maxsum = True, top_n = 1))\n"
     ]
    },
    {
     "name": "stdout",
     "output_type": "stream",
     "text": [
      "{i} complete\n"
     ]
    },
    {
     "name": "stderr",
     "output_type": "stream",
     "text": [
      "100%|██████████| 5/5 [00:01<00:00,  2.75it/s]\n",
      "/var/folders/1b/dx8_94fs0q740wx3lfknk6y40000gn/T/ipykernel_42031/3950971282.py:3: SettingWithCopyWarning: \n",
      "A value is trying to be set on a copy of a slice from a DataFrame.\n",
      "Try using .loc[row_indexer,col_indexer] = value instead\n",
      "\n",
      "See the caveats in the documentation: https://pandas.pydata.org/pandas-docs/stable/user_guide/indexing.html#returning-a-view-versus-a-copy\n",
      "  tmp['keyword'] = tmp.msg.progress_apply(lambda x: kw_model.extract_keywords(x, keyphrase_ngram_range=(2,4), use_maxsum = True, top_n = 1))\n"
     ]
    },
    {
     "name": "stdout",
     "output_type": "stream",
     "text": [
      "{i} complete\n"
     ]
    },
    {
     "name": "stderr",
     "output_type": "stream",
     "text": [
      "100%|██████████| 5/5 [00:01<00:00,  2.81it/s]\n",
      "/var/folders/1b/dx8_94fs0q740wx3lfknk6y40000gn/T/ipykernel_42031/3950971282.py:3: SettingWithCopyWarning: \n",
      "A value is trying to be set on a copy of a slice from a DataFrame.\n",
      "Try using .loc[row_indexer,col_indexer] = value instead\n",
      "\n",
      "See the caveats in the documentation: https://pandas.pydata.org/pandas-docs/stable/user_guide/indexing.html#returning-a-view-versus-a-copy\n",
      "  tmp['keyword'] = tmp.msg.progress_apply(lambda x: kw_model.extract_keywords(x, keyphrase_ngram_range=(2,4), use_maxsum = True, top_n = 1))\n"
     ]
    },
    {
     "name": "stdout",
     "output_type": "stream",
     "text": [
      "{i} complete\n"
     ]
    },
    {
     "name": "stderr",
     "output_type": "stream",
     "text": [
      "100%|██████████| 5/5 [00:01<00:00,  2.97it/s]\n",
      "/var/folders/1b/dx8_94fs0q740wx3lfknk6y40000gn/T/ipykernel_42031/3950971282.py:3: SettingWithCopyWarning: \n",
      "A value is trying to be set on a copy of a slice from a DataFrame.\n",
      "Try using .loc[row_indexer,col_indexer] = value instead\n",
      "\n",
      "See the caveats in the documentation: https://pandas.pydata.org/pandas-docs/stable/user_guide/indexing.html#returning-a-view-versus-a-copy\n",
      "  tmp['keyword'] = tmp.msg.progress_apply(lambda x: kw_model.extract_keywords(x, keyphrase_ngram_range=(2,4), use_maxsum = True, top_n = 1))\n"
     ]
    },
    {
     "name": "stdout",
     "output_type": "stream",
     "text": [
      "{i} complete\n"
     ]
    },
    {
     "name": "stderr",
     "output_type": "stream",
     "text": [
      "100%|██████████| 5/5 [00:00<00:00, 18.26it/s]\n",
      "/var/folders/1b/dx8_94fs0q740wx3lfknk6y40000gn/T/ipykernel_42031/3950971282.py:3: SettingWithCopyWarning: \n",
      "A value is trying to be set on a copy of a slice from a DataFrame.\n",
      "Try using .loc[row_indexer,col_indexer] = value instead\n",
      "\n",
      "See the caveats in the documentation: https://pandas.pydata.org/pandas-docs/stable/user_guide/indexing.html#returning-a-view-versus-a-copy\n",
      "  tmp['keyword'] = tmp.msg.progress_apply(lambda x: kw_model.extract_keywords(x, keyphrase_ngram_range=(2,4), use_maxsum = True, top_n = 1))\n"
     ]
    },
    {
     "name": "stdout",
     "output_type": "stream",
     "text": [
      "{i} complete\n"
     ]
    },
    {
     "name": "stderr",
     "output_type": "stream",
     "text": [
      "100%|██████████| 5/5 [00:02<00:00,  2.37it/s]\n",
      "/var/folders/1b/dx8_94fs0q740wx3lfknk6y40000gn/T/ipykernel_42031/3950971282.py:3: SettingWithCopyWarning: \n",
      "A value is trying to be set on a copy of a slice from a DataFrame.\n",
      "Try using .loc[row_indexer,col_indexer] = value instead\n",
      "\n",
      "See the caveats in the documentation: https://pandas.pydata.org/pandas-docs/stable/user_guide/indexing.html#returning-a-view-versus-a-copy\n",
      "  tmp['keyword'] = tmp.msg.progress_apply(lambda x: kw_model.extract_keywords(x, keyphrase_ngram_range=(2,4), use_maxsum = True, top_n = 1))\n"
     ]
    },
    {
     "name": "stdout",
     "output_type": "stream",
     "text": [
      "{i} complete\n"
     ]
    },
    {
     "name": "stderr",
     "output_type": "stream",
     "text": [
      "100%|██████████| 5/5 [00:01<00:00,  2.94it/s]\n",
      "/var/folders/1b/dx8_94fs0q740wx3lfknk6y40000gn/T/ipykernel_42031/3950971282.py:3: SettingWithCopyWarning: \n",
      "A value is trying to be set on a copy of a slice from a DataFrame.\n",
      "Try using .loc[row_indexer,col_indexer] = value instead\n",
      "\n",
      "See the caveats in the documentation: https://pandas.pydata.org/pandas-docs/stable/user_guide/indexing.html#returning-a-view-versus-a-copy\n",
      "  tmp['keyword'] = tmp.msg.progress_apply(lambda x: kw_model.extract_keywords(x, keyphrase_ngram_range=(2,4), use_maxsum = True, top_n = 1))\n"
     ]
    },
    {
     "name": "stdout",
     "output_type": "stream",
     "text": [
      "{i} complete\n"
     ]
    },
    {
     "name": "stderr",
     "output_type": "stream",
     "text": [
      "100%|██████████| 5/5 [00:01<00:00,  3.16it/s]\n",
      "/var/folders/1b/dx8_94fs0q740wx3lfknk6y40000gn/T/ipykernel_42031/3950971282.py:3: SettingWithCopyWarning: \n",
      "A value is trying to be set on a copy of a slice from a DataFrame.\n",
      "Try using .loc[row_indexer,col_indexer] = value instead\n",
      "\n",
      "See the caveats in the documentation: https://pandas.pydata.org/pandas-docs/stable/user_guide/indexing.html#returning-a-view-versus-a-copy\n",
      "  tmp['keyword'] = tmp.msg.progress_apply(lambda x: kw_model.extract_keywords(x, keyphrase_ngram_range=(2,4), use_maxsum = True, top_n = 1))\n"
     ]
    },
    {
     "name": "stdout",
     "output_type": "stream",
     "text": [
      "{i} complete\n"
     ]
    },
    {
     "name": "stderr",
     "output_type": "stream",
     "text": [
      "100%|██████████| 5/5 [00:01<00:00,  2.85it/s]\n",
      "/var/folders/1b/dx8_94fs0q740wx3lfknk6y40000gn/T/ipykernel_42031/3950971282.py:3: SettingWithCopyWarning: \n",
      "A value is trying to be set on a copy of a slice from a DataFrame.\n",
      "Try using .loc[row_indexer,col_indexer] = value instead\n",
      "\n",
      "See the caveats in the documentation: https://pandas.pydata.org/pandas-docs/stable/user_guide/indexing.html#returning-a-view-versus-a-copy\n",
      "  tmp['keyword'] = tmp.msg.progress_apply(lambda x: kw_model.extract_keywords(x, keyphrase_ngram_range=(2,4), use_maxsum = True, top_n = 1))\n"
     ]
    },
    {
     "name": "stdout",
     "output_type": "stream",
     "text": [
      "{i} complete\n"
     ]
    },
    {
     "name": "stderr",
     "output_type": "stream",
     "text": [
      "100%|██████████| 4/4 [00:01<00:00,  3.16it/s]\n",
      "/var/folders/1b/dx8_94fs0q740wx3lfknk6y40000gn/T/ipykernel_42031/3950971282.py:3: SettingWithCopyWarning: \n",
      "A value is trying to be set on a copy of a slice from a DataFrame.\n",
      "Try using .loc[row_indexer,col_indexer] = value instead\n",
      "\n",
      "See the caveats in the documentation: https://pandas.pydata.org/pandas-docs/stable/user_guide/indexing.html#returning-a-view-versus-a-copy\n",
      "  tmp['keyword'] = tmp.msg.progress_apply(lambda x: kw_model.extract_keywords(x, keyphrase_ngram_range=(2,4), use_maxsum = True, top_n = 1))\n"
     ]
    },
    {
     "name": "stdout",
     "output_type": "stream",
     "text": [
      "{i} complete\n"
     ]
    },
    {
     "name": "stderr",
     "output_type": "stream",
     "text": [
      "100%|██████████| 4/4 [00:01<00:00,  2.87it/s]\n",
      "/var/folders/1b/dx8_94fs0q740wx3lfknk6y40000gn/T/ipykernel_42031/3950971282.py:3: SettingWithCopyWarning: \n",
      "A value is trying to be set on a copy of a slice from a DataFrame.\n",
      "Try using .loc[row_indexer,col_indexer] = value instead\n",
      "\n",
      "See the caveats in the documentation: https://pandas.pydata.org/pandas-docs/stable/user_guide/indexing.html#returning-a-view-versus-a-copy\n",
      "  tmp['keyword'] = tmp.msg.progress_apply(lambda x: kw_model.extract_keywords(x, keyphrase_ngram_range=(2,4), use_maxsum = True, top_n = 1))\n"
     ]
    },
    {
     "name": "stdout",
     "output_type": "stream",
     "text": [
      "{i} complete\n"
     ]
    },
    {
     "name": "stderr",
     "output_type": "stream",
     "text": [
      "100%|██████████| 4/4 [00:01<00:00,  3.36it/s]\n",
      "/var/folders/1b/dx8_94fs0q740wx3lfknk6y40000gn/T/ipykernel_42031/3950971282.py:3: SettingWithCopyWarning: \n",
      "A value is trying to be set on a copy of a slice from a DataFrame.\n",
      "Try using .loc[row_indexer,col_indexer] = value instead\n",
      "\n",
      "See the caveats in the documentation: https://pandas.pydata.org/pandas-docs/stable/user_guide/indexing.html#returning-a-view-versus-a-copy\n",
      "  tmp['keyword'] = tmp.msg.progress_apply(lambda x: kw_model.extract_keywords(x, keyphrase_ngram_range=(2,4), use_maxsum = True, top_n = 1))\n"
     ]
    },
    {
     "name": "stdout",
     "output_type": "stream",
     "text": [
      "{i} complete\n"
     ]
    },
    {
     "name": "stderr",
     "output_type": "stream",
     "text": [
      "100%|██████████| 4/4 [00:01<00:00,  3.06it/s]\n",
      "/var/folders/1b/dx8_94fs0q740wx3lfknk6y40000gn/T/ipykernel_42031/3950971282.py:3: SettingWithCopyWarning: \n",
      "A value is trying to be set on a copy of a slice from a DataFrame.\n",
      "Try using .loc[row_indexer,col_indexer] = value instead\n",
      "\n",
      "See the caveats in the documentation: https://pandas.pydata.org/pandas-docs/stable/user_guide/indexing.html#returning-a-view-versus-a-copy\n",
      "  tmp['keyword'] = tmp.msg.progress_apply(lambda x: kw_model.extract_keywords(x, keyphrase_ngram_range=(2,4), use_maxsum = True, top_n = 1))\n"
     ]
    },
    {
     "name": "stdout",
     "output_type": "stream",
     "text": [
      "{i} complete\n"
     ]
    },
    {
     "name": "stderr",
     "output_type": "stream",
     "text": [
      "100%|██████████| 4/4 [00:01<00:00,  3.26it/s]\n",
      "/var/folders/1b/dx8_94fs0q740wx3lfknk6y40000gn/T/ipykernel_42031/3950971282.py:3: SettingWithCopyWarning: \n",
      "A value is trying to be set on a copy of a slice from a DataFrame.\n",
      "Try using .loc[row_indexer,col_indexer] = value instead\n",
      "\n",
      "See the caveats in the documentation: https://pandas.pydata.org/pandas-docs/stable/user_guide/indexing.html#returning-a-view-versus-a-copy\n",
      "  tmp['keyword'] = tmp.msg.progress_apply(lambda x: kw_model.extract_keywords(x, keyphrase_ngram_range=(2,4), use_maxsum = True, top_n = 1))\n"
     ]
    },
    {
     "name": "stdout",
     "output_type": "stream",
     "text": [
      "{i} complete\n"
     ]
    },
    {
     "name": "stderr",
     "output_type": "stream",
     "text": [
      "100%|██████████| 4/4 [00:01<00:00,  3.01it/s]\n",
      "/var/folders/1b/dx8_94fs0q740wx3lfknk6y40000gn/T/ipykernel_42031/3950971282.py:3: SettingWithCopyWarning: \n",
      "A value is trying to be set on a copy of a slice from a DataFrame.\n",
      "Try using .loc[row_indexer,col_indexer] = value instead\n",
      "\n",
      "See the caveats in the documentation: https://pandas.pydata.org/pandas-docs/stable/user_guide/indexing.html#returning-a-view-versus-a-copy\n",
      "  tmp['keyword'] = tmp.msg.progress_apply(lambda x: kw_model.extract_keywords(x, keyphrase_ngram_range=(2,4), use_maxsum = True, top_n = 1))\n"
     ]
    },
    {
     "name": "stdout",
     "output_type": "stream",
     "text": [
      "{i} complete\n"
     ]
    },
    {
     "name": "stderr",
     "output_type": "stream",
     "text": [
      "100%|██████████| 4/4 [00:02<00:00,  1.73it/s]\n",
      "/var/folders/1b/dx8_94fs0q740wx3lfknk6y40000gn/T/ipykernel_42031/3950971282.py:3: SettingWithCopyWarning: \n",
      "A value is trying to be set on a copy of a slice from a DataFrame.\n",
      "Try using .loc[row_indexer,col_indexer] = value instead\n",
      "\n",
      "See the caveats in the documentation: https://pandas.pydata.org/pandas-docs/stable/user_guide/indexing.html#returning-a-view-versus-a-copy\n",
      "  tmp['keyword'] = tmp.msg.progress_apply(lambda x: kw_model.extract_keywords(x, keyphrase_ngram_range=(2,4), use_maxsum = True, top_n = 1))\n"
     ]
    },
    {
     "name": "stdout",
     "output_type": "stream",
     "text": [
      "{i} complete\n"
     ]
    },
    {
     "name": "stderr",
     "output_type": "stream",
     "text": [
      "100%|██████████| 4/4 [00:01<00:00,  2.80it/s]\n",
      "/var/folders/1b/dx8_94fs0q740wx3lfknk6y40000gn/T/ipykernel_42031/3950971282.py:3: SettingWithCopyWarning: \n",
      "A value is trying to be set on a copy of a slice from a DataFrame.\n",
      "Try using .loc[row_indexer,col_indexer] = value instead\n",
      "\n",
      "See the caveats in the documentation: https://pandas.pydata.org/pandas-docs/stable/user_guide/indexing.html#returning-a-view-versus-a-copy\n",
      "  tmp['keyword'] = tmp.msg.progress_apply(lambda x: kw_model.extract_keywords(x, keyphrase_ngram_range=(2,4), use_maxsum = True, top_n = 1))\n"
     ]
    },
    {
     "name": "stdout",
     "output_type": "stream",
     "text": [
      "{i} complete\n"
     ]
    },
    {
     "name": "stderr",
     "output_type": "stream",
     "text": [
      "100%|██████████| 4/4 [00:01<00:00,  3.03it/s]\n",
      "/var/folders/1b/dx8_94fs0q740wx3lfknk6y40000gn/T/ipykernel_42031/3950971282.py:3: SettingWithCopyWarning: \n",
      "A value is trying to be set on a copy of a slice from a DataFrame.\n",
      "Try using .loc[row_indexer,col_indexer] = value instead\n",
      "\n",
      "See the caveats in the documentation: https://pandas.pydata.org/pandas-docs/stable/user_guide/indexing.html#returning-a-view-versus-a-copy\n",
      "  tmp['keyword'] = tmp.msg.progress_apply(lambda x: kw_model.extract_keywords(x, keyphrase_ngram_range=(2,4), use_maxsum = True, top_n = 1))\n"
     ]
    },
    {
     "name": "stdout",
     "output_type": "stream",
     "text": [
      "{i} complete\n"
     ]
    },
    {
     "name": "stderr",
     "output_type": "stream",
     "text": [
      "100%|██████████| 4/4 [00:01<00:00,  2.67it/s]\n",
      "/var/folders/1b/dx8_94fs0q740wx3lfknk6y40000gn/T/ipykernel_42031/3950971282.py:3: SettingWithCopyWarning: \n",
      "A value is trying to be set on a copy of a slice from a DataFrame.\n",
      "Try using .loc[row_indexer,col_indexer] = value instead\n",
      "\n",
      "See the caveats in the documentation: https://pandas.pydata.org/pandas-docs/stable/user_guide/indexing.html#returning-a-view-versus-a-copy\n",
      "  tmp['keyword'] = tmp.msg.progress_apply(lambda x: kw_model.extract_keywords(x, keyphrase_ngram_range=(2,4), use_maxsum = True, top_n = 1))\n"
     ]
    },
    {
     "name": "stdout",
     "output_type": "stream",
     "text": [
      "{i} complete\n"
     ]
    },
    {
     "name": "stderr",
     "output_type": "stream",
     "text": [
      "100%|██████████| 4/4 [00:01<00:00,  2.89it/s]\n",
      "/var/folders/1b/dx8_94fs0q740wx3lfknk6y40000gn/T/ipykernel_42031/3950971282.py:3: SettingWithCopyWarning: \n",
      "A value is trying to be set on a copy of a slice from a DataFrame.\n",
      "Try using .loc[row_indexer,col_indexer] = value instead\n",
      "\n",
      "See the caveats in the documentation: https://pandas.pydata.org/pandas-docs/stable/user_guide/indexing.html#returning-a-view-versus-a-copy\n",
      "  tmp['keyword'] = tmp.msg.progress_apply(lambda x: kw_model.extract_keywords(x, keyphrase_ngram_range=(2,4), use_maxsum = True, top_n = 1))\n"
     ]
    },
    {
     "name": "stdout",
     "output_type": "stream",
     "text": [
      "{i} complete\n"
     ]
    },
    {
     "name": "stderr",
     "output_type": "stream",
     "text": [
      "100%|██████████| 4/4 [00:01<00:00,  2.93it/s]\n",
      "/var/folders/1b/dx8_94fs0q740wx3lfknk6y40000gn/T/ipykernel_42031/3950971282.py:3: SettingWithCopyWarning: \n",
      "A value is trying to be set on a copy of a slice from a DataFrame.\n",
      "Try using .loc[row_indexer,col_indexer] = value instead\n",
      "\n",
      "See the caveats in the documentation: https://pandas.pydata.org/pandas-docs/stable/user_guide/indexing.html#returning-a-view-versus-a-copy\n",
      "  tmp['keyword'] = tmp.msg.progress_apply(lambda x: kw_model.extract_keywords(x, keyphrase_ngram_range=(2,4), use_maxsum = True, top_n = 1))\n"
     ]
    },
    {
     "name": "stdout",
     "output_type": "stream",
     "text": [
      "{i} complete\n"
     ]
    },
    {
     "name": "stderr",
     "output_type": "stream",
     "text": [
      "100%|██████████| 4/4 [00:01<00:00,  2.91it/s]\n",
      "/var/folders/1b/dx8_94fs0q740wx3lfknk6y40000gn/T/ipykernel_42031/3950971282.py:3: SettingWithCopyWarning: \n",
      "A value is trying to be set on a copy of a slice from a DataFrame.\n",
      "Try using .loc[row_indexer,col_indexer] = value instead\n",
      "\n",
      "See the caveats in the documentation: https://pandas.pydata.org/pandas-docs/stable/user_guide/indexing.html#returning-a-view-versus-a-copy\n",
      "  tmp['keyword'] = tmp.msg.progress_apply(lambda x: kw_model.extract_keywords(x, keyphrase_ngram_range=(2,4), use_maxsum = True, top_n = 1))\n"
     ]
    },
    {
     "name": "stdout",
     "output_type": "stream",
     "text": [
      "{i} complete\n"
     ]
    },
    {
     "name": "stderr",
     "output_type": "stream",
     "text": [
      "100%|██████████| 4/4 [00:01<00:00,  2.88it/s]\n",
      "/var/folders/1b/dx8_94fs0q740wx3lfknk6y40000gn/T/ipykernel_42031/3950971282.py:3: SettingWithCopyWarning: \n",
      "A value is trying to be set on a copy of a slice from a DataFrame.\n",
      "Try using .loc[row_indexer,col_indexer] = value instead\n",
      "\n",
      "See the caveats in the documentation: https://pandas.pydata.org/pandas-docs/stable/user_guide/indexing.html#returning-a-view-versus-a-copy\n",
      "  tmp['keyword'] = tmp.msg.progress_apply(lambda x: kw_model.extract_keywords(x, keyphrase_ngram_range=(2,4), use_maxsum = True, top_n = 1))\n"
     ]
    },
    {
     "name": "stdout",
     "output_type": "stream",
     "text": [
      "{i} complete\n"
     ]
    },
    {
     "name": "stderr",
     "output_type": "stream",
     "text": [
      "100%|██████████| 4/4 [00:01<00:00,  3.02it/s]\n",
      "/var/folders/1b/dx8_94fs0q740wx3lfknk6y40000gn/T/ipykernel_42031/3950971282.py:3: SettingWithCopyWarning: \n",
      "A value is trying to be set on a copy of a slice from a DataFrame.\n",
      "Try using .loc[row_indexer,col_indexer] = value instead\n",
      "\n",
      "See the caveats in the documentation: https://pandas.pydata.org/pandas-docs/stable/user_guide/indexing.html#returning-a-view-versus-a-copy\n",
      "  tmp['keyword'] = tmp.msg.progress_apply(lambda x: kw_model.extract_keywords(x, keyphrase_ngram_range=(2,4), use_maxsum = True, top_n = 1))\n"
     ]
    },
    {
     "name": "stdout",
     "output_type": "stream",
     "text": [
      "{i} complete\n"
     ]
    },
    {
     "name": "stderr",
     "output_type": "stream",
     "text": [
      "100%|██████████| 4/4 [00:01<00:00,  2.86it/s]\n",
      "/var/folders/1b/dx8_94fs0q740wx3lfknk6y40000gn/T/ipykernel_42031/3950971282.py:3: SettingWithCopyWarning: \n",
      "A value is trying to be set on a copy of a slice from a DataFrame.\n",
      "Try using .loc[row_indexer,col_indexer] = value instead\n",
      "\n",
      "See the caveats in the documentation: https://pandas.pydata.org/pandas-docs/stable/user_guide/indexing.html#returning-a-view-versus-a-copy\n",
      "  tmp['keyword'] = tmp.msg.progress_apply(lambda x: kw_model.extract_keywords(x, keyphrase_ngram_range=(2,4), use_maxsum = True, top_n = 1))\n"
     ]
    },
    {
     "name": "stdout",
     "output_type": "stream",
     "text": [
      "{i} complete\n"
     ]
    },
    {
     "name": "stderr",
     "output_type": "stream",
     "text": [
      "100%|██████████| 4/4 [00:01<00:00,  2.94it/s]\n",
      "/var/folders/1b/dx8_94fs0q740wx3lfknk6y40000gn/T/ipykernel_42031/3950971282.py:3: SettingWithCopyWarning: \n",
      "A value is trying to be set on a copy of a slice from a DataFrame.\n",
      "Try using .loc[row_indexer,col_indexer] = value instead\n",
      "\n",
      "See the caveats in the documentation: https://pandas.pydata.org/pandas-docs/stable/user_guide/indexing.html#returning-a-view-versus-a-copy\n",
      "  tmp['keyword'] = tmp.msg.progress_apply(lambda x: kw_model.extract_keywords(x, keyphrase_ngram_range=(2,4), use_maxsum = True, top_n = 1))\n"
     ]
    },
    {
     "name": "stdout",
     "output_type": "stream",
     "text": [
      "{i} complete\n"
     ]
    },
    {
     "name": "stderr",
     "output_type": "stream",
     "text": [
      "100%|██████████| 4/4 [00:01<00:00,  3.14it/s]\n",
      "/var/folders/1b/dx8_94fs0q740wx3lfknk6y40000gn/T/ipykernel_42031/3950971282.py:3: SettingWithCopyWarning: \n",
      "A value is trying to be set on a copy of a slice from a DataFrame.\n",
      "Try using .loc[row_indexer,col_indexer] = value instead\n",
      "\n",
      "See the caveats in the documentation: https://pandas.pydata.org/pandas-docs/stable/user_guide/indexing.html#returning-a-view-versus-a-copy\n",
      "  tmp['keyword'] = tmp.msg.progress_apply(lambda x: kw_model.extract_keywords(x, keyphrase_ngram_range=(2,4), use_maxsum = True, top_n = 1))\n"
     ]
    },
    {
     "name": "stdout",
     "output_type": "stream",
     "text": [
      "{i} complete\n"
     ]
    },
    {
     "name": "stderr",
     "output_type": "stream",
     "text": [
      "100%|██████████| 4/4 [00:01<00:00,  3.54it/s]\n",
      "/var/folders/1b/dx8_94fs0q740wx3lfknk6y40000gn/T/ipykernel_42031/3950971282.py:3: SettingWithCopyWarning: \n",
      "A value is trying to be set on a copy of a slice from a DataFrame.\n",
      "Try using .loc[row_indexer,col_indexer] = value instead\n",
      "\n",
      "See the caveats in the documentation: https://pandas.pydata.org/pandas-docs/stable/user_guide/indexing.html#returning-a-view-versus-a-copy\n",
      "  tmp['keyword'] = tmp.msg.progress_apply(lambda x: kw_model.extract_keywords(x, keyphrase_ngram_range=(2,4), use_maxsum = True, top_n = 1))\n"
     ]
    },
    {
     "name": "stdout",
     "output_type": "stream",
     "text": [
      "{i} complete\n"
     ]
    },
    {
     "name": "stderr",
     "output_type": "stream",
     "text": [
      "100%|██████████| 4/4 [00:01<00:00,  3.00it/s]\n",
      "/var/folders/1b/dx8_94fs0q740wx3lfknk6y40000gn/T/ipykernel_42031/3950971282.py:3: SettingWithCopyWarning: \n",
      "A value is trying to be set on a copy of a slice from a DataFrame.\n",
      "Try using .loc[row_indexer,col_indexer] = value instead\n",
      "\n",
      "See the caveats in the documentation: https://pandas.pydata.org/pandas-docs/stable/user_guide/indexing.html#returning-a-view-versus-a-copy\n",
      "  tmp['keyword'] = tmp.msg.progress_apply(lambda x: kw_model.extract_keywords(x, keyphrase_ngram_range=(2,4), use_maxsum = True, top_n = 1))\n"
     ]
    },
    {
     "name": "stdout",
     "output_type": "stream",
     "text": [
      "{i} complete\n"
     ]
    },
    {
     "name": "stderr",
     "output_type": "stream",
     "text": [
      "100%|██████████| 4/4 [00:01<00:00,  3.80it/s]\n",
      "/var/folders/1b/dx8_94fs0q740wx3lfknk6y40000gn/T/ipykernel_42031/3950971282.py:3: SettingWithCopyWarning: \n",
      "A value is trying to be set on a copy of a slice from a DataFrame.\n",
      "Try using .loc[row_indexer,col_indexer] = value instead\n",
      "\n",
      "See the caveats in the documentation: https://pandas.pydata.org/pandas-docs/stable/user_guide/indexing.html#returning-a-view-versus-a-copy\n",
      "  tmp['keyword'] = tmp.msg.progress_apply(lambda x: kw_model.extract_keywords(x, keyphrase_ngram_range=(2,4), use_maxsum = True, top_n = 1))\n"
     ]
    },
    {
     "name": "stdout",
     "output_type": "stream",
     "text": [
      "{i} complete\n"
     ]
    },
    {
     "name": "stderr",
     "output_type": "stream",
     "text": [
      "100%|██████████| 4/4 [00:01<00:00,  3.01it/s]\n",
      "/var/folders/1b/dx8_94fs0q740wx3lfknk6y40000gn/T/ipykernel_42031/3950971282.py:3: SettingWithCopyWarning: \n",
      "A value is trying to be set on a copy of a slice from a DataFrame.\n",
      "Try using .loc[row_indexer,col_indexer] = value instead\n",
      "\n",
      "See the caveats in the documentation: https://pandas.pydata.org/pandas-docs/stable/user_guide/indexing.html#returning-a-view-versus-a-copy\n",
      "  tmp['keyword'] = tmp.msg.progress_apply(lambda x: kw_model.extract_keywords(x, keyphrase_ngram_range=(2,4), use_maxsum = True, top_n = 1))\n"
     ]
    },
    {
     "name": "stdout",
     "output_type": "stream",
     "text": [
      "{i} complete\n"
     ]
    },
    {
     "name": "stderr",
     "output_type": "stream",
     "text": [
      "100%|██████████| 4/4 [00:01<00:00,  2.93it/s]\n",
      "/var/folders/1b/dx8_94fs0q740wx3lfknk6y40000gn/T/ipykernel_42031/3950971282.py:3: SettingWithCopyWarning: \n",
      "A value is trying to be set on a copy of a slice from a DataFrame.\n",
      "Try using .loc[row_indexer,col_indexer] = value instead\n",
      "\n",
      "See the caveats in the documentation: https://pandas.pydata.org/pandas-docs/stable/user_guide/indexing.html#returning-a-view-versus-a-copy\n",
      "  tmp['keyword'] = tmp.msg.progress_apply(lambda x: kw_model.extract_keywords(x, keyphrase_ngram_range=(2,4), use_maxsum = True, top_n = 1))\n"
     ]
    },
    {
     "name": "stdout",
     "output_type": "stream",
     "text": [
      "{i} complete\n"
     ]
    },
    {
     "name": "stderr",
     "output_type": "stream",
     "text": [
      "100%|██████████| 4/4 [00:01<00:00,  2.80it/s]\n",
      "/var/folders/1b/dx8_94fs0q740wx3lfknk6y40000gn/T/ipykernel_42031/3950971282.py:3: SettingWithCopyWarning: \n",
      "A value is trying to be set on a copy of a slice from a DataFrame.\n",
      "Try using .loc[row_indexer,col_indexer] = value instead\n",
      "\n",
      "See the caveats in the documentation: https://pandas.pydata.org/pandas-docs/stable/user_guide/indexing.html#returning-a-view-versus-a-copy\n",
      "  tmp['keyword'] = tmp.msg.progress_apply(lambda x: kw_model.extract_keywords(x, keyphrase_ngram_range=(2,4), use_maxsum = True, top_n = 1))\n"
     ]
    },
    {
     "name": "stdout",
     "output_type": "stream",
     "text": [
      "{i} complete\n"
     ]
    },
    {
     "name": "stderr",
     "output_type": "stream",
     "text": [
      "100%|██████████| 4/4 [00:01<00:00,  2.60it/s]\n",
      "/var/folders/1b/dx8_94fs0q740wx3lfknk6y40000gn/T/ipykernel_42031/3950971282.py:3: SettingWithCopyWarning: \n",
      "A value is trying to be set on a copy of a slice from a DataFrame.\n",
      "Try using .loc[row_indexer,col_indexer] = value instead\n",
      "\n",
      "See the caveats in the documentation: https://pandas.pydata.org/pandas-docs/stable/user_guide/indexing.html#returning-a-view-versus-a-copy\n",
      "  tmp['keyword'] = tmp.msg.progress_apply(lambda x: kw_model.extract_keywords(x, keyphrase_ngram_range=(2,4), use_maxsum = True, top_n = 1))\n"
     ]
    },
    {
     "name": "stdout",
     "output_type": "stream",
     "text": [
      "{i} complete\n"
     ]
    },
    {
     "name": "stderr",
     "output_type": "stream",
     "text": [
      "100%|██████████| 4/4 [00:00<00:00, 13.73it/s]\n",
      "/var/folders/1b/dx8_94fs0q740wx3lfknk6y40000gn/T/ipykernel_42031/3950971282.py:3: SettingWithCopyWarning: \n",
      "A value is trying to be set on a copy of a slice from a DataFrame.\n",
      "Try using .loc[row_indexer,col_indexer] = value instead\n",
      "\n",
      "See the caveats in the documentation: https://pandas.pydata.org/pandas-docs/stable/user_guide/indexing.html#returning-a-view-versus-a-copy\n",
      "  tmp['keyword'] = tmp.msg.progress_apply(lambda x: kw_model.extract_keywords(x, keyphrase_ngram_range=(2,4), use_maxsum = True, top_n = 1))\n"
     ]
    },
    {
     "name": "stdout",
     "output_type": "stream",
     "text": [
      "{i} complete\n"
     ]
    },
    {
     "name": "stderr",
     "output_type": "stream",
     "text": [
      "100%|██████████| 4/4 [00:01<00:00,  3.19it/s]\n",
      "/var/folders/1b/dx8_94fs0q740wx3lfknk6y40000gn/T/ipykernel_42031/3950971282.py:3: SettingWithCopyWarning: \n",
      "A value is trying to be set on a copy of a slice from a DataFrame.\n",
      "Try using .loc[row_indexer,col_indexer] = value instead\n",
      "\n",
      "See the caveats in the documentation: https://pandas.pydata.org/pandas-docs/stable/user_guide/indexing.html#returning-a-view-versus-a-copy\n",
      "  tmp['keyword'] = tmp.msg.progress_apply(lambda x: kw_model.extract_keywords(x, keyphrase_ngram_range=(2,4), use_maxsum = True, top_n = 1))\n"
     ]
    },
    {
     "name": "stdout",
     "output_type": "stream",
     "text": [
      "{i} complete\n"
     ]
    },
    {
     "name": "stderr",
     "output_type": "stream",
     "text": [
      "100%|██████████| 4/4 [00:01<00:00,  2.77it/s]\n",
      "/var/folders/1b/dx8_94fs0q740wx3lfknk6y40000gn/T/ipykernel_42031/3950971282.py:3: SettingWithCopyWarning: \n",
      "A value is trying to be set on a copy of a slice from a DataFrame.\n",
      "Try using .loc[row_indexer,col_indexer] = value instead\n",
      "\n",
      "See the caveats in the documentation: https://pandas.pydata.org/pandas-docs/stable/user_guide/indexing.html#returning-a-view-versus-a-copy\n",
      "  tmp['keyword'] = tmp.msg.progress_apply(lambda x: kw_model.extract_keywords(x, keyphrase_ngram_range=(2,4), use_maxsum = True, top_n = 1))\n"
     ]
    },
    {
     "name": "stdout",
     "output_type": "stream",
     "text": [
      "{i} complete\n"
     ]
    },
    {
     "name": "stderr",
     "output_type": "stream",
     "text": [
      "100%|██████████| 4/4 [00:01<00:00,  3.02it/s]\n",
      "/var/folders/1b/dx8_94fs0q740wx3lfknk6y40000gn/T/ipykernel_42031/3950971282.py:3: SettingWithCopyWarning: \n",
      "A value is trying to be set on a copy of a slice from a DataFrame.\n",
      "Try using .loc[row_indexer,col_indexer] = value instead\n",
      "\n",
      "See the caveats in the documentation: https://pandas.pydata.org/pandas-docs/stable/user_guide/indexing.html#returning-a-view-versus-a-copy\n",
      "  tmp['keyword'] = tmp.msg.progress_apply(lambda x: kw_model.extract_keywords(x, keyphrase_ngram_range=(2,4), use_maxsum = True, top_n = 1))\n"
     ]
    },
    {
     "name": "stdout",
     "output_type": "stream",
     "text": [
      "{i} complete\n"
     ]
    },
    {
     "name": "stderr",
     "output_type": "stream",
     "text": [
      "100%|██████████| 4/4 [00:01<00:00,  3.21it/s]\n",
      "/var/folders/1b/dx8_94fs0q740wx3lfknk6y40000gn/T/ipykernel_42031/3950971282.py:3: SettingWithCopyWarning: \n",
      "A value is trying to be set on a copy of a slice from a DataFrame.\n",
      "Try using .loc[row_indexer,col_indexer] = value instead\n",
      "\n",
      "See the caveats in the documentation: https://pandas.pydata.org/pandas-docs/stable/user_guide/indexing.html#returning-a-view-versus-a-copy\n",
      "  tmp['keyword'] = tmp.msg.progress_apply(lambda x: kw_model.extract_keywords(x, keyphrase_ngram_range=(2,4), use_maxsum = True, top_n = 1))\n"
     ]
    },
    {
     "name": "stdout",
     "output_type": "stream",
     "text": [
      "{i} complete\n"
     ]
    },
    {
     "name": "stderr",
     "output_type": "stream",
     "text": [
      "100%|██████████| 4/4 [00:01<00:00,  3.27it/s]\n",
      "/var/folders/1b/dx8_94fs0q740wx3lfknk6y40000gn/T/ipykernel_42031/3950971282.py:3: SettingWithCopyWarning: \n",
      "A value is trying to be set on a copy of a slice from a DataFrame.\n",
      "Try using .loc[row_indexer,col_indexer] = value instead\n",
      "\n",
      "See the caveats in the documentation: https://pandas.pydata.org/pandas-docs/stable/user_guide/indexing.html#returning-a-view-versus-a-copy\n",
      "  tmp['keyword'] = tmp.msg.progress_apply(lambda x: kw_model.extract_keywords(x, keyphrase_ngram_range=(2,4), use_maxsum = True, top_n = 1))\n"
     ]
    },
    {
     "name": "stdout",
     "output_type": "stream",
     "text": [
      "{i} complete\n"
     ]
    },
    {
     "name": "stderr",
     "output_type": "stream",
     "text": [
      "100%|██████████| 4/4 [00:01<00:00,  2.62it/s]\n",
      "/var/folders/1b/dx8_94fs0q740wx3lfknk6y40000gn/T/ipykernel_42031/3950971282.py:3: SettingWithCopyWarning: \n",
      "A value is trying to be set on a copy of a slice from a DataFrame.\n",
      "Try using .loc[row_indexer,col_indexer] = value instead\n",
      "\n",
      "See the caveats in the documentation: https://pandas.pydata.org/pandas-docs/stable/user_guide/indexing.html#returning-a-view-versus-a-copy\n",
      "  tmp['keyword'] = tmp.msg.progress_apply(lambda x: kw_model.extract_keywords(x, keyphrase_ngram_range=(2,4), use_maxsum = True, top_n = 1))\n"
     ]
    },
    {
     "name": "stdout",
     "output_type": "stream",
     "text": [
      "{i} complete\n"
     ]
    },
    {
     "name": "stderr",
     "output_type": "stream",
     "text": [
      "100%|██████████| 4/4 [00:01<00:00,  2.78it/s]\n",
      "/var/folders/1b/dx8_94fs0q740wx3lfknk6y40000gn/T/ipykernel_42031/3950971282.py:3: SettingWithCopyWarning: \n",
      "A value is trying to be set on a copy of a slice from a DataFrame.\n",
      "Try using .loc[row_indexer,col_indexer] = value instead\n",
      "\n",
      "See the caveats in the documentation: https://pandas.pydata.org/pandas-docs/stable/user_guide/indexing.html#returning-a-view-versus-a-copy\n",
      "  tmp['keyword'] = tmp.msg.progress_apply(lambda x: kw_model.extract_keywords(x, keyphrase_ngram_range=(2,4), use_maxsum = True, top_n = 1))\n"
     ]
    },
    {
     "name": "stdout",
     "output_type": "stream",
     "text": [
      "{i} complete\n"
     ]
    },
    {
     "name": "stderr",
     "output_type": "stream",
     "text": [
      "100%|██████████| 4/4 [00:01<00:00,  3.03it/s]\n",
      "/var/folders/1b/dx8_94fs0q740wx3lfknk6y40000gn/T/ipykernel_42031/3950971282.py:3: SettingWithCopyWarning: \n",
      "A value is trying to be set on a copy of a slice from a DataFrame.\n",
      "Try using .loc[row_indexer,col_indexer] = value instead\n",
      "\n",
      "See the caveats in the documentation: https://pandas.pydata.org/pandas-docs/stable/user_guide/indexing.html#returning-a-view-versus-a-copy\n",
      "  tmp['keyword'] = tmp.msg.progress_apply(lambda x: kw_model.extract_keywords(x, keyphrase_ngram_range=(2,4), use_maxsum = True, top_n = 1))\n"
     ]
    },
    {
     "name": "stdout",
     "output_type": "stream",
     "text": [
      "{i} complete\n"
     ]
    },
    {
     "name": "stderr",
     "output_type": "stream",
     "text": [
      "100%|██████████| 4/4 [00:01<00:00,  2.75it/s]\n",
      "/var/folders/1b/dx8_94fs0q740wx3lfknk6y40000gn/T/ipykernel_42031/3950971282.py:3: SettingWithCopyWarning: \n",
      "A value is trying to be set on a copy of a slice from a DataFrame.\n",
      "Try using .loc[row_indexer,col_indexer] = value instead\n",
      "\n",
      "See the caveats in the documentation: https://pandas.pydata.org/pandas-docs/stable/user_guide/indexing.html#returning-a-view-versus-a-copy\n",
      "  tmp['keyword'] = tmp.msg.progress_apply(lambda x: kw_model.extract_keywords(x, keyphrase_ngram_range=(2,4), use_maxsum = True, top_n = 1))\n"
     ]
    },
    {
     "name": "stdout",
     "output_type": "stream",
     "text": [
      "{i} complete\n"
     ]
    },
    {
     "name": "stderr",
     "output_type": "stream",
     "text": [
      "100%|██████████| 4/4 [00:01<00:00,  2.79it/s]\n",
      "/var/folders/1b/dx8_94fs0q740wx3lfknk6y40000gn/T/ipykernel_42031/3950971282.py:3: SettingWithCopyWarning: \n",
      "A value is trying to be set on a copy of a slice from a DataFrame.\n",
      "Try using .loc[row_indexer,col_indexer] = value instead\n",
      "\n",
      "See the caveats in the documentation: https://pandas.pydata.org/pandas-docs/stable/user_guide/indexing.html#returning-a-view-versus-a-copy\n",
      "  tmp['keyword'] = tmp.msg.progress_apply(lambda x: kw_model.extract_keywords(x, keyphrase_ngram_range=(2,4), use_maxsum = True, top_n = 1))\n"
     ]
    },
    {
     "name": "stdout",
     "output_type": "stream",
     "text": [
      "{i} complete\n"
     ]
    },
    {
     "name": "stderr",
     "output_type": "stream",
     "text": [
      "100%|██████████| 4/4 [00:01<00:00,  3.13it/s]\n",
      "/var/folders/1b/dx8_94fs0q740wx3lfknk6y40000gn/T/ipykernel_42031/3950971282.py:3: SettingWithCopyWarning: \n",
      "A value is trying to be set on a copy of a slice from a DataFrame.\n",
      "Try using .loc[row_indexer,col_indexer] = value instead\n",
      "\n",
      "See the caveats in the documentation: https://pandas.pydata.org/pandas-docs/stable/user_guide/indexing.html#returning-a-view-versus-a-copy\n",
      "  tmp['keyword'] = tmp.msg.progress_apply(lambda x: kw_model.extract_keywords(x, keyphrase_ngram_range=(2,4), use_maxsum = True, top_n = 1))\n"
     ]
    },
    {
     "name": "stdout",
     "output_type": "stream",
     "text": [
      "{i} complete\n"
     ]
    },
    {
     "name": "stderr",
     "output_type": "stream",
     "text": [
      "100%|██████████| 4/4 [00:01<00:00,  2.95it/s]\n",
      "/var/folders/1b/dx8_94fs0q740wx3lfknk6y40000gn/T/ipykernel_42031/3950971282.py:3: SettingWithCopyWarning: \n",
      "A value is trying to be set on a copy of a slice from a DataFrame.\n",
      "Try using .loc[row_indexer,col_indexer] = value instead\n",
      "\n",
      "See the caveats in the documentation: https://pandas.pydata.org/pandas-docs/stable/user_guide/indexing.html#returning-a-view-versus-a-copy\n",
      "  tmp['keyword'] = tmp.msg.progress_apply(lambda x: kw_model.extract_keywords(x, keyphrase_ngram_range=(2,4), use_maxsum = True, top_n = 1))\n"
     ]
    },
    {
     "name": "stdout",
     "output_type": "stream",
     "text": [
      "{i} complete\n"
     ]
    },
    {
     "name": "stderr",
     "output_type": "stream",
     "text": [
      "100%|██████████| 4/4 [00:01<00:00,  3.31it/s]\n",
      "/var/folders/1b/dx8_94fs0q740wx3lfknk6y40000gn/T/ipykernel_42031/3950971282.py:3: SettingWithCopyWarning: \n",
      "A value is trying to be set on a copy of a slice from a DataFrame.\n",
      "Try using .loc[row_indexer,col_indexer] = value instead\n",
      "\n",
      "See the caveats in the documentation: https://pandas.pydata.org/pandas-docs/stable/user_guide/indexing.html#returning-a-view-versus-a-copy\n",
      "  tmp['keyword'] = tmp.msg.progress_apply(lambda x: kw_model.extract_keywords(x, keyphrase_ngram_range=(2,4), use_maxsum = True, top_n = 1))\n"
     ]
    },
    {
     "name": "stdout",
     "output_type": "stream",
     "text": [
      "{i} complete\n"
     ]
    },
    {
     "name": "stderr",
     "output_type": "stream",
     "text": [
      "100%|██████████| 3/3 [00:00<00:00,  4.04it/s]\n",
      "/var/folders/1b/dx8_94fs0q740wx3lfknk6y40000gn/T/ipykernel_42031/3950971282.py:3: SettingWithCopyWarning: \n",
      "A value is trying to be set on a copy of a slice from a DataFrame.\n",
      "Try using .loc[row_indexer,col_indexer] = value instead\n",
      "\n",
      "See the caveats in the documentation: https://pandas.pydata.org/pandas-docs/stable/user_guide/indexing.html#returning-a-view-versus-a-copy\n",
      "  tmp['keyword'] = tmp.msg.progress_apply(lambda x: kw_model.extract_keywords(x, keyphrase_ngram_range=(2,4), use_maxsum = True, top_n = 1))\n"
     ]
    },
    {
     "name": "stdout",
     "output_type": "stream",
     "text": [
      "{i} complete\n"
     ]
    },
    {
     "name": "stderr",
     "output_type": "stream",
     "text": [
      "100%|██████████| 3/3 [00:01<00:00,  2.82it/s]\n",
      "/var/folders/1b/dx8_94fs0q740wx3lfknk6y40000gn/T/ipykernel_42031/3950971282.py:3: SettingWithCopyWarning: \n",
      "A value is trying to be set on a copy of a slice from a DataFrame.\n",
      "Try using .loc[row_indexer,col_indexer] = value instead\n",
      "\n",
      "See the caveats in the documentation: https://pandas.pydata.org/pandas-docs/stable/user_guide/indexing.html#returning-a-view-versus-a-copy\n",
      "  tmp['keyword'] = tmp.msg.progress_apply(lambda x: kw_model.extract_keywords(x, keyphrase_ngram_range=(2,4), use_maxsum = True, top_n = 1))\n"
     ]
    },
    {
     "name": "stdout",
     "output_type": "stream",
     "text": [
      "{i} complete\n"
     ]
    },
    {
     "name": "stderr",
     "output_type": "stream",
     "text": [
      "100%|██████████| 3/3 [00:01<00:00,  2.87it/s]\n",
      "/var/folders/1b/dx8_94fs0q740wx3lfknk6y40000gn/T/ipykernel_42031/3950971282.py:3: SettingWithCopyWarning: \n",
      "A value is trying to be set on a copy of a slice from a DataFrame.\n",
      "Try using .loc[row_indexer,col_indexer] = value instead\n",
      "\n",
      "See the caveats in the documentation: https://pandas.pydata.org/pandas-docs/stable/user_guide/indexing.html#returning-a-view-versus-a-copy\n",
      "  tmp['keyword'] = tmp.msg.progress_apply(lambda x: kw_model.extract_keywords(x, keyphrase_ngram_range=(2,4), use_maxsum = True, top_n = 1))\n"
     ]
    },
    {
     "name": "stdout",
     "output_type": "stream",
     "text": [
      "{i} complete\n"
     ]
    },
    {
     "name": "stderr",
     "output_type": "stream",
     "text": [
      "100%|██████████| 3/3 [00:00<00:00,  4.56it/s]\n",
      "/var/folders/1b/dx8_94fs0q740wx3lfknk6y40000gn/T/ipykernel_42031/3950971282.py:3: SettingWithCopyWarning: \n",
      "A value is trying to be set on a copy of a slice from a DataFrame.\n",
      "Try using .loc[row_indexer,col_indexer] = value instead\n",
      "\n",
      "See the caveats in the documentation: https://pandas.pydata.org/pandas-docs/stable/user_guide/indexing.html#returning-a-view-versus-a-copy\n",
      "  tmp['keyword'] = tmp.msg.progress_apply(lambda x: kw_model.extract_keywords(x, keyphrase_ngram_range=(2,4), use_maxsum = True, top_n = 1))\n"
     ]
    },
    {
     "name": "stdout",
     "output_type": "stream",
     "text": [
      "{i} complete\n"
     ]
    },
    {
     "name": "stderr",
     "output_type": "stream",
     "text": [
      "100%|██████████| 3/3 [00:00<00:00,  3.13it/s]\n",
      "/var/folders/1b/dx8_94fs0q740wx3lfknk6y40000gn/T/ipykernel_42031/3950971282.py:3: SettingWithCopyWarning: \n",
      "A value is trying to be set on a copy of a slice from a DataFrame.\n",
      "Try using .loc[row_indexer,col_indexer] = value instead\n",
      "\n",
      "See the caveats in the documentation: https://pandas.pydata.org/pandas-docs/stable/user_guide/indexing.html#returning-a-view-versus-a-copy\n",
      "  tmp['keyword'] = tmp.msg.progress_apply(lambda x: kw_model.extract_keywords(x, keyphrase_ngram_range=(2,4), use_maxsum = True, top_n = 1))\n"
     ]
    },
    {
     "name": "stdout",
     "output_type": "stream",
     "text": [
      "{i} complete\n"
     ]
    },
    {
     "name": "stderr",
     "output_type": "stream",
     "text": [
      "100%|██████████| 3/3 [00:01<00:00,  2.68it/s]\n",
      "/var/folders/1b/dx8_94fs0q740wx3lfknk6y40000gn/T/ipykernel_42031/3950971282.py:3: SettingWithCopyWarning: \n",
      "A value is trying to be set on a copy of a slice from a DataFrame.\n",
      "Try using .loc[row_indexer,col_indexer] = value instead\n",
      "\n",
      "See the caveats in the documentation: https://pandas.pydata.org/pandas-docs/stable/user_guide/indexing.html#returning-a-view-versus-a-copy\n",
      "  tmp['keyword'] = tmp.msg.progress_apply(lambda x: kw_model.extract_keywords(x, keyphrase_ngram_range=(2,4), use_maxsum = True, top_n = 1))\n"
     ]
    },
    {
     "name": "stdout",
     "output_type": "stream",
     "text": [
      "{i} complete\n"
     ]
    },
    {
     "name": "stderr",
     "output_type": "stream",
     "text": [
      "100%|██████████| 3/3 [00:00<00:00,  3.13it/s]\n",
      "/var/folders/1b/dx8_94fs0q740wx3lfknk6y40000gn/T/ipykernel_42031/3950971282.py:3: SettingWithCopyWarning: \n",
      "A value is trying to be set on a copy of a slice from a DataFrame.\n",
      "Try using .loc[row_indexer,col_indexer] = value instead\n",
      "\n",
      "See the caveats in the documentation: https://pandas.pydata.org/pandas-docs/stable/user_guide/indexing.html#returning-a-view-versus-a-copy\n",
      "  tmp['keyword'] = tmp.msg.progress_apply(lambda x: kw_model.extract_keywords(x, keyphrase_ngram_range=(2,4), use_maxsum = True, top_n = 1))\n"
     ]
    },
    {
     "name": "stdout",
     "output_type": "stream",
     "text": [
      "{i} complete\n"
     ]
    },
    {
     "name": "stderr",
     "output_type": "stream",
     "text": [
      "100%|██████████| 3/3 [00:01<00:00,  2.93it/s]\n",
      "/var/folders/1b/dx8_94fs0q740wx3lfknk6y40000gn/T/ipykernel_42031/3950971282.py:3: SettingWithCopyWarning: \n",
      "A value is trying to be set on a copy of a slice from a DataFrame.\n",
      "Try using .loc[row_indexer,col_indexer] = value instead\n",
      "\n",
      "See the caveats in the documentation: https://pandas.pydata.org/pandas-docs/stable/user_guide/indexing.html#returning-a-view-versus-a-copy\n",
      "  tmp['keyword'] = tmp.msg.progress_apply(lambda x: kw_model.extract_keywords(x, keyphrase_ngram_range=(2,4), use_maxsum = True, top_n = 1))\n"
     ]
    },
    {
     "name": "stdout",
     "output_type": "stream",
     "text": [
      "{i} complete\n"
     ]
    },
    {
     "name": "stderr",
     "output_type": "stream",
     "text": [
      "100%|██████████| 3/3 [00:00<00:00, 10.68it/s]\n",
      "/var/folders/1b/dx8_94fs0q740wx3lfknk6y40000gn/T/ipykernel_42031/3950971282.py:3: SettingWithCopyWarning: \n",
      "A value is trying to be set on a copy of a slice from a DataFrame.\n",
      "Try using .loc[row_indexer,col_indexer] = value instead\n",
      "\n",
      "See the caveats in the documentation: https://pandas.pydata.org/pandas-docs/stable/user_guide/indexing.html#returning-a-view-versus-a-copy\n",
      "  tmp['keyword'] = tmp.msg.progress_apply(lambda x: kw_model.extract_keywords(x, keyphrase_ngram_range=(2,4), use_maxsum = True, top_n = 1))\n"
     ]
    },
    {
     "name": "stdout",
     "output_type": "stream",
     "text": [
      "{i} complete\n"
     ]
    },
    {
     "name": "stderr",
     "output_type": "stream",
     "text": [
      "100%|██████████| 3/3 [00:00<00:00,  3.95it/s]\n",
      "/var/folders/1b/dx8_94fs0q740wx3lfknk6y40000gn/T/ipykernel_42031/3950971282.py:3: SettingWithCopyWarning: \n",
      "A value is trying to be set on a copy of a slice from a DataFrame.\n",
      "Try using .loc[row_indexer,col_indexer] = value instead\n",
      "\n",
      "See the caveats in the documentation: https://pandas.pydata.org/pandas-docs/stable/user_guide/indexing.html#returning-a-view-versus-a-copy\n",
      "  tmp['keyword'] = tmp.msg.progress_apply(lambda x: kw_model.extract_keywords(x, keyphrase_ngram_range=(2,4), use_maxsum = True, top_n = 1))\n"
     ]
    },
    {
     "name": "stdout",
     "output_type": "stream",
     "text": [
      "{i} complete\n"
     ]
    },
    {
     "name": "stderr",
     "output_type": "stream",
     "text": [
      "100%|██████████| 3/3 [00:01<00:00,  2.89it/s]\n",
      "/var/folders/1b/dx8_94fs0q740wx3lfknk6y40000gn/T/ipykernel_42031/3950971282.py:3: SettingWithCopyWarning: \n",
      "A value is trying to be set on a copy of a slice from a DataFrame.\n",
      "Try using .loc[row_indexer,col_indexer] = value instead\n",
      "\n",
      "See the caveats in the documentation: https://pandas.pydata.org/pandas-docs/stable/user_guide/indexing.html#returning-a-view-versus-a-copy\n",
      "  tmp['keyword'] = tmp.msg.progress_apply(lambda x: kw_model.extract_keywords(x, keyphrase_ngram_range=(2,4), use_maxsum = True, top_n = 1))\n"
     ]
    },
    {
     "name": "stdout",
     "output_type": "stream",
     "text": [
      "{i} complete\n"
     ]
    },
    {
     "name": "stderr",
     "output_type": "stream",
     "text": [
      "100%|██████████| 3/3 [00:01<00:00,  2.79it/s]\n",
      "/var/folders/1b/dx8_94fs0q740wx3lfknk6y40000gn/T/ipykernel_42031/3950971282.py:3: SettingWithCopyWarning: \n",
      "A value is trying to be set on a copy of a slice from a DataFrame.\n",
      "Try using .loc[row_indexer,col_indexer] = value instead\n",
      "\n",
      "See the caveats in the documentation: https://pandas.pydata.org/pandas-docs/stable/user_guide/indexing.html#returning-a-view-versus-a-copy\n",
      "  tmp['keyword'] = tmp.msg.progress_apply(lambda x: kw_model.extract_keywords(x, keyphrase_ngram_range=(2,4), use_maxsum = True, top_n = 1))\n"
     ]
    },
    {
     "name": "stdout",
     "output_type": "stream",
     "text": [
      "{i} complete\n"
     ]
    },
    {
     "name": "stderr",
     "output_type": "stream",
     "text": [
      "100%|██████████| 3/3 [00:00<00:00,  3.48it/s]\n",
      "/var/folders/1b/dx8_94fs0q740wx3lfknk6y40000gn/T/ipykernel_42031/3950971282.py:3: SettingWithCopyWarning: \n",
      "A value is trying to be set on a copy of a slice from a DataFrame.\n",
      "Try using .loc[row_indexer,col_indexer] = value instead\n",
      "\n",
      "See the caveats in the documentation: https://pandas.pydata.org/pandas-docs/stable/user_guide/indexing.html#returning-a-view-versus-a-copy\n",
      "  tmp['keyword'] = tmp.msg.progress_apply(lambda x: kw_model.extract_keywords(x, keyphrase_ngram_range=(2,4), use_maxsum = True, top_n = 1))\n"
     ]
    },
    {
     "name": "stdout",
     "output_type": "stream",
     "text": [
      "{i} complete\n"
     ]
    },
    {
     "name": "stderr",
     "output_type": "stream",
     "text": [
      "100%|██████████| 3/3 [00:01<00:00,  2.78it/s]\n",
      "/var/folders/1b/dx8_94fs0q740wx3lfknk6y40000gn/T/ipykernel_42031/3950971282.py:3: SettingWithCopyWarning: \n",
      "A value is trying to be set on a copy of a slice from a DataFrame.\n",
      "Try using .loc[row_indexer,col_indexer] = value instead\n",
      "\n",
      "See the caveats in the documentation: https://pandas.pydata.org/pandas-docs/stable/user_guide/indexing.html#returning-a-view-versus-a-copy\n",
      "  tmp['keyword'] = tmp.msg.progress_apply(lambda x: kw_model.extract_keywords(x, keyphrase_ngram_range=(2,4), use_maxsum = True, top_n = 1))\n"
     ]
    },
    {
     "name": "stdout",
     "output_type": "stream",
     "text": [
      "{i} complete\n"
     ]
    },
    {
     "name": "stderr",
     "output_type": "stream",
     "text": [
      "100%|██████████| 3/3 [00:01<00:00,  2.88it/s]\n",
      "/var/folders/1b/dx8_94fs0q740wx3lfknk6y40000gn/T/ipykernel_42031/3950971282.py:3: SettingWithCopyWarning: \n",
      "A value is trying to be set on a copy of a slice from a DataFrame.\n",
      "Try using .loc[row_indexer,col_indexer] = value instead\n",
      "\n",
      "See the caveats in the documentation: https://pandas.pydata.org/pandas-docs/stable/user_guide/indexing.html#returning-a-view-versus-a-copy\n",
      "  tmp['keyword'] = tmp.msg.progress_apply(lambda x: kw_model.extract_keywords(x, keyphrase_ngram_range=(2,4), use_maxsum = True, top_n = 1))\n"
     ]
    },
    {
     "name": "stdout",
     "output_type": "stream",
     "text": [
      "{i} complete\n"
     ]
    },
    {
     "name": "stderr",
     "output_type": "stream",
     "text": [
      "100%|██████████| 3/3 [00:00<00:00,  8.58it/s]\n",
      "/var/folders/1b/dx8_94fs0q740wx3lfknk6y40000gn/T/ipykernel_42031/3950971282.py:3: SettingWithCopyWarning: \n",
      "A value is trying to be set on a copy of a slice from a DataFrame.\n",
      "Try using .loc[row_indexer,col_indexer] = value instead\n",
      "\n",
      "See the caveats in the documentation: https://pandas.pydata.org/pandas-docs/stable/user_guide/indexing.html#returning-a-view-versus-a-copy\n",
      "  tmp['keyword'] = tmp.msg.progress_apply(lambda x: kw_model.extract_keywords(x, keyphrase_ngram_range=(2,4), use_maxsum = True, top_n = 1))\n"
     ]
    },
    {
     "name": "stdout",
     "output_type": "stream",
     "text": [
      "{i} complete\n"
     ]
    },
    {
     "name": "stderr",
     "output_type": "stream",
     "text": [
      "100%|██████████| 3/3 [00:01<00:00,  2.69it/s]\n",
      "/var/folders/1b/dx8_94fs0q740wx3lfknk6y40000gn/T/ipykernel_42031/3950971282.py:3: SettingWithCopyWarning: \n",
      "A value is trying to be set on a copy of a slice from a DataFrame.\n",
      "Try using .loc[row_indexer,col_indexer] = value instead\n",
      "\n",
      "See the caveats in the documentation: https://pandas.pydata.org/pandas-docs/stable/user_guide/indexing.html#returning-a-view-versus-a-copy\n",
      "  tmp['keyword'] = tmp.msg.progress_apply(lambda x: kw_model.extract_keywords(x, keyphrase_ngram_range=(2,4), use_maxsum = True, top_n = 1))\n"
     ]
    },
    {
     "name": "stdout",
     "output_type": "stream",
     "text": [
      "{i} complete\n"
     ]
    },
    {
     "name": "stderr",
     "output_type": "stream",
     "text": [
      "100%|██████████| 3/3 [00:01<00:00,  2.94it/s]\n",
      "/var/folders/1b/dx8_94fs0q740wx3lfknk6y40000gn/T/ipykernel_42031/3950971282.py:3: SettingWithCopyWarning: \n",
      "A value is trying to be set on a copy of a slice from a DataFrame.\n",
      "Try using .loc[row_indexer,col_indexer] = value instead\n",
      "\n",
      "See the caveats in the documentation: https://pandas.pydata.org/pandas-docs/stable/user_guide/indexing.html#returning-a-view-versus-a-copy\n",
      "  tmp['keyword'] = tmp.msg.progress_apply(lambda x: kw_model.extract_keywords(x, keyphrase_ngram_range=(2,4), use_maxsum = True, top_n = 1))\n"
     ]
    },
    {
     "name": "stdout",
     "output_type": "stream",
     "text": [
      "{i} complete\n"
     ]
    },
    {
     "name": "stderr",
     "output_type": "stream",
     "text": [
      "100%|██████████| 3/3 [00:01<00:00,  2.88it/s]\n",
      "/var/folders/1b/dx8_94fs0q740wx3lfknk6y40000gn/T/ipykernel_42031/3950971282.py:3: SettingWithCopyWarning: \n",
      "A value is trying to be set on a copy of a slice from a DataFrame.\n",
      "Try using .loc[row_indexer,col_indexer] = value instead\n",
      "\n",
      "See the caveats in the documentation: https://pandas.pydata.org/pandas-docs/stable/user_guide/indexing.html#returning-a-view-versus-a-copy\n",
      "  tmp['keyword'] = tmp.msg.progress_apply(lambda x: kw_model.extract_keywords(x, keyphrase_ngram_range=(2,4), use_maxsum = True, top_n = 1))\n"
     ]
    },
    {
     "name": "stdout",
     "output_type": "stream",
     "text": [
      "{i} complete\n"
     ]
    },
    {
     "name": "stderr",
     "output_type": "stream",
     "text": [
      "100%|██████████| 3/3 [00:01<00:00,  2.76it/s]\n",
      "/var/folders/1b/dx8_94fs0q740wx3lfknk6y40000gn/T/ipykernel_42031/3950971282.py:3: SettingWithCopyWarning: \n",
      "A value is trying to be set on a copy of a slice from a DataFrame.\n",
      "Try using .loc[row_indexer,col_indexer] = value instead\n",
      "\n",
      "See the caveats in the documentation: https://pandas.pydata.org/pandas-docs/stable/user_guide/indexing.html#returning-a-view-versus-a-copy\n",
      "  tmp['keyword'] = tmp.msg.progress_apply(lambda x: kw_model.extract_keywords(x, keyphrase_ngram_range=(2,4), use_maxsum = True, top_n = 1))\n"
     ]
    },
    {
     "name": "stdout",
     "output_type": "stream",
     "text": [
      "{i} complete\n"
     ]
    },
    {
     "name": "stderr",
     "output_type": "stream",
     "text": [
      "100%|██████████| 3/3 [00:00<00:00,  3.15it/s]\n",
      "/var/folders/1b/dx8_94fs0q740wx3lfknk6y40000gn/T/ipykernel_42031/3950971282.py:3: SettingWithCopyWarning: \n",
      "A value is trying to be set on a copy of a slice from a DataFrame.\n",
      "Try using .loc[row_indexer,col_indexer] = value instead\n",
      "\n",
      "See the caveats in the documentation: https://pandas.pydata.org/pandas-docs/stable/user_guide/indexing.html#returning-a-view-versus-a-copy\n",
      "  tmp['keyword'] = tmp.msg.progress_apply(lambda x: kw_model.extract_keywords(x, keyphrase_ngram_range=(2,4), use_maxsum = True, top_n = 1))\n"
     ]
    },
    {
     "name": "stdout",
     "output_type": "stream",
     "text": [
      "{i} complete\n"
     ]
    },
    {
     "name": "stderr",
     "output_type": "stream",
     "text": [
      "100%|██████████| 3/3 [00:01<00:00,  2.65it/s]\n",
      "/var/folders/1b/dx8_94fs0q740wx3lfknk6y40000gn/T/ipykernel_42031/3950971282.py:3: SettingWithCopyWarning: \n",
      "A value is trying to be set on a copy of a slice from a DataFrame.\n",
      "Try using .loc[row_indexer,col_indexer] = value instead\n",
      "\n",
      "See the caveats in the documentation: https://pandas.pydata.org/pandas-docs/stable/user_guide/indexing.html#returning-a-view-versus-a-copy\n",
      "  tmp['keyword'] = tmp.msg.progress_apply(lambda x: kw_model.extract_keywords(x, keyphrase_ngram_range=(2,4), use_maxsum = True, top_n = 1))\n"
     ]
    },
    {
     "name": "stdout",
     "output_type": "stream",
     "text": [
      "{i} complete\n"
     ]
    },
    {
     "name": "stderr",
     "output_type": "stream",
     "text": [
      "100%|██████████| 3/3 [00:01<00:00,  2.86it/s]\n",
      "/var/folders/1b/dx8_94fs0q740wx3lfknk6y40000gn/T/ipykernel_42031/3950971282.py:3: SettingWithCopyWarning: \n",
      "A value is trying to be set on a copy of a slice from a DataFrame.\n",
      "Try using .loc[row_indexer,col_indexer] = value instead\n",
      "\n",
      "See the caveats in the documentation: https://pandas.pydata.org/pandas-docs/stable/user_guide/indexing.html#returning-a-view-versus-a-copy\n",
      "  tmp['keyword'] = tmp.msg.progress_apply(lambda x: kw_model.extract_keywords(x, keyphrase_ngram_range=(2,4), use_maxsum = True, top_n = 1))\n"
     ]
    },
    {
     "name": "stdout",
     "output_type": "stream",
     "text": [
      "{i} complete\n"
     ]
    },
    {
     "name": "stderr",
     "output_type": "stream",
     "text": [
      "100%|██████████| 3/3 [00:00<00:00,  3.08it/s]\n",
      "/var/folders/1b/dx8_94fs0q740wx3lfknk6y40000gn/T/ipykernel_42031/3950971282.py:3: SettingWithCopyWarning: \n",
      "A value is trying to be set on a copy of a slice from a DataFrame.\n",
      "Try using .loc[row_indexer,col_indexer] = value instead\n",
      "\n",
      "See the caveats in the documentation: https://pandas.pydata.org/pandas-docs/stable/user_guide/indexing.html#returning-a-view-versus-a-copy\n",
      "  tmp['keyword'] = tmp.msg.progress_apply(lambda x: kw_model.extract_keywords(x, keyphrase_ngram_range=(2,4), use_maxsum = True, top_n = 1))\n"
     ]
    },
    {
     "name": "stdout",
     "output_type": "stream",
     "text": [
      "{i} complete\n"
     ]
    },
    {
     "name": "stderr",
     "output_type": "stream",
     "text": [
      "100%|██████████| 3/3 [00:00<00:00,  3.23it/s]\n",
      "/var/folders/1b/dx8_94fs0q740wx3lfknk6y40000gn/T/ipykernel_42031/3950971282.py:3: SettingWithCopyWarning: \n",
      "A value is trying to be set on a copy of a slice from a DataFrame.\n",
      "Try using .loc[row_indexer,col_indexer] = value instead\n",
      "\n",
      "See the caveats in the documentation: https://pandas.pydata.org/pandas-docs/stable/user_guide/indexing.html#returning-a-view-versus-a-copy\n",
      "  tmp['keyword'] = tmp.msg.progress_apply(lambda x: kw_model.extract_keywords(x, keyphrase_ngram_range=(2,4), use_maxsum = True, top_n = 1))\n"
     ]
    },
    {
     "name": "stdout",
     "output_type": "stream",
     "text": [
      "{i} complete\n"
     ]
    },
    {
     "name": "stderr",
     "output_type": "stream",
     "text": [
      "100%|██████████| 3/3 [00:00<00:00, 11.99it/s]\n",
      "/var/folders/1b/dx8_94fs0q740wx3lfknk6y40000gn/T/ipykernel_42031/3950971282.py:3: SettingWithCopyWarning: \n",
      "A value is trying to be set on a copy of a slice from a DataFrame.\n",
      "Try using .loc[row_indexer,col_indexer] = value instead\n",
      "\n",
      "See the caveats in the documentation: https://pandas.pydata.org/pandas-docs/stable/user_guide/indexing.html#returning-a-view-versus-a-copy\n",
      "  tmp['keyword'] = tmp.msg.progress_apply(lambda x: kw_model.extract_keywords(x, keyphrase_ngram_range=(2,4), use_maxsum = True, top_n = 1))\n"
     ]
    },
    {
     "name": "stdout",
     "output_type": "stream",
     "text": [
      "{i} complete\n"
     ]
    },
    {
     "name": "stderr",
     "output_type": "stream",
     "text": [
      "100%|██████████| 3/3 [00:00<00:00,  4.00it/s]\n",
      "/var/folders/1b/dx8_94fs0q740wx3lfknk6y40000gn/T/ipykernel_42031/3950971282.py:3: SettingWithCopyWarning: \n",
      "A value is trying to be set on a copy of a slice from a DataFrame.\n",
      "Try using .loc[row_indexer,col_indexer] = value instead\n",
      "\n",
      "See the caveats in the documentation: https://pandas.pydata.org/pandas-docs/stable/user_guide/indexing.html#returning-a-view-versus-a-copy\n",
      "  tmp['keyword'] = tmp.msg.progress_apply(lambda x: kw_model.extract_keywords(x, keyphrase_ngram_range=(2,4), use_maxsum = True, top_n = 1))\n"
     ]
    },
    {
     "name": "stdout",
     "output_type": "stream",
     "text": [
      "{i} complete\n"
     ]
    },
    {
     "name": "stderr",
     "output_type": "stream",
     "text": [
      "100%|██████████| 3/3 [00:01<00:00,  2.81it/s]\n",
      "/var/folders/1b/dx8_94fs0q740wx3lfknk6y40000gn/T/ipykernel_42031/3950971282.py:3: SettingWithCopyWarning: \n",
      "A value is trying to be set on a copy of a slice from a DataFrame.\n",
      "Try using .loc[row_indexer,col_indexer] = value instead\n",
      "\n",
      "See the caveats in the documentation: https://pandas.pydata.org/pandas-docs/stable/user_guide/indexing.html#returning-a-view-versus-a-copy\n",
      "  tmp['keyword'] = tmp.msg.progress_apply(lambda x: kw_model.extract_keywords(x, keyphrase_ngram_range=(2,4), use_maxsum = True, top_n = 1))\n"
     ]
    },
    {
     "name": "stdout",
     "output_type": "stream",
     "text": [
      "{i} complete\n"
     ]
    },
    {
     "name": "stderr",
     "output_type": "stream",
     "text": [
      "100%|██████████| 3/3 [00:01<00:00,  2.81it/s]\n",
      "/var/folders/1b/dx8_94fs0q740wx3lfknk6y40000gn/T/ipykernel_42031/3950971282.py:3: SettingWithCopyWarning: \n",
      "A value is trying to be set on a copy of a slice from a DataFrame.\n",
      "Try using .loc[row_indexer,col_indexer] = value instead\n",
      "\n",
      "See the caveats in the documentation: https://pandas.pydata.org/pandas-docs/stable/user_guide/indexing.html#returning-a-view-versus-a-copy\n",
      "  tmp['keyword'] = tmp.msg.progress_apply(lambda x: kw_model.extract_keywords(x, keyphrase_ngram_range=(2,4), use_maxsum = True, top_n = 1))\n"
     ]
    },
    {
     "name": "stdout",
     "output_type": "stream",
     "text": [
      "{i} complete\n"
     ]
    },
    {
     "name": "stderr",
     "output_type": "stream",
     "text": [
      "100%|██████████| 3/3 [00:01<00:00,  2.66it/s]\n",
      "/var/folders/1b/dx8_94fs0q740wx3lfknk6y40000gn/T/ipykernel_42031/3950971282.py:3: SettingWithCopyWarning: \n",
      "A value is trying to be set on a copy of a slice from a DataFrame.\n",
      "Try using .loc[row_indexer,col_indexer] = value instead\n",
      "\n",
      "See the caveats in the documentation: https://pandas.pydata.org/pandas-docs/stable/user_guide/indexing.html#returning-a-view-versus-a-copy\n",
      "  tmp['keyword'] = tmp.msg.progress_apply(lambda x: kw_model.extract_keywords(x, keyphrase_ngram_range=(2,4), use_maxsum = True, top_n = 1))\n"
     ]
    },
    {
     "name": "stdout",
     "output_type": "stream",
     "text": [
      "{i} complete\n"
     ]
    },
    {
     "name": "stderr",
     "output_type": "stream",
     "text": [
      "100%|██████████| 3/3 [00:00<00:00,  3.08it/s]\n",
      "/var/folders/1b/dx8_94fs0q740wx3lfknk6y40000gn/T/ipykernel_42031/3950971282.py:3: SettingWithCopyWarning: \n",
      "A value is trying to be set on a copy of a slice from a DataFrame.\n",
      "Try using .loc[row_indexer,col_indexer] = value instead\n",
      "\n",
      "See the caveats in the documentation: https://pandas.pydata.org/pandas-docs/stable/user_guide/indexing.html#returning-a-view-versus-a-copy\n",
      "  tmp['keyword'] = tmp.msg.progress_apply(lambda x: kw_model.extract_keywords(x, keyphrase_ngram_range=(2,4), use_maxsum = True, top_n = 1))\n"
     ]
    },
    {
     "name": "stdout",
     "output_type": "stream",
     "text": [
      "{i} complete\n"
     ]
    },
    {
     "name": "stderr",
     "output_type": "stream",
     "text": [
      "100%|██████████| 3/3 [00:00<00:00,  3.14it/s]\n",
      "/var/folders/1b/dx8_94fs0q740wx3lfknk6y40000gn/T/ipykernel_42031/3950971282.py:3: SettingWithCopyWarning: \n",
      "A value is trying to be set on a copy of a slice from a DataFrame.\n",
      "Try using .loc[row_indexer,col_indexer] = value instead\n",
      "\n",
      "See the caveats in the documentation: https://pandas.pydata.org/pandas-docs/stable/user_guide/indexing.html#returning-a-view-versus-a-copy\n",
      "  tmp['keyword'] = tmp.msg.progress_apply(lambda x: kw_model.extract_keywords(x, keyphrase_ngram_range=(2,4), use_maxsum = True, top_n = 1))\n"
     ]
    },
    {
     "name": "stdout",
     "output_type": "stream",
     "text": [
      "{i} complete\n"
     ]
    },
    {
     "name": "stderr",
     "output_type": "stream",
     "text": [
      "100%|██████████| 3/3 [00:01<00:00,  2.97it/s]\n",
      "/var/folders/1b/dx8_94fs0q740wx3lfknk6y40000gn/T/ipykernel_42031/3950971282.py:3: SettingWithCopyWarning: \n",
      "A value is trying to be set on a copy of a slice from a DataFrame.\n",
      "Try using .loc[row_indexer,col_indexer] = value instead\n",
      "\n",
      "See the caveats in the documentation: https://pandas.pydata.org/pandas-docs/stable/user_guide/indexing.html#returning-a-view-versus-a-copy\n",
      "  tmp['keyword'] = tmp.msg.progress_apply(lambda x: kw_model.extract_keywords(x, keyphrase_ngram_range=(2,4), use_maxsum = True, top_n = 1))\n"
     ]
    },
    {
     "name": "stdout",
     "output_type": "stream",
     "text": [
      "{i} complete\n"
     ]
    },
    {
     "name": "stderr",
     "output_type": "stream",
     "text": [
      "100%|██████████| 3/3 [00:01<00:00,  2.86it/s]\n",
      "/var/folders/1b/dx8_94fs0q740wx3lfknk6y40000gn/T/ipykernel_42031/3950971282.py:3: SettingWithCopyWarning: \n",
      "A value is trying to be set on a copy of a slice from a DataFrame.\n",
      "Try using .loc[row_indexer,col_indexer] = value instead\n",
      "\n",
      "See the caveats in the documentation: https://pandas.pydata.org/pandas-docs/stable/user_guide/indexing.html#returning-a-view-versus-a-copy\n",
      "  tmp['keyword'] = tmp.msg.progress_apply(lambda x: kw_model.extract_keywords(x, keyphrase_ngram_range=(2,4), use_maxsum = True, top_n = 1))\n"
     ]
    },
    {
     "name": "stdout",
     "output_type": "stream",
     "text": [
      "{i} complete\n"
     ]
    },
    {
     "name": "stderr",
     "output_type": "stream",
     "text": [
      "100%|██████████| 3/3 [00:01<00:00,  2.83it/s]\n",
      "/var/folders/1b/dx8_94fs0q740wx3lfknk6y40000gn/T/ipykernel_42031/3950971282.py:3: SettingWithCopyWarning: \n",
      "A value is trying to be set on a copy of a slice from a DataFrame.\n",
      "Try using .loc[row_indexer,col_indexer] = value instead\n",
      "\n",
      "See the caveats in the documentation: https://pandas.pydata.org/pandas-docs/stable/user_guide/indexing.html#returning-a-view-versus-a-copy\n",
      "  tmp['keyword'] = tmp.msg.progress_apply(lambda x: kw_model.extract_keywords(x, keyphrase_ngram_range=(2,4), use_maxsum = True, top_n = 1))\n"
     ]
    },
    {
     "name": "stdout",
     "output_type": "stream",
     "text": [
      "{i} complete\n"
     ]
    },
    {
     "name": "stderr",
     "output_type": "stream",
     "text": [
      "100%|██████████| 3/3 [00:01<00:00,  2.38it/s]\n",
      "/var/folders/1b/dx8_94fs0q740wx3lfknk6y40000gn/T/ipykernel_42031/3950971282.py:3: SettingWithCopyWarning: \n",
      "A value is trying to be set on a copy of a slice from a DataFrame.\n",
      "Try using .loc[row_indexer,col_indexer] = value instead\n",
      "\n",
      "See the caveats in the documentation: https://pandas.pydata.org/pandas-docs/stable/user_guide/indexing.html#returning-a-view-versus-a-copy\n",
      "  tmp['keyword'] = tmp.msg.progress_apply(lambda x: kw_model.extract_keywords(x, keyphrase_ngram_range=(2,4), use_maxsum = True, top_n = 1))\n"
     ]
    },
    {
     "name": "stdout",
     "output_type": "stream",
     "text": [
      "{i} complete\n"
     ]
    },
    {
     "name": "stderr",
     "output_type": "stream",
     "text": [
      "100%|██████████| 3/3 [00:00<00:00,  3.02it/s]\n",
      "/var/folders/1b/dx8_94fs0q740wx3lfknk6y40000gn/T/ipykernel_42031/3950971282.py:3: SettingWithCopyWarning: \n",
      "A value is trying to be set on a copy of a slice from a DataFrame.\n",
      "Try using .loc[row_indexer,col_indexer] = value instead\n",
      "\n",
      "See the caveats in the documentation: https://pandas.pydata.org/pandas-docs/stable/user_guide/indexing.html#returning-a-view-versus-a-copy\n",
      "  tmp['keyword'] = tmp.msg.progress_apply(lambda x: kw_model.extract_keywords(x, keyphrase_ngram_range=(2,4), use_maxsum = True, top_n = 1))\n"
     ]
    },
    {
     "name": "stdout",
     "output_type": "stream",
     "text": [
      "{i} complete\n"
     ]
    },
    {
     "name": "stderr",
     "output_type": "stream",
     "text": [
      "100%|██████████| 3/3 [00:01<00:00,  2.87it/s]\n",
      "/var/folders/1b/dx8_94fs0q740wx3lfknk6y40000gn/T/ipykernel_42031/3950971282.py:3: SettingWithCopyWarning: \n",
      "A value is trying to be set on a copy of a slice from a DataFrame.\n",
      "Try using .loc[row_indexer,col_indexer] = value instead\n",
      "\n",
      "See the caveats in the documentation: https://pandas.pydata.org/pandas-docs/stable/user_guide/indexing.html#returning-a-view-versus-a-copy\n",
      "  tmp['keyword'] = tmp.msg.progress_apply(lambda x: kw_model.extract_keywords(x, keyphrase_ngram_range=(2,4), use_maxsum = True, top_n = 1))\n"
     ]
    },
    {
     "name": "stdout",
     "output_type": "stream",
     "text": [
      "{i} complete\n"
     ]
    },
    {
     "name": "stderr",
     "output_type": "stream",
     "text": [
      "100%|██████████| 3/3 [00:00<00:00,  3.13it/s]\n",
      "/var/folders/1b/dx8_94fs0q740wx3lfknk6y40000gn/T/ipykernel_42031/3950971282.py:3: SettingWithCopyWarning: \n",
      "A value is trying to be set on a copy of a slice from a DataFrame.\n",
      "Try using .loc[row_indexer,col_indexer] = value instead\n",
      "\n",
      "See the caveats in the documentation: https://pandas.pydata.org/pandas-docs/stable/user_guide/indexing.html#returning-a-view-versus-a-copy\n",
      "  tmp['keyword'] = tmp.msg.progress_apply(lambda x: kw_model.extract_keywords(x, keyphrase_ngram_range=(2,4), use_maxsum = True, top_n = 1))\n"
     ]
    },
    {
     "name": "stdout",
     "output_type": "stream",
     "text": [
      "{i} complete\n"
     ]
    },
    {
     "name": "stderr",
     "output_type": "stream",
     "text": [
      "100%|██████████| 3/3 [00:00<00:00,  3.29it/s]\n",
      "/var/folders/1b/dx8_94fs0q740wx3lfknk6y40000gn/T/ipykernel_42031/3950971282.py:3: SettingWithCopyWarning: \n",
      "A value is trying to be set on a copy of a slice from a DataFrame.\n",
      "Try using .loc[row_indexer,col_indexer] = value instead\n",
      "\n",
      "See the caveats in the documentation: https://pandas.pydata.org/pandas-docs/stable/user_guide/indexing.html#returning-a-view-versus-a-copy\n",
      "  tmp['keyword'] = tmp.msg.progress_apply(lambda x: kw_model.extract_keywords(x, keyphrase_ngram_range=(2,4), use_maxsum = True, top_n = 1))\n"
     ]
    },
    {
     "name": "stdout",
     "output_type": "stream",
     "text": [
      "{i} complete\n"
     ]
    },
    {
     "name": "stderr",
     "output_type": "stream",
     "text": [
      "100%|██████████| 3/3 [00:00<00:00,  3.08it/s]\n",
      "/var/folders/1b/dx8_94fs0q740wx3lfknk6y40000gn/T/ipykernel_42031/3950971282.py:3: SettingWithCopyWarning: \n",
      "A value is trying to be set on a copy of a slice from a DataFrame.\n",
      "Try using .loc[row_indexer,col_indexer] = value instead\n",
      "\n",
      "See the caveats in the documentation: https://pandas.pydata.org/pandas-docs/stable/user_guide/indexing.html#returning-a-view-versus-a-copy\n",
      "  tmp['keyword'] = tmp.msg.progress_apply(lambda x: kw_model.extract_keywords(x, keyphrase_ngram_range=(2,4), use_maxsum = True, top_n = 1))\n"
     ]
    },
    {
     "name": "stdout",
     "output_type": "stream",
     "text": [
      "{i} complete\n"
     ]
    },
    {
     "name": "stderr",
     "output_type": "stream",
     "text": [
      "100%|██████████| 3/3 [00:00<00:00,  4.19it/s]\n",
      "/var/folders/1b/dx8_94fs0q740wx3lfknk6y40000gn/T/ipykernel_42031/3950971282.py:3: SettingWithCopyWarning: \n",
      "A value is trying to be set on a copy of a slice from a DataFrame.\n",
      "Try using .loc[row_indexer,col_indexer] = value instead\n",
      "\n",
      "See the caveats in the documentation: https://pandas.pydata.org/pandas-docs/stable/user_guide/indexing.html#returning-a-view-versus-a-copy\n",
      "  tmp['keyword'] = tmp.msg.progress_apply(lambda x: kw_model.extract_keywords(x, keyphrase_ngram_range=(2,4), use_maxsum = True, top_n = 1))\n"
     ]
    },
    {
     "name": "stdout",
     "output_type": "stream",
     "text": [
      "{i} complete\n"
     ]
    },
    {
     "name": "stderr",
     "output_type": "stream",
     "text": [
      "100%|██████████| 3/3 [00:01<00:00,  2.91it/s]\n",
      "/var/folders/1b/dx8_94fs0q740wx3lfknk6y40000gn/T/ipykernel_42031/3950971282.py:3: SettingWithCopyWarning: \n",
      "A value is trying to be set on a copy of a slice from a DataFrame.\n",
      "Try using .loc[row_indexer,col_indexer] = value instead\n",
      "\n",
      "See the caveats in the documentation: https://pandas.pydata.org/pandas-docs/stable/user_guide/indexing.html#returning-a-view-versus-a-copy\n",
      "  tmp['keyword'] = tmp.msg.progress_apply(lambda x: kw_model.extract_keywords(x, keyphrase_ngram_range=(2,4), use_maxsum = True, top_n = 1))\n"
     ]
    },
    {
     "name": "stdout",
     "output_type": "stream",
     "text": [
      "{i} complete\n"
     ]
    },
    {
     "name": "stderr",
     "output_type": "stream",
     "text": [
      "100%|██████████| 3/3 [00:00<00:00,  4.25it/s]\n",
      "/var/folders/1b/dx8_94fs0q740wx3lfknk6y40000gn/T/ipykernel_42031/3950971282.py:3: SettingWithCopyWarning: \n",
      "A value is trying to be set on a copy of a slice from a DataFrame.\n",
      "Try using .loc[row_indexer,col_indexer] = value instead\n",
      "\n",
      "See the caveats in the documentation: https://pandas.pydata.org/pandas-docs/stable/user_guide/indexing.html#returning-a-view-versus-a-copy\n",
      "  tmp['keyword'] = tmp.msg.progress_apply(lambda x: kw_model.extract_keywords(x, keyphrase_ngram_range=(2,4), use_maxsum = True, top_n = 1))\n"
     ]
    },
    {
     "name": "stdout",
     "output_type": "stream",
     "text": [
      "{i} complete\n"
     ]
    },
    {
     "name": "stderr",
     "output_type": "stream",
     "text": [
      "100%|██████████| 3/3 [00:00<00:00,  6.79it/s]\n",
      "/var/folders/1b/dx8_94fs0q740wx3lfknk6y40000gn/T/ipykernel_42031/3950971282.py:3: SettingWithCopyWarning: \n",
      "A value is trying to be set on a copy of a slice from a DataFrame.\n",
      "Try using .loc[row_indexer,col_indexer] = value instead\n",
      "\n",
      "See the caveats in the documentation: https://pandas.pydata.org/pandas-docs/stable/user_guide/indexing.html#returning-a-view-versus-a-copy\n",
      "  tmp['keyword'] = tmp.msg.progress_apply(lambda x: kw_model.extract_keywords(x, keyphrase_ngram_range=(2,4), use_maxsum = True, top_n = 1))\n"
     ]
    },
    {
     "name": "stdout",
     "output_type": "stream",
     "text": [
      "{i} complete\n"
     ]
    },
    {
     "name": "stderr",
     "output_type": "stream",
     "text": [
      "100%|██████████| 3/3 [00:01<00:00,  2.71it/s]\n",
      "/var/folders/1b/dx8_94fs0q740wx3lfknk6y40000gn/T/ipykernel_42031/3950971282.py:3: SettingWithCopyWarning: \n",
      "A value is trying to be set on a copy of a slice from a DataFrame.\n",
      "Try using .loc[row_indexer,col_indexer] = value instead\n",
      "\n",
      "See the caveats in the documentation: https://pandas.pydata.org/pandas-docs/stable/user_guide/indexing.html#returning-a-view-versus-a-copy\n",
      "  tmp['keyword'] = tmp.msg.progress_apply(lambda x: kw_model.extract_keywords(x, keyphrase_ngram_range=(2,4), use_maxsum = True, top_n = 1))\n"
     ]
    },
    {
     "name": "stdout",
     "output_type": "stream",
     "text": [
      "{i} complete\n"
     ]
    },
    {
     "name": "stderr",
     "output_type": "stream",
     "text": [
      "100%|██████████| 3/3 [00:00<00:00,  3.03it/s]\n",
      "/var/folders/1b/dx8_94fs0q740wx3lfknk6y40000gn/T/ipykernel_42031/3950971282.py:3: SettingWithCopyWarning: \n",
      "A value is trying to be set on a copy of a slice from a DataFrame.\n",
      "Try using .loc[row_indexer,col_indexer] = value instead\n",
      "\n",
      "See the caveats in the documentation: https://pandas.pydata.org/pandas-docs/stable/user_guide/indexing.html#returning-a-view-versus-a-copy\n",
      "  tmp['keyword'] = tmp.msg.progress_apply(lambda x: kw_model.extract_keywords(x, keyphrase_ngram_range=(2,4), use_maxsum = True, top_n = 1))\n"
     ]
    },
    {
     "name": "stdout",
     "output_type": "stream",
     "text": [
      "{i} complete\n"
     ]
    },
    {
     "name": "stderr",
     "output_type": "stream",
     "text": [
      "100%|██████████| 3/3 [00:00<00:00,  3.46it/s]\n",
      "/var/folders/1b/dx8_94fs0q740wx3lfknk6y40000gn/T/ipykernel_42031/3950971282.py:3: SettingWithCopyWarning: \n",
      "A value is trying to be set on a copy of a slice from a DataFrame.\n",
      "Try using .loc[row_indexer,col_indexer] = value instead\n",
      "\n",
      "See the caveats in the documentation: https://pandas.pydata.org/pandas-docs/stable/user_guide/indexing.html#returning-a-view-versus-a-copy\n",
      "  tmp['keyword'] = tmp.msg.progress_apply(lambda x: kw_model.extract_keywords(x, keyphrase_ngram_range=(2,4), use_maxsum = True, top_n = 1))\n"
     ]
    },
    {
     "name": "stdout",
     "output_type": "stream",
     "text": [
      "{i} complete\n"
     ]
    },
    {
     "name": "stderr",
     "output_type": "stream",
     "text": [
      "100%|██████████| 3/3 [00:01<00:00,  2.84it/s]\n",
      "/var/folders/1b/dx8_94fs0q740wx3lfknk6y40000gn/T/ipykernel_42031/3950971282.py:3: SettingWithCopyWarning: \n",
      "A value is trying to be set on a copy of a slice from a DataFrame.\n",
      "Try using .loc[row_indexer,col_indexer] = value instead\n",
      "\n",
      "See the caveats in the documentation: https://pandas.pydata.org/pandas-docs/stable/user_guide/indexing.html#returning-a-view-versus-a-copy\n",
      "  tmp['keyword'] = tmp.msg.progress_apply(lambda x: kw_model.extract_keywords(x, keyphrase_ngram_range=(2,4), use_maxsum = True, top_n = 1))\n"
     ]
    },
    {
     "name": "stdout",
     "output_type": "stream",
     "text": [
      "{i} complete\n"
     ]
    },
    {
     "name": "stderr",
     "output_type": "stream",
     "text": [
      "100%|██████████| 3/3 [00:00<00:00,  3.21it/s]\n",
      "/var/folders/1b/dx8_94fs0q740wx3lfknk6y40000gn/T/ipykernel_42031/3950971282.py:3: SettingWithCopyWarning: \n",
      "A value is trying to be set on a copy of a slice from a DataFrame.\n",
      "Try using .loc[row_indexer,col_indexer] = value instead\n",
      "\n",
      "See the caveats in the documentation: https://pandas.pydata.org/pandas-docs/stable/user_guide/indexing.html#returning-a-view-versus-a-copy\n",
      "  tmp['keyword'] = tmp.msg.progress_apply(lambda x: kw_model.extract_keywords(x, keyphrase_ngram_range=(2,4), use_maxsum = True, top_n = 1))\n"
     ]
    },
    {
     "name": "stdout",
     "output_type": "stream",
     "text": [
      "{i} complete\n"
     ]
    },
    {
     "name": "stderr",
     "output_type": "stream",
     "text": [
      "100%|██████████| 3/3 [00:00<00:00,  3.22it/s]\n",
      "/var/folders/1b/dx8_94fs0q740wx3lfknk6y40000gn/T/ipykernel_42031/3950971282.py:3: SettingWithCopyWarning: \n",
      "A value is trying to be set on a copy of a slice from a DataFrame.\n",
      "Try using .loc[row_indexer,col_indexer] = value instead\n",
      "\n",
      "See the caveats in the documentation: https://pandas.pydata.org/pandas-docs/stable/user_guide/indexing.html#returning-a-view-versus-a-copy\n",
      "  tmp['keyword'] = tmp.msg.progress_apply(lambda x: kw_model.extract_keywords(x, keyphrase_ngram_range=(2,4), use_maxsum = True, top_n = 1))\n"
     ]
    },
    {
     "name": "stdout",
     "output_type": "stream",
     "text": [
      "{i} complete\n"
     ]
    },
    {
     "name": "stderr",
     "output_type": "stream",
     "text": [
      "100%|██████████| 3/3 [00:01<00:00,  2.88it/s]\n",
      "/var/folders/1b/dx8_94fs0q740wx3lfknk6y40000gn/T/ipykernel_42031/3950971282.py:3: SettingWithCopyWarning: \n",
      "A value is trying to be set on a copy of a slice from a DataFrame.\n",
      "Try using .loc[row_indexer,col_indexer] = value instead\n",
      "\n",
      "See the caveats in the documentation: https://pandas.pydata.org/pandas-docs/stable/user_guide/indexing.html#returning-a-view-versus-a-copy\n",
      "  tmp['keyword'] = tmp.msg.progress_apply(lambda x: kw_model.extract_keywords(x, keyphrase_ngram_range=(2,4), use_maxsum = True, top_n = 1))\n"
     ]
    },
    {
     "name": "stdout",
     "output_type": "stream",
     "text": [
      "{i} complete\n"
     ]
    },
    {
     "name": "stderr",
     "output_type": "stream",
     "text": [
      "100%|██████████| 3/3 [00:02<00:00,  1.38it/s]\n",
      "/var/folders/1b/dx8_94fs0q740wx3lfknk6y40000gn/T/ipykernel_42031/3950971282.py:3: SettingWithCopyWarning: \n",
      "A value is trying to be set on a copy of a slice from a DataFrame.\n",
      "Try using .loc[row_indexer,col_indexer] = value instead\n",
      "\n",
      "See the caveats in the documentation: https://pandas.pydata.org/pandas-docs/stable/user_guide/indexing.html#returning-a-view-versus-a-copy\n",
      "  tmp['keyword'] = tmp.msg.progress_apply(lambda x: kw_model.extract_keywords(x, keyphrase_ngram_range=(2,4), use_maxsum = True, top_n = 1))\n"
     ]
    },
    {
     "name": "stdout",
     "output_type": "stream",
     "text": [
      "{i} complete\n"
     ]
    },
    {
     "name": "stderr",
     "output_type": "stream",
     "text": [
      "100%|██████████| 2/2 [00:00<00:00,  3.66it/s]\n",
      "/var/folders/1b/dx8_94fs0q740wx3lfknk6y40000gn/T/ipykernel_42031/3950971282.py:3: SettingWithCopyWarning: \n",
      "A value is trying to be set on a copy of a slice from a DataFrame.\n",
      "Try using .loc[row_indexer,col_indexer] = value instead\n",
      "\n",
      "See the caveats in the documentation: https://pandas.pydata.org/pandas-docs/stable/user_guide/indexing.html#returning-a-view-versus-a-copy\n",
      "  tmp['keyword'] = tmp.msg.progress_apply(lambda x: kw_model.extract_keywords(x, keyphrase_ngram_range=(2,4), use_maxsum = True, top_n = 1))\n"
     ]
    },
    {
     "name": "stdout",
     "output_type": "stream",
     "text": [
      "{i} complete\n"
     ]
    },
    {
     "name": "stderr",
     "output_type": "stream",
     "text": [
      "100%|██████████| 2/2 [00:00<00:00,  3.01it/s]\n",
      "/var/folders/1b/dx8_94fs0q740wx3lfknk6y40000gn/T/ipykernel_42031/3950971282.py:3: SettingWithCopyWarning: \n",
      "A value is trying to be set on a copy of a slice from a DataFrame.\n",
      "Try using .loc[row_indexer,col_indexer] = value instead\n",
      "\n",
      "See the caveats in the documentation: https://pandas.pydata.org/pandas-docs/stable/user_guide/indexing.html#returning-a-view-versus-a-copy\n",
      "  tmp['keyword'] = tmp.msg.progress_apply(lambda x: kw_model.extract_keywords(x, keyphrase_ngram_range=(2,4), use_maxsum = True, top_n = 1))\n"
     ]
    },
    {
     "name": "stdout",
     "output_type": "stream",
     "text": [
      "{i} complete\n"
     ]
    },
    {
     "name": "stderr",
     "output_type": "stream",
     "text": [
      "100%|██████████| 2/2 [00:00<00:00,  3.30it/s]\n",
      "/var/folders/1b/dx8_94fs0q740wx3lfknk6y40000gn/T/ipykernel_42031/3950971282.py:3: SettingWithCopyWarning: \n",
      "A value is trying to be set on a copy of a slice from a DataFrame.\n",
      "Try using .loc[row_indexer,col_indexer] = value instead\n",
      "\n",
      "See the caveats in the documentation: https://pandas.pydata.org/pandas-docs/stable/user_guide/indexing.html#returning-a-view-versus-a-copy\n",
      "  tmp['keyword'] = tmp.msg.progress_apply(lambda x: kw_model.extract_keywords(x, keyphrase_ngram_range=(2,4), use_maxsum = True, top_n = 1))\n"
     ]
    },
    {
     "name": "stdout",
     "output_type": "stream",
     "text": [
      "{i} complete\n"
     ]
    },
    {
     "name": "stderr",
     "output_type": "stream",
     "text": [
      "100%|██████████| 2/2 [00:00<00:00,  8.49it/s]\n",
      "/var/folders/1b/dx8_94fs0q740wx3lfknk6y40000gn/T/ipykernel_42031/3950971282.py:3: SettingWithCopyWarning: \n",
      "A value is trying to be set on a copy of a slice from a DataFrame.\n",
      "Try using .loc[row_indexer,col_indexer] = value instead\n",
      "\n",
      "See the caveats in the documentation: https://pandas.pydata.org/pandas-docs/stable/user_guide/indexing.html#returning-a-view-versus-a-copy\n",
      "  tmp['keyword'] = tmp.msg.progress_apply(lambda x: kw_model.extract_keywords(x, keyphrase_ngram_range=(2,4), use_maxsum = True, top_n = 1))\n"
     ]
    },
    {
     "name": "stdout",
     "output_type": "stream",
     "text": [
      "{i} complete\n"
     ]
    },
    {
     "name": "stderr",
     "output_type": "stream",
     "text": [
      "100%|██████████| 2/2 [00:00<00:00,  3.39it/s]\n",
      "/var/folders/1b/dx8_94fs0q740wx3lfknk6y40000gn/T/ipykernel_42031/3950971282.py:3: SettingWithCopyWarning: \n",
      "A value is trying to be set on a copy of a slice from a DataFrame.\n",
      "Try using .loc[row_indexer,col_indexer] = value instead\n",
      "\n",
      "See the caveats in the documentation: https://pandas.pydata.org/pandas-docs/stable/user_guide/indexing.html#returning-a-view-versus-a-copy\n",
      "  tmp['keyword'] = tmp.msg.progress_apply(lambda x: kw_model.extract_keywords(x, keyphrase_ngram_range=(2,4), use_maxsum = True, top_n = 1))\n"
     ]
    },
    {
     "name": "stdout",
     "output_type": "stream",
     "text": [
      "{i} complete\n"
     ]
    },
    {
     "name": "stderr",
     "output_type": "stream",
     "text": [
      "100%|██████████| 2/2 [00:00<00:00,  3.07it/s]\n",
      "/var/folders/1b/dx8_94fs0q740wx3lfknk6y40000gn/T/ipykernel_42031/3950971282.py:3: SettingWithCopyWarning: \n",
      "A value is trying to be set on a copy of a slice from a DataFrame.\n",
      "Try using .loc[row_indexer,col_indexer] = value instead\n",
      "\n",
      "See the caveats in the documentation: https://pandas.pydata.org/pandas-docs/stable/user_guide/indexing.html#returning-a-view-versus-a-copy\n",
      "  tmp['keyword'] = tmp.msg.progress_apply(lambda x: kw_model.extract_keywords(x, keyphrase_ngram_range=(2,4), use_maxsum = True, top_n = 1))\n"
     ]
    },
    {
     "name": "stdout",
     "output_type": "stream",
     "text": [
      "{i} complete\n"
     ]
    },
    {
     "name": "stderr",
     "output_type": "stream",
     "text": [
      "100%|██████████| 2/2 [00:00<00:00,  2.85it/s]\n",
      "/var/folders/1b/dx8_94fs0q740wx3lfknk6y40000gn/T/ipykernel_42031/3950971282.py:3: SettingWithCopyWarning: \n",
      "A value is trying to be set on a copy of a slice from a DataFrame.\n",
      "Try using .loc[row_indexer,col_indexer] = value instead\n",
      "\n",
      "See the caveats in the documentation: https://pandas.pydata.org/pandas-docs/stable/user_guide/indexing.html#returning-a-view-versus-a-copy\n",
      "  tmp['keyword'] = tmp.msg.progress_apply(lambda x: kw_model.extract_keywords(x, keyphrase_ngram_range=(2,4), use_maxsum = True, top_n = 1))\n"
     ]
    },
    {
     "name": "stdout",
     "output_type": "stream",
     "text": [
      "{i} complete\n"
     ]
    },
    {
     "name": "stderr",
     "output_type": "stream",
     "text": [
      "100%|██████████| 2/2 [00:00<00:00,  2.79it/s]\n",
      "/var/folders/1b/dx8_94fs0q740wx3lfknk6y40000gn/T/ipykernel_42031/3950971282.py:3: SettingWithCopyWarning: \n",
      "A value is trying to be set on a copy of a slice from a DataFrame.\n",
      "Try using .loc[row_indexer,col_indexer] = value instead\n",
      "\n",
      "See the caveats in the documentation: https://pandas.pydata.org/pandas-docs/stable/user_guide/indexing.html#returning-a-view-versus-a-copy\n",
      "  tmp['keyword'] = tmp.msg.progress_apply(lambda x: kw_model.extract_keywords(x, keyphrase_ngram_range=(2,4), use_maxsum = True, top_n = 1))\n"
     ]
    },
    {
     "name": "stdout",
     "output_type": "stream",
     "text": [
      "{i} complete\n"
     ]
    },
    {
     "name": "stderr",
     "output_type": "stream",
     "text": [
      "100%|██████████| 2/2 [00:00<00:00,  3.17it/s]\n",
      "/var/folders/1b/dx8_94fs0q740wx3lfknk6y40000gn/T/ipykernel_42031/3950971282.py:3: SettingWithCopyWarning: \n",
      "A value is trying to be set on a copy of a slice from a DataFrame.\n",
      "Try using .loc[row_indexer,col_indexer] = value instead\n",
      "\n",
      "See the caveats in the documentation: https://pandas.pydata.org/pandas-docs/stable/user_guide/indexing.html#returning-a-view-versus-a-copy\n",
      "  tmp['keyword'] = tmp.msg.progress_apply(lambda x: kw_model.extract_keywords(x, keyphrase_ngram_range=(2,4), use_maxsum = True, top_n = 1))\n"
     ]
    },
    {
     "name": "stdout",
     "output_type": "stream",
     "text": [
      "{i} complete\n"
     ]
    },
    {
     "name": "stderr",
     "output_type": "stream",
     "text": [
      "100%|██████████| 2/2 [00:00<00:00,  2.68it/s]\n",
      "/var/folders/1b/dx8_94fs0q740wx3lfknk6y40000gn/T/ipykernel_42031/3950971282.py:3: SettingWithCopyWarning: \n",
      "A value is trying to be set on a copy of a slice from a DataFrame.\n",
      "Try using .loc[row_indexer,col_indexer] = value instead\n",
      "\n",
      "See the caveats in the documentation: https://pandas.pydata.org/pandas-docs/stable/user_guide/indexing.html#returning-a-view-versus-a-copy\n",
      "  tmp['keyword'] = tmp.msg.progress_apply(lambda x: kw_model.extract_keywords(x, keyphrase_ngram_range=(2,4), use_maxsum = True, top_n = 1))\n"
     ]
    },
    {
     "name": "stdout",
     "output_type": "stream",
     "text": [
      "{i} complete\n"
     ]
    },
    {
     "name": "stderr",
     "output_type": "stream",
     "text": [
      "100%|██████████| 2/2 [00:00<00:00,  3.28it/s]\n",
      "/var/folders/1b/dx8_94fs0q740wx3lfknk6y40000gn/T/ipykernel_42031/3950971282.py:3: SettingWithCopyWarning: \n",
      "A value is trying to be set on a copy of a slice from a DataFrame.\n",
      "Try using .loc[row_indexer,col_indexer] = value instead\n",
      "\n",
      "See the caveats in the documentation: https://pandas.pydata.org/pandas-docs/stable/user_guide/indexing.html#returning-a-view-versus-a-copy\n",
      "  tmp['keyword'] = tmp.msg.progress_apply(lambda x: kw_model.extract_keywords(x, keyphrase_ngram_range=(2,4), use_maxsum = True, top_n = 1))\n"
     ]
    },
    {
     "name": "stdout",
     "output_type": "stream",
     "text": [
      "{i} complete\n"
     ]
    },
    {
     "name": "stderr",
     "output_type": "stream",
     "text": [
      "100%|██████████| 2/2 [00:00<00:00,  2.68it/s]\n",
      "/var/folders/1b/dx8_94fs0q740wx3lfknk6y40000gn/T/ipykernel_42031/3950971282.py:3: SettingWithCopyWarning: \n",
      "A value is trying to be set on a copy of a slice from a DataFrame.\n",
      "Try using .loc[row_indexer,col_indexer] = value instead\n",
      "\n",
      "See the caveats in the documentation: https://pandas.pydata.org/pandas-docs/stable/user_guide/indexing.html#returning-a-view-versus-a-copy\n",
      "  tmp['keyword'] = tmp.msg.progress_apply(lambda x: kw_model.extract_keywords(x, keyphrase_ngram_range=(2,4), use_maxsum = True, top_n = 1))\n"
     ]
    },
    {
     "name": "stdout",
     "output_type": "stream",
     "text": [
      "{i} complete\n"
     ]
    },
    {
     "name": "stderr",
     "output_type": "stream",
     "text": [
      "100%|██████████| 2/2 [00:01<00:00,  1.30it/s]\n",
      "/var/folders/1b/dx8_94fs0q740wx3lfknk6y40000gn/T/ipykernel_42031/3950971282.py:3: SettingWithCopyWarning: \n",
      "A value is trying to be set on a copy of a slice from a DataFrame.\n",
      "Try using .loc[row_indexer,col_indexer] = value instead\n",
      "\n",
      "See the caveats in the documentation: https://pandas.pydata.org/pandas-docs/stable/user_guide/indexing.html#returning-a-view-versus-a-copy\n",
      "  tmp['keyword'] = tmp.msg.progress_apply(lambda x: kw_model.extract_keywords(x, keyphrase_ngram_range=(2,4), use_maxsum = True, top_n = 1))\n"
     ]
    },
    {
     "name": "stdout",
     "output_type": "stream",
     "text": [
      "{i} complete\n"
     ]
    },
    {
     "name": "stderr",
     "output_type": "stream",
     "text": [
      "100%|██████████| 2/2 [00:00<00:00,  5.37it/s]\n",
      "/var/folders/1b/dx8_94fs0q740wx3lfknk6y40000gn/T/ipykernel_42031/3950971282.py:3: SettingWithCopyWarning: \n",
      "A value is trying to be set on a copy of a slice from a DataFrame.\n",
      "Try using .loc[row_indexer,col_indexer] = value instead\n",
      "\n",
      "See the caveats in the documentation: https://pandas.pydata.org/pandas-docs/stable/user_guide/indexing.html#returning-a-view-versus-a-copy\n",
      "  tmp['keyword'] = tmp.msg.progress_apply(lambda x: kw_model.extract_keywords(x, keyphrase_ngram_range=(2,4), use_maxsum = True, top_n = 1))\n"
     ]
    },
    {
     "name": "stdout",
     "output_type": "stream",
     "text": [
      "{i} complete\n"
     ]
    },
    {
     "name": "stderr",
     "output_type": "stream",
     "text": [
      "100%|██████████| 2/2 [00:00<00:00,  4.28it/s]\n",
      "/var/folders/1b/dx8_94fs0q740wx3lfknk6y40000gn/T/ipykernel_42031/3950971282.py:3: SettingWithCopyWarning: \n",
      "A value is trying to be set on a copy of a slice from a DataFrame.\n",
      "Try using .loc[row_indexer,col_indexer] = value instead\n",
      "\n",
      "See the caveats in the documentation: https://pandas.pydata.org/pandas-docs/stable/user_guide/indexing.html#returning-a-view-versus-a-copy\n",
      "  tmp['keyword'] = tmp.msg.progress_apply(lambda x: kw_model.extract_keywords(x, keyphrase_ngram_range=(2,4), use_maxsum = True, top_n = 1))\n"
     ]
    },
    {
     "name": "stdout",
     "output_type": "stream",
     "text": [
      "{i} complete\n"
     ]
    },
    {
     "name": "stderr",
     "output_type": "stream",
     "text": [
      "100%|██████████| 2/2 [00:00<00:00,  2.75it/s]\n",
      "/var/folders/1b/dx8_94fs0q740wx3lfknk6y40000gn/T/ipykernel_42031/3950971282.py:3: SettingWithCopyWarning: \n",
      "A value is trying to be set on a copy of a slice from a DataFrame.\n",
      "Try using .loc[row_indexer,col_indexer] = value instead\n",
      "\n",
      "See the caveats in the documentation: https://pandas.pydata.org/pandas-docs/stable/user_guide/indexing.html#returning-a-view-versus-a-copy\n",
      "  tmp['keyword'] = tmp.msg.progress_apply(lambda x: kw_model.extract_keywords(x, keyphrase_ngram_range=(2,4), use_maxsum = True, top_n = 1))\n"
     ]
    },
    {
     "name": "stdout",
     "output_type": "stream",
     "text": [
      "{i} complete\n"
     ]
    },
    {
     "name": "stderr",
     "output_type": "stream",
     "text": [
      "100%|██████████| 2/2 [00:00<00:00,  2.99it/s]\n",
      "/var/folders/1b/dx8_94fs0q740wx3lfknk6y40000gn/T/ipykernel_42031/3950971282.py:3: SettingWithCopyWarning: \n",
      "A value is trying to be set on a copy of a slice from a DataFrame.\n",
      "Try using .loc[row_indexer,col_indexer] = value instead\n",
      "\n",
      "See the caveats in the documentation: https://pandas.pydata.org/pandas-docs/stable/user_guide/indexing.html#returning-a-view-versus-a-copy\n",
      "  tmp['keyword'] = tmp.msg.progress_apply(lambda x: kw_model.extract_keywords(x, keyphrase_ngram_range=(2,4), use_maxsum = True, top_n = 1))\n"
     ]
    },
    {
     "name": "stdout",
     "output_type": "stream",
     "text": [
      "{i} complete\n"
     ]
    },
    {
     "name": "stderr",
     "output_type": "stream",
     "text": [
      "100%|██████████| 2/2 [00:00<00:00,  2.83it/s]\n",
      "/var/folders/1b/dx8_94fs0q740wx3lfknk6y40000gn/T/ipykernel_42031/3950971282.py:3: SettingWithCopyWarning: \n",
      "A value is trying to be set on a copy of a slice from a DataFrame.\n",
      "Try using .loc[row_indexer,col_indexer] = value instead\n",
      "\n",
      "See the caveats in the documentation: https://pandas.pydata.org/pandas-docs/stable/user_guide/indexing.html#returning-a-view-versus-a-copy\n",
      "  tmp['keyword'] = tmp.msg.progress_apply(lambda x: kw_model.extract_keywords(x, keyphrase_ngram_range=(2,4), use_maxsum = True, top_n = 1))\n"
     ]
    },
    {
     "name": "stdout",
     "output_type": "stream",
     "text": [
      "{i} complete\n"
     ]
    },
    {
     "name": "stderr",
     "output_type": "stream",
     "text": [
      "100%|██████████| 2/2 [00:00<00:00,  2.91it/s]\n",
      "/var/folders/1b/dx8_94fs0q740wx3lfknk6y40000gn/T/ipykernel_42031/3950971282.py:3: SettingWithCopyWarning: \n",
      "A value is trying to be set on a copy of a slice from a DataFrame.\n",
      "Try using .loc[row_indexer,col_indexer] = value instead\n",
      "\n",
      "See the caveats in the documentation: https://pandas.pydata.org/pandas-docs/stable/user_guide/indexing.html#returning-a-view-versus-a-copy\n",
      "  tmp['keyword'] = tmp.msg.progress_apply(lambda x: kw_model.extract_keywords(x, keyphrase_ngram_range=(2,4), use_maxsum = True, top_n = 1))\n"
     ]
    },
    {
     "name": "stdout",
     "output_type": "stream",
     "text": [
      "{i} complete\n"
     ]
    },
    {
     "name": "stderr",
     "output_type": "stream",
     "text": [
      "100%|██████████| 2/2 [00:00<00:00,  3.55it/s]\n",
      "/var/folders/1b/dx8_94fs0q740wx3lfknk6y40000gn/T/ipykernel_42031/3950971282.py:3: SettingWithCopyWarning: \n",
      "A value is trying to be set on a copy of a slice from a DataFrame.\n",
      "Try using .loc[row_indexer,col_indexer] = value instead\n",
      "\n",
      "See the caveats in the documentation: https://pandas.pydata.org/pandas-docs/stable/user_guide/indexing.html#returning-a-view-versus-a-copy\n",
      "  tmp['keyword'] = tmp.msg.progress_apply(lambda x: kw_model.extract_keywords(x, keyphrase_ngram_range=(2,4), use_maxsum = True, top_n = 1))\n"
     ]
    },
    {
     "name": "stdout",
     "output_type": "stream",
     "text": [
      "{i} complete\n"
     ]
    },
    {
     "name": "stderr",
     "output_type": "stream",
     "text": [
      "100%|██████████| 2/2 [00:00<00:00,  2.93it/s]\n",
      "/var/folders/1b/dx8_94fs0q740wx3lfknk6y40000gn/T/ipykernel_42031/3950971282.py:3: SettingWithCopyWarning: \n",
      "A value is trying to be set on a copy of a slice from a DataFrame.\n",
      "Try using .loc[row_indexer,col_indexer] = value instead\n",
      "\n",
      "See the caveats in the documentation: https://pandas.pydata.org/pandas-docs/stable/user_guide/indexing.html#returning-a-view-versus-a-copy\n",
      "  tmp['keyword'] = tmp.msg.progress_apply(lambda x: kw_model.extract_keywords(x, keyphrase_ngram_range=(2,4), use_maxsum = True, top_n = 1))\n"
     ]
    },
    {
     "name": "stdout",
     "output_type": "stream",
     "text": [
      "{i} complete\n"
     ]
    },
    {
     "name": "stderr",
     "output_type": "stream",
     "text": [
      "100%|██████████| 2/2 [00:00<00:00,  5.60it/s]\n",
      "/var/folders/1b/dx8_94fs0q740wx3lfknk6y40000gn/T/ipykernel_42031/3950971282.py:3: SettingWithCopyWarning: \n",
      "A value is trying to be set on a copy of a slice from a DataFrame.\n",
      "Try using .loc[row_indexer,col_indexer] = value instead\n",
      "\n",
      "See the caveats in the documentation: https://pandas.pydata.org/pandas-docs/stable/user_guide/indexing.html#returning-a-view-versus-a-copy\n",
      "  tmp['keyword'] = tmp.msg.progress_apply(lambda x: kw_model.extract_keywords(x, keyphrase_ngram_range=(2,4), use_maxsum = True, top_n = 1))\n"
     ]
    },
    {
     "name": "stdout",
     "output_type": "stream",
     "text": [
      "{i} complete\n"
     ]
    },
    {
     "name": "stderr",
     "output_type": "stream",
     "text": [
      "100%|██████████| 2/2 [00:00<00:00,  5.85it/s]\n",
      "/var/folders/1b/dx8_94fs0q740wx3lfknk6y40000gn/T/ipykernel_42031/3950971282.py:3: SettingWithCopyWarning: \n",
      "A value is trying to be set on a copy of a slice from a DataFrame.\n",
      "Try using .loc[row_indexer,col_indexer] = value instead\n",
      "\n",
      "See the caveats in the documentation: https://pandas.pydata.org/pandas-docs/stable/user_guide/indexing.html#returning-a-view-versus-a-copy\n",
      "  tmp['keyword'] = tmp.msg.progress_apply(lambda x: kw_model.extract_keywords(x, keyphrase_ngram_range=(2,4), use_maxsum = True, top_n = 1))\n"
     ]
    },
    {
     "name": "stdout",
     "output_type": "stream",
     "text": [
      "{i} complete\n"
     ]
    },
    {
     "name": "stderr",
     "output_type": "stream",
     "text": [
      "100%|██████████| 2/2 [00:00<00:00,  3.12it/s]\n",
      "/var/folders/1b/dx8_94fs0q740wx3lfknk6y40000gn/T/ipykernel_42031/3950971282.py:3: SettingWithCopyWarning: \n",
      "A value is trying to be set on a copy of a slice from a DataFrame.\n",
      "Try using .loc[row_indexer,col_indexer] = value instead\n",
      "\n",
      "See the caveats in the documentation: https://pandas.pydata.org/pandas-docs/stable/user_guide/indexing.html#returning-a-view-versus-a-copy\n",
      "  tmp['keyword'] = tmp.msg.progress_apply(lambda x: kw_model.extract_keywords(x, keyphrase_ngram_range=(2,4), use_maxsum = True, top_n = 1))\n"
     ]
    },
    {
     "name": "stdout",
     "output_type": "stream",
     "text": [
      "{i} complete\n"
     ]
    },
    {
     "name": "stderr",
     "output_type": "stream",
     "text": [
      "100%|██████████| 2/2 [00:00<00:00,  4.17it/s]\n",
      "/var/folders/1b/dx8_94fs0q740wx3lfknk6y40000gn/T/ipykernel_42031/3950971282.py:3: SettingWithCopyWarning: \n",
      "A value is trying to be set on a copy of a slice from a DataFrame.\n",
      "Try using .loc[row_indexer,col_indexer] = value instead\n",
      "\n",
      "See the caveats in the documentation: https://pandas.pydata.org/pandas-docs/stable/user_guide/indexing.html#returning-a-view-versus-a-copy\n",
      "  tmp['keyword'] = tmp.msg.progress_apply(lambda x: kw_model.extract_keywords(x, keyphrase_ngram_range=(2,4), use_maxsum = True, top_n = 1))\n"
     ]
    },
    {
     "name": "stdout",
     "output_type": "stream",
     "text": [
      "{i} complete\n"
     ]
    },
    {
     "name": "stderr",
     "output_type": "stream",
     "text": [
      "100%|██████████| 2/2 [00:00<00:00,  3.89it/s]\n",
      "/var/folders/1b/dx8_94fs0q740wx3lfknk6y40000gn/T/ipykernel_42031/3950971282.py:3: SettingWithCopyWarning: \n",
      "A value is trying to be set on a copy of a slice from a DataFrame.\n",
      "Try using .loc[row_indexer,col_indexer] = value instead\n",
      "\n",
      "See the caveats in the documentation: https://pandas.pydata.org/pandas-docs/stable/user_guide/indexing.html#returning-a-view-versus-a-copy\n",
      "  tmp['keyword'] = tmp.msg.progress_apply(lambda x: kw_model.extract_keywords(x, keyphrase_ngram_range=(2,4), use_maxsum = True, top_n = 1))\n"
     ]
    },
    {
     "name": "stdout",
     "output_type": "stream",
     "text": [
      "{i} complete\n"
     ]
    },
    {
     "name": "stderr",
     "output_type": "stream",
     "text": [
      "100%|██████████| 2/2 [00:00<00:00,  3.13it/s]\n",
      "/var/folders/1b/dx8_94fs0q740wx3lfknk6y40000gn/T/ipykernel_42031/3950971282.py:3: SettingWithCopyWarning: \n",
      "A value is trying to be set on a copy of a slice from a DataFrame.\n",
      "Try using .loc[row_indexer,col_indexer] = value instead\n",
      "\n",
      "See the caveats in the documentation: https://pandas.pydata.org/pandas-docs/stable/user_guide/indexing.html#returning-a-view-versus-a-copy\n",
      "  tmp['keyword'] = tmp.msg.progress_apply(lambda x: kw_model.extract_keywords(x, keyphrase_ngram_range=(2,4), use_maxsum = True, top_n = 1))\n"
     ]
    },
    {
     "name": "stdout",
     "output_type": "stream",
     "text": [
      "{i} complete\n"
     ]
    },
    {
     "name": "stderr",
     "output_type": "stream",
     "text": [
      "100%|██████████| 2/2 [00:00<00:00,  5.76it/s]\n",
      "/var/folders/1b/dx8_94fs0q740wx3lfknk6y40000gn/T/ipykernel_42031/3950971282.py:3: SettingWithCopyWarning: \n",
      "A value is trying to be set on a copy of a slice from a DataFrame.\n",
      "Try using .loc[row_indexer,col_indexer] = value instead\n",
      "\n",
      "See the caveats in the documentation: https://pandas.pydata.org/pandas-docs/stable/user_guide/indexing.html#returning-a-view-versus-a-copy\n",
      "  tmp['keyword'] = tmp.msg.progress_apply(lambda x: kw_model.extract_keywords(x, keyphrase_ngram_range=(2,4), use_maxsum = True, top_n = 1))\n"
     ]
    },
    {
     "name": "stdout",
     "output_type": "stream",
     "text": [
      "{i} complete\n"
     ]
    },
    {
     "name": "stderr",
     "output_type": "stream",
     "text": [
      "100%|██████████| 2/2 [00:00<00:00,  3.40it/s]\n",
      "/var/folders/1b/dx8_94fs0q740wx3lfknk6y40000gn/T/ipykernel_42031/3950971282.py:3: SettingWithCopyWarning: \n",
      "A value is trying to be set on a copy of a slice from a DataFrame.\n",
      "Try using .loc[row_indexer,col_indexer] = value instead\n",
      "\n",
      "See the caveats in the documentation: https://pandas.pydata.org/pandas-docs/stable/user_guide/indexing.html#returning-a-view-versus-a-copy\n",
      "  tmp['keyword'] = tmp.msg.progress_apply(lambda x: kw_model.extract_keywords(x, keyphrase_ngram_range=(2,4), use_maxsum = True, top_n = 1))\n"
     ]
    },
    {
     "name": "stdout",
     "output_type": "stream",
     "text": [
      "{i} complete\n"
     ]
    },
    {
     "name": "stderr",
     "output_type": "stream",
     "text": [
      "100%|██████████| 2/2 [00:00<00:00,  3.20it/s]\n",
      "/var/folders/1b/dx8_94fs0q740wx3lfknk6y40000gn/T/ipykernel_42031/3950971282.py:3: SettingWithCopyWarning: \n",
      "A value is trying to be set on a copy of a slice from a DataFrame.\n",
      "Try using .loc[row_indexer,col_indexer] = value instead\n",
      "\n",
      "See the caveats in the documentation: https://pandas.pydata.org/pandas-docs/stable/user_guide/indexing.html#returning-a-view-versus-a-copy\n",
      "  tmp['keyword'] = tmp.msg.progress_apply(lambda x: kw_model.extract_keywords(x, keyphrase_ngram_range=(2,4), use_maxsum = True, top_n = 1))\n"
     ]
    },
    {
     "name": "stdout",
     "output_type": "stream",
     "text": [
      "{i} complete\n"
     ]
    },
    {
     "name": "stderr",
     "output_type": "stream",
     "text": [
      "100%|██████████| 2/2 [00:00<00:00,  3.18it/s]\n",
      "/var/folders/1b/dx8_94fs0q740wx3lfknk6y40000gn/T/ipykernel_42031/3950971282.py:3: SettingWithCopyWarning: \n",
      "A value is trying to be set on a copy of a slice from a DataFrame.\n",
      "Try using .loc[row_indexer,col_indexer] = value instead\n",
      "\n",
      "See the caveats in the documentation: https://pandas.pydata.org/pandas-docs/stable/user_guide/indexing.html#returning-a-view-versus-a-copy\n",
      "  tmp['keyword'] = tmp.msg.progress_apply(lambda x: kw_model.extract_keywords(x, keyphrase_ngram_range=(2,4), use_maxsum = True, top_n = 1))\n"
     ]
    },
    {
     "name": "stdout",
     "output_type": "stream",
     "text": [
      "{i} complete\n"
     ]
    },
    {
     "name": "stderr",
     "output_type": "stream",
     "text": [
      "100%|██████████| 2/2 [00:00<00:00,  2.71it/s]\n",
      "/var/folders/1b/dx8_94fs0q740wx3lfknk6y40000gn/T/ipykernel_42031/3950971282.py:3: SettingWithCopyWarning: \n",
      "A value is trying to be set on a copy of a slice from a DataFrame.\n",
      "Try using .loc[row_indexer,col_indexer] = value instead\n",
      "\n",
      "See the caveats in the documentation: https://pandas.pydata.org/pandas-docs/stable/user_guide/indexing.html#returning-a-view-versus-a-copy\n",
      "  tmp['keyword'] = tmp.msg.progress_apply(lambda x: kw_model.extract_keywords(x, keyphrase_ngram_range=(2,4), use_maxsum = True, top_n = 1))\n"
     ]
    },
    {
     "name": "stdout",
     "output_type": "stream",
     "text": [
      "{i} complete\n"
     ]
    },
    {
     "name": "stderr",
     "output_type": "stream",
     "text": [
      "100%|██████████| 2/2 [00:00<00:00,  3.10it/s]\n",
      "/var/folders/1b/dx8_94fs0q740wx3lfknk6y40000gn/T/ipykernel_42031/3950971282.py:3: SettingWithCopyWarning: \n",
      "A value is trying to be set on a copy of a slice from a DataFrame.\n",
      "Try using .loc[row_indexer,col_indexer] = value instead\n",
      "\n",
      "See the caveats in the documentation: https://pandas.pydata.org/pandas-docs/stable/user_guide/indexing.html#returning-a-view-versus-a-copy\n",
      "  tmp['keyword'] = tmp.msg.progress_apply(lambda x: kw_model.extract_keywords(x, keyphrase_ngram_range=(2,4), use_maxsum = True, top_n = 1))\n"
     ]
    },
    {
     "name": "stdout",
     "output_type": "stream",
     "text": [
      "{i} complete\n"
     ]
    },
    {
     "name": "stderr",
     "output_type": "stream",
     "text": [
      "100%|██████████| 2/2 [00:00<00:00,  2.89it/s]\n",
      "/var/folders/1b/dx8_94fs0q740wx3lfknk6y40000gn/T/ipykernel_42031/3950971282.py:3: SettingWithCopyWarning: \n",
      "A value is trying to be set on a copy of a slice from a DataFrame.\n",
      "Try using .loc[row_indexer,col_indexer] = value instead\n",
      "\n",
      "See the caveats in the documentation: https://pandas.pydata.org/pandas-docs/stable/user_guide/indexing.html#returning-a-view-versus-a-copy\n",
      "  tmp['keyword'] = tmp.msg.progress_apply(lambda x: kw_model.extract_keywords(x, keyphrase_ngram_range=(2,4), use_maxsum = True, top_n = 1))\n"
     ]
    },
    {
     "name": "stdout",
     "output_type": "stream",
     "text": [
      "{i} complete\n"
     ]
    },
    {
     "name": "stderr",
     "output_type": "stream",
     "text": [
      "100%|██████████| 2/2 [00:00<00:00,  2.89it/s]\n",
      "/var/folders/1b/dx8_94fs0q740wx3lfknk6y40000gn/T/ipykernel_42031/3950971282.py:3: SettingWithCopyWarning: \n",
      "A value is trying to be set on a copy of a slice from a DataFrame.\n",
      "Try using .loc[row_indexer,col_indexer] = value instead\n",
      "\n",
      "See the caveats in the documentation: https://pandas.pydata.org/pandas-docs/stable/user_guide/indexing.html#returning-a-view-versus-a-copy\n",
      "  tmp['keyword'] = tmp.msg.progress_apply(lambda x: kw_model.extract_keywords(x, keyphrase_ngram_range=(2,4), use_maxsum = True, top_n = 1))\n"
     ]
    },
    {
     "name": "stdout",
     "output_type": "stream",
     "text": [
      "{i} complete\n"
     ]
    },
    {
     "name": "stderr",
     "output_type": "stream",
     "text": [
      "100%|██████████| 2/2 [00:00<00:00,  3.45it/s]\n",
      "/var/folders/1b/dx8_94fs0q740wx3lfknk6y40000gn/T/ipykernel_42031/3950971282.py:3: SettingWithCopyWarning: \n",
      "A value is trying to be set on a copy of a slice from a DataFrame.\n",
      "Try using .loc[row_indexer,col_indexer] = value instead\n",
      "\n",
      "See the caveats in the documentation: https://pandas.pydata.org/pandas-docs/stable/user_guide/indexing.html#returning-a-view-versus-a-copy\n",
      "  tmp['keyword'] = tmp.msg.progress_apply(lambda x: kw_model.extract_keywords(x, keyphrase_ngram_range=(2,4), use_maxsum = True, top_n = 1))\n"
     ]
    },
    {
     "name": "stdout",
     "output_type": "stream",
     "text": [
      "{i} complete\n"
     ]
    },
    {
     "name": "stderr",
     "output_type": "stream",
     "text": [
      "100%|██████████| 2/2 [00:00<00:00,  2.87it/s]\n",
      "/var/folders/1b/dx8_94fs0q740wx3lfknk6y40000gn/T/ipykernel_42031/3950971282.py:3: SettingWithCopyWarning: \n",
      "A value is trying to be set on a copy of a slice from a DataFrame.\n",
      "Try using .loc[row_indexer,col_indexer] = value instead\n",
      "\n",
      "See the caveats in the documentation: https://pandas.pydata.org/pandas-docs/stable/user_guide/indexing.html#returning-a-view-versus-a-copy\n",
      "  tmp['keyword'] = tmp.msg.progress_apply(lambda x: kw_model.extract_keywords(x, keyphrase_ngram_range=(2,4), use_maxsum = True, top_n = 1))\n"
     ]
    },
    {
     "name": "stdout",
     "output_type": "stream",
     "text": [
      "{i} complete\n"
     ]
    },
    {
     "name": "stderr",
     "output_type": "stream",
     "text": [
      "100%|██████████| 2/2 [00:00<00:00,  3.14it/s]\n",
      "/var/folders/1b/dx8_94fs0q740wx3lfknk6y40000gn/T/ipykernel_42031/3950971282.py:3: SettingWithCopyWarning: \n",
      "A value is trying to be set on a copy of a slice from a DataFrame.\n",
      "Try using .loc[row_indexer,col_indexer] = value instead\n",
      "\n",
      "See the caveats in the documentation: https://pandas.pydata.org/pandas-docs/stable/user_guide/indexing.html#returning-a-view-versus-a-copy\n",
      "  tmp['keyword'] = tmp.msg.progress_apply(lambda x: kw_model.extract_keywords(x, keyphrase_ngram_range=(2,4), use_maxsum = True, top_n = 1))\n"
     ]
    },
    {
     "name": "stdout",
     "output_type": "stream",
     "text": [
      "{i} complete\n"
     ]
    },
    {
     "name": "stderr",
     "output_type": "stream",
     "text": [
      "100%|██████████| 2/2 [00:00<00:00,  3.29it/s]\n",
      "/var/folders/1b/dx8_94fs0q740wx3lfknk6y40000gn/T/ipykernel_42031/3950971282.py:3: SettingWithCopyWarning: \n",
      "A value is trying to be set on a copy of a slice from a DataFrame.\n",
      "Try using .loc[row_indexer,col_indexer] = value instead\n",
      "\n",
      "See the caveats in the documentation: https://pandas.pydata.org/pandas-docs/stable/user_guide/indexing.html#returning-a-view-versus-a-copy\n",
      "  tmp['keyword'] = tmp.msg.progress_apply(lambda x: kw_model.extract_keywords(x, keyphrase_ngram_range=(2,4), use_maxsum = True, top_n = 1))\n"
     ]
    },
    {
     "name": "stdout",
     "output_type": "stream",
     "text": [
      "{i} complete\n"
     ]
    },
    {
     "name": "stderr",
     "output_type": "stream",
     "text": [
      "100%|██████████| 2/2 [00:00<00:00,  5.91it/s]\n",
      "/var/folders/1b/dx8_94fs0q740wx3lfknk6y40000gn/T/ipykernel_42031/3950971282.py:3: SettingWithCopyWarning: \n",
      "A value is trying to be set on a copy of a slice from a DataFrame.\n",
      "Try using .loc[row_indexer,col_indexer] = value instead\n",
      "\n",
      "See the caveats in the documentation: https://pandas.pydata.org/pandas-docs/stable/user_guide/indexing.html#returning-a-view-versus-a-copy\n",
      "  tmp['keyword'] = tmp.msg.progress_apply(lambda x: kw_model.extract_keywords(x, keyphrase_ngram_range=(2,4), use_maxsum = True, top_n = 1))\n"
     ]
    },
    {
     "name": "stdout",
     "output_type": "stream",
     "text": [
      "{i} complete\n"
     ]
    },
    {
     "name": "stderr",
     "output_type": "stream",
     "text": [
      "100%|██████████| 2/2 [00:00<00:00, 10.36it/s]\n",
      "/var/folders/1b/dx8_94fs0q740wx3lfknk6y40000gn/T/ipykernel_42031/3950971282.py:3: SettingWithCopyWarning: \n",
      "A value is trying to be set on a copy of a slice from a DataFrame.\n",
      "Try using .loc[row_indexer,col_indexer] = value instead\n",
      "\n",
      "See the caveats in the documentation: https://pandas.pydata.org/pandas-docs/stable/user_guide/indexing.html#returning-a-view-versus-a-copy\n",
      "  tmp['keyword'] = tmp.msg.progress_apply(lambda x: kw_model.extract_keywords(x, keyphrase_ngram_range=(2,4), use_maxsum = True, top_n = 1))\n"
     ]
    },
    {
     "name": "stdout",
     "output_type": "stream",
     "text": [
      "{i} complete\n"
     ]
    },
    {
     "name": "stderr",
     "output_type": "stream",
     "text": [
      "100%|██████████| 2/2 [00:00<00:00,  3.23it/s]\n",
      "/var/folders/1b/dx8_94fs0q740wx3lfknk6y40000gn/T/ipykernel_42031/3950971282.py:3: SettingWithCopyWarning: \n",
      "A value is trying to be set on a copy of a slice from a DataFrame.\n",
      "Try using .loc[row_indexer,col_indexer] = value instead\n",
      "\n",
      "See the caveats in the documentation: https://pandas.pydata.org/pandas-docs/stable/user_guide/indexing.html#returning-a-view-versus-a-copy\n",
      "  tmp['keyword'] = tmp.msg.progress_apply(lambda x: kw_model.extract_keywords(x, keyphrase_ngram_range=(2,4), use_maxsum = True, top_n = 1))\n"
     ]
    },
    {
     "name": "stdout",
     "output_type": "stream",
     "text": [
      "{i} complete\n"
     ]
    },
    {
     "name": "stderr",
     "output_type": "stream",
     "text": [
      "100%|██████████| 2/2 [00:00<00:00,  3.10it/s]\n",
      "/var/folders/1b/dx8_94fs0q740wx3lfknk6y40000gn/T/ipykernel_42031/3950971282.py:3: SettingWithCopyWarning: \n",
      "A value is trying to be set on a copy of a slice from a DataFrame.\n",
      "Try using .loc[row_indexer,col_indexer] = value instead\n",
      "\n",
      "See the caveats in the documentation: https://pandas.pydata.org/pandas-docs/stable/user_guide/indexing.html#returning-a-view-versus-a-copy\n",
      "  tmp['keyword'] = tmp.msg.progress_apply(lambda x: kw_model.extract_keywords(x, keyphrase_ngram_range=(2,4), use_maxsum = True, top_n = 1))\n"
     ]
    },
    {
     "name": "stdout",
     "output_type": "stream",
     "text": [
      "{i} complete\n"
     ]
    },
    {
     "name": "stderr",
     "output_type": "stream",
     "text": [
      "100%|██████████| 2/2 [00:00<00:00,  3.58it/s]\n",
      "/var/folders/1b/dx8_94fs0q740wx3lfknk6y40000gn/T/ipykernel_42031/3950971282.py:3: SettingWithCopyWarning: \n",
      "A value is trying to be set on a copy of a slice from a DataFrame.\n",
      "Try using .loc[row_indexer,col_indexer] = value instead\n",
      "\n",
      "See the caveats in the documentation: https://pandas.pydata.org/pandas-docs/stable/user_guide/indexing.html#returning-a-view-versus-a-copy\n",
      "  tmp['keyword'] = tmp.msg.progress_apply(lambda x: kw_model.extract_keywords(x, keyphrase_ngram_range=(2,4), use_maxsum = True, top_n = 1))\n"
     ]
    },
    {
     "name": "stdout",
     "output_type": "stream",
     "text": [
      "{i} complete\n"
     ]
    },
    {
     "name": "stderr",
     "output_type": "stream",
     "text": [
      "100%|██████████| 2/2 [00:00<00:00,  2.87it/s]\n",
      "/var/folders/1b/dx8_94fs0q740wx3lfknk6y40000gn/T/ipykernel_42031/3950971282.py:3: SettingWithCopyWarning: \n",
      "A value is trying to be set on a copy of a slice from a DataFrame.\n",
      "Try using .loc[row_indexer,col_indexer] = value instead\n",
      "\n",
      "See the caveats in the documentation: https://pandas.pydata.org/pandas-docs/stable/user_guide/indexing.html#returning-a-view-versus-a-copy\n",
      "  tmp['keyword'] = tmp.msg.progress_apply(lambda x: kw_model.extract_keywords(x, keyphrase_ngram_range=(2,4), use_maxsum = True, top_n = 1))\n"
     ]
    },
    {
     "name": "stdout",
     "output_type": "stream",
     "text": [
      "{i} complete\n"
     ]
    },
    {
     "name": "stderr",
     "output_type": "stream",
     "text": [
      "100%|██████████| 2/2 [00:00<00:00,  2.83it/s]\n",
      "/var/folders/1b/dx8_94fs0q740wx3lfknk6y40000gn/T/ipykernel_42031/3950971282.py:3: SettingWithCopyWarning: \n",
      "A value is trying to be set on a copy of a slice from a DataFrame.\n",
      "Try using .loc[row_indexer,col_indexer] = value instead\n",
      "\n",
      "See the caveats in the documentation: https://pandas.pydata.org/pandas-docs/stable/user_guide/indexing.html#returning-a-view-versus-a-copy\n",
      "  tmp['keyword'] = tmp.msg.progress_apply(lambda x: kw_model.extract_keywords(x, keyphrase_ngram_range=(2,4), use_maxsum = True, top_n = 1))\n"
     ]
    },
    {
     "name": "stdout",
     "output_type": "stream",
     "text": [
      "{i} complete\n"
     ]
    },
    {
     "name": "stderr",
     "output_type": "stream",
     "text": [
      "100%|██████████| 2/2 [00:00<00:00,  3.53it/s]\n",
      "/var/folders/1b/dx8_94fs0q740wx3lfknk6y40000gn/T/ipykernel_42031/3950971282.py:3: SettingWithCopyWarning: \n",
      "A value is trying to be set on a copy of a slice from a DataFrame.\n",
      "Try using .loc[row_indexer,col_indexer] = value instead\n",
      "\n",
      "See the caveats in the documentation: https://pandas.pydata.org/pandas-docs/stable/user_guide/indexing.html#returning-a-view-versus-a-copy\n",
      "  tmp['keyword'] = tmp.msg.progress_apply(lambda x: kw_model.extract_keywords(x, keyphrase_ngram_range=(2,4), use_maxsum = True, top_n = 1))\n"
     ]
    },
    {
     "name": "stdout",
     "output_type": "stream",
     "text": [
      "{i} complete\n"
     ]
    },
    {
     "name": "stderr",
     "output_type": "stream",
     "text": [
      "100%|██████████| 2/2 [00:00<00:00,  3.44it/s]\n",
      "/var/folders/1b/dx8_94fs0q740wx3lfknk6y40000gn/T/ipykernel_42031/3950971282.py:3: SettingWithCopyWarning: \n",
      "A value is trying to be set on a copy of a slice from a DataFrame.\n",
      "Try using .loc[row_indexer,col_indexer] = value instead\n",
      "\n",
      "See the caveats in the documentation: https://pandas.pydata.org/pandas-docs/stable/user_guide/indexing.html#returning-a-view-versus-a-copy\n",
      "  tmp['keyword'] = tmp.msg.progress_apply(lambda x: kw_model.extract_keywords(x, keyphrase_ngram_range=(2,4), use_maxsum = True, top_n = 1))\n"
     ]
    },
    {
     "name": "stdout",
     "output_type": "stream",
     "text": [
      "{i} complete\n"
     ]
    },
    {
     "name": "stderr",
     "output_type": "stream",
     "text": [
      "100%|██████████| 2/2 [00:00<00:00,  2.97it/s]\n",
      "/var/folders/1b/dx8_94fs0q740wx3lfknk6y40000gn/T/ipykernel_42031/3950971282.py:3: SettingWithCopyWarning: \n",
      "A value is trying to be set on a copy of a slice from a DataFrame.\n",
      "Try using .loc[row_indexer,col_indexer] = value instead\n",
      "\n",
      "See the caveats in the documentation: https://pandas.pydata.org/pandas-docs/stable/user_guide/indexing.html#returning-a-view-versus-a-copy\n",
      "  tmp['keyword'] = tmp.msg.progress_apply(lambda x: kw_model.extract_keywords(x, keyphrase_ngram_range=(2,4), use_maxsum = True, top_n = 1))\n"
     ]
    },
    {
     "name": "stdout",
     "output_type": "stream",
     "text": [
      "{i} complete\n"
     ]
    },
    {
     "name": "stderr",
     "output_type": "stream",
     "text": [
      "100%|██████████| 2/2 [00:00<00:00,  3.29it/s]\n",
      "/var/folders/1b/dx8_94fs0q740wx3lfknk6y40000gn/T/ipykernel_42031/3950971282.py:3: SettingWithCopyWarning: \n",
      "A value is trying to be set on a copy of a slice from a DataFrame.\n",
      "Try using .loc[row_indexer,col_indexer] = value instead\n",
      "\n",
      "See the caveats in the documentation: https://pandas.pydata.org/pandas-docs/stable/user_guide/indexing.html#returning-a-view-versus-a-copy\n",
      "  tmp['keyword'] = tmp.msg.progress_apply(lambda x: kw_model.extract_keywords(x, keyphrase_ngram_range=(2,4), use_maxsum = True, top_n = 1))\n"
     ]
    },
    {
     "name": "stdout",
     "output_type": "stream",
     "text": [
      "{i} complete\n"
     ]
    },
    {
     "name": "stderr",
     "output_type": "stream",
     "text": [
      "100%|██████████| 2/2 [00:00<00:00,  2.85it/s]\n",
      "/var/folders/1b/dx8_94fs0q740wx3lfknk6y40000gn/T/ipykernel_42031/3950971282.py:3: SettingWithCopyWarning: \n",
      "A value is trying to be set on a copy of a slice from a DataFrame.\n",
      "Try using .loc[row_indexer,col_indexer] = value instead\n",
      "\n",
      "See the caveats in the documentation: https://pandas.pydata.org/pandas-docs/stable/user_guide/indexing.html#returning-a-view-versus-a-copy\n",
      "  tmp['keyword'] = tmp.msg.progress_apply(lambda x: kw_model.extract_keywords(x, keyphrase_ngram_range=(2,4), use_maxsum = True, top_n = 1))\n"
     ]
    },
    {
     "name": "stdout",
     "output_type": "stream",
     "text": [
      "{i} complete\n"
     ]
    },
    {
     "name": "stderr",
     "output_type": "stream",
     "text": [
      "100%|██████████| 2/2 [00:00<00:00,  3.10it/s]\n",
      "/var/folders/1b/dx8_94fs0q740wx3lfknk6y40000gn/T/ipykernel_42031/3950971282.py:3: SettingWithCopyWarning: \n",
      "A value is trying to be set on a copy of a slice from a DataFrame.\n",
      "Try using .loc[row_indexer,col_indexer] = value instead\n",
      "\n",
      "See the caveats in the documentation: https://pandas.pydata.org/pandas-docs/stable/user_guide/indexing.html#returning-a-view-versus-a-copy\n",
      "  tmp['keyword'] = tmp.msg.progress_apply(lambda x: kw_model.extract_keywords(x, keyphrase_ngram_range=(2,4), use_maxsum = True, top_n = 1))\n"
     ]
    },
    {
     "name": "stdout",
     "output_type": "stream",
     "text": [
      "{i} complete\n"
     ]
    },
    {
     "name": "stderr",
     "output_type": "stream",
     "text": [
      "100%|██████████| 2/2 [00:00<00:00,  2.97it/s]\n",
      "/var/folders/1b/dx8_94fs0q740wx3lfknk6y40000gn/T/ipykernel_42031/3950971282.py:3: SettingWithCopyWarning: \n",
      "A value is trying to be set on a copy of a slice from a DataFrame.\n",
      "Try using .loc[row_indexer,col_indexer] = value instead\n",
      "\n",
      "See the caveats in the documentation: https://pandas.pydata.org/pandas-docs/stable/user_guide/indexing.html#returning-a-view-versus-a-copy\n",
      "  tmp['keyword'] = tmp.msg.progress_apply(lambda x: kw_model.extract_keywords(x, keyphrase_ngram_range=(2,4), use_maxsum = True, top_n = 1))\n"
     ]
    },
    {
     "name": "stdout",
     "output_type": "stream",
     "text": [
      "{i} complete\n"
     ]
    },
    {
     "name": "stderr",
     "output_type": "stream",
     "text": [
      "100%|██████████| 2/2 [00:01<00:00,  1.99it/s]\n",
      "/var/folders/1b/dx8_94fs0q740wx3lfknk6y40000gn/T/ipykernel_42031/3950971282.py:3: SettingWithCopyWarning: \n",
      "A value is trying to be set on a copy of a slice from a DataFrame.\n",
      "Try using .loc[row_indexer,col_indexer] = value instead\n",
      "\n",
      "See the caveats in the documentation: https://pandas.pydata.org/pandas-docs/stable/user_guide/indexing.html#returning-a-view-versus-a-copy\n",
      "  tmp['keyword'] = tmp.msg.progress_apply(lambda x: kw_model.extract_keywords(x, keyphrase_ngram_range=(2,4), use_maxsum = True, top_n = 1))\n"
     ]
    },
    {
     "name": "stdout",
     "output_type": "stream",
     "text": [
      "{i} complete\n"
     ]
    },
    {
     "name": "stderr",
     "output_type": "stream",
     "text": [
      "100%|██████████| 2/2 [00:00<00:00,  2.82it/s]\n",
      "/var/folders/1b/dx8_94fs0q740wx3lfknk6y40000gn/T/ipykernel_42031/3950971282.py:3: SettingWithCopyWarning: \n",
      "A value is trying to be set on a copy of a slice from a DataFrame.\n",
      "Try using .loc[row_indexer,col_indexer] = value instead\n",
      "\n",
      "See the caveats in the documentation: https://pandas.pydata.org/pandas-docs/stable/user_guide/indexing.html#returning-a-view-versus-a-copy\n",
      "  tmp['keyword'] = tmp.msg.progress_apply(lambda x: kw_model.extract_keywords(x, keyphrase_ngram_range=(2,4), use_maxsum = True, top_n = 1))\n"
     ]
    },
    {
     "name": "stdout",
     "output_type": "stream",
     "text": [
      "{i} complete\n"
     ]
    },
    {
     "name": "stderr",
     "output_type": "stream",
     "text": [
      "100%|██████████| 2/2 [00:00<00:00,  3.53it/s]\n",
      "/var/folders/1b/dx8_94fs0q740wx3lfknk6y40000gn/T/ipykernel_42031/3950971282.py:3: SettingWithCopyWarning: \n",
      "A value is trying to be set on a copy of a slice from a DataFrame.\n",
      "Try using .loc[row_indexer,col_indexer] = value instead\n",
      "\n",
      "See the caveats in the documentation: https://pandas.pydata.org/pandas-docs/stable/user_guide/indexing.html#returning-a-view-versus-a-copy\n",
      "  tmp['keyword'] = tmp.msg.progress_apply(lambda x: kw_model.extract_keywords(x, keyphrase_ngram_range=(2,4), use_maxsum = True, top_n = 1))\n"
     ]
    },
    {
     "name": "stdout",
     "output_type": "stream",
     "text": [
      "{i} complete\n"
     ]
    },
    {
     "name": "stderr",
     "output_type": "stream",
     "text": [
      "100%|██████████| 2/2 [00:00<00:00,  2.98it/s]\n",
      "/var/folders/1b/dx8_94fs0q740wx3lfknk6y40000gn/T/ipykernel_42031/3950971282.py:3: SettingWithCopyWarning: \n",
      "A value is trying to be set on a copy of a slice from a DataFrame.\n",
      "Try using .loc[row_indexer,col_indexer] = value instead\n",
      "\n",
      "See the caveats in the documentation: https://pandas.pydata.org/pandas-docs/stable/user_guide/indexing.html#returning-a-view-versus-a-copy\n",
      "  tmp['keyword'] = tmp.msg.progress_apply(lambda x: kw_model.extract_keywords(x, keyphrase_ngram_range=(2,4), use_maxsum = True, top_n = 1))\n"
     ]
    },
    {
     "name": "stdout",
     "output_type": "stream",
     "text": [
      "{i} complete\n"
     ]
    },
    {
     "name": "stderr",
     "output_type": "stream",
     "text": [
      "100%|██████████| 2/2 [00:00<00:00,  7.85it/s]\n",
      "/var/folders/1b/dx8_94fs0q740wx3lfknk6y40000gn/T/ipykernel_42031/3950971282.py:3: SettingWithCopyWarning: \n",
      "A value is trying to be set on a copy of a slice from a DataFrame.\n",
      "Try using .loc[row_indexer,col_indexer] = value instead\n",
      "\n",
      "See the caveats in the documentation: https://pandas.pydata.org/pandas-docs/stable/user_guide/indexing.html#returning-a-view-versus-a-copy\n",
      "  tmp['keyword'] = tmp.msg.progress_apply(lambda x: kw_model.extract_keywords(x, keyphrase_ngram_range=(2,4), use_maxsum = True, top_n = 1))\n"
     ]
    },
    {
     "name": "stdout",
     "output_type": "stream",
     "text": [
      "{i} complete\n"
     ]
    },
    {
     "name": "stderr",
     "output_type": "stream",
     "text": [
      "100%|██████████| 2/2 [00:00<00:00,  4.41it/s]\n",
      "/var/folders/1b/dx8_94fs0q740wx3lfknk6y40000gn/T/ipykernel_42031/3950971282.py:3: SettingWithCopyWarning: \n",
      "A value is trying to be set on a copy of a slice from a DataFrame.\n",
      "Try using .loc[row_indexer,col_indexer] = value instead\n",
      "\n",
      "See the caveats in the documentation: https://pandas.pydata.org/pandas-docs/stable/user_guide/indexing.html#returning-a-view-versus-a-copy\n",
      "  tmp['keyword'] = tmp.msg.progress_apply(lambda x: kw_model.extract_keywords(x, keyphrase_ngram_range=(2,4), use_maxsum = True, top_n = 1))\n"
     ]
    },
    {
     "name": "stdout",
     "output_type": "stream",
     "text": [
      "{i} complete\n"
     ]
    },
    {
     "name": "stderr",
     "output_type": "stream",
     "text": [
      "100%|██████████| 2/2 [00:00<00:00,  3.34it/s]\n",
      "/var/folders/1b/dx8_94fs0q740wx3lfknk6y40000gn/T/ipykernel_42031/3950971282.py:3: SettingWithCopyWarning: \n",
      "A value is trying to be set on a copy of a slice from a DataFrame.\n",
      "Try using .loc[row_indexer,col_indexer] = value instead\n",
      "\n",
      "See the caveats in the documentation: https://pandas.pydata.org/pandas-docs/stable/user_guide/indexing.html#returning-a-view-versus-a-copy\n",
      "  tmp['keyword'] = tmp.msg.progress_apply(lambda x: kw_model.extract_keywords(x, keyphrase_ngram_range=(2,4), use_maxsum = True, top_n = 1))\n"
     ]
    },
    {
     "name": "stdout",
     "output_type": "stream",
     "text": [
      "{i} complete\n"
     ]
    },
    {
     "name": "stderr",
     "output_type": "stream",
     "text": [
      "100%|██████████| 2/2 [00:00<00:00,  3.02it/s]\n",
      "/var/folders/1b/dx8_94fs0q740wx3lfknk6y40000gn/T/ipykernel_42031/3950971282.py:3: SettingWithCopyWarning: \n",
      "A value is trying to be set on a copy of a slice from a DataFrame.\n",
      "Try using .loc[row_indexer,col_indexer] = value instead\n",
      "\n",
      "See the caveats in the documentation: https://pandas.pydata.org/pandas-docs/stable/user_guide/indexing.html#returning-a-view-versus-a-copy\n",
      "  tmp['keyword'] = tmp.msg.progress_apply(lambda x: kw_model.extract_keywords(x, keyphrase_ngram_range=(2,4), use_maxsum = True, top_n = 1))\n"
     ]
    },
    {
     "name": "stdout",
     "output_type": "stream",
     "text": [
      "{i} complete\n"
     ]
    },
    {
     "name": "stderr",
     "output_type": "stream",
     "text": [
      "100%|██████████| 2/2 [00:00<00:00,  3.25it/s]\n",
      "/var/folders/1b/dx8_94fs0q740wx3lfknk6y40000gn/T/ipykernel_42031/3950971282.py:3: SettingWithCopyWarning: \n",
      "A value is trying to be set on a copy of a slice from a DataFrame.\n",
      "Try using .loc[row_indexer,col_indexer] = value instead\n",
      "\n",
      "See the caveats in the documentation: https://pandas.pydata.org/pandas-docs/stable/user_guide/indexing.html#returning-a-view-versus-a-copy\n",
      "  tmp['keyword'] = tmp.msg.progress_apply(lambda x: kw_model.extract_keywords(x, keyphrase_ngram_range=(2,4), use_maxsum = True, top_n = 1))\n"
     ]
    },
    {
     "name": "stdout",
     "output_type": "stream",
     "text": [
      "{i} complete\n"
     ]
    },
    {
     "name": "stderr",
     "output_type": "stream",
     "text": [
      "100%|██████████| 2/2 [00:00<00:00,  3.30it/s]\n",
      "/var/folders/1b/dx8_94fs0q740wx3lfknk6y40000gn/T/ipykernel_42031/3950971282.py:3: SettingWithCopyWarning: \n",
      "A value is trying to be set on a copy of a slice from a DataFrame.\n",
      "Try using .loc[row_indexer,col_indexer] = value instead\n",
      "\n",
      "See the caveats in the documentation: https://pandas.pydata.org/pandas-docs/stable/user_guide/indexing.html#returning-a-view-versus-a-copy\n",
      "  tmp['keyword'] = tmp.msg.progress_apply(lambda x: kw_model.extract_keywords(x, keyphrase_ngram_range=(2,4), use_maxsum = True, top_n = 1))\n"
     ]
    },
    {
     "name": "stdout",
     "output_type": "stream",
     "text": [
      "{i} complete\n"
     ]
    },
    {
     "name": "stderr",
     "output_type": "stream",
     "text": [
      "100%|██████████| 2/2 [00:00<00:00,  3.36it/s]\n",
      "/var/folders/1b/dx8_94fs0q740wx3lfknk6y40000gn/T/ipykernel_42031/3950971282.py:3: SettingWithCopyWarning: \n",
      "A value is trying to be set on a copy of a slice from a DataFrame.\n",
      "Try using .loc[row_indexer,col_indexer] = value instead\n",
      "\n",
      "See the caveats in the documentation: https://pandas.pydata.org/pandas-docs/stable/user_guide/indexing.html#returning-a-view-versus-a-copy\n",
      "  tmp['keyword'] = tmp.msg.progress_apply(lambda x: kw_model.extract_keywords(x, keyphrase_ngram_range=(2,4), use_maxsum = True, top_n = 1))\n"
     ]
    },
    {
     "name": "stdout",
     "output_type": "stream",
     "text": [
      "{i} complete\n"
     ]
    },
    {
     "name": "stderr",
     "output_type": "stream",
     "text": [
      "100%|██████████| 2/2 [00:00<00:00,  3.27it/s]\n",
      "/var/folders/1b/dx8_94fs0q740wx3lfknk6y40000gn/T/ipykernel_42031/3950971282.py:3: SettingWithCopyWarning: \n",
      "A value is trying to be set on a copy of a slice from a DataFrame.\n",
      "Try using .loc[row_indexer,col_indexer] = value instead\n",
      "\n",
      "See the caveats in the documentation: https://pandas.pydata.org/pandas-docs/stable/user_guide/indexing.html#returning-a-view-versus-a-copy\n",
      "  tmp['keyword'] = tmp.msg.progress_apply(lambda x: kw_model.extract_keywords(x, keyphrase_ngram_range=(2,4), use_maxsum = True, top_n = 1))\n"
     ]
    },
    {
     "name": "stdout",
     "output_type": "stream",
     "text": [
      "{i} complete\n"
     ]
    },
    {
     "name": "stderr",
     "output_type": "stream",
     "text": [
      "100%|██████████| 2/2 [00:00<00:00,  3.34it/s]\n",
      "/var/folders/1b/dx8_94fs0q740wx3lfknk6y40000gn/T/ipykernel_42031/3950971282.py:3: SettingWithCopyWarning: \n",
      "A value is trying to be set on a copy of a slice from a DataFrame.\n",
      "Try using .loc[row_indexer,col_indexer] = value instead\n",
      "\n",
      "See the caveats in the documentation: https://pandas.pydata.org/pandas-docs/stable/user_guide/indexing.html#returning-a-view-versus-a-copy\n",
      "  tmp['keyword'] = tmp.msg.progress_apply(lambda x: kw_model.extract_keywords(x, keyphrase_ngram_range=(2,4), use_maxsum = True, top_n = 1))\n"
     ]
    },
    {
     "name": "stdout",
     "output_type": "stream",
     "text": [
      "{i} complete\n"
     ]
    },
    {
     "name": "stderr",
     "output_type": "stream",
     "text": [
      "100%|██████████| 2/2 [00:00<00:00,  3.13it/s]\n",
      "/var/folders/1b/dx8_94fs0q740wx3lfknk6y40000gn/T/ipykernel_42031/3950971282.py:3: SettingWithCopyWarning: \n",
      "A value is trying to be set on a copy of a slice from a DataFrame.\n",
      "Try using .loc[row_indexer,col_indexer] = value instead\n",
      "\n",
      "See the caveats in the documentation: https://pandas.pydata.org/pandas-docs/stable/user_guide/indexing.html#returning-a-view-versus-a-copy\n",
      "  tmp['keyword'] = tmp.msg.progress_apply(lambda x: kw_model.extract_keywords(x, keyphrase_ngram_range=(2,4), use_maxsum = True, top_n = 1))\n"
     ]
    },
    {
     "name": "stdout",
     "output_type": "stream",
     "text": [
      "{i} complete\n"
     ]
    },
    {
     "name": "stderr",
     "output_type": "stream",
     "text": [
      "100%|██████████| 2/2 [00:00<00:00,  3.05it/s]\n",
      "/var/folders/1b/dx8_94fs0q740wx3lfknk6y40000gn/T/ipykernel_42031/3950971282.py:3: SettingWithCopyWarning: \n",
      "A value is trying to be set on a copy of a slice from a DataFrame.\n",
      "Try using .loc[row_indexer,col_indexer] = value instead\n",
      "\n",
      "See the caveats in the documentation: https://pandas.pydata.org/pandas-docs/stable/user_guide/indexing.html#returning-a-view-versus-a-copy\n",
      "  tmp['keyword'] = tmp.msg.progress_apply(lambda x: kw_model.extract_keywords(x, keyphrase_ngram_range=(2,4), use_maxsum = True, top_n = 1))\n"
     ]
    },
    {
     "name": "stdout",
     "output_type": "stream",
     "text": [
      "{i} complete\n"
     ]
    },
    {
     "name": "stderr",
     "output_type": "stream",
     "text": [
      "100%|██████████| 2/2 [00:00<00:00,  3.13it/s]\n",
      "/var/folders/1b/dx8_94fs0q740wx3lfknk6y40000gn/T/ipykernel_42031/3950971282.py:3: SettingWithCopyWarning: \n",
      "A value is trying to be set on a copy of a slice from a DataFrame.\n",
      "Try using .loc[row_indexer,col_indexer] = value instead\n",
      "\n",
      "See the caveats in the documentation: https://pandas.pydata.org/pandas-docs/stable/user_guide/indexing.html#returning-a-view-versus-a-copy\n",
      "  tmp['keyword'] = tmp.msg.progress_apply(lambda x: kw_model.extract_keywords(x, keyphrase_ngram_range=(2,4), use_maxsum = True, top_n = 1))\n"
     ]
    },
    {
     "name": "stdout",
     "output_type": "stream",
     "text": [
      "{i} complete\n"
     ]
    },
    {
     "name": "stderr",
     "output_type": "stream",
     "text": [
      "100%|██████████| 2/2 [00:00<00:00,  3.71it/s]\n",
      "/var/folders/1b/dx8_94fs0q740wx3lfknk6y40000gn/T/ipykernel_42031/3950971282.py:3: SettingWithCopyWarning: \n",
      "A value is trying to be set on a copy of a slice from a DataFrame.\n",
      "Try using .loc[row_indexer,col_indexer] = value instead\n",
      "\n",
      "See the caveats in the documentation: https://pandas.pydata.org/pandas-docs/stable/user_guide/indexing.html#returning-a-view-versus-a-copy\n",
      "  tmp['keyword'] = tmp.msg.progress_apply(lambda x: kw_model.extract_keywords(x, keyphrase_ngram_range=(2,4), use_maxsum = True, top_n = 1))\n"
     ]
    },
    {
     "name": "stdout",
     "output_type": "stream",
     "text": [
      "{i} complete\n"
     ]
    },
    {
     "name": "stderr",
     "output_type": "stream",
     "text": [
      "100%|██████████| 2/2 [00:00<00:00,  2.91it/s]\n",
      "/var/folders/1b/dx8_94fs0q740wx3lfknk6y40000gn/T/ipykernel_42031/3950971282.py:3: SettingWithCopyWarning: \n",
      "A value is trying to be set on a copy of a slice from a DataFrame.\n",
      "Try using .loc[row_indexer,col_indexer] = value instead\n",
      "\n",
      "See the caveats in the documentation: https://pandas.pydata.org/pandas-docs/stable/user_guide/indexing.html#returning-a-view-versus-a-copy\n",
      "  tmp['keyword'] = tmp.msg.progress_apply(lambda x: kw_model.extract_keywords(x, keyphrase_ngram_range=(2,4), use_maxsum = True, top_n = 1))\n"
     ]
    },
    {
     "name": "stdout",
     "output_type": "stream",
     "text": [
      "{i} complete\n"
     ]
    },
    {
     "name": "stderr",
     "output_type": "stream",
     "text": [
      "100%|██████████| 2/2 [00:00<00:00,  3.21it/s]\n",
      "/var/folders/1b/dx8_94fs0q740wx3lfknk6y40000gn/T/ipykernel_42031/3950971282.py:3: SettingWithCopyWarning: \n",
      "A value is trying to be set on a copy of a slice from a DataFrame.\n",
      "Try using .loc[row_indexer,col_indexer] = value instead\n",
      "\n",
      "See the caveats in the documentation: https://pandas.pydata.org/pandas-docs/stable/user_guide/indexing.html#returning-a-view-versus-a-copy\n",
      "  tmp['keyword'] = tmp.msg.progress_apply(lambda x: kw_model.extract_keywords(x, keyphrase_ngram_range=(2,4), use_maxsum = True, top_n = 1))\n"
     ]
    },
    {
     "name": "stdout",
     "output_type": "stream",
     "text": [
      "{i} complete\n"
     ]
    },
    {
     "name": "stderr",
     "output_type": "stream",
     "text": [
      "100%|██████████| 2/2 [00:00<00:00,  3.76it/s]\n",
      "/var/folders/1b/dx8_94fs0q740wx3lfknk6y40000gn/T/ipykernel_42031/3950971282.py:3: SettingWithCopyWarning: \n",
      "A value is trying to be set on a copy of a slice from a DataFrame.\n",
      "Try using .loc[row_indexer,col_indexer] = value instead\n",
      "\n",
      "See the caveats in the documentation: https://pandas.pydata.org/pandas-docs/stable/user_guide/indexing.html#returning-a-view-versus-a-copy\n",
      "  tmp['keyword'] = tmp.msg.progress_apply(lambda x: kw_model.extract_keywords(x, keyphrase_ngram_range=(2,4), use_maxsum = True, top_n = 1))\n"
     ]
    },
    {
     "name": "stdout",
     "output_type": "stream",
     "text": [
      "{i} complete\n"
     ]
    },
    {
     "name": "stderr",
     "output_type": "stream",
     "text": [
      "100%|██████████| 2/2 [00:00<00:00,  4.57it/s]\n",
      "/var/folders/1b/dx8_94fs0q740wx3lfknk6y40000gn/T/ipykernel_42031/3950971282.py:3: SettingWithCopyWarning: \n",
      "A value is trying to be set on a copy of a slice from a DataFrame.\n",
      "Try using .loc[row_indexer,col_indexer] = value instead\n",
      "\n",
      "See the caveats in the documentation: https://pandas.pydata.org/pandas-docs/stable/user_guide/indexing.html#returning-a-view-versus-a-copy\n",
      "  tmp['keyword'] = tmp.msg.progress_apply(lambda x: kw_model.extract_keywords(x, keyphrase_ngram_range=(2,4), use_maxsum = True, top_n = 1))\n"
     ]
    },
    {
     "name": "stdout",
     "output_type": "stream",
     "text": [
      "{i} complete\n"
     ]
    },
    {
     "name": "stderr",
     "output_type": "stream",
     "text": [
      "100%|██████████| 2/2 [00:00<00:00,  6.10it/s]\n",
      "/var/folders/1b/dx8_94fs0q740wx3lfknk6y40000gn/T/ipykernel_42031/3950971282.py:3: SettingWithCopyWarning: \n",
      "A value is trying to be set on a copy of a slice from a DataFrame.\n",
      "Try using .loc[row_indexer,col_indexer] = value instead\n",
      "\n",
      "See the caveats in the documentation: https://pandas.pydata.org/pandas-docs/stable/user_guide/indexing.html#returning-a-view-versus-a-copy\n",
      "  tmp['keyword'] = tmp.msg.progress_apply(lambda x: kw_model.extract_keywords(x, keyphrase_ngram_range=(2,4), use_maxsum = True, top_n = 1))\n"
     ]
    },
    {
     "name": "stdout",
     "output_type": "stream",
     "text": [
      "{i} complete\n"
     ]
    },
    {
     "name": "stderr",
     "output_type": "stream",
     "text": [
      "100%|██████████| 2/2 [00:00<00:00,  3.17it/s]\n",
      "/var/folders/1b/dx8_94fs0q740wx3lfknk6y40000gn/T/ipykernel_42031/3950971282.py:3: SettingWithCopyWarning: \n",
      "A value is trying to be set on a copy of a slice from a DataFrame.\n",
      "Try using .loc[row_indexer,col_indexer] = value instead\n",
      "\n",
      "See the caveats in the documentation: https://pandas.pydata.org/pandas-docs/stable/user_guide/indexing.html#returning-a-view-versus-a-copy\n",
      "  tmp['keyword'] = tmp.msg.progress_apply(lambda x: kw_model.extract_keywords(x, keyphrase_ngram_range=(2,4), use_maxsum = True, top_n = 1))\n"
     ]
    },
    {
     "name": "stdout",
     "output_type": "stream",
     "text": [
      "{i} complete\n"
     ]
    },
    {
     "name": "stderr",
     "output_type": "stream",
     "text": [
      "100%|██████████| 2/2 [00:00<00:00,  9.68it/s]\n",
      "/var/folders/1b/dx8_94fs0q740wx3lfknk6y40000gn/T/ipykernel_42031/3950971282.py:3: SettingWithCopyWarning: \n",
      "A value is trying to be set on a copy of a slice from a DataFrame.\n",
      "Try using .loc[row_indexer,col_indexer] = value instead\n",
      "\n",
      "See the caveats in the documentation: https://pandas.pydata.org/pandas-docs/stable/user_guide/indexing.html#returning-a-view-versus-a-copy\n",
      "  tmp['keyword'] = tmp.msg.progress_apply(lambda x: kw_model.extract_keywords(x, keyphrase_ngram_range=(2,4), use_maxsum = True, top_n = 1))\n"
     ]
    },
    {
     "name": "stdout",
     "output_type": "stream",
     "text": [
      "{i} complete\n"
     ]
    },
    {
     "name": "stderr",
     "output_type": "stream",
     "text": [
      "100%|██████████| 2/2 [00:00<00:00,  4.23it/s]\n",
      "/var/folders/1b/dx8_94fs0q740wx3lfknk6y40000gn/T/ipykernel_42031/3950971282.py:3: SettingWithCopyWarning: \n",
      "A value is trying to be set on a copy of a slice from a DataFrame.\n",
      "Try using .loc[row_indexer,col_indexer] = value instead\n",
      "\n",
      "See the caveats in the documentation: https://pandas.pydata.org/pandas-docs/stable/user_guide/indexing.html#returning-a-view-versus-a-copy\n",
      "  tmp['keyword'] = tmp.msg.progress_apply(lambda x: kw_model.extract_keywords(x, keyphrase_ngram_range=(2,4), use_maxsum = True, top_n = 1))\n"
     ]
    },
    {
     "name": "stdout",
     "output_type": "stream",
     "text": [
      "{i} complete\n"
     ]
    },
    {
     "name": "stderr",
     "output_type": "stream",
     "text": [
      "100%|██████████| 2/2 [00:00<00:00,  3.18it/s]\n",
      "/var/folders/1b/dx8_94fs0q740wx3lfknk6y40000gn/T/ipykernel_42031/3950971282.py:3: SettingWithCopyWarning: \n",
      "A value is trying to be set on a copy of a slice from a DataFrame.\n",
      "Try using .loc[row_indexer,col_indexer] = value instead\n",
      "\n",
      "See the caveats in the documentation: https://pandas.pydata.org/pandas-docs/stable/user_guide/indexing.html#returning-a-view-versus-a-copy\n",
      "  tmp['keyword'] = tmp.msg.progress_apply(lambda x: kw_model.extract_keywords(x, keyphrase_ngram_range=(2,4), use_maxsum = True, top_n = 1))\n"
     ]
    },
    {
     "name": "stdout",
     "output_type": "stream",
     "text": [
      "{i} complete\n"
     ]
    },
    {
     "name": "stderr",
     "output_type": "stream",
     "text": [
      "100%|██████████| 2/2 [00:00<00:00,  3.10it/s]\n",
      "/var/folders/1b/dx8_94fs0q740wx3lfknk6y40000gn/T/ipykernel_42031/3950971282.py:3: SettingWithCopyWarning: \n",
      "A value is trying to be set on a copy of a slice from a DataFrame.\n",
      "Try using .loc[row_indexer,col_indexer] = value instead\n",
      "\n",
      "See the caveats in the documentation: https://pandas.pydata.org/pandas-docs/stable/user_guide/indexing.html#returning-a-view-versus-a-copy\n",
      "  tmp['keyword'] = tmp.msg.progress_apply(lambda x: kw_model.extract_keywords(x, keyphrase_ngram_range=(2,4), use_maxsum = True, top_n = 1))\n"
     ]
    },
    {
     "name": "stdout",
     "output_type": "stream",
     "text": [
      "{i} complete\n"
     ]
    },
    {
     "name": "stderr",
     "output_type": "stream",
     "text": [
      "100%|██████████| 2/2 [00:00<00:00,  2.83it/s]\n",
      "/var/folders/1b/dx8_94fs0q740wx3lfknk6y40000gn/T/ipykernel_42031/3950971282.py:3: SettingWithCopyWarning: \n",
      "A value is trying to be set on a copy of a slice from a DataFrame.\n",
      "Try using .loc[row_indexer,col_indexer] = value instead\n",
      "\n",
      "See the caveats in the documentation: https://pandas.pydata.org/pandas-docs/stable/user_guide/indexing.html#returning-a-view-versus-a-copy\n",
      "  tmp['keyword'] = tmp.msg.progress_apply(lambda x: kw_model.extract_keywords(x, keyphrase_ngram_range=(2,4), use_maxsum = True, top_n = 1))\n"
     ]
    },
    {
     "name": "stdout",
     "output_type": "stream",
     "text": [
      "{i} complete\n"
     ]
    },
    {
     "name": "stderr",
     "output_type": "stream",
     "text": [
      "100%|██████████| 2/2 [00:00<00:00,  2.67it/s]\n",
      "/var/folders/1b/dx8_94fs0q740wx3lfknk6y40000gn/T/ipykernel_42031/3950971282.py:3: SettingWithCopyWarning: \n",
      "A value is trying to be set on a copy of a slice from a DataFrame.\n",
      "Try using .loc[row_indexer,col_indexer] = value instead\n",
      "\n",
      "See the caveats in the documentation: https://pandas.pydata.org/pandas-docs/stable/user_guide/indexing.html#returning-a-view-versus-a-copy\n",
      "  tmp['keyword'] = tmp.msg.progress_apply(lambda x: kw_model.extract_keywords(x, keyphrase_ngram_range=(2,4), use_maxsum = True, top_n = 1))\n"
     ]
    },
    {
     "name": "stdout",
     "output_type": "stream",
     "text": [
      "{i} complete\n"
     ]
    },
    {
     "name": "stderr",
     "output_type": "stream",
     "text": [
      "100%|██████████| 2/2 [00:00<00:00,  3.16it/s]\n",
      "/var/folders/1b/dx8_94fs0q740wx3lfknk6y40000gn/T/ipykernel_42031/3950971282.py:3: SettingWithCopyWarning: \n",
      "A value is trying to be set on a copy of a slice from a DataFrame.\n",
      "Try using .loc[row_indexer,col_indexer] = value instead\n",
      "\n",
      "See the caveats in the documentation: https://pandas.pydata.org/pandas-docs/stable/user_guide/indexing.html#returning-a-view-versus-a-copy\n",
      "  tmp['keyword'] = tmp.msg.progress_apply(lambda x: kw_model.extract_keywords(x, keyphrase_ngram_range=(2,4), use_maxsum = True, top_n = 1))\n"
     ]
    },
    {
     "name": "stdout",
     "output_type": "stream",
     "text": [
      "{i} complete\n"
     ]
    },
    {
     "name": "stderr",
     "output_type": "stream",
     "text": [
      "100%|██████████| 2/2 [00:00<00:00,  3.51it/s]\n",
      "/var/folders/1b/dx8_94fs0q740wx3lfknk6y40000gn/T/ipykernel_42031/3950971282.py:3: SettingWithCopyWarning: \n",
      "A value is trying to be set on a copy of a slice from a DataFrame.\n",
      "Try using .loc[row_indexer,col_indexer] = value instead\n",
      "\n",
      "See the caveats in the documentation: https://pandas.pydata.org/pandas-docs/stable/user_guide/indexing.html#returning-a-view-versus-a-copy\n",
      "  tmp['keyword'] = tmp.msg.progress_apply(lambda x: kw_model.extract_keywords(x, keyphrase_ngram_range=(2,4), use_maxsum = True, top_n = 1))\n"
     ]
    },
    {
     "name": "stdout",
     "output_type": "stream",
     "text": [
      "{i} complete\n"
     ]
    },
    {
     "name": "stderr",
     "output_type": "stream",
     "text": [
      "100%|██████████| 2/2 [00:00<00:00,  3.21it/s]\n",
      "/var/folders/1b/dx8_94fs0q740wx3lfknk6y40000gn/T/ipykernel_42031/3950971282.py:3: SettingWithCopyWarning: \n",
      "A value is trying to be set on a copy of a slice from a DataFrame.\n",
      "Try using .loc[row_indexer,col_indexer] = value instead\n",
      "\n",
      "See the caveats in the documentation: https://pandas.pydata.org/pandas-docs/stable/user_guide/indexing.html#returning-a-view-versus-a-copy\n",
      "  tmp['keyword'] = tmp.msg.progress_apply(lambda x: kw_model.extract_keywords(x, keyphrase_ngram_range=(2,4), use_maxsum = True, top_n = 1))\n"
     ]
    },
    {
     "name": "stdout",
     "output_type": "stream",
     "text": [
      "{i} complete\n"
     ]
    },
    {
     "name": "stderr",
     "output_type": "stream",
     "text": [
      "100%|██████████| 2/2 [00:00<00:00,  3.17it/s]\n",
      "/var/folders/1b/dx8_94fs0q740wx3lfknk6y40000gn/T/ipykernel_42031/3950971282.py:3: SettingWithCopyWarning: \n",
      "A value is trying to be set on a copy of a slice from a DataFrame.\n",
      "Try using .loc[row_indexer,col_indexer] = value instead\n",
      "\n",
      "See the caveats in the documentation: https://pandas.pydata.org/pandas-docs/stable/user_guide/indexing.html#returning-a-view-versus-a-copy\n",
      "  tmp['keyword'] = tmp.msg.progress_apply(lambda x: kw_model.extract_keywords(x, keyphrase_ngram_range=(2,4), use_maxsum = True, top_n = 1))\n"
     ]
    },
    {
     "name": "stdout",
     "output_type": "stream",
     "text": [
      "{i} complete\n"
     ]
    },
    {
     "name": "stderr",
     "output_type": "stream",
     "text": [
      "100%|██████████| 2/2 [00:00<00:00,  4.64it/s]\n",
      "/var/folders/1b/dx8_94fs0q740wx3lfknk6y40000gn/T/ipykernel_42031/3950971282.py:3: SettingWithCopyWarning: \n",
      "A value is trying to be set on a copy of a slice from a DataFrame.\n",
      "Try using .loc[row_indexer,col_indexer] = value instead\n",
      "\n",
      "See the caveats in the documentation: https://pandas.pydata.org/pandas-docs/stable/user_guide/indexing.html#returning-a-view-versus-a-copy\n",
      "  tmp['keyword'] = tmp.msg.progress_apply(lambda x: kw_model.extract_keywords(x, keyphrase_ngram_range=(2,4), use_maxsum = True, top_n = 1))\n"
     ]
    },
    {
     "name": "stdout",
     "output_type": "stream",
     "text": [
      "{i} complete\n"
     ]
    },
    {
     "name": "stderr",
     "output_type": "stream",
     "text": [
      "100%|██████████| 2/2 [00:00<00:00,  3.92it/s]\n",
      "/var/folders/1b/dx8_94fs0q740wx3lfknk6y40000gn/T/ipykernel_42031/3950971282.py:3: SettingWithCopyWarning: \n",
      "A value is trying to be set on a copy of a slice from a DataFrame.\n",
      "Try using .loc[row_indexer,col_indexer] = value instead\n",
      "\n",
      "See the caveats in the documentation: https://pandas.pydata.org/pandas-docs/stable/user_guide/indexing.html#returning-a-view-versus-a-copy\n",
      "  tmp['keyword'] = tmp.msg.progress_apply(lambda x: kw_model.extract_keywords(x, keyphrase_ngram_range=(2,4), use_maxsum = True, top_n = 1))\n"
     ]
    },
    {
     "name": "stdout",
     "output_type": "stream",
     "text": [
      "{i} complete\n"
     ]
    },
    {
     "name": "stderr",
     "output_type": "stream",
     "text": [
      "100%|██████████| 2/2 [00:00<00:00,  2.76it/s]\n",
      "/var/folders/1b/dx8_94fs0q740wx3lfknk6y40000gn/T/ipykernel_42031/3950971282.py:3: SettingWithCopyWarning: \n",
      "A value is trying to be set on a copy of a slice from a DataFrame.\n",
      "Try using .loc[row_indexer,col_indexer] = value instead\n",
      "\n",
      "See the caveats in the documentation: https://pandas.pydata.org/pandas-docs/stable/user_guide/indexing.html#returning-a-view-versus-a-copy\n",
      "  tmp['keyword'] = tmp.msg.progress_apply(lambda x: kw_model.extract_keywords(x, keyphrase_ngram_range=(2,4), use_maxsum = True, top_n = 1))\n"
     ]
    },
    {
     "name": "stdout",
     "output_type": "stream",
     "text": [
      "{i} complete\n"
     ]
    },
    {
     "name": "stderr",
     "output_type": "stream",
     "text": [
      "100%|██████████| 2/2 [00:00<00:00,  3.56it/s]\n",
      "/var/folders/1b/dx8_94fs0q740wx3lfknk6y40000gn/T/ipykernel_42031/3950971282.py:3: SettingWithCopyWarning: \n",
      "A value is trying to be set on a copy of a slice from a DataFrame.\n",
      "Try using .loc[row_indexer,col_indexer] = value instead\n",
      "\n",
      "See the caveats in the documentation: https://pandas.pydata.org/pandas-docs/stable/user_guide/indexing.html#returning-a-view-versus-a-copy\n",
      "  tmp['keyword'] = tmp.msg.progress_apply(lambda x: kw_model.extract_keywords(x, keyphrase_ngram_range=(2,4), use_maxsum = True, top_n = 1))\n"
     ]
    },
    {
     "name": "stdout",
     "output_type": "stream",
     "text": [
      "{i} complete\n"
     ]
    },
    {
     "name": "stderr",
     "output_type": "stream",
     "text": [
      "100%|██████████| 2/2 [00:00<00:00,  5.85it/s]\n",
      "/var/folders/1b/dx8_94fs0q740wx3lfknk6y40000gn/T/ipykernel_42031/3950971282.py:3: SettingWithCopyWarning: \n",
      "A value is trying to be set on a copy of a slice from a DataFrame.\n",
      "Try using .loc[row_indexer,col_indexer] = value instead\n",
      "\n",
      "See the caveats in the documentation: https://pandas.pydata.org/pandas-docs/stable/user_guide/indexing.html#returning-a-view-versus-a-copy\n",
      "  tmp['keyword'] = tmp.msg.progress_apply(lambda x: kw_model.extract_keywords(x, keyphrase_ngram_range=(2,4), use_maxsum = True, top_n = 1))\n"
     ]
    },
    {
     "name": "stdout",
     "output_type": "stream",
     "text": [
      "{i} complete\n"
     ]
    },
    {
     "name": "stderr",
     "output_type": "stream",
     "text": [
      "100%|██████████| 2/2 [00:00<00:00,  3.07it/s]\n",
      "/var/folders/1b/dx8_94fs0q740wx3lfknk6y40000gn/T/ipykernel_42031/3950971282.py:3: SettingWithCopyWarning: \n",
      "A value is trying to be set on a copy of a slice from a DataFrame.\n",
      "Try using .loc[row_indexer,col_indexer] = value instead\n",
      "\n",
      "See the caveats in the documentation: https://pandas.pydata.org/pandas-docs/stable/user_guide/indexing.html#returning-a-view-versus-a-copy\n",
      "  tmp['keyword'] = tmp.msg.progress_apply(lambda x: kw_model.extract_keywords(x, keyphrase_ngram_range=(2,4), use_maxsum = True, top_n = 1))\n"
     ]
    },
    {
     "name": "stdout",
     "output_type": "stream",
     "text": [
      "{i} complete\n"
     ]
    },
    {
     "name": "stderr",
     "output_type": "stream",
     "text": [
      "100%|██████████| 2/2 [00:00<00:00,  3.27it/s]\n",
      "/var/folders/1b/dx8_94fs0q740wx3lfknk6y40000gn/T/ipykernel_42031/3950971282.py:3: SettingWithCopyWarning: \n",
      "A value is trying to be set on a copy of a slice from a DataFrame.\n",
      "Try using .loc[row_indexer,col_indexer] = value instead\n",
      "\n",
      "See the caveats in the documentation: https://pandas.pydata.org/pandas-docs/stable/user_guide/indexing.html#returning-a-view-versus-a-copy\n",
      "  tmp['keyword'] = tmp.msg.progress_apply(lambda x: kw_model.extract_keywords(x, keyphrase_ngram_range=(2,4), use_maxsum = True, top_n = 1))\n"
     ]
    },
    {
     "name": "stdout",
     "output_type": "stream",
     "text": [
      "{i} complete\n"
     ]
    },
    {
     "name": "stderr",
     "output_type": "stream",
     "text": [
      "100%|██████████| 2/2 [00:00<00:00,  3.18it/s]\n",
      "/var/folders/1b/dx8_94fs0q740wx3lfknk6y40000gn/T/ipykernel_42031/3950971282.py:3: SettingWithCopyWarning: \n",
      "A value is trying to be set on a copy of a slice from a DataFrame.\n",
      "Try using .loc[row_indexer,col_indexer] = value instead\n",
      "\n",
      "See the caveats in the documentation: https://pandas.pydata.org/pandas-docs/stable/user_guide/indexing.html#returning-a-view-versus-a-copy\n",
      "  tmp['keyword'] = tmp.msg.progress_apply(lambda x: kw_model.extract_keywords(x, keyphrase_ngram_range=(2,4), use_maxsum = True, top_n = 1))\n"
     ]
    },
    {
     "name": "stdout",
     "output_type": "stream",
     "text": [
      "{i} complete\n"
     ]
    },
    {
     "name": "stderr",
     "output_type": "stream",
     "text": [
      "100%|██████████| 2/2 [00:00<00:00,  3.43it/s]\n",
      "/var/folders/1b/dx8_94fs0q740wx3lfknk6y40000gn/T/ipykernel_42031/3950971282.py:3: SettingWithCopyWarning: \n",
      "A value is trying to be set on a copy of a slice from a DataFrame.\n",
      "Try using .loc[row_indexer,col_indexer] = value instead\n",
      "\n",
      "See the caveats in the documentation: https://pandas.pydata.org/pandas-docs/stable/user_guide/indexing.html#returning-a-view-versus-a-copy\n",
      "  tmp['keyword'] = tmp.msg.progress_apply(lambda x: kw_model.extract_keywords(x, keyphrase_ngram_range=(2,4), use_maxsum = True, top_n = 1))\n"
     ]
    },
    {
     "name": "stdout",
     "output_type": "stream",
     "text": [
      "{i} complete\n"
     ]
    },
    {
     "name": "stderr",
     "output_type": "stream",
     "text": [
      "100%|██████████| 2/2 [00:00<00:00,  5.85it/s]\n",
      "/var/folders/1b/dx8_94fs0q740wx3lfknk6y40000gn/T/ipykernel_42031/3950971282.py:3: SettingWithCopyWarning: \n",
      "A value is trying to be set on a copy of a slice from a DataFrame.\n",
      "Try using .loc[row_indexer,col_indexer] = value instead\n",
      "\n",
      "See the caveats in the documentation: https://pandas.pydata.org/pandas-docs/stable/user_guide/indexing.html#returning-a-view-versus-a-copy\n",
      "  tmp['keyword'] = tmp.msg.progress_apply(lambda x: kw_model.extract_keywords(x, keyphrase_ngram_range=(2,4), use_maxsum = True, top_n = 1))\n"
     ]
    },
    {
     "name": "stdout",
     "output_type": "stream",
     "text": [
      "{i} complete\n"
     ]
    },
    {
     "name": "stderr",
     "output_type": "stream",
     "text": [
      "100%|██████████| 2/2 [00:00<00:00,  6.10it/s]\n",
      "/var/folders/1b/dx8_94fs0q740wx3lfknk6y40000gn/T/ipykernel_42031/3950971282.py:3: SettingWithCopyWarning: \n",
      "A value is trying to be set on a copy of a slice from a DataFrame.\n",
      "Try using .loc[row_indexer,col_indexer] = value instead\n",
      "\n",
      "See the caveats in the documentation: https://pandas.pydata.org/pandas-docs/stable/user_guide/indexing.html#returning-a-view-versus-a-copy\n",
      "  tmp['keyword'] = tmp.msg.progress_apply(lambda x: kw_model.extract_keywords(x, keyphrase_ngram_range=(2,4), use_maxsum = True, top_n = 1))\n"
     ]
    },
    {
     "name": "stdout",
     "output_type": "stream",
     "text": [
      "{i} complete\n"
     ]
    },
    {
     "name": "stderr",
     "output_type": "stream",
     "text": [
      "100%|██████████| 2/2 [00:00<00:00,  2.91it/s]\n",
      "/var/folders/1b/dx8_94fs0q740wx3lfknk6y40000gn/T/ipykernel_42031/3950971282.py:3: SettingWithCopyWarning: \n",
      "A value is trying to be set on a copy of a slice from a DataFrame.\n",
      "Try using .loc[row_indexer,col_indexer] = value instead\n",
      "\n",
      "See the caveats in the documentation: https://pandas.pydata.org/pandas-docs/stable/user_guide/indexing.html#returning-a-view-versus-a-copy\n",
      "  tmp['keyword'] = tmp.msg.progress_apply(lambda x: kw_model.extract_keywords(x, keyphrase_ngram_range=(2,4), use_maxsum = True, top_n = 1))\n"
     ]
    },
    {
     "name": "stdout",
     "output_type": "stream",
     "text": [
      "{i} complete\n"
     ]
    },
    {
     "name": "stderr",
     "output_type": "stream",
     "text": [
      "100%|██████████| 2/2 [00:00<00:00,  3.12it/s]\n",
      "/var/folders/1b/dx8_94fs0q740wx3lfknk6y40000gn/T/ipykernel_42031/3950971282.py:3: SettingWithCopyWarning: \n",
      "A value is trying to be set on a copy of a slice from a DataFrame.\n",
      "Try using .loc[row_indexer,col_indexer] = value instead\n",
      "\n",
      "See the caveats in the documentation: https://pandas.pydata.org/pandas-docs/stable/user_guide/indexing.html#returning-a-view-versus-a-copy\n",
      "  tmp['keyword'] = tmp.msg.progress_apply(lambda x: kw_model.extract_keywords(x, keyphrase_ngram_range=(2,4), use_maxsum = True, top_n = 1))\n"
     ]
    },
    {
     "name": "stdout",
     "output_type": "stream",
     "text": [
      "{i} complete\n"
     ]
    },
    {
     "name": "stderr",
     "output_type": "stream",
     "text": [
      "100%|██████████| 2/2 [00:00<00:00,  3.65it/s]\n",
      "/var/folders/1b/dx8_94fs0q740wx3lfknk6y40000gn/T/ipykernel_42031/3950971282.py:3: SettingWithCopyWarning: \n",
      "A value is trying to be set on a copy of a slice from a DataFrame.\n",
      "Try using .loc[row_indexer,col_indexer] = value instead\n",
      "\n",
      "See the caveats in the documentation: https://pandas.pydata.org/pandas-docs/stable/user_guide/indexing.html#returning-a-view-versus-a-copy\n",
      "  tmp['keyword'] = tmp.msg.progress_apply(lambda x: kw_model.extract_keywords(x, keyphrase_ngram_range=(2,4), use_maxsum = True, top_n = 1))\n"
     ]
    },
    {
     "name": "stdout",
     "output_type": "stream",
     "text": [
      "{i} complete\n"
     ]
    },
    {
     "name": "stderr",
     "output_type": "stream",
     "text": [
      "100%|██████████| 2/2 [00:00<00:00,  3.61it/s]\n",
      "/var/folders/1b/dx8_94fs0q740wx3lfknk6y40000gn/T/ipykernel_42031/3950971282.py:3: SettingWithCopyWarning: \n",
      "A value is trying to be set on a copy of a slice from a DataFrame.\n",
      "Try using .loc[row_indexer,col_indexer] = value instead\n",
      "\n",
      "See the caveats in the documentation: https://pandas.pydata.org/pandas-docs/stable/user_guide/indexing.html#returning-a-view-versus-a-copy\n",
      "  tmp['keyword'] = tmp.msg.progress_apply(lambda x: kw_model.extract_keywords(x, keyphrase_ngram_range=(2,4), use_maxsum = True, top_n = 1))\n"
     ]
    },
    {
     "name": "stdout",
     "output_type": "stream",
     "text": [
      "{i} complete\n"
     ]
    },
    {
     "name": "stderr",
     "output_type": "stream",
     "text": [
      "100%|██████████| 2/2 [00:00<00:00,  3.13it/s]\n",
      "/var/folders/1b/dx8_94fs0q740wx3lfknk6y40000gn/T/ipykernel_42031/3950971282.py:3: SettingWithCopyWarning: \n",
      "A value is trying to be set on a copy of a slice from a DataFrame.\n",
      "Try using .loc[row_indexer,col_indexer] = value instead\n",
      "\n",
      "See the caveats in the documentation: https://pandas.pydata.org/pandas-docs/stable/user_guide/indexing.html#returning-a-view-versus-a-copy\n",
      "  tmp['keyword'] = tmp.msg.progress_apply(lambda x: kw_model.extract_keywords(x, keyphrase_ngram_range=(2,4), use_maxsum = True, top_n = 1))\n"
     ]
    },
    {
     "name": "stdout",
     "output_type": "stream",
     "text": [
      "{i} complete\n"
     ]
    },
    {
     "name": "stderr",
     "output_type": "stream",
     "text": [
      "100%|██████████| 2/2 [00:00<00:00,  3.01it/s]\n",
      "/var/folders/1b/dx8_94fs0q740wx3lfknk6y40000gn/T/ipykernel_42031/3950971282.py:3: SettingWithCopyWarning: \n",
      "A value is trying to be set on a copy of a slice from a DataFrame.\n",
      "Try using .loc[row_indexer,col_indexer] = value instead\n",
      "\n",
      "See the caveats in the documentation: https://pandas.pydata.org/pandas-docs/stable/user_guide/indexing.html#returning-a-view-versus-a-copy\n",
      "  tmp['keyword'] = tmp.msg.progress_apply(lambda x: kw_model.extract_keywords(x, keyphrase_ngram_range=(2,4), use_maxsum = True, top_n = 1))\n"
     ]
    },
    {
     "name": "stdout",
     "output_type": "stream",
     "text": [
      "{i} complete\n"
     ]
    },
    {
     "name": "stderr",
     "output_type": "stream",
     "text": [
      "100%|██████████| 2/2 [00:00<00:00,  3.62it/s]\n",
      "/var/folders/1b/dx8_94fs0q740wx3lfknk6y40000gn/T/ipykernel_42031/3950971282.py:3: SettingWithCopyWarning: \n",
      "A value is trying to be set on a copy of a slice from a DataFrame.\n",
      "Try using .loc[row_indexer,col_indexer] = value instead\n",
      "\n",
      "See the caveats in the documentation: https://pandas.pydata.org/pandas-docs/stable/user_guide/indexing.html#returning-a-view-versus-a-copy\n",
      "  tmp['keyword'] = tmp.msg.progress_apply(lambda x: kw_model.extract_keywords(x, keyphrase_ngram_range=(2,4), use_maxsum = True, top_n = 1))\n"
     ]
    },
    {
     "name": "stdout",
     "output_type": "stream",
     "text": [
      "{i} complete\n"
     ]
    },
    {
     "name": "stderr",
     "output_type": "stream",
     "text": [
      "100%|██████████| 2/2 [00:00<00:00,  5.37it/s]\n",
      "/var/folders/1b/dx8_94fs0q740wx3lfknk6y40000gn/T/ipykernel_42031/3950971282.py:3: SettingWithCopyWarning: \n",
      "A value is trying to be set on a copy of a slice from a DataFrame.\n",
      "Try using .loc[row_indexer,col_indexer] = value instead\n",
      "\n",
      "See the caveats in the documentation: https://pandas.pydata.org/pandas-docs/stable/user_guide/indexing.html#returning-a-view-versus-a-copy\n",
      "  tmp['keyword'] = tmp.msg.progress_apply(lambda x: kw_model.extract_keywords(x, keyphrase_ngram_range=(2,4), use_maxsum = True, top_n = 1))\n"
     ]
    },
    {
     "name": "stdout",
     "output_type": "stream",
     "text": [
      "{i} complete\n"
     ]
    },
    {
     "name": "stderr",
     "output_type": "stream",
     "text": [
      "100%|██████████| 2/2 [00:00<00:00,  2.85it/s]\n",
      "/var/folders/1b/dx8_94fs0q740wx3lfknk6y40000gn/T/ipykernel_42031/3950971282.py:3: SettingWithCopyWarning: \n",
      "A value is trying to be set on a copy of a slice from a DataFrame.\n",
      "Try using .loc[row_indexer,col_indexer] = value instead\n",
      "\n",
      "See the caveats in the documentation: https://pandas.pydata.org/pandas-docs/stable/user_guide/indexing.html#returning-a-view-versus-a-copy\n",
      "  tmp['keyword'] = tmp.msg.progress_apply(lambda x: kw_model.extract_keywords(x, keyphrase_ngram_range=(2,4), use_maxsum = True, top_n = 1))\n"
     ]
    },
    {
     "name": "stdout",
     "output_type": "stream",
     "text": [
      "{i} complete\n"
     ]
    },
    {
     "name": "stderr",
     "output_type": "stream",
     "text": [
      "100%|██████████| 2/2 [00:00<00:00,  3.60it/s]\n",
      "/var/folders/1b/dx8_94fs0q740wx3lfknk6y40000gn/T/ipykernel_42031/3950971282.py:3: SettingWithCopyWarning: \n",
      "A value is trying to be set on a copy of a slice from a DataFrame.\n",
      "Try using .loc[row_indexer,col_indexer] = value instead\n",
      "\n",
      "See the caveats in the documentation: https://pandas.pydata.org/pandas-docs/stable/user_guide/indexing.html#returning-a-view-versus-a-copy\n",
      "  tmp['keyword'] = tmp.msg.progress_apply(lambda x: kw_model.extract_keywords(x, keyphrase_ngram_range=(2,4), use_maxsum = True, top_n = 1))\n"
     ]
    },
    {
     "name": "stdout",
     "output_type": "stream",
     "text": [
      "{i} complete\n"
     ]
    },
    {
     "name": "stderr",
     "output_type": "stream",
     "text": [
      "100%|██████████| 2/2 [00:01<00:00,  1.95it/s]\n",
      "/var/folders/1b/dx8_94fs0q740wx3lfknk6y40000gn/T/ipykernel_42031/3950971282.py:3: SettingWithCopyWarning: \n",
      "A value is trying to be set on a copy of a slice from a DataFrame.\n",
      "Try using .loc[row_indexer,col_indexer] = value instead\n",
      "\n",
      "See the caveats in the documentation: https://pandas.pydata.org/pandas-docs/stable/user_guide/indexing.html#returning-a-view-versus-a-copy\n",
      "  tmp['keyword'] = tmp.msg.progress_apply(lambda x: kw_model.extract_keywords(x, keyphrase_ngram_range=(2,4), use_maxsum = True, top_n = 1))\n"
     ]
    },
    {
     "name": "stdout",
     "output_type": "stream",
     "text": [
      "{i} complete\n"
     ]
    },
    {
     "name": "stderr",
     "output_type": "stream",
     "text": [
      "100%|██████████| 2/2 [00:00<00:00, 10.38it/s]\n",
      "/var/folders/1b/dx8_94fs0q740wx3lfknk6y40000gn/T/ipykernel_42031/3950971282.py:3: SettingWithCopyWarning: \n",
      "A value is trying to be set on a copy of a slice from a DataFrame.\n",
      "Try using .loc[row_indexer,col_indexer] = value instead\n",
      "\n",
      "See the caveats in the documentation: https://pandas.pydata.org/pandas-docs/stable/user_guide/indexing.html#returning-a-view-versus-a-copy\n",
      "  tmp['keyword'] = tmp.msg.progress_apply(lambda x: kw_model.extract_keywords(x, keyphrase_ngram_range=(2,4), use_maxsum = True, top_n = 1))\n"
     ]
    },
    {
     "name": "stdout",
     "output_type": "stream",
     "text": [
      "{i} complete\n"
     ]
    },
    {
     "name": "stderr",
     "output_type": "stream",
     "text": [
      "100%|██████████| 2/2 [00:00<00:00,  3.57it/s]\n",
      "/var/folders/1b/dx8_94fs0q740wx3lfknk6y40000gn/T/ipykernel_42031/3950971282.py:3: SettingWithCopyWarning: \n",
      "A value is trying to be set on a copy of a slice from a DataFrame.\n",
      "Try using .loc[row_indexer,col_indexer] = value instead\n",
      "\n",
      "See the caveats in the documentation: https://pandas.pydata.org/pandas-docs/stable/user_guide/indexing.html#returning-a-view-versus-a-copy\n",
      "  tmp['keyword'] = tmp.msg.progress_apply(lambda x: kw_model.extract_keywords(x, keyphrase_ngram_range=(2,4), use_maxsum = True, top_n = 1))\n"
     ]
    },
    {
     "name": "stdout",
     "output_type": "stream",
     "text": [
      "{i} complete\n"
     ]
    },
    {
     "name": "stderr",
     "output_type": "stream",
     "text": [
      "100%|██████████| 2/2 [00:00<00:00,  3.05it/s]\n",
      "/var/folders/1b/dx8_94fs0q740wx3lfknk6y40000gn/T/ipykernel_42031/3950971282.py:3: SettingWithCopyWarning: \n",
      "A value is trying to be set on a copy of a slice from a DataFrame.\n",
      "Try using .loc[row_indexer,col_indexer] = value instead\n",
      "\n",
      "See the caveats in the documentation: https://pandas.pydata.org/pandas-docs/stable/user_guide/indexing.html#returning-a-view-versus-a-copy\n",
      "  tmp['keyword'] = tmp.msg.progress_apply(lambda x: kw_model.extract_keywords(x, keyphrase_ngram_range=(2,4), use_maxsum = True, top_n = 1))\n"
     ]
    },
    {
     "name": "stdout",
     "output_type": "stream",
     "text": [
      "{i} complete\n"
     ]
    },
    {
     "name": "stderr",
     "output_type": "stream",
     "text": [
      "100%|██████████| 2/2 [00:00<00:00,  2.70it/s]\n",
      "/var/folders/1b/dx8_94fs0q740wx3lfknk6y40000gn/T/ipykernel_42031/3950971282.py:3: SettingWithCopyWarning: \n",
      "A value is trying to be set on a copy of a slice from a DataFrame.\n",
      "Try using .loc[row_indexer,col_indexer] = value instead\n",
      "\n",
      "See the caveats in the documentation: https://pandas.pydata.org/pandas-docs/stable/user_guide/indexing.html#returning-a-view-versus-a-copy\n",
      "  tmp['keyword'] = tmp.msg.progress_apply(lambda x: kw_model.extract_keywords(x, keyphrase_ngram_range=(2,4), use_maxsum = True, top_n = 1))\n"
     ]
    },
    {
     "name": "stdout",
     "output_type": "stream",
     "text": [
      "{i} complete\n"
     ]
    },
    {
     "name": "stderr",
     "output_type": "stream",
     "text": [
      "100%|██████████| 2/2 [00:00<00:00,  2.76it/s]\n",
      "/var/folders/1b/dx8_94fs0q740wx3lfknk6y40000gn/T/ipykernel_42031/3950971282.py:3: SettingWithCopyWarning: \n",
      "A value is trying to be set on a copy of a slice from a DataFrame.\n",
      "Try using .loc[row_indexer,col_indexer] = value instead\n",
      "\n",
      "See the caveats in the documentation: https://pandas.pydata.org/pandas-docs/stable/user_guide/indexing.html#returning-a-view-versus-a-copy\n",
      "  tmp['keyword'] = tmp.msg.progress_apply(lambda x: kw_model.extract_keywords(x, keyphrase_ngram_range=(2,4), use_maxsum = True, top_n = 1))\n"
     ]
    },
    {
     "name": "stdout",
     "output_type": "stream",
     "text": [
      "{i} complete\n"
     ]
    },
    {
     "name": "stderr",
     "output_type": "stream",
     "text": [
      "100%|██████████| 2/2 [00:00<00:00,  2.99it/s]\n",
      "/var/folders/1b/dx8_94fs0q740wx3lfknk6y40000gn/T/ipykernel_42031/3950971282.py:3: SettingWithCopyWarning: \n",
      "A value is trying to be set on a copy of a slice from a DataFrame.\n",
      "Try using .loc[row_indexer,col_indexer] = value instead\n",
      "\n",
      "See the caveats in the documentation: https://pandas.pydata.org/pandas-docs/stable/user_guide/indexing.html#returning-a-view-versus-a-copy\n",
      "  tmp['keyword'] = tmp.msg.progress_apply(lambda x: kw_model.extract_keywords(x, keyphrase_ngram_range=(2,4), use_maxsum = True, top_n = 1))\n"
     ]
    },
    {
     "name": "stdout",
     "output_type": "stream",
     "text": [
      "{i} complete\n"
     ]
    },
    {
     "name": "stderr",
     "output_type": "stream",
     "text": [
      "100%|██████████| 2/2 [00:00<00:00,  2.97it/s]\n",
      "/var/folders/1b/dx8_94fs0q740wx3lfknk6y40000gn/T/ipykernel_42031/3950971282.py:3: SettingWithCopyWarning: \n",
      "A value is trying to be set on a copy of a slice from a DataFrame.\n",
      "Try using .loc[row_indexer,col_indexer] = value instead\n",
      "\n",
      "See the caveats in the documentation: https://pandas.pydata.org/pandas-docs/stable/user_guide/indexing.html#returning-a-view-versus-a-copy\n",
      "  tmp['keyword'] = tmp.msg.progress_apply(lambda x: kw_model.extract_keywords(x, keyphrase_ngram_range=(2,4), use_maxsum = True, top_n = 1))\n"
     ]
    },
    {
     "name": "stdout",
     "output_type": "stream",
     "text": [
      "{i} complete\n"
     ]
    },
    {
     "name": "stderr",
     "output_type": "stream",
     "text": [
      "100%|██████████| 2/2 [00:00<00:00,  3.15it/s]\n",
      "/var/folders/1b/dx8_94fs0q740wx3lfknk6y40000gn/T/ipykernel_42031/3950971282.py:3: SettingWithCopyWarning: \n",
      "A value is trying to be set on a copy of a slice from a DataFrame.\n",
      "Try using .loc[row_indexer,col_indexer] = value instead\n",
      "\n",
      "See the caveats in the documentation: https://pandas.pydata.org/pandas-docs/stable/user_guide/indexing.html#returning-a-view-versus-a-copy\n",
      "  tmp['keyword'] = tmp.msg.progress_apply(lambda x: kw_model.extract_keywords(x, keyphrase_ngram_range=(2,4), use_maxsum = True, top_n = 1))\n"
     ]
    },
    {
     "name": "stdout",
     "output_type": "stream",
     "text": [
      "{i} complete\n"
     ]
    },
    {
     "name": "stderr",
     "output_type": "stream",
     "text": [
      "100%|██████████| 2/2 [00:00<00:00,  4.56it/s]\n",
      "/var/folders/1b/dx8_94fs0q740wx3lfknk6y40000gn/T/ipykernel_42031/3950971282.py:3: SettingWithCopyWarning: \n",
      "A value is trying to be set on a copy of a slice from a DataFrame.\n",
      "Try using .loc[row_indexer,col_indexer] = value instead\n",
      "\n",
      "See the caveats in the documentation: https://pandas.pydata.org/pandas-docs/stable/user_guide/indexing.html#returning-a-view-versus-a-copy\n",
      "  tmp['keyword'] = tmp.msg.progress_apply(lambda x: kw_model.extract_keywords(x, keyphrase_ngram_range=(2,4), use_maxsum = True, top_n = 1))\n"
     ]
    },
    {
     "name": "stdout",
     "output_type": "stream",
     "text": [
      "{i} complete\n"
     ]
    },
    {
     "name": "stderr",
     "output_type": "stream",
     "text": [
      "100%|██████████| 2/2 [00:00<00:00,  3.26it/s]\n",
      "/var/folders/1b/dx8_94fs0q740wx3lfknk6y40000gn/T/ipykernel_42031/3950971282.py:3: SettingWithCopyWarning: \n",
      "A value is trying to be set on a copy of a slice from a DataFrame.\n",
      "Try using .loc[row_indexer,col_indexer] = value instead\n",
      "\n",
      "See the caveats in the documentation: https://pandas.pydata.org/pandas-docs/stable/user_guide/indexing.html#returning-a-view-versus-a-copy\n",
      "  tmp['keyword'] = tmp.msg.progress_apply(lambda x: kw_model.extract_keywords(x, keyphrase_ngram_range=(2,4), use_maxsum = True, top_n = 1))\n"
     ]
    },
    {
     "name": "stdout",
     "output_type": "stream",
     "text": [
      "{i} complete\n"
     ]
    },
    {
     "name": "stderr",
     "output_type": "stream",
     "text": [
      "100%|██████████| 2/2 [00:00<00:00,  3.19it/s]\n",
      "/var/folders/1b/dx8_94fs0q740wx3lfknk6y40000gn/T/ipykernel_42031/3950971282.py:3: SettingWithCopyWarning: \n",
      "A value is trying to be set on a copy of a slice from a DataFrame.\n",
      "Try using .loc[row_indexer,col_indexer] = value instead\n",
      "\n",
      "See the caveats in the documentation: https://pandas.pydata.org/pandas-docs/stable/user_guide/indexing.html#returning-a-view-versus-a-copy\n",
      "  tmp['keyword'] = tmp.msg.progress_apply(lambda x: kw_model.extract_keywords(x, keyphrase_ngram_range=(2,4), use_maxsum = True, top_n = 1))\n"
     ]
    },
    {
     "name": "stdout",
     "output_type": "stream",
     "text": [
      "{i} complete\n"
     ]
    },
    {
     "name": "stderr",
     "output_type": "stream",
     "text": [
      "100%|██████████| 2/2 [00:00<00:00,  3.63it/s]\n",
      "/var/folders/1b/dx8_94fs0q740wx3lfknk6y40000gn/T/ipykernel_42031/3950971282.py:3: SettingWithCopyWarning: \n",
      "A value is trying to be set on a copy of a slice from a DataFrame.\n",
      "Try using .loc[row_indexer,col_indexer] = value instead\n",
      "\n",
      "See the caveats in the documentation: https://pandas.pydata.org/pandas-docs/stable/user_guide/indexing.html#returning-a-view-versus-a-copy\n",
      "  tmp['keyword'] = tmp.msg.progress_apply(lambda x: kw_model.extract_keywords(x, keyphrase_ngram_range=(2,4), use_maxsum = True, top_n = 1))\n"
     ]
    },
    {
     "name": "stdout",
     "output_type": "stream",
     "text": [
      "{i} complete\n"
     ]
    },
    {
     "name": "stderr",
     "output_type": "stream",
     "text": [
      "100%|██████████| 2/2 [00:00<00:00,  2.87it/s]\n",
      "/var/folders/1b/dx8_94fs0q740wx3lfknk6y40000gn/T/ipykernel_42031/3950971282.py:3: SettingWithCopyWarning: \n",
      "A value is trying to be set on a copy of a slice from a DataFrame.\n",
      "Try using .loc[row_indexer,col_indexer] = value instead\n",
      "\n",
      "See the caveats in the documentation: https://pandas.pydata.org/pandas-docs/stable/user_guide/indexing.html#returning-a-view-versus-a-copy\n",
      "  tmp['keyword'] = tmp.msg.progress_apply(lambda x: kw_model.extract_keywords(x, keyphrase_ngram_range=(2,4), use_maxsum = True, top_n = 1))\n"
     ]
    },
    {
     "name": "stdout",
     "output_type": "stream",
     "text": [
      "{i} complete\n"
     ]
    },
    {
     "name": "stderr",
     "output_type": "stream",
     "text": [
      "100%|██████████| 2/2 [00:00<00:00,  3.74it/s]\n",
      "/var/folders/1b/dx8_94fs0q740wx3lfknk6y40000gn/T/ipykernel_42031/3950971282.py:3: SettingWithCopyWarning: \n",
      "A value is trying to be set on a copy of a slice from a DataFrame.\n",
      "Try using .loc[row_indexer,col_indexer] = value instead\n",
      "\n",
      "See the caveats in the documentation: https://pandas.pydata.org/pandas-docs/stable/user_guide/indexing.html#returning-a-view-versus-a-copy\n",
      "  tmp['keyword'] = tmp.msg.progress_apply(lambda x: kw_model.extract_keywords(x, keyphrase_ngram_range=(2,4), use_maxsum = True, top_n = 1))\n"
     ]
    },
    {
     "name": "stdout",
     "output_type": "stream",
     "text": [
      "{i} complete\n"
     ]
    },
    {
     "name": "stderr",
     "output_type": "stream",
     "text": [
      "100%|██████████| 2/2 [00:00<00:00,  3.42it/s]\n",
      "/var/folders/1b/dx8_94fs0q740wx3lfknk6y40000gn/T/ipykernel_42031/3950971282.py:3: SettingWithCopyWarning: \n",
      "A value is trying to be set on a copy of a slice from a DataFrame.\n",
      "Try using .loc[row_indexer,col_indexer] = value instead\n",
      "\n",
      "See the caveats in the documentation: https://pandas.pydata.org/pandas-docs/stable/user_guide/indexing.html#returning-a-view-versus-a-copy\n",
      "  tmp['keyword'] = tmp.msg.progress_apply(lambda x: kw_model.extract_keywords(x, keyphrase_ngram_range=(2,4), use_maxsum = True, top_n = 1))\n"
     ]
    },
    {
     "name": "stdout",
     "output_type": "stream",
     "text": [
      "{i} complete\n"
     ]
    },
    {
     "name": "stderr",
     "output_type": "stream",
     "text": [
      "100%|██████████| 2/2 [00:00<00:00,  3.64it/s]\n",
      "/var/folders/1b/dx8_94fs0q740wx3lfknk6y40000gn/T/ipykernel_42031/3950971282.py:3: SettingWithCopyWarning: \n",
      "A value is trying to be set on a copy of a slice from a DataFrame.\n",
      "Try using .loc[row_indexer,col_indexer] = value instead\n",
      "\n",
      "See the caveats in the documentation: https://pandas.pydata.org/pandas-docs/stable/user_guide/indexing.html#returning-a-view-versus-a-copy\n",
      "  tmp['keyword'] = tmp.msg.progress_apply(lambda x: kw_model.extract_keywords(x, keyphrase_ngram_range=(2,4), use_maxsum = True, top_n = 1))\n"
     ]
    },
    {
     "name": "stdout",
     "output_type": "stream",
     "text": [
      "{i} complete\n"
     ]
    },
    {
     "name": "stderr",
     "output_type": "stream",
     "text": [
      "100%|██████████| 2/2 [00:00<00:00,  2.88it/s]\n",
      "/var/folders/1b/dx8_94fs0q740wx3lfknk6y40000gn/T/ipykernel_42031/3950971282.py:3: SettingWithCopyWarning: \n",
      "A value is trying to be set on a copy of a slice from a DataFrame.\n",
      "Try using .loc[row_indexer,col_indexer] = value instead\n",
      "\n",
      "See the caveats in the documentation: https://pandas.pydata.org/pandas-docs/stable/user_guide/indexing.html#returning-a-view-versus-a-copy\n",
      "  tmp['keyword'] = tmp.msg.progress_apply(lambda x: kw_model.extract_keywords(x, keyphrase_ngram_range=(2,4), use_maxsum = True, top_n = 1))\n"
     ]
    },
    {
     "name": "stdout",
     "output_type": "stream",
     "text": [
      "{i} complete\n"
     ]
    },
    {
     "name": "stderr",
     "output_type": "stream",
     "text": [
      "100%|██████████| 2/2 [00:00<00:00,  4.14it/s]\n",
      "/var/folders/1b/dx8_94fs0q740wx3lfknk6y40000gn/T/ipykernel_42031/3950971282.py:3: SettingWithCopyWarning: \n",
      "A value is trying to be set on a copy of a slice from a DataFrame.\n",
      "Try using .loc[row_indexer,col_indexer] = value instead\n",
      "\n",
      "See the caveats in the documentation: https://pandas.pydata.org/pandas-docs/stable/user_guide/indexing.html#returning-a-view-versus-a-copy\n",
      "  tmp['keyword'] = tmp.msg.progress_apply(lambda x: kw_model.extract_keywords(x, keyphrase_ngram_range=(2,4), use_maxsum = True, top_n = 1))\n"
     ]
    },
    {
     "name": "stdout",
     "output_type": "stream",
     "text": [
      "{i} complete\n"
     ]
    },
    {
     "name": "stderr",
     "output_type": "stream",
     "text": [
      "100%|██████████| 2/2 [00:00<00:00,  3.17it/s]\n",
      "/var/folders/1b/dx8_94fs0q740wx3lfknk6y40000gn/T/ipykernel_42031/3950971282.py:3: SettingWithCopyWarning: \n",
      "A value is trying to be set on a copy of a slice from a DataFrame.\n",
      "Try using .loc[row_indexer,col_indexer] = value instead\n",
      "\n",
      "See the caveats in the documentation: https://pandas.pydata.org/pandas-docs/stable/user_guide/indexing.html#returning-a-view-versus-a-copy\n",
      "  tmp['keyword'] = tmp.msg.progress_apply(lambda x: kw_model.extract_keywords(x, keyphrase_ngram_range=(2,4), use_maxsum = True, top_n = 1))\n"
     ]
    },
    {
     "name": "stdout",
     "output_type": "stream",
     "text": [
      "{i} complete\n"
     ]
    },
    {
     "name": "stderr",
     "output_type": "stream",
     "text": [
      "100%|██████████| 2/2 [00:00<00:00,  3.47it/s]\n",
      "/var/folders/1b/dx8_94fs0q740wx3lfknk6y40000gn/T/ipykernel_42031/3950971282.py:3: SettingWithCopyWarning: \n",
      "A value is trying to be set on a copy of a slice from a DataFrame.\n",
      "Try using .loc[row_indexer,col_indexer] = value instead\n",
      "\n",
      "See the caveats in the documentation: https://pandas.pydata.org/pandas-docs/stable/user_guide/indexing.html#returning-a-view-versus-a-copy\n",
      "  tmp['keyword'] = tmp.msg.progress_apply(lambda x: kw_model.extract_keywords(x, keyphrase_ngram_range=(2,4), use_maxsum = True, top_n = 1))\n"
     ]
    },
    {
     "name": "stdout",
     "output_type": "stream",
     "text": [
      "{i} complete\n"
     ]
    },
    {
     "name": "stderr",
     "output_type": "stream",
     "text": [
      "100%|██████████| 2/2 [00:00<00:00,  2.59it/s]\n",
      "/var/folders/1b/dx8_94fs0q740wx3lfknk6y40000gn/T/ipykernel_42031/3950971282.py:3: SettingWithCopyWarning: \n",
      "A value is trying to be set on a copy of a slice from a DataFrame.\n",
      "Try using .loc[row_indexer,col_indexer] = value instead\n",
      "\n",
      "See the caveats in the documentation: https://pandas.pydata.org/pandas-docs/stable/user_guide/indexing.html#returning-a-view-versus-a-copy\n",
      "  tmp['keyword'] = tmp.msg.progress_apply(lambda x: kw_model.extract_keywords(x, keyphrase_ngram_range=(2,4), use_maxsum = True, top_n = 1))\n"
     ]
    },
    {
     "name": "stdout",
     "output_type": "stream",
     "text": [
      "{i} complete\n"
     ]
    },
    {
     "name": "stderr",
     "output_type": "stream",
     "text": [
      "100%|██████████| 2/2 [00:00<00:00,  2.78it/s]\n",
      "/var/folders/1b/dx8_94fs0q740wx3lfknk6y40000gn/T/ipykernel_42031/3950971282.py:3: SettingWithCopyWarning: \n",
      "A value is trying to be set on a copy of a slice from a DataFrame.\n",
      "Try using .loc[row_indexer,col_indexer] = value instead\n",
      "\n",
      "See the caveats in the documentation: https://pandas.pydata.org/pandas-docs/stable/user_guide/indexing.html#returning-a-view-versus-a-copy\n",
      "  tmp['keyword'] = tmp.msg.progress_apply(lambda x: kw_model.extract_keywords(x, keyphrase_ngram_range=(2,4), use_maxsum = True, top_n = 1))\n"
     ]
    },
    {
     "name": "stdout",
     "output_type": "stream",
     "text": [
      "{i} complete\n"
     ]
    },
    {
     "name": "stderr",
     "output_type": "stream",
     "text": [
      "100%|██████████| 2/2 [00:00<00:00,  2.99it/s]\n",
      "/var/folders/1b/dx8_94fs0q740wx3lfknk6y40000gn/T/ipykernel_42031/3950971282.py:3: SettingWithCopyWarning: \n",
      "A value is trying to be set on a copy of a slice from a DataFrame.\n",
      "Try using .loc[row_indexer,col_indexer] = value instead\n",
      "\n",
      "See the caveats in the documentation: https://pandas.pydata.org/pandas-docs/stable/user_guide/indexing.html#returning-a-view-versus-a-copy\n",
      "  tmp['keyword'] = tmp.msg.progress_apply(lambda x: kw_model.extract_keywords(x, keyphrase_ngram_range=(2,4), use_maxsum = True, top_n = 1))\n"
     ]
    },
    {
     "name": "stdout",
     "output_type": "stream",
     "text": [
      "{i} complete\n"
     ]
    },
    {
     "name": "stderr",
     "output_type": "stream",
     "text": [
      "100%|██████████| 2/2 [00:00<00:00,  2.90it/s]\n",
      "/var/folders/1b/dx8_94fs0q740wx3lfknk6y40000gn/T/ipykernel_42031/3950971282.py:3: SettingWithCopyWarning: \n",
      "A value is trying to be set on a copy of a slice from a DataFrame.\n",
      "Try using .loc[row_indexer,col_indexer] = value instead\n",
      "\n",
      "See the caveats in the documentation: https://pandas.pydata.org/pandas-docs/stable/user_guide/indexing.html#returning-a-view-versus-a-copy\n",
      "  tmp['keyword'] = tmp.msg.progress_apply(lambda x: kw_model.extract_keywords(x, keyphrase_ngram_range=(2,4), use_maxsum = True, top_n = 1))\n"
     ]
    },
    {
     "name": "stdout",
     "output_type": "stream",
     "text": [
      "{i} complete\n"
     ]
    },
    {
     "name": "stderr",
     "output_type": "stream",
     "text": [
      "100%|██████████| 2/2 [00:00<00:00,  7.85it/s]\n",
      "/var/folders/1b/dx8_94fs0q740wx3lfknk6y40000gn/T/ipykernel_42031/3950971282.py:3: SettingWithCopyWarning: \n",
      "A value is trying to be set on a copy of a slice from a DataFrame.\n",
      "Try using .loc[row_indexer,col_indexer] = value instead\n",
      "\n",
      "See the caveats in the documentation: https://pandas.pydata.org/pandas-docs/stable/user_guide/indexing.html#returning-a-view-versus-a-copy\n",
      "  tmp['keyword'] = tmp.msg.progress_apply(lambda x: kw_model.extract_keywords(x, keyphrase_ngram_range=(2,4), use_maxsum = True, top_n = 1))\n"
     ]
    },
    {
     "name": "stdout",
     "output_type": "stream",
     "text": [
      "{i} complete\n"
     ]
    },
    {
     "name": "stderr",
     "output_type": "stream",
     "text": [
      "100%|██████████| 2/2 [00:00<00:00,  3.75it/s]\n",
      "/var/folders/1b/dx8_94fs0q740wx3lfknk6y40000gn/T/ipykernel_42031/3950971282.py:3: SettingWithCopyWarning: \n",
      "A value is trying to be set on a copy of a slice from a DataFrame.\n",
      "Try using .loc[row_indexer,col_indexer] = value instead\n",
      "\n",
      "See the caveats in the documentation: https://pandas.pydata.org/pandas-docs/stable/user_guide/indexing.html#returning-a-view-versus-a-copy\n",
      "  tmp['keyword'] = tmp.msg.progress_apply(lambda x: kw_model.extract_keywords(x, keyphrase_ngram_range=(2,4), use_maxsum = True, top_n = 1))\n"
     ]
    },
    {
     "name": "stdout",
     "output_type": "stream",
     "text": [
      "{i} complete\n"
     ]
    },
    {
     "name": "stderr",
     "output_type": "stream",
     "text": [
      "100%|██████████| 2/2 [00:00<00:00,  2.77it/s]\n",
      "/var/folders/1b/dx8_94fs0q740wx3lfknk6y40000gn/T/ipykernel_42031/3950971282.py:3: SettingWithCopyWarning: \n",
      "A value is trying to be set on a copy of a slice from a DataFrame.\n",
      "Try using .loc[row_indexer,col_indexer] = value instead\n",
      "\n",
      "See the caveats in the documentation: https://pandas.pydata.org/pandas-docs/stable/user_guide/indexing.html#returning-a-view-versus-a-copy\n",
      "  tmp['keyword'] = tmp.msg.progress_apply(lambda x: kw_model.extract_keywords(x, keyphrase_ngram_range=(2,4), use_maxsum = True, top_n = 1))\n"
     ]
    },
    {
     "name": "stdout",
     "output_type": "stream",
     "text": [
      "{i} complete\n"
     ]
    },
    {
     "name": "stderr",
     "output_type": "stream",
     "text": [
      "100%|██████████| 2/2 [00:00<00:00,  2.65it/s]\n",
      "/var/folders/1b/dx8_94fs0q740wx3lfknk6y40000gn/T/ipykernel_42031/3950971282.py:3: SettingWithCopyWarning: \n",
      "A value is trying to be set on a copy of a slice from a DataFrame.\n",
      "Try using .loc[row_indexer,col_indexer] = value instead\n",
      "\n",
      "See the caveats in the documentation: https://pandas.pydata.org/pandas-docs/stable/user_guide/indexing.html#returning-a-view-versus-a-copy\n",
      "  tmp['keyword'] = tmp.msg.progress_apply(lambda x: kw_model.extract_keywords(x, keyphrase_ngram_range=(2,4), use_maxsum = True, top_n = 1))\n"
     ]
    },
    {
     "name": "stdout",
     "output_type": "stream",
     "text": [
      "{i} complete\n"
     ]
    },
    {
     "name": "stderr",
     "output_type": "stream",
     "text": [
      "100%|██████████| 2/2 [00:00<00:00,  3.33it/s]\n",
      "/var/folders/1b/dx8_94fs0q740wx3lfknk6y40000gn/T/ipykernel_42031/3950971282.py:3: SettingWithCopyWarning: \n",
      "A value is trying to be set on a copy of a slice from a DataFrame.\n",
      "Try using .loc[row_indexer,col_indexer] = value instead\n",
      "\n",
      "See the caveats in the documentation: https://pandas.pydata.org/pandas-docs/stable/user_guide/indexing.html#returning-a-view-versus-a-copy\n",
      "  tmp['keyword'] = tmp.msg.progress_apply(lambda x: kw_model.extract_keywords(x, keyphrase_ngram_range=(2,4), use_maxsum = True, top_n = 1))\n"
     ]
    },
    {
     "name": "stdout",
     "output_type": "stream",
     "text": [
      "{i} complete\n"
     ]
    },
    {
     "name": "stderr",
     "output_type": "stream",
     "text": [
      "100%|██████████| 2/2 [00:00<00:00,  2.81it/s]\n",
      "/var/folders/1b/dx8_94fs0q740wx3lfknk6y40000gn/T/ipykernel_42031/3950971282.py:3: SettingWithCopyWarning: \n",
      "A value is trying to be set on a copy of a slice from a DataFrame.\n",
      "Try using .loc[row_indexer,col_indexer] = value instead\n",
      "\n",
      "See the caveats in the documentation: https://pandas.pydata.org/pandas-docs/stable/user_guide/indexing.html#returning-a-view-versus-a-copy\n",
      "  tmp['keyword'] = tmp.msg.progress_apply(lambda x: kw_model.extract_keywords(x, keyphrase_ngram_range=(2,4), use_maxsum = True, top_n = 1))\n"
     ]
    },
    {
     "name": "stdout",
     "output_type": "stream",
     "text": [
      "{i} complete\n"
     ]
    },
    {
     "name": "stderr",
     "output_type": "stream",
     "text": [
      "100%|██████████| 2/2 [00:00<00:00,  3.15it/s]\n",
      "/var/folders/1b/dx8_94fs0q740wx3lfknk6y40000gn/T/ipykernel_42031/3950971282.py:3: SettingWithCopyWarning: \n",
      "A value is trying to be set on a copy of a slice from a DataFrame.\n",
      "Try using .loc[row_indexer,col_indexer] = value instead\n",
      "\n",
      "See the caveats in the documentation: https://pandas.pydata.org/pandas-docs/stable/user_guide/indexing.html#returning-a-view-versus-a-copy\n",
      "  tmp['keyword'] = tmp.msg.progress_apply(lambda x: kw_model.extract_keywords(x, keyphrase_ngram_range=(2,4), use_maxsum = True, top_n = 1))\n"
     ]
    },
    {
     "name": "stdout",
     "output_type": "stream",
     "text": [
      "{i} complete\n"
     ]
    },
    {
     "name": "stderr",
     "output_type": "stream",
     "text": [
      "100%|██████████| 2/2 [00:00<00:00,  2.67it/s]\n",
      "/var/folders/1b/dx8_94fs0q740wx3lfknk6y40000gn/T/ipykernel_42031/3950971282.py:3: SettingWithCopyWarning: \n",
      "A value is trying to be set on a copy of a slice from a DataFrame.\n",
      "Try using .loc[row_indexer,col_indexer] = value instead\n",
      "\n",
      "See the caveats in the documentation: https://pandas.pydata.org/pandas-docs/stable/user_guide/indexing.html#returning-a-view-versus-a-copy\n",
      "  tmp['keyword'] = tmp.msg.progress_apply(lambda x: kw_model.extract_keywords(x, keyphrase_ngram_range=(2,4), use_maxsum = True, top_n = 1))\n"
     ]
    },
    {
     "name": "stdout",
     "output_type": "stream",
     "text": [
      "{i} complete\n"
     ]
    },
    {
     "name": "stderr",
     "output_type": "stream",
     "text": [
      "100%|██████████| 1/1 [00:00<00:00,  1.62it/s]\n",
      "/var/folders/1b/dx8_94fs0q740wx3lfknk6y40000gn/T/ipykernel_42031/3950971282.py:3: SettingWithCopyWarning: \n",
      "A value is trying to be set on a copy of a slice from a DataFrame.\n",
      "Try using .loc[row_indexer,col_indexer] = value instead\n",
      "\n",
      "See the caveats in the documentation: https://pandas.pydata.org/pandas-docs/stable/user_guide/indexing.html#returning-a-view-versus-a-copy\n",
      "  tmp['keyword'] = tmp.msg.progress_apply(lambda x: kw_model.extract_keywords(x, keyphrase_ngram_range=(2,4), use_maxsum = True, top_n = 1))\n"
     ]
    },
    {
     "name": "stdout",
     "output_type": "stream",
     "text": [
      "{i} complete\n"
     ]
    },
    {
     "name": "stderr",
     "output_type": "stream",
     "text": [
      "100%|██████████| 1/1 [00:00<00:00, 12.00it/s]\n",
      "/var/folders/1b/dx8_94fs0q740wx3lfknk6y40000gn/T/ipykernel_42031/3950971282.py:3: SettingWithCopyWarning: \n",
      "A value is trying to be set on a copy of a slice from a DataFrame.\n",
      "Try using .loc[row_indexer,col_indexer] = value instead\n",
      "\n",
      "See the caveats in the documentation: https://pandas.pydata.org/pandas-docs/stable/user_guide/indexing.html#returning-a-view-versus-a-copy\n",
      "  tmp['keyword'] = tmp.msg.progress_apply(lambda x: kw_model.extract_keywords(x, keyphrase_ngram_range=(2,4), use_maxsum = True, top_n = 1))\n"
     ]
    },
    {
     "name": "stdout",
     "output_type": "stream",
     "text": [
      "{i} complete\n"
     ]
    },
    {
     "name": "stderr",
     "output_type": "stream",
     "text": [
      "100%|██████████| 1/1 [00:00<00:00,  3.92it/s]\n",
      "/var/folders/1b/dx8_94fs0q740wx3lfknk6y40000gn/T/ipykernel_42031/3950971282.py:3: SettingWithCopyWarning: \n",
      "A value is trying to be set on a copy of a slice from a DataFrame.\n",
      "Try using .loc[row_indexer,col_indexer] = value instead\n",
      "\n",
      "See the caveats in the documentation: https://pandas.pydata.org/pandas-docs/stable/user_guide/indexing.html#returning-a-view-versus-a-copy\n",
      "  tmp['keyword'] = tmp.msg.progress_apply(lambda x: kw_model.extract_keywords(x, keyphrase_ngram_range=(2,4), use_maxsum = True, top_n = 1))\n"
     ]
    },
    {
     "name": "stdout",
     "output_type": "stream",
     "text": [
      "{i} complete\n"
     ]
    },
    {
     "name": "stderr",
     "output_type": "stream",
     "text": [
      "100%|██████████| 1/1 [00:00<00:00,  3.07it/s]\n",
      "/var/folders/1b/dx8_94fs0q740wx3lfknk6y40000gn/T/ipykernel_42031/3950971282.py:3: SettingWithCopyWarning: \n",
      "A value is trying to be set on a copy of a slice from a DataFrame.\n",
      "Try using .loc[row_indexer,col_indexer] = value instead\n",
      "\n",
      "See the caveats in the documentation: https://pandas.pydata.org/pandas-docs/stable/user_guide/indexing.html#returning-a-view-versus-a-copy\n",
      "  tmp['keyword'] = tmp.msg.progress_apply(lambda x: kw_model.extract_keywords(x, keyphrase_ngram_range=(2,4), use_maxsum = True, top_n = 1))\n"
     ]
    },
    {
     "name": "stdout",
     "output_type": "stream",
     "text": [
      "{i} complete\n"
     ]
    },
    {
     "name": "stderr",
     "output_type": "stream",
     "text": [
      "100%|██████████| 1/1 [00:00<00:00,  2.70it/s]\n",
      "/var/folders/1b/dx8_94fs0q740wx3lfknk6y40000gn/T/ipykernel_42031/3950971282.py:3: SettingWithCopyWarning: \n",
      "A value is trying to be set on a copy of a slice from a DataFrame.\n",
      "Try using .loc[row_indexer,col_indexer] = value instead\n",
      "\n",
      "See the caveats in the documentation: https://pandas.pydata.org/pandas-docs/stable/user_guide/indexing.html#returning-a-view-versus-a-copy\n",
      "  tmp['keyword'] = tmp.msg.progress_apply(lambda x: kw_model.extract_keywords(x, keyphrase_ngram_range=(2,4), use_maxsum = True, top_n = 1))\n"
     ]
    },
    {
     "name": "stdout",
     "output_type": "stream",
     "text": [
      "{i} complete\n"
     ]
    },
    {
     "name": "stderr",
     "output_type": "stream",
     "text": [
      "100%|██████████| 1/1 [00:00<00:00,  1.40it/s]\n",
      "/var/folders/1b/dx8_94fs0q740wx3lfknk6y40000gn/T/ipykernel_42031/3950971282.py:3: SettingWithCopyWarning: \n",
      "A value is trying to be set on a copy of a slice from a DataFrame.\n",
      "Try using .loc[row_indexer,col_indexer] = value instead\n",
      "\n",
      "See the caveats in the documentation: https://pandas.pydata.org/pandas-docs/stable/user_guide/indexing.html#returning-a-view-versus-a-copy\n",
      "  tmp['keyword'] = tmp.msg.progress_apply(lambda x: kw_model.extract_keywords(x, keyphrase_ngram_range=(2,4), use_maxsum = True, top_n = 1))\n"
     ]
    },
    {
     "name": "stdout",
     "output_type": "stream",
     "text": [
      "{i} complete\n"
     ]
    },
    {
     "name": "stderr",
     "output_type": "stream",
     "text": [
      "100%|██████████| 1/1 [00:00<00:00,  3.28it/s]\n",
      "/var/folders/1b/dx8_94fs0q740wx3lfknk6y40000gn/T/ipykernel_42031/3950971282.py:3: SettingWithCopyWarning: \n",
      "A value is trying to be set on a copy of a slice from a DataFrame.\n",
      "Try using .loc[row_indexer,col_indexer] = value instead\n",
      "\n",
      "See the caveats in the documentation: https://pandas.pydata.org/pandas-docs/stable/user_guide/indexing.html#returning-a-view-versus-a-copy\n",
      "  tmp['keyword'] = tmp.msg.progress_apply(lambda x: kw_model.extract_keywords(x, keyphrase_ngram_range=(2,4), use_maxsum = True, top_n = 1))\n"
     ]
    },
    {
     "name": "stdout",
     "output_type": "stream",
     "text": [
      "{i} complete\n"
     ]
    },
    {
     "name": "stderr",
     "output_type": "stream",
     "text": [
      "100%|██████████| 1/1 [00:00<00:00,  7.56it/s]\n",
      "/var/folders/1b/dx8_94fs0q740wx3lfknk6y40000gn/T/ipykernel_42031/3950971282.py:3: SettingWithCopyWarning: \n",
      "A value is trying to be set on a copy of a slice from a DataFrame.\n",
      "Try using .loc[row_indexer,col_indexer] = value instead\n",
      "\n",
      "See the caveats in the documentation: https://pandas.pydata.org/pandas-docs/stable/user_guide/indexing.html#returning-a-view-versus-a-copy\n",
      "  tmp['keyword'] = tmp.msg.progress_apply(lambda x: kw_model.extract_keywords(x, keyphrase_ngram_range=(2,4), use_maxsum = True, top_n = 1))\n"
     ]
    },
    {
     "name": "stdout",
     "output_type": "stream",
     "text": [
      "{i} complete\n"
     ]
    },
    {
     "name": "stderr",
     "output_type": "stream",
     "text": [
      "100%|██████████| 1/1 [00:00<00:00,  3.70it/s]\n",
      "/var/folders/1b/dx8_94fs0q740wx3lfknk6y40000gn/T/ipykernel_42031/3950971282.py:3: SettingWithCopyWarning: \n",
      "A value is trying to be set on a copy of a slice from a DataFrame.\n",
      "Try using .loc[row_indexer,col_indexer] = value instead\n",
      "\n",
      "See the caveats in the documentation: https://pandas.pydata.org/pandas-docs/stable/user_guide/indexing.html#returning-a-view-versus-a-copy\n",
      "  tmp['keyword'] = tmp.msg.progress_apply(lambda x: kw_model.extract_keywords(x, keyphrase_ngram_range=(2,4), use_maxsum = True, top_n = 1))\n"
     ]
    },
    {
     "name": "stdout",
     "output_type": "stream",
     "text": [
      "{i} complete\n"
     ]
    },
    {
     "name": "stderr",
     "output_type": "stream",
     "text": [
      "100%|██████████| 1/1 [00:00<00:00,  3.31it/s]\n",
      "/var/folders/1b/dx8_94fs0q740wx3lfknk6y40000gn/T/ipykernel_42031/3950971282.py:3: SettingWithCopyWarning: \n",
      "A value is trying to be set on a copy of a slice from a DataFrame.\n",
      "Try using .loc[row_indexer,col_indexer] = value instead\n",
      "\n",
      "See the caveats in the documentation: https://pandas.pydata.org/pandas-docs/stable/user_guide/indexing.html#returning-a-view-versus-a-copy\n",
      "  tmp['keyword'] = tmp.msg.progress_apply(lambda x: kw_model.extract_keywords(x, keyphrase_ngram_range=(2,4), use_maxsum = True, top_n = 1))\n"
     ]
    },
    {
     "name": "stdout",
     "output_type": "stream",
     "text": [
      "{i} complete\n"
     ]
    },
    {
     "name": "stderr",
     "output_type": "stream",
     "text": [
      "100%|██████████| 1/1 [00:00<00:00,  2.71it/s]\n",
      "/var/folders/1b/dx8_94fs0q740wx3lfknk6y40000gn/T/ipykernel_42031/3950971282.py:3: SettingWithCopyWarning: \n",
      "A value is trying to be set on a copy of a slice from a DataFrame.\n",
      "Try using .loc[row_indexer,col_indexer] = value instead\n",
      "\n",
      "See the caveats in the documentation: https://pandas.pydata.org/pandas-docs/stable/user_guide/indexing.html#returning-a-view-versus-a-copy\n",
      "  tmp['keyword'] = tmp.msg.progress_apply(lambda x: kw_model.extract_keywords(x, keyphrase_ngram_range=(2,4), use_maxsum = True, top_n = 1))\n"
     ]
    },
    {
     "name": "stdout",
     "output_type": "stream",
     "text": [
      "{i} complete\n"
     ]
    },
    {
     "name": "stderr",
     "output_type": "stream",
     "text": [
      "100%|██████████| 1/1 [00:00<00:00,  4.37it/s]\n",
      "/var/folders/1b/dx8_94fs0q740wx3lfknk6y40000gn/T/ipykernel_42031/3950971282.py:3: SettingWithCopyWarning: \n",
      "A value is trying to be set on a copy of a slice from a DataFrame.\n",
      "Try using .loc[row_indexer,col_indexer] = value instead\n",
      "\n",
      "See the caveats in the documentation: https://pandas.pydata.org/pandas-docs/stable/user_guide/indexing.html#returning-a-view-versus-a-copy\n",
      "  tmp['keyword'] = tmp.msg.progress_apply(lambda x: kw_model.extract_keywords(x, keyphrase_ngram_range=(2,4), use_maxsum = True, top_n = 1))\n"
     ]
    },
    {
     "name": "stdout",
     "output_type": "stream",
     "text": [
      "{i} complete\n"
     ]
    },
    {
     "name": "stderr",
     "output_type": "stream",
     "text": [
      "100%|██████████| 1/1 [00:00<00:00,  3.08it/s]\n",
      "/var/folders/1b/dx8_94fs0q740wx3lfknk6y40000gn/T/ipykernel_42031/3950971282.py:3: SettingWithCopyWarning: \n",
      "A value is trying to be set on a copy of a slice from a DataFrame.\n",
      "Try using .loc[row_indexer,col_indexer] = value instead\n",
      "\n",
      "See the caveats in the documentation: https://pandas.pydata.org/pandas-docs/stable/user_guide/indexing.html#returning-a-view-versus-a-copy\n",
      "  tmp['keyword'] = tmp.msg.progress_apply(lambda x: kw_model.extract_keywords(x, keyphrase_ngram_range=(2,4), use_maxsum = True, top_n = 1))\n"
     ]
    },
    {
     "name": "stdout",
     "output_type": "stream",
     "text": [
      "{i} complete\n"
     ]
    },
    {
     "name": "stderr",
     "output_type": "stream",
     "text": [
      "100%|██████████| 1/1 [00:00<00:00,  3.10it/s]\n",
      "/var/folders/1b/dx8_94fs0q740wx3lfknk6y40000gn/T/ipykernel_42031/3950971282.py:3: SettingWithCopyWarning: \n",
      "A value is trying to be set on a copy of a slice from a DataFrame.\n",
      "Try using .loc[row_indexer,col_indexer] = value instead\n",
      "\n",
      "See the caveats in the documentation: https://pandas.pydata.org/pandas-docs/stable/user_guide/indexing.html#returning-a-view-versus-a-copy\n",
      "  tmp['keyword'] = tmp.msg.progress_apply(lambda x: kw_model.extract_keywords(x, keyphrase_ngram_range=(2,4), use_maxsum = True, top_n = 1))\n"
     ]
    },
    {
     "name": "stdout",
     "output_type": "stream",
     "text": [
      "{i} complete\n"
     ]
    },
    {
     "name": "stderr",
     "output_type": "stream",
     "text": [
      "100%|██████████| 1/1 [00:00<00:00,  3.76it/s]\n",
      "/var/folders/1b/dx8_94fs0q740wx3lfknk6y40000gn/T/ipykernel_42031/3950971282.py:3: SettingWithCopyWarning: \n",
      "A value is trying to be set on a copy of a slice from a DataFrame.\n",
      "Try using .loc[row_indexer,col_indexer] = value instead\n",
      "\n",
      "See the caveats in the documentation: https://pandas.pydata.org/pandas-docs/stable/user_guide/indexing.html#returning-a-view-versus-a-copy\n",
      "  tmp['keyword'] = tmp.msg.progress_apply(lambda x: kw_model.extract_keywords(x, keyphrase_ngram_range=(2,4), use_maxsum = True, top_n = 1))\n"
     ]
    },
    {
     "name": "stdout",
     "output_type": "stream",
     "text": [
      "{i} complete\n"
     ]
    },
    {
     "name": "stderr",
     "output_type": "stream",
     "text": [
      "100%|██████████| 1/1 [00:00<00:00,  3.80it/s]\n",
      "/var/folders/1b/dx8_94fs0q740wx3lfknk6y40000gn/T/ipykernel_42031/3950971282.py:3: SettingWithCopyWarning: \n",
      "A value is trying to be set on a copy of a slice from a DataFrame.\n",
      "Try using .loc[row_indexer,col_indexer] = value instead\n",
      "\n",
      "See the caveats in the documentation: https://pandas.pydata.org/pandas-docs/stable/user_guide/indexing.html#returning-a-view-versus-a-copy\n",
      "  tmp['keyword'] = tmp.msg.progress_apply(lambda x: kw_model.extract_keywords(x, keyphrase_ngram_range=(2,4), use_maxsum = True, top_n = 1))\n"
     ]
    },
    {
     "name": "stdout",
     "output_type": "stream",
     "text": [
      "{i} complete\n"
     ]
    },
    {
     "name": "stderr",
     "output_type": "stream",
     "text": [
      "100%|██████████| 1/1 [00:00<00:00,  3.46it/s]\n",
      "/var/folders/1b/dx8_94fs0q740wx3lfknk6y40000gn/T/ipykernel_42031/3950971282.py:3: SettingWithCopyWarning: \n",
      "A value is trying to be set on a copy of a slice from a DataFrame.\n",
      "Try using .loc[row_indexer,col_indexer] = value instead\n",
      "\n",
      "See the caveats in the documentation: https://pandas.pydata.org/pandas-docs/stable/user_guide/indexing.html#returning-a-view-versus-a-copy\n",
      "  tmp['keyword'] = tmp.msg.progress_apply(lambda x: kw_model.extract_keywords(x, keyphrase_ngram_range=(2,4), use_maxsum = True, top_n = 1))\n"
     ]
    },
    {
     "name": "stdout",
     "output_type": "stream",
     "text": [
      "{i} complete\n"
     ]
    },
    {
     "name": "stderr",
     "output_type": "stream",
     "text": [
      "100%|██████████| 1/1 [00:00<00:00,  3.87it/s]\n",
      "/var/folders/1b/dx8_94fs0q740wx3lfknk6y40000gn/T/ipykernel_42031/3950971282.py:3: SettingWithCopyWarning: \n",
      "A value is trying to be set on a copy of a slice from a DataFrame.\n",
      "Try using .loc[row_indexer,col_indexer] = value instead\n",
      "\n",
      "See the caveats in the documentation: https://pandas.pydata.org/pandas-docs/stable/user_guide/indexing.html#returning-a-view-versus-a-copy\n",
      "  tmp['keyword'] = tmp.msg.progress_apply(lambda x: kw_model.extract_keywords(x, keyphrase_ngram_range=(2,4), use_maxsum = True, top_n = 1))\n"
     ]
    },
    {
     "name": "stdout",
     "output_type": "stream",
     "text": [
      "{i} complete\n"
     ]
    },
    {
     "name": "stderr",
     "output_type": "stream",
     "text": [
      "100%|██████████| 1/1 [00:00<00:00,  2.63it/s]\n",
      "/var/folders/1b/dx8_94fs0q740wx3lfknk6y40000gn/T/ipykernel_42031/3950971282.py:3: SettingWithCopyWarning: \n",
      "A value is trying to be set on a copy of a slice from a DataFrame.\n",
      "Try using .loc[row_indexer,col_indexer] = value instead\n",
      "\n",
      "See the caveats in the documentation: https://pandas.pydata.org/pandas-docs/stable/user_guide/indexing.html#returning-a-view-versus-a-copy\n",
      "  tmp['keyword'] = tmp.msg.progress_apply(lambda x: kw_model.extract_keywords(x, keyphrase_ngram_range=(2,4), use_maxsum = True, top_n = 1))\n"
     ]
    },
    {
     "name": "stdout",
     "output_type": "stream",
     "text": [
      "{i} complete\n"
     ]
    },
    {
     "name": "stderr",
     "output_type": "stream",
     "text": [
      "100%|██████████| 1/1 [00:00<00:00,  5.06it/s]\n",
      "/var/folders/1b/dx8_94fs0q740wx3lfknk6y40000gn/T/ipykernel_42031/3950971282.py:3: SettingWithCopyWarning: \n",
      "A value is trying to be set on a copy of a slice from a DataFrame.\n",
      "Try using .loc[row_indexer,col_indexer] = value instead\n",
      "\n",
      "See the caveats in the documentation: https://pandas.pydata.org/pandas-docs/stable/user_guide/indexing.html#returning-a-view-versus-a-copy\n",
      "  tmp['keyword'] = tmp.msg.progress_apply(lambda x: kw_model.extract_keywords(x, keyphrase_ngram_range=(2,4), use_maxsum = True, top_n = 1))\n"
     ]
    },
    {
     "name": "stdout",
     "output_type": "stream",
     "text": [
      "{i} complete\n"
     ]
    },
    {
     "name": "stderr",
     "output_type": "stream",
     "text": [
      "100%|██████████| 1/1 [00:00<00:00,  2.15it/s]\n",
      "/var/folders/1b/dx8_94fs0q740wx3lfknk6y40000gn/T/ipykernel_42031/3950971282.py:3: SettingWithCopyWarning: \n",
      "A value is trying to be set on a copy of a slice from a DataFrame.\n",
      "Try using .loc[row_indexer,col_indexer] = value instead\n",
      "\n",
      "See the caveats in the documentation: https://pandas.pydata.org/pandas-docs/stable/user_guide/indexing.html#returning-a-view-versus-a-copy\n",
      "  tmp['keyword'] = tmp.msg.progress_apply(lambda x: kw_model.extract_keywords(x, keyphrase_ngram_range=(2,4), use_maxsum = True, top_n = 1))\n"
     ]
    },
    {
     "name": "stdout",
     "output_type": "stream",
     "text": [
      "{i} complete\n"
     ]
    },
    {
     "name": "stderr",
     "output_type": "stream",
     "text": [
      "100%|██████████| 1/1 [00:00<00:00,  3.56it/s]\n",
      "/var/folders/1b/dx8_94fs0q740wx3lfknk6y40000gn/T/ipykernel_42031/3950971282.py:3: SettingWithCopyWarning: \n",
      "A value is trying to be set on a copy of a slice from a DataFrame.\n",
      "Try using .loc[row_indexer,col_indexer] = value instead\n",
      "\n",
      "See the caveats in the documentation: https://pandas.pydata.org/pandas-docs/stable/user_guide/indexing.html#returning-a-view-versus-a-copy\n",
      "  tmp['keyword'] = tmp.msg.progress_apply(lambda x: kw_model.extract_keywords(x, keyphrase_ngram_range=(2,4), use_maxsum = True, top_n = 1))\n"
     ]
    },
    {
     "name": "stdout",
     "output_type": "stream",
     "text": [
      "{i} complete\n"
     ]
    },
    {
     "name": "stderr",
     "output_type": "stream",
     "text": [
      "100%|██████████| 1/1 [00:00<00:00,  3.16it/s]\n",
      "/var/folders/1b/dx8_94fs0q740wx3lfknk6y40000gn/T/ipykernel_42031/3950971282.py:3: SettingWithCopyWarning: \n",
      "A value is trying to be set on a copy of a slice from a DataFrame.\n",
      "Try using .loc[row_indexer,col_indexer] = value instead\n",
      "\n",
      "See the caveats in the documentation: https://pandas.pydata.org/pandas-docs/stable/user_guide/indexing.html#returning-a-view-versus-a-copy\n",
      "  tmp['keyword'] = tmp.msg.progress_apply(lambda x: kw_model.extract_keywords(x, keyphrase_ngram_range=(2,4), use_maxsum = True, top_n = 1))\n"
     ]
    },
    {
     "name": "stdout",
     "output_type": "stream",
     "text": [
      "{i} complete\n"
     ]
    },
    {
     "name": "stderr",
     "output_type": "stream",
     "text": [
      "100%|██████████| 1/1 [00:00<00:00,  3.51it/s]\n",
      "/var/folders/1b/dx8_94fs0q740wx3lfknk6y40000gn/T/ipykernel_42031/3950971282.py:3: SettingWithCopyWarning: \n",
      "A value is trying to be set on a copy of a slice from a DataFrame.\n",
      "Try using .loc[row_indexer,col_indexer] = value instead\n",
      "\n",
      "See the caveats in the documentation: https://pandas.pydata.org/pandas-docs/stable/user_guide/indexing.html#returning-a-view-versus-a-copy\n",
      "  tmp['keyword'] = tmp.msg.progress_apply(lambda x: kw_model.extract_keywords(x, keyphrase_ngram_range=(2,4), use_maxsum = True, top_n = 1))\n"
     ]
    },
    {
     "name": "stdout",
     "output_type": "stream",
     "text": [
      "{i} complete\n"
     ]
    },
    {
     "name": "stderr",
     "output_type": "stream",
     "text": [
      "100%|██████████| 1/1 [00:00<00:00,  3.07it/s]\n",
      "/var/folders/1b/dx8_94fs0q740wx3lfknk6y40000gn/T/ipykernel_42031/3950971282.py:3: SettingWithCopyWarning: \n",
      "A value is trying to be set on a copy of a slice from a DataFrame.\n",
      "Try using .loc[row_indexer,col_indexer] = value instead\n",
      "\n",
      "See the caveats in the documentation: https://pandas.pydata.org/pandas-docs/stable/user_guide/indexing.html#returning-a-view-versus-a-copy\n",
      "  tmp['keyword'] = tmp.msg.progress_apply(lambda x: kw_model.extract_keywords(x, keyphrase_ngram_range=(2,4), use_maxsum = True, top_n = 1))\n"
     ]
    },
    {
     "name": "stdout",
     "output_type": "stream",
     "text": [
      "{i} complete\n"
     ]
    },
    {
     "name": "stderr",
     "output_type": "stream",
     "text": [
      "100%|██████████| 1/1 [00:00<00:00,  5.45it/s]\n",
      "/var/folders/1b/dx8_94fs0q740wx3lfknk6y40000gn/T/ipykernel_42031/3950971282.py:3: SettingWithCopyWarning: \n",
      "A value is trying to be set on a copy of a slice from a DataFrame.\n",
      "Try using .loc[row_indexer,col_indexer] = value instead\n",
      "\n",
      "See the caveats in the documentation: https://pandas.pydata.org/pandas-docs/stable/user_guide/indexing.html#returning-a-view-versus-a-copy\n",
      "  tmp['keyword'] = tmp.msg.progress_apply(lambda x: kw_model.extract_keywords(x, keyphrase_ngram_range=(2,4), use_maxsum = True, top_n = 1))\n"
     ]
    },
    {
     "name": "stdout",
     "output_type": "stream",
     "text": [
      "{i} complete\n"
     ]
    },
    {
     "name": "stderr",
     "output_type": "stream",
     "text": [
      "100%|██████████| 1/1 [00:00<00:00,  6.95it/s]\n",
      "/var/folders/1b/dx8_94fs0q740wx3lfknk6y40000gn/T/ipykernel_42031/3950971282.py:3: SettingWithCopyWarning: \n",
      "A value is trying to be set on a copy of a slice from a DataFrame.\n",
      "Try using .loc[row_indexer,col_indexer] = value instead\n",
      "\n",
      "See the caveats in the documentation: https://pandas.pydata.org/pandas-docs/stable/user_guide/indexing.html#returning-a-view-versus-a-copy\n",
      "  tmp['keyword'] = tmp.msg.progress_apply(lambda x: kw_model.extract_keywords(x, keyphrase_ngram_range=(2,4), use_maxsum = True, top_n = 1))\n"
     ]
    },
    {
     "name": "stdout",
     "output_type": "stream",
     "text": [
      "{i} complete\n"
     ]
    },
    {
     "name": "stderr",
     "output_type": "stream",
     "text": [
      "100%|██████████| 1/1 [00:00<00:00,  2.68it/s]\n",
      "/var/folders/1b/dx8_94fs0q740wx3lfknk6y40000gn/T/ipykernel_42031/3950971282.py:3: SettingWithCopyWarning: \n",
      "A value is trying to be set on a copy of a slice from a DataFrame.\n",
      "Try using .loc[row_indexer,col_indexer] = value instead\n",
      "\n",
      "See the caveats in the documentation: https://pandas.pydata.org/pandas-docs/stable/user_guide/indexing.html#returning-a-view-versus-a-copy\n",
      "  tmp['keyword'] = tmp.msg.progress_apply(lambda x: kw_model.extract_keywords(x, keyphrase_ngram_range=(2,4), use_maxsum = True, top_n = 1))\n"
     ]
    },
    {
     "name": "stdout",
     "output_type": "stream",
     "text": [
      "{i} complete\n"
     ]
    },
    {
     "name": "stderr",
     "output_type": "stream",
     "text": [
      "100%|██████████| 1/1 [00:00<00:00,  3.04it/s]\n",
      "/var/folders/1b/dx8_94fs0q740wx3lfknk6y40000gn/T/ipykernel_42031/3950971282.py:3: SettingWithCopyWarning: \n",
      "A value is trying to be set on a copy of a slice from a DataFrame.\n",
      "Try using .loc[row_indexer,col_indexer] = value instead\n",
      "\n",
      "See the caveats in the documentation: https://pandas.pydata.org/pandas-docs/stable/user_guide/indexing.html#returning-a-view-versus-a-copy\n",
      "  tmp['keyword'] = tmp.msg.progress_apply(lambda x: kw_model.extract_keywords(x, keyphrase_ngram_range=(2,4), use_maxsum = True, top_n = 1))\n"
     ]
    },
    {
     "name": "stdout",
     "output_type": "stream",
     "text": [
      "{i} complete\n"
     ]
    },
    {
     "name": "stderr",
     "output_type": "stream",
     "text": [
      "100%|██████████| 1/1 [00:00<00:00,  2.89it/s]\n",
      "/var/folders/1b/dx8_94fs0q740wx3lfknk6y40000gn/T/ipykernel_42031/3950971282.py:3: SettingWithCopyWarning: \n",
      "A value is trying to be set on a copy of a slice from a DataFrame.\n",
      "Try using .loc[row_indexer,col_indexer] = value instead\n",
      "\n",
      "See the caveats in the documentation: https://pandas.pydata.org/pandas-docs/stable/user_guide/indexing.html#returning-a-view-versus-a-copy\n",
      "  tmp['keyword'] = tmp.msg.progress_apply(lambda x: kw_model.extract_keywords(x, keyphrase_ngram_range=(2,4), use_maxsum = True, top_n = 1))\n"
     ]
    },
    {
     "name": "stdout",
     "output_type": "stream",
     "text": [
      "{i} complete\n"
     ]
    },
    {
     "name": "stderr",
     "output_type": "stream",
     "text": [
      "100%|██████████| 1/1 [00:00<00:00,  3.30it/s]\n",
      "/var/folders/1b/dx8_94fs0q740wx3lfknk6y40000gn/T/ipykernel_42031/3950971282.py:3: SettingWithCopyWarning: \n",
      "A value is trying to be set on a copy of a slice from a DataFrame.\n",
      "Try using .loc[row_indexer,col_indexer] = value instead\n",
      "\n",
      "See the caveats in the documentation: https://pandas.pydata.org/pandas-docs/stable/user_guide/indexing.html#returning-a-view-versus-a-copy\n",
      "  tmp['keyword'] = tmp.msg.progress_apply(lambda x: kw_model.extract_keywords(x, keyphrase_ngram_range=(2,4), use_maxsum = True, top_n = 1))\n"
     ]
    },
    {
     "name": "stdout",
     "output_type": "stream",
     "text": [
      "{i} complete\n"
     ]
    },
    {
     "name": "stderr",
     "output_type": "stream",
     "text": [
      "100%|██████████| 1/1 [00:00<00:00,  3.32it/s]\n",
      "/var/folders/1b/dx8_94fs0q740wx3lfknk6y40000gn/T/ipykernel_42031/3950971282.py:3: SettingWithCopyWarning: \n",
      "A value is trying to be set on a copy of a slice from a DataFrame.\n",
      "Try using .loc[row_indexer,col_indexer] = value instead\n",
      "\n",
      "See the caveats in the documentation: https://pandas.pydata.org/pandas-docs/stable/user_guide/indexing.html#returning-a-view-versus-a-copy\n",
      "  tmp['keyword'] = tmp.msg.progress_apply(lambda x: kw_model.extract_keywords(x, keyphrase_ngram_range=(2,4), use_maxsum = True, top_n = 1))\n"
     ]
    },
    {
     "name": "stdout",
     "output_type": "stream",
     "text": [
      "{i} complete\n"
     ]
    },
    {
     "name": "stderr",
     "output_type": "stream",
     "text": [
      "100%|██████████| 1/1 [00:00<00:00,  1.59it/s]\n",
      "/var/folders/1b/dx8_94fs0q740wx3lfknk6y40000gn/T/ipykernel_42031/3950971282.py:3: SettingWithCopyWarning: \n",
      "A value is trying to be set on a copy of a slice from a DataFrame.\n",
      "Try using .loc[row_indexer,col_indexer] = value instead\n",
      "\n",
      "See the caveats in the documentation: https://pandas.pydata.org/pandas-docs/stable/user_guide/indexing.html#returning-a-view-versus-a-copy\n",
      "  tmp['keyword'] = tmp.msg.progress_apply(lambda x: kw_model.extract_keywords(x, keyphrase_ngram_range=(2,4), use_maxsum = True, top_n = 1))\n"
     ]
    },
    {
     "name": "stdout",
     "output_type": "stream",
     "text": [
      "{i} complete\n"
     ]
    },
    {
     "name": "stderr",
     "output_type": "stream",
     "text": [
      "100%|██████████| 1/1 [00:00<00:00,  3.71it/s]\n",
      "/var/folders/1b/dx8_94fs0q740wx3lfknk6y40000gn/T/ipykernel_42031/3950971282.py:3: SettingWithCopyWarning: \n",
      "A value is trying to be set on a copy of a slice from a DataFrame.\n",
      "Try using .loc[row_indexer,col_indexer] = value instead\n",
      "\n",
      "See the caveats in the documentation: https://pandas.pydata.org/pandas-docs/stable/user_guide/indexing.html#returning-a-view-versus-a-copy\n",
      "  tmp['keyword'] = tmp.msg.progress_apply(lambda x: kw_model.extract_keywords(x, keyphrase_ngram_range=(2,4), use_maxsum = True, top_n = 1))\n"
     ]
    },
    {
     "name": "stdout",
     "output_type": "stream",
     "text": [
      "{i} complete\n"
     ]
    },
    {
     "name": "stderr",
     "output_type": "stream",
     "text": [
      "100%|██████████| 1/1 [00:00<00:00,  4.34it/s]\n",
      "/var/folders/1b/dx8_94fs0q740wx3lfknk6y40000gn/T/ipykernel_42031/3950971282.py:3: SettingWithCopyWarning: \n",
      "A value is trying to be set on a copy of a slice from a DataFrame.\n",
      "Try using .loc[row_indexer,col_indexer] = value instead\n",
      "\n",
      "See the caveats in the documentation: https://pandas.pydata.org/pandas-docs/stable/user_guide/indexing.html#returning-a-view-versus-a-copy\n",
      "  tmp['keyword'] = tmp.msg.progress_apply(lambda x: kw_model.extract_keywords(x, keyphrase_ngram_range=(2,4), use_maxsum = True, top_n = 1))\n"
     ]
    },
    {
     "name": "stdout",
     "output_type": "stream",
     "text": [
      "{i} complete\n"
     ]
    },
    {
     "name": "stderr",
     "output_type": "stream",
     "text": [
      "100%|██████████| 1/1 [00:00<00:00,  5.64it/s]\n",
      "/var/folders/1b/dx8_94fs0q740wx3lfknk6y40000gn/T/ipykernel_42031/3950971282.py:3: SettingWithCopyWarning: \n",
      "A value is trying to be set on a copy of a slice from a DataFrame.\n",
      "Try using .loc[row_indexer,col_indexer] = value instead\n",
      "\n",
      "See the caveats in the documentation: https://pandas.pydata.org/pandas-docs/stable/user_guide/indexing.html#returning-a-view-versus-a-copy\n",
      "  tmp['keyword'] = tmp.msg.progress_apply(lambda x: kw_model.extract_keywords(x, keyphrase_ngram_range=(2,4), use_maxsum = True, top_n = 1))\n"
     ]
    },
    {
     "name": "stdout",
     "output_type": "stream",
     "text": [
      "{i} complete\n"
     ]
    },
    {
     "name": "stderr",
     "output_type": "stream",
     "text": [
      "100%|██████████| 1/1 [00:00<00:00,  1.64it/s]\n",
      "/var/folders/1b/dx8_94fs0q740wx3lfknk6y40000gn/T/ipykernel_42031/3950971282.py:3: SettingWithCopyWarning: \n",
      "A value is trying to be set on a copy of a slice from a DataFrame.\n",
      "Try using .loc[row_indexer,col_indexer] = value instead\n",
      "\n",
      "See the caveats in the documentation: https://pandas.pydata.org/pandas-docs/stable/user_guide/indexing.html#returning-a-view-versus-a-copy\n",
      "  tmp['keyword'] = tmp.msg.progress_apply(lambda x: kw_model.extract_keywords(x, keyphrase_ngram_range=(2,4), use_maxsum = True, top_n = 1))\n"
     ]
    },
    {
     "name": "stdout",
     "output_type": "stream",
     "text": [
      "{i} complete\n"
     ]
    },
    {
     "name": "stderr",
     "output_type": "stream",
     "text": [
      "100%|██████████| 1/1 [00:00<00:00,  3.19it/s]\n",
      "/var/folders/1b/dx8_94fs0q740wx3lfknk6y40000gn/T/ipykernel_42031/3950971282.py:3: SettingWithCopyWarning: \n",
      "A value is trying to be set on a copy of a slice from a DataFrame.\n",
      "Try using .loc[row_indexer,col_indexer] = value instead\n",
      "\n",
      "See the caveats in the documentation: https://pandas.pydata.org/pandas-docs/stable/user_guide/indexing.html#returning-a-view-versus-a-copy\n",
      "  tmp['keyword'] = tmp.msg.progress_apply(lambda x: kw_model.extract_keywords(x, keyphrase_ngram_range=(2,4), use_maxsum = True, top_n = 1))\n"
     ]
    },
    {
     "name": "stdout",
     "output_type": "stream",
     "text": [
      "{i} complete\n"
     ]
    },
    {
     "name": "stderr",
     "output_type": "stream",
     "text": [
      "100%|██████████| 1/1 [00:00<00:00,  4.05it/s]\n",
      "/var/folders/1b/dx8_94fs0q740wx3lfknk6y40000gn/T/ipykernel_42031/3950971282.py:3: SettingWithCopyWarning: \n",
      "A value is trying to be set on a copy of a slice from a DataFrame.\n",
      "Try using .loc[row_indexer,col_indexer] = value instead\n",
      "\n",
      "See the caveats in the documentation: https://pandas.pydata.org/pandas-docs/stable/user_guide/indexing.html#returning-a-view-versus-a-copy\n",
      "  tmp['keyword'] = tmp.msg.progress_apply(lambda x: kw_model.extract_keywords(x, keyphrase_ngram_range=(2,4), use_maxsum = True, top_n = 1))\n"
     ]
    },
    {
     "name": "stdout",
     "output_type": "stream",
     "text": [
      "{i} complete\n"
     ]
    },
    {
     "name": "stderr",
     "output_type": "stream",
     "text": [
      "100%|██████████| 1/1 [00:00<00:00,  3.35it/s]\n",
      "/var/folders/1b/dx8_94fs0q740wx3lfknk6y40000gn/T/ipykernel_42031/3950971282.py:3: SettingWithCopyWarning: \n",
      "A value is trying to be set on a copy of a slice from a DataFrame.\n",
      "Try using .loc[row_indexer,col_indexer] = value instead\n",
      "\n",
      "See the caveats in the documentation: https://pandas.pydata.org/pandas-docs/stable/user_guide/indexing.html#returning-a-view-versus-a-copy\n",
      "  tmp['keyword'] = tmp.msg.progress_apply(lambda x: kw_model.extract_keywords(x, keyphrase_ngram_range=(2,4), use_maxsum = True, top_n = 1))\n"
     ]
    },
    {
     "name": "stdout",
     "output_type": "stream",
     "text": [
      "{i} complete\n"
     ]
    },
    {
     "name": "stderr",
     "output_type": "stream",
     "text": [
      "100%|██████████| 1/1 [00:00<00:00,  3.24it/s]\n",
      "/var/folders/1b/dx8_94fs0q740wx3lfknk6y40000gn/T/ipykernel_42031/3950971282.py:3: SettingWithCopyWarning: \n",
      "A value is trying to be set on a copy of a slice from a DataFrame.\n",
      "Try using .loc[row_indexer,col_indexer] = value instead\n",
      "\n",
      "See the caveats in the documentation: https://pandas.pydata.org/pandas-docs/stable/user_guide/indexing.html#returning-a-view-versus-a-copy\n",
      "  tmp['keyword'] = tmp.msg.progress_apply(lambda x: kw_model.extract_keywords(x, keyphrase_ngram_range=(2,4), use_maxsum = True, top_n = 1))\n"
     ]
    },
    {
     "name": "stdout",
     "output_type": "stream",
     "text": [
      "{i} complete\n"
     ]
    },
    {
     "name": "stderr",
     "output_type": "stream",
     "text": [
      "100%|██████████| 1/1 [00:00<00:00,  3.09it/s]\n",
      "/var/folders/1b/dx8_94fs0q740wx3lfknk6y40000gn/T/ipykernel_42031/3950971282.py:3: SettingWithCopyWarning: \n",
      "A value is trying to be set on a copy of a slice from a DataFrame.\n",
      "Try using .loc[row_indexer,col_indexer] = value instead\n",
      "\n",
      "See the caveats in the documentation: https://pandas.pydata.org/pandas-docs/stable/user_guide/indexing.html#returning-a-view-versus-a-copy\n",
      "  tmp['keyword'] = tmp.msg.progress_apply(lambda x: kw_model.extract_keywords(x, keyphrase_ngram_range=(2,4), use_maxsum = True, top_n = 1))\n"
     ]
    },
    {
     "name": "stdout",
     "output_type": "stream",
     "text": [
      "{i} complete\n"
     ]
    },
    {
     "name": "stderr",
     "output_type": "stream",
     "text": [
      "100%|██████████| 1/1 [00:00<00:00,  3.74it/s]\n",
      "/var/folders/1b/dx8_94fs0q740wx3lfknk6y40000gn/T/ipykernel_42031/3950971282.py:3: SettingWithCopyWarning: \n",
      "A value is trying to be set on a copy of a slice from a DataFrame.\n",
      "Try using .loc[row_indexer,col_indexer] = value instead\n",
      "\n",
      "See the caveats in the documentation: https://pandas.pydata.org/pandas-docs/stable/user_guide/indexing.html#returning-a-view-versus-a-copy\n",
      "  tmp['keyword'] = tmp.msg.progress_apply(lambda x: kw_model.extract_keywords(x, keyphrase_ngram_range=(2,4), use_maxsum = True, top_n = 1))\n"
     ]
    },
    {
     "name": "stdout",
     "output_type": "stream",
     "text": [
      "{i} complete\n"
     ]
    },
    {
     "name": "stderr",
     "output_type": "stream",
     "text": [
      "100%|██████████| 1/1 [00:00<00:00, 14.69it/s]\n",
      "/var/folders/1b/dx8_94fs0q740wx3lfknk6y40000gn/T/ipykernel_42031/3950971282.py:3: SettingWithCopyWarning: \n",
      "A value is trying to be set on a copy of a slice from a DataFrame.\n",
      "Try using .loc[row_indexer,col_indexer] = value instead\n",
      "\n",
      "See the caveats in the documentation: https://pandas.pydata.org/pandas-docs/stable/user_guide/indexing.html#returning-a-view-versus-a-copy\n",
      "  tmp['keyword'] = tmp.msg.progress_apply(lambda x: kw_model.extract_keywords(x, keyphrase_ngram_range=(2,4), use_maxsum = True, top_n = 1))\n"
     ]
    },
    {
     "data": {
      "text/html": [
       "<pre style=\"white-space:pre;overflow-x:auto;line-height:normal;font-family:Menlo,'DejaVu Sans Mono',consolas,'Courier New',monospace\"><span style=\"color: #800000; text-decoration-color: #800000\">╭─────────────────────────────── </span><span style=\"color: #800000; text-decoration-color: #800000; font-weight: bold\">Traceback </span><span style=\"color: #bf7f7f; text-decoration-color: #bf7f7f; font-weight: bold\">(most recent call last)</span><span style=\"color: #800000; text-decoration-color: #800000\"> ────────────────────────────────╮</span>\n",
       "<span style=\"color: #800000; text-decoration-color: #800000\">│</span> in <span style=\"color: #00ff00; text-decoration-color: #00ff00\">&lt;module&gt;</span>:<span style=\"color: #0000ff; text-decoration-color: #0000ff\">4</span>                                                                                    <span style=\"color: #800000; text-decoration-color: #800000\">│</span>\n",
       "<span style=\"color: #800000; text-decoration-color: #800000\">│</span>                                                                                                  <span style=\"color: #800000; text-decoration-color: #800000\">│</span>\n",
       "<span style=\"color: #800000; text-decoration-color: #800000\">│</span>   <span style=\"color: #7f7f7f; text-decoration-color: #7f7f7f\">1 </span><span style=\"color: #0000ff; text-decoration-color: #0000ff\">for</span> i <span style=\"color: #ff00ff; text-decoration-color: #ff00ff\">in</span> <span style=\"color: #00ffff; text-decoration-color: #00ffff\">list</span>(df.cast.value_counts().index.tolist()):                                        <span style=\"color: #800000; text-decoration-color: #800000\">│</span>\n",
       "<span style=\"color: #800000; text-decoration-color: #800000\">│</span>   <span style=\"color: #7f7f7f; text-decoration-color: #7f7f7f\">2 </span><span style=\"color: #7f7f7f; text-decoration-color: #7f7f7f\">   </span>tmp = df[df.cast == i]                                                                    <span style=\"color: #800000; text-decoration-color: #800000\">│</span>\n",
       "<span style=\"color: #800000; text-decoration-color: #800000\">│</span>   <span style=\"color: #7f7f7f; text-decoration-color: #7f7f7f\">3 </span><span style=\"color: #7f7f7f; text-decoration-color: #7f7f7f\">   </span>tmp[<span style=\"color: #808000; text-decoration-color: #808000\">'keyword'</span>] = tmp.msg.progress_apply(<span style=\"color: #0000ff; text-decoration-color: #0000ff\">lambda</span> x: kw_model.extract_keywords(x, keyphr     <span style=\"color: #800000; text-decoration-color: #800000\">│</span>\n",
       "<span style=\"color: #800000; text-decoration-color: #800000\">│</span> <span style=\"color: #800000; text-decoration-color: #800000\">❱ </span>4 <span style=\"color: #7f7f7f; text-decoration-color: #7f7f7f\">   </span>tmp.to_csv(<span style=\"color: #808000; text-decoration-color: #808000\">f'{</span>i<span style=\"color: #808000; text-decoration-color: #808000\">}.csv'</span>, index=<span style=\"color: #0000ff; text-decoration-color: #0000ff\">False</span>)                                                       <span style=\"color: #800000; text-decoration-color: #800000\">│</span>\n",
       "<span style=\"color: #800000; text-decoration-color: #800000\">│</span>   <span style=\"color: #7f7f7f; text-decoration-color: #7f7f7f\">5 </span><span style=\"color: #7f7f7f; text-decoration-color: #7f7f7f\">   </span><span style=\"color: #00ffff; text-decoration-color: #00ffff\">print</span>(<span style=\"color: #808000; text-decoration-color: #808000\">r'{i} complete'</span>)                                                                    <span style=\"color: #800000; text-decoration-color: #800000\">│</span>\n",
       "<span style=\"color: #800000; text-decoration-color: #800000\">│</span>   <span style=\"color: #7f7f7f; text-decoration-color: #7f7f7f\">6 </span>                                                                                             <span style=\"color: #800000; text-decoration-color: #800000\">│</span>\n",
       "<span style=\"color: #800000; text-decoration-color: #800000\">│</span>                                                                                                  <span style=\"color: #800000; text-decoration-color: #800000\">│</span>\n",
       "<span style=\"color: #800000; text-decoration-color: #800000\">│</span> <span style=\"color: #bfbf7f; text-decoration-color: #bfbf7f\">/opt/homebrew/Caskroom/miniforge/base/envs/DL-torch/lib/python3.8/site-packages/pandas/util/</span><span style=\"color: #808000; text-decoration-color: #808000; font-weight: bold\">_dec</span> <span style=\"color: #800000; text-decoration-color: #800000\">│</span>\n",
       "<span style=\"color: #800000; text-decoration-color: #800000\">│</span> <span style=\"color: #808000; text-decoration-color: #808000; font-weight: bold\">orators.py</span>:<span style=\"color: #0000ff; text-decoration-color: #0000ff\">211</span> in <span style=\"color: #00ff00; text-decoration-color: #00ff00\">wrapper</span>                                                                        <span style=\"color: #800000; text-decoration-color: #800000\">│</span>\n",
       "<span style=\"color: #800000; text-decoration-color: #800000\">│</span>                                                                                                  <span style=\"color: #800000; text-decoration-color: #800000\">│</span>\n",
       "<span style=\"color: #800000; text-decoration-color: #800000\">│</span>   <span style=\"color: #7f7f7f; text-decoration-color: #7f7f7f\">208 </span><span style=\"color: #7f7f7f; text-decoration-color: #7f7f7f\">│   │   │   │   │   </span><span style=\"color: #0000ff; text-decoration-color: #0000ff\">raise</span> <span style=\"color: #00ffff; text-decoration-color: #00ffff\">TypeError</span>(msg)                                                   <span style=\"color: #800000; text-decoration-color: #800000\">│</span>\n",
       "<span style=\"color: #800000; text-decoration-color: #800000\">│</span>   <span style=\"color: #7f7f7f; text-decoration-color: #7f7f7f\">209 </span><span style=\"color: #7f7f7f; text-decoration-color: #7f7f7f\">│   │   │   │   </span><span style=\"color: #0000ff; text-decoration-color: #0000ff\">else</span>:                                                                      <span style=\"color: #800000; text-decoration-color: #800000\">│</span>\n",
       "<span style=\"color: #800000; text-decoration-color: #800000\">│</span>   <span style=\"color: #7f7f7f; text-decoration-color: #7f7f7f\">210 </span><span style=\"color: #7f7f7f; text-decoration-color: #7f7f7f\">│   │   │   │   │   </span>kwargs[new_arg_name] = new_arg_value                                   <span style=\"color: #800000; text-decoration-color: #800000\">│</span>\n",
       "<span style=\"color: #800000; text-decoration-color: #800000\">│</span> <span style=\"color: #800000; text-decoration-color: #800000\">❱ </span>211 <span style=\"color: #7f7f7f; text-decoration-color: #7f7f7f\">│   │   │   </span><span style=\"color: #0000ff; text-decoration-color: #0000ff\">return</span> func(*args, **kwargs)                                                   <span style=\"color: #800000; text-decoration-color: #800000\">│</span>\n",
       "<span style=\"color: #800000; text-decoration-color: #800000\">│</span>   <span style=\"color: #7f7f7f; text-decoration-color: #7f7f7f\">212 </span><span style=\"color: #7f7f7f; text-decoration-color: #7f7f7f\">│   │   </span>                                                                                   <span style=\"color: #800000; text-decoration-color: #800000\">│</span>\n",
       "<span style=\"color: #800000; text-decoration-color: #800000\">│</span>   <span style=\"color: #7f7f7f; text-decoration-color: #7f7f7f\">213 </span><span style=\"color: #7f7f7f; text-decoration-color: #7f7f7f\">│   │   </span><span style=\"color: #0000ff; text-decoration-color: #0000ff\">return</span> cast(F, wrapper)                                                            <span style=\"color: #800000; text-decoration-color: #800000\">│</span>\n",
       "<span style=\"color: #800000; text-decoration-color: #800000\">│</span>   <span style=\"color: #7f7f7f; text-decoration-color: #7f7f7f\">214 </span>                                                                                           <span style=\"color: #800000; text-decoration-color: #800000\">│</span>\n",
       "<span style=\"color: #800000; text-decoration-color: #800000\">│</span>                                                                                                  <span style=\"color: #800000; text-decoration-color: #800000\">│</span>\n",
       "<span style=\"color: #800000; text-decoration-color: #800000\">│</span> <span style=\"color: #bfbf7f; text-decoration-color: #bfbf7f\">/opt/homebrew/Caskroom/miniforge/base/envs/DL-torch/lib/python3.8/site-packages/pandas/core/</span><span style=\"color: #808000; text-decoration-color: #808000; font-weight: bold\">gene</span> <span style=\"color: #800000; text-decoration-color: #800000\">│</span>\n",
       "<span style=\"color: #800000; text-decoration-color: #800000\">│</span> <span style=\"color: #808000; text-decoration-color: #808000; font-weight: bold\">ric.py</span>:<span style=\"color: #0000ff; text-decoration-color: #0000ff\">3720</span> in <span style=\"color: #00ff00; text-decoration-color: #00ff00\">to_csv</span>                                                                            <span style=\"color: #800000; text-decoration-color: #800000\">│</span>\n",
       "<span style=\"color: #800000; text-decoration-color: #800000\">│</span>                                                                                                  <span style=\"color: #800000; text-decoration-color: #800000\">│</span>\n",
       "<span style=\"color: #800000; text-decoration-color: #800000\">│</span>   <span style=\"color: #7f7f7f; text-decoration-color: #7f7f7f\"> 3717 </span><span style=\"color: #7f7f7f; text-decoration-color: #7f7f7f\">│   │   │   </span>decimal=decimal,                                                             <span style=\"color: #800000; text-decoration-color: #800000\">│</span>\n",
       "<span style=\"color: #800000; text-decoration-color: #800000\">│</span>   <span style=\"color: #7f7f7f; text-decoration-color: #7f7f7f\"> 3718 </span><span style=\"color: #7f7f7f; text-decoration-color: #7f7f7f\">│   │   </span>)                                                                                <span style=\"color: #800000; text-decoration-color: #800000\">│</span>\n",
       "<span style=\"color: #800000; text-decoration-color: #800000\">│</span>   <span style=\"color: #7f7f7f; text-decoration-color: #7f7f7f\"> 3719 </span><span style=\"color: #7f7f7f; text-decoration-color: #7f7f7f\">│   │   </span>                                                                                 <span style=\"color: #800000; text-decoration-color: #800000\">│</span>\n",
       "<span style=\"color: #800000; text-decoration-color: #800000\">│</span> <span style=\"color: #800000; text-decoration-color: #800000\">❱ </span> 3720 <span style=\"color: #7f7f7f; text-decoration-color: #7f7f7f\">│   │   </span><span style=\"color: #0000ff; text-decoration-color: #0000ff\">return</span> DataFrameRenderer(formatter).to_csv(                                      <span style=\"color: #800000; text-decoration-color: #800000\">│</span>\n",
       "<span style=\"color: #800000; text-decoration-color: #800000\">│</span>   <span style=\"color: #7f7f7f; text-decoration-color: #7f7f7f\"> 3721 </span><span style=\"color: #7f7f7f; text-decoration-color: #7f7f7f\">│   │   │   </span>path_or_buf,                                                                 <span style=\"color: #800000; text-decoration-color: #800000\">│</span>\n",
       "<span style=\"color: #800000; text-decoration-color: #800000\">│</span>   <span style=\"color: #7f7f7f; text-decoration-color: #7f7f7f\"> 3722 </span><span style=\"color: #7f7f7f; text-decoration-color: #7f7f7f\">│   │   │   </span>lineterminator=lineterminator,                                               <span style=\"color: #800000; text-decoration-color: #800000\">│</span>\n",
       "<span style=\"color: #800000; text-decoration-color: #800000\">│</span>   <span style=\"color: #7f7f7f; text-decoration-color: #7f7f7f\"> 3723 </span><span style=\"color: #7f7f7f; text-decoration-color: #7f7f7f\">│   │   │   </span>sep=sep,                                                                     <span style=\"color: #800000; text-decoration-color: #800000\">│</span>\n",
       "<span style=\"color: #800000; text-decoration-color: #800000\">│</span>                                                                                                  <span style=\"color: #800000; text-decoration-color: #800000\">│</span>\n",
       "<span style=\"color: #800000; text-decoration-color: #800000\">│</span> <span style=\"color: #bfbf7f; text-decoration-color: #bfbf7f\">/opt/homebrew/Caskroom/miniforge/base/envs/DL-torch/lib/python3.8/site-packages/pandas/util/</span><span style=\"color: #808000; text-decoration-color: #808000; font-weight: bold\">_dec</span> <span style=\"color: #800000; text-decoration-color: #800000\">│</span>\n",
       "<span style=\"color: #800000; text-decoration-color: #800000\">│</span> <span style=\"color: #808000; text-decoration-color: #808000; font-weight: bold\">orators.py</span>:<span style=\"color: #0000ff; text-decoration-color: #0000ff\">211</span> in <span style=\"color: #00ff00; text-decoration-color: #00ff00\">wrapper</span>                                                                        <span style=\"color: #800000; text-decoration-color: #800000\">│</span>\n",
       "<span style=\"color: #800000; text-decoration-color: #800000\">│</span>                                                                                                  <span style=\"color: #800000; text-decoration-color: #800000\">│</span>\n",
       "<span style=\"color: #800000; text-decoration-color: #800000\">│</span>   <span style=\"color: #7f7f7f; text-decoration-color: #7f7f7f\">208 </span><span style=\"color: #7f7f7f; text-decoration-color: #7f7f7f\">│   │   │   │   │   </span><span style=\"color: #0000ff; text-decoration-color: #0000ff\">raise</span> <span style=\"color: #00ffff; text-decoration-color: #00ffff\">TypeError</span>(msg)                                                   <span style=\"color: #800000; text-decoration-color: #800000\">│</span>\n",
       "<span style=\"color: #800000; text-decoration-color: #800000\">│</span>   <span style=\"color: #7f7f7f; text-decoration-color: #7f7f7f\">209 </span><span style=\"color: #7f7f7f; text-decoration-color: #7f7f7f\">│   │   │   │   </span><span style=\"color: #0000ff; text-decoration-color: #0000ff\">else</span>:                                                                      <span style=\"color: #800000; text-decoration-color: #800000\">│</span>\n",
       "<span style=\"color: #800000; text-decoration-color: #800000\">│</span>   <span style=\"color: #7f7f7f; text-decoration-color: #7f7f7f\">210 </span><span style=\"color: #7f7f7f; text-decoration-color: #7f7f7f\">│   │   │   │   │   </span>kwargs[new_arg_name] = new_arg_value                                   <span style=\"color: #800000; text-decoration-color: #800000\">│</span>\n",
       "<span style=\"color: #800000; text-decoration-color: #800000\">│</span> <span style=\"color: #800000; text-decoration-color: #800000\">❱ </span>211 <span style=\"color: #7f7f7f; text-decoration-color: #7f7f7f\">│   │   │   </span><span style=\"color: #0000ff; text-decoration-color: #0000ff\">return</span> func(*args, **kwargs)                                                   <span style=\"color: #800000; text-decoration-color: #800000\">│</span>\n",
       "<span style=\"color: #800000; text-decoration-color: #800000\">│</span>   <span style=\"color: #7f7f7f; text-decoration-color: #7f7f7f\">212 </span><span style=\"color: #7f7f7f; text-decoration-color: #7f7f7f\">│   │   </span>                                                                                   <span style=\"color: #800000; text-decoration-color: #800000\">│</span>\n",
       "<span style=\"color: #800000; text-decoration-color: #800000\">│</span>   <span style=\"color: #7f7f7f; text-decoration-color: #7f7f7f\">213 </span><span style=\"color: #7f7f7f; text-decoration-color: #7f7f7f\">│   │   </span><span style=\"color: #0000ff; text-decoration-color: #0000ff\">return</span> cast(F, wrapper)                                                            <span style=\"color: #800000; text-decoration-color: #800000\">│</span>\n",
       "<span style=\"color: #800000; text-decoration-color: #800000\">│</span>   <span style=\"color: #7f7f7f; text-decoration-color: #7f7f7f\">214 </span>                                                                                           <span style=\"color: #800000; text-decoration-color: #800000\">│</span>\n",
       "<span style=\"color: #800000; text-decoration-color: #800000\">│</span>                                                                                                  <span style=\"color: #800000; text-decoration-color: #800000\">│</span>\n",
       "<span style=\"color: #800000; text-decoration-color: #800000\">│</span> <span style=\"color: #bfbf7f; text-decoration-color: #bfbf7f\">/opt/homebrew/Caskroom/miniforge/base/envs/DL-torch/lib/python3.8/site-packages/pandas/io/format</span> <span style=\"color: #800000; text-decoration-color: #800000\">│</span>\n",
       "<span style=\"color: #800000; text-decoration-color: #800000\">│</span> <span style=\"color: #bfbf7f; text-decoration-color: #bfbf7f\">s/</span><span style=\"color: #808000; text-decoration-color: #808000; font-weight: bold\">format.py</span>:<span style=\"color: #0000ff; text-decoration-color: #0000ff\">1189</span> in <span style=\"color: #00ff00; text-decoration-color: #00ff00\">to_csv</span>                                                                       <span style=\"color: #800000; text-decoration-color: #800000\">│</span>\n",
       "<span style=\"color: #800000; text-decoration-color: #800000\">│</span>                                                                                                  <span style=\"color: #800000; text-decoration-color: #800000\">│</span>\n",
       "<span style=\"color: #800000; text-decoration-color: #800000\">│</span>   <span style=\"color: #7f7f7f; text-decoration-color: #7f7f7f\">1186 </span><span style=\"color: #7f7f7f; text-decoration-color: #7f7f7f\">│   │   │   </span>storage_options=storage_options,                                              <span style=\"color: #800000; text-decoration-color: #800000\">│</span>\n",
       "<span style=\"color: #800000; text-decoration-color: #800000\">│</span>   <span style=\"color: #7f7f7f; text-decoration-color: #7f7f7f\">1187 </span><span style=\"color: #7f7f7f; text-decoration-color: #7f7f7f\">│   │   │   </span>formatter=<span style=\"color: #00ffff; text-decoration-color: #00ffff\">self</span>.fmt,                                                           <span style=\"color: #800000; text-decoration-color: #800000\">│</span>\n",
       "<span style=\"color: #800000; text-decoration-color: #800000\">│</span>   <span style=\"color: #7f7f7f; text-decoration-color: #7f7f7f\">1188 </span><span style=\"color: #7f7f7f; text-decoration-color: #7f7f7f\">│   │   </span>)                                                                                 <span style=\"color: #800000; text-decoration-color: #800000\">│</span>\n",
       "<span style=\"color: #800000; text-decoration-color: #800000\">│</span> <span style=\"color: #800000; text-decoration-color: #800000\">❱ </span>1189 <span style=\"color: #7f7f7f; text-decoration-color: #7f7f7f\">│   │   </span>csv_formatter.save()                                                              <span style=\"color: #800000; text-decoration-color: #800000\">│</span>\n",
       "<span style=\"color: #800000; text-decoration-color: #800000\">│</span>   <span style=\"color: #7f7f7f; text-decoration-color: #7f7f7f\">1190 </span><span style=\"color: #7f7f7f; text-decoration-color: #7f7f7f\">│   │   </span>                                                                                  <span style=\"color: #800000; text-decoration-color: #800000\">│</span>\n",
       "<span style=\"color: #800000; text-decoration-color: #800000\">│</span>   <span style=\"color: #7f7f7f; text-decoration-color: #7f7f7f\">1191 </span><span style=\"color: #7f7f7f; text-decoration-color: #7f7f7f\">│   │   </span><span style=\"color: #0000ff; text-decoration-color: #0000ff\">if</span> created_buffer:                                                                <span style=\"color: #800000; text-decoration-color: #800000\">│</span>\n",
       "<span style=\"color: #800000; text-decoration-color: #800000\">│</span>   <span style=\"color: #7f7f7f; text-decoration-color: #7f7f7f\">1192 </span><span style=\"color: #7f7f7f; text-decoration-color: #7f7f7f\">│   │   │   </span><span style=\"color: #0000ff; text-decoration-color: #0000ff\">assert</span> <span style=\"color: #00ffff; text-decoration-color: #00ffff\">isinstance</span>(path_or_buf, StringIO)                                      <span style=\"color: #800000; text-decoration-color: #800000\">│</span>\n",
       "<span style=\"color: #800000; text-decoration-color: #800000\">│</span>                                                                                                  <span style=\"color: #800000; text-decoration-color: #800000\">│</span>\n",
       "<span style=\"color: #800000; text-decoration-color: #800000\">│</span> <span style=\"color: #bfbf7f; text-decoration-color: #bfbf7f\">/opt/homebrew/Caskroom/miniforge/base/envs/DL-torch/lib/python3.8/site-packages/pandas/io/format</span> <span style=\"color: #800000; text-decoration-color: #800000\">│</span>\n",
       "<span style=\"color: #800000; text-decoration-color: #800000\">│</span> <span style=\"color: #bfbf7f; text-decoration-color: #bfbf7f\">s/</span><span style=\"color: #808000; text-decoration-color: #808000; font-weight: bold\">csvs.py</span>:<span style=\"color: #0000ff; text-decoration-color: #0000ff\">241</span> in <span style=\"color: #00ff00; text-decoration-color: #00ff00\">save</span>                                                                            <span style=\"color: #800000; text-decoration-color: #800000\">│</span>\n",
       "<span style=\"color: #800000; text-decoration-color: #800000\">│</span>                                                                                                  <span style=\"color: #800000; text-decoration-color: #800000\">│</span>\n",
       "<span style=\"color: #800000; text-decoration-color: #800000\">│</span>   <span style=\"color: #7f7f7f; text-decoration-color: #7f7f7f\">238 </span><span style=\"color: #bfbf7f; text-decoration-color: #bfbf7f\">│   │   </span><span style=\"color: #808000; text-decoration-color: #808000\">Create the writer &amp; save.</span>                                                          <span style=\"color: #800000; text-decoration-color: #800000\">│</span>\n",
       "<span style=\"color: #800000; text-decoration-color: #800000\">│</span>   <span style=\"color: #7f7f7f; text-decoration-color: #7f7f7f\">239 </span><span style=\"color: #bfbf7f; text-decoration-color: #bfbf7f\">│   │   </span><span style=\"color: #808000; text-decoration-color: #808000\">\"\"\"</span>                                                                                <span style=\"color: #800000; text-decoration-color: #800000\">│</span>\n",
       "<span style=\"color: #800000; text-decoration-color: #800000\">│</span>   <span style=\"color: #7f7f7f; text-decoration-color: #7f7f7f\">240 </span><span style=\"color: #7f7f7f; text-decoration-color: #7f7f7f\">│   │   </span><span style=\"color: #7f7f7f; text-decoration-color: #7f7f7f\"># apply compression and byte/text conversion</span>                                       <span style=\"color: #800000; text-decoration-color: #800000\">│</span>\n",
       "<span style=\"color: #800000; text-decoration-color: #800000\">│</span> <span style=\"color: #800000; text-decoration-color: #800000\">❱ </span>241 <span style=\"color: #7f7f7f; text-decoration-color: #7f7f7f\">│   │   </span><span style=\"color: #0000ff; text-decoration-color: #0000ff\">with</span> get_handle(                                                                   <span style=\"color: #800000; text-decoration-color: #800000\">│</span>\n",
       "<span style=\"color: #800000; text-decoration-color: #800000\">│</span>   <span style=\"color: #7f7f7f; text-decoration-color: #7f7f7f\">242 </span><span style=\"color: #7f7f7f; text-decoration-color: #7f7f7f\">│   │   │   </span><span style=\"color: #00ffff; text-decoration-color: #00ffff\">self</span>.filepath_or_buffer,                                                       <span style=\"color: #800000; text-decoration-color: #800000\">│</span>\n",
       "<span style=\"color: #800000; text-decoration-color: #800000\">│</span>   <span style=\"color: #7f7f7f; text-decoration-color: #7f7f7f\">243 </span><span style=\"color: #7f7f7f; text-decoration-color: #7f7f7f\">│   │   │   </span><span style=\"color: #00ffff; text-decoration-color: #00ffff\">self</span>.mode,                                                                     <span style=\"color: #800000; text-decoration-color: #800000\">│</span>\n",
       "<span style=\"color: #800000; text-decoration-color: #800000\">│</span>   <span style=\"color: #7f7f7f; text-decoration-color: #7f7f7f\">244 </span><span style=\"color: #7f7f7f; text-decoration-color: #7f7f7f\">│   │   │   </span>encoding=<span style=\"color: #00ffff; text-decoration-color: #00ffff\">self</span>.encoding,                                                        <span style=\"color: #800000; text-decoration-color: #800000\">│</span>\n",
       "<span style=\"color: #800000; text-decoration-color: #800000\">│</span>                                                                                                  <span style=\"color: #800000; text-decoration-color: #800000\">│</span>\n",
       "<span style=\"color: #800000; text-decoration-color: #800000\">│</span> <span style=\"color: #bfbf7f; text-decoration-color: #bfbf7f\">/opt/homebrew/Caskroom/miniforge/base/envs/DL-torch/lib/python3.8/site-packages/pandas/io/</span><span style=\"color: #808000; text-decoration-color: #808000; font-weight: bold\">common</span> <span style=\"color: #800000; text-decoration-color: #800000\">│</span>\n",
       "<span style=\"color: #800000; text-decoration-color: #800000\">│</span> <span style=\"color: #808000; text-decoration-color: #808000; font-weight: bold\">.py</span>:<span style=\"color: #0000ff; text-decoration-color: #0000ff\">734</span> in <span style=\"color: #00ff00; text-decoration-color: #00ff00\">get_handle</span>                                                                            <span style=\"color: #800000; text-decoration-color: #800000\">│</span>\n",
       "<span style=\"color: #800000; text-decoration-color: #800000\">│</span>                                                                                                  <span style=\"color: #800000; text-decoration-color: #800000\">│</span>\n",
       "<span style=\"color: #800000; text-decoration-color: #800000\">│</span>   <span style=\"color: #7f7f7f; text-decoration-color: #7f7f7f\"> 731 </span><span style=\"color: #7f7f7f; text-decoration-color: #7f7f7f\">│   </span>                                                                                      <span style=\"color: #800000; text-decoration-color: #800000\">│</span>\n",
       "<span style=\"color: #800000; text-decoration-color: #800000\">│</span>   <span style=\"color: #7f7f7f; text-decoration-color: #7f7f7f\"> 732 </span><span style=\"color: #7f7f7f; text-decoration-color: #7f7f7f\">│   </span><span style=\"color: #7f7f7f; text-decoration-color: #7f7f7f\"># Only for write methods</span>                                                              <span style=\"color: #800000; text-decoration-color: #800000\">│</span>\n",
       "<span style=\"color: #800000; text-decoration-color: #800000\">│</span>   <span style=\"color: #7f7f7f; text-decoration-color: #7f7f7f\"> 733 </span><span style=\"color: #7f7f7f; text-decoration-color: #7f7f7f\">│   </span><span style=\"color: #0000ff; text-decoration-color: #0000ff\">if</span> <span style=\"color: #808000; text-decoration-color: #808000\">\"r\"</span> <span style=\"color: #ff00ff; text-decoration-color: #ff00ff\">not</span> <span style=\"color: #ff00ff; text-decoration-color: #ff00ff\">in</span> mode <span style=\"color: #ff00ff; text-decoration-color: #ff00ff\">and</span> is_path:                                                       <span style=\"color: #800000; text-decoration-color: #800000\">│</span>\n",
       "<span style=\"color: #800000; text-decoration-color: #800000\">│</span> <span style=\"color: #800000; text-decoration-color: #800000\">❱ </span> 734 <span style=\"color: #7f7f7f; text-decoration-color: #7f7f7f\">│   │   </span>check_parent_directory(<span style=\"color: #00ffff; text-decoration-color: #00ffff\">str</span>(handle))                                               <span style=\"color: #800000; text-decoration-color: #800000\">│</span>\n",
       "<span style=\"color: #800000; text-decoration-color: #800000\">│</span>   <span style=\"color: #7f7f7f; text-decoration-color: #7f7f7f\"> 735 </span><span style=\"color: #7f7f7f; text-decoration-color: #7f7f7f\">│   </span>                                                                                      <span style=\"color: #800000; text-decoration-color: #800000\">│</span>\n",
       "<span style=\"color: #800000; text-decoration-color: #800000\">│</span>   <span style=\"color: #7f7f7f; text-decoration-color: #7f7f7f\"> 736 </span><span style=\"color: #7f7f7f; text-decoration-color: #7f7f7f\">│   </span><span style=\"color: #0000ff; text-decoration-color: #0000ff\">if</span> compression:                                                                       <span style=\"color: #800000; text-decoration-color: #800000\">│</span>\n",
       "<span style=\"color: #800000; text-decoration-color: #800000\">│</span>   <span style=\"color: #7f7f7f; text-decoration-color: #7f7f7f\"> 737 </span><span style=\"color: #7f7f7f; text-decoration-color: #7f7f7f\">│   │   </span><span style=\"color: #0000ff; text-decoration-color: #0000ff\">if</span> compression != <span style=\"color: #808000; text-decoration-color: #808000\">\"zstd\"</span>:                                                         <span style=\"color: #800000; text-decoration-color: #800000\">│</span>\n",
       "<span style=\"color: #800000; text-decoration-color: #800000\">│</span>                                                                                                  <span style=\"color: #800000; text-decoration-color: #800000\">│</span>\n",
       "<span style=\"color: #800000; text-decoration-color: #800000\">│</span> <span style=\"color: #bfbf7f; text-decoration-color: #bfbf7f\">/opt/homebrew/Caskroom/miniforge/base/envs/DL-torch/lib/python3.8/site-packages/pandas/io/</span><span style=\"color: #808000; text-decoration-color: #808000; font-weight: bold\">common</span> <span style=\"color: #800000; text-decoration-color: #800000\">│</span>\n",
       "<span style=\"color: #800000; text-decoration-color: #800000\">│</span> <span style=\"color: #808000; text-decoration-color: #808000; font-weight: bold\">.py</span>:<span style=\"color: #0000ff; text-decoration-color: #0000ff\">597</span> in <span style=\"color: #00ff00; text-decoration-color: #00ff00\">check_parent_directory</span>                                                                <span style=\"color: #800000; text-decoration-color: #800000\">│</span>\n",
       "<span style=\"color: #800000; text-decoration-color: #800000\">│</span>                                                                                                  <span style=\"color: #800000; text-decoration-color: #800000\">│</span>\n",
       "<span style=\"color: #800000; text-decoration-color: #800000\">│</span>   <span style=\"color: #7f7f7f; text-decoration-color: #7f7f7f\"> 594 </span><span style=\"color: #bfbf7f; text-decoration-color: #bfbf7f\">│   </span><span style=\"color: #808000; text-decoration-color: #808000\">\"\"\"</span>                                                                                   <span style=\"color: #800000; text-decoration-color: #800000\">│</span>\n",
       "<span style=\"color: #800000; text-decoration-color: #800000\">│</span>   <span style=\"color: #7f7f7f; text-decoration-color: #7f7f7f\"> 595 </span><span style=\"color: #7f7f7f; text-decoration-color: #7f7f7f\">│   </span>parent = Path(path).parent                                                            <span style=\"color: #800000; text-decoration-color: #800000\">│</span>\n",
       "<span style=\"color: #800000; text-decoration-color: #800000\">│</span>   <span style=\"color: #7f7f7f; text-decoration-color: #7f7f7f\"> 596 </span><span style=\"color: #7f7f7f; text-decoration-color: #7f7f7f\">│   </span><span style=\"color: #0000ff; text-decoration-color: #0000ff\">if</span> <span style=\"color: #ff00ff; text-decoration-color: #ff00ff\">not</span> parent.is_dir():                                                               <span style=\"color: #800000; text-decoration-color: #800000\">│</span>\n",
       "<span style=\"color: #800000; text-decoration-color: #800000\">│</span> <span style=\"color: #800000; text-decoration-color: #800000\">❱ </span> 597 <span style=\"color: #7f7f7f; text-decoration-color: #7f7f7f\">│   │   </span><span style=\"color: #0000ff; text-decoration-color: #0000ff\">raise</span> <span style=\"color: #00ffff; text-decoration-color: #00ffff\">OSError</span>(<span style=\"color: #808000; text-decoration-color: #808000\">rf\"Cannot save file into a non-existent directory: '{</span>parent<span style=\"color: #808000; text-decoration-color: #808000\">}'\"</span>)     <span style=\"color: #800000; text-decoration-color: #800000\">│</span>\n",
       "<span style=\"color: #800000; text-decoration-color: #800000\">│</span>   <span style=\"color: #7f7f7f; text-decoration-color: #7f7f7f\"> 598 </span>                                                                                          <span style=\"color: #800000; text-decoration-color: #800000\">│</span>\n",
       "<span style=\"color: #800000; text-decoration-color: #800000\">│</span>   <span style=\"color: #7f7f7f; text-decoration-color: #7f7f7f\"> 599 </span>                                                                                          <span style=\"color: #800000; text-decoration-color: #800000\">│</span>\n",
       "<span style=\"color: #800000; text-decoration-color: #800000\">│</span>   <span style=\"color: #7f7f7f; text-decoration-color: #7f7f7f\"> 600 </span><span style=\"color: #ff00ff; text-decoration-color: #ff00ff; font-weight: bold\">@overload</span>                                                                                 <span style=\"color: #800000; text-decoration-color: #800000\">│</span>\n",
       "<span style=\"color: #800000; text-decoration-color: #800000\">╰──────────────────────────────────────────────────────────────────────────────────────────────────╯</span>\n",
       "<span style=\"color: #ff0000; text-decoration-color: #ff0000; font-weight: bold\">OSError: </span>Cannot save file into a non-existent directory: <span style=\"color: #008000; text-decoration-color: #008000\">'산림청'</span>\n",
       "</pre>\n"
      ],
      "text/plain": [
       "\u001b[31m╭─\u001b[0m\u001b[31m──────────────────────────────\u001b[0m\u001b[31m \u001b[0m\u001b[1;31mTraceback \u001b[0m\u001b[1;2;31m(most recent call last)\u001b[0m\u001b[31m \u001b[0m\u001b[31m───────────────────────────────\u001b[0m\u001b[31m─╮\u001b[0m\n",
       "\u001b[31m│\u001b[0m in \u001b[92m<module>\u001b[0m:\u001b[94m4\u001b[0m                                                                                    \u001b[31m│\u001b[0m\n",
       "\u001b[31m│\u001b[0m                                                                                                  \u001b[31m│\u001b[0m\n",
       "\u001b[31m│\u001b[0m   \u001b[2m1 \u001b[0m\u001b[94mfor\u001b[0m i \u001b[95min\u001b[0m \u001b[96mlist\u001b[0m(df.cast.value_counts().index.tolist()):                                        \u001b[31m│\u001b[0m\n",
       "\u001b[31m│\u001b[0m   \u001b[2m2 \u001b[0m\u001b[2m   \u001b[0mtmp = df[df.cast == i]                                                                    \u001b[31m│\u001b[0m\n",
       "\u001b[31m│\u001b[0m   \u001b[2m3 \u001b[0m\u001b[2m   \u001b[0mtmp[\u001b[33m'\u001b[0m\u001b[33mkeyword\u001b[0m\u001b[33m'\u001b[0m] = tmp.msg.progress_apply(\u001b[94mlambda\u001b[0m x: kw_model.extract_keywords(x, keyphr     \u001b[31m│\u001b[0m\n",
       "\u001b[31m│\u001b[0m \u001b[31m❱ \u001b[0m4 \u001b[2m   \u001b[0mtmp.to_csv(\u001b[33mf\u001b[0m\u001b[33m'\u001b[0m\u001b[33m{\u001b[0mi\u001b[33m}\u001b[0m\u001b[33m.csv\u001b[0m\u001b[33m'\u001b[0m, index=\u001b[94mFalse\u001b[0m)                                                       \u001b[31m│\u001b[0m\n",
       "\u001b[31m│\u001b[0m   \u001b[2m5 \u001b[0m\u001b[2m   \u001b[0m\u001b[96mprint\u001b[0m(\u001b[33mr\u001b[0m\u001b[33m'\u001b[0m\u001b[33m{i}\u001b[0m\u001b[33m complete\u001b[0m\u001b[33m'\u001b[0m)                                                                    \u001b[31m│\u001b[0m\n",
       "\u001b[31m│\u001b[0m   \u001b[2m6 \u001b[0m                                                                                             \u001b[31m│\u001b[0m\n",
       "\u001b[31m│\u001b[0m                                                                                                  \u001b[31m│\u001b[0m\n",
       "\u001b[31m│\u001b[0m \u001b[2;33m/opt/homebrew/Caskroom/miniforge/base/envs/DL-torch/lib/python3.8/site-packages/pandas/util/\u001b[0m\u001b[1;33m_dec\u001b[0m \u001b[31m│\u001b[0m\n",
       "\u001b[31m│\u001b[0m \u001b[1;33morators.py\u001b[0m:\u001b[94m211\u001b[0m in \u001b[92mwrapper\u001b[0m                                                                        \u001b[31m│\u001b[0m\n",
       "\u001b[31m│\u001b[0m                                                                                                  \u001b[31m│\u001b[0m\n",
       "\u001b[31m│\u001b[0m   \u001b[2m208 \u001b[0m\u001b[2m│   │   │   │   │   \u001b[0m\u001b[94mraise\u001b[0m \u001b[96mTypeError\u001b[0m(msg)                                                   \u001b[31m│\u001b[0m\n",
       "\u001b[31m│\u001b[0m   \u001b[2m209 \u001b[0m\u001b[2m│   │   │   │   \u001b[0m\u001b[94melse\u001b[0m:                                                                      \u001b[31m│\u001b[0m\n",
       "\u001b[31m│\u001b[0m   \u001b[2m210 \u001b[0m\u001b[2m│   │   │   │   │   \u001b[0mkwargs[new_arg_name] = new_arg_value                                   \u001b[31m│\u001b[0m\n",
       "\u001b[31m│\u001b[0m \u001b[31m❱ \u001b[0m211 \u001b[2m│   │   │   \u001b[0m\u001b[94mreturn\u001b[0m func(*args, **kwargs)                                                   \u001b[31m│\u001b[0m\n",
       "\u001b[31m│\u001b[0m   \u001b[2m212 \u001b[0m\u001b[2m│   │   \u001b[0m                                                                                   \u001b[31m│\u001b[0m\n",
       "\u001b[31m│\u001b[0m   \u001b[2m213 \u001b[0m\u001b[2m│   │   \u001b[0m\u001b[94mreturn\u001b[0m cast(F, wrapper)                                                            \u001b[31m│\u001b[0m\n",
       "\u001b[31m│\u001b[0m   \u001b[2m214 \u001b[0m                                                                                           \u001b[31m│\u001b[0m\n",
       "\u001b[31m│\u001b[0m                                                                                                  \u001b[31m│\u001b[0m\n",
       "\u001b[31m│\u001b[0m \u001b[2;33m/opt/homebrew/Caskroom/miniforge/base/envs/DL-torch/lib/python3.8/site-packages/pandas/core/\u001b[0m\u001b[1;33mgene\u001b[0m \u001b[31m│\u001b[0m\n",
       "\u001b[31m│\u001b[0m \u001b[1;33mric.py\u001b[0m:\u001b[94m3720\u001b[0m in \u001b[92mto_csv\u001b[0m                                                                            \u001b[31m│\u001b[0m\n",
       "\u001b[31m│\u001b[0m                                                                                                  \u001b[31m│\u001b[0m\n",
       "\u001b[31m│\u001b[0m   \u001b[2m 3717 \u001b[0m\u001b[2m│   │   │   \u001b[0mdecimal=decimal,                                                             \u001b[31m│\u001b[0m\n",
       "\u001b[31m│\u001b[0m   \u001b[2m 3718 \u001b[0m\u001b[2m│   │   \u001b[0m)                                                                                \u001b[31m│\u001b[0m\n",
       "\u001b[31m│\u001b[0m   \u001b[2m 3719 \u001b[0m\u001b[2m│   │   \u001b[0m                                                                                 \u001b[31m│\u001b[0m\n",
       "\u001b[31m│\u001b[0m \u001b[31m❱ \u001b[0m 3720 \u001b[2m│   │   \u001b[0m\u001b[94mreturn\u001b[0m DataFrameRenderer(formatter).to_csv(                                      \u001b[31m│\u001b[0m\n",
       "\u001b[31m│\u001b[0m   \u001b[2m 3721 \u001b[0m\u001b[2m│   │   │   \u001b[0mpath_or_buf,                                                                 \u001b[31m│\u001b[0m\n",
       "\u001b[31m│\u001b[0m   \u001b[2m 3722 \u001b[0m\u001b[2m│   │   │   \u001b[0mlineterminator=lineterminator,                                               \u001b[31m│\u001b[0m\n",
       "\u001b[31m│\u001b[0m   \u001b[2m 3723 \u001b[0m\u001b[2m│   │   │   \u001b[0msep=sep,                                                                     \u001b[31m│\u001b[0m\n",
       "\u001b[31m│\u001b[0m                                                                                                  \u001b[31m│\u001b[0m\n",
       "\u001b[31m│\u001b[0m \u001b[2;33m/opt/homebrew/Caskroom/miniforge/base/envs/DL-torch/lib/python3.8/site-packages/pandas/util/\u001b[0m\u001b[1;33m_dec\u001b[0m \u001b[31m│\u001b[0m\n",
       "\u001b[31m│\u001b[0m \u001b[1;33morators.py\u001b[0m:\u001b[94m211\u001b[0m in \u001b[92mwrapper\u001b[0m                                                                        \u001b[31m│\u001b[0m\n",
       "\u001b[31m│\u001b[0m                                                                                                  \u001b[31m│\u001b[0m\n",
       "\u001b[31m│\u001b[0m   \u001b[2m208 \u001b[0m\u001b[2m│   │   │   │   │   \u001b[0m\u001b[94mraise\u001b[0m \u001b[96mTypeError\u001b[0m(msg)                                                   \u001b[31m│\u001b[0m\n",
       "\u001b[31m│\u001b[0m   \u001b[2m209 \u001b[0m\u001b[2m│   │   │   │   \u001b[0m\u001b[94melse\u001b[0m:                                                                      \u001b[31m│\u001b[0m\n",
       "\u001b[31m│\u001b[0m   \u001b[2m210 \u001b[0m\u001b[2m│   │   │   │   │   \u001b[0mkwargs[new_arg_name] = new_arg_value                                   \u001b[31m│\u001b[0m\n",
       "\u001b[31m│\u001b[0m \u001b[31m❱ \u001b[0m211 \u001b[2m│   │   │   \u001b[0m\u001b[94mreturn\u001b[0m func(*args, **kwargs)                                                   \u001b[31m│\u001b[0m\n",
       "\u001b[31m│\u001b[0m   \u001b[2m212 \u001b[0m\u001b[2m│   │   \u001b[0m                                                                                   \u001b[31m│\u001b[0m\n",
       "\u001b[31m│\u001b[0m   \u001b[2m213 \u001b[0m\u001b[2m│   │   \u001b[0m\u001b[94mreturn\u001b[0m cast(F, wrapper)                                                            \u001b[31m│\u001b[0m\n",
       "\u001b[31m│\u001b[0m   \u001b[2m214 \u001b[0m                                                                                           \u001b[31m│\u001b[0m\n",
       "\u001b[31m│\u001b[0m                                                                                                  \u001b[31m│\u001b[0m\n",
       "\u001b[31m│\u001b[0m \u001b[2;33m/opt/homebrew/Caskroom/miniforge/base/envs/DL-torch/lib/python3.8/site-packages/pandas/io/format\u001b[0m \u001b[31m│\u001b[0m\n",
       "\u001b[31m│\u001b[0m \u001b[2;33ms/\u001b[0m\u001b[1;33mformat.py\u001b[0m:\u001b[94m1189\u001b[0m in \u001b[92mto_csv\u001b[0m                                                                       \u001b[31m│\u001b[0m\n",
       "\u001b[31m│\u001b[0m                                                                                                  \u001b[31m│\u001b[0m\n",
       "\u001b[31m│\u001b[0m   \u001b[2m1186 \u001b[0m\u001b[2m│   │   │   \u001b[0mstorage_options=storage_options,                                              \u001b[31m│\u001b[0m\n",
       "\u001b[31m│\u001b[0m   \u001b[2m1187 \u001b[0m\u001b[2m│   │   │   \u001b[0mformatter=\u001b[96mself\u001b[0m.fmt,                                                           \u001b[31m│\u001b[0m\n",
       "\u001b[31m│\u001b[0m   \u001b[2m1188 \u001b[0m\u001b[2m│   │   \u001b[0m)                                                                                 \u001b[31m│\u001b[0m\n",
       "\u001b[31m│\u001b[0m \u001b[31m❱ \u001b[0m1189 \u001b[2m│   │   \u001b[0mcsv_formatter.save()                                                              \u001b[31m│\u001b[0m\n",
       "\u001b[31m│\u001b[0m   \u001b[2m1190 \u001b[0m\u001b[2m│   │   \u001b[0m                                                                                  \u001b[31m│\u001b[0m\n",
       "\u001b[31m│\u001b[0m   \u001b[2m1191 \u001b[0m\u001b[2m│   │   \u001b[0m\u001b[94mif\u001b[0m created_buffer:                                                                \u001b[31m│\u001b[0m\n",
       "\u001b[31m│\u001b[0m   \u001b[2m1192 \u001b[0m\u001b[2m│   │   │   \u001b[0m\u001b[94massert\u001b[0m \u001b[96misinstance\u001b[0m(path_or_buf, StringIO)                                      \u001b[31m│\u001b[0m\n",
       "\u001b[31m│\u001b[0m                                                                                                  \u001b[31m│\u001b[0m\n",
       "\u001b[31m│\u001b[0m \u001b[2;33m/opt/homebrew/Caskroom/miniforge/base/envs/DL-torch/lib/python3.8/site-packages/pandas/io/format\u001b[0m \u001b[31m│\u001b[0m\n",
       "\u001b[31m│\u001b[0m \u001b[2;33ms/\u001b[0m\u001b[1;33mcsvs.py\u001b[0m:\u001b[94m241\u001b[0m in \u001b[92msave\u001b[0m                                                                            \u001b[31m│\u001b[0m\n",
       "\u001b[31m│\u001b[0m                                                                                                  \u001b[31m│\u001b[0m\n",
       "\u001b[31m│\u001b[0m   \u001b[2m238 \u001b[0m\u001b[2;33m│   │   \u001b[0m\u001b[33mCreate the writer & save.\u001b[0m                                                          \u001b[31m│\u001b[0m\n",
       "\u001b[31m│\u001b[0m   \u001b[2m239 \u001b[0m\u001b[2;33m│   │   \u001b[0m\u001b[33m\"\"\"\u001b[0m                                                                                \u001b[31m│\u001b[0m\n",
       "\u001b[31m│\u001b[0m   \u001b[2m240 \u001b[0m\u001b[2m│   │   \u001b[0m\u001b[2m# apply compression and byte/text conversion\u001b[0m                                       \u001b[31m│\u001b[0m\n",
       "\u001b[31m│\u001b[0m \u001b[31m❱ \u001b[0m241 \u001b[2m│   │   \u001b[0m\u001b[94mwith\u001b[0m get_handle(                                                                   \u001b[31m│\u001b[0m\n",
       "\u001b[31m│\u001b[0m   \u001b[2m242 \u001b[0m\u001b[2m│   │   │   \u001b[0m\u001b[96mself\u001b[0m.filepath_or_buffer,                                                       \u001b[31m│\u001b[0m\n",
       "\u001b[31m│\u001b[0m   \u001b[2m243 \u001b[0m\u001b[2m│   │   │   \u001b[0m\u001b[96mself\u001b[0m.mode,                                                                     \u001b[31m│\u001b[0m\n",
       "\u001b[31m│\u001b[0m   \u001b[2m244 \u001b[0m\u001b[2m│   │   │   \u001b[0mencoding=\u001b[96mself\u001b[0m.encoding,                                                        \u001b[31m│\u001b[0m\n",
       "\u001b[31m│\u001b[0m                                                                                                  \u001b[31m│\u001b[0m\n",
       "\u001b[31m│\u001b[0m \u001b[2;33m/opt/homebrew/Caskroom/miniforge/base/envs/DL-torch/lib/python3.8/site-packages/pandas/io/\u001b[0m\u001b[1;33mcommon\u001b[0m \u001b[31m│\u001b[0m\n",
       "\u001b[31m│\u001b[0m \u001b[1;33m.py\u001b[0m:\u001b[94m734\u001b[0m in \u001b[92mget_handle\u001b[0m                                                                            \u001b[31m│\u001b[0m\n",
       "\u001b[31m│\u001b[0m                                                                                                  \u001b[31m│\u001b[0m\n",
       "\u001b[31m│\u001b[0m   \u001b[2m 731 \u001b[0m\u001b[2m│   \u001b[0m                                                                                      \u001b[31m│\u001b[0m\n",
       "\u001b[31m│\u001b[0m   \u001b[2m 732 \u001b[0m\u001b[2m│   \u001b[0m\u001b[2m# Only for write methods\u001b[0m                                                              \u001b[31m│\u001b[0m\n",
       "\u001b[31m│\u001b[0m   \u001b[2m 733 \u001b[0m\u001b[2m│   \u001b[0m\u001b[94mif\u001b[0m \u001b[33m\"\u001b[0m\u001b[33mr\u001b[0m\u001b[33m\"\u001b[0m \u001b[95mnot\u001b[0m \u001b[95min\u001b[0m mode \u001b[95mand\u001b[0m is_path:                                                       \u001b[31m│\u001b[0m\n",
       "\u001b[31m│\u001b[0m \u001b[31m❱ \u001b[0m 734 \u001b[2m│   │   \u001b[0mcheck_parent_directory(\u001b[96mstr\u001b[0m(handle))                                               \u001b[31m│\u001b[0m\n",
       "\u001b[31m│\u001b[0m   \u001b[2m 735 \u001b[0m\u001b[2m│   \u001b[0m                                                                                      \u001b[31m│\u001b[0m\n",
       "\u001b[31m│\u001b[0m   \u001b[2m 736 \u001b[0m\u001b[2m│   \u001b[0m\u001b[94mif\u001b[0m compression:                                                                       \u001b[31m│\u001b[0m\n",
       "\u001b[31m│\u001b[0m   \u001b[2m 737 \u001b[0m\u001b[2m│   │   \u001b[0m\u001b[94mif\u001b[0m compression != \u001b[33m\"\u001b[0m\u001b[33mzstd\u001b[0m\u001b[33m\"\u001b[0m:                                                         \u001b[31m│\u001b[0m\n",
       "\u001b[31m│\u001b[0m                                                                                                  \u001b[31m│\u001b[0m\n",
       "\u001b[31m│\u001b[0m \u001b[2;33m/opt/homebrew/Caskroom/miniforge/base/envs/DL-torch/lib/python3.8/site-packages/pandas/io/\u001b[0m\u001b[1;33mcommon\u001b[0m \u001b[31m│\u001b[0m\n",
       "\u001b[31m│\u001b[0m \u001b[1;33m.py\u001b[0m:\u001b[94m597\u001b[0m in \u001b[92mcheck_parent_directory\u001b[0m                                                                \u001b[31m│\u001b[0m\n",
       "\u001b[31m│\u001b[0m                                                                                                  \u001b[31m│\u001b[0m\n",
       "\u001b[31m│\u001b[0m   \u001b[2m 594 \u001b[0m\u001b[2;33m│   \u001b[0m\u001b[33m\"\"\"\u001b[0m                                                                                   \u001b[31m│\u001b[0m\n",
       "\u001b[31m│\u001b[0m   \u001b[2m 595 \u001b[0m\u001b[2m│   \u001b[0mparent = Path(path).parent                                                            \u001b[31m│\u001b[0m\n",
       "\u001b[31m│\u001b[0m   \u001b[2m 596 \u001b[0m\u001b[2m│   \u001b[0m\u001b[94mif\u001b[0m \u001b[95mnot\u001b[0m parent.is_dir():                                                               \u001b[31m│\u001b[0m\n",
       "\u001b[31m│\u001b[0m \u001b[31m❱ \u001b[0m 597 \u001b[2m│   │   \u001b[0m\u001b[94mraise\u001b[0m \u001b[96mOSError\u001b[0m(\u001b[33mrf\u001b[0m\u001b[33m\"\u001b[0m\u001b[33mCannot save file into a non-existent directory: \u001b[0m\u001b[33m'\u001b[0m\u001b[33m{\u001b[0mparent\u001b[33m}\u001b[0m\u001b[33m'\u001b[0m\u001b[33m\"\u001b[0m)     \u001b[31m│\u001b[0m\n",
       "\u001b[31m│\u001b[0m   \u001b[2m 598 \u001b[0m                                                                                          \u001b[31m│\u001b[0m\n",
       "\u001b[31m│\u001b[0m   \u001b[2m 599 \u001b[0m                                                                                          \u001b[31m│\u001b[0m\n",
       "\u001b[31m│\u001b[0m   \u001b[2m 600 \u001b[0m\u001b[1;95m@overload\u001b[0m                                                                                 \u001b[31m│\u001b[0m\n",
       "\u001b[31m╰──────────────────────────────────────────────────────────────────────────────────────────────────╯\u001b[0m\n",
       "\u001b[1;91mOSError: \u001b[0mCannot save file into a non-existent directory: \u001b[32m'산림청'\u001b[0m\n"
      ]
     },
     "metadata": {},
     "output_type": "display_data"
    }
   ],
   "source": [
    "for i in list(df.cast.value_counts().index.tolist()):\n",
    "   tmp = df[df.cast == i]\n",
    "   tmp['keyword'] = tmp.msg.progress_apply(lambda x: kw_model.extract_keywords(x, keyphrase_ngram_range=(2,4), use_maxsum = True, top_n = 1))\n",
    "   tmp.to_csv(f'{i}.csv', index=False)\n",
    "   print(r'{i} complete')\n"
   ]
  },
  {
   "cell_type": "code",
   "execution_count": 18,
   "metadata": {},
   "outputs": [
    {
     "data": {
      "text/plain": [
       "57143"
      ]
     },
     "execution_count": 18,
     "metadata": {},
     "output_type": "execute_result"
    }
   ],
   "source": [
    "df.missing.isna().sum()"
   ]
  },
  {
   "cell_type": "code",
   "execution_count": 19,
   "metadata": {},
   "outputs": [
    {
     "data": {
      "text/plain": [
       "128149"
      ]
     },
     "execution_count": 19,
     "metadata": {},
     "output_type": "execute_result"
    }
   ],
   "source": [
    "185292 - 57143"
   ]
  },
  {
   "cell_type": "code",
   "execution_count": 20,
   "metadata": {},
   "outputs": [],
   "source": [
    "df['age'] = df['msg'].str.extract(r'(\\d+세)')"
   ]
  },
  {
   "cell_type": "code",
   "execution_count": 21,
   "metadata": {},
   "outputs": [
    {
     "data": {
      "text/plain": [
       "159820"
      ]
     },
     "execution_count": 21,
     "metadata": {},
     "output_type": "execute_result"
    }
   ],
   "source": [
    "df.age.isna().sum()"
   ]
  },
  {
   "cell_type": "code",
   "execution_count": 22,
   "metadata": {},
   "outputs": [
    {
     "data": {
      "text/html": [
       "<div>\n",
       "<style scoped>\n",
       "    .dataframe tbody tr th:only-of-type {\n",
       "        vertical-align: middle;\n",
       "    }\n",
       "\n",
       "    .dataframe tbody tr th {\n",
       "        vertical-align: top;\n",
       "    }\n",
       "\n",
       "    .dataframe thead th {\n",
       "        text-align: right;\n",
       "    }\n",
       "</style>\n",
       "<table border=\"1\" class=\"dataframe\">\n",
       "  <thead>\n",
       "    <tr style=\"text-align: right;\">\n",
       "      <th></th>\n",
       "      <th>create_date</th>\n",
       "      <th>location_id</th>\n",
       "      <th>location_name</th>\n",
       "      <th>md101_sn</th>\n",
       "      <th>msg</th>\n",
       "      <th>send_platform</th>\n",
       "      <th>cast</th>\n",
       "      <th>missing</th>\n",
       "      <th>age</th>\n",
       "    </tr>\n",
       "  </thead>\n",
       "  <tbody>\n",
       "    <tr>\n",
       "      <th>0</th>\n",
       "      <td>2023/11/26 17:15:18</td>\n",
       "      <td>151</td>\n",
       "      <td>서울특별시 서초구</td>\n",
       "      <td>207012</td>\n",
       "      <td>서초구에서 배회중인 이갑세씨(남,81세)를 찾습니다 -171cm,남색패딩조끼,자주색...</td>\n",
       "      <td>cbs</td>\n",
       "      <td>서울경찰청</td>\n",
       "      <td>남,81세</td>\n",
       "      <td>81세</td>\n",
       "    </tr>\n",
       "    <tr>\n",
       "      <th>1</th>\n",
       "      <td>2023/11/26 16:49:36</td>\n",
       "      <td>50</td>\n",
       "      <td>경기도 포천시</td>\n",
       "      <td>207011</td>\n",
       "      <td>포천시에서 실종된 한말녀씨(여,76세)를 찾습니다 -140cm,43kg,보라색패딩,...</td>\n",
       "      <td>cbs</td>\n",
       "      <td>경기북부경찰청</td>\n",
       "      <td>여,76세</td>\n",
       "      <td>76세</td>\n",
       "    </tr>\n",
       "    <tr>\n",
       "      <th>3</th>\n",
       "      <td>2023/11/26 13:41:35</td>\n",
       "      <td>137</td>\n",
       "      <td>서울특별시 강남구</td>\n",
       "      <td>207009</td>\n",
       "      <td>강남구에서 실종된 이갑세씨(남,81세)를 찾습니다 -163cm,남색패딩조끼,자주색긴...</td>\n",
       "      <td>cbs</td>\n",
       "      <td>서울경찰청</td>\n",
       "      <td>남,81세</td>\n",
       "      <td>81세</td>\n",
       "    </tr>\n",
       "    <tr>\n",
       "      <th>4</th>\n",
       "      <td>2023/11/26 13:14:23</td>\n",
       "      <td>174</td>\n",
       "      <td>인천광역시 부평구</td>\n",
       "      <td>207008</td>\n",
       "      <td>부평구에서 실종된 조태용씨(남,79세)를 찾습니다 -160cm,50kg,검정방한모,...</td>\n",
       "      <td>cbs</td>\n",
       "      <td>인천경찰청</td>\n",
       "      <td>남,79세</td>\n",
       "      <td>79세</td>\n",
       "    </tr>\n",
       "    <tr>\n",
       "      <th>5</th>\n",
       "      <td>2023/11/26 12:40:39</td>\n",
       "      <td>126</td>\n",
       "      <td>부산광역시 부산진구</td>\n",
       "      <td>207007</td>\n",
       "      <td>부산진구에서 배회중인 김재용씨(남,76세)를 찾습니다 -168cm,60kg,남색잠바...</td>\n",
       "      <td>cbs</td>\n",
       "      <td>부산경찰청</td>\n",
       "      <td>남,76세</td>\n",
       "      <td>76세</td>\n",
       "    </tr>\n",
       "    <tr>\n",
       "      <th>...</th>\n",
       "      <td>...</td>\n",
       "      <td>...</td>\n",
       "      <td>...</td>\n",
       "      <td>...</td>\n",
       "      <td>...</td>\n",
       "      <td>...</td>\n",
       "      <td>...</td>\n",
       "      <td>...</td>\n",
       "      <td>...</td>\n",
       "    </tr>\n",
       "    <tr>\n",
       "      <th>180253</th>\n",
       "      <td>2020/02/22 11:11:45</td>\n",
       "      <td>214</td>\n",
       "      <td>전라북도 전주시</td>\n",
       "      <td>25607</td>\n",
       "      <td>전북3번째확진자(36세,남,전북2번째 직장동료)이동경로 1차 방역조치 결과 다솔아동...</td>\n",
       "      <td>cbs</td>\n",
       "      <td>전주시청</td>\n",
       "      <td>36세,남,전북2번째 직장동료</td>\n",
       "      <td>36세</td>\n",
       "    </tr>\n",
       "    <tr>\n",
       "      <th>180257</th>\n",
       "      <td>2020/02/22 11:01:28</td>\n",
       "      <td>214</td>\n",
       "      <td>전라북도 전주시</td>\n",
       "      <td>25603</td>\n",
       "      <td>1.전북3번째 확진자(36세,남,서신동거주, 전북2번째 확진자 직장동료) 이동결과 ...</td>\n",
       "      <td>cbs</td>\n",
       "      <td>전주시청</td>\n",
       "      <td>36세,남,서신동거주, 전북2번째 확진자 직장동료</td>\n",
       "      <td>36세</td>\n",
       "    </tr>\n",
       "    <tr>\n",
       "      <th>180392</th>\n",
       "      <td>2020/02/20 20:13:48</td>\n",
       "      <td>214</td>\n",
       "      <td>전라북도 전주시</td>\n",
       "      <td>25468</td>\n",
       "      <td>금일저녁 18시경 김제시 거주 코로나19확진자(28세,남)가 전주 서신동 국민연금공...</td>\n",
       "      <td>cbs</td>\n",
       "      <td>전주시청</td>\n",
       "      <td>28세,남</td>\n",
       "      <td>28세</td>\n",
       "    </tr>\n",
       "    <tr>\n",
       "      <th>180614</th>\n",
       "      <td>2020/02/05 11:18:34</td>\n",
       "      <td>181</td>\n",
       "      <td>전라남도 고흥군</td>\n",
       "      <td>25246</td>\n",
       "      <td>신종 코로나바이러스 관련, 1/28~2/3 광주21세기병원, 2/3 전남대학교병원에...</td>\n",
       "      <td>cbs</td>\n",
       "      <td>고흥군청</td>\n",
       "      <td>830-6688</td>\n",
       "      <td>21세</td>\n",
       "    </tr>\n",
       "    <tr>\n",
       "      <th>181482</th>\n",
       "      <td>2019/04/05 01:41:59</td>\n",
       "      <td>7</td>\n",
       "      <td>강원도 속초시</td>\n",
       "      <td>24373</td>\n",
       "      <td>교동일대 아파트(현대1차, 명지, 대명5차, 영랑호 대림), 교동주택 등 총 6,3...</td>\n",
       "      <td>cbs</td>\n",
       "      <td>속초시청</td>\n",
       "      <td>현대1차, 명지, 대명5차, 영랑호 대림</td>\n",
       "      <td>315세</td>\n",
       "    </tr>\n",
       "  </tbody>\n",
       "</table>\n",
       "<p>25472 rows × 9 columns</p>\n",
       "</div>"
      ],
      "text/plain": [
       "                create_date location_id location_name  md101_sn  \\\n",
       "0       2023/11/26 17:15:18         151     서울특별시 서초구    207012   \n",
       "1       2023/11/26 16:49:36          50       경기도 포천시    207011   \n",
       "3       2023/11/26 13:41:35         137     서울특별시 강남구    207009   \n",
       "4       2023/11/26 13:14:23         174     인천광역시 부평구    207008   \n",
       "5       2023/11/26 12:40:39         126    부산광역시 부산진구    207007   \n",
       "...                     ...         ...           ...       ...   \n",
       "180253  2020/02/22 11:11:45         214      전라북도 전주시     25607   \n",
       "180257  2020/02/22 11:01:28         214      전라북도 전주시     25603   \n",
       "180392  2020/02/20 20:13:48         214      전라북도 전주시     25468   \n",
       "180614  2020/02/05 11:18:34         181      전라남도 고흥군     25246   \n",
       "181482  2019/04/05 01:41:59           7       강원도 속초시     24373   \n",
       "\n",
       "                                                      msg send_platform  \\\n",
       "0       서초구에서 배회중인 이갑세씨(남,81세)를 찾습니다 -171cm,남색패딩조끼,자주색...           cbs   \n",
       "1       포천시에서 실종된 한말녀씨(여,76세)를 찾습니다 -140cm,43kg,보라색패딩,...           cbs   \n",
       "3       강남구에서 실종된 이갑세씨(남,81세)를 찾습니다 -163cm,남색패딩조끼,자주색긴...           cbs   \n",
       "4       부평구에서 실종된 조태용씨(남,79세)를 찾습니다 -160cm,50kg,검정방한모,...           cbs   \n",
       "5       부산진구에서 배회중인 김재용씨(남,76세)를 찾습니다 -168cm,60kg,남색잠바...           cbs   \n",
       "...                                                   ...           ...   \n",
       "180253  전북3번째확진자(36세,남,전북2번째 직장동료)이동경로 1차 방역조치 결과 다솔아동...           cbs   \n",
       "180257  1.전북3번째 확진자(36세,남,서신동거주, 전북2번째 확진자 직장동료) 이동결과 ...           cbs   \n",
       "180392  금일저녁 18시경 김제시 거주 코로나19확진자(28세,남)가 전주 서신동 국민연금공...           cbs   \n",
       "180614  신종 코로나바이러스 관련, 1/28~2/3 광주21세기병원, 2/3 전남대학교병원에...           cbs   \n",
       "181482  교동일대 아파트(현대1차, 명지, 대명5차, 영랑호 대림), 교동주택 등 총 6,3...           cbs   \n",
       "\n",
       "           cast                      missing   age  \n",
       "0         서울경찰청                        남,81세   81세  \n",
       "1       경기북부경찰청                        여,76세   76세  \n",
       "3         서울경찰청                        남,81세   81세  \n",
       "4         인천경찰청                        남,79세   79세  \n",
       "5         부산경찰청                        남,76세   76세  \n",
       "...         ...                          ...   ...  \n",
       "180253     전주시청             36세,남,전북2번째 직장동료   36세  \n",
       "180257     전주시청  36세,남,서신동거주, 전북2번째 확진자 직장동료   36세  \n",
       "180392     전주시청                        28세,남   28세  \n",
       "180614     고흥군청                     830-6688   21세  \n",
       "181482     속초시청       현대1차, 명지, 대명5차, 영랑호 대림  315세  \n",
       "\n",
       "[25472 rows x 9 columns]"
      ]
     },
     "execution_count": 22,
     "metadata": {},
     "output_type": "execute_result"
    }
   ],
   "source": [
    "df[df.age.isna() == False]"
   ]
  },
  {
   "cell_type": "code",
   "execution_count": 23,
   "metadata": {},
   "outputs": [
    {
     "data": {
      "text/plain": [
       "185292"
      ]
     },
     "execution_count": 23,
     "metadata": {},
     "output_type": "execute_result"
    }
   ],
   "source": [
    "len(df)"
   ]
  },
  {
   "cell_type": "code",
   "execution_count": 24,
   "metadata": {},
   "outputs": [
    {
     "data": {
      "text/plain": [
       "25483"
      ]
     },
     "execution_count": 24,
     "metadata": {},
     "output_type": "execute_result"
    }
   ],
   "source": [
    "185292 - 159809"
   ]
  },
  {
   "cell_type": "code",
   "execution_count": 25,
   "metadata": {},
   "outputs": [
    {
     "data": {
      "text/html": [
       "<div>\n",
       "<style scoped>\n",
       "    .dataframe tbody tr th:only-of-type {\n",
       "        vertical-align: middle;\n",
       "    }\n",
       "\n",
       "    .dataframe tbody tr th {\n",
       "        vertical-align: top;\n",
       "    }\n",
       "\n",
       "    .dataframe thead th {\n",
       "        text-align: right;\n",
       "    }\n",
       "</style>\n",
       "<table border=\"1\" class=\"dataframe\">\n",
       "  <thead>\n",
       "    <tr style=\"text-align: right;\">\n",
       "      <th></th>\n",
       "      <th>create_date</th>\n",
       "      <th>location_id</th>\n",
       "      <th>location_name</th>\n",
       "      <th>md101_sn</th>\n",
       "      <th>msg</th>\n",
       "      <th>send_platform</th>\n",
       "      <th>cast</th>\n",
       "      <th>missing</th>\n",
       "      <th>age</th>\n",
       "    </tr>\n",
       "  </thead>\n",
       "  <tbody>\n",
       "    <tr>\n",
       "      <th>0</th>\n",
       "      <td>2023/11/26 17:15:18</td>\n",
       "      <td>151</td>\n",
       "      <td>서울특별시 서초구</td>\n",
       "      <td>207012</td>\n",
       "      <td>서초구에서 배회중인 이갑세씨(남,81세)를 찾습니다 -171cm,남색패딩조끼,자주색...</td>\n",
       "      <td>cbs</td>\n",
       "      <td>서울경찰청</td>\n",
       "      <td>남,81세</td>\n",
       "      <td>81세</td>\n",
       "    </tr>\n",
       "    <tr>\n",
       "      <th>1</th>\n",
       "      <td>2023/11/26 16:49:36</td>\n",
       "      <td>50</td>\n",
       "      <td>경기도 포천시</td>\n",
       "      <td>207011</td>\n",
       "      <td>포천시에서 실종된 한말녀씨(여,76세)를 찾습니다 -140cm,43kg,보라색패딩,...</td>\n",
       "      <td>cbs</td>\n",
       "      <td>경기북부경찰청</td>\n",
       "      <td>여,76세</td>\n",
       "      <td>76세</td>\n",
       "    </tr>\n",
       "    <tr>\n",
       "      <th>3</th>\n",
       "      <td>2023/11/26 13:41:35</td>\n",
       "      <td>137</td>\n",
       "      <td>서울특별시 강남구</td>\n",
       "      <td>207009</td>\n",
       "      <td>강남구에서 실종된 이갑세씨(남,81세)를 찾습니다 -163cm,남색패딩조끼,자주색긴...</td>\n",
       "      <td>cbs</td>\n",
       "      <td>서울경찰청</td>\n",
       "      <td>남,81세</td>\n",
       "      <td>81세</td>\n",
       "    </tr>\n",
       "    <tr>\n",
       "      <th>4</th>\n",
       "      <td>2023/11/26 13:14:23</td>\n",
       "      <td>174</td>\n",
       "      <td>인천광역시 부평구</td>\n",
       "      <td>207008</td>\n",
       "      <td>부평구에서 실종된 조태용씨(남,79세)를 찾습니다 -160cm,50kg,검정방한모,...</td>\n",
       "      <td>cbs</td>\n",
       "      <td>인천경찰청</td>\n",
       "      <td>남,79세</td>\n",
       "      <td>79세</td>\n",
       "    </tr>\n",
       "    <tr>\n",
       "      <th>5</th>\n",
       "      <td>2023/11/26 12:40:39</td>\n",
       "      <td>126</td>\n",
       "      <td>부산광역시 부산진구</td>\n",
       "      <td>207007</td>\n",
       "      <td>부산진구에서 배회중인 김재용씨(남,76세)를 찾습니다 -168cm,60kg,남색잠바...</td>\n",
       "      <td>cbs</td>\n",
       "      <td>부산경찰청</td>\n",
       "      <td>남,76세</td>\n",
       "      <td>76세</td>\n",
       "    </tr>\n",
       "    <tr>\n",
       "      <th>...</th>\n",
       "      <td>...</td>\n",
       "      <td>...</td>\n",
       "      <td>...</td>\n",
       "      <td>...</td>\n",
       "      <td>...</td>\n",
       "      <td>...</td>\n",
       "      <td>...</td>\n",
       "      <td>...</td>\n",
       "      <td>...</td>\n",
       "    </tr>\n",
       "    <tr>\n",
       "      <th>175748</th>\n",
       "      <td>2020/03/16 08:37:22</td>\n",
       "      <td>234</td>\n",
       "      <td>충청남도 천안시</td>\n",
       "      <td>30115</td>\n",
       "      <td>코로나19 확진자 관련, 개인택시 탑승자(2.24~3.3)를 찾습니다. 시홈페이지,...</td>\n",
       "      <td>cbs</td>\n",
       "      <td>천안시청</td>\n",
       "      <td>2.24~3.3</td>\n",
       "      <td>NaN</td>\n",
       "    </tr>\n",
       "    <tr>\n",
       "      <th>179379</th>\n",
       "      <td>2020/02/25 18:09:26</td>\n",
       "      <td>248</td>\n",
       "      <td>충청북도 청주시</td>\n",
       "      <td>26481</td>\n",
       "      <td>1.코로나19 확진자 택시 현금 탑승자 2명을 급히 찾습니다. 청주시와 보건소 홈페...</td>\n",
       "      <td>cbs</td>\n",
       "      <td>청주시청</td>\n",
       "      <td>NaN</td>\n",
       "      <td>NaN</td>\n",
       "    </tr>\n",
       "    <tr>\n",
       "      <th>179556</th>\n",
       "      <td>2020/02/25 11:11:26</td>\n",
       "      <td>248</td>\n",
       "      <td>충청북도 청주시</td>\n",
       "      <td>26304</td>\n",
       "      <td>코로나19 확진자 택시 현금 탑승자 7명을 급히 찾습니다. 청주시와 보건소 홈페이지...</td>\n",
       "      <td>cbs</td>\n",
       "      <td>청주시청</td>\n",
       "      <td>NaN</td>\n",
       "      <td>NaN</td>\n",
       "    </tr>\n",
       "    <tr>\n",
       "      <th>179801</th>\n",
       "      <td>2020/02/24 12:32:22</td>\n",
       "      <td>248</td>\n",
       "      <td>충청북도 청주시</td>\n",
       "      <td>26059</td>\n",
       "      <td>코로나19 확진자 택시 현금 결제자를 찾습니다. 청주시와 보건소 홈페이지에 관련 정...</td>\n",
       "      <td>cbs</td>\n",
       "      <td>청주시청</td>\n",
       "      <td>NaN</td>\n",
       "      <td>NaN</td>\n",
       "    </tr>\n",
       "    <tr>\n",
       "      <th>179985</th>\n",
       "      <td>2020/02/23 15:52:20</td>\n",
       "      <td>248</td>\n",
       "      <td>충청북도 청주시</td>\n",
       "      <td>25875</td>\n",
       "      <td>코로나19 확진자 관련 탑승자를 찾습니다. 청주시와 각 구 보건소 홈페이지에 관련 ...</td>\n",
       "      <td>cbs</td>\n",
       "      <td>청주시청</td>\n",
       "      <td>NaN</td>\n",
       "      <td>NaN</td>\n",
       "    </tr>\n",
       "  </tbody>\n",
       "</table>\n",
       "<p>6486 rows × 9 columns</p>\n",
       "</div>"
      ],
      "text/plain": [
       "                create_date location_id location_name  md101_sn  \\\n",
       "0       2023/11/26 17:15:18         151     서울특별시 서초구    207012   \n",
       "1       2023/11/26 16:49:36          50       경기도 포천시    207011   \n",
       "3       2023/11/26 13:41:35         137     서울특별시 강남구    207009   \n",
       "4       2023/11/26 13:14:23         174     인천광역시 부평구    207008   \n",
       "5       2023/11/26 12:40:39         126    부산광역시 부산진구    207007   \n",
       "...                     ...         ...           ...       ...   \n",
       "175748  2020/03/16 08:37:22         234      충청남도 천안시     30115   \n",
       "179379  2020/02/25 18:09:26         248      충청북도 청주시     26481   \n",
       "179556  2020/02/25 11:11:26         248      충청북도 청주시     26304   \n",
       "179801  2020/02/24 12:32:22         248      충청북도 청주시     26059   \n",
       "179985  2020/02/23 15:52:20         248      충청북도 청주시     25875   \n",
       "\n",
       "                                                      msg send_platform  \\\n",
       "0       서초구에서 배회중인 이갑세씨(남,81세)를 찾습니다 -171cm,남색패딩조끼,자주색...           cbs   \n",
       "1       포천시에서 실종된 한말녀씨(여,76세)를 찾습니다 -140cm,43kg,보라색패딩,...           cbs   \n",
       "3       강남구에서 실종된 이갑세씨(남,81세)를 찾습니다 -163cm,남색패딩조끼,자주색긴...           cbs   \n",
       "4       부평구에서 실종된 조태용씨(남,79세)를 찾습니다 -160cm,50kg,검정방한모,...           cbs   \n",
       "5       부산진구에서 배회중인 김재용씨(남,76세)를 찾습니다 -168cm,60kg,남색잠바...           cbs   \n",
       "...                                                   ...           ...   \n",
       "175748  코로나19 확진자 관련, 개인택시 탑승자(2.24~3.3)를 찾습니다. 시홈페이지,...           cbs   \n",
       "179379  1.코로나19 확진자 택시 현금 탑승자 2명을 급히 찾습니다. 청주시와 보건소 홈페...           cbs   \n",
       "179556  코로나19 확진자 택시 현금 탑승자 7명을 급히 찾습니다. 청주시와 보건소 홈페이지...           cbs   \n",
       "179801  코로나19 확진자 택시 현금 결제자를 찾습니다. 청주시와 보건소 홈페이지에 관련 정...           cbs   \n",
       "179985  코로나19 확진자 관련 탑승자를 찾습니다. 청주시와 각 구 보건소 홈페이지에 관련 ...           cbs   \n",
       "\n",
       "           cast   missing  age  \n",
       "0         서울경찰청     남,81세  81세  \n",
       "1       경기북부경찰청     여,76세  76세  \n",
       "3         서울경찰청     남,81세  81세  \n",
       "4         인천경찰청     남,79세  79세  \n",
       "5         부산경찰청     남,76세  76세  \n",
       "...         ...       ...  ...  \n",
       "175748     천안시청  2.24~3.3  NaN  \n",
       "179379     청주시청       NaN  NaN  \n",
       "179556     청주시청       NaN  NaN  \n",
       "179801     청주시청       NaN  NaN  \n",
       "179985     청주시청       NaN  NaN  \n",
       "\n",
       "[6486 rows x 9 columns]"
      ]
     },
     "execution_count": 25,
     "metadata": {},
     "output_type": "execute_result"
    }
   ],
   "source": [
    "df[df.msg.str.contains('찾습니다') == True]"
   ]
  },
  {
   "cell_type": "code",
   "execution_count": 26,
   "metadata": {},
   "outputs": [
    {
     "data": {
      "text/html": [
       "<div>\n",
       "<style scoped>\n",
       "    .dataframe tbody tr th:only-of-type {\n",
       "        vertical-align: middle;\n",
       "    }\n",
       "\n",
       "    .dataframe tbody tr th {\n",
       "        vertical-align: top;\n",
       "    }\n",
       "\n",
       "    .dataframe thead th {\n",
       "        text-align: right;\n",
       "    }\n",
       "</style>\n",
       "<table border=\"1\" class=\"dataframe\">\n",
       "  <thead>\n",
       "    <tr style=\"text-align: right;\">\n",
       "      <th></th>\n",
       "      <th>create_date</th>\n",
       "      <th>location_id</th>\n",
       "      <th>location_name</th>\n",
       "      <th>md101_sn</th>\n",
       "      <th>msg</th>\n",
       "      <th>send_platform</th>\n",
       "      <th>cast</th>\n",
       "      <th>missing</th>\n",
       "      <th>age</th>\n",
       "    </tr>\n",
       "  </thead>\n",
       "  <tbody>\n",
       "    <tr>\n",
       "      <th>0</th>\n",
       "      <td>2023/11/26 17:15:18</td>\n",
       "      <td>151</td>\n",
       "      <td>서울특별시 서초구</td>\n",
       "      <td>207012</td>\n",
       "      <td>서초구에서 배회중인 이갑세씨(남,81세)를 찾습니다 -171cm,남색패딩조끼,자주색...</td>\n",
       "      <td>cbs</td>\n",
       "      <td>서울경찰청</td>\n",
       "      <td>남,81세</td>\n",
       "      <td>81세</td>\n",
       "    </tr>\n",
       "    <tr>\n",
       "      <th>1</th>\n",
       "      <td>2023/11/26 16:49:36</td>\n",
       "      <td>50</td>\n",
       "      <td>경기도 포천시</td>\n",
       "      <td>207011</td>\n",
       "      <td>포천시에서 실종된 한말녀씨(여,76세)를 찾습니다 -140cm,43kg,보라색패딩,...</td>\n",
       "      <td>cbs</td>\n",
       "      <td>경기북부경찰청</td>\n",
       "      <td>여,76세</td>\n",
       "      <td>76세</td>\n",
       "    </tr>\n",
       "    <tr>\n",
       "      <th>3</th>\n",
       "      <td>2023/11/26 13:41:35</td>\n",
       "      <td>137</td>\n",
       "      <td>서울특별시 강남구</td>\n",
       "      <td>207009</td>\n",
       "      <td>강남구에서 실종된 이갑세씨(남,81세)를 찾습니다 -163cm,남색패딩조끼,자주색긴...</td>\n",
       "      <td>cbs</td>\n",
       "      <td>서울경찰청</td>\n",
       "      <td>남,81세</td>\n",
       "      <td>81세</td>\n",
       "    </tr>\n",
       "    <tr>\n",
       "      <th>4</th>\n",
       "      <td>2023/11/26 13:14:23</td>\n",
       "      <td>174</td>\n",
       "      <td>인천광역시 부평구</td>\n",
       "      <td>207008</td>\n",
       "      <td>부평구에서 실종된 조태용씨(남,79세)를 찾습니다 -160cm,50kg,검정방한모,...</td>\n",
       "      <td>cbs</td>\n",
       "      <td>인천경찰청</td>\n",
       "      <td>남,79세</td>\n",
       "      <td>79세</td>\n",
       "    </tr>\n",
       "    <tr>\n",
       "      <th>5</th>\n",
       "      <td>2023/11/26 12:40:39</td>\n",
       "      <td>126</td>\n",
       "      <td>부산광역시 부산진구</td>\n",
       "      <td>207007</td>\n",
       "      <td>부산진구에서 배회중인 김재용씨(남,76세)를 찾습니다 -168cm,60kg,남색잠바...</td>\n",
       "      <td>cbs</td>\n",
       "      <td>부산경찰청</td>\n",
       "      <td>남,76세</td>\n",
       "      <td>76세</td>\n",
       "    </tr>\n",
       "    <tr>\n",
       "      <th>...</th>\n",
       "      <td>...</td>\n",
       "      <td>...</td>\n",
       "      <td>...</td>\n",
       "      <td>...</td>\n",
       "      <td>...</td>\n",
       "      <td>...</td>\n",
       "      <td>...</td>\n",
       "      <td>...</td>\n",
       "      <td>...</td>\n",
       "    </tr>\n",
       "    <tr>\n",
       "      <th>166018</th>\n",
       "      <td>2020/07/07 10:19:10</td>\n",
       "      <td>12</td>\n",
       "      <td>강원도 인제군</td>\n",
       "      <td>39848</td>\n",
       "      <td>대북풍선 살포는 주민의 안전을 위협하는 행위입니다. 살포 예상장소를 배회하는 외지차...</td>\n",
       "      <td>cbs</td>\n",
       "      <td>인제군청</td>\n",
       "      <td>NaN</td>\n",
       "      <td>NaN</td>\n",
       "    </tr>\n",
       "    <tr>\n",
       "      <th>166021</th>\n",
       "      <td>2020/07/07 10:04:37</td>\n",
       "      <td>4</td>\n",
       "      <td>강원도 고성군</td>\n",
       "      <td>39845</td>\n",
       "      <td>대북물자(풍선.쌀) 살포는 주민안전을 위협하는 행위임을 알려드리며 공터를 배회하는 ...</td>\n",
       "      <td>cbs</td>\n",
       "      <td>고성군청</td>\n",
       "      <td>풍선.쌀</td>\n",
       "      <td>NaN</td>\n",
       "    </tr>\n",
       "    <tr>\n",
       "      <th>166072</th>\n",
       "      <td>2020/07/06 17:09:45</td>\n",
       "      <td>8</td>\n",
       "      <td>강원도 양구군</td>\n",
       "      <td>39794</td>\n",
       "      <td>대북풍선 살포는 주민안전을 위협하는 행위임. 농로나 공터를 배회하는 외지차 및 '허...</td>\n",
       "      <td>cbs</td>\n",
       "      <td>양구군청</td>\n",
       "      <td>NaN</td>\n",
       "      <td>NaN</td>\n",
       "    </tr>\n",
       "    <tr>\n",
       "      <th>166083</th>\n",
       "      <td>2020/07/06 15:39:56</td>\n",
       "      <td>19</td>\n",
       "      <td>강원도 화천군</td>\n",
       "      <td>39783</td>\n",
       "      <td>대북풍선 살포는 주민안전을 위협하는 행위입니다. 농로나 공터를 배회하는 외지차 및 ...</td>\n",
       "      <td>cbs</td>\n",
       "      <td>화천군청</td>\n",
       "      <td>NaN</td>\n",
       "      <td>NaN</td>\n",
       "    </tr>\n",
       "    <tr>\n",
       "      <th>174550</th>\n",
       "      <td>2020/03/25 20:37:22</td>\n",
       "      <td>63</td>\n",
       "      <td>경상남도 양산시</td>\n",
       "      <td>31313</td>\n",
       "      <td>확진자(대구) 추가 접촉자 자가격리(4명) : LPG충전소 종사자(1)/유일라이팅 ...</td>\n",
       "      <td>cbs</td>\n",
       "      <td>양산시청</td>\n",
       "      <td>대구</td>\n",
       "      <td>NaN</td>\n",
       "    </tr>\n",
       "  </tbody>\n",
       "</table>\n",
       "<p>6489 rows × 9 columns</p>\n",
       "</div>"
      ],
      "text/plain": [
       "                create_date location_id location_name  md101_sn  \\\n",
       "0       2023/11/26 17:15:18         151     서울특별시 서초구    207012   \n",
       "1       2023/11/26 16:49:36          50       경기도 포천시    207011   \n",
       "3       2023/11/26 13:41:35         137     서울특별시 강남구    207009   \n",
       "4       2023/11/26 13:14:23         174     인천광역시 부평구    207008   \n",
       "5       2023/11/26 12:40:39         126    부산광역시 부산진구    207007   \n",
       "...                     ...         ...           ...       ...   \n",
       "166018  2020/07/07 10:19:10          12       강원도 인제군     39848   \n",
       "166021  2020/07/07 10:04:37           4       강원도 고성군     39845   \n",
       "166072  2020/07/06 17:09:45           8       강원도 양구군     39794   \n",
       "166083  2020/07/06 15:39:56          19       강원도 화천군     39783   \n",
       "174550  2020/03/25 20:37:22          63      경상남도 양산시     31313   \n",
       "\n",
       "                                                      msg send_platform  \\\n",
       "0       서초구에서 배회중인 이갑세씨(남,81세)를 찾습니다 -171cm,남색패딩조끼,자주색...           cbs   \n",
       "1       포천시에서 실종된 한말녀씨(여,76세)를 찾습니다 -140cm,43kg,보라색패딩,...           cbs   \n",
       "3       강남구에서 실종된 이갑세씨(남,81세)를 찾습니다 -163cm,남색패딩조끼,자주색긴...           cbs   \n",
       "4       부평구에서 실종된 조태용씨(남,79세)를 찾습니다 -160cm,50kg,검정방한모,...           cbs   \n",
       "5       부산진구에서 배회중인 김재용씨(남,76세)를 찾습니다 -168cm,60kg,남색잠바...           cbs   \n",
       "...                                                   ...           ...   \n",
       "166018  대북풍선 살포는 주민의 안전을 위협하는 행위입니다. 살포 예상장소를 배회하는 외지차...           cbs   \n",
       "166021  대북물자(풍선.쌀) 살포는 주민안전을 위협하는 행위임을 알려드리며 공터를 배회하는 ...           cbs   \n",
       "166072  대북풍선 살포는 주민안전을 위협하는 행위임. 농로나 공터를 배회하는 외지차 및 '허...           cbs   \n",
       "166083  대북풍선 살포는 주민안전을 위협하는 행위입니다. 농로나 공터를 배회하는 외지차 및 ...           cbs   \n",
       "174550  확진자(대구) 추가 접촉자 자가격리(4명) : LPG충전소 종사자(1)/유일라이팅 ...           cbs   \n",
       "\n",
       "           cast missing  age  \n",
       "0         서울경찰청   남,81세  81세  \n",
       "1       경기북부경찰청   여,76세  76세  \n",
       "3         서울경찰청   남,81세  81세  \n",
       "4         인천경찰청   남,79세  79세  \n",
       "5         부산경찰청   남,76세  76세  \n",
       "...         ...     ...  ...  \n",
       "166018     인제군청     NaN  NaN  \n",
       "166021     고성군청    풍선.쌀  NaN  \n",
       "166072     양구군청     NaN  NaN  \n",
       "166083     화천군청     NaN  NaN  \n",
       "174550     양산시청      대구  NaN  \n",
       "\n",
       "[6489 rows x 9 columns]"
      ]
     },
     "execution_count": 26,
     "metadata": {},
     "output_type": "execute_result"
    }
   ],
   "source": [
    "df[df.msg.str.contains('배회|실종') == True]"
   ]
  },
  {
   "cell_type": "code",
   "execution_count": 27,
   "metadata": {},
   "outputs": [],
   "source": [
    "from keybert import KeyBERT"
   ]
  },
  {
   "cell_type": "code",
   "execution_count": 28,
   "metadata": {},
   "outputs": [],
   "source": [
    "tqdm.pandas()"
   ]
  },
  {
   "cell_type": "code",
   "execution_count": 29,
   "metadata": {},
   "outputs": [],
   "source": [
    "kw_model = KeyBERT()\n",
    "keywords = kw_model.extract_keywords(df.msg[0],keyphrase_ngram_range=(2,4),use_maxsum = True,top_n = 20)"
   ]
  },
  {
   "cell_type": "code",
   "execution_count": 30,
   "metadata": {},
   "outputs": [
    {
     "data": {
      "text/plain": [
       "[('남색패딩조끼 자주색긴팔니트 검정바지', 0.4505),\n",
       " ('남색패딩조끼 자주색긴팔니트 검정바지 vo', 0.4524),\n",
       " ('자주색긴팔니트 검정바지 vo la', 0.4559),\n",
       " ('찾습니다 171cm 남색패딩조끼', 0.4928),\n",
       " ('찾습니다 171cm', 0.518),\n",
       " ('171cm 남색패딩조끼', 0.5185),\n",
       " ('서초구에서 배회중인', 0.5296),\n",
       " ('배회중인 이갑세씨', 0.5998),\n",
       " ('서초구에서 배회중인 이갑세씨 81세', 0.6017),\n",
       " ('81세 찾습니다 171cm 남색패딩조끼', 0.6052),\n",
       " ('81세 찾습니다 171cm', 0.6123),\n",
       " ('이갑세씨 81세', 0.6258),\n",
       " ('이갑세씨 81세 찾습니다', 0.6304),\n",
       " ('배회중인 이갑세씨 81세 찾습니다', 0.6326),\n",
       " ('배회중인 이갑세씨 81세', 0.6351),\n",
       " ('서초구에서 배회중인 이갑세씨', 0.662),\n",
       " ('171cm 남색패딩조끼 자주색긴팔니트 검정바지', 0.6715),\n",
       " ('찾습니다 171cm 남색패딩조끼 자주색긴팔니트', 0.6821),\n",
       " ('171cm 남색패딩조끼 자주색긴팔니트', 0.6861),\n",
       " ('이갑세씨 81세 찾습니다 171cm', 0.7739)]"
      ]
     },
     "execution_count": 30,
     "metadata": {},
     "output_type": "execute_result"
    }
   ],
   "source": [
    "keywords "
   ]
  },
  {
   "cell_type": "code",
   "execution_count": 31,
   "metadata": {},
   "outputs": [
    {
     "data": {
      "text/plain": [
       "'서초구에서 배회중인 이갑세씨(남,81세)를 찾습니다 -171cm,남색패딩조끼,자주색긴팔니트,검정바지 vo.la/SzyNn / ☎182'"
      ]
     },
     "execution_count": 31,
     "metadata": {},
     "output_type": "execute_result"
    }
   ],
   "source": [
    "df.msg[0]"
   ]
  },
  {
   "cell_type": "code",
   "execution_count": 32,
   "metadata": {},
   "outputs": [
    {
     "data": {
      "text/plain": [
       "('이갑세씨 81세 찾습니다 171cm', 0.7739)"
      ]
     },
     "execution_count": 32,
     "metadata": {},
     "output_type": "execute_result"
    }
   ],
   "source": [
    "keywords[-1]"
   ]
  },
  {
   "cell_type": "code",
   "execution_count": 37,
   "metadata": {},
   "outputs": [
    {
     "name": "stderr",
     "output_type": "stream",
     "text": [
      "100%|██████████| 185292/185292 [32:31:54<00:00,  1.58it/s]      \n"
     ]
    }
   ],
   "source": [
    "df['keyword'] = df.msg.progress_apply(lambda x: kw_model.extract_keywords(x, keyphrase_ngram_range=(2,4), use_maxsum = True, top_n = 1))"
   ]
  },
  {
   "cell_type": "code",
   "execution_count": 1,
   "metadata": {},
   "outputs": [
    {
     "ename": "NameError",
     "evalue": "name 'df' is not defined",
     "output_type": "error",
     "traceback": [
      "\u001b[0;31m---------------------------------------------------------------------------\u001b[0m",
      "\u001b[0;31mNameError\u001b[0m                                 Traceback (most recent call last)",
      "\u001b[1;32m/Users/seongyeon/Library/Mobile Documents/com~apple~CloudDocs/AI_Study/학회/팀프로젝트/eda.ipynb Cell 39\u001b[0m line \u001b[0;36m1\n\u001b[0;32m----> <a href='vscode-notebook-cell:/Users/seongyeon/Library/Mobile%20Documents/com~apple~CloudDocs/AI_Study/%E1%84%92%E1%85%A1%E1%86%A8%E1%84%92%E1%85%AC/%E1%84%90%E1%85%B5%E1%86%B7%E1%84%91%E1%85%B3%E1%84%85%E1%85%A9%E1%84%8C%E1%85%A6%E1%86%A8%E1%84%90%E1%85%B3/eda.ipynb#X53sZmlsZQ%3D%3D?line=0'>1</a>\u001b[0m df\n",
      "\u001b[0;31mNameError\u001b[0m: name 'df' is not defined"
     ]
    }
   ],
   "source": [
    "df.to_csv('df_keyword.csv')"
   ]
  },
  {
   "cell_type": "markdown",
   "metadata": {},
   "source": []
  },
  {
   "cell_type": "code",
   "execution_count": 8,
   "metadata": {},
   "outputs": [],
   "source": [
    "### xml을 DataFrame으로 변환하기\n",
    "from os import name\n",
    "import xml.etree.ElementTree as ex\n",
    "import pandas as pd\n",
    "import bs4\n",
    "from lxml import html\n",
    "from urllib.parse import urlencode, quote_plus, unquote\n",
    "import numpy as np\n",
    "\n",
    "# 라이브러리 import\n",
    "import requests \n",
    "import pprint\n",
    "\n",
    "from tqdm import tqdm, trange\n",
    "\n",
    "import re\n",
    "\n",
    "df = pd.read_csv('msg.csv')\n",
    "df.dropna(inplace=True)\n",
    "\n",
    "\n",
    "\n",
    "kw_model = KeyBERT()\n",
    "keywords = kw_model.extract_keywords(df.msg[0],keyphrase_ngram_range=(2,4),use_maxsum = True,top_n = 20)\n"
   ]
  },
  {
   "cell_type": "code",
   "execution_count": 12,
   "metadata": {},
   "outputs": [
    {
     "data": {
      "text/plain": [
       "(185292, 6)"
      ]
     },
     "execution_count": 12,
     "metadata": {},
     "output_type": "execute_result"
    }
   ],
   "source": [
    "df.shape"
   ]
  },
  {
   "cell_type": "code",
   "execution_count": null,
   "metadata": {},
   "outputs": [],
   "source": []
  },
  {
   "cell_type": "code",
   "execution_count": null,
   "metadata": {},
   "outputs": [],
   "source": [
    "for i in range"
   ]
  },
  {
   "cell_type": "code",
   "execution_count": 11,
   "metadata": {},
   "outputs": [
    {
     "data": {
      "text/plain": [
       "0     [서울경찰청] 서초구에서 배회중인 이갑세씨(남,81세)를 찾습니다 -171cm,남색...\n",
       "1     [경기북부경찰청] 포천시에서 실종된 한말녀씨(여,76세)를 찾습니다 -140cm,4...\n",
       "2     [이천시] 오늘 15:30경 모가면 소사리 폐차장에서 화재 사고 발생. 검은 연기가...\n",
       "3     [서울경찰청] 강남구에서 실종된 이갑세씨(남,81세)를 찾습니다 -163cm,남색패...\n",
       "4     [인천경찰청] 부평구에서 실종된 조태용씨(남,79세)를 찾습니다 -160cm,50k...\n",
       "                            ...                        \n",
       "95    [경기북부경찰청] 구리시에서 실종된 정재훈씨(남,29세)를 찾습니다-165cm,68...\n",
       "96    [부산경찰청] 수영구에서 배회중인 장희영씨(남,83세)를 찾습니다-158cm,48k...\n",
       "97    [부산경찰청] 해운대구에서 실종된 장희영씨(남,83세)를 찾습니다-158cm,48k...\n",
       "98    [전남경찰청] 목포시에서 실종된 정혜영씨(여,74세)를 찾습니다-156cm,44kg...\n",
       "99    [서울경찰청] 노원구에서 배회중인 장영신씨(여,74세)를 찾습니다-158cm,60k...\n",
       "Name: msg, Length: 100, dtype: object"
      ]
     },
     "execution_count": 11,
     "metadata": {},
     "output_type": "execute_result"
    }
   ],
   "source": [
    "df.msg[:100]"
   ]
  },
  {
   "cell_type": "code",
   "execution_count": null,
   "metadata": {},
   "outputs": [],
   "source": [
    "\n",
    "df['keyword'] = df.msg.progress_apply(lambda x: kw_model.extract_keywords(x, keyphrase_ngram_range=(2,4), use_maxsum = True, top_n = 1))"
   ]
  }
 ],
 "metadata": {
  "kernelspec": {
   "display_name": "DL-torch",
   "language": "python",
   "name": "python3"
  },
  "language_info": {
   "codemirror_mode": {
    "name": "ipython",
    "version": 3
   },
   "file_extension": ".py",
   "mimetype": "text/x-python",
   "name": "python",
   "nbconvert_exporter": "python",
   "pygments_lexer": "ipython3",
   "version": "3.8.16"
  }
 },
 "nbformat": 4,
 "nbformat_minor": 2
}
